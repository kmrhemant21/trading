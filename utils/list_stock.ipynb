{
 "cells": [
  {
   "cell_type": "code",
   "execution_count": 4,
   "id": "cc339c4f",
   "metadata": {},
   "outputs": [
    {
     "name": "stdout",
     "output_type": "stream",
     "text": [
      "NIFTY Next 50 Symbols:\n",
      "['ABB.NS', 'ADANIENSOL.NS', 'ADANIGREEN.NS', 'ADANIPOWER.NS', 'AMBUJACEM.NS', 'DMART.NS', 'BAJAJHLDNG.NS', 'BAJAJHFL.NS', 'BANKBARODA.NS', 'BPCL.NS', 'BOSCHLTD.NS', 'BRITANNIA.NS', 'CGPOWER.NS', 'CANBK.NS', 'CHOLAFIN.NS', 'DLF.NS', 'DABUR.NS', 'DIVISLAB.NS', 'GAIL.NS', 'GODREJCP.NS', 'HAVELLS.NS', 'HAL.NS', 'HYUNDAI.NS', 'ICICIGI.NS', 'ICICIPRULI.NS', 'INDHOTEL.NS', 'IOC.NS', 'IRFC.NS', 'NAUKRI.NS', 'INDIGO.NS', 'JSWENERGY.NS', 'JINDALSTEL.NS', 'LTIM.NS', 'LICI.NS', 'LODHA.NS', 'PIDILITIND.NS', 'PFC.NS', 'PNB.NS', 'RECLTD.NS', 'MOTHERSON.NS', 'SHREECEM.NS', 'SIEMENS.NS', 'SWIGGY.NS', 'TVSMOTOR.NS', 'TATAPOWER.NS', 'TORNTPHARM.NS', 'UNITDSPR.NS', 'VBL.NS', 'VEDL.NS', 'ZYDUSLIFE.NS']\n",
      "\n",
      "NIFTY Next 50 Companies:\n",
      "['ABB India Ltd.', 'Adani Energy Solutions Ltd.', 'Adani Green Energy Ltd.', 'Adani Power Ltd.', 'Ambuja Cements Ltd.', 'Avenue Supermarts Ltd.', 'Bajaj Holdings & Investment Ltd.', 'Bajaj Housing Finance Ltd.', 'Bank of Baroda', 'Bharat Petroleum Corporation Ltd.', 'Bosch Ltd.', 'Britannia Industries Ltd.', 'CG Power and Industrial Solutions Ltd.', 'Canara Bank', 'Cholamandalam Investment and Finance Company Ltd.', 'DLF Ltd.', 'Dabur India Ltd.', \"Divi's Laboratories Ltd.\", 'GAIL (India) Ltd.', 'Godrej Consumer Products Ltd.', 'Havells India Ltd.', 'Hindustan Aeronautics Ltd.', 'Hyundai Motor India Ltd.', 'ICICI Lombard General Insurance Company Ltd.', 'ICICI Prudential Life Insurance Company Ltd.', 'Indian Hotels Co. Ltd.', 'Indian Oil Corporation Ltd.', 'Indian Railway Finance Corporation Ltd.', 'Info Edge (India) Ltd.', 'InterGlobe Aviation Ltd.', 'JSW Energy Ltd.', 'Jindal Steel Ltd.', 'LTIMindtree Ltd.', 'Life Insurance Corporation of India', 'Lodha Developers Ltd.', 'Pidilite Industries Ltd.', 'Power Finance Corporation Ltd.', 'Punjab National Bank', 'REC Ltd.', 'Samvardhana Motherson International Ltd.', 'Shree Cement Ltd.', 'Siemens Ltd.', 'Swiggy Ltd.', 'TVS Motor Company Ltd.', 'Tata Power Co. Ltd.', 'Torrent Pharmaceuticals Ltd.', 'United Spirits Ltd.', 'Varun Beverages Ltd.', 'Vedanta Ltd.', 'Zydus Lifesciences Ltd.']\n"
     ]
    }
   ],
   "source": [
    "# https://www.nseindia.com/market-data/live-market-indices\n",
    "import requests\n",
    "import pandas as pd\n",
    "from io import StringIO\n",
    "\n",
    "# 1. Configuration\n",
    "CSV_URL = \"https://nsearchives.nseindia.com/content/indices/ind_niftynext50list.csv\"\n",
    "# CSV_URL = \"https://nsearchives.nseindia.com/content/indices/ind_nifty50list.csv\"\n",
    "# CSV_URL = \"https://nsearchives.nseindia.com/content/indices/ind_niftybanklist.csv\"\n",
    "# CSV_URL = \"https://nsearchives.nseindia.com/content/indices/ind_nifty500list.csv\"\n",
    "# CSV_URL = \"https://nsearchives.nseindia.com/content/indices/ind_niftymidcap50list.csv\"\n",
    "HEADERS = {\n",
    "    \"User-Agent\": \"Mozilla/5.0 (Windows NT 10.0; Win64; x64)\",\n",
    "    \"Accept-Language\": \"en-US,en;q=0.9\",\n",
    "    \"Referer\": \"https://www.nseindia.com/market-data/live-market-indices\"\n",
    "}\n",
    "\n",
    "# 2. Warm up session to establish cookies\n",
    "session = requests.Session()\n",
    "session.headers.update(HEADERS)\n",
    "session.get(\"https://www.nseindia.com\", timeout=5)\n",
    "\n",
    "# 3. Download the CSV\n",
    "response = session.get(CSV_URL, timeout=10)\n",
    "response.raise_for_status()\n",
    "\n",
    "# 4. Parse into DataFrame\n",
    "df_next50 = pd.read_csv(StringIO(response.text))\n",
    "# print(df_next50.head())\n",
    "\n",
    "# 5. Extract and print symbols and company names\n",
    "symbols = df_next50[\"Symbol\"].tolist()\n",
    "companies = df_next50[\"Company Name\"].tolist()\n",
    "\n",
    "# Append \".NS\" to each symbol\n",
    "modified_symbols = [symbol + \".NS\" for symbol in symbols]\n",
    "print(\"NIFTY Next 50 Symbols:\")\n",
    "print(modified_symbols)\n",
    "\n",
    "print(\"\\nNIFTY Next 50 Companies:\")\n",
    "print(companies)\n"
   ]
  }
 ],
 "metadata": {
  "kernelspec": {
   "display_name": ".talib",
   "language": "python",
   "name": "python3"
  },
  "language_info": {
   "codemirror_mode": {
    "name": "ipython",
    "version": 3
   },
   "file_extension": ".py",
   "mimetype": "text/x-python",
   "name": "python",
   "nbconvert_exporter": "python",
   "pygments_lexer": "ipython3",
   "version": "3.12.8"
  }
 },
 "nbformat": 4,
 "nbformat_minor": 5
}
