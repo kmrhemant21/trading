{
 "cells": [
  {
   "cell_type": "code",
   "execution_count": 2,
   "id": "bfff35fd",
   "metadata": {},
   "outputs": [
    {
     "name": "stdout",
     "output_type": "stream",
     "text": [
      " Relativity is a theory proposed by Albert Einstein that explains how space, time, and matter are interconnected. There are two main parts to this theory: Special Relativity and General Relativity.\n",
      "\n",
      "1. **Special Relativity (SR)**: This was the first part of the theory, introduced in 1905. It describes how things move at constant speeds relative to each other. The most famous aspect of SR is the idea that the speed of light (the fastest speed possible) is always the same for all observers, no matter how fast they are moving relative to each other or to the light source. This leads to some strange phenomena like time dilation (moving clocks run slower) and length contraction (moving objects appear shorter).\n",
      "\n",
      "2. **General Relativity (GR)**: Introduced in 1915, General Relativity extends the principles of Special Relativity to include gravity. According to GR, massive objects cause a distortion or curvature in space-time around them, which we perceive as gravity. This means that a planet like Earth isn't actually pulling the Moon towards it – instead, the Moon is moving along a curved path through space-time due to Earth's mass.\n",
      "\n",
      "In simple words, Relativity tells us that things move relative to each other and that our perception of time can change depending on how fast we are moving or how much gravity we are experiencing. This has many fascinating implications for our understanding of the universe!\n",
      "Time taken: 162.35354280471802\n"
     ]
    }
   ],
   "source": [
    "import requests\n",
    "import time\n",
    "\n",
    "url = \"http://localhost:11434/api/generate\"\n",
    "payload = {\n",
    "    \"model\": \"mistral\",\n",
    "    \"prompt\": \"Explain relativity in simple words\",\n",
    "    \"stream\": False\n",
    "}\n",
    "\n",
    "start = time.time()\n",
    "response = requests.post(url, json=payload)\n",
    "print(response.json()[\"response\"])\n",
    "print(\"Time taken:\", time.time() - start)"
   ]
  }
 ],
 "metadata": {
  "kernelspec": {
   "display_name": ".venv",
   "language": "python",
   "name": "python3"
  },
  "language_info": {
   "codemirror_mode": {
    "name": "ipython",
    "version": 3
   },
   "file_extension": ".py",
   "mimetype": "text/x-python",
   "name": "python",
   "nbconvert_exporter": "python",
   "pygments_lexer": "ipython3",
   "version": "3.11.4"
  }
 },
 "nbformat": 4,
 "nbformat_minor": 5
}
