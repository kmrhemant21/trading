{
 "cells": [
  {
   "cell_type": "markdown",
   "id": "92ffe7ab",
   "metadata": {},
   "source": [
    "# TA-Lib Candlestick Scanner + Backtester (Swing Trading) — v4\n",
    "\n",
    "### What's fixed\n",
    "- Scanner returns the **most recent** valid pattern inside `recent_window` across *all* patterns.\n",
    "- Trend filter is evaluated **at the signal bar**.\n",
    "- Scan output includes **`Pattern Time`** for direct chart verification.\n"
   ]
  },
  {
   "cell_type": "markdown",
   "id": "0ba5afdd",
   "metadata": {},
   "source": [
    "## 1) Setup"
   ]
  },
  {
   "cell_type": "code",
   "execution_count": 1,
   "id": "da3b6707",
   "metadata": {},
   "outputs": [
    {
     "name": "stdout",
     "output_type": "stream",
     "text": [
      "OK: yfinance\n",
      "OK: pandas\n",
      "OK: numpy\n",
      "OK: matplotlib\n",
      "OK: TA-Lib available\n"
     ]
    }
   ],
   "source": [
    "import sys, subprocess, importlib\n",
    "\n",
    "def ensure(pkg, pip_name=None):\n",
    "    try:\n",
    "        importlib.import_module(pkg)\n",
    "        print(f\"OK: {pkg}\")\n",
    "    except ImportError:\n",
    "        name = pip_name or pkg\n",
    "        print(f\"Installing {name} ...\")\n",
    "        subprocess.check_call([sys.executable, \"-m\", \"pip\", \"install\", name])\n",
    "\n",
    "for p in [\"yfinance\", \"pandas\", \"numpy\", \"matplotlib\"]:\n",
    "    ensure(p)\n",
    "\n",
    "# TA-Lib\n",
    "try:\n",
    "    import talib as ta\n",
    "    print(\"OK: TA-Lib available\")\n",
    "except Exception:\n",
    "    print(\"TA-Lib not found, attempting pip install...\")\n",
    "    ensure(\"talib\", \"TA-Lib\")\n",
    "    import talib as ta\n",
    "\n",
    "import pandas as pd\n",
    "import numpy as np\n",
    "import yfinance as yf\n",
    "import math\n",
    "import json\n",
    "import matplotlib.pyplot as plt\n",
    "\n",
    "pd.set_option(\"display.max_rows\", 200)\n",
    "pd.set_option(\"display.width\", 160)"
   ]
  },
  {
   "cell_type": "markdown",
   "id": "45b71584",
   "metadata": {},
   "source": [
    "## 2) Parameters"
   ]
  },
  {
   "cell_type": "code",
   "execution_count": 2,
   "id": "22f8b4ef",
   "metadata": {},
   "outputs": [],
   "source": [
    "# >>>>>>>>>>>>>>>>>>>>>>>>>>>>>>>>>>>>>>>>>>>>>>>>>>>>>>>>>>>>>>>>>>>>>>>>>>>>>>>>>>\n",
    "symbols = [\"SIEMENS.NS\"]       # Replace with your tickers\n",
    "timeframe = \"1d\"               # '1d' or '4h'\n",
    "lookback_days = 1825\n",
    "\n",
    "recent_window = 3              # Scan last N candles for a fresh signal\n",
    "use_trend_filter_scanner = True\n",
    "\n",
    "# Backtest params (optional to use later)\n",
    "signal_set = \"bullish\"\n",
    "use_trend_filter_backtest = True\n",
    "allow_shorts = False\n",
    "\n",
    "atr_period = 14\n",
    "atr_sl_mult = 2.0\n",
    "atr_tp_mult = 2.0\n",
    "\n",
    "initial_equity = 100000.0\n",
    "risk_per_trade_pct = 1.0\n",
    "fees_bps_per_side = 10.0\n",
    "slippage_bps_per_side = 5.0\n",
    "max_holding_bars = 20\n",
    "# <<<<<<<<<<<<<<<<<<<<<<<<<<<<<<<<<<<<<<<<<<<<<<<<<<<<<<<<<<<<<<<<<<<<<<<<<<<<<<<<<\n",
    "\n",
    "assert timeframe in (\"1d\", \"4h\")\n",
    "assert signal_set in (\"bullish\", \"bearish\", \"both\")"
   ]
  },
  {
   "cell_type": "markdown",
   "id": "24c912f2",
   "metadata": {},
   "source": [
    "## 3) Helpers & TA-Lib Signals"
   ]
  },
  {
   "cell_type": "code",
   "execution_count": 3,
   "id": "fd420311",
   "metadata": {},
   "outputs": [],
   "source": [
    "def yf_params(timeframe: str, lookback_days: int):\n",
    "    if timeframe == \"1d\":\n",
    "        period = f\"{min(max(lookback_days, 2), 3650)}d\"\n",
    "        interval = \"1d\"\n",
    "    else:\n",
    "        period = \"60d\"\n",
    "        interval = \"4h\"\n",
    "    return dict(period=period, interval=interval)\n",
    "\n",
    "def fetch_ohlc(ticker: str, period: str, interval: str) -> pd.DataFrame:\n",
    "    df = yf.download(ticker, period=period, interval=interval, auto_adjust=False, progress=False)\n",
    "    if isinstance(df.columns, pd.MultiIndex):\n",
    "        try:\n",
    "            df = df.xs(ticker, axis=1, level=1)\n",
    "        except Exception:\n",
    "            pass\n",
    "    df = df.rename(columns={c: c.title() for c in df.columns}).dropna()\n",
    "    return df\n",
    "\n",
    "def series_slope(series: pd.Series, window: int = 5) -> pd.Series:\n",
    "    return series.rolling(window).apply(lambda x: np.polyfit(np.arange(len(x)), x, 1)[0], raw=True)\n",
    "\n",
    "def in_downtrend_series(df: pd.DataFrame, window: int = 5) -> pd.Series:\n",
    "    close = df['Close']; sma20 = close.rolling(20).mean(); sl = series_slope(close, window)\n",
    "    return (sl < 0) & (close < sma20)\n",
    "\n",
    "def in_uptrend_series(df: pd.DataFrame, window: int = 5) -> pd.Series:\n",
    "    close = df['Close']; sma20 = close.rolling(20).mean(); sl = series_slope(close, window)\n",
    "    return (sl > 0) & (close > sma20)"
   ]
  },
  {
   "cell_type": "code",
   "execution_count": 4,
   "id": "f4e892cd",
   "metadata": {},
   "outputs": [],
   "source": [
    "BULLISH_NAMES = [\"Bullish Engulfing\",\"Morning Star\",\"Hammer\",\"Piercing Line\",\"Three White Soldiers\",\"Bullish Harami\"]\n",
    "BEARISH_NAMES = [\"Bearish Engulfing\",\"Evening Star\",\"Shooting Star\",\"Dark Cloud Cover\",\"Three Black Crows\",\"Bearish Harami\"]\n",
    "\n",
    "PATTERN_CONTEXT = {\n",
    "    \"Bullish Engulfing\": \"End of a downtrend; second candle's body engulfs prior body — bullish reversal potential.\",\n",
    "    \"Morning Star\": \"Downtrend: red, small 'star', strong green — reversal.\",\n",
    "    \"Hammer\": \"Downtrend: long lower shadow rejects lows — reversal potential.\",\n",
    "    \"Piercing Line\": \"Downtrend: gap-down then close above prior midpoint — reversal.\",\n",
    "    \"Three White Soldiers\": \"Three strong advances after weakness — bullish continuation/reversal.\",\n",
    "    \"Bullish Harami\": \"Downtrend: small green within a large red — reversal potential.\",\n",
    "    \"Bearish Engulfing\": \"Uptrend: large red engulfs prior body — bearish reversal potential.\",\n",
    "    \"Evening Star\": \"Uptrend: green, small 'star', strong red — reversal.\",\n",
    "    \"Shooting Star\": \"Uptrend: long upper shadow rejects highs — reversal potential.\",\n",
    "    \"Dark Cloud Cover\": \"Uptrend: gap-up then close below prior midpoint — reversal.\",\n",
    "    \"Three Black Crows\": \"Three strong declines after strength — bearish continuation/reversal.\",\n",
    "    \"Bearish Harami\": \"Uptrend: small red within a large green — reversal potential.\",\n",
    "}"
   ]
  },
  {
   "cell_type": "code",
   "execution_count": 5,
   "id": "9441c7ce",
   "metadata": {},
   "outputs": [],
   "source": [
    "import talib as ta\n",
    "import pandas as pd\n",
    "import numpy as np\n",
    "\n",
    "def talib_signals(df: pd.DataFrame) -> pd.DataFrame:\n",
    "    o = df['Open'].values.astype(float)\n",
    "    h = df['High'].values.astype(float)\n",
    "    l = df['Low'].values.astype(float)\n",
    "    c = df['Close'].values.astype(float)\n",
    "\n",
    "    out = {}\n",
    "    out[\"Bullish Engulfing\"] = ta.CDLENGULFING(o,h,l,c)\n",
    "    out[\"Bearish Engulfing\"] = out[\"Bullish Engulfing\"]\n",
    "\n",
    "    out[\"Morning Star\"] = ta.CDLMORNINGSTAR(o,h,l,c)\n",
    "    out[\"Evening Star\"] = ta.CDLEVENINGSTAR(o,h,l,c)\n",
    "\n",
    "    out[\"Hammer\"] = ta.CDLHAMMER(o,h,l,c)\n",
    "    out[\"Shooting Star\"] = ta.CDLSHOOTINGSTAR(o,h,l,c)\n",
    "\n",
    "    out[\"Piercing Line\"] = ta.CDLPIERCING(o,h,l,c)\n",
    "    out[\"Dark Cloud Cover\"] = ta.CDLDARKCLOUDCOVER(o,h,l,c)\n",
    "\n",
    "    out[\"Three White Soldiers\"] = ta.CDL3WHITESOLDIERS(o,h,l,c)\n",
    "    out[\"Three Black Crows\"] = ta.CDL3BLACKCROWS(o,h,l,c)\n",
    "\n",
    "    out[\"Bullish Harami\"] = ta.CDLHARAMI(o,h,l,c)\n",
    "    out[\"Bearish Harami\"] = out[\"Bullish Harami\"]\n",
    "\n",
    "    sig = pd.DataFrame(out, index=df.index)\n",
    "    for col in sig.columns:\n",
    "        sig[col] = np.where(sig[col] > 0, 1, np.where(sig[col] < 0, -1, 0))\n",
    "    return sig"
   ]
  },
  {
   "cell_type": "markdown",
   "id": "876efbb1",
   "metadata": {},
   "source": [
    "## 4) Fixed Scanner"
   ]
  },
  {
   "cell_type": "code",
   "execution_count": 6,
   "id": "cf759acd",
   "metadata": {},
   "outputs": [
    {
     "data": {
      "text/html": [
       "<div>\n",
       "<style scoped>\n",
       "    .dataframe tbody tr th:only-of-type {\n",
       "        vertical-align: middle;\n",
       "    }\n",
       "\n",
       "    .dataframe tbody tr th {\n",
       "        vertical-align: top;\n",
       "    }\n",
       "\n",
       "    .dataframe thead th {\n",
       "        text-align: right;\n",
       "    }\n",
       "</style>\n",
       "<table border=\"1\" class=\"dataframe\">\n",
       "  <thead>\n",
       "    <tr style=\"text-align: right;\">\n",
       "      <th></th>\n",
       "      <th>Stock Symbol</th>\n",
       "      <th>Pattern Detected</th>\n",
       "      <th>Bullish/Bearish</th>\n",
       "      <th>Pattern Time</th>\n",
       "      <th>When this pattern usually forms</th>\n",
       "    </tr>\n",
       "  </thead>\n",
       "  <tbody>\n",
       "    <tr>\n",
       "      <th>0</th>\n",
       "      <td>SIEMENS.NS</td>\n",
       "      <td>Bearish Engulfing</td>\n",
       "      <td>Bearish</td>\n",
       "      <td>2025-09-04 00:00:00</td>\n",
       "      <td>Uptrend: large red engulfs prior body — bearis...</td>\n",
       "    </tr>\n",
       "  </tbody>\n",
       "</table>\n",
       "</div>"
      ],
      "text/plain": [
       "  Stock Symbol   Pattern Detected Bullish/Bearish         Pattern Time                    When this pattern usually forms\n",
       "0   SIEMENS.NS  Bearish Engulfing         Bearish  2025-09-04 00:00:00  Uptrend: large red engulfs prior body — bearis..."
      ]
     },
     "execution_count": 6,
     "metadata": {},
     "output_type": "execute_result"
    }
   ],
   "source": [
    "def find_latest_signal(df: pd.DataFrame, recent_window: int = 3, use_trend=True):\n",
    "    if len(df) < 30:\n",
    "        return None\n",
    "\n",
    "    sig_all = talib_signals(df)\n",
    "\n",
    "    # Precompute trend *series* (align with df)\n",
    "    down = in_downtrend_series(df).fillna(False)\n",
    "    up = in_uptrend_series(df).fillna(False)\n",
    "\n",
    "    start = max(0, len(df) - recent_window)\n",
    "    best = None  # dict with pattern, side, index\n",
    "\n",
    "    # Iterate all patterns and keep the most recent valid one\n",
    "    for name in (BULLISH_NAMES + BEARISH_NAMES):\n",
    "        vals = sig_all[name].values\n",
    "        for i in range(len(vals)-1, start-1, -1):\n",
    "            v = vals[i]\n",
    "            if v == 0:\n",
    "                continue\n",
    "            side = \"Bullish\" if name in BULLISH_NAMES else \"Bearish\"\n",
    "            # Harami sign check\n",
    "            if name == \"Bullish Harami\" and v < 0: \n",
    "                continue\n",
    "            if name == \"Bearish Harami\" and v > 0: \n",
    "                continue\n",
    "            # Trend filter at the signal bar\n",
    "            if use_trend:\n",
    "                if side == \"Bullish\" and not bool(down.iloc[i]):\n",
    "                    continue\n",
    "                if side == \"Bearish\" and not bool(up.iloc[i]):\n",
    "                    continue\n",
    "            if (best is None) or (i > best['index']):\n",
    "                best = dict(pattern=name, side=side, index=i, time=df.index[i], context=PATTERN_CONTEXT[name])\n",
    "    return best\n",
    "\n",
    "def run_scanner(symbols, timeframe, lookback_days, recent_window, use_trend):\n",
    "    yfp = yf_params(timeframe, lookback_days)\n",
    "    rows = []\n",
    "    for sym in symbols:\n",
    "        try:\n",
    "            df = fetch_ohlc(sym, **yfp)\n",
    "            if df.empty:\n",
    "                rows.append(dict(symbol=sym, pattern=\"No clear setup\", side=\"\", pattern_time=\"\", context=\"No data\"))\n",
    "                continue\n",
    "            sig = find_latest_signal(df, recent_window=recent_window, use_trend=use_trend)\n",
    "            if sig is None:\n",
    "                rows.append(dict(symbol=sym, pattern=\"No clear setup\", side=\"\", pattern_time=\"\", context=\"—\"))\n",
    "            else:\n",
    "                rows.append(dict(symbol=sym, pattern=sig['pattern'], side=sig['side'], pattern_time=str(sig['time']), context=sig['context']))\n",
    "        except Exception as e:\n",
    "            rows.append(dict(symbol=sym, pattern=\"Error\", side=\"\", pattern_time=\"\", context=str(e)))\n",
    "    res = pd.DataFrame(rows, columns=[\"symbol\",\"pattern\",\"side\",\"pattern_time\",\"context\"])\n",
    "    return res\n",
    "\n",
    "scan_results = run_scanner(symbols, timeframe, lookback_days, recent_window, use_trend_filter_scanner)\n",
    "scan_results = scan_results.rename(columns={\n",
    "    \"symbol\":\"Stock Symbol\",\n",
    "    \"pattern\":\"Pattern Detected\",\n",
    "    \"side\":\"Bullish/Bearish\",\n",
    "    \"pattern_time\":\"Pattern Time\",\n",
    "    \"context\":\"When this pattern usually forms\"\n",
    "})\n",
    "scan_results"
   ]
  },
  {
   "cell_type": "code",
   "execution_count": 7,
   "id": "aedee56d",
   "metadata": {},
   "outputs": [
    {
     "name": "stdout",
     "output_type": "stream",
     "text": [
      "Saved scan CSV: talib_candlestick_scan_1d.csv\n"
     ]
    }
   ],
   "source": [
    "# Save scan results with pattern time\n",
    "scan_csv = f\"talib_candlestick_scan_{timeframe}.csv\"\n",
    "scan_results.to_csv(scan_csv, index=False)\n",
    "print(f\"Saved scan CSV: {scan_csv}\")"
   ]
  }
 ],
 "metadata": {
  "kernelspec": {
   "display_name": ".talib",
   "language": "python",
   "name": "python3"
  },
  "language_info": {
   "codemirror_mode": {
    "name": "ipython",
    "version": 3
   },
   "file_extension": ".py",
   "mimetype": "text/x-python",
   "name": "python",
   "nbconvert_exporter": "python",
   "pygments_lexer": "ipython3",
   "version": "3.12.8"
  }
 },
 "nbformat": 4,
 "nbformat_minor": 5
}
