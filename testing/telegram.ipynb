{
 "cells": [
  {
   "cell_type": "code",
   "execution_count": 1,
   "id": "c36c79ee",
   "metadata": {},
   "outputs": [
    {
     "name": "stdout",
     "output_type": "stream",
     "text": [
      "Sent: {'ok': True, 'result': {'message_id': 10, 'from': {'id': 8230320738, 'is_bot': True, 'first_name': 'stockAlertByHemant', 'username': 'stockAlertByHemantBot'}, 'chat': {'id': -4815813126, 'title': 'Stock Alert', 'type': 'group', 'all_members_are_administrators': True, 'accepted_gift_types': {'unlimited_gifts': False, 'limited_gifts': False, 'unique_gifts': False, 'premium_subscription': False}}, 'date': 1758441225, 'text': 'Hello from Python 👋'}}\n"
     ]
    }
   ],
   "source": [
    "import os, requests\n",
    "\n",
    "TOKEN = os.environ.get(\"TG_BOT_TOKEN\", \"8230320738:AAEmc-U4jmsTFX6C_FszU6eLO2yu4qgaxJs\")\n",
    "CHAT_ID = os.environ.get(\"TG_CHAT_ID\", \"-4815813126\")  # e.g. 123456789 or -1001234567890\n",
    "TEXT = \"Hello from Python 👋\"\n",
    "\n",
    "url = f\"https://api.telegram.org/bot{TOKEN}/sendMessage\"\n",
    "payload = {\n",
    "    \"chat_id\": CHAT_ID,\n",
    "    \"text\": TEXT,\n",
    "    \"parse_mode\": \"Markdown\",              # or \"HTML\"\n",
    "    \"disable_web_page_preview\": True\n",
    "}\n",
    "r = requests.post(url, json=payload, timeout=10)\n",
    "r.raise_for_status()\n",
    "print(\"Sent:\", r.json())\n"
   ]
  }
 ],
 "metadata": {
  "kernelspec": {
   "display_name": ".talib",
   "language": "python",
   "name": "python3"
  },
  "language_info": {
   "codemirror_mode": {
    "name": "ipython",
    "version": 3
   },
   "file_extension": ".py",
   "mimetype": "text/x-python",
   "name": "python",
   "nbconvert_exporter": "python",
   "pygments_lexer": "ipython3",
   "version": "3.12.8"
  }
 },
 "nbformat": 4,
 "nbformat_minor": 5
}
