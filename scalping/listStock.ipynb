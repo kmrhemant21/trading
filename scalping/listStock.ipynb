{
 "cells": [
  {
   "cell_type": "code",
   "execution_count": 1,
   "id": "cc339c4f",
   "metadata": {},
   "outputs": [
    {
     "name": "stdout",
     "output_type": "stream",
     "text": [
      "NIFTY Next 50 Symbols:\n",
      "['ADANIENT', 'ADANIPORTS', 'APOLLOHOSP', 'ASIANPAINT', 'AXISBANK', 'BAJAJ-AUTO', 'BAJFINANCE', 'BAJAJFINSV', 'BEL', 'BHARTIARTL', 'CIPLA', 'COALINDIA', 'DRREDDY', 'EICHERMOT', 'ETERNAL', 'GRASIM', 'HCLTECH', 'HDFCBANK', 'HDFCLIFE', 'HEROMOTOCO', 'HINDALCO', 'HINDUNILVR', 'ICICIBANK', 'ITC', 'INDUSINDBK', 'INFY', 'JSWSTEEL', 'JIOFIN', 'KOTAKBANK', 'LT', 'M&M', 'MARUTI', 'NTPC', 'NESTLEIND', 'ONGC', 'POWERGRID', 'RELIANCE', 'SBILIFE', 'SHRIRAMFIN', 'SBIN', 'SUNPHARMA', 'TCS', 'TATACONSUM', 'TATAMOTORS', 'TATASTEEL', 'TECHM', 'TITAN', 'TRENT', 'ULTRACEMCO', 'WIPRO']\n",
      "\n",
      "NIFTY Next 50 Companies:\n",
      "['Adani Enterprises Ltd.', 'Adani Ports and Special Economic Zone Ltd.', 'Apollo Hospitals Enterprise Ltd.', 'Asian Paints Ltd.', 'Axis Bank Ltd.', 'Bajaj Auto Ltd.', 'Bajaj Finance Ltd.', 'Bajaj Finserv Ltd.', 'Bharat Electronics Ltd.', 'Bharti Airtel Ltd.', 'Cipla Ltd.', 'Coal India Ltd.', \"Dr. Reddy's Laboratories Ltd.\", 'Eicher Motors Ltd.', 'Eternal Ltd.', 'Grasim Industries Ltd.', 'HCL Technologies Ltd.', 'HDFC Bank Ltd.', 'HDFC Life Insurance Company Ltd.', 'Hero MotoCorp Ltd.', 'Hindalco Industries Ltd.', 'Hindustan Unilever Ltd.', 'ICICI Bank Ltd.', 'ITC Ltd.', 'IndusInd Bank Ltd.', 'Infosys Ltd.', 'JSW Steel Ltd.', 'Jio Financial Services Ltd.', 'Kotak Mahindra Bank Ltd.', 'Larsen & Toubro Ltd.', 'Mahindra & Mahindra Ltd.', 'Maruti Suzuki India Ltd.', 'NTPC Ltd.', 'Nestle India Ltd.', 'Oil & Natural Gas Corporation Ltd.', 'Power Grid Corporation of India Ltd.', 'Reliance Industries Ltd.', 'SBI Life Insurance Company Ltd.', 'Shriram Finance Ltd.', 'State Bank of India', 'Sun Pharmaceutical Industries Ltd.', 'Tata Consultancy Services Ltd.', 'Tata Consumer Products Ltd.', 'Tata Motors Ltd.', 'Tata Steel Ltd.', 'Tech Mahindra Ltd.', 'Titan Company Ltd.', 'Trent Ltd.', 'UltraTech Cement Ltd.', 'Wipro Ltd.']\n"
     ]
    }
   ],
   "source": [
    "# https://www.nseindia.com/market-data/live-market-indices\n",
    "import requests\n",
    "import pandas as pd\n",
    "from io import StringIO\n",
    "\n",
    "# 1. Configuration\n",
    "# CSV_URL = \"https://nsearchives.nseindia.com/content/indices/ind_niftynext50list.csv\"\n",
    "CSV_URL = \"https://nsearchives.nseindia.com/content/indices/ind_nifty50list.csv\"\n",
    "# CSV_URL = \"https://nsearchives.nseindia.com/content/indices/ind_niftybanklist.csv\"\n",
    "# CSV_URL = \"https://nsearchives.nseindia.com/content/indices/ind_nifty500list.csv\"\n",
    "# CSV_URL = \"https://nsearchives.nseindia.com/content/indices/ind_niftymidcap50list.csv\"\n",
    "HEADERS = {\n",
    "    \"User-Agent\": \"Mozilla/5.0 (Windows NT 10.0; Win64; x64)\",\n",
    "    \"Accept-Language\": \"en-US,en;q=0.9\",\n",
    "    \"Referer\": \"https://www.nseindia.com/market-data/live-market-indices\"\n",
    "}\n",
    "\n",
    "# 2. Warm up session to establish cookies\n",
    "session = requests.Session()\n",
    "session.headers.update(HEADERS)\n",
    "session.get(\"https://www.nseindia.com\", timeout=5)\n",
    "\n",
    "# 3. Download the CSV\n",
    "response = session.get(CSV_URL, timeout=10)\n",
    "response.raise_for_status()\n",
    "\n",
    "# 4. Parse into DataFrame\n",
    "df_next50 = pd.read_csv(StringIO(response.text))\n",
    "# print(df_next50.head())\n",
    "\n",
    "# 5. Extract and print symbols and company names\n",
    "symbols = df_next50[\"Symbol\"].tolist()\n",
    "companies = df_next50[\"Company Name\"].tolist()\n",
    "\n",
    "print(\"NIFTY Next 50 Symbols:\")\n",
    "print(symbols)\n",
    "\n",
    "print(\"\\nNIFTY Next 50 Companies:\")\n",
    "print(companies)\n"
   ]
  }
 ],
 "metadata": {
  "kernelspec": {
   "display_name": ".talib",
   "language": "python",
   "name": "python3"
  },
  "language_info": {
   "codemirror_mode": {
    "name": "ipython",
    "version": 3
   },
   "file_extension": ".py",
   "mimetype": "text/x-python",
   "name": "python",
   "nbconvert_exporter": "python",
   "pygments_lexer": "ipython3",
   "version": "3.12.8"
  }
 },
 "nbformat": 4,
 "nbformat_minor": 5
}
