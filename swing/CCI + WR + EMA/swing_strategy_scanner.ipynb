{
 "cells": [
  {
   "cell_type": "markdown",
   "id": "40b87512",
   "metadata": {},
   "source": [
    "\n",
    "# Swing Strategy Scanner — Williams %R + CCI + EMA (NIFTY500-ready)\n",
    "\n",
    "This notebook scans a list of stocks (e.g., the NIFTY500 universe) and filters those that currently satisfy the swing-trading strategy based on:\n",
    "- **Trend**: 50-day EMA\n",
    "- **Momentum Extremes**: Williams %R (14)\n",
    "- **Deviation Confirmation**: CCI (20)\n",
    "\n",
    "It produces two outputs:\n",
    "- `long_candidates.csv` — stocks meeting **long** setup conditions\n",
    "- `short_candidates.csv` — stocks meeting **short** setup conditions\n",
    "\n",
    "> The rules are implemented exactly as described in your uploaded strategy note.  fileciteturn0file0\n"
   ]
  },
  {
   "cell_type": "markdown",
   "id": "eee08376",
   "metadata": {},
   "source": [
    "## 1) Setup — install & imports"
   ]
  },
  {
   "cell_type": "code",
   "execution_count": 13,
   "id": "a43db725",
   "metadata": {},
   "outputs": [],
   "source": [
    "\n",
    "# If needed, uncomment and run:\n",
    "# %pip install pandas numpy yfinance\n",
    "\n",
    "import math, sys, os, warnings, json, time, datetime as dt\n",
    "from dataclasses import dataclass\n",
    "from typing import List, Tuple, Optional, Dict\n",
    "\n",
    "import numpy as np\n",
    "import pandas as pd\n",
    "import yfinance as yf  # data\n"
   ]
  },
  {
   "cell_type": "markdown",
   "id": "afdb5d8e",
   "metadata": {},
   "source": [
    "## 2) Parameters — universe & indicator settings"
   ]
  },
  {
   "cell_type": "code",
   "execution_count": 14,
   "id": "e6ad92bf",
   "metadata": {},
   "outputs": [],
   "source": [
    "\n",
    "# === Universe ===\n",
    "# Put your stock list here; for NSE, use '.NS' (e.g., RELIANCE.NS)\n",
    "TICKERS = ['ZENSARTECH.NS']\n",
    "\n",
    "HISTORY_START = \"2018-01-01\"\n",
    "MIN_BARS = 250  # require at least this many bars after indicators\n",
    "\n",
    "# === Indicators ===\n",
    "EMA_LEN = 50      # trend filter\n",
    "WR_LEN  = 14      # Williams %R\n",
    "CCI_LEN = 20      # CCI\n",
    "RECENT_LOOKBACK = 15  # \"recently crossed\" window for confirmations\n",
    "\n",
    "# === Output ===\n",
    "OUT_LONG  = \"long_candidates.csv\"\n",
    "OUT_SHORT = \"short_candidates.csv\"\n",
    "OUT_NONE  = \"no_signal_or_errors.csv\"\n"
   ]
  },
  {
   "cell_type": "markdown",
   "id": "a483789d",
   "metadata": {},
   "source": [
    "## 3) Indicator helpers"
   ]
  },
  {
   "cell_type": "code",
   "execution_count": 15,
   "id": "61a92093",
   "metadata": {},
   "outputs": [],
   "source": [
    "\n",
    "def ema(series: pd.Series, length: int) -> pd.Series:\n",
    "    return series.ewm(span=length, adjust=False, min_periods=length).mean()\n",
    "\n",
    "def williams_r(h: pd.Series, l: pd.Series, c: pd.Series, length: int) -> pd.Series:\n",
    "    hh = h.rolling(length).max()\n",
    "    ll = l.rolling(length).min()\n",
    "    return -100 * (hh - c) / (hh - ll)  # 0 to -100\n",
    "\n",
    "def cci(h: pd.Series, l: pd.Series, c: pd.Series, length: int) -> pd.Series:\n",
    "    typical = (h + l + c) / 3.0\n",
    "    sma = typical.rolling(length).mean()\n",
    "    mad = (typical - sma).abs().rolling(length).mean()\n",
    "    return (typical - sma) / (0.015 * mad)\n"
   ]
  },
  {
   "cell_type": "markdown",
   "id": "9da62152",
   "metadata": {},
   "source": [
    "## 4) Strategy logic — rules & helpers"
   ]
  },
  {
   "cell_type": "code",
   "execution_count": 16,
   "id": "4c5734e8",
   "metadata": {},
   "outputs": [],
   "source": [
    "\n",
    "@dataclass\n",
    "class SignalResult:\n",
    "    side: str              # \"LONG\" or \"SHORT\"\n",
    "    date: pd.Timestamp\n",
    "    close: float\n",
    "    ema50: float\n",
    "    wr14: float\n",
    "    cci20: float\n",
    "    notes: str\n",
    "\n",
    "def recent_cross_above(series: pd.Series, level: float, lookback: int) -> bool:\n",
    "    \"\"\"True if series moved from <= level to > level within 'lookback' bars and is > level now.\"\"\"\n",
    "    if len(series) < lookback + 2:\n",
    "        return False\n",
    "    wnd = series.iloc[-(lookback+1):]\n",
    "    crossed_before = (wnd.shift(1) <= level).any()\n",
    "    now_above = wnd.iloc[-1] > level\n",
    "    return bool(crossed_before and now_above)\n",
    "\n",
    "def recent_cross_below(series: pd.Series, level: float, lookback: int) -> bool:\n",
    "    \"\"\"True if series moved from >= level to < level within 'lookback' bars and is < level now.\"\"\"\n",
    "    if len(series) < lookback + 2:\n",
    "        return False\n",
    "    wnd = series.iloc[-(lookback+1):]\n",
    "    crossed_before = (wnd.shift(1) >= level).any()\n",
    "    now_below = wnd.iloc[-1] < level\n",
    "    return bool(crossed_before and now_below)\n",
    "\n",
    "def compute_indicators(hist: pd.DataFrame) -> pd.DataFrame:\n",
    "    df = hist.copy()\n",
    "    if df.empty:\n",
    "        return df\n",
    "    df[\"EMA50\"] = ema(df[\"Close\"], EMA_LEN)\n",
    "    df[\"WR14\"]  = williams_r(df[\"High\"], df[\"Low\"], df[\"Close\"], WR_LEN)\n",
    "    df[\"CCI20\"] = cci(df[\"High\"], df[\"Low\"], df[\"Close\"], CCI_LEN)\n",
    "    return df.dropna().copy()\n",
    "\n",
    "def scan_last_bar(df: pd.DataFrame) -> Tuple[bool, str, Optional[SignalResult]]:\n",
    "    \"\"\"Apply entry rules to the last bar only.\"\"\"\n",
    "    if df.empty: \n",
    "        return False, \"empty df\", None\n",
    "    last = df.iloc[-1]\n",
    "    close, ema50, wr, cci_val = float(last[\"Close\"]), float(last[\"EMA50\"]), float(last[\"WR14\"]), float(last[\"CCI20\"])\n",
    "    wr_series = df[\"WR14\"]\n",
    "    cci_series = df[\"CCI20\"]\n",
    "\n",
    "    # LONG: Uptrend + momentum turn after oversold\n",
    "    long_cond_trend = close > ema50\n",
    "    long_cond_wr = (wr_series.iloc[-RECENT_LOOKBACK:].min() < -80) and recent_cross_above(wr_series, -50, RECENT_LOOKBACK)\n",
    "    long_cond_cci = (cci_series.iloc[-RECENT_LOOKBACK:].min() < -100) and (cci_val >= -100)\n",
    "\n",
    "    if long_cond_trend and long_cond_wr and long_cond_cci:\n",
    "        return True, \"LONG\", SignalResult(\n",
    "            \"LONG\", df.index[-1], close, ema50, wr, cci_val,\n",
    "            \"Uptrend; %R<-80 then >-50; CCI<-100 then >=-100\"\n",
    "        )\n",
    "\n",
    "    # SHORT: Downtrend + momentum turn after overbought\n",
    "    short_cond_trend = close < ema50\n",
    "    short_cond_wr = (wr_series.iloc[-RECENT_LOOKBACK:].max() > -20) and recent_cross_below(wr_series, -50, RECENT_LOOKBACK)\n",
    "    short_cond_cci = (cci_series.iloc[-RECENT_LOOKBACK:].max() > +100) and (cci_val <= +100)\n",
    "\n",
    "    if short_cond_trend and short_cond_wr and short_cond_cci:\n",
    "        return True, \"SHORT\", SignalResult(\n",
    "            \"SHORT\", df.index[-1], close, ema50, wr, cci_val,\n",
    "            \"Downtrend; %R>-20 then <-50; CCI>+100 then <=+100\"\n",
    "        )\n",
    "\n",
    "    return False, \"NONE\", None\n"
   ]
  },
  {
   "cell_type": "markdown",
   "id": "7fdad87d",
   "metadata": {},
   "source": [
    "## 5) Data download — yfinance helper"
   ]
  },
  {
   "cell_type": "code",
   "execution_count": 17,
   "id": "0f92c332",
   "metadata": {},
   "outputs": [],
   "source": [
    "\n",
    "def get_hist(ticker: str, start: str) -> pd.DataFrame:\n",
    "    \"\"\"Download daily OHLCV for ticker since 'start'.\"\"\"\n",
    "    try:\n",
    "        df = yf.download(ticker, start=start, progress=False, auto_adjust=False, multi_level_index=False)\n",
    "        if df is None or df.empty:\n",
    "            return pd.DataFrame()\n",
    "        for col in [\"Open\",\"High\",\"Low\",\"Close\",\"Adj Close\",\"Volume\"]:\n",
    "            if col not in df.columns:\n",
    "                return pd.DataFrame()\n",
    "        return df\n",
    "    except Exception as e:\n",
    "        print(f\"[ERR] {ticker}: {e}\")\n",
    "        return pd.DataFrame()\n"
   ]
  },
  {
   "cell_type": "markdown",
   "id": "baa0d411",
   "metadata": {},
   "source": [
    "## 6) Run scanner — filter current signals & write CSVs"
   ]
  },
  {
   "cell_type": "code",
   "execution_count": 18,
   "id": "935ff039",
   "metadata": {},
   "outputs": [
    {
     "name": "stdout",
     "output_type": "stream",
     "text": [
      "\n",
      "=============================\n",
      "Long candidates (current bar)\n",
      "=============================\n"
     ]
    },
    {
     "data": {
      "text/html": [
       "<div>\n",
       "<style scoped>\n",
       "    .dataframe tbody tr th:only-of-type {\n",
       "        vertical-align: middle;\n",
       "    }\n",
       "\n",
       "    .dataframe tbody tr th {\n",
       "        vertical-align: top;\n",
       "    }\n",
       "\n",
       "    .dataframe thead th {\n",
       "        text-align: right;\n",
       "    }\n",
       "</style>\n",
       "<table border=\"1\" class=\"dataframe\">\n",
       "  <thead>\n",
       "    <tr style=\"text-align: right;\">\n",
       "      <th></th>\n",
       "      <th>Ticker</th>\n",
       "      <th>Date</th>\n",
       "      <th>Close</th>\n",
       "      <th>EMA50</th>\n",
       "      <th>WR14</th>\n",
       "      <th>CCI20</th>\n",
       "      <th>Notes</th>\n",
       "    </tr>\n",
       "  </thead>\n",
       "  <tbody>\n",
       "    <tr>\n",
       "      <th>0</th>\n",
       "      <td>ZENSARTECH.NS</td>\n",
       "      <td>2025-09-19</td>\n",
       "      <td>846.45</td>\n",
       "      <td>808.0233</td>\n",
       "      <td>-21.24</td>\n",
       "      <td>148.5</td>\n",
       "      <td>Uptrend; %R&lt;-80 then &gt;-50; CCI&lt;-100 then &gt;=-100</td>\n",
       "    </tr>\n",
       "  </tbody>\n",
       "</table>\n",
       "</div>"
      ],
      "text/plain": [
       "          Ticker        Date   Close     EMA50   WR14  CCI20  \\\n",
       "0  ZENSARTECH.NS  2025-09-19  846.45  808.0233 -21.24  148.5   \n",
       "\n",
       "                                             Notes  \n",
       "0  Uptrend; %R<-80 then >-50; CCI<-100 then >=-100  "
      ]
     },
     "metadata": {},
     "output_type": "display_data"
    },
    {
     "name": "stdout",
     "output_type": "stream",
     "text": [
      "No SHORT candidates on the latest bar.\n"
     ]
    }
   ],
   "source": [
    "\n",
    "rows_long, rows_short, rows_none = [], [], []\n",
    "\n",
    "for t in TICKERS:\n",
    "    hist = get_hist(t, HISTORY_START)\n",
    "    if hist.empty or len(hist) < MIN_BARS:\n",
    "        rows_none.append({\"Ticker\": t, \"Status\": \"insufficient data\"})\n",
    "        continue\n",
    "\n",
    "    df = compute_indicators(hist)\n",
    "    if df.empty or len(df) < MIN_BARS:\n",
    "        rows_none.append({\"Ticker\": t, \"Status\": \"insufficient bars post-indicator\"})\n",
    "        continue\n",
    "\n",
    "    ok, side, sig = scan_last_bar(df)\n",
    "    if not ok:\n",
    "        rows_none.append({\"Ticker\": t, \"Status\": side})\n",
    "        continue\n",
    "\n",
    "    row = {\n",
    "        \"Ticker\": t,\n",
    "        \"Date\": sig.date.date(),\n",
    "        \"Close\": round(sig.close, 4),\n",
    "        \"EMA50\": round(sig.ema50, 4),\n",
    "        \"WR14\": round(sig.wr14, 2),\n",
    "        \"CCI20\": round(sig.cci20, 1),\n",
    "        \"Notes\": sig.notes\n",
    "    }\n",
    "    if sig.side == \"LONG\":\n",
    "        rows_long.append(row)\n",
    "    elif sig.side == \"SHORT\":\n",
    "        rows_short.append(row)\n",
    "\n",
    "# Save CSVs\n",
    "if rows_long:\n",
    "    pd.DataFrame(rows_long).sort_values([\"Date\",\"Ticker\"]).to_csv(OUT_LONG, index=False)\n",
    "if rows_short:\n",
    "    pd.DataFrame(rows_short).sort_values([\"Date\",\"Ticker\"]).to_csv(OUT_SHORT, index=False)\n",
    "if rows_none:\n",
    "    pd.DataFrame(rows_none).to_csv(OUT_NONE, index=False)\n",
    "\n",
    "# Display summaries (plain pandas)\n",
    "def _show(df, title):\n",
    "    print(\"\\n\" + \"=\"*len(title))\n",
    "    print(title)\n",
    "    print(\"=\"*len(title))\n",
    "    display(df)\n",
    "\n",
    "if rows_long:\n",
    "    _show(pd.DataFrame(rows_long).sort_values([\"Date\",\"Ticker\"]), \"Long candidates (current bar)\")\n",
    "else:\n",
    "    print(\"No LONG candidates on the latest bar.\")\n",
    "\n",
    "if rows_short:\n",
    "    _show(pd.DataFrame(rows_short).sort_values([\"Date\",\"Ticker\"]), \"Short candidates (current bar)\")\n",
    "else:\n",
    "    print(\"No SHORT candidates on the latest bar.\")\n",
    "\n",
    "if rows_none:\n",
    "    _show(pd.DataFrame(rows_none), \"No-signal or errors\")\n"
   ]
  },
  {
   "cell_type": "markdown",
   "id": "0244e87a",
   "metadata": {},
   "source": [
    "\n",
    "## 7) Notes & Adjustments\n",
    "\n",
    "- **Lookback logic**: We check that %R/CCI reached an extreme *recently* and has now flipped back through a mid-zone threshold (−50 for %R, ±100 for CCI) in the trend’s direction.\n",
    "- **Recency window**: `RECENT_LOOKBACK = 15` bars by default. Increase it to be more forgiving; decrease to be stricter.\n",
    "- **Trend filter**: 50-EMA is used as the intermediate trend for a 3–4 week horizon.\n",
    "- **Liquidity**: You said _no constraints_ on price/volume. You can optionally add a liquidity filter (e.g., `Volume` median > some threshold) before scanning.\n",
    "- **Execution**: Signals are evaluated on the **latest bar** only to make a clean actionable list.\n",
    "- **Backtest**: If you’d like, I can extend this notebook with a simple vectorized backtest with ~20 trading-day hold and protective stop.\n"
   ]
  }
 ],
 "metadata": {
  "kernelspec": {
   "display_name": ".talib",
   "language": "python",
   "name": "python3"
  },
  "language_info": {
   "codemirror_mode": {
    "name": "ipython",
    "version": 3
   },
   "file_extension": ".py",
   "mimetype": "text/x-python",
   "name": "python",
   "nbconvert_exporter": "python",
   "pygments_lexer": "ipython3",
   "version": "3.12.8"
  }
 },
 "nbformat": 4,
 "nbformat_minor": 5
}
