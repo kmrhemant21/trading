{
 "cells": [
  {
   "cell_type": "markdown",
   "id": "ae7a8560",
   "metadata": {},
   "source": [
    "# EMA(20,50,200) + ADX Backtest Notebook — Patched\n",
    "\n",
    "Patched version: uses custom indicator implementations (no `pandas_ta`) and safe signal generation. Fully parameterized — edit the **Parameters** cell and run top-to-bottom.\n",
    "\n",
    "**Changes in this patched notebook:**\n",
    "- Custom EMA/ATR/ADX implementations using pandas/numpy (Wilder smoothing for ATR and ADX).\n",
    "- Defensive handling of NaNs and early rows; notebook drops initial rows where indicators are incomplete.\n",
    "- `backtest_universe_custom()` runs the patched workflow.\n",
    "\n",
    "---\n",
    "\n",
    "Run the setup cell to install dependencies, then run all cells.\n"
   ]
  },
  {
   "cell_type": "code",
   "execution_count": 37,
   "id": "854dcfd0",
   "metadata": {},
   "outputs": [],
   "source": [
    "# ----------------------------\n",
    "# PARAMETERS (edit these)\n",
    "# ----------------------------\n",
    "STOCKS = ['SBICARD.NS', 'BDL.NS', 'INDHOTEL.NS', 'BSE.NS', 'NYKAA.NS', 'BAJFINANCE.NS', 'PAYTM.NS', 'SOLARINDS.NS', 'CHOLAFIN.NS', 'UNITDSPR.NS', 'DIVISLAB.NS', 'MUTHOOTFIN.NS', 'BHARTIARTL.NS', 'ICICIBANK.NS', 'MAZDOCK.NS', 'SHREECEM.NS', 'DIXON.NS', 'PERSISTENT.NS', 'SRF.NS', 'TVSMOTOR.NS', 'SBILIFE.NS', 'MAXHEALTH.NS', 'MFSL.NS', 'COFORGE.NS', 'HDFCLIFE.NS', 'INDIGO.NS', 'KOTAKBANK.NS', 'HDFCBANK.NS', 'BEL.NS', 'BAJAJFINSV.NS']\n",
    "\n",
    "START_DATE = '2018-01-01'\n",
    "END_DATE = '2025-09-19'                # change as needed\n",
    "TIMEFRAME = '1d'                       # yfinance uses '1d' for daily. (This notebook expects daily bars)\n",
    "ADX_THRESHOLD = 25                     # ADX filter\n",
    "ATR_LENGTH = 14\n",
    "ATR_MULTIPLIER = 1.0                   # stop = entry - ATR*mult for long (and + for short)\n",
    "RISK_PER_TRADE = 0.01                  # fraction of equity to risk per trade (1% default)\n",
    "INITIAL_CAPITAL = 100000.0             # starting capital in INR (or chosen currency)\n",
    "MAX_HOLD_DAYS = 10                     # optional: force exit after N trading days\n",
    "TAKE_PROFIT_RR = 2.0                   # optional fixed target in R:R (e.g., 2.0 means 2x risk)\n",
    "USE_SHORTS = True                      # enable short trades\n",
    "BROKERAGE_PER_TRADE = 20.0             # flat brokerage per trade (INR) – adjust for your broker\n",
    "SLIPPAGE_PCT = 0.0005                  # 0.05% slippage\n",
    "PRINT_PROGRESS = True                  # show progress while backtesting\n",
    "# ----------------------------\n"
   ]
  },
  {
   "cell_type": "code",
   "execution_count": 38,
   "id": "52178091",
   "metadata": {},
   "outputs": [],
   "source": [
    "# Install required libraries (run this cell once)\n",
    "# !pip install yfinance matplotlib pandas numpy --quiet\n",
    "\n",
    "import yfinance as yf\n",
    "import pandas as pd\n",
    "import numpy as np\n",
    "import matplotlib.pyplot as plt\n",
    "from datetime import timedelta\n",
    "import math\n"
   ]
  },
  {
   "cell_type": "code",
   "execution_count": 39,
   "id": "79ad7095",
   "metadata": {},
   "outputs": [
    {
     "name": "stdout",
     "output_type": "stream",
     "text": [
      "Sanity check: downloading first ticker...\n",
      "Downloaded rows: 1367\n"
     ]
    },
    {
     "data": {
      "text/html": [
       "<div>\n",
       "<style scoped>\n",
       "    .dataframe tbody tr th:only-of-type {\n",
       "        vertical-align: middle;\n",
       "    }\n",
       "\n",
       "    .dataframe tbody tr th {\n",
       "        vertical-align: top;\n",
       "    }\n",
       "\n",
       "    .dataframe thead th {\n",
       "        text-align: right;\n",
       "    }\n",
       "</style>\n",
       "<table border=\"1\" class=\"dataframe\">\n",
       "  <thead>\n",
       "    <tr style=\"text-align: right;\">\n",
       "      <th></th>\n",
       "      <th>Open</th>\n",
       "      <th>High</th>\n",
       "      <th>Low</th>\n",
       "      <th>Close</th>\n",
       "      <th>Adj_Close</th>\n",
       "      <th>Volume</th>\n",
       "    </tr>\n",
       "    <tr>\n",
       "      <th>Date</th>\n",
       "      <th></th>\n",
       "      <th></th>\n",
       "      <th></th>\n",
       "      <th></th>\n",
       "      <th></th>\n",
       "      <th></th>\n",
       "    </tr>\n",
       "  </thead>\n",
       "  <tbody>\n",
       "    <tr>\n",
       "      <th>2020-03-16</th>\n",
       "      <td>651.218447</td>\n",
       "      <td>743.827424</td>\n",
       "      <td>646.292437</td>\n",
       "      <td>671.316589</td>\n",
       "      <td>671.316589</td>\n",
       "      <td>60887005</td>\n",
       "    </tr>\n",
       "    <tr>\n",
       "      <th>2020-03-17</th>\n",
       "      <td>680.774468</td>\n",
       "      <td>736.881725</td>\n",
       "      <td>678.804064</td>\n",
       "      <td>720.084045</td>\n",
       "      <td>720.084045</td>\n",
       "      <td>15145135</td>\n",
       "    </tr>\n",
       "    <tr>\n",
       "      <th>2020-03-18</th>\n",
       "      <td>740.970323</td>\n",
       "      <td>757.620259</td>\n",
       "      <td>669.937290</td>\n",
       "      <td>679.001160</td>\n",
       "      <td>679.001160</td>\n",
       "      <td>8949832</td>\n",
       "    </tr>\n",
       "    <tr>\n",
       "      <th>2020-03-19</th>\n",
       "      <td>650.233309</td>\n",
       "      <td>706.389823</td>\n",
       "      <td>640.381290</td>\n",
       "      <td>681.809021</td>\n",
       "      <td>681.809021</td>\n",
       "      <td>6432046</td>\n",
       "    </tr>\n",
       "    <tr>\n",
       "      <th>2020-03-20</th>\n",
       "      <td>695.798814</td>\n",
       "      <td>719.197358</td>\n",
       "      <td>680.035584</td>\n",
       "      <td>713.778748</td>\n",
       "      <td>713.778748</td>\n",
       "      <td>6492226</td>\n",
       "    </tr>\n",
       "  </tbody>\n",
       "</table>\n",
       "</div>"
      ],
      "text/plain": [
       "                  Open        High         Low       Close   Adj_Close  \\\n",
       "Date                                                                     \n",
       "2020-03-16  651.218447  743.827424  646.292437  671.316589  671.316589   \n",
       "2020-03-17  680.774468  736.881725  678.804064  720.084045  720.084045   \n",
       "2020-03-18  740.970323  757.620259  669.937290  679.001160  679.001160   \n",
       "2020-03-19  650.233309  706.389823  640.381290  681.809021  681.809021   \n",
       "2020-03-20  695.798814  719.197358  680.035584  713.778748  713.778748   \n",
       "\n",
       "              Volume  \n",
       "Date                  \n",
       "2020-03-16  60887005  \n",
       "2020-03-17  15145135  \n",
       "2020-03-18   8949832  \n",
       "2020-03-19   6432046  \n",
       "2020-03-20   6492226  "
      ]
     },
     "execution_count": 39,
     "metadata": {},
     "output_type": "execute_result"
    }
   ],
   "source": [
    "# Robust data download helper (normalizes column names)\n",
    "def download_stock(ticker, start, end, interval='1d', threads=True):\n",
    "    df = yf.download(ticker, start=start, end=end, interval=interval, progress=False, multi_level_index=False, auto_adjust=True)\n",
    "    if df is None or df.empty:\n",
    "        raise ValueError(f'No data for {ticker} from {start} to {end}')\n",
    "    # Normalize columns\n",
    "    col_map = {}\n",
    "    cols = list(df.columns)\n",
    "    # map common variants\n",
    "    for c in cols:\n",
    "        lc = c.lower()\n",
    "        if 'open' in lc:\n",
    "            col_map[c] = 'Open'\n",
    "        elif 'high' in lc:\n",
    "            col_map[c] = 'High'\n",
    "        elif 'low' in lc:\n",
    "            col_map[c] = 'Low'\n",
    "        elif 'close' in lc and 'adj' not in lc:\n",
    "            col_map[c] = 'Close'\n",
    "        elif 'adj' in lc and 'close' in lc:\n",
    "            col_map[c] = 'Adj_Close'\n",
    "        elif 'volume' in lc:\n",
    "            col_map[c] = 'Volume'\n",
    "    df = df.rename(columns=col_map)\n",
    "    # fallbacks\n",
    "    if 'Adj_Close' not in df.columns:\n",
    "        if 'Close' in df.columns:\n",
    "            df['Adj_Close'] = df['Close']\n",
    "        else:\n",
    "            raise KeyError(\"Downloaded data missing Close/Adj Close columns.\")\n",
    "    required = ['Open','High','Low','Close','Adj_Close','Volume']\n",
    "    missing = [c for c in required if c not in df.columns]\n",
    "    if missing:\n",
    "        raise KeyError(f\"Missing columns after normalization: {missing}. Found: {df.columns.tolist()}\")\n",
    "    df = df[['Open','High','Low','Close','Adj_Close','Volume']].copy()\n",
    "    if not isinstance(df.index, pd.DatetimeIndex):\n",
    "        df.index = pd.to_datetime(df.index)\n",
    "    return df\n",
    "\n",
    "# quick check (safe)\n",
    "print('Sanity check: downloading first ticker...')\n",
    "_sample = download_stock(STOCKS[0], START_DATE, END_DATE, TIMEFRAME)\n",
    "print('Downloaded rows:', len(_sample))\n",
    "_sample.head()\n"
   ]
  },
  {
   "cell_type": "code",
   "execution_count": 40,
   "id": "92af5850",
   "metadata": {},
   "outputs": [
    {
     "data": {
      "text/html": [
       "<div>\n",
       "<style scoped>\n",
       "    .dataframe tbody tr th:only-of-type {\n",
       "        vertical-align: middle;\n",
       "    }\n",
       "\n",
       "    .dataframe tbody tr th {\n",
       "        vertical-align: top;\n",
       "    }\n",
       "\n",
       "    .dataframe thead th {\n",
       "        text-align: right;\n",
       "    }\n",
       "</style>\n",
       "<table border=\"1\" class=\"dataframe\">\n",
       "  <thead>\n",
       "    <tr style=\"text-align: right;\">\n",
       "      <th></th>\n",
       "      <th>Close</th>\n",
       "      <th>EMA20</th>\n",
       "      <th>EMA50</th>\n",
       "      <th>EMA200</th>\n",
       "      <th>ATR</th>\n",
       "      <th>ADX</th>\n",
       "    </tr>\n",
       "    <tr>\n",
       "      <th>Date</th>\n",
       "      <th></th>\n",
       "      <th></th>\n",
       "      <th></th>\n",
       "      <th></th>\n",
       "      <th></th>\n",
       "      <th></th>\n",
       "    </tr>\n",
       "  </thead>\n",
       "  <tbody>\n",
       "    <tr>\n",
       "      <th>2025-09-12</th>\n",
       "      <td>856.150024</td>\n",
       "      <td>821.747695</td>\n",
       "      <td>840.323270</td>\n",
       "      <td>838.480289</td>\n",
       "      <td>18.654827</td>\n",
       "      <td>23.028037</td>\n",
       "    </tr>\n",
       "    <tr>\n",
       "      <th>2025-09-15</th>\n",
       "      <td>900.049988</td>\n",
       "      <td>829.205057</td>\n",
       "      <td>842.665495</td>\n",
       "      <td>839.092923</td>\n",
       "      <td>21.283055</td>\n",
       "      <td>24.988881</td>\n",
       "    </tr>\n",
       "    <tr>\n",
       "      <th>2025-09-16</th>\n",
       "      <td>896.549988</td>\n",
       "      <td>835.618860</td>\n",
       "      <td>844.778612</td>\n",
       "      <td>839.664635</td>\n",
       "      <td>20.769977</td>\n",
       "      <td>26.880318</td>\n",
       "    </tr>\n",
       "    <tr>\n",
       "      <th>2025-09-17</th>\n",
       "      <td>893.299988</td>\n",
       "      <td>841.112300</td>\n",
       "      <td>846.681411</td>\n",
       "      <td>840.198320</td>\n",
       "      <td>20.357836</td>\n",
       "      <td>28.564643</td>\n",
       "    </tr>\n",
       "    <tr>\n",
       "      <th>2025-09-18</th>\n",
       "      <td>891.700012</td>\n",
       "      <td>845.930178</td>\n",
       "      <td>848.446846</td>\n",
       "      <td>840.710775</td>\n",
       "      <td>20.175133</td>\n",
       "      <td>29.236415</td>\n",
       "    </tr>\n",
       "  </tbody>\n",
       "</table>\n",
       "</div>"
      ],
      "text/plain": [
       "                 Close       EMA20       EMA50      EMA200        ATR  \\\n",
       "Date                                                                    \n",
       "2025-09-12  856.150024  821.747695  840.323270  838.480289  18.654827   \n",
       "2025-09-15  900.049988  829.205057  842.665495  839.092923  21.283055   \n",
       "2025-09-16  896.549988  835.618860  844.778612  839.664635  20.769977   \n",
       "2025-09-17  893.299988  841.112300  846.681411  840.198320  20.357836   \n",
       "2025-09-18  891.700012  845.930178  848.446846  840.710775  20.175133   \n",
       "\n",
       "                  ADX  \n",
       "Date                   \n",
       "2025-09-12  23.028037  \n",
       "2025-09-15  24.988881  \n",
       "2025-09-16  26.880318  \n",
       "2025-09-17  28.564643  \n",
       "2025-09-18  29.236415  "
      ]
     },
     "execution_count": 40,
     "metadata": {},
     "output_type": "execute_result"
    }
   ],
   "source": [
    "# ---------------------------\n",
    "# Custom indicator implementations (no pandas_ta)\n",
    "# ---------------------------\n",
    "def ema(series, length):\n",
    "    return series.ewm(span=length, adjust=False).mean()\n",
    "\n",
    "def true_range(df):\n",
    "    high = df['High']\n",
    "    low = df['Low']\n",
    "    prev_close = df['Close'].shift(1)\n",
    "    tr1 = high - low\n",
    "    tr2 = (high - prev_close).abs()\n",
    "    tr3 = (low - prev_close).abs()\n",
    "    tr = pd.concat([tr1, tr2, tr3], axis=1).max(axis=1)\n",
    "    return tr\n",
    "\n",
    "def atr(df, length=14):\n",
    "    tr = true_range(df)\n",
    "    return tr.ewm(alpha=1/length, adjust=False).mean()\n",
    "\n",
    "def directional_movements(df):\n",
    "    up_move = df['High'] - df['High'].shift(1)\n",
    "    down_move = df['Low'].shift(1) - df['Low']\n",
    "    plus_dm = np.where((up_move > down_move) & (up_move > 0), up_move, 0.0)\n",
    "    minus_dm = np.where((down_move > up_move) & (down_move > 0), down_move, 0.0)\n",
    "    plus_dm = pd.Series(plus_dm, index=df.index)\n",
    "    minus_dm = pd.Series(minus_dm, index=df.index)\n",
    "    return plus_dm, minus_dm\n",
    "\n",
    "def adx(df, length=14):\n",
    "    tr = true_range(df)\n",
    "    atr_series = tr.ewm(alpha=1/length, adjust=False).mean()\n",
    "    plus_dm, minus_dm = directional_movements(df)\n",
    "    plus_dm_smooth = plus_dm.ewm(alpha=1/length, adjust=False).mean()\n",
    "    minus_dm_smooth = minus_dm.ewm(alpha=1/length, adjust=False).mean()\n",
    "    di_plus = 100 * (plus_dm_smooth / atr_series).replace([np.inf, -np.inf], 0).fillna(0)\n",
    "    di_minus = 100 * (minus_dm_smooth / atr_series).replace([np.inf, -np.inf], 0).fillna(0)\n",
    "    dx = ( (di_plus - di_minus).abs() / (di_plus + di_minus).replace(0, np.nan) ) * 100\n",
    "    dx = dx.replace([np.inf, -np.inf], np.nan).fillna(0)\n",
    "    adx_series = dx.ewm(alpha=1/length, adjust=False).mean()\n",
    "    out = pd.DataFrame({'ADX': adx_series, 'DI+': di_plus, 'DI-': di_minus}, index=df.index)\n",
    "    return out\n",
    "\n",
    "def add_indicators_custom(df):\n",
    "    df = df.copy()\n",
    "    df['EMA20'] = ema(df['Close'], 20)\n",
    "    df['EMA50'] = ema(df['Close'], 50)\n",
    "    df['EMA200'] = ema(df['Close'], 200)\n",
    "    df['ATR'] = atr(df, ATR_LENGTH)\n",
    "    adx_df = adx(df, 14)\n",
    "    df['ADX'] = adx_df['ADX']\n",
    "    df['DI+'] = adx_df['DI+']\n",
    "    df['DI-'] = adx_df['DI-']\n",
    "    return df\n",
    "\n",
    "# test\n",
    "_sample = add_indicators_custom(_sample)\n",
    "_sample[['Close','EMA20','EMA50','EMA200','ATR','ADX']].tail()\n"
   ]
  },
  {
   "cell_type": "code",
   "execution_count": 41,
   "id": "ceb2b7bf",
   "metadata": {},
   "outputs": [
    {
     "name": "stderr",
     "output_type": "stream",
     "text": [
      "/var/folders/mn/tx231v5158797chnp22wm9000000gp/T/ipykernel_85415/3657023606.py:5: FutureWarning: Downcasting object dtype arrays on .fillna, .ffill, .bfill is deprecated and will change in a future version. Call result.infer_objects(copy=False) instead. To opt-in to the future behavior, set `pd.set_option('future.no_silent_downcasting', True)`\n",
      "  df['EMA20_gt_EMA50_prev'] = df['EMA20_gt_EMA50'].shift(1).fillna(False)\n"
     ]
    },
    {
     "data": {
      "text/html": [
       "<div>\n",
       "<style scoped>\n",
       "    .dataframe tbody tr th:only-of-type {\n",
       "        vertical-align: middle;\n",
       "    }\n",
       "\n",
       "    .dataframe tbody tr th {\n",
       "        vertical-align: top;\n",
       "    }\n",
       "\n",
       "    .dataframe thead th {\n",
       "        text-align: right;\n",
       "    }\n",
       "</style>\n",
       "<table border=\"1\" class=\"dataframe\">\n",
       "  <thead>\n",
       "    <tr style=\"text-align: right;\">\n",
       "      <th></th>\n",
       "      <th>Close</th>\n",
       "      <th>EMA20</th>\n",
       "      <th>EMA50</th>\n",
       "      <th>EMA200</th>\n",
       "      <th>ADX</th>\n",
       "      <th>signal_long</th>\n",
       "      <th>signal_short</th>\n",
       "    </tr>\n",
       "    <tr>\n",
       "      <th>Date</th>\n",
       "      <th></th>\n",
       "      <th></th>\n",
       "      <th></th>\n",
       "      <th></th>\n",
       "      <th></th>\n",
       "      <th></th>\n",
       "      <th></th>\n",
       "    </tr>\n",
       "  </thead>\n",
       "  <tbody>\n",
       "    <tr>\n",
       "      <th>2025-09-05</th>\n",
       "      <td>791.450012</td>\n",
       "      <td>809.759352</td>\n",
       "      <td>840.704544</td>\n",
       "      <td>838.516329</td>\n",
       "      <td>22.571011</td>\n",
       "      <td>False</td>\n",
       "      <td>False</td>\n",
       "    </tr>\n",
       "    <tr>\n",
       "      <th>2025-09-08</th>\n",
       "      <td>803.849976</td>\n",
       "      <td>809.196554</td>\n",
       "      <td>839.259267</td>\n",
       "      <td>838.171390</td>\n",
       "      <td>21.801190</td>\n",
       "      <td>False</td>\n",
       "      <td>False</td>\n",
       "    </tr>\n",
       "    <tr>\n",
       "      <th>2025-09-09</th>\n",
       "      <td>819.349976</td>\n",
       "      <td>810.163547</td>\n",
       "      <td>838.478511</td>\n",
       "      <td>837.984112</td>\n",
       "      <td>20.327207</td>\n",
       "      <td>False</td>\n",
       "      <td>False</td>\n",
       "    </tr>\n",
       "    <tr>\n",
       "      <th>2025-09-10</th>\n",
       "      <td>854.400024</td>\n",
       "      <td>814.376545</td>\n",
       "      <td>839.102884</td>\n",
       "      <td>838.147455</td>\n",
       "      <td>21.014780</td>\n",
       "      <td>False</td>\n",
       "      <td>False</td>\n",
       "    </tr>\n",
       "    <tr>\n",
       "      <th>2025-09-11</th>\n",
       "      <td>853.750000</td>\n",
       "      <td>818.126398</td>\n",
       "      <td>839.677280</td>\n",
       "      <td>838.302704</td>\n",
       "      <td>22.116120</td>\n",
       "      <td>False</td>\n",
       "      <td>False</td>\n",
       "    </tr>\n",
       "    <tr>\n",
       "      <th>2025-09-12</th>\n",
       "      <td>856.150024</td>\n",
       "      <td>821.747695</td>\n",
       "      <td>840.323270</td>\n",
       "      <td>838.480289</td>\n",
       "      <td>23.028037</td>\n",
       "      <td>False</td>\n",
       "      <td>False</td>\n",
       "    </tr>\n",
       "    <tr>\n",
       "      <th>2025-09-15</th>\n",
       "      <td>900.049988</td>\n",
       "      <td>829.205057</td>\n",
       "      <td>842.665495</td>\n",
       "      <td>839.092923</td>\n",
       "      <td>24.988881</td>\n",
       "      <td>False</td>\n",
       "      <td>False</td>\n",
       "    </tr>\n",
       "    <tr>\n",
       "      <th>2025-09-16</th>\n",
       "      <td>896.549988</td>\n",
       "      <td>835.618860</td>\n",
       "      <td>844.778612</td>\n",
       "      <td>839.664635</td>\n",
       "      <td>26.880318</td>\n",
       "      <td>False</td>\n",
       "      <td>False</td>\n",
       "    </tr>\n",
       "    <tr>\n",
       "      <th>2025-09-17</th>\n",
       "      <td>893.299988</td>\n",
       "      <td>841.112300</td>\n",
       "      <td>846.681411</td>\n",
       "      <td>840.198320</td>\n",
       "      <td>28.564643</td>\n",
       "      <td>False</td>\n",
       "      <td>False</td>\n",
       "    </tr>\n",
       "    <tr>\n",
       "      <th>2025-09-18</th>\n",
       "      <td>891.700012</td>\n",
       "      <td>845.930178</td>\n",
       "      <td>848.446846</td>\n",
       "      <td>840.710775</td>\n",
       "      <td>29.236415</td>\n",
       "      <td>False</td>\n",
       "      <td>False</td>\n",
       "    </tr>\n",
       "  </tbody>\n",
       "</table>\n",
       "</div>"
      ],
      "text/plain": [
       "                 Close       EMA20       EMA50      EMA200        ADX  \\\n",
       "Date                                                                    \n",
       "2025-09-05  791.450012  809.759352  840.704544  838.516329  22.571011   \n",
       "2025-09-08  803.849976  809.196554  839.259267  838.171390  21.801190   \n",
       "2025-09-09  819.349976  810.163547  838.478511  837.984112  20.327207   \n",
       "2025-09-10  854.400024  814.376545  839.102884  838.147455  21.014780   \n",
       "2025-09-11  853.750000  818.126398  839.677280  838.302704  22.116120   \n",
       "2025-09-12  856.150024  821.747695  840.323270  838.480289  23.028037   \n",
       "2025-09-15  900.049988  829.205057  842.665495  839.092923  24.988881   \n",
       "2025-09-16  896.549988  835.618860  844.778612  839.664635  26.880318   \n",
       "2025-09-17  893.299988  841.112300  846.681411  840.198320  28.564643   \n",
       "2025-09-18  891.700012  845.930178  848.446846  840.710775  29.236415   \n",
       "\n",
       "            signal_long  signal_short  \n",
       "Date                                   \n",
       "2025-09-05        False         False  \n",
       "2025-09-08        False         False  \n",
       "2025-09-09        False         False  \n",
       "2025-09-10        False         False  \n",
       "2025-09-11        False         False  \n",
       "2025-09-12        False         False  \n",
       "2025-09-15        False         False  \n",
       "2025-09-16        False         False  \n",
       "2025-09-17        False         False  \n",
       "2025-09-18        False         False  "
      ]
     },
     "execution_count": 41,
     "metadata": {},
     "output_type": "execute_result"
    }
   ],
   "source": [
    "# Safe signal generation\n",
    "def generate_signals_safe(df):\n",
    "    df = df.copy()\n",
    "    df['EMA20_gt_EMA50'] = (df['EMA20'] > df['EMA50']).fillna(False)\n",
    "    df['EMA20_gt_EMA50_prev'] = df['EMA20_gt_EMA50'].shift(1).fillna(False)\n",
    "    df['long_cross'] = (df['EMA20_gt_EMA50'] == True) & (df['EMA20_gt_EMA50_prev'] == False)\n",
    "    df['short_cross'] = (df['EMA20_gt_EMA50'] == False) & (df['EMA20_gt_EMA50_prev'] == True)\n",
    "    df['price_above_200'] = (df['Close'] > df['EMA200']).fillna(False)\n",
    "    df['price_below_200'] = (df['Close'] < df['EMA200']).fillna(False)\n",
    "    df['adx_ok'] = (df['ADX'] > ADX_THRESHOLD).fillna(False)\n",
    "    df['signal_long'] = df['long_cross'] & df['price_above_200'] & df['adx_ok']\n",
    "    df['signal_short'] = df['short_cross'] & df['price_below_200'] & df['adx_ok']\n",
    "    return df\n",
    "\n",
    "# test\n",
    "_sample2 = generate_signals_safe(_sample)\n",
    "_sample2[['Close','EMA20','EMA50','EMA200','ADX','signal_long','signal_short']].tail(10)\n"
   ]
  },
  {
   "cell_type": "code",
   "execution_count": 42,
   "id": "6940d47c",
   "metadata": {},
   "outputs": [],
   "source": [
    "# Backtester (fills at next open) - adapted from previous implementation\n",
    "from collections import namedtuple\n",
    "Trade = namedtuple('Trade', ['ticker','entry_date','entry_price','side','size','stop','take_profit','exit_date','exit_price','pnl'])\n",
    "\n",
    "def run_backtest_for_symbol(df, initial_capital=INITIAL_CAPITAL):\n",
    "    equity = initial_capital\n",
    "    cash = initial_capital\n",
    "    position = None\n",
    "    trades = []\n",
    "    equity_curve = []\n",
    "    peak_equity = initial_capital\n",
    "    drawdowns = []\n",
    "\n",
    "    for i in range(1, len(df)-1):\n",
    "        row = df.iloc[i]\n",
    "        next_row = df.iloc[i+1]\n",
    "\n",
    "        if position is None:\n",
    "            if row.get('signal_long', False):\n",
    "                entry_price = next_row['Open'] * (1 + SLIPPAGE_PCT)\n",
    "                atr = row['ATR'] if not np.isnan(row['ATR']) else 0\n",
    "                stop = entry_price - ATR_MULTIPLIER * atr\n",
    "                if stop >= entry_price: continue\n",
    "                risk_amount = equity * RISK_PER_TRADE\n",
    "                risk_per_share = entry_price - stop\n",
    "                if risk_per_share <= 0: continue\n",
    "                size_shares = math.floor(risk_amount / risk_per_share)\n",
    "                if size_shares <= 0: continue\n",
    "                position = {'side':'long','entry_price':entry_price,'size':size_shares,'stop':stop,\n",
    "                            'take_profit': entry_price + TAKE_PROFIT_RR * risk_per_share if TAKE_PROFIT_RR else None,\n",
    "                            'entry_date':next_row.name}\n",
    "                cash -= entry_price * size_shares + BROKERAGE_PER_TRADE\n",
    "            elif USE_SHORTS and row.get('signal_short', False):\n",
    "                entry_price = next_row['Open'] * (1 - SLIPPAGE_PCT)\n",
    "                atr = row['ATR'] if not np.isnan(row['ATR']) else 0\n",
    "                stop = entry_price + ATR_MULTIPLIER * atr\n",
    "                risk_amount = equity * RISK_PER_TRADE\n",
    "                risk_per_share = stop - entry_price\n",
    "                if risk_per_share <= 0: continue\n",
    "                size_shares = math.floor(risk_amount / risk_per_share)\n",
    "                if size_shares <= 0: continue\n",
    "                position = {'side':'short','entry_price':entry_price,'size':size_shares,'stop':stop,\n",
    "                            'take_profit': entry_price - TAKE_PROFIT_RR * risk_per_share if TAKE_PROFIT_RR else None,\n",
    "                            'entry_date':next_row.name}\n",
    "                cash -= BROKERAGE_PER_TRADE\n",
    "        else:\n",
    "            exit_flag = False\n",
    "            exit_price = None\n",
    "\n",
    "            if position['side'] == 'long':\n",
    "                if row['Low'] <= position['stop']:\n",
    "                    exit_flag = True\n",
    "                    exit_price = position['stop'] * (1 - SLIPPAGE_PCT)\n",
    "                elif position.get('take_profit') and row['High'] >= position['take_profit']:\n",
    "                    exit_flag = True\n",
    "                    exit_price = position['take_profit'] * (1 - SLIPPAGE_PCT)\n",
    "                elif row['EMA20'] < row['EMA50'] or row['Close'] < row['EMA50']:\n",
    "                    exit_flag = True\n",
    "                    exit_price = next_row['Open'] * (1 - SLIPPAGE_PCT)\n",
    "            else:\n",
    "                if row['High'] >= position['stop']:\n",
    "                    exit_flag = True\n",
    "                    exit_price = position['stop'] * (1 + SLIPPAGE_PCT)\n",
    "                elif position.get('take_profit') and row['Low'] <= position['take_profit']:\n",
    "                    exit_flag = True\n",
    "                    exit_price = position['take_profit'] * (1 + SLIPPAGE_PCT)\n",
    "                elif row['EMA20'] > row['EMA50'] or row['Close'] > row['EMA50']:\n",
    "                    exit_flag = True\n",
    "                    exit_price = next_row['Open'] * (1 + SLIPPAGE_PCT)\n",
    "\n",
    "            if not exit_flag and MAX_HOLD_DAYS:\n",
    "                held_days = (row.name - position['entry_date']).days if isinstance(row.name, pd.Timestamp) else 0\n",
    "                if held_days >= MAX_HOLD_DAYS:\n",
    "                    exit_flag = True\n",
    "                    exit_price = next_row['Open'] * (1 - SLIPPAGE_PCT if position['side']=='long' else 1 + SLIPPAGE_PCT)\n",
    "\n",
    "            if exit_flag:\n",
    "                if position['side'] == 'long':\n",
    "                    exit_val = exit_price * position['size']\n",
    "                    entry_val = position['entry_price'] * position['size']\n",
    "                    pnl = exit_val - entry_val - BROKERAGE_PER_TRADE\n",
    "                    cash += exit_val - BROKERAGE_PER_TRADE\n",
    "                else:\n",
    "                    entry_val = position['entry_price'] * position['size']\n",
    "                    exit_val = exit_price * position['size']\n",
    "                    pnl = entry_val - exit_val - BROKERAGE_PER_TRADE\n",
    "                    cash += (entry_val - exit_val) - BROKERAGE_PER_TRADE\n",
    "\n",
    "                equity = cash\n",
    "                trades.append(Trade(ticker=None, entry_date=position['entry_date'], entry_price=position['entry_price'],\n",
    "                                    side=position['side'], size=position['size'], stop=position['stop'],\n",
    "                                    take_profit=position.get('take_profit'), exit_date=row.name, exit_price=exit_price, pnl=pnl))\n",
    "                position = None\n",
    "\n",
    "        if position is None:\n",
    "            mtm = cash\n",
    "        else:\n",
    "            if position['side'] == 'long':\n",
    "                mtm = cash + row['Close'] * position['size']\n",
    "            else:\n",
    "                mtm = cash + (position['entry_price'] - row['Close']) * position['size']\n",
    "        equity_curve.append({'date':row.name, 'equity':mtm})\n",
    "        if mtm > peak_equity:\n",
    "            peak_equity = mtm\n",
    "        drawdowns.append((peak_equity - mtm) / peak_equity if peak_equity>0 else 0)\n",
    "\n",
    "    eq_df = pd.DataFrame(equity_curve).set_index('date')\n",
    "    trades_df = pd.DataFrame(trades)\n",
    "    return trades_df, eq_df, (max(drawdowns)*100 if drawdowns else 0)\n",
    "\n",
    "def backtest_universe_custom(tickers):\n",
    "    all_trades = []\n",
    "    equity_tracks = {}\n",
    "    max_dd_per_symbol = {}\n",
    "    for t in tickers:\n",
    "        if PRINT_PROGRESS:\n",
    "            print('Running:', t)\n",
    "        df = download_stock(t, START_DATE, END_DATE, TIMEFRAME)\n",
    "        df = add_indicators_custom(df)\n",
    "        df = df.dropna(subset=['EMA20','EMA50','EMA200','ADX','ATR']).copy()\n",
    "        if df.empty:\n",
    "            if PRINT_PROGRESS:\n",
    "                print(f\"Not enough data/indicators for {t}; skipping.\")\n",
    "            continue\n",
    "        df = generate_signals_safe(df)\n",
    "        trades_df, eq_df, max_dd = run_backtest_for_symbol(df, initial_capital=INITIAL_CAPITAL)\n",
    "        trades_df['ticker'] = t\n",
    "        all_trades.append(trades_df)\n",
    "        equity_tracks[t] = eq_df\n",
    "        max_dd_per_symbol[t] = max_dd\n",
    "    all_trades_df = pd.concat(all_trades, ignore_index=True) if all_trades else pd.DataFrame()\n",
    "    return all_trades_df, equity_tracks, max_dd_per_symbol\n"
   ]
  },
  {
   "cell_type": "code",
   "execution_count": 43,
   "id": "086f834b",
   "metadata": {},
   "outputs": [
    {
     "name": "stdout",
     "output_type": "stream",
     "text": [
      "Running: SBICARD.NS\n",
      "Running: BDL.NS\n"
     ]
    },
    {
     "name": "stderr",
     "output_type": "stream",
     "text": [
      "/var/folders/mn/tx231v5158797chnp22wm9000000gp/T/ipykernel_85415/3657023606.py:5: FutureWarning: Downcasting object dtype arrays on .fillna, .ffill, .bfill is deprecated and will change in a future version. Call result.infer_objects(copy=False) instead. To opt-in to the future behavior, set `pd.set_option('future.no_silent_downcasting', True)`\n",
      "  df['EMA20_gt_EMA50_prev'] = df['EMA20_gt_EMA50'].shift(1).fillna(False)\n",
      "/var/folders/mn/tx231v5158797chnp22wm9000000gp/T/ipykernel_85415/3657023606.py:5: FutureWarning: Downcasting object dtype arrays on .fillna, .ffill, .bfill is deprecated and will change in a future version. Call result.infer_objects(copy=False) instead. To opt-in to the future behavior, set `pd.set_option('future.no_silent_downcasting', True)`\n",
      "  df['EMA20_gt_EMA50_prev'] = df['EMA20_gt_EMA50'].shift(1).fillna(False)\n"
     ]
    },
    {
     "name": "stdout",
     "output_type": "stream",
     "text": [
      "Running: INDHOTEL.NS\n"
     ]
    },
    {
     "name": "stderr",
     "output_type": "stream",
     "text": [
      "/var/folders/mn/tx231v5158797chnp22wm9000000gp/T/ipykernel_85415/3657023606.py:5: FutureWarning: Downcasting object dtype arrays on .fillna, .ffill, .bfill is deprecated and will change in a future version. Call result.infer_objects(copy=False) instead. To opt-in to the future behavior, set `pd.set_option('future.no_silent_downcasting', True)`\n",
      "  df['EMA20_gt_EMA50_prev'] = df['EMA20_gt_EMA50'].shift(1).fillna(False)\n"
     ]
    },
    {
     "name": "stdout",
     "output_type": "stream",
     "text": [
      "Running: BSE.NS\n"
     ]
    },
    {
     "name": "stderr",
     "output_type": "stream",
     "text": [
      "/var/folders/mn/tx231v5158797chnp22wm9000000gp/T/ipykernel_85415/3657023606.py:5: FutureWarning: Downcasting object dtype arrays on .fillna, .ffill, .bfill is deprecated and will change in a future version. Call result.infer_objects(copy=False) instead. To opt-in to the future behavior, set `pd.set_option('future.no_silent_downcasting', True)`\n",
      "  df['EMA20_gt_EMA50_prev'] = df['EMA20_gt_EMA50'].shift(1).fillna(False)\n"
     ]
    },
    {
     "name": "stdout",
     "output_type": "stream",
     "text": [
      "Running: NYKAA.NS\n"
     ]
    },
    {
     "name": "stderr",
     "output_type": "stream",
     "text": [
      "/var/folders/mn/tx231v5158797chnp22wm9000000gp/T/ipykernel_85415/3657023606.py:5: FutureWarning: Downcasting object dtype arrays on .fillna, .ffill, .bfill is deprecated and will change in a future version. Call result.infer_objects(copy=False) instead. To opt-in to the future behavior, set `pd.set_option('future.no_silent_downcasting', True)`\n",
      "  df['EMA20_gt_EMA50_prev'] = df['EMA20_gt_EMA50'].shift(1).fillna(False)\n"
     ]
    },
    {
     "name": "stdout",
     "output_type": "stream",
     "text": [
      "Running: BAJFINANCE.NS\n"
     ]
    },
    {
     "name": "stderr",
     "output_type": "stream",
     "text": [
      "/var/folders/mn/tx231v5158797chnp22wm9000000gp/T/ipykernel_85415/3657023606.py:5: FutureWarning: Downcasting object dtype arrays on .fillna, .ffill, .bfill is deprecated and will change in a future version. Call result.infer_objects(copy=False) instead. To opt-in to the future behavior, set `pd.set_option('future.no_silent_downcasting', True)`\n",
      "  df['EMA20_gt_EMA50_prev'] = df['EMA20_gt_EMA50'].shift(1).fillna(False)\n"
     ]
    },
    {
     "name": "stdout",
     "output_type": "stream",
     "text": [
      "Running: PAYTM.NS\n"
     ]
    },
    {
     "name": "stderr",
     "output_type": "stream",
     "text": [
      "/var/folders/mn/tx231v5158797chnp22wm9000000gp/T/ipykernel_85415/3657023606.py:5: FutureWarning: Downcasting object dtype arrays on .fillna, .ffill, .bfill is deprecated and will change in a future version. Call result.infer_objects(copy=False) instead. To opt-in to the future behavior, set `pd.set_option('future.no_silent_downcasting', True)`\n",
      "  df['EMA20_gt_EMA50_prev'] = df['EMA20_gt_EMA50'].shift(1).fillna(False)\n"
     ]
    },
    {
     "name": "stdout",
     "output_type": "stream",
     "text": [
      "Running: SOLARINDS.NS\n"
     ]
    },
    {
     "name": "stderr",
     "output_type": "stream",
     "text": [
      "/var/folders/mn/tx231v5158797chnp22wm9000000gp/T/ipykernel_85415/3657023606.py:5: FutureWarning: Downcasting object dtype arrays on .fillna, .ffill, .bfill is deprecated and will change in a future version. Call result.infer_objects(copy=False) instead. To opt-in to the future behavior, set `pd.set_option('future.no_silent_downcasting', True)`\n",
      "  df['EMA20_gt_EMA50_prev'] = df['EMA20_gt_EMA50'].shift(1).fillna(False)\n"
     ]
    },
    {
     "name": "stdout",
     "output_type": "stream",
     "text": [
      "Running: CHOLAFIN.NS\n"
     ]
    },
    {
     "name": "stderr",
     "output_type": "stream",
     "text": [
      "/var/folders/mn/tx231v5158797chnp22wm9000000gp/T/ipykernel_85415/3657023606.py:5: FutureWarning: Downcasting object dtype arrays on .fillna, .ffill, .bfill is deprecated and will change in a future version. Call result.infer_objects(copy=False) instead. To opt-in to the future behavior, set `pd.set_option('future.no_silent_downcasting', True)`\n",
      "  df['EMA20_gt_EMA50_prev'] = df['EMA20_gt_EMA50'].shift(1).fillna(False)\n"
     ]
    },
    {
     "name": "stdout",
     "output_type": "stream",
     "text": [
      "Running: UNITDSPR.NS\n"
     ]
    },
    {
     "name": "stderr",
     "output_type": "stream",
     "text": [
      "/var/folders/mn/tx231v5158797chnp22wm9000000gp/T/ipykernel_85415/3657023606.py:5: FutureWarning: Downcasting object dtype arrays on .fillna, .ffill, .bfill is deprecated and will change in a future version. Call result.infer_objects(copy=False) instead. To opt-in to the future behavior, set `pd.set_option('future.no_silent_downcasting', True)`\n",
      "  df['EMA20_gt_EMA50_prev'] = df['EMA20_gt_EMA50'].shift(1).fillna(False)\n"
     ]
    },
    {
     "name": "stdout",
     "output_type": "stream",
     "text": [
      "Running: DIVISLAB.NS\n"
     ]
    },
    {
     "name": "stderr",
     "output_type": "stream",
     "text": [
      "/var/folders/mn/tx231v5158797chnp22wm9000000gp/T/ipykernel_85415/3657023606.py:5: FutureWarning: Downcasting object dtype arrays on .fillna, .ffill, .bfill is deprecated and will change in a future version. Call result.infer_objects(copy=False) instead. To opt-in to the future behavior, set `pd.set_option('future.no_silent_downcasting', True)`\n",
      "  df['EMA20_gt_EMA50_prev'] = df['EMA20_gt_EMA50'].shift(1).fillna(False)\n"
     ]
    },
    {
     "name": "stdout",
     "output_type": "stream",
     "text": [
      "Running: MUTHOOTFIN.NS\n"
     ]
    },
    {
     "name": "stderr",
     "output_type": "stream",
     "text": [
      "/var/folders/mn/tx231v5158797chnp22wm9000000gp/T/ipykernel_85415/3657023606.py:5: FutureWarning: Downcasting object dtype arrays on .fillna, .ffill, .bfill is deprecated and will change in a future version. Call result.infer_objects(copy=False) instead. To opt-in to the future behavior, set `pd.set_option('future.no_silent_downcasting', True)`\n",
      "  df['EMA20_gt_EMA50_prev'] = df['EMA20_gt_EMA50'].shift(1).fillna(False)\n"
     ]
    },
    {
     "name": "stdout",
     "output_type": "stream",
     "text": [
      "Running: BHARTIARTL.NS\n"
     ]
    },
    {
     "name": "stderr",
     "output_type": "stream",
     "text": [
      "/var/folders/mn/tx231v5158797chnp22wm9000000gp/T/ipykernel_85415/3657023606.py:5: FutureWarning: Downcasting object dtype arrays on .fillna, .ffill, .bfill is deprecated and will change in a future version. Call result.infer_objects(copy=False) instead. To opt-in to the future behavior, set `pd.set_option('future.no_silent_downcasting', True)`\n",
      "  df['EMA20_gt_EMA50_prev'] = df['EMA20_gt_EMA50'].shift(1).fillna(False)\n"
     ]
    },
    {
     "name": "stdout",
     "output_type": "stream",
     "text": [
      "Running: ICICIBANK.NS\n"
     ]
    },
    {
     "name": "stderr",
     "output_type": "stream",
     "text": [
      "/var/folders/mn/tx231v5158797chnp22wm9000000gp/T/ipykernel_85415/3657023606.py:5: FutureWarning: Downcasting object dtype arrays on .fillna, .ffill, .bfill is deprecated and will change in a future version. Call result.infer_objects(copy=False) instead. To opt-in to the future behavior, set `pd.set_option('future.no_silent_downcasting', True)`\n",
      "  df['EMA20_gt_EMA50_prev'] = df['EMA20_gt_EMA50'].shift(1).fillna(False)\n"
     ]
    },
    {
     "name": "stdout",
     "output_type": "stream",
     "text": [
      "Running: MAZDOCK.NS\n"
     ]
    },
    {
     "name": "stderr",
     "output_type": "stream",
     "text": [
      "/var/folders/mn/tx231v5158797chnp22wm9000000gp/T/ipykernel_85415/3657023606.py:5: FutureWarning: Downcasting object dtype arrays on .fillna, .ffill, .bfill is deprecated and will change in a future version. Call result.infer_objects(copy=False) instead. To opt-in to the future behavior, set `pd.set_option('future.no_silent_downcasting', True)`\n",
      "  df['EMA20_gt_EMA50_prev'] = df['EMA20_gt_EMA50'].shift(1).fillna(False)\n"
     ]
    },
    {
     "name": "stdout",
     "output_type": "stream",
     "text": [
      "Running: SHREECEM.NS\n"
     ]
    },
    {
     "name": "stderr",
     "output_type": "stream",
     "text": [
      "/var/folders/mn/tx231v5158797chnp22wm9000000gp/T/ipykernel_85415/3657023606.py:5: FutureWarning: Downcasting object dtype arrays on .fillna, .ffill, .bfill is deprecated and will change in a future version. Call result.infer_objects(copy=False) instead. To opt-in to the future behavior, set `pd.set_option('future.no_silent_downcasting', True)`\n",
      "  df['EMA20_gt_EMA50_prev'] = df['EMA20_gt_EMA50'].shift(1).fillna(False)\n"
     ]
    },
    {
     "name": "stdout",
     "output_type": "stream",
     "text": [
      "Running: DIXON.NS\n"
     ]
    },
    {
     "name": "stderr",
     "output_type": "stream",
     "text": [
      "/var/folders/mn/tx231v5158797chnp22wm9000000gp/T/ipykernel_85415/3657023606.py:5: FutureWarning: Downcasting object dtype arrays on .fillna, .ffill, .bfill is deprecated and will change in a future version. Call result.infer_objects(copy=False) instead. To opt-in to the future behavior, set `pd.set_option('future.no_silent_downcasting', True)`\n",
      "  df['EMA20_gt_EMA50_prev'] = df['EMA20_gt_EMA50'].shift(1).fillna(False)\n"
     ]
    },
    {
     "name": "stdout",
     "output_type": "stream",
     "text": [
      "Running: PERSISTENT.NS\n"
     ]
    },
    {
     "name": "stderr",
     "output_type": "stream",
     "text": [
      "/var/folders/mn/tx231v5158797chnp22wm9000000gp/T/ipykernel_85415/3657023606.py:5: FutureWarning: Downcasting object dtype arrays on .fillna, .ffill, .bfill is deprecated and will change in a future version. Call result.infer_objects(copy=False) instead. To opt-in to the future behavior, set `pd.set_option('future.no_silent_downcasting', True)`\n",
      "  df['EMA20_gt_EMA50_prev'] = df['EMA20_gt_EMA50'].shift(1).fillna(False)\n"
     ]
    },
    {
     "name": "stdout",
     "output_type": "stream",
     "text": [
      "Running: SRF.NS\n"
     ]
    },
    {
     "name": "stderr",
     "output_type": "stream",
     "text": [
      "/var/folders/mn/tx231v5158797chnp22wm9000000gp/T/ipykernel_85415/3657023606.py:5: FutureWarning: Downcasting object dtype arrays on .fillna, .ffill, .bfill is deprecated and will change in a future version. Call result.infer_objects(copy=False) instead. To opt-in to the future behavior, set `pd.set_option('future.no_silent_downcasting', True)`\n",
      "  df['EMA20_gt_EMA50_prev'] = df['EMA20_gt_EMA50'].shift(1).fillna(False)\n"
     ]
    },
    {
     "name": "stdout",
     "output_type": "stream",
     "text": [
      "Running: TVSMOTOR.NS\n"
     ]
    },
    {
     "name": "stderr",
     "output_type": "stream",
     "text": [
      "/var/folders/mn/tx231v5158797chnp22wm9000000gp/T/ipykernel_85415/3657023606.py:5: FutureWarning: Downcasting object dtype arrays on .fillna, .ffill, .bfill is deprecated and will change in a future version. Call result.infer_objects(copy=False) instead. To opt-in to the future behavior, set `pd.set_option('future.no_silent_downcasting', True)`\n",
      "  df['EMA20_gt_EMA50_prev'] = df['EMA20_gt_EMA50'].shift(1).fillna(False)\n"
     ]
    },
    {
     "name": "stdout",
     "output_type": "stream",
     "text": [
      "Running: SBILIFE.NS\n"
     ]
    },
    {
     "name": "stderr",
     "output_type": "stream",
     "text": [
      "/var/folders/mn/tx231v5158797chnp22wm9000000gp/T/ipykernel_85415/3657023606.py:5: FutureWarning: Downcasting object dtype arrays on .fillna, .ffill, .bfill is deprecated and will change in a future version. Call result.infer_objects(copy=False) instead. To opt-in to the future behavior, set `pd.set_option('future.no_silent_downcasting', True)`\n",
      "  df['EMA20_gt_EMA50_prev'] = df['EMA20_gt_EMA50'].shift(1).fillna(False)\n"
     ]
    },
    {
     "name": "stdout",
     "output_type": "stream",
     "text": [
      "Running: MAXHEALTH.NS\n"
     ]
    },
    {
     "name": "stderr",
     "output_type": "stream",
     "text": [
      "/var/folders/mn/tx231v5158797chnp22wm9000000gp/T/ipykernel_85415/3657023606.py:5: FutureWarning: Downcasting object dtype arrays on .fillna, .ffill, .bfill is deprecated and will change in a future version. Call result.infer_objects(copy=False) instead. To opt-in to the future behavior, set `pd.set_option('future.no_silent_downcasting', True)`\n",
      "  df['EMA20_gt_EMA50_prev'] = df['EMA20_gt_EMA50'].shift(1).fillna(False)\n"
     ]
    },
    {
     "name": "stdout",
     "output_type": "stream",
     "text": [
      "Running: MFSL.NS\n"
     ]
    },
    {
     "name": "stderr",
     "output_type": "stream",
     "text": [
      "/var/folders/mn/tx231v5158797chnp22wm9000000gp/T/ipykernel_85415/3657023606.py:5: FutureWarning: Downcasting object dtype arrays on .fillna, .ffill, .bfill is deprecated and will change in a future version. Call result.infer_objects(copy=False) instead. To opt-in to the future behavior, set `pd.set_option('future.no_silent_downcasting', True)`\n",
      "  df['EMA20_gt_EMA50_prev'] = df['EMA20_gt_EMA50'].shift(1).fillna(False)\n"
     ]
    },
    {
     "name": "stdout",
     "output_type": "stream",
     "text": [
      "Running: COFORGE.NS\n"
     ]
    },
    {
     "name": "stderr",
     "output_type": "stream",
     "text": [
      "/var/folders/mn/tx231v5158797chnp22wm9000000gp/T/ipykernel_85415/3657023606.py:5: FutureWarning: Downcasting object dtype arrays on .fillna, .ffill, .bfill is deprecated and will change in a future version. Call result.infer_objects(copy=False) instead. To opt-in to the future behavior, set `pd.set_option('future.no_silent_downcasting', True)`\n",
      "  df['EMA20_gt_EMA50_prev'] = df['EMA20_gt_EMA50'].shift(1).fillna(False)\n"
     ]
    },
    {
     "name": "stdout",
     "output_type": "stream",
     "text": [
      "Running: HDFCLIFE.NS\n"
     ]
    },
    {
     "name": "stderr",
     "output_type": "stream",
     "text": [
      "/var/folders/mn/tx231v5158797chnp22wm9000000gp/T/ipykernel_85415/3657023606.py:5: FutureWarning: Downcasting object dtype arrays on .fillna, .ffill, .bfill is deprecated and will change in a future version. Call result.infer_objects(copy=False) instead. To opt-in to the future behavior, set `pd.set_option('future.no_silent_downcasting', True)`\n",
      "  df['EMA20_gt_EMA50_prev'] = df['EMA20_gt_EMA50'].shift(1).fillna(False)\n"
     ]
    },
    {
     "name": "stdout",
     "output_type": "stream",
     "text": [
      "Running: INDIGO.NS\n"
     ]
    },
    {
     "name": "stderr",
     "output_type": "stream",
     "text": [
      "/var/folders/mn/tx231v5158797chnp22wm9000000gp/T/ipykernel_85415/3657023606.py:5: FutureWarning: Downcasting object dtype arrays on .fillna, .ffill, .bfill is deprecated and will change in a future version. Call result.infer_objects(copy=False) instead. To opt-in to the future behavior, set `pd.set_option('future.no_silent_downcasting', True)`\n",
      "  df['EMA20_gt_EMA50_prev'] = df['EMA20_gt_EMA50'].shift(1).fillna(False)\n"
     ]
    },
    {
     "name": "stdout",
     "output_type": "stream",
     "text": [
      "Running: KOTAKBANK.NS\n"
     ]
    },
    {
     "name": "stderr",
     "output_type": "stream",
     "text": [
      "/var/folders/mn/tx231v5158797chnp22wm9000000gp/T/ipykernel_85415/3657023606.py:5: FutureWarning: Downcasting object dtype arrays on .fillna, .ffill, .bfill is deprecated and will change in a future version. Call result.infer_objects(copy=False) instead. To opt-in to the future behavior, set `pd.set_option('future.no_silent_downcasting', True)`\n",
      "  df['EMA20_gt_EMA50_prev'] = df['EMA20_gt_EMA50'].shift(1).fillna(False)\n"
     ]
    },
    {
     "name": "stdout",
     "output_type": "stream",
     "text": [
      "Running: HDFCBANK.NS\n"
     ]
    },
    {
     "name": "stderr",
     "output_type": "stream",
     "text": [
      "/var/folders/mn/tx231v5158797chnp22wm9000000gp/T/ipykernel_85415/3657023606.py:5: FutureWarning: Downcasting object dtype arrays on .fillna, .ffill, .bfill is deprecated and will change in a future version. Call result.infer_objects(copy=False) instead. To opt-in to the future behavior, set `pd.set_option('future.no_silent_downcasting', True)`\n",
      "  df['EMA20_gt_EMA50_prev'] = df['EMA20_gt_EMA50'].shift(1).fillna(False)\n"
     ]
    },
    {
     "name": "stdout",
     "output_type": "stream",
     "text": [
      "Running: BEL.NS\n"
     ]
    },
    {
     "name": "stderr",
     "output_type": "stream",
     "text": [
      "/var/folders/mn/tx231v5158797chnp22wm9000000gp/T/ipykernel_85415/3657023606.py:5: FutureWarning: Downcasting object dtype arrays on .fillna, .ffill, .bfill is deprecated and will change in a future version. Call result.infer_objects(copy=False) instead. To opt-in to the future behavior, set `pd.set_option('future.no_silent_downcasting', True)`\n",
      "  df['EMA20_gt_EMA50_prev'] = df['EMA20_gt_EMA50'].shift(1).fillna(False)\n"
     ]
    },
    {
     "name": "stdout",
     "output_type": "stream",
     "text": [
      "Running: BAJAJFINSV.NS\n",
      "Max drawdowns per symbol (%) {'SBICARD.NS': np.float64(1.0544212492487568), 'BDL.NS': np.float64(3.8962604330462636), 'INDHOTEL.NS': np.float64(2.437119580752478), 'BSE.NS': np.float64(3.3287045890809117), 'NYKAA.NS': np.float64(1.2321611659105483), 'BAJFINANCE.NS': np.float64(5.891318978179407), 'PAYTM.NS': np.float64(0.4176590234375035), 'SOLARINDS.NS': np.float64(3.370612137570477), 'CHOLAFIN.NS': np.float64(3.3808051201818743), 'UNITDSPR.NS': 0.0, 'DIVISLAB.NS': np.float64(3.7593923913487224), 'MUTHOOTFIN.NS': np.float64(2.4467989207080083), 'BHARTIARTL.NS': np.float64(2.087519618764389), 'ICICIBANK.NS': np.float64(0.09079281438347243), 'MAZDOCK.NS': np.float64(0.738061018646395), 'SHREECEM.NS': np.float64(3.2998014775784985), 'DIXON.NS': np.float64(1.2179070945290849), 'PERSISTENT.NS': 0.0, 'SRF.NS': np.float64(3.50023992492533), 'TVSMOTOR.NS': np.float64(2.2671531839629457), 'SBILIFE.NS': np.float64(1.5852080521027065), 'MAXHEALTH.NS': np.float64(1.5786533247832721), 'MFSL.NS': np.float64(1.5386433834606592), 'COFORGE.NS': np.float64(1.1452714920319453), 'HDFCLIFE.NS': np.float64(1.7412415180805778), 'INDIGO.NS': np.float64(6.600733481397064), 'KOTAKBANK.NS': np.float64(2.013379446180461), 'HDFCBANK.NS': np.float64(2.3595054972863436), 'BEL.NS': np.float64(2.5495079316177613), 'BAJAJFINSV.NS': np.float64(2.3915988339085135)}\n"
     ]
    },
    {
     "name": "stderr",
     "output_type": "stream",
     "text": [
      "/var/folders/mn/tx231v5158797chnp22wm9000000gp/T/ipykernel_85415/3657023606.py:5: FutureWarning: Downcasting object dtype arrays on .fillna, .ffill, .bfill is deprecated and will change in a future version. Call result.infer_objects(copy=False) instead. To opt-in to the future behavior, set `pd.set_option('future.no_silent_downcasting', True)`\n",
      "  df['EMA20_gt_EMA50_prev'] = df['EMA20_gt_EMA50'].shift(1).fillna(False)\n"
     ]
    },
    {
     "data": {
      "text/html": [
       "<div>\n",
       "<style scoped>\n",
       "    .dataframe tbody tr th:only-of-type {\n",
       "        vertical-align: middle;\n",
       "    }\n",
       "\n",
       "    .dataframe tbody tr th {\n",
       "        vertical-align: top;\n",
       "    }\n",
       "\n",
       "    .dataframe thead th {\n",
       "        text-align: right;\n",
       "    }\n",
       "</style>\n",
       "<table border=\"1\" class=\"dataframe\">\n",
       "  <thead>\n",
       "    <tr style=\"text-align: right;\">\n",
       "      <th></th>\n",
       "      <th>ticker</th>\n",
       "      <th>entry_date</th>\n",
       "      <th>entry_price</th>\n",
       "      <th>side</th>\n",
       "      <th>size</th>\n",
       "      <th>stop</th>\n",
       "      <th>take_profit</th>\n",
       "      <th>exit_date</th>\n",
       "      <th>exit_price</th>\n",
       "      <th>pnl</th>\n",
       "    </tr>\n",
       "  </thead>\n",
       "  <tbody>\n",
       "    <tr>\n",
       "      <th>0</th>\n",
       "      <td>SBICARD.NS</td>\n",
       "      <td>2023-07-26</td>\n",
       "      <td>878.524828</td>\n",
       "      <td>long</td>\n",
       "      <td>55.0</td>\n",
       "      <td>860.511061</td>\n",
       "      <td>914.552362</td>\n",
       "      <td>2023-07-26</td>\n",
       "      <td>860.080805</td>\n",
       "      <td>-1034.421249</td>\n",
       "    </tr>\n",
       "    <tr>\n",
       "      <th>1</th>\n",
       "      <td>BDL.NS</td>\n",
       "      <td>2018-06-04</td>\n",
       "      <td>176.317143</td>\n",
       "      <td>long</td>\n",
       "      <td>204.0</td>\n",
       "      <td>171.419235</td>\n",
       "      <td>186.112959</td>\n",
       "      <td>2018-06-04</td>\n",
       "      <td>171.333525</td>\n",
       "      <td>-1036.658021</td>\n",
       "    </tr>\n",
       "    <tr>\n",
       "      <th>2</th>\n",
       "      <td>BDL.NS</td>\n",
       "      <td>2018-06-07</td>\n",
       "      <td>168.295438</td>\n",
       "      <td>short</td>\n",
       "      <td>209.0</td>\n",
       "      <td>173.010971</td>\n",
       "      <td>158.864373</td>\n",
       "      <td>2018-06-07</td>\n",
       "      <td>173.097477</td>\n",
       "      <td>-1023.625990</td>\n",
       "    </tr>\n",
       "    <tr>\n",
       "      <th>3</th>\n",
       "      <td>BDL.NS</td>\n",
       "      <td>2018-06-25</td>\n",
       "      <td>166.416044</td>\n",
       "      <td>short</td>\n",
       "      <td>241.0</td>\n",
       "      <td>170.463445</td>\n",
       "      <td>158.321241</td>\n",
       "      <td>2018-07-05</td>\n",
       "      <td>162.010546</td>\n",
       "      <td>1041.724942</td>\n",
       "    </tr>\n",
       "    <tr>\n",
       "      <th>4</th>\n",
       "      <td>BDL.NS</td>\n",
       "      <td>2019-12-16</td>\n",
       "      <td>133.591650</td>\n",
       "      <td>short</td>\n",
       "      <td>164.0</td>\n",
       "      <td>139.603700</td>\n",
       "      <td>121.567550</td>\n",
       "      <td>2019-12-26</td>\n",
       "      <td>139.673501</td>\n",
       "      <td>-1017.423697</td>\n",
       "    </tr>\n",
       "  </tbody>\n",
       "</table>\n",
       "</div>"
      ],
      "text/plain": [
       "       ticker entry_date  entry_price   side   size        stop  take_profit  \\\n",
       "0  SBICARD.NS 2023-07-26   878.524828   long   55.0  860.511061   914.552362   \n",
       "1      BDL.NS 2018-06-04   176.317143   long  204.0  171.419235   186.112959   \n",
       "2      BDL.NS 2018-06-07   168.295438  short  209.0  173.010971   158.864373   \n",
       "3      BDL.NS 2018-06-25   166.416044  short  241.0  170.463445   158.321241   \n",
       "4      BDL.NS 2019-12-16   133.591650  short  164.0  139.603700   121.567550   \n",
       "\n",
       "   exit_date  exit_price          pnl  \n",
       "0 2023-07-26  860.080805 -1034.421249  \n",
       "1 2018-06-04  171.333525 -1036.658021  \n",
       "2 2018-06-07  173.097477 -1023.625990  \n",
       "3 2018-07-05  162.010546  1041.724942  \n",
       "4 2019-12-26  139.673501 -1017.423697  "
      ]
     },
     "metadata": {},
     "output_type": "display_data"
    },
    {
     "name": "stdout",
     "output_type": "stream",
     "text": [
      "Backtest cell ready. Uncomment the run lines to execute the backtest.\n"
     ]
    }
   ],
   "source": [
    "# Run the backtest for the defined STOCKS universe.\n",
    "# WARNING: This will download data and run the backtest for each ticker.\n",
    "# Uncomment and run when ready.\n",
    "\n",
    "trades, equity_tracks, max_dds = backtest_universe_custom(STOCKS)\n",
    "print('Max drawdowns per symbol (%)', max_dds)\n",
    "display(trades.head())\n",
    "print('Backtest cell ready. Uncomment the run lines to execute the backtest.')"
   ]
  },
  {
   "cell_type": "code",
   "execution_count": 44,
   "id": "0986546c",
   "metadata": {},
   "outputs": [],
   "source": [
    "# Performance summary helpers\n",
    "def summary_from_trades(trades_df, equity_df, initial_capital=INITIAL_CAPITAL):\n",
    "    total_trades = len(trades_df)\n",
    "    wins = trades_df[trades_df['pnl']>0]\n",
    "    losses = trades_df[trades_df['pnl']<=0]\n",
    "    win_rate = len(wins)/total_trades if total_trades>0 else np.nan\n",
    "    total_pnl = trades_df['pnl'].sum() if total_trades>0 else 0.0\n",
    "    avg_win = wins['pnl'].mean() if len(wins)>0 else 0.0\n",
    "    avg_loss = losses['pnl'].mean() if len(losses)>0 else 0.0\n",
    "    final_equity = equity_df['equity'].iloc[-1] if not equity_df.empty else initial_capital\n",
    "    total_return = (final_equity - initial_capital)/initial_capital * 100\n",
    "    rolling_max = equity_df['equity'].cummax()\n",
    "    drawdown = (rolling_max - equity_df['equity']) / rolling_max\n",
    "    max_dd = drawdown.max() * 100 if not drawdown.empty else 0.0\n",
    "    return {'total_trades':total_trades,'win_rate':win_rate,'total_pnl':total_pnl,'avg_win':avg_win,'avg_loss':avg_loss,'final_equity':final_equity,'total_return_pct':total_return,'max_dd_pct':max_dd}\n"
   ]
  },
  {
   "cell_type": "code",
   "execution_count": 45,
   "id": "81d250be",
   "metadata": {},
   "outputs": [],
   "source": [
    "# Plot equity curve for a symbol (after running backtest)\n",
    "def plot_equity(equity_df, title='Equity Curve'):\n",
    "    plt.figure(figsize=(12,5))\n",
    "    plt.plot(equity_df.index, equity_df['equity'])\n",
    "    plt.title(title)\n",
    "    plt.xlabel('Date')\n",
    "    plt.ylabel('Equity')\n",
    "    plt.grid(True)\n",
    "    plt.show()\n"
   ]
  },
  {
   "cell_type": "markdown",
   "id": "af3a996b",
   "metadata": {},
   "source": [
    "## Notes & Next steps\n",
    "\n",
    "- This patched notebook replaces pandas_ta with custom indicator implementations using pandas/numpy.\n",
    "- It drops early rows missing indicators and uses safe boolean handling to avoid TypeError caused by NaNs.\n",
    "- For portfolio-level capital allocation across multiple simultaneous positions, further changes are needed.\n",
    "- Consider connecting to a reliable data vendor for production testing; yfinance is fine for prototyping.\n"
   ]
  }
 ],
 "metadata": {
  "kernelspec": {
   "display_name": ".talib",
   "language": "python",
   "name": "python3"
  },
  "language_info": {
   "codemirror_mode": {
    "name": "ipython",
    "version": 3
   },
   "file_extension": ".py",
   "mimetype": "text/x-python",
   "name": "python",
   "nbconvert_exporter": "python",
   "pygments_lexer": "ipython3",
   "version": "3.12.8"
  }
 },
 "nbformat": 4,
 "nbformat_minor": 5
}
