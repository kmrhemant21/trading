{
 "cells": [
  {
   "cell_type": "markdown",
   "id": "9d993730",
   "metadata": {},
   "source": [
    "# EMA(20,50,200) + ADX Swing Backtest — Trailing Stop & 5% Risk\n",
    "\n",
    "Swing-oriented backtest (daily bars) with the following user-requested changes:\n",
    "\n",
    "- **Swing mode**: entries/exits are executed at next-day open (no intraday entry/exit fills). This avoids 'intraday' exits on the same candle.\n",
    "- **Max loss per trade**: use 5% of capital-at-risk per trade by default (changeable in the parameters cell).\n",
    "- **Max holding period**: 10 days maximum holding before forced exit.\n",
    "- **ATR-based trailing stop**: a trailing stop initialized at entry (entry - ATR*mult) which moves favorably each day (longs only move upward). If the day's low/high breaches the trailing level, we exit at the next day's open.\n",
    "\n",
    "Edit parameters in the Parameters cell and run top-to-bottom.\n"
   ]
  },
  {
   "cell_type": "code",
   "execution_count": 26,
   "id": "da6aae7c",
   "metadata": {},
   "outputs": [],
   "source": [
    "# ----------------------------\n",
    "# PARAMETERS (edit these)\n",
    "# ----------------------------\n",
    "STOCKS = ['SBICARD.NS', 'BDL.NS', 'INDHOTEL.NS', 'BSE.NS', 'NYKAA.NS', 'BAJFINANCE.NS', 'PAYTM.NS', 'SOLARINDS.NS', 'CHOLAFIN.NS', 'UNITDSPR.NS', 'DIVISLAB.NS', 'MUTHOOTFIN.NS', 'BHARTIARTL.NS', 'ICICIBANK.NS', 'MAZDOCK.NS', 'SHREECEM.NS', 'DIXON.NS', 'PERSISTENT.NS', 'SRF.NS', 'TVSMOTOR.NS', 'SBILIFE.NS', 'MAXHEALTH.NS', 'MFSL.NS', 'COFORGE.NS', 'HDFCLIFE.NS', 'INDIGO.NS', 'KOTAKBANK.NS', 'HDFCBANK.NS', 'BEL.NS', 'BAJAJFINSV.NS']\n",
    "START_DATE = '2015-01-01'\n",
    "END_DATE = '2025-01-01'                # change as needed\n",
    "TIMEFRAME = '1d'                       # daily bars for swing trading\n",
    "ADX_THRESHOLD = 25                     # ADX filter\n",
    "ATR_LENGTH = 14\n",
    "ATR_MULTIPLIER = 1.0                   # used to set initial stop = entry +/- ATR*mult\n",
    "TRAILING_ATR_MULT = 1.0                # trailing uses ATR * this multiplier\n",
    "RISK_PER_TRADE = 0.05                  # max loss per trade = 5% of capital (user requested)\n",
    "INITIAL_CAPITAL = 100000.0             # starting capital in INR (or chosen currency)\n",
    "MAX_HOLD_DAYS = 10                     # user requested max 10 days holding (swing)\n",
    "TAKE_PROFIT_RR = None                  # optional fixed TP (None by default for swing)\n",
    "USE_SHORTS = True                      # enable short trades\n",
    "BROKERAGE_PER_TRADE = 20.0             # flat brokerage per trade (INR) – adjust for your broker\n",
    "SLIPPAGE_PCT = 0.0005                  # 0.05% slippage per trade\n",
    "PRINT_PROGRESS = True                  # show progress while backtesting\n",
    "# ----------------------------\n"
   ]
  },
  {
   "cell_type": "code",
   "execution_count": 27,
   "id": "cea456ee",
   "metadata": {},
   "outputs": [],
   "source": [
    "# Install required libraries (run this cell once)\n",
    "# !pip install yfinance matplotlib pandas numpy --quiet\n",
    "\n",
    "import yfinance as yf\n",
    "import pandas as pd\n",
    "import numpy as np\n",
    "import matplotlib.pyplot as plt\n",
    "from datetime import timedelta\n",
    "import math\n"
   ]
  },
  {
   "cell_type": "code",
   "execution_count": 28,
   "id": "af348bd4",
   "metadata": {},
   "outputs": [
    {
     "name": "stdout",
     "output_type": "stream",
     "text": [
      "Sanity check: downloading first ticker...\n",
      "Downloaded rows: 1187\n"
     ]
    },
    {
     "data": {
      "text/html": [
       "<div>\n",
       "<style scoped>\n",
       "    .dataframe tbody tr th:only-of-type {\n",
       "        vertical-align: middle;\n",
       "    }\n",
       "\n",
       "    .dataframe tbody tr th {\n",
       "        vertical-align: top;\n",
       "    }\n",
       "\n",
       "    .dataframe thead th {\n",
       "        text-align: right;\n",
       "    }\n",
       "</style>\n",
       "<table border=\"1\" class=\"dataframe\">\n",
       "  <thead>\n",
       "    <tr style=\"text-align: right;\">\n",
       "      <th></th>\n",
       "      <th>Open</th>\n",
       "      <th>High</th>\n",
       "      <th>Low</th>\n",
       "      <th>Close</th>\n",
       "      <th>Adj_Close</th>\n",
       "      <th>Volume</th>\n",
       "    </tr>\n",
       "    <tr>\n",
       "      <th>Date</th>\n",
       "      <th></th>\n",
       "      <th></th>\n",
       "      <th></th>\n",
       "      <th></th>\n",
       "      <th></th>\n",
       "      <th></th>\n",
       "    </tr>\n",
       "  </thead>\n",
       "  <tbody>\n",
       "    <tr>\n",
       "      <th>2020-03-16</th>\n",
       "      <td>651.218506</td>\n",
       "      <td>743.827492</td>\n",
       "      <td>646.292496</td>\n",
       "      <td>671.316650</td>\n",
       "      <td>671.316650</td>\n",
       "      <td>60887005</td>\n",
       "    </tr>\n",
       "    <tr>\n",
       "      <th>2020-03-17</th>\n",
       "      <td>680.774410</td>\n",
       "      <td>736.881662</td>\n",
       "      <td>678.804007</td>\n",
       "      <td>720.083984</td>\n",
       "      <td>720.083984</td>\n",
       "      <td>15145135</td>\n",
       "    </tr>\n",
       "    <tr>\n",
       "      <th>2020-03-18</th>\n",
       "      <td>740.970256</td>\n",
       "      <td>757.620191</td>\n",
       "      <td>669.937230</td>\n",
       "      <td>679.001099</td>\n",
       "      <td>679.001099</td>\n",
       "      <td>8949832</td>\n",
       "    </tr>\n",
       "    <tr>\n",
       "      <th>2020-03-19</th>\n",
       "      <td>650.233251</td>\n",
       "      <td>706.389759</td>\n",
       "      <td>640.381232</td>\n",
       "      <td>681.808960</td>\n",
       "      <td>681.808960</td>\n",
       "      <td>6432046</td>\n",
       "    </tr>\n",
       "    <tr>\n",
       "      <th>2020-03-20</th>\n",
       "      <td>695.798814</td>\n",
       "      <td>719.197358</td>\n",
       "      <td>680.035584</td>\n",
       "      <td>713.778748</td>\n",
       "      <td>713.778748</td>\n",
       "      <td>6492226</td>\n",
       "    </tr>\n",
       "  </tbody>\n",
       "</table>\n",
       "</div>"
      ],
      "text/plain": [
       "                  Open        High         Low       Close   Adj_Close  \\\n",
       "Date                                                                     \n",
       "2020-03-16  651.218506  743.827492  646.292496  671.316650  671.316650   \n",
       "2020-03-17  680.774410  736.881662  678.804007  720.083984  720.083984   \n",
       "2020-03-18  740.970256  757.620191  669.937230  679.001099  679.001099   \n",
       "2020-03-19  650.233251  706.389759  640.381232  681.808960  681.808960   \n",
       "2020-03-20  695.798814  719.197358  680.035584  713.778748  713.778748   \n",
       "\n",
       "              Volume  \n",
       "Date                  \n",
       "2020-03-16  60887005  \n",
       "2020-03-17  15145135  \n",
       "2020-03-18   8949832  \n",
       "2020-03-19   6432046  \n",
       "2020-03-20   6492226  "
      ]
     },
     "execution_count": 28,
     "metadata": {},
     "output_type": "execute_result"
    }
   ],
   "source": [
    "# Robust data download helper (normalizes column names)\n",
    "def download_stock(ticker, start, end, interval='1d', threads=True):\n",
    "    df = yf.download(ticker, start=start, end=end, interval=interval, progress=False, multi_level_index=False, auto_adjust=True)\n",
    "    if df is None or df.empty:\n",
    "        raise ValueError(f'No data for {ticker} from {start} to {end}')\n",
    "    # Normalize columns\n",
    "    col_map = {}\n",
    "    cols = list(df.columns)\n",
    "    for c in cols:\n",
    "        lc = c.lower()\n",
    "        if 'open' in lc:\n",
    "            col_map[c] = 'Open'\n",
    "        elif 'high' in lc:\n",
    "            col_map[c] = 'High'\n",
    "        elif 'low' in lc:\n",
    "            col_map[c] = 'Low'\n",
    "        elif 'close' in lc and 'adj' not in lc:\n",
    "            col_map[c] = 'Close'\n",
    "        elif 'adj' in lc and 'close' in lc:\n",
    "            col_map[c] = 'Adj_Close'\n",
    "        elif 'volume' in lc:\n",
    "            col_map[c] = 'Volume'\n",
    "    df = df.rename(columns=col_map)\n",
    "    if 'Adj_Close' not in df.columns:\n",
    "        if 'Close' in df.columns:\n",
    "            df['Adj_Close'] = df['Close']\n",
    "        else:\n",
    "            raise KeyError(\"Downloaded data missing Close/Adj Close columns.\")\n",
    "    required = ['Open','High','Low','Close','Adj_Close','Volume']\n",
    "    missing = [c for c in required if c not in df.columns]\n",
    "    if missing:\n",
    "        raise KeyError(f\"Missing columns after normalization: {missing}. Found: {df.columns.tolist()}\")\n",
    "    df = df[['Open','High','Low','Close','Adj_Close','Volume']].copy()\n",
    "    if not isinstance(df.index, pd.DatetimeIndex):\n",
    "        df.index = pd.to_datetime(df.index)\n",
    "    return df\n",
    "\n",
    "# quick check (safe)\n",
    "print('Sanity check: downloading first ticker...')\n",
    "_sample = download_stock(STOCKS[0], START_DATE, END_DATE, TIMEFRAME)\n",
    "print('Downloaded rows:', len(_sample))\n",
    "_sample.head()\n"
   ]
  },
  {
   "cell_type": "code",
   "execution_count": 29,
   "id": "4a8efb79",
   "metadata": {},
   "outputs": [
    {
     "data": {
      "text/html": [
       "<div>\n",
       "<style scoped>\n",
       "    .dataframe tbody tr th:only-of-type {\n",
       "        vertical-align: middle;\n",
       "    }\n",
       "\n",
       "    .dataframe tbody tr th {\n",
       "        vertical-align: top;\n",
       "    }\n",
       "\n",
       "    .dataframe thead th {\n",
       "        text-align: right;\n",
       "    }\n",
       "</style>\n",
       "<table border=\"1\" class=\"dataframe\">\n",
       "  <thead>\n",
       "    <tr style=\"text-align: right;\">\n",
       "      <th></th>\n",
       "      <th>Close</th>\n",
       "      <th>EMA20</th>\n",
       "      <th>EMA50</th>\n",
       "      <th>EMA200</th>\n",
       "      <th>ATR</th>\n",
       "      <th>ADX</th>\n",
       "    </tr>\n",
       "    <tr>\n",
       "      <th>Date</th>\n",
       "      <th></th>\n",
       "      <th></th>\n",
       "      <th></th>\n",
       "      <th></th>\n",
       "      <th></th>\n",
       "      <th></th>\n",
       "    </tr>\n",
       "  </thead>\n",
       "  <tbody>\n",
       "    <tr>\n",
       "      <th>2024-12-24</th>\n",
       "      <td>693.827026</td>\n",
       "      <td>705.238429</td>\n",
       "      <td>709.574453</td>\n",
       "      <td>726.404021</td>\n",
       "      <td>14.892501</td>\n",
       "      <td>22.809076</td>\n",
       "    </tr>\n",
       "    <tr>\n",
       "      <th>2024-12-26</th>\n",
       "      <td>677.176758</td>\n",
       "      <td>702.565889</td>\n",
       "      <td>708.303956</td>\n",
       "      <td>725.914198</td>\n",
       "      <td>15.313603</td>\n",
       "      <td>23.710837</td>\n",
       "    </tr>\n",
       "    <tr>\n",
       "      <th>2024-12-27</th>\n",
       "      <td>673.288391</td>\n",
       "      <td>699.777556</td>\n",
       "      <td>706.930796</td>\n",
       "      <td>725.390558</td>\n",
       "      <td>14.992464</td>\n",
       "      <td>24.742958</td>\n",
       "    </tr>\n",
       "    <tr>\n",
       "      <th>2024-12-30</th>\n",
       "      <td>667.505676</td>\n",
       "      <td>696.704043</td>\n",
       "      <td>705.384713</td>\n",
       "      <td>724.814589</td>\n",
       "      <td>14.761919</td>\n",
       "      <td>26.082214</td>\n",
       "    </tr>\n",
       "    <tr>\n",
       "      <th>2024-12-31</th>\n",
       "      <td>661.872437</td>\n",
       "      <td>693.386748</td>\n",
       "      <td>703.678349</td>\n",
       "      <td>724.188299</td>\n",
       "      <td>14.355563</td>\n",
       "      <td>27.530573</td>\n",
       "    </tr>\n",
       "  </tbody>\n",
       "</table>\n",
       "</div>"
      ],
      "text/plain": [
       "                 Close       EMA20       EMA50      EMA200        ATR  \\\n",
       "Date                                                                    \n",
       "2024-12-24  693.827026  705.238429  709.574453  726.404021  14.892501   \n",
       "2024-12-26  677.176758  702.565889  708.303956  725.914198  15.313603   \n",
       "2024-12-27  673.288391  699.777556  706.930796  725.390558  14.992464   \n",
       "2024-12-30  667.505676  696.704043  705.384713  724.814589  14.761919   \n",
       "2024-12-31  661.872437  693.386748  703.678349  724.188299  14.355563   \n",
       "\n",
       "                  ADX  \n",
       "Date                   \n",
       "2024-12-24  22.809076  \n",
       "2024-12-26  23.710837  \n",
       "2024-12-27  24.742958  \n",
       "2024-12-30  26.082214  \n",
       "2024-12-31  27.530573  "
      ]
     },
     "execution_count": 29,
     "metadata": {},
     "output_type": "execute_result"
    }
   ],
   "source": [
    "# Custom indicators (EMA, ATR, ADX) implemented with pandas/numpy (Wilder smoothing for ATR/ADX)\n",
    "def ema(series, length):\n",
    "    return series.ewm(span=length, adjust=False).mean()\n",
    "\n",
    "def true_range(df):\n",
    "    high = df['High']\n",
    "    low = df['Low']\n",
    "    prev_close = df['Close'].shift(1)\n",
    "    tr1 = high - low\n",
    "    tr2 = (high - prev_close).abs()\n",
    "    tr3 = (low - prev_close).abs()\n",
    "    tr = pd.concat([tr1, tr2, tr3], axis=1).max(axis=1)\n",
    "    return tr\n",
    "\n",
    "def atr(df, length=14):\n",
    "    tr = true_range(df)\n",
    "    return tr.ewm(alpha=1/length, adjust=False).mean()\n",
    "\n",
    "def directional_movements(df):\n",
    "    up_move = df['High'] - df['High'].shift(1)\n",
    "    down_move = df['Low'].shift(1) - df['Low']\n",
    "    plus_dm = np.where((up_move > down_move) & (up_move > 0), up_move, 0.0)\n",
    "    minus_dm = np.where((down_move > up_move) & (down_move > 0), down_move, 0.0)\n",
    "    plus_dm = pd.Series(plus_dm, index=df.index)\n",
    "    minus_dm = pd.Series(minus_dm, index=df.index)\n",
    "    return plus_dm, minus_dm\n",
    "\n",
    "def adx(df, length=14):\n",
    "    tr = true_range(df)\n",
    "    atr_series = tr.ewm(alpha=1/length, adjust=False).mean()\n",
    "    plus_dm, minus_dm = directional_movements(df)\n",
    "    plus_dm_smooth = plus_dm.ewm(alpha=1/length, adjust=False).mean()\n",
    "    minus_dm_smooth = minus_dm.ewm(alpha=1/length, adjust=False).mean()\n",
    "    di_plus = 100 * (plus_dm_smooth / atr_series).replace([np.inf, -np.inf], 0).fillna(0)\n",
    "    di_minus = 100 * (minus_dm_smooth / atr_series).replace([np.inf, -np.inf], 0).fillna(0)\n",
    "    dx = ( (di_plus - di_minus).abs() / (di_plus + di_minus).replace(0, np.nan) ) * 100\n",
    "    dx = dx.replace([np.inf, -np.inf], np.nan).fillna(0)\n",
    "    adx_series = dx.ewm(alpha=1/length, adjust=False).mean()\n",
    "    out = pd.DataFrame({'ADX': adx_series, 'DI+': di_plus, 'DI-': di_minus}, index=df.index)\n",
    "    return out\n",
    "\n",
    "def add_indicators_custom(df):\n",
    "    df = df.copy()\n",
    "    df['EMA20'] = ema(df['Close'], 20)\n",
    "    df['EMA50'] = ema(df['Close'], 50)\n",
    "    df['EMA200'] = ema(df['Close'], 200)\n",
    "    df['ATR'] = atr(df, ATR_LENGTH)\n",
    "    adx_df = adx(df, 14)\n",
    "    df['ADX'] = adx_df['ADX']\n",
    "    df['DI+'] = adx_df['DI+']\n",
    "    df['DI-'] = adx_df['DI-']\n",
    "    return df\n",
    "\n",
    "# quick test\n",
    "_sample = add_indicators_custom(_sample)\n",
    "_sample[['Close','EMA20','EMA50','EMA200','ATR','ADX']].tail()\n"
   ]
  },
  {
   "cell_type": "code",
   "execution_count": 30,
   "id": "6cfafe37",
   "metadata": {},
   "outputs": [
    {
     "name": "stderr",
     "output_type": "stream",
     "text": [
      "/var/folders/mn/tx231v5158797chnp22wm9000000gp/T/ipykernel_94721/3118873791.py:5: FutureWarning: Downcasting object dtype arrays on .fillna, .ffill, .bfill is deprecated and will change in a future version. Call result.infer_objects(copy=False) instead. To opt-in to the future behavior, set `pd.set_option('future.no_silent_downcasting', True)`\n",
      "  df['EMA20_gt_EMA50_prev'] = df['EMA20_gt_EMA50'].shift(1).fillna(False)\n"
     ]
    },
    {
     "data": {
      "text/html": [
       "<div>\n",
       "<style scoped>\n",
       "    .dataframe tbody tr th:only-of-type {\n",
       "        vertical-align: middle;\n",
       "    }\n",
       "\n",
       "    .dataframe tbody tr th {\n",
       "        vertical-align: top;\n",
       "    }\n",
       "\n",
       "    .dataframe thead th {\n",
       "        text-align: right;\n",
       "    }\n",
       "</style>\n",
       "<table border=\"1\" class=\"dataframe\">\n",
       "  <thead>\n",
       "    <tr style=\"text-align: right;\">\n",
       "      <th></th>\n",
       "      <th>Close</th>\n",
       "      <th>EMA20</th>\n",
       "      <th>EMA50</th>\n",
       "      <th>EMA200</th>\n",
       "      <th>ADX</th>\n",
       "      <th>signal_long</th>\n",
       "      <th>signal_short</th>\n",
       "    </tr>\n",
       "    <tr>\n",
       "      <th>Date</th>\n",
       "      <th></th>\n",
       "      <th></th>\n",
       "      <th></th>\n",
       "      <th></th>\n",
       "      <th></th>\n",
       "      <th></th>\n",
       "      <th></th>\n",
       "    </tr>\n",
       "  </thead>\n",
       "  <tbody>\n",
       "    <tr>\n",
       "      <th>2024-12-19</th>\n",
       "      <td>701.304688</td>\n",
       "      <td>710.702302</td>\n",
       "      <td>712.139504</td>\n",
       "      <td>727.531884</td>\n",
       "      <td>21.605207</td>\n",
       "      <td>False</td>\n",
       "      <td>False</td>\n",
       "    </tr>\n",
       "    <tr>\n",
       "      <th>2024-12-20</th>\n",
       "      <td>684.953552</td>\n",
       "      <td>708.250040</td>\n",
       "      <td>711.073388</td>\n",
       "      <td>727.108219</td>\n",
       "      <td>21.909683</td>\n",
       "      <td>False</td>\n",
       "      <td>False</td>\n",
       "    </tr>\n",
       "    <tr>\n",
       "      <th>2024-12-23</th>\n",
       "      <td>689.240723</td>\n",
       "      <td>706.439629</td>\n",
       "      <td>710.217206</td>\n",
       "      <td>726.731428</td>\n",
       "      <td>22.192410</td>\n",
       "      <td>False</td>\n",
       "      <td>False</td>\n",
       "    </tr>\n",
       "    <tr>\n",
       "      <th>2024-12-24</th>\n",
       "      <td>693.827026</td>\n",
       "      <td>705.238429</td>\n",
       "      <td>709.574453</td>\n",
       "      <td>726.404021</td>\n",
       "      <td>22.809076</td>\n",
       "      <td>False</td>\n",
       "      <td>False</td>\n",
       "    </tr>\n",
       "    <tr>\n",
       "      <th>2024-12-26</th>\n",
       "      <td>677.176758</td>\n",
       "      <td>702.565889</td>\n",
       "      <td>708.303956</td>\n",
       "      <td>725.914198</td>\n",
       "      <td>23.710837</td>\n",
       "      <td>False</td>\n",
       "      <td>False</td>\n",
       "    </tr>\n",
       "    <tr>\n",
       "      <th>2024-12-27</th>\n",
       "      <td>673.288391</td>\n",
       "      <td>699.777556</td>\n",
       "      <td>706.930796</td>\n",
       "      <td>725.390558</td>\n",
       "      <td>24.742958</td>\n",
       "      <td>False</td>\n",
       "      <td>False</td>\n",
       "    </tr>\n",
       "    <tr>\n",
       "      <th>2024-12-30</th>\n",
       "      <td>667.505676</td>\n",
       "      <td>696.704043</td>\n",
       "      <td>705.384713</td>\n",
       "      <td>724.814589</td>\n",
       "      <td>26.082214</td>\n",
       "      <td>False</td>\n",
       "      <td>False</td>\n",
       "    </tr>\n",
       "    <tr>\n",
       "      <th>2024-12-31</th>\n",
       "      <td>661.872437</td>\n",
       "      <td>693.386748</td>\n",
       "      <td>703.678349</td>\n",
       "      <td>724.188299</td>\n",
       "      <td>27.530573</td>\n",
       "      <td>False</td>\n",
       "      <td>False</td>\n",
       "    </tr>\n",
       "  </tbody>\n",
       "</table>\n",
       "</div>"
      ],
      "text/plain": [
       "                 Close       EMA20       EMA50      EMA200        ADX  \\\n",
       "Date                                                                    \n",
       "2024-12-19  701.304688  710.702302  712.139504  727.531884  21.605207   \n",
       "2024-12-20  684.953552  708.250040  711.073388  727.108219  21.909683   \n",
       "2024-12-23  689.240723  706.439629  710.217206  726.731428  22.192410   \n",
       "2024-12-24  693.827026  705.238429  709.574453  726.404021  22.809076   \n",
       "2024-12-26  677.176758  702.565889  708.303956  725.914198  23.710837   \n",
       "2024-12-27  673.288391  699.777556  706.930796  725.390558  24.742958   \n",
       "2024-12-30  667.505676  696.704043  705.384713  724.814589  26.082214   \n",
       "2024-12-31  661.872437  693.386748  703.678349  724.188299  27.530573   \n",
       "\n",
       "            signal_long  signal_short  \n",
       "Date                                   \n",
       "2024-12-19        False         False  \n",
       "2024-12-20        False         False  \n",
       "2024-12-23        False         False  \n",
       "2024-12-24        False         False  \n",
       "2024-12-26        False         False  \n",
       "2024-12-27        False         False  \n",
       "2024-12-30        False         False  \n",
       "2024-12-31        False         False  "
      ]
     },
     "execution_count": 30,
     "metadata": {},
     "output_type": "execute_result"
    }
   ],
   "source": [
    "# Safe signal generation for swing strategy\n",
    "def generate_signals_safe(df):\n",
    "    df = df.copy()\n",
    "    df['EMA20_gt_EMA50'] = (df['EMA20'] > df['EMA50']).fillna(False)\n",
    "    df['EMA20_gt_EMA50_prev'] = df['EMA20_gt_EMA50'].shift(1).fillna(False)\n",
    "    df['long_cross'] = (df['EMA20_gt_EMA50'] == True) & (df['EMA20_gt_EMA50_prev'] == False)\n",
    "    df['short_cross'] = (df['EMA20_gt_EMA50'] == False) & (df['EMA20_gt_EMA50_prev'] == True)\n",
    "    df['price_above_200'] = (df['Close'] > df['EMA200']).fillna(False)\n",
    "    df['price_below_200'] = (df['Close'] < df['EMA200']).fillna(False)\n",
    "    df['adx_ok'] = (df['ADX'] > ADX_THRESHOLD).fillna(False)\n",
    "    df['signal_long'] = df['long_cross'] & df['price_above_200'] & df['adx_ok']\n",
    "    df['signal_short'] = df['short_cross'] & df['price_below_200'] & df['adx_ok']\n",
    "    return df\n",
    "\n",
    "# test\n",
    "_sample2 = generate_signals_safe(_sample)\n",
    "_sample2[['Close','EMA20','EMA50','EMA200','ADX','signal_long','signal_short']].tail(8)\n"
   ]
  },
  {
   "cell_type": "code",
   "execution_count": 31,
   "id": "5e9b9170",
   "metadata": {},
   "outputs": [],
   "source": [
    "# Backtester (swing behavior, trailing stop, next-day open fills)\n",
    "from collections import namedtuple\n",
    "Trade = namedtuple('Trade', ['ticker','entry_date','entry_price','side','size','initial_stop','trailing_stop','exit_date','exit_price','pnl','reason'])\n",
    "\n",
    "def run_backtest_for_symbol_swing(df, initial_capital=INITIAL_CAPITAL):\n",
    "    equity = initial_capital\n",
    "    cash = initial_capital\n",
    "    position = None\n",
    "    trades = []\n",
    "    equity_curve = []\n",
    "    peak_equity = initial_capital\n",
    "    drawdowns = []\n",
    "\n",
    "    for i in range(1, len(df)-1):\n",
    "        row = df.iloc[i]\n",
    "        next_row = df.iloc[i+1]\n",
    "\n",
    "        # Entry logic (enter at next open after signal)\n",
    "        if position is None:\n",
    "            if row.get('signal_long', False):\n",
    "                entry_price = next_row['Open'] * (1 + SLIPPAGE_PCT)\n",
    "                atr = row['ATR'] if not np.isnan(row['ATR']) else 0.0\n",
    "                initial_stop = entry_price - ATR_MULTIPLIER * atr\n",
    "                # Cap risk: ensure risk amount per trade <= RISK_PER_TRADE * equity\n",
    "                risk_amount = equity * RISK_PER_TRADE\n",
    "                risk_per_share = entry_price - initial_stop\n",
    "                if risk_per_share <= 0: \n",
    "                    continue\n",
    "                size_shares = math.floor(risk_amount / risk_per_share)\n",
    "                if size_shares <= 0:\n",
    "                    continue\n",
    "                # initialize trailing stop same as initial stop\n",
    "                trailing_stop = entry_price - TRAILING_ATR_MULT * atr\n",
    "                position = {'side':'long','entry_price':entry_price,'size':size_shares,'initial_stop':initial_stop,\n",
    "                            'trailing_stop':trailing_stop,'entry_date':next_row.name,'held_days':0}\n",
    "                cash -= entry_price * size_shares + BROKERAGE_PER_TRADE\n",
    "            elif USE_SHORTS and row.get('signal_short', False):\n",
    "                entry_price = next_row['Open'] * (1 - SLIPPAGE_PCT)\n",
    "                atr = row['ATR'] if not np.isnan(row['ATR']) else 0.0\n",
    "                initial_stop = entry_price + ATR_MULTIPLIER * atr\n",
    "                risk_amount = equity * RISK_PER_TRADE\n",
    "                risk_per_share = initial_stop - entry_price\n",
    "                if risk_per_share <= 0:\n",
    "                    continue\n",
    "                size_shares = math.floor(risk_amount / risk_per_share)\n",
    "                if size_shares <= 0:\n",
    "                    continue\n",
    "                trailing_stop = entry_price + TRAILING_ATR_MULT * atr\n",
    "                position = {'side':'short','entry_price':entry_price,'size':size_shares,'initial_stop':initial_stop,\n",
    "                            'trailing_stop':trailing_stop,'entry_date':next_row.name,'held_days':0}\n",
    "                cash -= BROKERAGE_PER_TRADE\n",
    "        else:\n",
    "            # Manage position: update trailing stop and check exit conditions.\n",
    "            exit_flag = False\n",
    "            exit_price = None\n",
    "            reason = None\n",
    "\n",
    "            # update held days\n",
    "            position['held_days'] += 1\n",
    "\n",
    "            if position['side'] == 'long':\n",
    "                # update trailing_stop to max(previous, close - ATR*TRAILING_ATR_MULT)\n",
    "                atr = row['ATR'] if not np.isnan(row['ATR']) else 0.0\n",
    "                new_trailing = max(position['trailing_stop'], row['Close'] - TRAILING_ATR_MULT * atr)\n",
    "                position['trailing_stop'] = new_trailing\n",
    "                # if today's low breaches trailing stop -> exit at next open\n",
    "                if row['Low'] <= position['trailing_stop']:\n",
    "                    exit_flag = True\n",
    "                    exit_price = next_row['Open'] * (1 - SLIPPAGE_PCT)\n",
    "                    reason = 'trailing_stop_hit'\n",
    "                # forced time exit\n",
    "                elif MAX_HOLD_DAYS and position['held_days'] >= MAX_HOLD_DAYS:\n",
    "                    exit_flag = True\n",
    "                    exit_price = next_row['Open'] * (1 - SLIPPAGE_PCT)\n",
    "                    reason = 'time_exit'\n",
    "                # ema-exit (optional): EMA20 crossing below EMA50 -> exit next open\n",
    "                elif row['EMA20'] < row['EMA50']:\n",
    "                    exit_flag = True\n",
    "                    exit_price = next_row['Open'] * (1 - SLIPPAGE_PCT)\n",
    "                    reason = 'ema_exit'\n",
    "            else: # short\n",
    "                atr = row['ATR'] if not np.isnan(row['ATR']) else 0.0\n",
    "                new_trailing = min(position['trailing_stop'], row['Close'] + TRAILING_ATR_MULT * atr)\n",
    "                position['trailing_stop'] = new_trailing\n",
    "                if row['High'] >= position['trailing_stop']:\n",
    "                    exit_flag = True\n",
    "                    exit_price = next_row['Open'] * (1 + SLIPPAGE_PCT)\n",
    "                    reason = 'trailing_stop_hit'\n",
    "                elif MAX_HOLD_DAYS and position['held_days'] >= MAX_HOLD_DAYS:\n",
    "                    exit_flag = True\n",
    "                    exit_price = next_row['Open'] * (1 + SLIPPAGE_PCT)\n",
    "                    reason = 'time_exit'\n",
    "                elif row['EMA20'] > row['EMA50']:\n",
    "                    exit_flag = True\n",
    "                    exit_price = next_row['Open'] * (1 + SLIPPAGE_PCT)\n",
    "                    reason = 'ema_exit'\n",
    "\n",
    "            if exit_flag:\n",
    "                if position['side'] == 'long':\n",
    "                    exit_val = exit_price * position['size']\n",
    "                    entry_val = position['entry_price'] * position['size']\n",
    "                    pnl = exit_val - entry_val - BROKERAGE_PER_TRADE\n",
    "                    cash += exit_val - BROKERAGE_PER_TRADE\n",
    "                else:\n",
    "                    entry_val = position['entry_price'] * position['size']\n",
    "                    exit_val = exit_price * position['size']\n",
    "                    pnl = entry_val - exit_val - BROKERAGE_PER_TRADE\n",
    "                    cash += (entry_val - exit_val) - BROKERAGE_PER_TRADE\n",
    "\n",
    "                equity = cash\n",
    "                trades.append(Trade(ticker=None, entry_date=position['entry_date'], entry_price=position['entry_price'],\n",
    "                                    side=position['side'], size=position['size'], initial_stop=position['initial_stop'],\n",
    "                                    trailing_stop=position['trailing_stop'], exit_date=next_row.name, exit_price=exit_price, pnl=pnl, reason=reason))\n",
    "                position = None\n",
    "\n",
    "        # mark-to-market for equity curve using day's close price\n",
    "        if position is None:\n",
    "            mtm = cash\n",
    "        else:\n",
    "            if position['side'] == 'long':\n",
    "                mtm = cash + row['Close'] * position['size']\n",
    "            else:\n",
    "                mtm = cash + (position['entry_price'] - row['Close']) * position['size']\n",
    "        equity_curve.append({'date':row.name, 'equity':mtm})\n",
    "        if mtm > peak_equity:\n",
    "            peak_equity = mtm\n",
    "        drawdowns.append((peak_equity - mtm) / peak_equity if peak_equity>0 else 0)\n",
    "\n",
    "    eq_df = pd.DataFrame(equity_curve).set_index('date')\n",
    "    trades_df = pd.DataFrame(trades)\n",
    "    return trades_df, eq_df, (max(drawdowns)*100 if drawdowns else 0)\n",
    "\n",
    "def backtest_universe_swing(tickers):\n",
    "    all_trades = []\n",
    "    equity_tracks = {}\n",
    "    max_dd_per_symbol = {}\n",
    "    for t in tickers:\n",
    "        if PRINT_PROGRESS:\n",
    "            print('Running:', t)\n",
    "        df = download_stock(t, START_DATE, END_DATE, TIMEFRAME)\n",
    "        df = add_indicators_custom(df)\n",
    "        df = df.dropna(subset=['EMA20','EMA50','EMA200','ADX','ATR']).copy()\n",
    "        if df.empty:\n",
    "            if PRINT_PROGRESS:\n",
    "                print(f\"Not enough data/indicators for {t}; skipping.\")\n",
    "            continue\n",
    "        df = generate_signals_safe(df)\n",
    "        trades_df, eq_df, max_dd = run_backtest_for_symbol_swing(df, initial_capital=INITIAL_CAPITAL)\n",
    "        trades_df['ticker'] = t\n",
    "        all_trades.append(trades_df)\n",
    "        equity_tracks[t] = eq_df\n",
    "        max_dd_per_symbol[t] = max_dd\n",
    "    all_trades_df = pd.concat(all_trades, ignore_index=True) if all_trades else pd.DataFrame()\n",
    "    return all_trades_df, equity_tracks, max_dd_per_symbol\n"
   ]
  },
  {
   "cell_type": "code",
   "execution_count": 32,
   "id": "439db66b",
   "metadata": {},
   "outputs": [
    {
     "name": "stdout",
     "output_type": "stream",
     "text": [
      "Running: SBICARD.NS\n",
      "Running: BDL.NS\n"
     ]
    },
    {
     "name": "stderr",
     "output_type": "stream",
     "text": [
      "/var/folders/mn/tx231v5158797chnp22wm9000000gp/T/ipykernel_94721/3118873791.py:5: FutureWarning: Downcasting object dtype arrays on .fillna, .ffill, .bfill is deprecated and will change in a future version. Call result.infer_objects(copy=False) instead. To opt-in to the future behavior, set `pd.set_option('future.no_silent_downcasting', True)`\n",
      "  df['EMA20_gt_EMA50_prev'] = df['EMA20_gt_EMA50'].shift(1).fillna(False)\n",
      "/var/folders/mn/tx231v5158797chnp22wm9000000gp/T/ipykernel_94721/3118873791.py:5: FutureWarning: Downcasting object dtype arrays on .fillna, .ffill, .bfill is deprecated and will change in a future version. Call result.infer_objects(copy=False) instead. To opt-in to the future behavior, set `pd.set_option('future.no_silent_downcasting', True)`\n",
      "  df['EMA20_gt_EMA50_prev'] = df['EMA20_gt_EMA50'].shift(1).fillna(False)\n"
     ]
    },
    {
     "name": "stdout",
     "output_type": "stream",
     "text": [
      "Running: INDHOTEL.NS\n"
     ]
    },
    {
     "name": "stderr",
     "output_type": "stream",
     "text": [
      "/var/folders/mn/tx231v5158797chnp22wm9000000gp/T/ipykernel_94721/3118873791.py:5: FutureWarning: Downcasting object dtype arrays on .fillna, .ffill, .bfill is deprecated and will change in a future version. Call result.infer_objects(copy=False) instead. To opt-in to the future behavior, set `pd.set_option('future.no_silent_downcasting', True)`\n",
      "  df['EMA20_gt_EMA50_prev'] = df['EMA20_gt_EMA50'].shift(1).fillna(False)\n"
     ]
    },
    {
     "name": "stdout",
     "output_type": "stream",
     "text": [
      "Running: BSE.NS\n"
     ]
    },
    {
     "name": "stderr",
     "output_type": "stream",
     "text": [
      "/var/folders/mn/tx231v5158797chnp22wm9000000gp/T/ipykernel_94721/3118873791.py:5: FutureWarning: Downcasting object dtype arrays on .fillna, .ffill, .bfill is deprecated and will change in a future version. Call result.infer_objects(copy=False) instead. To opt-in to the future behavior, set `pd.set_option('future.no_silent_downcasting', True)`\n",
      "  df['EMA20_gt_EMA50_prev'] = df['EMA20_gt_EMA50'].shift(1).fillna(False)\n"
     ]
    },
    {
     "name": "stdout",
     "output_type": "stream",
     "text": [
      "Running: NYKAA.NS\n"
     ]
    },
    {
     "name": "stderr",
     "output_type": "stream",
     "text": [
      "/var/folders/mn/tx231v5158797chnp22wm9000000gp/T/ipykernel_94721/3118873791.py:5: FutureWarning: Downcasting object dtype arrays on .fillna, .ffill, .bfill is deprecated and will change in a future version. Call result.infer_objects(copy=False) instead. To opt-in to the future behavior, set `pd.set_option('future.no_silent_downcasting', True)`\n",
      "  df['EMA20_gt_EMA50_prev'] = df['EMA20_gt_EMA50'].shift(1).fillna(False)\n"
     ]
    },
    {
     "name": "stdout",
     "output_type": "stream",
     "text": [
      "Running: BAJFINANCE.NS\n"
     ]
    },
    {
     "name": "stderr",
     "output_type": "stream",
     "text": [
      "/var/folders/mn/tx231v5158797chnp22wm9000000gp/T/ipykernel_94721/3118873791.py:5: FutureWarning: Downcasting object dtype arrays on .fillna, .ffill, .bfill is deprecated and will change in a future version. Call result.infer_objects(copy=False) instead. To opt-in to the future behavior, set `pd.set_option('future.no_silent_downcasting', True)`\n",
      "  df['EMA20_gt_EMA50_prev'] = df['EMA20_gt_EMA50'].shift(1).fillna(False)\n"
     ]
    },
    {
     "name": "stdout",
     "output_type": "stream",
     "text": [
      "Running: PAYTM.NS\n"
     ]
    },
    {
     "name": "stderr",
     "output_type": "stream",
     "text": [
      "/var/folders/mn/tx231v5158797chnp22wm9000000gp/T/ipykernel_94721/3118873791.py:5: FutureWarning: Downcasting object dtype arrays on .fillna, .ffill, .bfill is deprecated and will change in a future version. Call result.infer_objects(copy=False) instead. To opt-in to the future behavior, set `pd.set_option('future.no_silent_downcasting', True)`\n",
      "  df['EMA20_gt_EMA50_prev'] = df['EMA20_gt_EMA50'].shift(1).fillna(False)\n"
     ]
    },
    {
     "name": "stdout",
     "output_type": "stream",
     "text": [
      "Running: SOLARINDS.NS\n"
     ]
    },
    {
     "name": "stderr",
     "output_type": "stream",
     "text": [
      "/var/folders/mn/tx231v5158797chnp22wm9000000gp/T/ipykernel_94721/3118873791.py:5: FutureWarning: Downcasting object dtype arrays on .fillna, .ffill, .bfill is deprecated and will change in a future version. Call result.infer_objects(copy=False) instead. To opt-in to the future behavior, set `pd.set_option('future.no_silent_downcasting', True)`\n",
      "  df['EMA20_gt_EMA50_prev'] = df['EMA20_gt_EMA50'].shift(1).fillna(False)\n"
     ]
    },
    {
     "name": "stdout",
     "output_type": "stream",
     "text": [
      "Running: CHOLAFIN.NS\n"
     ]
    },
    {
     "name": "stderr",
     "output_type": "stream",
     "text": [
      "/var/folders/mn/tx231v5158797chnp22wm9000000gp/T/ipykernel_94721/3118873791.py:5: FutureWarning: Downcasting object dtype arrays on .fillna, .ffill, .bfill is deprecated and will change in a future version. Call result.infer_objects(copy=False) instead. To opt-in to the future behavior, set `pd.set_option('future.no_silent_downcasting', True)`\n",
      "  df['EMA20_gt_EMA50_prev'] = df['EMA20_gt_EMA50'].shift(1).fillna(False)\n"
     ]
    },
    {
     "name": "stdout",
     "output_type": "stream",
     "text": [
      "Running: UNITDSPR.NS\n"
     ]
    },
    {
     "name": "stderr",
     "output_type": "stream",
     "text": [
      "/var/folders/mn/tx231v5158797chnp22wm9000000gp/T/ipykernel_94721/3118873791.py:5: FutureWarning: Downcasting object dtype arrays on .fillna, .ffill, .bfill is deprecated and will change in a future version. Call result.infer_objects(copy=False) instead. To opt-in to the future behavior, set `pd.set_option('future.no_silent_downcasting', True)`\n",
      "  df['EMA20_gt_EMA50_prev'] = df['EMA20_gt_EMA50'].shift(1).fillna(False)\n"
     ]
    },
    {
     "name": "stdout",
     "output_type": "stream",
     "text": [
      "Running: DIVISLAB.NS\n"
     ]
    },
    {
     "name": "stderr",
     "output_type": "stream",
     "text": [
      "/var/folders/mn/tx231v5158797chnp22wm9000000gp/T/ipykernel_94721/3118873791.py:5: FutureWarning: Downcasting object dtype arrays on .fillna, .ffill, .bfill is deprecated and will change in a future version. Call result.infer_objects(copy=False) instead. To opt-in to the future behavior, set `pd.set_option('future.no_silent_downcasting', True)`\n",
      "  df['EMA20_gt_EMA50_prev'] = df['EMA20_gt_EMA50'].shift(1).fillna(False)\n"
     ]
    },
    {
     "name": "stdout",
     "output_type": "stream",
     "text": [
      "Running: MUTHOOTFIN.NS\n"
     ]
    },
    {
     "name": "stderr",
     "output_type": "stream",
     "text": [
      "/var/folders/mn/tx231v5158797chnp22wm9000000gp/T/ipykernel_94721/3118873791.py:5: FutureWarning: Downcasting object dtype arrays on .fillna, .ffill, .bfill is deprecated and will change in a future version. Call result.infer_objects(copy=False) instead. To opt-in to the future behavior, set `pd.set_option('future.no_silent_downcasting', True)`\n",
      "  df['EMA20_gt_EMA50_prev'] = df['EMA20_gt_EMA50'].shift(1).fillna(False)\n"
     ]
    },
    {
     "name": "stdout",
     "output_type": "stream",
     "text": [
      "Running: BHARTIARTL.NS\n"
     ]
    },
    {
     "name": "stderr",
     "output_type": "stream",
     "text": [
      "/var/folders/mn/tx231v5158797chnp22wm9000000gp/T/ipykernel_94721/3118873791.py:5: FutureWarning: Downcasting object dtype arrays on .fillna, .ffill, .bfill is deprecated and will change in a future version. Call result.infer_objects(copy=False) instead. To opt-in to the future behavior, set `pd.set_option('future.no_silent_downcasting', True)`\n",
      "  df['EMA20_gt_EMA50_prev'] = df['EMA20_gt_EMA50'].shift(1).fillna(False)\n"
     ]
    },
    {
     "name": "stdout",
     "output_type": "stream",
     "text": [
      "Running: ICICIBANK.NS\n"
     ]
    },
    {
     "name": "stderr",
     "output_type": "stream",
     "text": [
      "/var/folders/mn/tx231v5158797chnp22wm9000000gp/T/ipykernel_94721/3118873791.py:5: FutureWarning: Downcasting object dtype arrays on .fillna, .ffill, .bfill is deprecated and will change in a future version. Call result.infer_objects(copy=False) instead. To opt-in to the future behavior, set `pd.set_option('future.no_silent_downcasting', True)`\n",
      "  df['EMA20_gt_EMA50_prev'] = df['EMA20_gt_EMA50'].shift(1).fillna(False)\n"
     ]
    },
    {
     "name": "stdout",
     "output_type": "stream",
     "text": [
      "Running: MAZDOCK.NS\n"
     ]
    },
    {
     "name": "stderr",
     "output_type": "stream",
     "text": [
      "/var/folders/mn/tx231v5158797chnp22wm9000000gp/T/ipykernel_94721/3118873791.py:5: FutureWarning: Downcasting object dtype arrays on .fillna, .ffill, .bfill is deprecated and will change in a future version. Call result.infer_objects(copy=False) instead. To opt-in to the future behavior, set `pd.set_option('future.no_silent_downcasting', True)`\n",
      "  df['EMA20_gt_EMA50_prev'] = df['EMA20_gt_EMA50'].shift(1).fillna(False)\n"
     ]
    },
    {
     "name": "stdout",
     "output_type": "stream",
     "text": [
      "Running: SHREECEM.NS\n"
     ]
    },
    {
     "name": "stderr",
     "output_type": "stream",
     "text": [
      "/var/folders/mn/tx231v5158797chnp22wm9000000gp/T/ipykernel_94721/3118873791.py:5: FutureWarning: Downcasting object dtype arrays on .fillna, .ffill, .bfill is deprecated and will change in a future version. Call result.infer_objects(copy=False) instead. To opt-in to the future behavior, set `pd.set_option('future.no_silent_downcasting', True)`\n",
      "  df['EMA20_gt_EMA50_prev'] = df['EMA20_gt_EMA50'].shift(1).fillna(False)\n"
     ]
    },
    {
     "name": "stdout",
     "output_type": "stream",
     "text": [
      "Running: DIXON.NS\n"
     ]
    },
    {
     "name": "stderr",
     "output_type": "stream",
     "text": [
      "/var/folders/mn/tx231v5158797chnp22wm9000000gp/T/ipykernel_94721/3118873791.py:5: FutureWarning: Downcasting object dtype arrays on .fillna, .ffill, .bfill is deprecated and will change in a future version. Call result.infer_objects(copy=False) instead. To opt-in to the future behavior, set `pd.set_option('future.no_silent_downcasting', True)`\n",
      "  df['EMA20_gt_EMA50_prev'] = df['EMA20_gt_EMA50'].shift(1).fillna(False)\n"
     ]
    },
    {
     "name": "stdout",
     "output_type": "stream",
     "text": [
      "Running: PERSISTENT.NS\n"
     ]
    },
    {
     "name": "stderr",
     "output_type": "stream",
     "text": [
      "/var/folders/mn/tx231v5158797chnp22wm9000000gp/T/ipykernel_94721/3118873791.py:5: FutureWarning: Downcasting object dtype arrays on .fillna, .ffill, .bfill is deprecated and will change in a future version. Call result.infer_objects(copy=False) instead. To opt-in to the future behavior, set `pd.set_option('future.no_silent_downcasting', True)`\n",
      "  df['EMA20_gt_EMA50_prev'] = df['EMA20_gt_EMA50'].shift(1).fillna(False)\n"
     ]
    },
    {
     "name": "stdout",
     "output_type": "stream",
     "text": [
      "Running: SRF.NS\n"
     ]
    },
    {
     "name": "stderr",
     "output_type": "stream",
     "text": [
      "/var/folders/mn/tx231v5158797chnp22wm9000000gp/T/ipykernel_94721/3118873791.py:5: FutureWarning: Downcasting object dtype arrays on .fillna, .ffill, .bfill is deprecated and will change in a future version. Call result.infer_objects(copy=False) instead. To opt-in to the future behavior, set `pd.set_option('future.no_silent_downcasting', True)`\n",
      "  df['EMA20_gt_EMA50_prev'] = df['EMA20_gt_EMA50'].shift(1).fillna(False)\n"
     ]
    },
    {
     "name": "stdout",
     "output_type": "stream",
     "text": [
      "Running: TVSMOTOR.NS\n"
     ]
    },
    {
     "name": "stderr",
     "output_type": "stream",
     "text": [
      "/var/folders/mn/tx231v5158797chnp22wm9000000gp/T/ipykernel_94721/3118873791.py:5: FutureWarning: Downcasting object dtype arrays on .fillna, .ffill, .bfill is deprecated and will change in a future version. Call result.infer_objects(copy=False) instead. To opt-in to the future behavior, set `pd.set_option('future.no_silent_downcasting', True)`\n",
      "  df['EMA20_gt_EMA50_prev'] = df['EMA20_gt_EMA50'].shift(1).fillna(False)\n"
     ]
    },
    {
     "name": "stdout",
     "output_type": "stream",
     "text": [
      "Running: SBILIFE.NS\n"
     ]
    },
    {
     "name": "stderr",
     "output_type": "stream",
     "text": [
      "/var/folders/mn/tx231v5158797chnp22wm9000000gp/T/ipykernel_94721/3118873791.py:5: FutureWarning: Downcasting object dtype arrays on .fillna, .ffill, .bfill is deprecated and will change in a future version. Call result.infer_objects(copy=False) instead. To opt-in to the future behavior, set `pd.set_option('future.no_silent_downcasting', True)`\n",
      "  df['EMA20_gt_EMA50_prev'] = df['EMA20_gt_EMA50'].shift(1).fillna(False)\n"
     ]
    },
    {
     "name": "stdout",
     "output_type": "stream",
     "text": [
      "Running: MAXHEALTH.NS\n"
     ]
    },
    {
     "name": "stderr",
     "output_type": "stream",
     "text": [
      "/var/folders/mn/tx231v5158797chnp22wm9000000gp/T/ipykernel_94721/3118873791.py:5: FutureWarning: Downcasting object dtype arrays on .fillna, .ffill, .bfill is deprecated and will change in a future version. Call result.infer_objects(copy=False) instead. To opt-in to the future behavior, set `pd.set_option('future.no_silent_downcasting', True)`\n",
      "  df['EMA20_gt_EMA50_prev'] = df['EMA20_gt_EMA50'].shift(1).fillna(False)\n"
     ]
    },
    {
     "name": "stdout",
     "output_type": "stream",
     "text": [
      "Running: MFSL.NS\n"
     ]
    },
    {
     "name": "stderr",
     "output_type": "stream",
     "text": [
      "/var/folders/mn/tx231v5158797chnp22wm9000000gp/T/ipykernel_94721/3118873791.py:5: FutureWarning: Downcasting object dtype arrays on .fillna, .ffill, .bfill is deprecated and will change in a future version. Call result.infer_objects(copy=False) instead. To opt-in to the future behavior, set `pd.set_option('future.no_silent_downcasting', True)`\n",
      "  df['EMA20_gt_EMA50_prev'] = df['EMA20_gt_EMA50'].shift(1).fillna(False)\n"
     ]
    },
    {
     "name": "stdout",
     "output_type": "stream",
     "text": [
      "Running: COFORGE.NS\n"
     ]
    },
    {
     "name": "stderr",
     "output_type": "stream",
     "text": [
      "/var/folders/mn/tx231v5158797chnp22wm9000000gp/T/ipykernel_94721/3118873791.py:5: FutureWarning: Downcasting object dtype arrays on .fillna, .ffill, .bfill is deprecated and will change in a future version. Call result.infer_objects(copy=False) instead. To opt-in to the future behavior, set `pd.set_option('future.no_silent_downcasting', True)`\n",
      "  df['EMA20_gt_EMA50_prev'] = df['EMA20_gt_EMA50'].shift(1).fillna(False)\n"
     ]
    },
    {
     "name": "stdout",
     "output_type": "stream",
     "text": [
      "Running: HDFCLIFE.NS\n"
     ]
    },
    {
     "name": "stderr",
     "output_type": "stream",
     "text": [
      "/var/folders/mn/tx231v5158797chnp22wm9000000gp/T/ipykernel_94721/3118873791.py:5: FutureWarning: Downcasting object dtype arrays on .fillna, .ffill, .bfill is deprecated and will change in a future version. Call result.infer_objects(copy=False) instead. To opt-in to the future behavior, set `pd.set_option('future.no_silent_downcasting', True)`\n",
      "  df['EMA20_gt_EMA50_prev'] = df['EMA20_gt_EMA50'].shift(1).fillna(False)\n"
     ]
    },
    {
     "name": "stdout",
     "output_type": "stream",
     "text": [
      "Running: INDIGO.NS\n"
     ]
    },
    {
     "name": "stderr",
     "output_type": "stream",
     "text": [
      "/var/folders/mn/tx231v5158797chnp22wm9000000gp/T/ipykernel_94721/3118873791.py:5: FutureWarning: Downcasting object dtype arrays on .fillna, .ffill, .bfill is deprecated and will change in a future version. Call result.infer_objects(copy=False) instead. To opt-in to the future behavior, set `pd.set_option('future.no_silent_downcasting', True)`\n",
      "  df['EMA20_gt_EMA50_prev'] = df['EMA20_gt_EMA50'].shift(1).fillna(False)\n"
     ]
    },
    {
     "name": "stdout",
     "output_type": "stream",
     "text": [
      "Running: KOTAKBANK.NS\n"
     ]
    },
    {
     "name": "stderr",
     "output_type": "stream",
     "text": [
      "/var/folders/mn/tx231v5158797chnp22wm9000000gp/T/ipykernel_94721/3118873791.py:5: FutureWarning: Downcasting object dtype arrays on .fillna, .ffill, .bfill is deprecated and will change in a future version. Call result.infer_objects(copy=False) instead. To opt-in to the future behavior, set `pd.set_option('future.no_silent_downcasting', True)`\n",
      "  df['EMA20_gt_EMA50_prev'] = df['EMA20_gt_EMA50'].shift(1).fillna(False)\n"
     ]
    },
    {
     "name": "stdout",
     "output_type": "stream",
     "text": [
      "Running: HDFCBANK.NS\n"
     ]
    },
    {
     "name": "stderr",
     "output_type": "stream",
     "text": [
      "/var/folders/mn/tx231v5158797chnp22wm9000000gp/T/ipykernel_94721/3118873791.py:5: FutureWarning: Downcasting object dtype arrays on .fillna, .ffill, .bfill is deprecated and will change in a future version. Call result.infer_objects(copy=False) instead. To opt-in to the future behavior, set `pd.set_option('future.no_silent_downcasting', True)`\n",
      "  df['EMA20_gt_EMA50_prev'] = df['EMA20_gt_EMA50'].shift(1).fillna(False)\n"
     ]
    },
    {
     "name": "stdout",
     "output_type": "stream",
     "text": [
      "Running: BEL.NS\n"
     ]
    },
    {
     "name": "stderr",
     "output_type": "stream",
     "text": [
      "/var/folders/mn/tx231v5158797chnp22wm9000000gp/T/ipykernel_94721/3118873791.py:5: FutureWarning: Downcasting object dtype arrays on .fillna, .ffill, .bfill is deprecated and will change in a future version. Call result.infer_objects(copy=False) instead. To opt-in to the future behavior, set `pd.set_option('future.no_silent_downcasting', True)`\n",
      "  df['EMA20_gt_EMA50_prev'] = df['EMA20_gt_EMA50'].shift(1).fillna(False)\n"
     ]
    },
    {
     "name": "stdout",
     "output_type": "stream",
     "text": [
      "Running: BAJAJFINSV.NS\n",
      "Max drawdowns per symbol (%) {'SBICARD.NS': np.float64(2.731084636042651), 'BDL.NS': np.float64(28.86678800277908), 'INDHOTEL.NS': np.float64(17.336883014302025), 'BSE.NS': np.float64(15.077231392626784), 'NYKAA.NS': np.float64(6.131949735645395), 'BAJFINANCE.NS': np.float64(33.53315592997779), 'PAYTM.NS': np.float64(2.0082951171875028), 'SOLARINDS.NS': np.float64(16.780047680567296), 'CHOLAFIN.NS': np.float64(24.28399215781462), 'UNITDSPR.NS': 0.0, 'DIVISLAB.NS': np.float64(11.048703695447024), 'MUTHOOTFIN.NS': np.float64(5.000003987365392), 'BHARTIARTL.NS': np.float64(9.414087440809501), 'ICICIBANK.NS': np.float64(4.484811488501379), 'MAZDOCK.NS': np.float64(4.564816526882012), 'SHREECEM.NS': np.float64(9.894629477747557), 'DIXON.NS': np.float64(5.61752768482091), 'PERSISTENT.NS': np.float64(13.851123251158326), 'SRF.NS': np.float64(17.003419760143665), 'TVSMOTOR.NS': np.float64(13.32208581936308), 'SBILIFE.NS': np.float64(3.0500006416447993), 'MAXHEALTH.NS': 0.0, 'MFSL.NS': np.float64(17.171205116080674), 'COFORGE.NS': np.float64(10.26038418141953), 'HDFCLIFE.NS': np.float64(6.997375805757246), 'INDIGO.NS': np.float64(32.77951108244768), 'KOTAKBANK.NS': np.float64(7.046577835762857), 'HDFCBANK.NS': np.float64(10.068931661335885), 'BEL.NS': np.float64(1.691463870691956), 'BAJAJFINSV.NS': np.float64(4.6770185573500624)}\n"
     ]
    },
    {
     "name": "stderr",
     "output_type": "stream",
     "text": [
      "/var/folders/mn/tx231v5158797chnp22wm9000000gp/T/ipykernel_94721/3118873791.py:5: FutureWarning: Downcasting object dtype arrays on .fillna, .ffill, .bfill is deprecated and will change in a future version. Call result.infer_objects(copy=False) instead. To opt-in to the future behavior, set `pd.set_option('future.no_silent_downcasting', True)`\n",
      "  df['EMA20_gt_EMA50_prev'] = df['EMA20_gt_EMA50'].shift(1).fillna(False)\n"
     ]
    },
    {
     "data": {
      "text/html": [
       "<div>\n",
       "<style scoped>\n",
       "    .dataframe tbody tr th:only-of-type {\n",
       "        vertical-align: middle;\n",
       "    }\n",
       "\n",
       "    .dataframe tbody tr th {\n",
       "        vertical-align: top;\n",
       "    }\n",
       "\n",
       "    .dataframe thead th {\n",
       "        text-align: right;\n",
       "    }\n",
       "</style>\n",
       "<table border=\"1\" class=\"dataframe\">\n",
       "  <thead>\n",
       "    <tr style=\"text-align: right;\">\n",
       "      <th></th>\n",
       "      <th>ticker</th>\n",
       "      <th>entry_date</th>\n",
       "      <th>entry_price</th>\n",
       "      <th>side</th>\n",
       "      <th>size</th>\n",
       "      <th>initial_stop</th>\n",
       "      <th>trailing_stop</th>\n",
       "      <th>exit_date</th>\n",
       "      <th>exit_price</th>\n",
       "      <th>pnl</th>\n",
       "      <th>reason</th>\n",
       "    </tr>\n",
       "  </thead>\n",
       "  <tbody>\n",
       "    <tr>\n",
       "      <th>0</th>\n",
       "      <td>SBICARD.NS</td>\n",
       "      <td>2023-07-26</td>\n",
       "      <td>878.524828</td>\n",
       "      <td>long</td>\n",
       "      <td>277.0</td>\n",
       "      <td>860.511061</td>\n",
       "      <td>860.511061</td>\n",
       "      <td>2023-07-27</td>\n",
       "      <td>868.809721</td>\n",
       "      <td>-2711.084636</td>\n",
       "      <td>trailing_stop_hit</td>\n",
       "    </tr>\n",
       "    <tr>\n",
       "      <th>1</th>\n",
       "      <td>BDL.NS</td>\n",
       "      <td>2018-06-04</td>\n",
       "      <td>176.317174</td>\n",
       "      <td>long</td>\n",
       "      <td>1020.0</td>\n",
       "      <td>171.419265</td>\n",
       "      <td>171.419265</td>\n",
       "      <td>2018-06-05</td>\n",
       "      <td>172.644339</td>\n",
       "      <td>-3766.291853</td>\n",
       "      <td>trailing_stop_hit</td>\n",
       "    </tr>\n",
       "    <tr>\n",
       "      <th>2</th>\n",
       "      <td>BDL.NS</td>\n",
       "      <td>2018-06-07</td>\n",
       "      <td>168.295453</td>\n",
       "      <td>short</td>\n",
       "      <td>1020.0</td>\n",
       "      <td>173.010989</td>\n",
       "      <td>173.010989</td>\n",
       "      <td>2018-06-08</td>\n",
       "      <td>175.048370</td>\n",
       "      <td>-6907.974960</td>\n",
       "      <td>trailing_stop_hit</td>\n",
       "    </tr>\n",
       "    <tr>\n",
       "      <th>3</th>\n",
       "      <td>BDL.NS</td>\n",
       "      <td>2018-06-25</td>\n",
       "      <td>166.415998</td>\n",
       "      <td>short</td>\n",
       "      <td>1102.0</td>\n",
       "      <td>170.463403</td>\n",
       "      <td>168.089372</td>\n",
       "      <td>2018-06-27</td>\n",
       "      <td>165.510629</td>\n",
       "      <td>977.717103</td>\n",
       "      <td>trailing_stop_hit</td>\n",
       "    </tr>\n",
       "    <tr>\n",
       "      <th>4</th>\n",
       "      <td>BDL.NS</td>\n",
       "      <td>2019-12-16</td>\n",
       "      <td>133.591681</td>\n",
       "      <td>short</td>\n",
       "      <td>750.0</td>\n",
       "      <td>139.603730</td>\n",
       "      <td>134.584609</td>\n",
       "      <td>2019-12-27</td>\n",
       "      <td>140.686367</td>\n",
       "      <td>-5341.014542</td>\n",
       "      <td>trailing_stop_hit</td>\n",
       "    </tr>\n",
       "  </tbody>\n",
       "</table>\n",
       "</div>"
      ],
      "text/plain": [
       "       ticker entry_date  entry_price   side    size  initial_stop  \\\n",
       "0  SBICARD.NS 2023-07-26   878.524828   long   277.0    860.511061   \n",
       "1      BDL.NS 2018-06-04   176.317174   long  1020.0    171.419265   \n",
       "2      BDL.NS 2018-06-07   168.295453  short  1020.0    173.010989   \n",
       "3      BDL.NS 2018-06-25   166.415998  short  1102.0    170.463403   \n",
       "4      BDL.NS 2019-12-16   133.591681  short   750.0    139.603730   \n",
       "\n",
       "   trailing_stop  exit_date  exit_price          pnl             reason  \n",
       "0     860.511061 2023-07-27  868.809721 -2711.084636  trailing_stop_hit  \n",
       "1     171.419265 2018-06-05  172.644339 -3766.291853  trailing_stop_hit  \n",
       "2     173.010989 2018-06-08  175.048370 -6907.974960  trailing_stop_hit  \n",
       "3     168.089372 2018-06-27  165.510629   977.717103  trailing_stop_hit  \n",
       "4     134.584609 2019-12-27  140.686367 -5341.014542  trailing_stop_hit  "
      ]
     },
     "metadata": {},
     "output_type": "display_data"
    },
    {
     "name": "stdout",
     "output_type": "stream",
     "text": [
      "Swing backtest cell ready. Uncomment the run lines to execute the backtest.\n"
     ]
    }
   ],
   "source": [
    "# Run the swing backtest for the defined STOCKS universe.\n",
    "# WARNING: This will download data and run the backtest for each ticker.\n",
    "# Uncomment and run when ready.\n",
    "\n",
    "trades, equity_tracks, max_dds = backtest_universe_swing(STOCKS)\n",
    "print('Max drawdowns per symbol (%)', max_dds)\n",
    "display(trades.head())\n",
    "print('Swing backtest cell ready. Uncomment the run lines to execute the backtest.')"
   ]
  },
  {
   "cell_type": "code",
   "execution_count": 33,
   "id": "8ba792d2",
   "metadata": {},
   "outputs": [],
   "source": [
    "# Performance summary helpers\n",
    "def summary_from_trades(trades_df, equity_df, initial_capital=INITIAL_CAPITAL):\n",
    "    total_trades = len(trades_df)\n",
    "    wins = trades_df[trades_df['pnl']>0]\n",
    "    losses = trades_df[trades_df['pnl']<=0]\n",
    "    win_rate = len(wins)/total_trades if total_trades>0 else np.nan\n",
    "    total_pnl = trades_df['pnl'].sum() if total_trades>0 else 0.0\n",
    "    avg_win = wins['pnl'].mean() if len(wins)>0 else 0.0\n",
    "    avg_loss = losses['pnl'].mean() if len(losses)>0 else 0.0\n",
    "    final_equity = equity_df['equity'].iloc[-1] if not equity_df.empty else initial_capital\n",
    "    total_return = (final_equity - initial_capital)/initial_capital * 100\n",
    "    rolling_max = equity_df['equity'].cummax()\n",
    "    drawdown = (rolling_max - equity_df['equity']) / rolling_max\n",
    "    max_dd = drawdown.max() * 100 if not drawdown.empty else 0.0\n",
    "    return {'total_trades':total_trades,'win_rate':win_rate,'total_pnl':total_pnl,'avg_win':avg_win,'avg_loss':avg_loss,'final_equity':final_equity,'total_return_pct':total_return,'max_dd_pct':max_dd}\n"
   ]
  },
  {
   "cell_type": "code",
   "execution_count": 34,
   "id": "f335d1e8",
   "metadata": {},
   "outputs": [],
   "source": [
    "# Plot equity curve for a symbol (after running backtest)\n",
    "def plot_equity(equity_df, title='Equity Curve'):\n",
    "    plt.figure(figsize=(12,5))\n",
    "    plt.plot(equity_df.index, equity_df['equity'])\n",
    "    plt.title(title)\n",
    "    plt.xlabel('Date')\n",
    "    plt.ylabel('Equity')\n",
    "    plt.grid(True)\n",
    "    plt.show()\n"
   ]
  },
  {
   "cell_type": "markdown",
   "id": "313ec974",
   "metadata": {},
   "source": [
    "## Notes & Next steps\n",
    "\n",
    "- This notebook is configured for swing trading on daily bars and uses next-day open execution for entries/exits to avoid intraday fills.\n",
    "- Risk per trade is set to 5% of capital (RISK_PER_TRADE). Change parameters to tune.\n",
    "- Trailing stop is ATR-based and only moves favorably; stops trigger exit at next-day open when breached during a day's low/high.\n",
    "- For portfolio-level shared capital allocation or multiple simultaneous positions, the engine must be extended to manage a global capital pool.\n"
   ]
  }
 ],
 "metadata": {
  "kernelspec": {
   "display_name": ".talib",
   "language": "python",
   "name": "python3"
  },
  "language_info": {
   "codemirror_mode": {
    "name": "ipython",
    "version": 3
   },
   "file_extension": ".py",
   "mimetype": "text/x-python",
   "name": "python",
   "nbconvert_exporter": "python",
   "pygments_lexer": "ipython3",
   "version": "3.12.8"
  }
 },
 "nbformat": 4,
 "nbformat_minor": 5
}
