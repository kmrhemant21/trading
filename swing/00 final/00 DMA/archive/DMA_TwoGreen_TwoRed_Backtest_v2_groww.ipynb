{
 "cells": [
  {
   "cell_type": "markdown",
   "id": "b13c2db9",
   "metadata": {},
   "source": [
    "# DMA Crossover + Two-Green Entry / Two-Red Exit — v2 (No Plots by Default)\n",
    "Adds **optional filters** to reduce false/negative trades and disables plotting by default.\n",
    "Pure Python (`pandas`, `yfinance`, `matplotlib` only if you turn plots back on).\n",
    "\n",
    "### Optional Filters You Can Toggle\n",
    "- Price above 200DMA (avoid weak regimes)\n",
    "- 20DMA slope positive (avoid flat/whipsaw)\n",
    "- RSI filter (e.g., RSI>50)\n",
    "- ADX filter (e.g., ADX>18–25 for trend strength)\n",
    "- Volume surge vs. 20-day average\n",
    "- ATR band: skip too-low or too-high volatility regimes\n",
    "- Protective exit: close below 20DMA exits at next open (prevents waiting for two red candles)\n"
   ]
  },
  {
   "cell_type": "markdown",
   "id": "7065dee4",
   "metadata": {},
   "source": [
    "## Parameters (edit me)"
   ]
  },
  {
   "cell_type": "code",
   "execution_count": 19,
   "id": "cd36350b",
   "metadata": {},
   "outputs": [],
   "source": [
    "\n",
    "# ====================== USER PARAMETERS ======================\n",
    "TICKERS = ['SBICARD.NS', 'BDL.NS', 'INDHOTEL.NS', 'BSE.NS', 'NYKAA.NS', 'BAJFINANCE.NS', 'PAYTM.NS', 'SOLARINDS.NS', 'CHOLAFIN.NS', 'UNITDSPR.NS', 'DIVISLAB.NS', 'MUTHOOTFIN.NS', 'BHARTIARTL.NS', 'ICICIBANK.NS', 'MAZDOCK.NS', 'SHREECEM.NS', 'DIXON.NS', 'PERSISTENT.NS', 'SRF.NS', 'TVSMOTOR.NS', 'SBILIFE.NS', 'MAXHEALTH.NS', 'MFSL.NS', 'COFORGE.NS', 'HDFCLIFE.NS', 'INDIGO.NS', 'KOTAKBANK.NS', 'HDFCBANK.NS', 'BEL.NS', 'BAJAJFINSV.NS']\n",
    "\n",
    "\n",
    "START_DATE = \"2025-01-01\"\n",
    "END_DATE   = None\n",
    "\n",
    "FAST_DMA = 10\n",
    "SLOW_DMA = 20\n",
    "REGIME_DMA = 200  # for regime filter\n",
    "\n",
    "# Entry timing relative to cross\n",
    "REQUIRE_CROSS_EXACTLY_T_MINUS_2 = True\n",
    "CROSS_WINDOW_AFTER = 3  # used only if above flag is False\n",
    "\n",
    "TZ = \"Asia/Kolkata\"\n",
    "\n",
    "# Backtest settings\n",
    "INITIAL_CAPITAL = 50000.0\n",
    "RISK_PER_TRADE = 1.0\n",
    "SLIPPAGE_BPS = 5\n",
    "FEES_BPS = 2\n",
    "\n",
    "# -------- Optional Filters (set True/False) --------\n",
    "USE_FILTER_PRICE_ABOVE_200DMA = False\n",
    "USE_FILTER_SLOW_SLOPE_POSITIVE = False          # slope of 20DMA positive\n",
    "USE_FILTER_RSI = False; RSI_LEN = 14; RSI_MIN = 50\n",
    "USE_FILTER_ADX = False; ADX_LEN = 14; ADX_MIN = 18\n",
    "USE_FILTER_VOLUME_SURGE = False; VOL_LOOKBACK = 20; VOL_FACTOR = 1.2\n",
    "USE_FILTER_ATR_BAND = False; ATR_LEN = 14; ATR_MIN_PCT = 0.5; ATR_MAX_PCT = 4.0\n",
    "    # Require ATR% (ATR/Close*100) to be within [ATR_MIN_PCT, ATR_MAX_PCT]\n",
    "\n",
    "\n",
    "# Protective exit (optional)\n",
    "PROTECTIVE_EXIT_ON_CLOSE_BELOW_20DMA = False\n",
    "\n",
    "# Plot settings (disabled by default)\n",
    "PLOT_LAST_N = 0        # 0 means no plotting\n",
    "SAVE_PLOTS = False\n",
    "PLOTS_DIR = \"plots_dma_two_green_v2\"\n",
    "# ============================================================\n"
   ]
  },
  {
   "cell_type": "markdown",
   "id": "cf6bb656",
   "metadata": {},
   "source": [
    "## Install & Imports"
   ]
  },
  {
   "cell_type": "code",
   "execution_count": 20,
   "id": "3a8c739e",
   "metadata": {},
   "outputs": [],
   "source": [
    "\n",
    "# !pip install yfinance pandas numpy matplotlib\n",
    "\n",
    "import pandas as pd\n",
    "import numpy as np\n",
    "import yfinance as yf\n",
    "import matplotlib.pyplot as plt\n",
    "import os\n",
    "\n",
    "if SAVE_PLOTS and not os.path.isdir(PLOTS_DIR):\n",
    "    os.makedirs(PLOTS_DIR, exist_ok=True)\n"
   ]
  },
  {
   "cell_type": "markdown",
   "id": "b21f01d9",
   "metadata": {},
   "source": [
    "## Helpers: Indicators (RSI/ATR/ADX), Data, Signals, Backtest"
   ]
  },
  {
   "cell_type": "code",
   "execution_count": 21,
   "id": "fd9f1979",
   "metadata": {},
   "outputs": [],
   "source": [
    "\n",
    "def _to_tz_local_naive(df, tz):\n",
    "    if df.index.tz is None:\n",
    "        df.index = df.index.tz_localize('UTC').tz_convert(tz).tz_localize(None)\n",
    "    else:\n",
    "        df.index = df.index.tz_convert(tz).tz_localize(None)\n",
    "    return df\n",
    "\n",
    "def fetch_1d(ticker, start, end, tz):\n",
    "    df = yf.download(ticker, start=start, end=end, interval='1d', auto_adjust=False, progress=False, multi_level_index=False)\n",
    "    if df.empty: return df\n",
    "    df = df.rename(columns=str.title)\n",
    "    df = _to_tz_local_naive(df, tz).dropna(subset=['Open','High','Low','Close','Volume'])\n",
    "    return df\n",
    "\n",
    "def SMA(s, n):\n",
    "    return s.rolling(n, min_periods=n).mean()\n",
    "\n",
    "def RSI(close, n=14):\n",
    "    delta = close.diff()\n",
    "    gain = delta.clip(lower=0.0)\n",
    "    loss = -delta.clip(upper=0.0)\n",
    "    # Wilder's smoothing\n",
    "    avg_gain = gain.ewm(alpha=1/n, adjust=False).mean()\n",
    "    avg_loss = loss.ewm(alpha=1/n, adjust=False).mean()\n",
    "    rs = avg_gain / avg_loss.replace(0, np.nan)\n",
    "    rsi = 100 - (100 / (1 + rs))\n",
    "    return rsi.fillna(50)  # neutral when undefined\n",
    "\n",
    "def ATR(high, low, close, n=14):\n",
    "    prev_close = close.shift(1)\n",
    "    tr = pd.concat([\n",
    "        (high - low),\n",
    "        (high - prev_close).abs(),\n",
    "        (low - prev_close).abs()\n",
    "    ], axis=1).max(axis=1)\n",
    "    return tr.ewm(alpha=1/n, adjust=False).mean()\n",
    "\n",
    "def ADX(high, low, close, n=14):\n",
    "    # Wilder's ADX\n",
    "    up_move = high.diff()\n",
    "    down_move = -low.diff()\n",
    "    plus_dm = np.where((up_move > down_move) & (up_move > 0), up_move, 0.0)\n",
    "    minus_dm = np.where((down_move > up_move) & (down_move > 0), down_move, 0.0)\n",
    "    tr = pd.concat([\n",
    "        (high - low),\n",
    "        (high - close.shift(1)).abs(),\n",
    "        (low - close.shift(1)).abs()\n",
    "    ], axis=1).max(axis=1)\n",
    "    atr = tr.ewm(alpha=1/n, adjust=False).mean()\n",
    "    plus_di = 100 * pd.Series(plus_dm, index=close.index).ewm(alpha=1/n, adjust=False).mean() / atr\n",
    "    minus_di = 100 * pd.Series(minus_dm, index=close.index).ewm(alpha=1/n, adjust=False).mean() / atr\n",
    "    dx = ( (plus_di - minus_di).abs() / (plus_di + minus_di).replace(0,np.nan) ) * 100\n",
    "    adx = dx.ewm(alpha=1/n, adjust=False).mean()\n",
    "    return adx\n",
    "\n",
    "def add_indicators(df, fast=10, slow=20, regime=200, rsi_len=14, adx_len=14, atr_len=14):\n",
    "    o = df.copy()\n",
    "    o[f'DMA_{fast}'] = SMA(o['Close'], fast)\n",
    "    o[f'DMA_{slow}'] = SMA(o['Close'], slow)\n",
    "    o[f'DMA_{regime}'] = SMA(o['Close'], regime)\n",
    "    o['Green'] = o['Close'] > o['Open']\n",
    "    o['Red']   = o['Close'] < o['Open']\n",
    "    o['RSI'] = RSI(o['Close'], rsi_len)\n",
    "    o['ATR'] = ATR(o['High'], o['Low'], o['Close'], atr_len)\n",
    "    o['ATR_PCT'] = o['ATR'] / o['Close'] * 100\n",
    "    o['ADX'] = ADX(o['High'], o['Low'], o['Close'], adx_len)\n",
    "    # Slope of slow DMA (first difference)\n",
    "    o['SLOW_SLOPE'] = o[f'DMA_{slow}'].diff()\n",
    "    o['VOL_MA'] = SMA(o['Volume'], 20)\n",
    "    return o\n",
    "\n",
    "def mark_crosses(out, fast=10, slow=20):\n",
    "    f, s = f'DMA_{fast}', f'DMA_{slow}'\n",
    "    out['CrossUp'] = (out[f].shift(1) <= out[s].shift(1)) & (out[f] > out[s])\n",
    "    out['CrossDn'] = (out[f].shift(1) >= out[s].shift(1)) & (out[f] < out[s])\n",
    "    return out\n",
    "\n",
    "def entry_signal(o, fast=10, slow=20,\n",
    "                 exact_t_minus_2=True, cross_window_after=3,\n",
    "                 regime_ok=True, slope_ok=True, rsi_ok=True, rsi_min=50,\n",
    "                 adx_ok=True, adx_min=18, vol_surge=False, vol_lb=20, vol_factor=1.2,\n",
    "                 atr_band=True, atr_min_pct=0.5, atr_max_pct=4.0):\n",
    "    green_seq = (o['Green'] & o['Green'].shift(1))  # two greens ending at t\n",
    "    higher_close = o['Close'] > o['Close'].shift(1)\n",
    "    base = (green_seq & higher_close)\n",
    "\n",
    "    # Cross timing\n",
    "    if exact_t_minus_2:\n",
    "        cross_cond = o['CrossUp'].shift(2).fillna(False)\n",
    "    else:\n",
    "        c = False\n",
    "        for k in range(2, 2 + cross_window_after):\n",
    "            c = c | o['CrossUp'].shift(k).fillna(False)\n",
    "        cross_cond = c\n",
    "\n",
    "    cond = base & cross_cond\n",
    "\n",
    "    # Optional filters\n",
    "    if regime_ok:\n",
    "        cond &= o['Close'] > o[f'DMA_{200}']\n",
    "    if slope_ok:\n",
    "        cond &= o['SLOW_SLOPE'] > 0\n",
    "    if rsi_ok:\n",
    "        cond &= o['RSI'] >= rsi_min\n",
    "    if adx_ok:\n",
    "        cond &= o['ADX'] >= adx_min\n",
    "    if vol_surge:\n",
    "        cond &= o['Volume'] >= (o['VOL_MA'] * vol_factor)\n",
    "    if atr_band:\n",
    "        cond &= (o['ATR_PCT'] >= atr_min_pct) & (o['ATR_PCT'] <= atr_max_pct)\n",
    "\n",
    "    return cond.fillna(False)\n",
    "\n",
    "def exit_signal(o, slow=20, protective_on_close_below_slow=True):\n",
    "    red_seq = (o['Red'] & o['Red'].shift(1))\n",
    "    below_slow = o['Close'] < o[f'DMA_{slow}']\n",
    "    base_exit = (red_seq & below_slow)\n",
    "    if protective_on_close_below_slow:\n",
    "        base_exit = base_exit | below_slow  # any close below 20DMA triggers exit next open\n",
    "    return base_exit.fillna(False)\n",
    "\n",
    "def backtest_long_only(df, enter_sig, exit_sig, initial_capital=100000.0, risk_frac=1.0,\n",
    "                       slippage_bps=5, fees_bps=2):\n",
    "    ohlc = df[['Open','High','Low','Close','Volume']].copy()\n",
    "    open_next = ohlc['Open'].shift(-1)\n",
    "    slippage = slippage_bps / 10000.0\n",
    "    fees = fees_bps / 10000.0\n",
    "\n",
    "    in_pos=False; qty=0; entry_price=np.nan; cash=initial_capital\n",
    "    equity_curve=[]; trades=[]\n",
    "\n",
    "    for i, (ts,row) in enumerate(ohlc.iterrows()):\n",
    "        equity = cash + qty * row['Close']\n",
    "        equity_curve.append((ts,equity))\n",
    "        if i == len(ohlc)-1: continue\n",
    "\n",
    "        if (not in_pos) and enter_sig.loc[ts]:\n",
    "            px = open_next.loc[ts]\n",
    "            if pd.isna(px) or px<=0: continue\n",
    "            fill = px * (1+slippage)\n",
    "            fee_amt = fill * fees\n",
    "            alloc = equity * risk_frac\n",
    "            qty = int(alloc // fill)\n",
    "            if qty<=0: continue\n",
    "            cash -= qty*fill + fee_amt\n",
    "            entry_price = fill; in_pos=True\n",
    "            trades.append({'Time': ohlc.index[i+1], 'Ticker': df.attrs.get('Ticker','N/A'),\n",
    "                           'Action':'BUY','Qty':qty,'Price':fill,'Fees':fee_amt})\n",
    "        elif in_pos and exit_sig.loc[ts]:\n",
    "            px = open_next.loc[ts]\n",
    "            if pd.isna(px) or px<=0: continue\n",
    "            fill = px * (1-slippage)\n",
    "            notional = qty*fill\n",
    "            fee_amt = notional * fees\n",
    "            cash += notional - fee_amt\n",
    "            trades.append({'Time': ohlc.index[i+1], 'Ticker': df.attrs.get('Ticker','N/A'),\n",
    "                           'Action':'SELL','Qty':qty,'Price':fill,'Fees':fee_amt,\n",
    "                           'PnL': (fill-entry_price)*qty - fee_amt})\n",
    "            qty=0; entry_price=np.nan; in_pos=False\n",
    "\n",
    "    if len(ohlc):\n",
    "        last_ts=ohlc.index[-1]\n",
    "        equity_curve.append((last_ts, cash + qty*ohlc['Close'].iloc[-1]))\n",
    "    ec = pd.DataFrame(equity_curve, columns=['Time','Equity']).set_index('Time')\n",
    "    tr = pd.DataFrame(trades)\n",
    "    return tr, ec\n"
   ]
  },
  {
   "cell_type": "markdown",
   "id": "75d16158",
   "metadata": {},
   "source": [
    "## Run for All Tickers"
   ]
  },
  {
   "cell_type": "code",
   "execution_count": 22,
   "id": "8bed9bf8",
   "metadata": {},
   "outputs": [
    {
     "name": "stdout",
     "output_type": "stream",
     "text": [
      "Processing SBICARD.NS...\n"
     ]
    },
    {
     "name": "stderr",
     "output_type": "stream",
     "text": [
      "/var/folders/mn/tx231v5158797chnp22wm9000000gp/T/ipykernel_14784/292461430.py:89: FutureWarning: Downcasting object dtype arrays on .fillna, .ffill, .bfill is deprecated and will change in a future version. Call result.infer_objects(copy=False) instead. To opt-in to the future behavior, set `pd.set_option('future.no_silent_downcasting', True)`\n",
      "  cross_cond = o['CrossUp'].shift(2).fillna(False)\n"
     ]
    },
    {
     "name": "stdout",
     "output_type": "stream",
     "text": [
      "Processing BDL.NS...\n"
     ]
    },
    {
     "name": "stderr",
     "output_type": "stream",
     "text": [
      "/var/folders/mn/tx231v5158797chnp22wm9000000gp/T/ipykernel_14784/292461430.py:89: FutureWarning: Downcasting object dtype arrays on .fillna, .ffill, .bfill is deprecated and will change in a future version. Call result.infer_objects(copy=False) instead. To opt-in to the future behavior, set `pd.set_option('future.no_silent_downcasting', True)`\n",
      "  cross_cond = o['CrossUp'].shift(2).fillna(False)\n"
     ]
    },
    {
     "name": "stdout",
     "output_type": "stream",
     "text": [
      "Processing INDHOTEL.NS...\n"
     ]
    },
    {
     "name": "stderr",
     "output_type": "stream",
     "text": [
      "/var/folders/mn/tx231v5158797chnp22wm9000000gp/T/ipykernel_14784/292461430.py:89: FutureWarning: Downcasting object dtype arrays on .fillna, .ffill, .bfill is deprecated and will change in a future version. Call result.infer_objects(copy=False) instead. To opt-in to the future behavior, set `pd.set_option('future.no_silent_downcasting', True)`\n",
      "  cross_cond = o['CrossUp'].shift(2).fillna(False)\n"
     ]
    },
    {
     "name": "stdout",
     "output_type": "stream",
     "text": [
      "Processing BSE.NS...\n"
     ]
    },
    {
     "name": "stderr",
     "output_type": "stream",
     "text": [
      "/var/folders/mn/tx231v5158797chnp22wm9000000gp/T/ipykernel_14784/292461430.py:89: FutureWarning: Downcasting object dtype arrays on .fillna, .ffill, .bfill is deprecated and will change in a future version. Call result.infer_objects(copy=False) instead. To opt-in to the future behavior, set `pd.set_option('future.no_silent_downcasting', True)`\n",
      "  cross_cond = o['CrossUp'].shift(2).fillna(False)\n"
     ]
    },
    {
     "name": "stdout",
     "output_type": "stream",
     "text": [
      "Processing NYKAA.NS...\n"
     ]
    },
    {
     "name": "stderr",
     "output_type": "stream",
     "text": [
      "/var/folders/mn/tx231v5158797chnp22wm9000000gp/T/ipykernel_14784/292461430.py:89: FutureWarning: Downcasting object dtype arrays on .fillna, .ffill, .bfill is deprecated and will change in a future version. Call result.infer_objects(copy=False) instead. To opt-in to the future behavior, set `pd.set_option('future.no_silent_downcasting', True)`\n",
      "  cross_cond = o['CrossUp'].shift(2).fillna(False)\n"
     ]
    },
    {
     "name": "stdout",
     "output_type": "stream",
     "text": [
      "Processing BAJFINANCE.NS...\n"
     ]
    },
    {
     "name": "stderr",
     "output_type": "stream",
     "text": [
      "/var/folders/mn/tx231v5158797chnp22wm9000000gp/T/ipykernel_14784/292461430.py:89: FutureWarning: Downcasting object dtype arrays on .fillna, .ffill, .bfill is deprecated and will change in a future version. Call result.infer_objects(copy=False) instead. To opt-in to the future behavior, set `pd.set_option('future.no_silent_downcasting', True)`\n",
      "  cross_cond = o['CrossUp'].shift(2).fillna(False)\n"
     ]
    },
    {
     "name": "stdout",
     "output_type": "stream",
     "text": [
      "Processing PAYTM.NS...\n"
     ]
    },
    {
     "name": "stderr",
     "output_type": "stream",
     "text": [
      "/var/folders/mn/tx231v5158797chnp22wm9000000gp/T/ipykernel_14784/292461430.py:89: FutureWarning: Downcasting object dtype arrays on .fillna, .ffill, .bfill is deprecated and will change in a future version. Call result.infer_objects(copy=False) instead. To opt-in to the future behavior, set `pd.set_option('future.no_silent_downcasting', True)`\n",
      "  cross_cond = o['CrossUp'].shift(2).fillna(False)\n"
     ]
    },
    {
     "name": "stdout",
     "output_type": "stream",
     "text": [
      "Processing SOLARINDS.NS...\n"
     ]
    },
    {
     "name": "stderr",
     "output_type": "stream",
     "text": [
      "/var/folders/mn/tx231v5158797chnp22wm9000000gp/T/ipykernel_14784/292461430.py:89: FutureWarning: Downcasting object dtype arrays on .fillna, .ffill, .bfill is deprecated and will change in a future version. Call result.infer_objects(copy=False) instead. To opt-in to the future behavior, set `pd.set_option('future.no_silent_downcasting', True)`\n",
      "  cross_cond = o['CrossUp'].shift(2).fillna(False)\n"
     ]
    },
    {
     "name": "stdout",
     "output_type": "stream",
     "text": [
      "Processing CHOLAFIN.NS...\n"
     ]
    },
    {
     "name": "stderr",
     "output_type": "stream",
     "text": [
      "/var/folders/mn/tx231v5158797chnp22wm9000000gp/T/ipykernel_14784/292461430.py:89: FutureWarning: Downcasting object dtype arrays on .fillna, .ffill, .bfill is deprecated and will change in a future version. Call result.infer_objects(copy=False) instead. To opt-in to the future behavior, set `pd.set_option('future.no_silent_downcasting', True)`\n",
      "  cross_cond = o['CrossUp'].shift(2).fillna(False)\n"
     ]
    },
    {
     "name": "stdout",
     "output_type": "stream",
     "text": [
      "Processing UNITDSPR.NS...\n"
     ]
    },
    {
     "name": "stderr",
     "output_type": "stream",
     "text": [
      "/var/folders/mn/tx231v5158797chnp22wm9000000gp/T/ipykernel_14784/292461430.py:89: FutureWarning: Downcasting object dtype arrays on .fillna, .ffill, .bfill is deprecated and will change in a future version. Call result.infer_objects(copy=False) instead. To opt-in to the future behavior, set `pd.set_option('future.no_silent_downcasting', True)`\n",
      "  cross_cond = o['CrossUp'].shift(2).fillna(False)\n"
     ]
    },
    {
     "name": "stdout",
     "output_type": "stream",
     "text": [
      "Processing DIVISLAB.NS...\n"
     ]
    },
    {
     "name": "stderr",
     "output_type": "stream",
     "text": [
      "/var/folders/mn/tx231v5158797chnp22wm9000000gp/T/ipykernel_14784/292461430.py:89: FutureWarning: Downcasting object dtype arrays on .fillna, .ffill, .bfill is deprecated and will change in a future version. Call result.infer_objects(copy=False) instead. To opt-in to the future behavior, set `pd.set_option('future.no_silent_downcasting', True)`\n",
      "  cross_cond = o['CrossUp'].shift(2).fillna(False)\n"
     ]
    },
    {
     "name": "stdout",
     "output_type": "stream",
     "text": [
      "Processing MUTHOOTFIN.NS...\n"
     ]
    },
    {
     "name": "stderr",
     "output_type": "stream",
     "text": [
      "/var/folders/mn/tx231v5158797chnp22wm9000000gp/T/ipykernel_14784/292461430.py:89: FutureWarning: Downcasting object dtype arrays on .fillna, .ffill, .bfill is deprecated and will change in a future version. Call result.infer_objects(copy=False) instead. To opt-in to the future behavior, set `pd.set_option('future.no_silent_downcasting', True)`\n",
      "  cross_cond = o['CrossUp'].shift(2).fillna(False)\n"
     ]
    },
    {
     "name": "stdout",
     "output_type": "stream",
     "text": [
      "Processing BHARTIARTL.NS...\n"
     ]
    },
    {
     "name": "stderr",
     "output_type": "stream",
     "text": [
      "/var/folders/mn/tx231v5158797chnp22wm9000000gp/T/ipykernel_14784/292461430.py:89: FutureWarning: Downcasting object dtype arrays on .fillna, .ffill, .bfill is deprecated and will change in a future version. Call result.infer_objects(copy=False) instead. To opt-in to the future behavior, set `pd.set_option('future.no_silent_downcasting', True)`\n",
      "  cross_cond = o['CrossUp'].shift(2).fillna(False)\n"
     ]
    },
    {
     "name": "stdout",
     "output_type": "stream",
     "text": [
      "Processing ICICIBANK.NS...\n"
     ]
    },
    {
     "name": "stderr",
     "output_type": "stream",
     "text": [
      "/var/folders/mn/tx231v5158797chnp22wm9000000gp/T/ipykernel_14784/292461430.py:89: FutureWarning: Downcasting object dtype arrays on .fillna, .ffill, .bfill is deprecated and will change in a future version. Call result.infer_objects(copy=False) instead. To opt-in to the future behavior, set `pd.set_option('future.no_silent_downcasting', True)`\n",
      "  cross_cond = o['CrossUp'].shift(2).fillna(False)\n"
     ]
    },
    {
     "name": "stdout",
     "output_type": "stream",
     "text": [
      "Processing MAZDOCK.NS...\n"
     ]
    },
    {
     "name": "stderr",
     "output_type": "stream",
     "text": [
      "/var/folders/mn/tx231v5158797chnp22wm9000000gp/T/ipykernel_14784/292461430.py:89: FutureWarning: Downcasting object dtype arrays on .fillna, .ffill, .bfill is deprecated and will change in a future version. Call result.infer_objects(copy=False) instead. To opt-in to the future behavior, set `pd.set_option('future.no_silent_downcasting', True)`\n",
      "  cross_cond = o['CrossUp'].shift(2).fillna(False)\n"
     ]
    },
    {
     "name": "stdout",
     "output_type": "stream",
     "text": [
      "Processing SHREECEM.NS...\n"
     ]
    },
    {
     "name": "stderr",
     "output_type": "stream",
     "text": [
      "/var/folders/mn/tx231v5158797chnp22wm9000000gp/T/ipykernel_14784/292461430.py:89: FutureWarning: Downcasting object dtype arrays on .fillna, .ffill, .bfill is deprecated and will change in a future version. Call result.infer_objects(copy=False) instead. To opt-in to the future behavior, set `pd.set_option('future.no_silent_downcasting', True)`\n",
      "  cross_cond = o['CrossUp'].shift(2).fillna(False)\n"
     ]
    },
    {
     "name": "stdout",
     "output_type": "stream",
     "text": [
      "Processing DIXON.NS...\n"
     ]
    },
    {
     "name": "stderr",
     "output_type": "stream",
     "text": [
      "/var/folders/mn/tx231v5158797chnp22wm9000000gp/T/ipykernel_14784/292461430.py:89: FutureWarning: Downcasting object dtype arrays on .fillna, .ffill, .bfill is deprecated and will change in a future version. Call result.infer_objects(copy=False) instead. To opt-in to the future behavior, set `pd.set_option('future.no_silent_downcasting', True)`\n",
      "  cross_cond = o['CrossUp'].shift(2).fillna(False)\n"
     ]
    },
    {
     "name": "stdout",
     "output_type": "stream",
     "text": [
      "Processing PERSISTENT.NS...\n"
     ]
    },
    {
     "name": "stderr",
     "output_type": "stream",
     "text": [
      "/var/folders/mn/tx231v5158797chnp22wm9000000gp/T/ipykernel_14784/292461430.py:89: FutureWarning: Downcasting object dtype arrays on .fillna, .ffill, .bfill is deprecated and will change in a future version. Call result.infer_objects(copy=False) instead. To opt-in to the future behavior, set `pd.set_option('future.no_silent_downcasting', True)`\n",
      "  cross_cond = o['CrossUp'].shift(2).fillna(False)\n"
     ]
    },
    {
     "name": "stdout",
     "output_type": "stream",
     "text": [
      "Processing SRF.NS...\n"
     ]
    },
    {
     "name": "stderr",
     "output_type": "stream",
     "text": [
      "/var/folders/mn/tx231v5158797chnp22wm9000000gp/T/ipykernel_14784/292461430.py:89: FutureWarning: Downcasting object dtype arrays on .fillna, .ffill, .bfill is deprecated and will change in a future version. Call result.infer_objects(copy=False) instead. To opt-in to the future behavior, set `pd.set_option('future.no_silent_downcasting', True)`\n",
      "  cross_cond = o['CrossUp'].shift(2).fillna(False)\n"
     ]
    },
    {
     "name": "stdout",
     "output_type": "stream",
     "text": [
      "Processing TVSMOTOR.NS...\n"
     ]
    },
    {
     "name": "stderr",
     "output_type": "stream",
     "text": [
      "/var/folders/mn/tx231v5158797chnp22wm9000000gp/T/ipykernel_14784/292461430.py:89: FutureWarning: Downcasting object dtype arrays on .fillna, .ffill, .bfill is deprecated and will change in a future version. Call result.infer_objects(copy=False) instead. To opt-in to the future behavior, set `pd.set_option('future.no_silent_downcasting', True)`\n",
      "  cross_cond = o['CrossUp'].shift(2).fillna(False)\n"
     ]
    },
    {
     "name": "stdout",
     "output_type": "stream",
     "text": [
      "Processing SBILIFE.NS...\n"
     ]
    },
    {
     "name": "stderr",
     "output_type": "stream",
     "text": [
      "/var/folders/mn/tx231v5158797chnp22wm9000000gp/T/ipykernel_14784/292461430.py:89: FutureWarning: Downcasting object dtype arrays on .fillna, .ffill, .bfill is deprecated and will change in a future version. Call result.infer_objects(copy=False) instead. To opt-in to the future behavior, set `pd.set_option('future.no_silent_downcasting', True)`\n",
      "  cross_cond = o['CrossUp'].shift(2).fillna(False)\n"
     ]
    },
    {
     "name": "stdout",
     "output_type": "stream",
     "text": [
      "Processing MAXHEALTH.NS...\n"
     ]
    },
    {
     "name": "stderr",
     "output_type": "stream",
     "text": [
      "/var/folders/mn/tx231v5158797chnp22wm9000000gp/T/ipykernel_14784/292461430.py:89: FutureWarning: Downcasting object dtype arrays on .fillna, .ffill, .bfill is deprecated and will change in a future version. Call result.infer_objects(copy=False) instead. To opt-in to the future behavior, set `pd.set_option('future.no_silent_downcasting', True)`\n",
      "  cross_cond = o['CrossUp'].shift(2).fillna(False)\n"
     ]
    },
    {
     "name": "stdout",
     "output_type": "stream",
     "text": [
      "Processing MFSL.NS...\n"
     ]
    },
    {
     "name": "stderr",
     "output_type": "stream",
     "text": [
      "/var/folders/mn/tx231v5158797chnp22wm9000000gp/T/ipykernel_14784/292461430.py:89: FutureWarning: Downcasting object dtype arrays on .fillna, .ffill, .bfill is deprecated and will change in a future version. Call result.infer_objects(copy=False) instead. To opt-in to the future behavior, set `pd.set_option('future.no_silent_downcasting', True)`\n",
      "  cross_cond = o['CrossUp'].shift(2).fillna(False)\n"
     ]
    },
    {
     "name": "stdout",
     "output_type": "stream",
     "text": [
      "Processing COFORGE.NS...\n"
     ]
    },
    {
     "name": "stderr",
     "output_type": "stream",
     "text": [
      "/var/folders/mn/tx231v5158797chnp22wm9000000gp/T/ipykernel_14784/292461430.py:89: FutureWarning: Downcasting object dtype arrays on .fillna, .ffill, .bfill is deprecated and will change in a future version. Call result.infer_objects(copy=False) instead. To opt-in to the future behavior, set `pd.set_option('future.no_silent_downcasting', True)`\n",
      "  cross_cond = o['CrossUp'].shift(2).fillna(False)\n"
     ]
    },
    {
     "name": "stdout",
     "output_type": "stream",
     "text": [
      "Processing HDFCLIFE.NS...\n"
     ]
    },
    {
     "name": "stderr",
     "output_type": "stream",
     "text": [
      "/var/folders/mn/tx231v5158797chnp22wm9000000gp/T/ipykernel_14784/292461430.py:89: FutureWarning: Downcasting object dtype arrays on .fillna, .ffill, .bfill is deprecated and will change in a future version. Call result.infer_objects(copy=False) instead. To opt-in to the future behavior, set `pd.set_option('future.no_silent_downcasting', True)`\n",
      "  cross_cond = o['CrossUp'].shift(2).fillna(False)\n"
     ]
    },
    {
     "name": "stdout",
     "output_type": "stream",
     "text": [
      "Processing INDIGO.NS...\n"
     ]
    },
    {
     "name": "stderr",
     "output_type": "stream",
     "text": [
      "/var/folders/mn/tx231v5158797chnp22wm9000000gp/T/ipykernel_14784/292461430.py:89: FutureWarning: Downcasting object dtype arrays on .fillna, .ffill, .bfill is deprecated and will change in a future version. Call result.infer_objects(copy=False) instead. To opt-in to the future behavior, set `pd.set_option('future.no_silent_downcasting', True)`\n",
      "  cross_cond = o['CrossUp'].shift(2).fillna(False)\n"
     ]
    },
    {
     "name": "stdout",
     "output_type": "stream",
     "text": [
      "Processing KOTAKBANK.NS...\n"
     ]
    },
    {
     "name": "stderr",
     "output_type": "stream",
     "text": [
      "/var/folders/mn/tx231v5158797chnp22wm9000000gp/T/ipykernel_14784/292461430.py:89: FutureWarning: Downcasting object dtype arrays on .fillna, .ffill, .bfill is deprecated and will change in a future version. Call result.infer_objects(copy=False) instead. To opt-in to the future behavior, set `pd.set_option('future.no_silent_downcasting', True)`\n",
      "  cross_cond = o['CrossUp'].shift(2).fillna(False)\n"
     ]
    },
    {
     "name": "stdout",
     "output_type": "stream",
     "text": [
      "Processing HDFCBANK.NS...\n"
     ]
    },
    {
     "name": "stderr",
     "output_type": "stream",
     "text": [
      "/var/folders/mn/tx231v5158797chnp22wm9000000gp/T/ipykernel_14784/292461430.py:89: FutureWarning: Downcasting object dtype arrays on .fillna, .ffill, .bfill is deprecated and will change in a future version. Call result.infer_objects(copy=False) instead. To opt-in to the future behavior, set `pd.set_option('future.no_silent_downcasting', True)`\n",
      "  cross_cond = o['CrossUp'].shift(2).fillna(False)\n"
     ]
    },
    {
     "name": "stdout",
     "output_type": "stream",
     "text": [
      "Processing BEL.NS...\n"
     ]
    },
    {
     "name": "stderr",
     "output_type": "stream",
     "text": [
      "/var/folders/mn/tx231v5158797chnp22wm9000000gp/T/ipykernel_14784/292461430.py:89: FutureWarning: Downcasting object dtype arrays on .fillna, .ffill, .bfill is deprecated and will change in a future version. Call result.infer_objects(copy=False) instead. To opt-in to the future behavior, set `pd.set_option('future.no_silent_downcasting', True)`\n",
      "  cross_cond = o['CrossUp'].shift(2).fillna(False)\n"
     ]
    },
    {
     "name": "stdout",
     "output_type": "stream",
     "text": [
      "Processing BAJAJFINSV.NS...\n",
      "\n",
      "=== Summary (v2) ===\n",
      "       Ticker  Trades  FinalEquity  TotalReturn  MaxDrawdown\n",
      " SOLARINDS.NS       1 86053.949534     0.721079    -0.056436\n",
      "      MFSL.NS       1 70298.280462     0.405966    -0.041980\n",
      "     DIXON.NS       1 57041.820934     0.140836    -0.087293\n",
      "     NYKAA.NS       1 56383.988210     0.127680    -0.048577\n",
      "  HDFCBANK.NS       3 53409.196291     0.068184    -0.054589\n",
      " ICICIBANK.NS       1 53394.693326     0.067894    -0.050688\n",
      "MUTHOOTFIN.NS       1 52068.210176     0.041364    -0.029077\n",
      "     PAYTM.NS       1 51534.376732     0.030688    -0.081564\n",
      "   COFORGE.NS       2 51067.232205     0.021345    -0.181963\n",
      "  SHREECEM.NS       0 50000.000000     0.000000     0.000000\n",
      "       BDL.NS       0 50000.000000     0.000000     0.000000\n",
      "       BEL.NS       0 50000.000000     0.000000     0.000000\n",
      "   SBILIFE.NS       0 50000.000000     0.000000     0.000000\n",
      "       SRF.NS       0 50000.000000     0.000000     0.000000\n",
      "PERSISTENT.NS       0 50000.000000     0.000000     0.000000\n",
      "BAJAJFINSV.NS       0 50000.000000     0.000000     0.000000\n",
      "   MAZDOCK.NS       0 50000.000000     0.000000     0.000000\n",
      "  DIVISLAB.NS       0 50000.000000     0.000000     0.000000\n",
      "  UNITDSPR.NS       0 50000.000000     0.000000     0.000000\n",
      "  CHOLAFIN.NS       0 50000.000000     0.000000     0.000000\n",
      "       BSE.NS       0 50000.000000     0.000000     0.000000\n",
      "  TVSMOTOR.NS       3 49700.368324    -0.005993    -0.128062\n",
      "BHARTIARTL.NS       1 49401.169558    -0.011977    -0.037762\n",
      "   SBICARD.NS       2 48837.618210    -0.023248    -0.097614\n",
      " KOTAKBANK.NS       2 48750.526098    -0.024989    -0.061494\n",
      "BAJFINANCE.NS       1 48693.846485    -0.026123    -0.030333\n",
      "  HDFCLIFE.NS       1 47709.812463    -0.045804    -0.060823\n",
      " MAXHEALTH.NS       2 46618.088534    -0.067638    -0.104249\n",
      "  INDHOTEL.NS       2 45539.485345    -0.089210    -0.089233\n",
      "    INDIGO.NS       3 44110.960495    -0.117781    -0.117781\n",
      "\n",
      "Saved: dma_two_green_trades_v2.csv, dma_two_green_performance_v2.csv\n"
     ]
    },
    {
     "name": "stderr",
     "output_type": "stream",
     "text": [
      "/var/folders/mn/tx231v5158797chnp22wm9000000gp/T/ipykernel_14784/292461430.py:89: FutureWarning: Downcasting object dtype arrays on .fillna, .ffill, .bfill is deprecated and will change in a future version. Call result.infer_objects(copy=False) instead. To opt-in to the future behavior, set `pd.set_option('future.no_silent_downcasting', True)`\n",
      "  cross_cond = o['CrossUp'].shift(2).fillna(False)\n"
     ]
    }
   ],
   "source": [
    "\n",
    "all_trades=[]; perf_rows=[]; all_ec={}\n",
    "for t in TICKERS:\n",
    "    print(f\"Processing {t}...\")\n",
    "    df = fetch_1d(t, START_DATE, END_DATE, TZ)\n",
    "    if df.empty:\n",
    "        print(f\"[WARN] {t}: no data\");\n",
    "        continue\n",
    "    df.attrs['Ticker']=t\n",
    "    df = add_indicators(df, FAST_DMA, SLOW_DMA, REGIME_DMA, RSI_LEN, ADX_LEN, ATR_LEN:=14)\n",
    "    df = mark_crosses(df, FAST_DMA, SLOW_DMA)\n",
    "\n",
    "    ent = entry_signal(\n",
    "        df, FAST_DMA, SLOW_DMA,\n",
    "        REQUIRE_CROSS_EXACTLY_T_MINUS_2, CROSS_WINDOW_AFTER,\n",
    "        USE_FILTER_PRICE_ABOVE_200DMA, USE_FILTER_SLOW_SLOPE_POSITIVE,\n",
    "        USE_FILTER_RSI, RSI_MIN,\n",
    "        USE_FILTER_ADX, ADX_MIN,\n",
    "        USE_FILTER_VOLUME_SURGE, VOL_LOOKBACK, VOL_FACTOR,\n",
    "        USE_FILTER_ATR_BAND, ATR_MIN_PCT, ATR_MAX_PCT\n",
    "    )\n",
    "    exi = exit_signal(df, SLOW_DMA, PROTECTIVE_EXIT_ON_CLOSE_BELOW_20DMA)\n",
    "\n",
    "    trades, ec = backtest_long_only(df, ent, exi, INITIAL_CAPITAL, RISK_PER_TRADE, SLIPPAGE_BPS, FEES_BPS)\n",
    "    all_ec[t]=ec\n",
    "    if not trades.empty: all_trades.append(trades.assign(Ticker=t))\n",
    "\n",
    "    final_eq = ec['Equity'].iloc[-1]\n",
    "    total_ret = final_eq/INITIAL_CAPITAL - 1.0\n",
    "    dd = (ec['Equity']/ec['Equity'].cummax() - 1.0).min()\n",
    "    perf_rows.append({'Ticker':t,'Trades':0 if trades.empty else len(trades)//2,\n",
    "                      'FinalEquity':final_eq,'TotalReturn':total_ret,'MaxDrawdown':dd})\n",
    "\n",
    "    # plot only if enabled\n",
    "    if PLOT_LAST_N and PLOT_LAST_N>0:\n",
    "        from datetime import datetime\n",
    "        last_n = df.tail(PLOT_LAST_N).copy()\n",
    "        # (plotting code omitted here to keep v2 lean; reuse from v1 if needed)\n",
    "\n",
    "trades_df = pd.concat(all_trades, ignore_index=True) if all_trades else pd.DataFrame(\n",
    "    columns=['Time','Ticker','Action','Qty','Price','Fees','PnL']\n",
    ")\n",
    "perf_df = pd.DataFrame(perf_rows).sort_values('TotalReturn', ascending=False)\n",
    "\n",
    "trades_df.to_csv(\"dma_two_green_trades_v2.csv\", index=False)\n",
    "perf_df.to_csv(\"dma_two_green_performance_v2.csv\", index=False)\n",
    "\n",
    "print(\"\\n=== Summary (v2) ===\")\n",
    "print(perf_df.to_string(index=False))\n",
    "print(\"\\nSaved: dma_two_green_trades_v2.csv, dma_two_green_performance_v2.csv\")\n"
   ]
  },
  {
   "cell_type": "markdown",
   "id": "d31201a1",
   "metadata": {},
   "source": [
    "## Suggested Defaults to Reduce Losing Trades\n",
    "- Keep **USE_FILTER_PRICE_ABOVE_200DMA = True**\n",
    "- Keep **USE_FILTER_SLOW_SLOPE_POSITIVE = True**\n",
    "- Use **RSI_MIN = 50–55**\n",
    "- Use **ADX_MIN = 18–25** depending on trendiness\n",
    "- Enable **ATR band**; try `ATR_MIN_PCT=0.5` and `ATR_MAX_PCT=4.0`\n",
    "- Consider enabling **volume surge** with `VOL_FACTOR=1.2–1.5`\n",
    "- Keep **protective exit** on to avoid waiting for two red closes\n"
   ]
  },
  {
   "cell_type": "markdown",
   "id": "21745f6b",
   "metadata": {},
   "source": [
    "# ➕ Groww Trading Add‑On (for v2)\n",
    "This section integrates the v2 strategy with **Groww** for order planning and optional live execution.\n",
    "- Keeps **all v2 parameters/filters** intact.\n",
    "- Recomputes signals per ticker using the same v2 entry/exit rules.\n",
    "- Builds a next‑day **order plan** from the last completed daily bar (IST).\n",
    "- Optional **live** MARKET/CNC orders via Groww SDK.\n",
    "\n",
    "> Run earlier v2 cells first (data functions). Then run these cells from top to bottom."
   ]
  },
  {
   "cell_type": "markdown",
   "id": "a4c41360",
   "metadata": {},
   "source": [
    "## Groww: Parameters & Auth"
   ]
  },
  {
   "cell_type": "code",
   "execution_count": null,
   "id": "a5efbe83",
   "metadata": {},
   "outputs": [],
   "source": [
    "\n",
    "# If first run on this machine, uncomment:\n",
    "# !pip install --upgrade growwapi pytz python-dateutil\n",
    "\n",
    "from datetime import datetime, timedelta\n",
    "import pytz, uuid\n",
    "from dateutil import parser as dateparser\n",
    "\n",
    "# ---- Auth ----\n",
    "AUTH_METHOD = \"access_token\"   # \"access_token\" or \"key_secret\"\n",
    "ACCESS_TOKEN = \"\"              # paste if using access_token\n",
    "API_KEY = \"\"                   # paste if using key_secret\n",
    "API_SECRET = \"\"                # paste if using key_secret\n",
    "\n",
    "# ---- Execution ----\n",
    "DRY_RUN = True                 # True = paper; no real orders\n",
    "LIVE_TRADING = False           # set True to actually place orders\n",
    "ORDER_PRODUCT = \"CNC\"          # CNC for delivery\n",
    "ORDER_TYPE = \"MARKET\"\n",
    "VALIDITY = \"DAY\"\n",
    "\n",
    "# ---- Universe mapping ----\n",
    "# We will convert Yahoo symbols like 'RELIANCE.NS' to Groww trading_symbol 'RELIANCE'\n",
    "def yahoo_to_groww(ts):\n",
    "    return ts.replace(\".NS\",\"\").replace(\".BSE\",\"\")\n",
    "\n",
    "from growwapi import GrowwAPI\n",
    "\n",
    "def groww_login(auth_method, access_token=None, api_key=None, api_secret=None):\n",
    "    if auth_method == \"access_token\":\n",
    "        if not access_token:\n",
    "            raise ValueError(\"Set ACCESS_TOKEN for AUTH_METHOD='access_token'\")\n",
    "        return GrowwAPI(access_token)\n",
    "    elif auth_method == \"key_secret\":\n",
    "        if not api_key or not api_secret:\n",
    "            raise ValueError(\"Set API_KEY and API_SECRET for AUTH_METHOD='key_secret'\")\n",
    "        token = GrowwAPI.get_access_token(api_key=api_key, secret=api_secret)\n",
    "        if not token:\n",
    "            raise RuntimeError(\"Failed to fetch access token using key+secret\")\n",
    "        return GrowwAPI(token)\n",
    "    else:\n",
    "        raise ValueError(\"AUTH_METHOD must be 'access_token' or 'key_secret'\")\n",
    "\n",
    "groww = groww_login(AUTH_METHOD, ACCESS_TOKEN, API_KEY, API_SECRET)\n",
    "print(\"Groww client ready.\")\n",
    "IST = pytz.timezone(\"Asia/Kolkata\")\n",
    "RUN_TAG = datetime.now(IST).strftime(\"%Y-%m-%d_%H-%M-%S\")\n"
   ]
  },
  {
   "cell_type": "markdown",
   "id": "6f0c8629",
   "metadata": {},
   "source": [
    "## Market hours & holdings helpers"
   ]
  },
  {
   "cell_type": "code",
   "execution_count": null,
   "id": "7a6f76a7",
   "metadata": {},
   "outputs": [],
   "source": [
    "\n",
    "def india_market_open_now(ts=None):\n",
    "    now = ts or datetime.now(IST)\n",
    "    if now.weekday() >= 5:  # Sat/Sun\n",
    "        return False\n",
    "    start = now.replace(hour=9, minute=15, second=0, microsecond=0)\n",
    "    end   = now.replace(hour=15, minute=30, second=0, microsecond=0)\n",
    "    return start <= now <= end\n",
    "\n",
    "def get_holdings_map(client):\n",
    "    try:\n",
    "        h = client.get_holdings_for_user()\n",
    "        mapping = {}\n",
    "        items = []\n",
    "        if isinstance(h, dict):\n",
    "            items = h.get(\"holdings\", h.get(\"payload\", [])) or []\n",
    "        elif isinstance(h, list):\n",
    "            items = h\n",
    "        for it in items:\n",
    "            ts = it.get(\"trading_symbol\") or it.get(\"symbol\") or \"\"\n",
    "            qty = int(it.get(\"quantity\") or it.get(\"qty\") or 0)\n",
    "            if ts:\n",
    "                mapping[ts] = mapping.get(ts, 0) + qty\n",
    "        return mapping\n",
    "    except Exception as e:\n",
    "        print(\"[WARN] holdings fetch failed:\", e)\n",
    "        return {}\n",
    "\n",
    "def place_market_order(client, trading_symbol, qty, exchange=\"NSE\", segment=\"CASH\",\n",
    "                       product=\"CNC\", validity=\"DAY\", txn_type=\"BUY\"):\n",
    "    ref_id = str(uuid.uuid4())[:20]\n",
    "    if DRY_RUN or not LIVE_TRADING:\n",
    "        print(f\"[DRY] {txn_type} {qty} {trading_symbol} {exchange}/{segment} {product} {validity} ref={ref_id}\")\n",
    "        return {\"dry_run\": True, \"order_reference_id\": ref_id}\n",
    "    resp = client.place_order(\n",
    "        trading_symbol=trading_symbol,\n",
    "        quantity=int(qty),\n",
    "        validity=getattr(client, f\"VALIDITY_{validity}\", \"DAY\"),\n",
    "        exchange=getattr(client, f\"EXCHANGE_{'NSE'}\", \"NSE\"),\n",
    "        segment=getattr(client, f\"SEGMENT_{'CASH'}\", \"CASH\"),\n",
    "        product=getattr(client, f\"PRODUCT_{product}\", \"CNC\"),\n",
    "        order_type=getattr(client, \"ORDER_TYPE_MARKET\"),\n",
    "        transaction_type=getattr(client, f\"TRANSACTION_TYPE_{'BUY' if txn_type=='BUY' else 'SELL'}\"),\n",
    "        order_reference_id=ref_id\n",
    "    )\n",
    "    print(\"[LIVE] place_order resp:\", resp)\n",
    "    return resp\n"
   ]
  },
  {
   "cell_type": "markdown",
   "id": "c68524b0",
   "metadata": {},
   "source": [
    "## Build order plan from v2 signals (last completed day)"
   ]
  },
  {
   "cell_type": "code",
   "execution_count": null,
   "id": "fa2266c6",
   "metadata": {},
   "outputs": [],
   "source": [
    "\n",
    "import pandas as pd, numpy as np, os\n",
    "\n",
    "SAVE_DIR = \"groww_dma_orders\"\n",
    "os.makedirs(SAVE_DIR, exist_ok=True)\n",
    "\n",
    "# We rely on v2 functions/params:\n",
    "# - TICKERS\n",
    "# - add_indicators, mark_crosses, entry_signal, exit_signal\n",
    "# - START_DATE, END_DATE, TZ (v2 uses Asia/Kolkata already)\n",
    "\n",
    "def compute_signals_for_symbol_yf(ticker):\n",
    "    # Reuse v2's fetch_1d (yfinance) and pipeline to align with backtest signals\n",
    "    df = fetch_1d(ticker, START_DATE, END_DATE, TZ)\n",
    "    if df.empty:\n",
    "        return df, None, None\n",
    "    df = add_indicators(df, FAST_DMA, SLOW_DMA, REGIME_DMA, RSI_LEN, ADX_LEN, ATR_LEN:=14)\n",
    "    df = mark_crosses(df, FAST_DMA, SLOW_DMA)\n",
    "    ent = entry_signal(\n",
    "        df, FAST_DMA, SLOW_DMA,\n",
    "        REQUIRE_CROSS_EXACTLY_T_MINUS_2, CROSS_WINDOW_AFTER,\n",
    "        USE_FILTER_PRICE_ABOVE_200DMA, USE_FILTER_SLOW_SLOPE_POSITIVE,\n",
    "        USE_FILTER_RSI, RSI_MIN,\n",
    "        USE_FILTER_ADX, ADX_MIN,\n",
    "        USE_FILTER_VOLUME_SURGE, VOL_LOOKBACK, VOL_FACTOR,\n",
    "        USE_FILTER_ATR_BAND, ATR_MIN_PCT, ATR_MAX_PCT\n",
    "    )\n",
    "    exi = exit_signal(df, SLOW_DMA, PROTECTIVE_EXIT_ON_CLOSE_BELOW_20DMA)\n",
    "    return df, ent, exi\n",
    "\n",
    "def last_completed_index(df):\n",
    "    now = datetime.now(IST)\n",
    "    if india_market_open_now(now):\n",
    "        return df.index[-2] if len(df) >= 2 else None\n",
    "    else:\n",
    "        return df.index[-1] if len(df) >= 1 else None\n",
    "\n",
    "holdings = get_holdings_map(groww)\n",
    "orders_plan = []\n",
    "\n",
    "for y_symbol in TICKERS:\n",
    "    df, ent, exi = compute_signals_for_symbol_yf(y_symbol)\n",
    "    if df.empty: \n",
    "        print(f\"[WARN] no data for {y_symbol}\")\n",
    "        continue\n",
    "    idx = last_completed_index(df)\n",
    "    if idx is None:\n",
    "        continue\n",
    "    entry_sig = bool(ent.loc[idx]) if idx in ent.index else False\n",
    "    exit_sig  = bool(exi.loc[idx]) if idx in exi.index else False\n",
    "    close_px  = float(df.loc[idx, \"Close\"])\n",
    "    groww_sym = yahoo_to_groww(y_symbol)\n",
    "    held_qty  = holdings.get(groww_sym, 0)\n",
    "\n",
    "    if entry_sig and held_qty <= 0:\n",
    "        # Simple sizing: use fraction of capital like v2 backtest (RISK_PER_TRADE as fraction of equity)\n",
    "        # v2 uses RISK_PER_TRADE = fraction of equity; here we translate to shares using close price\n",
    "        alloc = INITIAL_CAPITAL * RISK_PER_TRADE\n",
    "        qty = int(alloc // max(1e-6, close_px))\n",
    "        if qty > 0:\n",
    "            orders_plan.append({\n",
    "                \"action\":\"BUY\",\"symbol\":groww_sym,\"qty\":int(qty),\n",
    "                \"reason\":\"Entry signal (last completed day)\",\"yahoo_symbol\":y_symbol\n",
    "            })\n",
    "    if exit_sig and held_qty > 0:\n",
    "        orders_plan.append({\n",
    "            \"action\":\"SELL\",\"symbol\":groww_sym,\"qty\":int(held_qty),\n",
    "            \"reason\":\"Exit signal (last completed day)\",\"yahoo_symbol\":y_symbol\n",
    "        })\n",
    "\n",
    "orders_df = pd.DataFrame(orders_plan)\n",
    "if not orders_df.empty:\n",
    "    path = os.path.join(SAVE_DIR, f\"orders_plan_{RUN_TAG}.csv\")\n",
    "    orders_df.to_csv(path, index=False)\n",
    "    print(\"Saved plan:\", path)\n",
    "orders_df.tail(20)\n"
   ]
  },
  {
   "cell_type": "markdown",
   "id": "5f2646ca",
   "metadata": {},
   "source": [
    "## Execute plan (MARKET/CNC)"
   ]
  },
  {
   "cell_type": "code",
   "execution_count": null,
   "id": "f91708bf",
   "metadata": {},
   "outputs": [],
   "source": [
    "\n",
    "executed = []\n",
    "if 'orders_df' not in globals() or orders_df.empty:\n",
    "    print(\"No orders to execute.\")\n",
    "else:\n",
    "    for _, r in orders_df.iterrows():\n",
    "        resp = place_market_order(\n",
    "            groww,\n",
    "            trading_symbol=r['symbol'],\n",
    "            qty=int(r['qty']),\n",
    "            exchange=\"NSE\", segment=\"CASH\",\n",
    "            product=ORDER_PRODUCT, validity=VALIDITY,\n",
    "            txn_type=r['action']\n",
    "        )\n",
    "        executed.append({**r.to_dict(), \"response\": resp})\n",
    "exec_df = pd.DataFrame(executed)\n",
    "if not exec_df.empty:\n",
    "    path = os.path.join(SAVE_DIR, f\"executions_{RUN_TAG}.jsonl\")\n",
    "    with open(path, \"w\", encoding=\"utf-8\") as f:\n",
    "        for row in executed:\n",
    "            f.write(json.dumps(row) + \"\\n\")\n",
    "    print(\"Saved executions:\", path)\n",
    "exec_df.tail(20)\n"
   ]
  }
 ],
 "metadata": {
  "kernelspec": {
   "display_name": ".talib",
   "language": "python",
   "name": "python3"
  },
  "language_info": {
   "codemirror_mode": {
    "name": "ipython",
    "version": 3
   },
   "file_extension": ".py",
   "mimetype": "text/x-python",
   "name": "python",
   "nbconvert_exporter": "python",
   "pygments_lexer": "ipython3",
   "version": "3.12.8"
  }
 },
 "nbformat": 4,
 "nbformat_minor": 5
}
