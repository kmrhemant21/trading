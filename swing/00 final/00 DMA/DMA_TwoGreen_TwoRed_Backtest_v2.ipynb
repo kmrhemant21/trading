{
 "cells": [
  {
   "cell_type": "markdown",
   "id": "b13c2db9",
   "metadata": {},
   "source": [
    "# DMA Crossover + Two-Green Entry / Two-Red Exit — v2 (No Plots by Default)\n",
    "Adds **optional filters** to reduce false/negative trades and disables plotting by default.\n",
    "Pure Python (`pandas`, `yfinance`, `matplotlib` only if you turn plots back on).\n",
    "\n",
    "### Optional Filters You Can Toggle\n",
    "- Price above 200DMA (avoid weak regimes)\n",
    "- 20DMA slope positive (avoid flat/whipsaw)\n",
    "- RSI filter (e.g., RSI>50)\n",
    "- ADX filter (e.g., ADX>18–25 for trend strength)\n",
    "- Volume surge vs. 20-day average\n",
    "- ATR band: skip too-low or too-high volatility regimes\n",
    "- Protective exit: close below 20DMA exits at next open (prevents waiting for two red candles)\n"
   ]
  },
  {
   "cell_type": "markdown",
   "id": "7065dee4",
   "metadata": {},
   "source": [
    "## Parameters (edit me)"
   ]
  },
  {
   "cell_type": "code",
   "execution_count": 49,
   "id": "cd36350b",
   "metadata": {},
   "outputs": [],
   "source": [
    "\n",
    "# ====================== USER PARAMETERS ======================\n",
    "TICKERS = [\n",
    "        \"ATUL.NS\",\n",
    "    \"CENTRALBK.NS\",\n",
    "    \"COCHINSHIP.NS\"\n",
    "    \"FACT.NS\",\n",
    "    \"GSPL.NS\",\n",
    "    \"HINDPETRO.NS\",\n",
    "    \"IRFC.NS\",\n",
    "    \"LUPIN.NS\",\n",
    "    \"NBCC.NS\",\n",
    "    \"TARIL.NS\",\n",
    "    \"UCOBANK.NS\"\n",
    "]\n",
    "\n",
    "START_DATE = \"2025-01-01\"\n",
    "END_DATE   = None\n",
    "\n",
    "FAST_DMA = 10\n",
    "SLOW_DMA = 20\n",
    "REGIME_DMA = 200  # for regime filter\n",
    "\n",
    "# Entry timing relative to cross\n",
    "REQUIRE_CROSS_EXACTLY_T_MINUS_2 = True\n",
    "CROSS_WINDOW_AFTER = 3  # used only if above flag is False\n",
    "\n",
    "TZ = \"Asia/Kolkata\"\n",
    "\n",
    "# Backtest settings\n",
    "INITIAL_CAPITAL = 50000.0\n",
    "RISK_PER_TRADE = 1.0\n",
    "SLIPPAGE_BPS = 5\n",
    "FEES_BPS = 2\n",
    "\n",
    "# -------- Optional Filters (set True/False) --------\n",
    "USE_FILTER_PRICE_ABOVE_200DMA = False\n",
    "USE_FILTER_SLOW_SLOPE_POSITIVE = False          # slope of 20DMA positive\n",
    "USE_FILTER_RSI = False; RSI_LEN = 14; RSI_MIN = 50\n",
    "USE_FILTER_ADX = False; ADX_LEN = 14; ADX_MIN = 18\n",
    "USE_FILTER_VOLUME_SURGE = False; VOL_LOOKBACK = 20; VOL_FACTOR = 1.2\n",
    "USE_FILTER_ATR_BAND = False; ATR_LEN = 14; ATR_MIN_PCT = 0.5; ATR_MAX_PCT = 4.0\n",
    "    # Require ATR% (ATR/Close*100) to be within [ATR_MIN_PCT, ATR_MAX_PCT]\n",
    "\n",
    "\n",
    "# Protective exit (optional)\n",
    "PROTECTIVE_EXIT_ON_CLOSE_BELOW_20DMA = False\n",
    "\n",
    "# Plot settings (disabled by default)\n",
    "PLOT_LAST_N = 0        # 0 means no plotting\n",
    "SAVE_PLOTS = False\n",
    "PLOTS_DIR = \"plots_dma_two_green_v2\"\n",
    "# ============================================================\n"
   ]
  },
  {
   "cell_type": "markdown",
   "id": "cf6bb656",
   "metadata": {},
   "source": [
    "## Install & Imports"
   ]
  },
  {
   "cell_type": "code",
   "execution_count": 50,
   "id": "3a8c739e",
   "metadata": {},
   "outputs": [],
   "source": [
    "\n",
    "# !pip install yfinance pandas numpy matplotlib\n",
    "\n",
    "import pandas as pd\n",
    "import numpy as np\n",
    "import yfinance as yf\n",
    "import matplotlib.pyplot as plt\n",
    "import os\n",
    "\n",
    "if SAVE_PLOTS and not os.path.isdir(PLOTS_DIR):\n",
    "    os.makedirs(PLOTS_DIR, exist_ok=True)\n"
   ]
  },
  {
   "cell_type": "markdown",
   "id": "b21f01d9",
   "metadata": {},
   "source": [
    "## Helpers: Indicators (RSI/ATR/ADX), Data, Signals, Backtest"
   ]
  },
  {
   "cell_type": "code",
   "execution_count": 51,
   "id": "fd9f1979",
   "metadata": {},
   "outputs": [],
   "source": [
    "\n",
    "def _to_tz_local_naive(df, tz):\n",
    "    if df.index.tz is None:\n",
    "        df.index = df.index.tz_localize('UTC').tz_convert(tz).tz_localize(None)\n",
    "    else:\n",
    "        df.index = df.index.tz_convert(tz).tz_localize(None)\n",
    "    return df\n",
    "\n",
    "def fetch_1d(ticker, start, end, tz):\n",
    "    df = yf.download(ticker, start=start, end=end, interval='1d', auto_adjust=False, progress=False, multi_level_index=False)\n",
    "    if df.empty: return df\n",
    "    df = df.rename(columns=str.title)\n",
    "    df = _to_tz_local_naive(df, tz).dropna(subset=['Open','High','Low','Close','Volume'])\n",
    "    return df\n",
    "\n",
    "def SMA(s, n):\n",
    "    return s.rolling(n, min_periods=n).mean()\n",
    "\n",
    "def RSI(close, n=14):\n",
    "    delta = close.diff()\n",
    "    gain = delta.clip(lower=0.0)\n",
    "    loss = -delta.clip(upper=0.0)\n",
    "    # Wilder's smoothing\n",
    "    avg_gain = gain.ewm(alpha=1/n, adjust=False).mean()\n",
    "    avg_loss = loss.ewm(alpha=1/n, adjust=False).mean()\n",
    "    rs = avg_gain / avg_loss.replace(0, np.nan)\n",
    "    rsi = 100 - (100 / (1 + rs))\n",
    "    return rsi.fillna(50)  # neutral when undefined\n",
    "\n",
    "def ATR(high, low, close, n=14):\n",
    "    prev_close = close.shift(1)\n",
    "    tr = pd.concat([\n",
    "        (high - low),\n",
    "        (high - prev_close).abs(),\n",
    "        (low - prev_close).abs()\n",
    "    ], axis=1).max(axis=1)\n",
    "    return tr.ewm(alpha=1/n, adjust=False).mean()\n",
    "\n",
    "def ADX(high, low, close, n=14):\n",
    "    # Wilder's ADX\n",
    "    up_move = high.diff()\n",
    "    down_move = -low.diff()\n",
    "    plus_dm = np.where((up_move > down_move) & (up_move > 0), up_move, 0.0)\n",
    "    minus_dm = np.where((down_move > up_move) & (down_move > 0), down_move, 0.0)\n",
    "    tr = pd.concat([\n",
    "        (high - low),\n",
    "        (high - close.shift(1)).abs(),\n",
    "        (low - close.shift(1)).abs()\n",
    "    ], axis=1).max(axis=1)\n",
    "    atr = tr.ewm(alpha=1/n, adjust=False).mean()\n",
    "    plus_di = 100 * pd.Series(plus_dm, index=close.index).ewm(alpha=1/n, adjust=False).mean() / atr\n",
    "    minus_di = 100 * pd.Series(minus_dm, index=close.index).ewm(alpha=1/n, adjust=False).mean() / atr\n",
    "    dx = ( (plus_di - minus_di).abs() / (plus_di + minus_di).replace(0,np.nan) ) * 100\n",
    "    adx = dx.ewm(alpha=1/n, adjust=False).mean()\n",
    "    return adx\n",
    "\n",
    "def add_indicators(df, fast=10, slow=20, regime=200, rsi_len=14, adx_len=14, atr_len=14):\n",
    "    o = df.copy()\n",
    "    o[f'DMA_{fast}'] = SMA(o['Close'], fast)\n",
    "    o[f'DMA_{slow}'] = SMA(o['Close'], slow)\n",
    "    o[f'DMA_{regime}'] = SMA(o['Close'], regime)\n",
    "    o['Green'] = o['Close'] > o['Open']\n",
    "    o['Red']   = o['Close'] < o['Open']\n",
    "    o['RSI'] = RSI(o['Close'], rsi_len)\n",
    "    o['ATR'] = ATR(o['High'], o['Low'], o['Close'], atr_len)\n",
    "    o['ATR_PCT'] = o['ATR'] / o['Close'] * 100\n",
    "    o['ADX'] = ADX(o['High'], o['Low'], o['Close'], adx_len)\n",
    "    # Slope of slow DMA (first difference)\n",
    "    o['SLOW_SLOPE'] = o[f'DMA_{slow}'].diff()\n",
    "    o['VOL_MA'] = SMA(o['Volume'], 20)\n",
    "    return o\n",
    "\n",
    "def mark_crosses(out, fast=10, slow=20):\n",
    "    f, s = f'DMA_{fast}', f'DMA_{slow}'\n",
    "    out['CrossUp'] = (out[f].shift(1) <= out[s].shift(1)) & (out[f] > out[s])\n",
    "    out['CrossDn'] = (out[f].shift(1) >= out[s].shift(1)) & (out[f] < out[s])\n",
    "    return out\n",
    "\n",
    "def entry_signal(o, fast=10, slow=20,\n",
    "                 exact_t_minus_2=True, cross_window_after=3,\n",
    "                 regime_ok=True, slope_ok=True, rsi_ok=True, rsi_min=50,\n",
    "                 adx_ok=True, adx_min=18, vol_surge=False, vol_lb=20, vol_factor=1.2,\n",
    "                 atr_band=True, atr_min_pct=0.5, atr_max_pct=4.0):\n",
    "    green_seq = (o['Green'] & o['Green'].shift(1))  # two greens ending at t\n",
    "    higher_close = o['Close'] > o['Close'].shift(1)\n",
    "    base = (green_seq & higher_close)\n",
    "\n",
    "    # Cross timing\n",
    "    if exact_t_minus_2:\n",
    "        cross_cond = o['CrossUp'].shift(2).fillna(False)\n",
    "    else:\n",
    "        c = False\n",
    "        for k in range(2, 2 + cross_window_after):\n",
    "            c = c | o['CrossUp'].shift(k).fillna(False)\n",
    "        cross_cond = c\n",
    "\n",
    "    cond = base & cross_cond\n",
    "\n",
    "    # Optional filters\n",
    "    if regime_ok:\n",
    "        cond &= o['Close'] > o[f'DMA_{200}']\n",
    "    if slope_ok:\n",
    "        cond &= o['SLOW_SLOPE'] > 0\n",
    "    if rsi_ok:\n",
    "        cond &= o['RSI'] >= rsi_min\n",
    "    if adx_ok:\n",
    "        cond &= o['ADX'] >= adx_min\n",
    "    if vol_surge:\n",
    "        cond &= o['Volume'] >= (o['VOL_MA'] * vol_factor)\n",
    "    if atr_band:\n",
    "        cond &= (o['ATR_PCT'] >= atr_min_pct) & (o['ATR_PCT'] <= atr_max_pct)\n",
    "\n",
    "    return cond.fillna(False)\n",
    "\n",
    "def exit_signal(o, slow=20, protective_on_close_below_slow=True):\n",
    "    red_seq = (o['Red'] & o['Red'].shift(1))\n",
    "    below_slow = o['Close'] < o[f'DMA_{slow}']\n",
    "    base_exit = (red_seq & below_slow)\n",
    "    if protective_on_close_below_slow:\n",
    "        base_exit = base_exit | below_slow  # any close below 20DMA triggers exit next open\n",
    "    return base_exit.fillna(False)\n",
    "\n",
    "def backtest_long_only(df, enter_sig, exit_sig, initial_capital=100000.0, risk_frac=1.0,\n",
    "                       slippage_bps=5, fees_bps=2):\n",
    "    ohlc = df[['Open','High','Low','Close','Volume']].copy()\n",
    "    open_next = ohlc['Open'].shift(-1)\n",
    "    slippage = slippage_bps / 10000.0\n",
    "    fees = fees_bps / 10000.0\n",
    "\n",
    "    in_pos=False; qty=0; entry_price=np.nan; cash=initial_capital\n",
    "    equity_curve=[]; trades=[]\n",
    "\n",
    "    for i, (ts,row) in enumerate(ohlc.iterrows()):\n",
    "        equity = cash + qty * row['Close']\n",
    "        equity_curve.append((ts,equity))\n",
    "        if i == len(ohlc)-1: continue\n",
    "\n",
    "        if (not in_pos) and enter_sig.loc[ts]:\n",
    "            px = open_next.loc[ts]\n",
    "            if pd.isna(px) or px<=0: continue\n",
    "            fill = px * (1+slippage)\n",
    "            fee_amt = fill * fees\n",
    "            alloc = equity * risk_frac\n",
    "            qty = int(alloc // fill)\n",
    "            if qty<=0: continue\n",
    "            cash -= qty*fill + fee_amt\n",
    "            entry_price = fill; in_pos=True\n",
    "            trades.append({'Time': ohlc.index[i+1], 'Ticker': df.attrs.get('Ticker','N/A'),\n",
    "                           'Action':'BUY','Qty':qty,'Price':fill,'Fees':fee_amt})\n",
    "        elif in_pos and exit_sig.loc[ts]:\n",
    "            px = open_next.loc[ts]\n",
    "            if pd.isna(px) or px<=0: continue\n",
    "            fill = px * (1-slippage)\n",
    "            notional = qty*fill\n",
    "            fee_amt = notional * fees\n",
    "            cash += notional - fee_amt\n",
    "            trades.append({'Time': ohlc.index[i+1], 'Ticker': df.attrs.get('Ticker','N/A'),\n",
    "                           'Action':'SELL','Qty':qty,'Price':fill,'Fees':fee_amt,\n",
    "                           'PnL': (fill-entry_price)*qty - fee_amt})\n",
    "            qty=0; entry_price=np.nan; in_pos=False\n",
    "\n",
    "    if len(ohlc):\n",
    "        last_ts=ohlc.index[-1]\n",
    "        equity_curve.append((last_ts, cash + qty*ohlc['Close'].iloc[-1]))\n",
    "    ec = pd.DataFrame(equity_curve, columns=['Time','Equity']).set_index('Time')\n",
    "    tr = pd.DataFrame(trades)\n",
    "    return tr, ec\n"
   ]
  },
  {
   "cell_type": "markdown",
   "id": "75d16158",
   "metadata": {},
   "source": [
    "## Run for All Tickers"
   ]
  },
  {
   "cell_type": "code",
   "execution_count": 52,
   "id": "8bed9bf8",
   "metadata": {},
   "outputs": [
    {
     "name": "stdout",
     "output_type": "stream",
     "text": [
      "Processing ATUL.NS...\n"
     ]
    },
    {
     "name": "stderr",
     "output_type": "stream",
     "text": [
      "/var/folders/mn/tx231v5158797chnp22wm9000000gp/T/ipykernel_14784/292461430.py:89: FutureWarning: Downcasting object dtype arrays on .fillna, .ffill, .bfill is deprecated and will change in a future version. Call result.infer_objects(copy=False) instead. To opt-in to the future behavior, set `pd.set_option('future.no_silent_downcasting', True)`\n",
      "  cross_cond = o['CrossUp'].shift(2).fillna(False)\n"
     ]
    },
    {
     "name": "stdout",
     "output_type": "stream",
     "text": [
      "Processing CENTRALBK.NS...\n"
     ]
    },
    {
     "name": "stderr",
     "output_type": "stream",
     "text": [
      "/var/folders/mn/tx231v5158797chnp22wm9000000gp/T/ipykernel_14784/292461430.py:89: FutureWarning: Downcasting object dtype arrays on .fillna, .ffill, .bfill is deprecated and will change in a future version. Call result.infer_objects(copy=False) instead. To opt-in to the future behavior, set `pd.set_option('future.no_silent_downcasting', True)`\n",
      "  cross_cond = o['CrossUp'].shift(2).fillna(False)\n"
     ]
    },
    {
     "name": "stdout",
     "output_type": "stream",
     "text": [
      "Processing COCHINSHIP.NSFACT.NS...\n"
     ]
    },
    {
     "name": "stderr",
     "output_type": "stream",
     "text": [
      "HTTP Error 404: \n",
      "\n",
      "1 Failed download:\n",
      "['COCHINSHIP.NSFACT.NS']: YFTzMissingError('possibly delisted; no timezone found')\n"
     ]
    },
    {
     "name": "stdout",
     "output_type": "stream",
     "text": [
      "[WARN] COCHINSHIP.NSFACT.NS: no data\n",
      "Processing GSPL.NS...\n"
     ]
    },
    {
     "name": "stderr",
     "output_type": "stream",
     "text": [
      "/var/folders/mn/tx231v5158797chnp22wm9000000gp/T/ipykernel_14784/292461430.py:89: FutureWarning: Downcasting object dtype arrays on .fillna, .ffill, .bfill is deprecated and will change in a future version. Call result.infer_objects(copy=False) instead. To opt-in to the future behavior, set `pd.set_option('future.no_silent_downcasting', True)`\n",
      "  cross_cond = o['CrossUp'].shift(2).fillna(False)\n"
     ]
    },
    {
     "name": "stdout",
     "output_type": "stream",
     "text": [
      "Processing HINDPETRO.NS...\n"
     ]
    },
    {
     "name": "stderr",
     "output_type": "stream",
     "text": [
      "/var/folders/mn/tx231v5158797chnp22wm9000000gp/T/ipykernel_14784/292461430.py:89: FutureWarning: Downcasting object dtype arrays on .fillna, .ffill, .bfill is deprecated and will change in a future version. Call result.infer_objects(copy=False) instead. To opt-in to the future behavior, set `pd.set_option('future.no_silent_downcasting', True)`\n",
      "  cross_cond = o['CrossUp'].shift(2).fillna(False)\n"
     ]
    },
    {
     "name": "stdout",
     "output_type": "stream",
     "text": [
      "Processing IRFC.NS...\n"
     ]
    },
    {
     "name": "stderr",
     "output_type": "stream",
     "text": [
      "/var/folders/mn/tx231v5158797chnp22wm9000000gp/T/ipykernel_14784/292461430.py:89: FutureWarning: Downcasting object dtype arrays on .fillna, .ffill, .bfill is deprecated and will change in a future version. Call result.infer_objects(copy=False) instead. To opt-in to the future behavior, set `pd.set_option('future.no_silent_downcasting', True)`\n",
      "  cross_cond = o['CrossUp'].shift(2).fillna(False)\n"
     ]
    },
    {
     "name": "stdout",
     "output_type": "stream",
     "text": [
      "Processing LUPIN.NS...\n"
     ]
    },
    {
     "name": "stderr",
     "output_type": "stream",
     "text": [
      "/var/folders/mn/tx231v5158797chnp22wm9000000gp/T/ipykernel_14784/292461430.py:89: FutureWarning: Downcasting object dtype arrays on .fillna, .ffill, .bfill is deprecated and will change in a future version. Call result.infer_objects(copy=False) instead. To opt-in to the future behavior, set `pd.set_option('future.no_silent_downcasting', True)`\n",
      "  cross_cond = o['CrossUp'].shift(2).fillna(False)\n"
     ]
    },
    {
     "name": "stdout",
     "output_type": "stream",
     "text": [
      "Processing NBCC.NS...\n"
     ]
    },
    {
     "name": "stderr",
     "output_type": "stream",
     "text": [
      "/var/folders/mn/tx231v5158797chnp22wm9000000gp/T/ipykernel_14784/292461430.py:89: FutureWarning: Downcasting object dtype arrays on .fillna, .ffill, .bfill is deprecated and will change in a future version. Call result.infer_objects(copy=False) instead. To opt-in to the future behavior, set `pd.set_option('future.no_silent_downcasting', True)`\n",
      "  cross_cond = o['CrossUp'].shift(2).fillna(False)\n"
     ]
    },
    {
     "name": "stdout",
     "output_type": "stream",
     "text": [
      "Processing TARIL.NS...\n"
     ]
    },
    {
     "name": "stderr",
     "output_type": "stream",
     "text": [
      "/var/folders/mn/tx231v5158797chnp22wm9000000gp/T/ipykernel_14784/292461430.py:89: FutureWarning: Downcasting object dtype arrays on .fillna, .ffill, .bfill is deprecated and will change in a future version. Call result.infer_objects(copy=False) instead. To opt-in to the future behavior, set `pd.set_option('future.no_silent_downcasting', True)`\n",
      "  cross_cond = o['CrossUp'].shift(2).fillna(False)\n"
     ]
    },
    {
     "name": "stdout",
     "output_type": "stream",
     "text": [
      "Processing UCOBANK.NS...\n",
      "\n",
      "=== Summary (v2) ===\n",
      "      Ticker  Trades  FinalEquity  TotalReturn  MaxDrawdown\n",
      "     GSPL.NS       1 55555.930948     0.111119    -0.062789\n",
      "  UCOBANK.NS       1 50027.427359     0.000549    -0.016630\n",
      "CENTRALBK.NS       0 50000.000000     0.000000     0.000000\n",
      "HINDPETRO.NS       0 50000.000000     0.000000     0.000000\n",
      "     IRFC.NS       0 50000.000000     0.000000     0.000000\n",
      "    LUPIN.NS       0 50000.000000     0.000000     0.000000\n",
      "     NBCC.NS       0 50000.000000     0.000000     0.000000\n",
      "    TARIL.NS       1 45948.448110    -0.081031    -0.100912\n",
      "     ATUL.NS       3 42204.610631    -0.155908    -0.211267\n",
      "\n",
      "Saved: dma_two_green_trades_v2.csv, dma_two_green_performance_v2.csv\n"
     ]
    },
    {
     "name": "stderr",
     "output_type": "stream",
     "text": [
      "/var/folders/mn/tx231v5158797chnp22wm9000000gp/T/ipykernel_14784/292461430.py:89: FutureWarning: Downcasting object dtype arrays on .fillna, .ffill, .bfill is deprecated and will change in a future version. Call result.infer_objects(copy=False) instead. To opt-in to the future behavior, set `pd.set_option('future.no_silent_downcasting', True)`\n",
      "  cross_cond = o['CrossUp'].shift(2).fillna(False)\n"
     ]
    }
   ],
   "source": [
    "\n",
    "all_trades=[]; perf_rows=[]; all_ec={}\n",
    "for t in TICKERS:\n",
    "    print(f\"Processing {t}...\")\n",
    "    df = fetch_1d(t, START_DATE, END_DATE, TZ)\n",
    "    if df.empty:\n",
    "        print(f\"[WARN] {t}: no data\");\n",
    "        continue\n",
    "    df.attrs['Ticker']=t\n",
    "    df = add_indicators(df, FAST_DMA, SLOW_DMA, REGIME_DMA, RSI_LEN, ADX_LEN, ATR_LEN:=14)\n",
    "    df = mark_crosses(df, FAST_DMA, SLOW_DMA)\n",
    "\n",
    "    ent = entry_signal(\n",
    "        df, FAST_DMA, SLOW_DMA,\n",
    "        REQUIRE_CROSS_EXACTLY_T_MINUS_2, CROSS_WINDOW_AFTER,\n",
    "        USE_FILTER_PRICE_ABOVE_200DMA, USE_FILTER_SLOW_SLOPE_POSITIVE,\n",
    "        USE_FILTER_RSI, RSI_MIN,\n",
    "        USE_FILTER_ADX, ADX_MIN,\n",
    "        USE_FILTER_VOLUME_SURGE, VOL_LOOKBACK, VOL_FACTOR,\n",
    "        USE_FILTER_ATR_BAND, ATR_MIN_PCT, ATR_MAX_PCT\n",
    "    )\n",
    "    exi = exit_signal(df, SLOW_DMA, PROTECTIVE_EXIT_ON_CLOSE_BELOW_20DMA)\n",
    "\n",
    "    trades, ec = backtest_long_only(df, ent, exi, INITIAL_CAPITAL, RISK_PER_TRADE, SLIPPAGE_BPS, FEES_BPS)\n",
    "    all_ec[t]=ec\n",
    "    if not trades.empty: all_trades.append(trades.assign(Ticker=t))\n",
    "\n",
    "    final_eq = ec['Equity'].iloc[-1]\n",
    "    total_ret = final_eq/INITIAL_CAPITAL - 1.0\n",
    "    dd = (ec['Equity']/ec['Equity'].cummax() - 1.0).min()\n",
    "    perf_rows.append({'Ticker':t,'Trades':0 if trades.empty else len(trades)//2,\n",
    "                      'FinalEquity':final_eq,'TotalReturn':total_ret,'MaxDrawdown':dd})\n",
    "\n",
    "    # plot only if enabled\n",
    "    if PLOT_LAST_N and PLOT_LAST_N>0:\n",
    "        from datetime import datetime\n",
    "        last_n = df.tail(PLOT_LAST_N).copy()\n",
    "        # (plotting code omitted here to keep v2 lean; reuse from v1 if needed)\n",
    "\n",
    "trades_df = pd.concat(all_trades, ignore_index=True) if all_trades else pd.DataFrame(\n",
    "    columns=['Time','Ticker','Action','Qty','Price','Fees','PnL']\n",
    ")\n",
    "perf_df = pd.DataFrame(perf_rows).sort_values('TotalReturn', ascending=False)\n",
    "\n",
    "trades_df.to_csv(\"dma_two_green_trades_v2.csv\", index=False)\n",
    "perf_df.to_csv(\"dma_two_green_performance_v2.csv\", index=False)\n",
    "\n",
    "print(\"\\n=== Summary (v2) ===\")\n",
    "print(perf_df.to_string(index=False))\n",
    "print(\"\\nSaved: dma_two_green_trades_v2.csv, dma_two_green_performance_v2.csv\")\n"
   ]
  },
  {
   "cell_type": "markdown",
   "id": "d31201a1",
   "metadata": {},
   "source": [
    "## Suggested Defaults to Reduce Losing Trades\n",
    "- Keep **USE_FILTER_PRICE_ABOVE_200DMA = True**\n",
    "- Keep **USE_FILTER_SLOW_SLOPE_POSITIVE = True**\n",
    "- Use **RSI_MIN = 50–55**\n",
    "- Use **ADX_MIN = 18–25** depending on trendiness\n",
    "- Enable **ATR band**; try `ATR_MIN_PCT=0.5` and `ATR_MAX_PCT=4.0`\n",
    "- Consider enabling **volume surge** with `VOL_FACTOR=1.2–1.5`\n",
    "- Keep **protective exit** on to avoid waiting for two red closes\n"
   ]
  }
 ],
 "metadata": {
  "kernelspec": {
   "display_name": ".talib",
   "language": "python",
   "name": "python3"
  },
  "language_info": {
   "codemirror_mode": {
    "name": "ipython",
    "version": 3
   },
   "file_extension": ".py",
   "mimetype": "text/x-python",
   "name": "python",
   "nbconvert_exporter": "python",
   "pygments_lexer": "ipython3",
   "version": "3.12.8"
  }
 },
 "nbformat": 4,
 "nbformat_minor": 5
}
