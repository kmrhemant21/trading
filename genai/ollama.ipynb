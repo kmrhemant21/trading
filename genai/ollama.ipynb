{
 "cells": [
  {
   "cell_type": "code",
   "execution_count": 4,
   "id": "bfff35fd",
   "metadata": {},
   "outputs": [
    {
     "name": "stdout",
     "output_type": "stream",
     "text": [
      " Relativity is a theory that describes how space, time, and matter are interconnected. It was developed by Albert Einstein in the early 20th century and has two main parts: Special Relativity and General Relativity.\n",
      "\n",
      "1. Special Relativity (1905): This explains how things move at high speeds relative to each other. The two most famous ideas from this theory are:\n",
      "   - The speed of light in a vacuum (about 299,792 kilometers per second) is the same for all observers, no matter how fast they're moving. This means that as an object approaches the speed of light, time slows down for that object relative to a stationary observer.\n",
      "   - If you measure the length of a moving object, it will appear shorter to a stationary observer compared to when the object is at rest. This is called length contraction.\n",
      "\n",
      "2. General Relativity (1915): This theory goes beyond special relativity by explaining gravity as a curvature of space-time caused by mass and energy. Essentially, massive objects like planets and stars bend or warp the fabric of space-time around them, causing other objects to move along curved paths.\n",
      "\n",
      "In simple terms, relativity tells us that time and space are not absolute but can change depending on an observer's speed and position in relation to mass and energy. This has many profound implications for our understanding of the universe.\n",
      "Time taken: 117.11561918258667\n"
     ]
    }
   ],
   "source": [
    "import requests\n",
    "import time\n",
    "\n",
    "url = \"http://localhost:11434/api/generate\"\n",
    "payload = {\n",
    "    \"model\": \"mistral\",\n",
    "    \"prompt\": \"Explain relativity in simple words\",\n",
    "    \"stream\": False\n",
    "}\n",
    "\n",
    "start = time.time()\n",
    "response = requests.post(url, json=payload)\n",
    "print(response.json()[\"response\"])\n",
    "print(\"Time taken:\", time.time() - start)"
   ]
  }
 ],
 "metadata": {
  "kernelspec": {
   "display_name": ".venv",
   "language": "python",
   "name": "python3"
  },
  "language_info": {
   "codemirror_mode": {
    "name": "ipython",
    "version": 3
   },
   "file_extension": ".py",
   "mimetype": "text/x-python",
   "name": "python",
   "nbconvert_exporter": "python",
   "pygments_lexer": "ipython3",
   "version": "3.11.4"
  }
 },
 "nbformat": 4,
 "nbformat_minor": 5
}
