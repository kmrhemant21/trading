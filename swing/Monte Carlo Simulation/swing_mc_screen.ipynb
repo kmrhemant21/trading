{
 "cells": [
  {
   "cell_type": "code",
   "execution_count": null,
   "id": "81b296a0",
   "metadata": {},
   "outputs": [
    {
     "name": "stdout",
     "output_type": "stream",
     "text": [
      "Running swing MC screen on 500 tickers | horizon=10d paths=20000\n",
      "  > 360ONE.NS\n"
     ]
    },
    {
     "name": "stderr",
     "output_type": "stream",
     "text": [
      "/var/folders/mn/tx231v5158797chnp22wm9000000gp/T/ipykernel_61094/4004665421.py:76: FutureWarning: Calling float on a single element Series is deprecated and will raise a TypeError in the future. Use float(ser.iloc[0]) instead\n",
      "  mu_ann = float(log_ret.mean()) * TRADING_DAYS\n",
      "/var/folders/mn/tx231v5158797chnp22wm9000000gp/T/ipykernel_61094/4004665421.py:77: FutureWarning: Calling float on a single element Series is deprecated and will raise a TypeError in the future. Use float(ser.iloc[0]) instead\n",
      "  sigma_ann = float(log_ret.std(ddof=1)) * math.sqrt(TRADING_DAYS)\n",
      "/var/folders/mn/tx231v5158797chnp22wm9000000gp/T/ipykernel_61094/4004665421.py:78: FutureWarning: Calling float on a single element Series is deprecated and will raise a TypeError in the future. Use float(ser.iloc[0]) instead\n",
      "  S0 = float(tail.iloc[-1])\n"
     ]
    },
    {
     "name": "stdout",
     "output_type": "stream",
     "text": [
      "  > 3MINDIA.NS\n"
     ]
    },
    {
     "name": "stderr",
     "output_type": "stream",
     "text": [
      "/var/folders/mn/tx231v5158797chnp22wm9000000gp/T/ipykernel_61094/4004665421.py:76: FutureWarning: Calling float on a single element Series is deprecated and will raise a TypeError in the future. Use float(ser.iloc[0]) instead\n",
      "  mu_ann = float(log_ret.mean()) * TRADING_DAYS\n",
      "/var/folders/mn/tx231v5158797chnp22wm9000000gp/T/ipykernel_61094/4004665421.py:77: FutureWarning: Calling float on a single element Series is deprecated and will raise a TypeError in the future. Use float(ser.iloc[0]) instead\n",
      "  sigma_ann = float(log_ret.std(ddof=1)) * math.sqrt(TRADING_DAYS)\n",
      "/var/folders/mn/tx231v5158797chnp22wm9000000gp/T/ipykernel_61094/4004665421.py:78: FutureWarning: Calling float on a single element Series is deprecated and will raise a TypeError in the future. Use float(ser.iloc[0]) instead\n",
      "  S0 = float(tail.iloc[-1])\n"
     ]
    },
    {
     "name": "stdout",
     "output_type": "stream",
     "text": [
      "  > ABB.NS\n"
     ]
    },
    {
     "name": "stderr",
     "output_type": "stream",
     "text": [
      "/var/folders/mn/tx231v5158797chnp22wm9000000gp/T/ipykernel_61094/4004665421.py:76: FutureWarning: Calling float on a single element Series is deprecated and will raise a TypeError in the future. Use float(ser.iloc[0]) instead\n",
      "  mu_ann = float(log_ret.mean()) * TRADING_DAYS\n",
      "/var/folders/mn/tx231v5158797chnp22wm9000000gp/T/ipykernel_61094/4004665421.py:77: FutureWarning: Calling float on a single element Series is deprecated and will raise a TypeError in the future. Use float(ser.iloc[0]) instead\n",
      "  sigma_ann = float(log_ret.std(ddof=1)) * math.sqrt(TRADING_DAYS)\n",
      "/var/folders/mn/tx231v5158797chnp22wm9000000gp/T/ipykernel_61094/4004665421.py:78: FutureWarning: Calling float on a single element Series is deprecated and will raise a TypeError in the future. Use float(ser.iloc[0]) instead\n",
      "  S0 = float(tail.iloc[-1])\n"
     ]
    },
    {
     "name": "stdout",
     "output_type": "stream",
     "text": [
      "  > ACC.NS\n"
     ]
    },
    {
     "name": "stderr",
     "output_type": "stream",
     "text": [
      "/var/folders/mn/tx231v5158797chnp22wm9000000gp/T/ipykernel_61094/4004665421.py:76: FutureWarning: Calling float on a single element Series is deprecated and will raise a TypeError in the future. Use float(ser.iloc[0]) instead\n",
      "  mu_ann = float(log_ret.mean()) * TRADING_DAYS\n",
      "/var/folders/mn/tx231v5158797chnp22wm9000000gp/T/ipykernel_61094/4004665421.py:77: FutureWarning: Calling float on a single element Series is deprecated and will raise a TypeError in the future. Use float(ser.iloc[0]) instead\n",
      "  sigma_ann = float(log_ret.std(ddof=1)) * math.sqrt(TRADING_DAYS)\n",
      "/var/folders/mn/tx231v5158797chnp22wm9000000gp/T/ipykernel_61094/4004665421.py:78: FutureWarning: Calling float on a single element Series is deprecated and will raise a TypeError in the future. Use float(ser.iloc[0]) instead\n",
      "  S0 = float(tail.iloc[-1])\n"
     ]
    },
    {
     "name": "stdout",
     "output_type": "stream",
     "text": [
      "  > ACMESOLAR.NS\n"
     ]
    },
    {
     "name": "stderr",
     "output_type": "stream",
     "text": [
      "/var/folders/mn/tx231v5158797chnp22wm9000000gp/T/ipykernel_61094/4004665421.py:76: FutureWarning: Calling float on a single element Series is deprecated and will raise a TypeError in the future. Use float(ser.iloc[0]) instead\n",
      "  mu_ann = float(log_ret.mean()) * TRADING_DAYS\n",
      "/var/folders/mn/tx231v5158797chnp22wm9000000gp/T/ipykernel_61094/4004665421.py:77: FutureWarning: Calling float on a single element Series is deprecated and will raise a TypeError in the future. Use float(ser.iloc[0]) instead\n",
      "  sigma_ann = float(log_ret.std(ddof=1)) * math.sqrt(TRADING_DAYS)\n",
      "/var/folders/mn/tx231v5158797chnp22wm9000000gp/T/ipykernel_61094/4004665421.py:78: FutureWarning: Calling float on a single element Series is deprecated and will raise a TypeError in the future. Use float(ser.iloc[0]) instead\n",
      "  S0 = float(tail.iloc[-1])\n"
     ]
    },
    {
     "name": "stdout",
     "output_type": "stream",
     "text": [
      "  > AIAENG.NS\n"
     ]
    },
    {
     "name": "stderr",
     "output_type": "stream",
     "text": [
      "/var/folders/mn/tx231v5158797chnp22wm9000000gp/T/ipykernel_61094/4004665421.py:76: FutureWarning: Calling float on a single element Series is deprecated and will raise a TypeError in the future. Use float(ser.iloc[0]) instead\n",
      "  mu_ann = float(log_ret.mean()) * TRADING_DAYS\n",
      "/var/folders/mn/tx231v5158797chnp22wm9000000gp/T/ipykernel_61094/4004665421.py:77: FutureWarning: Calling float on a single element Series is deprecated and will raise a TypeError in the future. Use float(ser.iloc[0]) instead\n",
      "  sigma_ann = float(log_ret.std(ddof=1)) * math.sqrt(TRADING_DAYS)\n",
      "/var/folders/mn/tx231v5158797chnp22wm9000000gp/T/ipykernel_61094/4004665421.py:78: FutureWarning: Calling float on a single element Series is deprecated and will raise a TypeError in the future. Use float(ser.iloc[0]) instead\n",
      "  S0 = float(tail.iloc[-1])\n"
     ]
    },
    {
     "name": "stdout",
     "output_type": "stream",
     "text": [
      "  > APLAPOLLO.NS\n"
     ]
    },
    {
     "name": "stderr",
     "output_type": "stream",
     "text": [
      "/var/folders/mn/tx231v5158797chnp22wm9000000gp/T/ipykernel_61094/4004665421.py:76: FutureWarning: Calling float on a single element Series is deprecated and will raise a TypeError in the future. Use float(ser.iloc[0]) instead\n",
      "  mu_ann = float(log_ret.mean()) * TRADING_DAYS\n",
      "/var/folders/mn/tx231v5158797chnp22wm9000000gp/T/ipykernel_61094/4004665421.py:77: FutureWarning: Calling float on a single element Series is deprecated and will raise a TypeError in the future. Use float(ser.iloc[0]) instead\n",
      "  sigma_ann = float(log_ret.std(ddof=1)) * math.sqrt(TRADING_DAYS)\n",
      "/var/folders/mn/tx231v5158797chnp22wm9000000gp/T/ipykernel_61094/4004665421.py:78: FutureWarning: Calling float on a single element Series is deprecated and will raise a TypeError in the future. Use float(ser.iloc[0]) instead\n",
      "  S0 = float(tail.iloc[-1])\n"
     ]
    },
    {
     "name": "stdout",
     "output_type": "stream",
     "text": [
      "  > AUBANK.NS\n"
     ]
    },
    {
     "name": "stderr",
     "output_type": "stream",
     "text": [
      "/var/folders/mn/tx231v5158797chnp22wm9000000gp/T/ipykernel_61094/4004665421.py:76: FutureWarning: Calling float on a single element Series is deprecated and will raise a TypeError in the future. Use float(ser.iloc[0]) instead\n",
      "  mu_ann = float(log_ret.mean()) * TRADING_DAYS\n",
      "/var/folders/mn/tx231v5158797chnp22wm9000000gp/T/ipykernel_61094/4004665421.py:77: FutureWarning: Calling float on a single element Series is deprecated and will raise a TypeError in the future. Use float(ser.iloc[0]) instead\n",
      "  sigma_ann = float(log_ret.std(ddof=1)) * math.sqrt(TRADING_DAYS)\n",
      "/var/folders/mn/tx231v5158797chnp22wm9000000gp/T/ipykernel_61094/4004665421.py:78: FutureWarning: Calling float on a single element Series is deprecated and will raise a TypeError in the future. Use float(ser.iloc[0]) instead\n",
      "  S0 = float(tail.iloc[-1])\n"
     ]
    },
    {
     "name": "stdout",
     "output_type": "stream",
     "text": [
      "  > AWL.NS\n"
     ]
    },
    {
     "name": "stderr",
     "output_type": "stream",
     "text": [
      "/var/folders/mn/tx231v5158797chnp22wm9000000gp/T/ipykernel_61094/4004665421.py:76: FutureWarning: Calling float on a single element Series is deprecated and will raise a TypeError in the future. Use float(ser.iloc[0]) instead\n",
      "  mu_ann = float(log_ret.mean()) * TRADING_DAYS\n",
      "/var/folders/mn/tx231v5158797chnp22wm9000000gp/T/ipykernel_61094/4004665421.py:77: FutureWarning: Calling float on a single element Series is deprecated and will raise a TypeError in the future. Use float(ser.iloc[0]) instead\n",
      "  sigma_ann = float(log_ret.std(ddof=1)) * math.sqrt(TRADING_DAYS)\n",
      "/var/folders/mn/tx231v5158797chnp22wm9000000gp/T/ipykernel_61094/4004665421.py:78: FutureWarning: Calling float on a single element Series is deprecated and will raise a TypeError in the future. Use float(ser.iloc[0]) instead\n",
      "  S0 = float(tail.iloc[-1])\n"
     ]
    },
    {
     "name": "stdout",
     "output_type": "stream",
     "text": [
      "  > AADHARHFC.NS\n"
     ]
    },
    {
     "name": "stderr",
     "output_type": "stream",
     "text": [
      "/var/folders/mn/tx231v5158797chnp22wm9000000gp/T/ipykernel_61094/4004665421.py:76: FutureWarning: Calling float on a single element Series is deprecated and will raise a TypeError in the future. Use float(ser.iloc[0]) instead\n",
      "  mu_ann = float(log_ret.mean()) * TRADING_DAYS\n",
      "/var/folders/mn/tx231v5158797chnp22wm9000000gp/T/ipykernel_61094/4004665421.py:77: FutureWarning: Calling float on a single element Series is deprecated and will raise a TypeError in the future. Use float(ser.iloc[0]) instead\n",
      "  sigma_ann = float(log_ret.std(ddof=1)) * math.sqrt(TRADING_DAYS)\n",
      "/var/folders/mn/tx231v5158797chnp22wm9000000gp/T/ipykernel_61094/4004665421.py:78: FutureWarning: Calling float on a single element Series is deprecated and will raise a TypeError in the future. Use float(ser.iloc[0]) instead\n",
      "  S0 = float(tail.iloc[-1])\n"
     ]
    },
    {
     "name": "stdout",
     "output_type": "stream",
     "text": [
      "  > AARTIIND.NS\n"
     ]
    },
    {
     "name": "stderr",
     "output_type": "stream",
     "text": [
      "/var/folders/mn/tx231v5158797chnp22wm9000000gp/T/ipykernel_61094/4004665421.py:76: FutureWarning: Calling float on a single element Series is deprecated and will raise a TypeError in the future. Use float(ser.iloc[0]) instead\n",
      "  mu_ann = float(log_ret.mean()) * TRADING_DAYS\n",
      "/var/folders/mn/tx231v5158797chnp22wm9000000gp/T/ipykernel_61094/4004665421.py:77: FutureWarning: Calling float on a single element Series is deprecated and will raise a TypeError in the future. Use float(ser.iloc[0]) instead\n",
      "  sigma_ann = float(log_ret.std(ddof=1)) * math.sqrt(TRADING_DAYS)\n",
      "/var/folders/mn/tx231v5158797chnp22wm9000000gp/T/ipykernel_61094/4004665421.py:78: FutureWarning: Calling float on a single element Series is deprecated and will raise a TypeError in the future. Use float(ser.iloc[0]) instead\n",
      "  S0 = float(tail.iloc[-1])\n"
     ]
    },
    {
     "name": "stdout",
     "output_type": "stream",
     "text": [
      "  > AAVAS.NS\n"
     ]
    },
    {
     "name": "stderr",
     "output_type": "stream",
     "text": [
      "/var/folders/mn/tx231v5158797chnp22wm9000000gp/T/ipykernel_61094/4004665421.py:76: FutureWarning: Calling float on a single element Series is deprecated and will raise a TypeError in the future. Use float(ser.iloc[0]) instead\n",
      "  mu_ann = float(log_ret.mean()) * TRADING_DAYS\n",
      "/var/folders/mn/tx231v5158797chnp22wm9000000gp/T/ipykernel_61094/4004665421.py:77: FutureWarning: Calling float on a single element Series is deprecated and will raise a TypeError in the future. Use float(ser.iloc[0]) instead\n",
      "  sigma_ann = float(log_ret.std(ddof=1)) * math.sqrt(TRADING_DAYS)\n",
      "/var/folders/mn/tx231v5158797chnp22wm9000000gp/T/ipykernel_61094/4004665421.py:78: FutureWarning: Calling float on a single element Series is deprecated and will raise a TypeError in the future. Use float(ser.iloc[0]) instead\n",
      "  S0 = float(tail.iloc[-1])\n"
     ]
    },
    {
     "name": "stdout",
     "output_type": "stream",
     "text": [
      "  > ABBOTINDIA.NS\n"
     ]
    },
    {
     "name": "stderr",
     "output_type": "stream",
     "text": [
      "/var/folders/mn/tx231v5158797chnp22wm9000000gp/T/ipykernel_61094/4004665421.py:76: FutureWarning: Calling float on a single element Series is deprecated and will raise a TypeError in the future. Use float(ser.iloc[0]) instead\n",
      "  mu_ann = float(log_ret.mean()) * TRADING_DAYS\n",
      "/var/folders/mn/tx231v5158797chnp22wm9000000gp/T/ipykernel_61094/4004665421.py:77: FutureWarning: Calling float on a single element Series is deprecated and will raise a TypeError in the future. Use float(ser.iloc[0]) instead\n",
      "  sigma_ann = float(log_ret.std(ddof=1)) * math.sqrt(TRADING_DAYS)\n",
      "/var/folders/mn/tx231v5158797chnp22wm9000000gp/T/ipykernel_61094/4004665421.py:78: FutureWarning: Calling float on a single element Series is deprecated and will raise a TypeError in the future. Use float(ser.iloc[0]) instead\n",
      "  S0 = float(tail.iloc[-1])\n"
     ]
    },
    {
     "name": "stdout",
     "output_type": "stream",
     "text": [
      "  > ACE.NS\n"
     ]
    },
    {
     "name": "stderr",
     "output_type": "stream",
     "text": [
      "/var/folders/mn/tx231v5158797chnp22wm9000000gp/T/ipykernel_61094/4004665421.py:76: FutureWarning: Calling float on a single element Series is deprecated and will raise a TypeError in the future. Use float(ser.iloc[0]) instead\n",
      "  mu_ann = float(log_ret.mean()) * TRADING_DAYS\n",
      "/var/folders/mn/tx231v5158797chnp22wm9000000gp/T/ipykernel_61094/4004665421.py:77: FutureWarning: Calling float on a single element Series is deprecated and will raise a TypeError in the future. Use float(ser.iloc[0]) instead\n",
      "  sigma_ann = float(log_ret.std(ddof=1)) * math.sqrt(TRADING_DAYS)\n",
      "/var/folders/mn/tx231v5158797chnp22wm9000000gp/T/ipykernel_61094/4004665421.py:78: FutureWarning: Calling float on a single element Series is deprecated and will raise a TypeError in the future. Use float(ser.iloc[0]) instead\n",
      "  S0 = float(tail.iloc[-1])\n"
     ]
    },
    {
     "name": "stdout",
     "output_type": "stream",
     "text": [
      "  > ADANIENSOL.NS\n"
     ]
    },
    {
     "name": "stderr",
     "output_type": "stream",
     "text": [
      "/var/folders/mn/tx231v5158797chnp22wm9000000gp/T/ipykernel_61094/4004665421.py:76: FutureWarning: Calling float on a single element Series is deprecated and will raise a TypeError in the future. Use float(ser.iloc[0]) instead\n",
      "  mu_ann = float(log_ret.mean()) * TRADING_DAYS\n",
      "/var/folders/mn/tx231v5158797chnp22wm9000000gp/T/ipykernel_61094/4004665421.py:77: FutureWarning: Calling float on a single element Series is deprecated and will raise a TypeError in the future. Use float(ser.iloc[0]) instead\n",
      "  sigma_ann = float(log_ret.std(ddof=1)) * math.sqrt(TRADING_DAYS)\n",
      "/var/folders/mn/tx231v5158797chnp22wm9000000gp/T/ipykernel_61094/4004665421.py:78: FutureWarning: Calling float on a single element Series is deprecated and will raise a TypeError in the future. Use float(ser.iloc[0]) instead\n",
      "  S0 = float(tail.iloc[-1])\n"
     ]
    },
    {
     "name": "stdout",
     "output_type": "stream",
     "text": [
      "  > ADANIENT.NS\n"
     ]
    },
    {
     "name": "stderr",
     "output_type": "stream",
     "text": [
      "/var/folders/mn/tx231v5158797chnp22wm9000000gp/T/ipykernel_61094/4004665421.py:76: FutureWarning: Calling float on a single element Series is deprecated and will raise a TypeError in the future. Use float(ser.iloc[0]) instead\n",
      "  mu_ann = float(log_ret.mean()) * TRADING_DAYS\n",
      "/var/folders/mn/tx231v5158797chnp22wm9000000gp/T/ipykernel_61094/4004665421.py:77: FutureWarning: Calling float on a single element Series is deprecated and will raise a TypeError in the future. Use float(ser.iloc[0]) instead\n",
      "  sigma_ann = float(log_ret.std(ddof=1)) * math.sqrt(TRADING_DAYS)\n",
      "/var/folders/mn/tx231v5158797chnp22wm9000000gp/T/ipykernel_61094/4004665421.py:78: FutureWarning: Calling float on a single element Series is deprecated and will raise a TypeError in the future. Use float(ser.iloc[0]) instead\n",
      "  S0 = float(tail.iloc[-1])\n"
     ]
    },
    {
     "name": "stdout",
     "output_type": "stream",
     "text": [
      "  > ADANIGREEN.NS\n"
     ]
    },
    {
     "name": "stderr",
     "output_type": "stream",
     "text": [
      "/var/folders/mn/tx231v5158797chnp22wm9000000gp/T/ipykernel_61094/4004665421.py:76: FutureWarning: Calling float on a single element Series is deprecated and will raise a TypeError in the future. Use float(ser.iloc[0]) instead\n",
      "  mu_ann = float(log_ret.mean()) * TRADING_DAYS\n",
      "/var/folders/mn/tx231v5158797chnp22wm9000000gp/T/ipykernel_61094/4004665421.py:77: FutureWarning: Calling float on a single element Series is deprecated and will raise a TypeError in the future. Use float(ser.iloc[0]) instead\n",
      "  sigma_ann = float(log_ret.std(ddof=1)) * math.sqrt(TRADING_DAYS)\n",
      "/var/folders/mn/tx231v5158797chnp22wm9000000gp/T/ipykernel_61094/4004665421.py:78: FutureWarning: Calling float on a single element Series is deprecated and will raise a TypeError in the future. Use float(ser.iloc[0]) instead\n",
      "  S0 = float(tail.iloc[-1])\n"
     ]
    },
    {
     "name": "stdout",
     "output_type": "stream",
     "text": [
      "  > ADANIPORTS.NS\n"
     ]
    },
    {
     "name": "stderr",
     "output_type": "stream",
     "text": [
      "/var/folders/mn/tx231v5158797chnp22wm9000000gp/T/ipykernel_61094/4004665421.py:76: FutureWarning: Calling float on a single element Series is deprecated and will raise a TypeError in the future. Use float(ser.iloc[0]) instead\n",
      "  mu_ann = float(log_ret.mean()) * TRADING_DAYS\n",
      "/var/folders/mn/tx231v5158797chnp22wm9000000gp/T/ipykernel_61094/4004665421.py:77: FutureWarning: Calling float on a single element Series is deprecated and will raise a TypeError in the future. Use float(ser.iloc[0]) instead\n",
      "  sigma_ann = float(log_ret.std(ddof=1)) * math.sqrt(TRADING_DAYS)\n",
      "/var/folders/mn/tx231v5158797chnp22wm9000000gp/T/ipykernel_61094/4004665421.py:78: FutureWarning: Calling float on a single element Series is deprecated and will raise a TypeError in the future. Use float(ser.iloc[0]) instead\n",
      "  S0 = float(tail.iloc[-1])\n"
     ]
    },
    {
     "name": "stdout",
     "output_type": "stream",
     "text": [
      "  > ADANIPOWER.NS\n"
     ]
    },
    {
     "name": "stderr",
     "output_type": "stream",
     "text": [
      "/var/folders/mn/tx231v5158797chnp22wm9000000gp/T/ipykernel_61094/4004665421.py:76: FutureWarning: Calling float on a single element Series is deprecated and will raise a TypeError in the future. Use float(ser.iloc[0]) instead\n",
      "  mu_ann = float(log_ret.mean()) * TRADING_DAYS\n",
      "/var/folders/mn/tx231v5158797chnp22wm9000000gp/T/ipykernel_61094/4004665421.py:77: FutureWarning: Calling float on a single element Series is deprecated and will raise a TypeError in the future. Use float(ser.iloc[0]) instead\n",
      "  sigma_ann = float(log_ret.std(ddof=1)) * math.sqrt(TRADING_DAYS)\n",
      "/var/folders/mn/tx231v5158797chnp22wm9000000gp/T/ipykernel_61094/4004665421.py:78: FutureWarning: Calling float on a single element Series is deprecated and will raise a TypeError in the future. Use float(ser.iloc[0]) instead\n",
      "  S0 = float(tail.iloc[-1])\n"
     ]
    },
    {
     "name": "stdout",
     "output_type": "stream",
     "text": [
      "  > ATGL.NS\n"
     ]
    },
    {
     "name": "stderr",
     "output_type": "stream",
     "text": [
      "/var/folders/mn/tx231v5158797chnp22wm9000000gp/T/ipykernel_61094/4004665421.py:76: FutureWarning: Calling float on a single element Series is deprecated and will raise a TypeError in the future. Use float(ser.iloc[0]) instead\n",
      "  mu_ann = float(log_ret.mean()) * TRADING_DAYS\n",
      "/var/folders/mn/tx231v5158797chnp22wm9000000gp/T/ipykernel_61094/4004665421.py:77: FutureWarning: Calling float on a single element Series is deprecated and will raise a TypeError in the future. Use float(ser.iloc[0]) instead\n",
      "  sigma_ann = float(log_ret.std(ddof=1)) * math.sqrt(TRADING_DAYS)\n",
      "/var/folders/mn/tx231v5158797chnp22wm9000000gp/T/ipykernel_61094/4004665421.py:78: FutureWarning: Calling float on a single element Series is deprecated and will raise a TypeError in the future. Use float(ser.iloc[0]) instead\n",
      "  S0 = float(tail.iloc[-1])\n"
     ]
    },
    {
     "name": "stdout",
     "output_type": "stream",
     "text": [
      "  > ABCAPITAL.NS\n"
     ]
    },
    {
     "name": "stderr",
     "output_type": "stream",
     "text": [
      "/var/folders/mn/tx231v5158797chnp22wm9000000gp/T/ipykernel_61094/4004665421.py:76: FutureWarning: Calling float on a single element Series is deprecated and will raise a TypeError in the future. Use float(ser.iloc[0]) instead\n",
      "  mu_ann = float(log_ret.mean()) * TRADING_DAYS\n",
      "/var/folders/mn/tx231v5158797chnp22wm9000000gp/T/ipykernel_61094/4004665421.py:77: FutureWarning: Calling float on a single element Series is deprecated and will raise a TypeError in the future. Use float(ser.iloc[0]) instead\n",
      "  sigma_ann = float(log_ret.std(ddof=1)) * math.sqrt(TRADING_DAYS)\n",
      "/var/folders/mn/tx231v5158797chnp22wm9000000gp/T/ipykernel_61094/4004665421.py:78: FutureWarning: Calling float on a single element Series is deprecated and will raise a TypeError in the future. Use float(ser.iloc[0]) instead\n",
      "  S0 = float(tail.iloc[-1])\n"
     ]
    },
    {
     "name": "stdout",
     "output_type": "stream",
     "text": [
      "  > ABFRL.NS\n"
     ]
    },
    {
     "name": "stderr",
     "output_type": "stream",
     "text": [
      "/var/folders/mn/tx231v5158797chnp22wm9000000gp/T/ipykernel_61094/4004665421.py:76: FutureWarning: Calling float on a single element Series is deprecated and will raise a TypeError in the future. Use float(ser.iloc[0]) instead\n",
      "  mu_ann = float(log_ret.mean()) * TRADING_DAYS\n",
      "/var/folders/mn/tx231v5158797chnp22wm9000000gp/T/ipykernel_61094/4004665421.py:77: FutureWarning: Calling float on a single element Series is deprecated and will raise a TypeError in the future. Use float(ser.iloc[0]) instead\n",
      "  sigma_ann = float(log_ret.std(ddof=1)) * math.sqrt(TRADING_DAYS)\n",
      "/var/folders/mn/tx231v5158797chnp22wm9000000gp/T/ipykernel_61094/4004665421.py:78: FutureWarning: Calling float on a single element Series is deprecated and will raise a TypeError in the future. Use float(ser.iloc[0]) instead\n",
      "  S0 = float(tail.iloc[-1])\n"
     ]
    },
    {
     "name": "stdout",
     "output_type": "stream",
     "text": [
      "  > ABREL.NS\n"
     ]
    },
    {
     "name": "stderr",
     "output_type": "stream",
     "text": [
      "/var/folders/mn/tx231v5158797chnp22wm9000000gp/T/ipykernel_61094/4004665421.py:76: FutureWarning: Calling float on a single element Series is deprecated and will raise a TypeError in the future. Use float(ser.iloc[0]) instead\n",
      "  mu_ann = float(log_ret.mean()) * TRADING_DAYS\n",
      "/var/folders/mn/tx231v5158797chnp22wm9000000gp/T/ipykernel_61094/4004665421.py:77: FutureWarning: Calling float on a single element Series is deprecated and will raise a TypeError in the future. Use float(ser.iloc[0]) instead\n",
      "  sigma_ann = float(log_ret.std(ddof=1)) * math.sqrt(TRADING_DAYS)\n",
      "/var/folders/mn/tx231v5158797chnp22wm9000000gp/T/ipykernel_61094/4004665421.py:78: FutureWarning: Calling float on a single element Series is deprecated and will raise a TypeError in the future. Use float(ser.iloc[0]) instead\n",
      "  S0 = float(tail.iloc[-1])\n"
     ]
    },
    {
     "name": "stdout",
     "output_type": "stream",
     "text": [
      "  > ABSLAMC.NS\n"
     ]
    },
    {
     "name": "stderr",
     "output_type": "stream",
     "text": [
      "/var/folders/mn/tx231v5158797chnp22wm9000000gp/T/ipykernel_61094/4004665421.py:76: FutureWarning: Calling float on a single element Series is deprecated and will raise a TypeError in the future. Use float(ser.iloc[0]) instead\n",
      "  mu_ann = float(log_ret.mean()) * TRADING_DAYS\n",
      "/var/folders/mn/tx231v5158797chnp22wm9000000gp/T/ipykernel_61094/4004665421.py:77: FutureWarning: Calling float on a single element Series is deprecated and will raise a TypeError in the future. Use float(ser.iloc[0]) instead\n",
      "  sigma_ann = float(log_ret.std(ddof=1)) * math.sqrt(TRADING_DAYS)\n",
      "/var/folders/mn/tx231v5158797chnp22wm9000000gp/T/ipykernel_61094/4004665421.py:78: FutureWarning: Calling float on a single element Series is deprecated and will raise a TypeError in the future. Use float(ser.iloc[0]) instead\n",
      "  S0 = float(tail.iloc[-1])\n"
     ]
    },
    {
     "name": "stdout",
     "output_type": "stream",
     "text": [
      "  > AEGISLOG.NS\n"
     ]
    },
    {
     "name": "stderr",
     "output_type": "stream",
     "text": [
      "/var/folders/mn/tx231v5158797chnp22wm9000000gp/T/ipykernel_61094/4004665421.py:76: FutureWarning: Calling float on a single element Series is deprecated and will raise a TypeError in the future. Use float(ser.iloc[0]) instead\n",
      "  mu_ann = float(log_ret.mean()) * TRADING_DAYS\n",
      "/var/folders/mn/tx231v5158797chnp22wm9000000gp/T/ipykernel_61094/4004665421.py:77: FutureWarning: Calling float on a single element Series is deprecated and will raise a TypeError in the future. Use float(ser.iloc[0]) instead\n",
      "  sigma_ann = float(log_ret.std(ddof=1)) * math.sqrt(TRADING_DAYS)\n",
      "/var/folders/mn/tx231v5158797chnp22wm9000000gp/T/ipykernel_61094/4004665421.py:78: FutureWarning: Calling float on a single element Series is deprecated and will raise a TypeError in the future. Use float(ser.iloc[0]) instead\n",
      "  S0 = float(tail.iloc[-1])\n"
     ]
    },
    {
     "name": "stdout",
     "output_type": "stream",
     "text": [
      "  > AFCONS.NS\n"
     ]
    },
    {
     "name": "stderr",
     "output_type": "stream",
     "text": [
      "/var/folders/mn/tx231v5158797chnp22wm9000000gp/T/ipykernel_61094/4004665421.py:76: FutureWarning: Calling float on a single element Series is deprecated and will raise a TypeError in the future. Use float(ser.iloc[0]) instead\n",
      "  mu_ann = float(log_ret.mean()) * TRADING_DAYS\n",
      "/var/folders/mn/tx231v5158797chnp22wm9000000gp/T/ipykernel_61094/4004665421.py:77: FutureWarning: Calling float on a single element Series is deprecated and will raise a TypeError in the future. Use float(ser.iloc[0]) instead\n",
      "  sigma_ann = float(log_ret.std(ddof=1)) * math.sqrt(TRADING_DAYS)\n",
      "/var/folders/mn/tx231v5158797chnp22wm9000000gp/T/ipykernel_61094/4004665421.py:78: FutureWarning: Calling float on a single element Series is deprecated and will raise a TypeError in the future. Use float(ser.iloc[0]) instead\n",
      "  S0 = float(tail.iloc[-1])\n"
     ]
    },
    {
     "name": "stdout",
     "output_type": "stream",
     "text": [
      "  > AFFLE.NS\n"
     ]
    },
    {
     "name": "stderr",
     "output_type": "stream",
     "text": [
      "/var/folders/mn/tx231v5158797chnp22wm9000000gp/T/ipykernel_61094/4004665421.py:76: FutureWarning: Calling float on a single element Series is deprecated and will raise a TypeError in the future. Use float(ser.iloc[0]) instead\n",
      "  mu_ann = float(log_ret.mean()) * TRADING_DAYS\n",
      "/var/folders/mn/tx231v5158797chnp22wm9000000gp/T/ipykernel_61094/4004665421.py:77: FutureWarning: Calling float on a single element Series is deprecated and will raise a TypeError in the future. Use float(ser.iloc[0]) instead\n",
      "  sigma_ann = float(log_ret.std(ddof=1)) * math.sqrt(TRADING_DAYS)\n",
      "/var/folders/mn/tx231v5158797chnp22wm9000000gp/T/ipykernel_61094/4004665421.py:78: FutureWarning: Calling float on a single element Series is deprecated and will raise a TypeError in the future. Use float(ser.iloc[0]) instead\n",
      "  S0 = float(tail.iloc[-1])\n"
     ]
    },
    {
     "name": "stdout",
     "output_type": "stream",
     "text": [
      "  > AJANTPHARM.NS\n"
     ]
    },
    {
     "name": "stderr",
     "output_type": "stream",
     "text": [
      "/var/folders/mn/tx231v5158797chnp22wm9000000gp/T/ipykernel_61094/4004665421.py:76: FutureWarning: Calling float on a single element Series is deprecated and will raise a TypeError in the future. Use float(ser.iloc[0]) instead\n",
      "  mu_ann = float(log_ret.mean()) * TRADING_DAYS\n",
      "/var/folders/mn/tx231v5158797chnp22wm9000000gp/T/ipykernel_61094/4004665421.py:77: FutureWarning: Calling float on a single element Series is deprecated and will raise a TypeError in the future. Use float(ser.iloc[0]) instead\n",
      "  sigma_ann = float(log_ret.std(ddof=1)) * math.sqrt(TRADING_DAYS)\n",
      "/var/folders/mn/tx231v5158797chnp22wm9000000gp/T/ipykernel_61094/4004665421.py:78: FutureWarning: Calling float on a single element Series is deprecated and will raise a TypeError in the future. Use float(ser.iloc[0]) instead\n",
      "  S0 = float(tail.iloc[-1])\n"
     ]
    },
    {
     "name": "stdout",
     "output_type": "stream",
     "text": [
      "  > AKUMS.NS\n"
     ]
    },
    {
     "name": "stderr",
     "output_type": "stream",
     "text": [
      "/var/folders/mn/tx231v5158797chnp22wm9000000gp/T/ipykernel_61094/4004665421.py:76: FutureWarning: Calling float on a single element Series is deprecated and will raise a TypeError in the future. Use float(ser.iloc[0]) instead\n",
      "  mu_ann = float(log_ret.mean()) * TRADING_DAYS\n",
      "/var/folders/mn/tx231v5158797chnp22wm9000000gp/T/ipykernel_61094/4004665421.py:77: FutureWarning: Calling float on a single element Series is deprecated and will raise a TypeError in the future. Use float(ser.iloc[0]) instead\n",
      "  sigma_ann = float(log_ret.std(ddof=1)) * math.sqrt(TRADING_DAYS)\n",
      "/var/folders/mn/tx231v5158797chnp22wm9000000gp/T/ipykernel_61094/4004665421.py:78: FutureWarning: Calling float on a single element Series is deprecated and will raise a TypeError in the future. Use float(ser.iloc[0]) instead\n",
      "  S0 = float(tail.iloc[-1])\n"
     ]
    },
    {
     "name": "stdout",
     "output_type": "stream",
     "text": [
      "  > APLLTD.NS\n"
     ]
    },
    {
     "name": "stderr",
     "output_type": "stream",
     "text": [
      "/var/folders/mn/tx231v5158797chnp22wm9000000gp/T/ipykernel_61094/4004665421.py:76: FutureWarning: Calling float on a single element Series is deprecated and will raise a TypeError in the future. Use float(ser.iloc[0]) instead\n",
      "  mu_ann = float(log_ret.mean()) * TRADING_DAYS\n",
      "/var/folders/mn/tx231v5158797chnp22wm9000000gp/T/ipykernel_61094/4004665421.py:77: FutureWarning: Calling float on a single element Series is deprecated and will raise a TypeError in the future. Use float(ser.iloc[0]) instead\n",
      "  sigma_ann = float(log_ret.std(ddof=1)) * math.sqrt(TRADING_DAYS)\n",
      "/var/folders/mn/tx231v5158797chnp22wm9000000gp/T/ipykernel_61094/4004665421.py:78: FutureWarning: Calling float on a single element Series is deprecated and will raise a TypeError in the future. Use float(ser.iloc[0]) instead\n",
      "  S0 = float(tail.iloc[-1])\n"
     ]
    },
    {
     "name": "stdout",
     "output_type": "stream",
     "text": [
      "  > ALIVUS.NS\n"
     ]
    },
    {
     "name": "stderr",
     "output_type": "stream",
     "text": [
      "/var/folders/mn/tx231v5158797chnp22wm9000000gp/T/ipykernel_61094/4004665421.py:76: FutureWarning: Calling float on a single element Series is deprecated and will raise a TypeError in the future. Use float(ser.iloc[0]) instead\n",
      "  mu_ann = float(log_ret.mean()) * TRADING_DAYS\n",
      "/var/folders/mn/tx231v5158797chnp22wm9000000gp/T/ipykernel_61094/4004665421.py:77: FutureWarning: Calling float on a single element Series is deprecated and will raise a TypeError in the future. Use float(ser.iloc[0]) instead\n",
      "  sigma_ann = float(log_ret.std(ddof=1)) * math.sqrt(TRADING_DAYS)\n",
      "/var/folders/mn/tx231v5158797chnp22wm9000000gp/T/ipykernel_61094/4004665421.py:78: FutureWarning: Calling float on a single element Series is deprecated and will raise a TypeError in the future. Use float(ser.iloc[0]) instead\n",
      "  S0 = float(tail.iloc[-1])\n"
     ]
    },
    {
     "name": "stdout",
     "output_type": "stream",
     "text": [
      "  > ALKEM.NS\n"
     ]
    },
    {
     "name": "stderr",
     "output_type": "stream",
     "text": [
      "/var/folders/mn/tx231v5158797chnp22wm9000000gp/T/ipykernel_61094/4004665421.py:76: FutureWarning: Calling float on a single element Series is deprecated and will raise a TypeError in the future. Use float(ser.iloc[0]) instead\n",
      "  mu_ann = float(log_ret.mean()) * TRADING_DAYS\n",
      "/var/folders/mn/tx231v5158797chnp22wm9000000gp/T/ipykernel_61094/4004665421.py:77: FutureWarning: Calling float on a single element Series is deprecated and will raise a TypeError in the future. Use float(ser.iloc[0]) instead\n",
      "  sigma_ann = float(log_ret.std(ddof=1)) * math.sqrt(TRADING_DAYS)\n",
      "/var/folders/mn/tx231v5158797chnp22wm9000000gp/T/ipykernel_61094/4004665421.py:78: FutureWarning: Calling float on a single element Series is deprecated and will raise a TypeError in the future. Use float(ser.iloc[0]) instead\n",
      "  S0 = float(tail.iloc[-1])\n"
     ]
    },
    {
     "name": "stdout",
     "output_type": "stream",
     "text": [
      "  > ALKYLAMINE.NS\n"
     ]
    },
    {
     "name": "stderr",
     "output_type": "stream",
     "text": [
      "/var/folders/mn/tx231v5158797chnp22wm9000000gp/T/ipykernel_61094/4004665421.py:76: FutureWarning: Calling float on a single element Series is deprecated and will raise a TypeError in the future. Use float(ser.iloc[0]) instead\n",
      "  mu_ann = float(log_ret.mean()) * TRADING_DAYS\n",
      "/var/folders/mn/tx231v5158797chnp22wm9000000gp/T/ipykernel_61094/4004665421.py:77: FutureWarning: Calling float on a single element Series is deprecated and will raise a TypeError in the future. Use float(ser.iloc[0]) instead\n",
      "  sigma_ann = float(log_ret.std(ddof=1)) * math.sqrt(TRADING_DAYS)\n",
      "/var/folders/mn/tx231v5158797chnp22wm9000000gp/T/ipykernel_61094/4004665421.py:78: FutureWarning: Calling float on a single element Series is deprecated and will raise a TypeError in the future. Use float(ser.iloc[0]) instead\n",
      "  S0 = float(tail.iloc[-1])\n"
     ]
    },
    {
     "name": "stdout",
     "output_type": "stream",
     "text": [
      "  > ALOKINDS.NS\n"
     ]
    },
    {
     "name": "stderr",
     "output_type": "stream",
     "text": [
      "/var/folders/mn/tx231v5158797chnp22wm9000000gp/T/ipykernel_61094/4004665421.py:76: FutureWarning: Calling float on a single element Series is deprecated and will raise a TypeError in the future. Use float(ser.iloc[0]) instead\n",
      "  mu_ann = float(log_ret.mean()) * TRADING_DAYS\n",
      "/var/folders/mn/tx231v5158797chnp22wm9000000gp/T/ipykernel_61094/4004665421.py:77: FutureWarning: Calling float on a single element Series is deprecated and will raise a TypeError in the future. Use float(ser.iloc[0]) instead\n",
      "  sigma_ann = float(log_ret.std(ddof=1)) * math.sqrt(TRADING_DAYS)\n",
      "/var/folders/mn/tx231v5158797chnp22wm9000000gp/T/ipykernel_61094/4004665421.py:78: FutureWarning: Calling float on a single element Series is deprecated and will raise a TypeError in the future. Use float(ser.iloc[0]) instead\n",
      "  S0 = float(tail.iloc[-1])\n"
     ]
    },
    {
     "name": "stdout",
     "output_type": "stream",
     "text": [
      "  > ARE&M.NS\n"
     ]
    },
    {
     "name": "stderr",
     "output_type": "stream",
     "text": [
      "/var/folders/mn/tx231v5158797chnp22wm9000000gp/T/ipykernel_61094/4004665421.py:76: FutureWarning: Calling float on a single element Series is deprecated and will raise a TypeError in the future. Use float(ser.iloc[0]) instead\n",
      "  mu_ann = float(log_ret.mean()) * TRADING_DAYS\n",
      "/var/folders/mn/tx231v5158797chnp22wm9000000gp/T/ipykernel_61094/4004665421.py:77: FutureWarning: Calling float on a single element Series is deprecated and will raise a TypeError in the future. Use float(ser.iloc[0]) instead\n",
      "  sigma_ann = float(log_ret.std(ddof=1)) * math.sqrt(TRADING_DAYS)\n",
      "/var/folders/mn/tx231v5158797chnp22wm9000000gp/T/ipykernel_61094/4004665421.py:78: FutureWarning: Calling float on a single element Series is deprecated and will raise a TypeError in the future. Use float(ser.iloc[0]) instead\n",
      "  S0 = float(tail.iloc[-1])\n"
     ]
    },
    {
     "name": "stdout",
     "output_type": "stream",
     "text": [
      "  > AMBER.NS\n"
     ]
    },
    {
     "name": "stderr",
     "output_type": "stream",
     "text": [
      "/var/folders/mn/tx231v5158797chnp22wm9000000gp/T/ipykernel_61094/4004665421.py:76: FutureWarning: Calling float on a single element Series is deprecated and will raise a TypeError in the future. Use float(ser.iloc[0]) instead\n",
      "  mu_ann = float(log_ret.mean()) * TRADING_DAYS\n",
      "/var/folders/mn/tx231v5158797chnp22wm9000000gp/T/ipykernel_61094/4004665421.py:77: FutureWarning: Calling float on a single element Series is deprecated and will raise a TypeError in the future. Use float(ser.iloc[0]) instead\n",
      "  sigma_ann = float(log_ret.std(ddof=1)) * math.sqrt(TRADING_DAYS)\n",
      "/var/folders/mn/tx231v5158797chnp22wm9000000gp/T/ipykernel_61094/4004665421.py:78: FutureWarning: Calling float on a single element Series is deprecated and will raise a TypeError in the future. Use float(ser.iloc[0]) instead\n",
      "  S0 = float(tail.iloc[-1])\n"
     ]
    },
    {
     "name": "stdout",
     "output_type": "stream",
     "text": [
      "  > AMBUJACEM.NS\n"
     ]
    },
    {
     "name": "stderr",
     "output_type": "stream",
     "text": [
      "/var/folders/mn/tx231v5158797chnp22wm9000000gp/T/ipykernel_61094/4004665421.py:76: FutureWarning: Calling float on a single element Series is deprecated and will raise a TypeError in the future. Use float(ser.iloc[0]) instead\n",
      "  mu_ann = float(log_ret.mean()) * TRADING_DAYS\n",
      "/var/folders/mn/tx231v5158797chnp22wm9000000gp/T/ipykernel_61094/4004665421.py:77: FutureWarning: Calling float on a single element Series is deprecated and will raise a TypeError in the future. Use float(ser.iloc[0]) instead\n",
      "  sigma_ann = float(log_ret.std(ddof=1)) * math.sqrt(TRADING_DAYS)\n",
      "/var/folders/mn/tx231v5158797chnp22wm9000000gp/T/ipykernel_61094/4004665421.py:78: FutureWarning: Calling float on a single element Series is deprecated and will raise a TypeError in the future. Use float(ser.iloc[0]) instead\n",
      "  S0 = float(tail.iloc[-1])\n"
     ]
    },
    {
     "name": "stdout",
     "output_type": "stream",
     "text": [
      "  > ANANDRATHI.NS\n"
     ]
    },
    {
     "name": "stderr",
     "output_type": "stream",
     "text": [
      "/var/folders/mn/tx231v5158797chnp22wm9000000gp/T/ipykernel_61094/4004665421.py:76: FutureWarning: Calling float on a single element Series is deprecated and will raise a TypeError in the future. Use float(ser.iloc[0]) instead\n",
      "  mu_ann = float(log_ret.mean()) * TRADING_DAYS\n",
      "/var/folders/mn/tx231v5158797chnp22wm9000000gp/T/ipykernel_61094/4004665421.py:77: FutureWarning: Calling float on a single element Series is deprecated and will raise a TypeError in the future. Use float(ser.iloc[0]) instead\n",
      "  sigma_ann = float(log_ret.std(ddof=1)) * math.sqrt(TRADING_DAYS)\n",
      "/var/folders/mn/tx231v5158797chnp22wm9000000gp/T/ipykernel_61094/4004665421.py:78: FutureWarning: Calling float on a single element Series is deprecated and will raise a TypeError in the future. Use float(ser.iloc[0]) instead\n",
      "  S0 = float(tail.iloc[-1])\n"
     ]
    },
    {
     "name": "stdout",
     "output_type": "stream",
     "text": [
      "  > ANANTRAJ.NS\n"
     ]
    },
    {
     "name": "stderr",
     "output_type": "stream",
     "text": [
      "/var/folders/mn/tx231v5158797chnp22wm9000000gp/T/ipykernel_61094/4004665421.py:76: FutureWarning: Calling float on a single element Series is deprecated and will raise a TypeError in the future. Use float(ser.iloc[0]) instead\n",
      "  mu_ann = float(log_ret.mean()) * TRADING_DAYS\n",
      "/var/folders/mn/tx231v5158797chnp22wm9000000gp/T/ipykernel_61094/4004665421.py:77: FutureWarning: Calling float on a single element Series is deprecated and will raise a TypeError in the future. Use float(ser.iloc[0]) instead\n",
      "  sigma_ann = float(log_ret.std(ddof=1)) * math.sqrt(TRADING_DAYS)\n",
      "/var/folders/mn/tx231v5158797chnp22wm9000000gp/T/ipykernel_61094/4004665421.py:78: FutureWarning: Calling float on a single element Series is deprecated and will raise a TypeError in the future. Use float(ser.iloc[0]) instead\n",
      "  S0 = float(tail.iloc[-1])\n"
     ]
    },
    {
     "name": "stdout",
     "output_type": "stream",
     "text": [
      "  > ANGELONE.NS\n"
     ]
    },
    {
     "name": "stderr",
     "output_type": "stream",
     "text": [
      "/var/folders/mn/tx231v5158797chnp22wm9000000gp/T/ipykernel_61094/4004665421.py:76: FutureWarning: Calling float on a single element Series is deprecated and will raise a TypeError in the future. Use float(ser.iloc[0]) instead\n",
      "  mu_ann = float(log_ret.mean()) * TRADING_DAYS\n",
      "/var/folders/mn/tx231v5158797chnp22wm9000000gp/T/ipykernel_61094/4004665421.py:77: FutureWarning: Calling float on a single element Series is deprecated and will raise a TypeError in the future. Use float(ser.iloc[0]) instead\n",
      "  sigma_ann = float(log_ret.std(ddof=1)) * math.sqrt(TRADING_DAYS)\n",
      "/var/folders/mn/tx231v5158797chnp22wm9000000gp/T/ipykernel_61094/4004665421.py:78: FutureWarning: Calling float on a single element Series is deprecated and will raise a TypeError in the future. Use float(ser.iloc[0]) instead\n",
      "  S0 = float(tail.iloc[-1])\n"
     ]
    },
    {
     "name": "stdout",
     "output_type": "stream",
     "text": [
      "  > APARINDS.NS\n"
     ]
    },
    {
     "name": "stderr",
     "output_type": "stream",
     "text": [
      "/var/folders/mn/tx231v5158797chnp22wm9000000gp/T/ipykernel_61094/4004665421.py:76: FutureWarning: Calling float on a single element Series is deprecated and will raise a TypeError in the future. Use float(ser.iloc[0]) instead\n",
      "  mu_ann = float(log_ret.mean()) * TRADING_DAYS\n",
      "/var/folders/mn/tx231v5158797chnp22wm9000000gp/T/ipykernel_61094/4004665421.py:77: FutureWarning: Calling float on a single element Series is deprecated and will raise a TypeError in the future. Use float(ser.iloc[0]) instead\n",
      "  sigma_ann = float(log_ret.std(ddof=1)) * math.sqrt(TRADING_DAYS)\n",
      "/var/folders/mn/tx231v5158797chnp22wm9000000gp/T/ipykernel_61094/4004665421.py:78: FutureWarning: Calling float on a single element Series is deprecated and will raise a TypeError in the future. Use float(ser.iloc[0]) instead\n",
      "  S0 = float(tail.iloc[-1])\n"
     ]
    },
    {
     "name": "stdout",
     "output_type": "stream",
     "text": [
      "  > APOLLOHOSP.NS\n"
     ]
    },
    {
     "name": "stderr",
     "output_type": "stream",
     "text": [
      "/var/folders/mn/tx231v5158797chnp22wm9000000gp/T/ipykernel_61094/4004665421.py:76: FutureWarning: Calling float on a single element Series is deprecated and will raise a TypeError in the future. Use float(ser.iloc[0]) instead\n",
      "  mu_ann = float(log_ret.mean()) * TRADING_DAYS\n",
      "/var/folders/mn/tx231v5158797chnp22wm9000000gp/T/ipykernel_61094/4004665421.py:77: FutureWarning: Calling float on a single element Series is deprecated and will raise a TypeError in the future. Use float(ser.iloc[0]) instead\n",
      "  sigma_ann = float(log_ret.std(ddof=1)) * math.sqrt(TRADING_DAYS)\n",
      "/var/folders/mn/tx231v5158797chnp22wm9000000gp/T/ipykernel_61094/4004665421.py:78: FutureWarning: Calling float on a single element Series is deprecated and will raise a TypeError in the future. Use float(ser.iloc[0]) instead\n",
      "  S0 = float(tail.iloc[-1])\n"
     ]
    },
    {
     "name": "stdout",
     "output_type": "stream",
     "text": [
      "  > APOLLOTYRE.NS\n"
     ]
    },
    {
     "name": "stderr",
     "output_type": "stream",
     "text": [
      "/var/folders/mn/tx231v5158797chnp22wm9000000gp/T/ipykernel_61094/4004665421.py:76: FutureWarning: Calling float on a single element Series is deprecated and will raise a TypeError in the future. Use float(ser.iloc[0]) instead\n",
      "  mu_ann = float(log_ret.mean()) * TRADING_DAYS\n",
      "/var/folders/mn/tx231v5158797chnp22wm9000000gp/T/ipykernel_61094/4004665421.py:77: FutureWarning: Calling float on a single element Series is deprecated and will raise a TypeError in the future. Use float(ser.iloc[0]) instead\n",
      "  sigma_ann = float(log_ret.std(ddof=1)) * math.sqrt(TRADING_DAYS)\n",
      "/var/folders/mn/tx231v5158797chnp22wm9000000gp/T/ipykernel_61094/4004665421.py:78: FutureWarning: Calling float on a single element Series is deprecated and will raise a TypeError in the future. Use float(ser.iloc[0]) instead\n",
      "  S0 = float(tail.iloc[-1])\n"
     ]
    },
    {
     "name": "stdout",
     "output_type": "stream",
     "text": [
      "  > APTUS.NS\n"
     ]
    },
    {
     "name": "stderr",
     "output_type": "stream",
     "text": [
      "/var/folders/mn/tx231v5158797chnp22wm9000000gp/T/ipykernel_61094/4004665421.py:76: FutureWarning: Calling float on a single element Series is deprecated and will raise a TypeError in the future. Use float(ser.iloc[0]) instead\n",
      "  mu_ann = float(log_ret.mean()) * TRADING_DAYS\n",
      "/var/folders/mn/tx231v5158797chnp22wm9000000gp/T/ipykernel_61094/4004665421.py:77: FutureWarning: Calling float on a single element Series is deprecated and will raise a TypeError in the future. Use float(ser.iloc[0]) instead\n",
      "  sigma_ann = float(log_ret.std(ddof=1)) * math.sqrt(TRADING_DAYS)\n",
      "/var/folders/mn/tx231v5158797chnp22wm9000000gp/T/ipykernel_61094/4004665421.py:78: FutureWarning: Calling float on a single element Series is deprecated and will raise a TypeError in the future. Use float(ser.iloc[0]) instead\n",
      "  S0 = float(tail.iloc[-1])\n"
     ]
    },
    {
     "name": "stdout",
     "output_type": "stream",
     "text": [
      "  > ASAHIINDIA.NS\n"
     ]
    },
    {
     "name": "stderr",
     "output_type": "stream",
     "text": [
      "/var/folders/mn/tx231v5158797chnp22wm9000000gp/T/ipykernel_61094/4004665421.py:76: FutureWarning: Calling float on a single element Series is deprecated and will raise a TypeError in the future. Use float(ser.iloc[0]) instead\n",
      "  mu_ann = float(log_ret.mean()) * TRADING_DAYS\n",
      "/var/folders/mn/tx231v5158797chnp22wm9000000gp/T/ipykernel_61094/4004665421.py:77: FutureWarning: Calling float on a single element Series is deprecated and will raise a TypeError in the future. Use float(ser.iloc[0]) instead\n",
      "  sigma_ann = float(log_ret.std(ddof=1)) * math.sqrt(TRADING_DAYS)\n",
      "/var/folders/mn/tx231v5158797chnp22wm9000000gp/T/ipykernel_61094/4004665421.py:78: FutureWarning: Calling float on a single element Series is deprecated and will raise a TypeError in the future. Use float(ser.iloc[0]) instead\n",
      "  S0 = float(tail.iloc[-1])\n"
     ]
    },
    {
     "name": "stdout",
     "output_type": "stream",
     "text": [
      "  > ASHOKLEY.NS\n"
     ]
    },
    {
     "name": "stderr",
     "output_type": "stream",
     "text": [
      "/var/folders/mn/tx231v5158797chnp22wm9000000gp/T/ipykernel_61094/4004665421.py:76: FutureWarning: Calling float on a single element Series is deprecated and will raise a TypeError in the future. Use float(ser.iloc[0]) instead\n",
      "  mu_ann = float(log_ret.mean()) * TRADING_DAYS\n",
      "/var/folders/mn/tx231v5158797chnp22wm9000000gp/T/ipykernel_61094/4004665421.py:77: FutureWarning: Calling float on a single element Series is deprecated and will raise a TypeError in the future. Use float(ser.iloc[0]) instead\n",
      "  sigma_ann = float(log_ret.std(ddof=1)) * math.sqrt(TRADING_DAYS)\n",
      "/var/folders/mn/tx231v5158797chnp22wm9000000gp/T/ipykernel_61094/4004665421.py:78: FutureWarning: Calling float on a single element Series is deprecated and will raise a TypeError in the future. Use float(ser.iloc[0]) instead\n",
      "  S0 = float(tail.iloc[-1])\n"
     ]
    },
    {
     "name": "stdout",
     "output_type": "stream",
     "text": [
      "  > ASIANPAINT.NS\n"
     ]
    },
    {
     "name": "stderr",
     "output_type": "stream",
     "text": [
      "/var/folders/mn/tx231v5158797chnp22wm9000000gp/T/ipykernel_61094/4004665421.py:76: FutureWarning: Calling float on a single element Series is deprecated and will raise a TypeError in the future. Use float(ser.iloc[0]) instead\n",
      "  mu_ann = float(log_ret.mean()) * TRADING_DAYS\n",
      "/var/folders/mn/tx231v5158797chnp22wm9000000gp/T/ipykernel_61094/4004665421.py:77: FutureWarning: Calling float on a single element Series is deprecated and will raise a TypeError in the future. Use float(ser.iloc[0]) instead\n",
      "  sigma_ann = float(log_ret.std(ddof=1)) * math.sqrt(TRADING_DAYS)\n",
      "/var/folders/mn/tx231v5158797chnp22wm9000000gp/T/ipykernel_61094/4004665421.py:78: FutureWarning: Calling float on a single element Series is deprecated and will raise a TypeError in the future. Use float(ser.iloc[0]) instead\n",
      "  S0 = float(tail.iloc[-1])\n"
     ]
    },
    {
     "name": "stdout",
     "output_type": "stream",
     "text": [
      "  > ASTERDM.NS\n"
     ]
    },
    {
     "name": "stderr",
     "output_type": "stream",
     "text": [
      "/var/folders/mn/tx231v5158797chnp22wm9000000gp/T/ipykernel_61094/4004665421.py:76: FutureWarning: Calling float on a single element Series is deprecated and will raise a TypeError in the future. Use float(ser.iloc[0]) instead\n",
      "  mu_ann = float(log_ret.mean()) * TRADING_DAYS\n",
      "/var/folders/mn/tx231v5158797chnp22wm9000000gp/T/ipykernel_61094/4004665421.py:77: FutureWarning: Calling float on a single element Series is deprecated and will raise a TypeError in the future. Use float(ser.iloc[0]) instead\n",
      "  sigma_ann = float(log_ret.std(ddof=1)) * math.sqrt(TRADING_DAYS)\n",
      "/var/folders/mn/tx231v5158797chnp22wm9000000gp/T/ipykernel_61094/4004665421.py:78: FutureWarning: Calling float on a single element Series is deprecated and will raise a TypeError in the future. Use float(ser.iloc[0]) instead\n",
      "  S0 = float(tail.iloc[-1])\n"
     ]
    },
    {
     "name": "stdout",
     "output_type": "stream",
     "text": [
      "  > ASTRAZEN.NS\n"
     ]
    },
    {
     "name": "stderr",
     "output_type": "stream",
     "text": [
      "/var/folders/mn/tx231v5158797chnp22wm9000000gp/T/ipykernel_61094/4004665421.py:76: FutureWarning: Calling float on a single element Series is deprecated and will raise a TypeError in the future. Use float(ser.iloc[0]) instead\n",
      "  mu_ann = float(log_ret.mean()) * TRADING_DAYS\n",
      "/var/folders/mn/tx231v5158797chnp22wm9000000gp/T/ipykernel_61094/4004665421.py:77: FutureWarning: Calling float on a single element Series is deprecated and will raise a TypeError in the future. Use float(ser.iloc[0]) instead\n",
      "  sigma_ann = float(log_ret.std(ddof=1)) * math.sqrt(TRADING_DAYS)\n",
      "/var/folders/mn/tx231v5158797chnp22wm9000000gp/T/ipykernel_61094/4004665421.py:78: FutureWarning: Calling float on a single element Series is deprecated and will raise a TypeError in the future. Use float(ser.iloc[0]) instead\n",
      "  S0 = float(tail.iloc[-1])\n"
     ]
    },
    {
     "name": "stdout",
     "output_type": "stream",
     "text": [
      "  > ASTRAL.NS\n"
     ]
    },
    {
     "name": "stderr",
     "output_type": "stream",
     "text": [
      "/var/folders/mn/tx231v5158797chnp22wm9000000gp/T/ipykernel_61094/4004665421.py:76: FutureWarning: Calling float on a single element Series is deprecated and will raise a TypeError in the future. Use float(ser.iloc[0]) instead\n",
      "  mu_ann = float(log_ret.mean()) * TRADING_DAYS\n",
      "/var/folders/mn/tx231v5158797chnp22wm9000000gp/T/ipykernel_61094/4004665421.py:77: FutureWarning: Calling float on a single element Series is deprecated and will raise a TypeError in the future. Use float(ser.iloc[0]) instead\n",
      "  sigma_ann = float(log_ret.std(ddof=1)) * math.sqrt(TRADING_DAYS)\n",
      "/var/folders/mn/tx231v5158797chnp22wm9000000gp/T/ipykernel_61094/4004665421.py:78: FutureWarning: Calling float on a single element Series is deprecated and will raise a TypeError in the future. Use float(ser.iloc[0]) instead\n",
      "  S0 = float(tail.iloc[-1])\n"
     ]
    },
    {
     "name": "stdout",
     "output_type": "stream",
     "text": [
      "  > ATUL.NS\n"
     ]
    },
    {
     "name": "stderr",
     "output_type": "stream",
     "text": [
      "/var/folders/mn/tx231v5158797chnp22wm9000000gp/T/ipykernel_61094/4004665421.py:76: FutureWarning: Calling float on a single element Series is deprecated and will raise a TypeError in the future. Use float(ser.iloc[0]) instead\n",
      "  mu_ann = float(log_ret.mean()) * TRADING_DAYS\n",
      "/var/folders/mn/tx231v5158797chnp22wm9000000gp/T/ipykernel_61094/4004665421.py:77: FutureWarning: Calling float on a single element Series is deprecated and will raise a TypeError in the future. Use float(ser.iloc[0]) instead\n",
      "  sigma_ann = float(log_ret.std(ddof=1)) * math.sqrt(TRADING_DAYS)\n",
      "/var/folders/mn/tx231v5158797chnp22wm9000000gp/T/ipykernel_61094/4004665421.py:78: FutureWarning: Calling float on a single element Series is deprecated and will raise a TypeError in the future. Use float(ser.iloc[0]) instead\n",
      "  S0 = float(tail.iloc[-1])\n"
     ]
    },
    {
     "name": "stdout",
     "output_type": "stream",
     "text": [
      "  > AUROPHARMA.NS\n"
     ]
    },
    {
     "name": "stderr",
     "output_type": "stream",
     "text": [
      "/var/folders/mn/tx231v5158797chnp22wm9000000gp/T/ipykernel_61094/4004665421.py:76: FutureWarning: Calling float on a single element Series is deprecated and will raise a TypeError in the future. Use float(ser.iloc[0]) instead\n",
      "  mu_ann = float(log_ret.mean()) * TRADING_DAYS\n",
      "/var/folders/mn/tx231v5158797chnp22wm9000000gp/T/ipykernel_61094/4004665421.py:77: FutureWarning: Calling float on a single element Series is deprecated and will raise a TypeError in the future. Use float(ser.iloc[0]) instead\n",
      "  sigma_ann = float(log_ret.std(ddof=1)) * math.sqrt(TRADING_DAYS)\n",
      "/var/folders/mn/tx231v5158797chnp22wm9000000gp/T/ipykernel_61094/4004665421.py:78: FutureWarning: Calling float on a single element Series is deprecated and will raise a TypeError in the future. Use float(ser.iloc[0]) instead\n",
      "  S0 = float(tail.iloc[-1])\n"
     ]
    },
    {
     "name": "stdout",
     "output_type": "stream",
     "text": [
      "  > AIIL.NS\n"
     ]
    },
    {
     "name": "stderr",
     "output_type": "stream",
     "text": [
      "/var/folders/mn/tx231v5158797chnp22wm9000000gp/T/ipykernel_61094/4004665421.py:76: FutureWarning: Calling float on a single element Series is deprecated and will raise a TypeError in the future. Use float(ser.iloc[0]) instead\n",
      "  mu_ann = float(log_ret.mean()) * TRADING_DAYS\n",
      "/var/folders/mn/tx231v5158797chnp22wm9000000gp/T/ipykernel_61094/4004665421.py:77: FutureWarning: Calling float on a single element Series is deprecated and will raise a TypeError in the future. Use float(ser.iloc[0]) instead\n",
      "  sigma_ann = float(log_ret.std(ddof=1)) * math.sqrt(TRADING_DAYS)\n",
      "/var/folders/mn/tx231v5158797chnp22wm9000000gp/T/ipykernel_61094/4004665421.py:78: FutureWarning: Calling float on a single element Series is deprecated and will raise a TypeError in the future. Use float(ser.iloc[0]) instead\n",
      "  S0 = float(tail.iloc[-1])\n"
     ]
    },
    {
     "name": "stdout",
     "output_type": "stream",
     "text": [
      "  > DMART.NS\n"
     ]
    },
    {
     "name": "stderr",
     "output_type": "stream",
     "text": [
      "/var/folders/mn/tx231v5158797chnp22wm9000000gp/T/ipykernel_61094/4004665421.py:76: FutureWarning: Calling float on a single element Series is deprecated and will raise a TypeError in the future. Use float(ser.iloc[0]) instead\n",
      "  mu_ann = float(log_ret.mean()) * TRADING_DAYS\n",
      "/var/folders/mn/tx231v5158797chnp22wm9000000gp/T/ipykernel_61094/4004665421.py:77: FutureWarning: Calling float on a single element Series is deprecated and will raise a TypeError in the future. Use float(ser.iloc[0]) instead\n",
      "  sigma_ann = float(log_ret.std(ddof=1)) * math.sqrt(TRADING_DAYS)\n",
      "/var/folders/mn/tx231v5158797chnp22wm9000000gp/T/ipykernel_61094/4004665421.py:78: FutureWarning: Calling float on a single element Series is deprecated and will raise a TypeError in the future. Use float(ser.iloc[0]) instead\n",
      "  S0 = float(tail.iloc[-1])\n"
     ]
    },
    {
     "name": "stdout",
     "output_type": "stream",
     "text": [
      "  > AXISBANK.NS\n"
     ]
    },
    {
     "name": "stderr",
     "output_type": "stream",
     "text": [
      "/var/folders/mn/tx231v5158797chnp22wm9000000gp/T/ipykernel_61094/4004665421.py:76: FutureWarning: Calling float on a single element Series is deprecated and will raise a TypeError in the future. Use float(ser.iloc[0]) instead\n",
      "  mu_ann = float(log_ret.mean()) * TRADING_DAYS\n",
      "/var/folders/mn/tx231v5158797chnp22wm9000000gp/T/ipykernel_61094/4004665421.py:77: FutureWarning: Calling float on a single element Series is deprecated and will raise a TypeError in the future. Use float(ser.iloc[0]) instead\n",
      "  sigma_ann = float(log_ret.std(ddof=1)) * math.sqrt(TRADING_DAYS)\n",
      "/var/folders/mn/tx231v5158797chnp22wm9000000gp/T/ipykernel_61094/4004665421.py:78: FutureWarning: Calling float on a single element Series is deprecated and will raise a TypeError in the future. Use float(ser.iloc[0]) instead\n",
      "  S0 = float(tail.iloc[-1])\n"
     ]
    },
    {
     "name": "stdout",
     "output_type": "stream",
     "text": [
      "  > BASF.NS\n"
     ]
    },
    {
     "name": "stderr",
     "output_type": "stream",
     "text": [
      "/var/folders/mn/tx231v5158797chnp22wm9000000gp/T/ipykernel_61094/4004665421.py:76: FutureWarning: Calling float on a single element Series is deprecated and will raise a TypeError in the future. Use float(ser.iloc[0]) instead\n",
      "  mu_ann = float(log_ret.mean()) * TRADING_DAYS\n",
      "/var/folders/mn/tx231v5158797chnp22wm9000000gp/T/ipykernel_61094/4004665421.py:77: FutureWarning: Calling float on a single element Series is deprecated and will raise a TypeError in the future. Use float(ser.iloc[0]) instead\n",
      "  sigma_ann = float(log_ret.std(ddof=1)) * math.sqrt(TRADING_DAYS)\n",
      "/var/folders/mn/tx231v5158797chnp22wm9000000gp/T/ipykernel_61094/4004665421.py:78: FutureWarning: Calling float on a single element Series is deprecated and will raise a TypeError in the future. Use float(ser.iloc[0]) instead\n",
      "  S0 = float(tail.iloc[-1])\n"
     ]
    },
    {
     "name": "stdout",
     "output_type": "stream",
     "text": [
      "  > BEML.NS\n"
     ]
    },
    {
     "name": "stderr",
     "output_type": "stream",
     "text": [
      "/var/folders/mn/tx231v5158797chnp22wm9000000gp/T/ipykernel_61094/4004665421.py:76: FutureWarning: Calling float on a single element Series is deprecated and will raise a TypeError in the future. Use float(ser.iloc[0]) instead\n",
      "  mu_ann = float(log_ret.mean()) * TRADING_DAYS\n",
      "/var/folders/mn/tx231v5158797chnp22wm9000000gp/T/ipykernel_61094/4004665421.py:77: FutureWarning: Calling float on a single element Series is deprecated and will raise a TypeError in the future. Use float(ser.iloc[0]) instead\n",
      "  sigma_ann = float(log_ret.std(ddof=1)) * math.sqrt(TRADING_DAYS)\n",
      "/var/folders/mn/tx231v5158797chnp22wm9000000gp/T/ipykernel_61094/4004665421.py:78: FutureWarning: Calling float on a single element Series is deprecated and will raise a TypeError in the future. Use float(ser.iloc[0]) instead\n",
      "  S0 = float(tail.iloc[-1])\n"
     ]
    },
    {
     "name": "stdout",
     "output_type": "stream",
     "text": [
      "  > BLS.NS\n"
     ]
    },
    {
     "name": "stderr",
     "output_type": "stream",
     "text": [
      "/var/folders/mn/tx231v5158797chnp22wm9000000gp/T/ipykernel_61094/4004665421.py:76: FutureWarning: Calling float on a single element Series is deprecated and will raise a TypeError in the future. Use float(ser.iloc[0]) instead\n",
      "  mu_ann = float(log_ret.mean()) * TRADING_DAYS\n",
      "/var/folders/mn/tx231v5158797chnp22wm9000000gp/T/ipykernel_61094/4004665421.py:77: FutureWarning: Calling float on a single element Series is deprecated and will raise a TypeError in the future. Use float(ser.iloc[0]) instead\n",
      "  sigma_ann = float(log_ret.std(ddof=1)) * math.sqrt(TRADING_DAYS)\n",
      "/var/folders/mn/tx231v5158797chnp22wm9000000gp/T/ipykernel_61094/4004665421.py:78: FutureWarning: Calling float on a single element Series is deprecated and will raise a TypeError in the future. Use float(ser.iloc[0]) instead\n",
      "  S0 = float(tail.iloc[-1])\n"
     ]
    },
    {
     "name": "stdout",
     "output_type": "stream",
     "text": [
      "  > BSE.NS\n"
     ]
    },
    {
     "name": "stderr",
     "output_type": "stream",
     "text": [
      "/var/folders/mn/tx231v5158797chnp22wm9000000gp/T/ipykernel_61094/4004665421.py:76: FutureWarning: Calling float on a single element Series is deprecated and will raise a TypeError in the future. Use float(ser.iloc[0]) instead\n",
      "  mu_ann = float(log_ret.mean()) * TRADING_DAYS\n",
      "/var/folders/mn/tx231v5158797chnp22wm9000000gp/T/ipykernel_61094/4004665421.py:77: FutureWarning: Calling float on a single element Series is deprecated and will raise a TypeError in the future. Use float(ser.iloc[0]) instead\n",
      "  sigma_ann = float(log_ret.std(ddof=1)) * math.sqrt(TRADING_DAYS)\n",
      "/var/folders/mn/tx231v5158797chnp22wm9000000gp/T/ipykernel_61094/4004665421.py:78: FutureWarning: Calling float on a single element Series is deprecated and will raise a TypeError in the future. Use float(ser.iloc[0]) instead\n",
      "  S0 = float(tail.iloc[-1])\n"
     ]
    },
    {
     "name": "stdout",
     "output_type": "stream",
     "text": [
      "  > BAJAJ-AUTO.NS\n"
     ]
    },
    {
     "name": "stderr",
     "output_type": "stream",
     "text": [
      "/var/folders/mn/tx231v5158797chnp22wm9000000gp/T/ipykernel_61094/4004665421.py:76: FutureWarning: Calling float on a single element Series is deprecated and will raise a TypeError in the future. Use float(ser.iloc[0]) instead\n",
      "  mu_ann = float(log_ret.mean()) * TRADING_DAYS\n",
      "/var/folders/mn/tx231v5158797chnp22wm9000000gp/T/ipykernel_61094/4004665421.py:77: FutureWarning: Calling float on a single element Series is deprecated and will raise a TypeError in the future. Use float(ser.iloc[0]) instead\n",
      "  sigma_ann = float(log_ret.std(ddof=1)) * math.sqrt(TRADING_DAYS)\n",
      "/var/folders/mn/tx231v5158797chnp22wm9000000gp/T/ipykernel_61094/4004665421.py:78: FutureWarning: Calling float on a single element Series is deprecated and will raise a TypeError in the future. Use float(ser.iloc[0]) instead\n",
      "  S0 = float(tail.iloc[-1])\n"
     ]
    },
    {
     "name": "stdout",
     "output_type": "stream",
     "text": [
      "  > BAJFINANCE.NS\n"
     ]
    },
    {
     "name": "stderr",
     "output_type": "stream",
     "text": [
      "/var/folders/mn/tx231v5158797chnp22wm9000000gp/T/ipykernel_61094/4004665421.py:76: FutureWarning: Calling float on a single element Series is deprecated and will raise a TypeError in the future. Use float(ser.iloc[0]) instead\n",
      "  mu_ann = float(log_ret.mean()) * TRADING_DAYS\n",
      "/var/folders/mn/tx231v5158797chnp22wm9000000gp/T/ipykernel_61094/4004665421.py:77: FutureWarning: Calling float on a single element Series is deprecated and will raise a TypeError in the future. Use float(ser.iloc[0]) instead\n",
      "  sigma_ann = float(log_ret.std(ddof=1)) * math.sqrt(TRADING_DAYS)\n",
      "/var/folders/mn/tx231v5158797chnp22wm9000000gp/T/ipykernel_61094/4004665421.py:78: FutureWarning: Calling float on a single element Series is deprecated and will raise a TypeError in the future. Use float(ser.iloc[0]) instead\n",
      "  S0 = float(tail.iloc[-1])\n"
     ]
    },
    {
     "name": "stdout",
     "output_type": "stream",
     "text": [
      "  > BAJAJFINSV.NS\n"
     ]
    },
    {
     "name": "stderr",
     "output_type": "stream",
     "text": [
      "/var/folders/mn/tx231v5158797chnp22wm9000000gp/T/ipykernel_61094/4004665421.py:76: FutureWarning: Calling float on a single element Series is deprecated and will raise a TypeError in the future. Use float(ser.iloc[0]) instead\n",
      "  mu_ann = float(log_ret.mean()) * TRADING_DAYS\n",
      "/var/folders/mn/tx231v5158797chnp22wm9000000gp/T/ipykernel_61094/4004665421.py:77: FutureWarning: Calling float on a single element Series is deprecated and will raise a TypeError in the future. Use float(ser.iloc[0]) instead\n",
      "  sigma_ann = float(log_ret.std(ddof=1)) * math.sqrt(TRADING_DAYS)\n",
      "/var/folders/mn/tx231v5158797chnp22wm9000000gp/T/ipykernel_61094/4004665421.py:78: FutureWarning: Calling float on a single element Series is deprecated and will raise a TypeError in the future. Use float(ser.iloc[0]) instead\n",
      "  S0 = float(tail.iloc[-1])\n"
     ]
    },
    {
     "name": "stdout",
     "output_type": "stream",
     "text": [
      "  > BAJAJHLDNG.NS\n"
     ]
    },
    {
     "name": "stderr",
     "output_type": "stream",
     "text": [
      "/var/folders/mn/tx231v5158797chnp22wm9000000gp/T/ipykernel_61094/4004665421.py:76: FutureWarning: Calling float on a single element Series is deprecated and will raise a TypeError in the future. Use float(ser.iloc[0]) instead\n",
      "  mu_ann = float(log_ret.mean()) * TRADING_DAYS\n",
      "/var/folders/mn/tx231v5158797chnp22wm9000000gp/T/ipykernel_61094/4004665421.py:77: FutureWarning: Calling float on a single element Series is deprecated and will raise a TypeError in the future. Use float(ser.iloc[0]) instead\n",
      "  sigma_ann = float(log_ret.std(ddof=1)) * math.sqrt(TRADING_DAYS)\n",
      "/var/folders/mn/tx231v5158797chnp22wm9000000gp/T/ipykernel_61094/4004665421.py:78: FutureWarning: Calling float on a single element Series is deprecated and will raise a TypeError in the future. Use float(ser.iloc[0]) instead\n",
      "  S0 = float(tail.iloc[-1])\n"
     ]
    },
    {
     "name": "stdout",
     "output_type": "stream",
     "text": [
      "  > BAJAJHFL.NS\n"
     ]
    },
    {
     "name": "stderr",
     "output_type": "stream",
     "text": [
      "/var/folders/mn/tx231v5158797chnp22wm9000000gp/T/ipykernel_61094/4004665421.py:76: FutureWarning: Calling float on a single element Series is deprecated and will raise a TypeError in the future. Use float(ser.iloc[0]) instead\n",
      "  mu_ann = float(log_ret.mean()) * TRADING_DAYS\n",
      "/var/folders/mn/tx231v5158797chnp22wm9000000gp/T/ipykernel_61094/4004665421.py:77: FutureWarning: Calling float on a single element Series is deprecated and will raise a TypeError in the future. Use float(ser.iloc[0]) instead\n",
      "  sigma_ann = float(log_ret.std(ddof=1)) * math.sqrt(TRADING_DAYS)\n",
      "/var/folders/mn/tx231v5158797chnp22wm9000000gp/T/ipykernel_61094/4004665421.py:78: FutureWarning: Calling float on a single element Series is deprecated and will raise a TypeError in the future. Use float(ser.iloc[0]) instead\n",
      "  S0 = float(tail.iloc[-1])\n"
     ]
    },
    {
     "name": "stdout",
     "output_type": "stream",
     "text": [
      "  > BALKRISIND.NS\n"
     ]
    },
    {
     "name": "stderr",
     "output_type": "stream",
     "text": [
      "/var/folders/mn/tx231v5158797chnp22wm9000000gp/T/ipykernel_61094/4004665421.py:76: FutureWarning: Calling float on a single element Series is deprecated and will raise a TypeError in the future. Use float(ser.iloc[0]) instead\n",
      "  mu_ann = float(log_ret.mean()) * TRADING_DAYS\n",
      "/var/folders/mn/tx231v5158797chnp22wm9000000gp/T/ipykernel_61094/4004665421.py:77: FutureWarning: Calling float on a single element Series is deprecated and will raise a TypeError in the future. Use float(ser.iloc[0]) instead\n",
      "  sigma_ann = float(log_ret.std(ddof=1)) * math.sqrt(TRADING_DAYS)\n",
      "/var/folders/mn/tx231v5158797chnp22wm9000000gp/T/ipykernel_61094/4004665421.py:78: FutureWarning: Calling float on a single element Series is deprecated and will raise a TypeError in the future. Use float(ser.iloc[0]) instead\n",
      "  S0 = float(tail.iloc[-1])\n"
     ]
    },
    {
     "name": "stdout",
     "output_type": "stream",
     "text": [
      "  > BALRAMCHIN.NS\n"
     ]
    },
    {
     "name": "stderr",
     "output_type": "stream",
     "text": [
      "/var/folders/mn/tx231v5158797chnp22wm9000000gp/T/ipykernel_61094/4004665421.py:76: FutureWarning: Calling float on a single element Series is deprecated and will raise a TypeError in the future. Use float(ser.iloc[0]) instead\n",
      "  mu_ann = float(log_ret.mean()) * TRADING_DAYS\n",
      "/var/folders/mn/tx231v5158797chnp22wm9000000gp/T/ipykernel_61094/4004665421.py:77: FutureWarning: Calling float on a single element Series is deprecated and will raise a TypeError in the future. Use float(ser.iloc[0]) instead\n",
      "  sigma_ann = float(log_ret.std(ddof=1)) * math.sqrt(TRADING_DAYS)\n",
      "/var/folders/mn/tx231v5158797chnp22wm9000000gp/T/ipykernel_61094/4004665421.py:78: FutureWarning: Calling float on a single element Series is deprecated and will raise a TypeError in the future. Use float(ser.iloc[0]) instead\n",
      "  S0 = float(tail.iloc[-1])\n"
     ]
    },
    {
     "name": "stdout",
     "output_type": "stream",
     "text": [
      "  > BANDHANBNK.NS\n"
     ]
    },
    {
     "name": "stderr",
     "output_type": "stream",
     "text": [
      "/var/folders/mn/tx231v5158797chnp22wm9000000gp/T/ipykernel_61094/4004665421.py:76: FutureWarning: Calling float on a single element Series is deprecated and will raise a TypeError in the future. Use float(ser.iloc[0]) instead\n",
      "  mu_ann = float(log_ret.mean()) * TRADING_DAYS\n",
      "/var/folders/mn/tx231v5158797chnp22wm9000000gp/T/ipykernel_61094/4004665421.py:77: FutureWarning: Calling float on a single element Series is deprecated and will raise a TypeError in the future. Use float(ser.iloc[0]) instead\n",
      "  sigma_ann = float(log_ret.std(ddof=1)) * math.sqrt(TRADING_DAYS)\n",
      "/var/folders/mn/tx231v5158797chnp22wm9000000gp/T/ipykernel_61094/4004665421.py:78: FutureWarning: Calling float on a single element Series is deprecated and will raise a TypeError in the future. Use float(ser.iloc[0]) instead\n",
      "  S0 = float(tail.iloc[-1])\n"
     ]
    },
    {
     "name": "stdout",
     "output_type": "stream",
     "text": [
      "  > BANKBARODA.NS\n"
     ]
    },
    {
     "name": "stderr",
     "output_type": "stream",
     "text": [
      "/var/folders/mn/tx231v5158797chnp22wm9000000gp/T/ipykernel_61094/4004665421.py:76: FutureWarning: Calling float on a single element Series is deprecated and will raise a TypeError in the future. Use float(ser.iloc[0]) instead\n",
      "  mu_ann = float(log_ret.mean()) * TRADING_DAYS\n",
      "/var/folders/mn/tx231v5158797chnp22wm9000000gp/T/ipykernel_61094/4004665421.py:77: FutureWarning: Calling float on a single element Series is deprecated and will raise a TypeError in the future. Use float(ser.iloc[0]) instead\n",
      "  sigma_ann = float(log_ret.std(ddof=1)) * math.sqrt(TRADING_DAYS)\n",
      "/var/folders/mn/tx231v5158797chnp22wm9000000gp/T/ipykernel_61094/4004665421.py:78: FutureWarning: Calling float on a single element Series is deprecated and will raise a TypeError in the future. Use float(ser.iloc[0]) instead\n",
      "  S0 = float(tail.iloc[-1])\n"
     ]
    },
    {
     "name": "stdout",
     "output_type": "stream",
     "text": [
      "  > BANKINDIA.NS\n"
     ]
    },
    {
     "name": "stderr",
     "output_type": "stream",
     "text": [
      "/var/folders/mn/tx231v5158797chnp22wm9000000gp/T/ipykernel_61094/4004665421.py:76: FutureWarning: Calling float on a single element Series is deprecated and will raise a TypeError in the future. Use float(ser.iloc[0]) instead\n",
      "  mu_ann = float(log_ret.mean()) * TRADING_DAYS\n",
      "/var/folders/mn/tx231v5158797chnp22wm9000000gp/T/ipykernel_61094/4004665421.py:77: FutureWarning: Calling float on a single element Series is deprecated and will raise a TypeError in the future. Use float(ser.iloc[0]) instead\n",
      "  sigma_ann = float(log_ret.std(ddof=1)) * math.sqrt(TRADING_DAYS)\n",
      "/var/folders/mn/tx231v5158797chnp22wm9000000gp/T/ipykernel_61094/4004665421.py:78: FutureWarning: Calling float on a single element Series is deprecated and will raise a TypeError in the future. Use float(ser.iloc[0]) instead\n",
      "  S0 = float(tail.iloc[-1])\n"
     ]
    },
    {
     "name": "stdout",
     "output_type": "stream",
     "text": [
      "  > MAHABANK.NS\n"
     ]
    },
    {
     "name": "stderr",
     "output_type": "stream",
     "text": [
      "/var/folders/mn/tx231v5158797chnp22wm9000000gp/T/ipykernel_61094/4004665421.py:76: FutureWarning: Calling float on a single element Series is deprecated and will raise a TypeError in the future. Use float(ser.iloc[0]) instead\n",
      "  mu_ann = float(log_ret.mean()) * TRADING_DAYS\n",
      "/var/folders/mn/tx231v5158797chnp22wm9000000gp/T/ipykernel_61094/4004665421.py:77: FutureWarning: Calling float on a single element Series is deprecated and will raise a TypeError in the future. Use float(ser.iloc[0]) instead\n",
      "  sigma_ann = float(log_ret.std(ddof=1)) * math.sqrt(TRADING_DAYS)\n",
      "/var/folders/mn/tx231v5158797chnp22wm9000000gp/T/ipykernel_61094/4004665421.py:78: FutureWarning: Calling float on a single element Series is deprecated and will raise a TypeError in the future. Use float(ser.iloc[0]) instead\n",
      "  S0 = float(tail.iloc[-1])\n"
     ]
    },
    {
     "name": "stdout",
     "output_type": "stream",
     "text": [
      "  > BATAINDIA.NS\n"
     ]
    },
    {
     "name": "stderr",
     "output_type": "stream",
     "text": [
      "/var/folders/mn/tx231v5158797chnp22wm9000000gp/T/ipykernel_61094/4004665421.py:76: FutureWarning: Calling float on a single element Series is deprecated and will raise a TypeError in the future. Use float(ser.iloc[0]) instead\n",
      "  mu_ann = float(log_ret.mean()) * TRADING_DAYS\n",
      "/var/folders/mn/tx231v5158797chnp22wm9000000gp/T/ipykernel_61094/4004665421.py:77: FutureWarning: Calling float on a single element Series is deprecated and will raise a TypeError in the future. Use float(ser.iloc[0]) instead\n",
      "  sigma_ann = float(log_ret.std(ddof=1)) * math.sqrt(TRADING_DAYS)\n",
      "/var/folders/mn/tx231v5158797chnp22wm9000000gp/T/ipykernel_61094/4004665421.py:78: FutureWarning: Calling float on a single element Series is deprecated and will raise a TypeError in the future. Use float(ser.iloc[0]) instead\n",
      "  S0 = float(tail.iloc[-1])\n"
     ]
    },
    {
     "name": "stdout",
     "output_type": "stream",
     "text": [
      "  > BAYERCROP.NS\n"
     ]
    },
    {
     "name": "stderr",
     "output_type": "stream",
     "text": [
      "/var/folders/mn/tx231v5158797chnp22wm9000000gp/T/ipykernel_61094/4004665421.py:76: FutureWarning: Calling float on a single element Series is deprecated and will raise a TypeError in the future. Use float(ser.iloc[0]) instead\n",
      "  mu_ann = float(log_ret.mean()) * TRADING_DAYS\n",
      "/var/folders/mn/tx231v5158797chnp22wm9000000gp/T/ipykernel_61094/4004665421.py:77: FutureWarning: Calling float on a single element Series is deprecated and will raise a TypeError in the future. Use float(ser.iloc[0]) instead\n",
      "  sigma_ann = float(log_ret.std(ddof=1)) * math.sqrt(TRADING_DAYS)\n",
      "/var/folders/mn/tx231v5158797chnp22wm9000000gp/T/ipykernel_61094/4004665421.py:78: FutureWarning: Calling float on a single element Series is deprecated and will raise a TypeError in the future. Use float(ser.iloc[0]) instead\n",
      "  S0 = float(tail.iloc[-1])\n"
     ]
    },
    {
     "name": "stdout",
     "output_type": "stream",
     "text": [
      "  > BERGEPAINT.NS\n"
     ]
    },
    {
     "name": "stderr",
     "output_type": "stream",
     "text": [
      "/var/folders/mn/tx231v5158797chnp22wm9000000gp/T/ipykernel_61094/4004665421.py:76: FutureWarning: Calling float on a single element Series is deprecated and will raise a TypeError in the future. Use float(ser.iloc[0]) instead\n",
      "  mu_ann = float(log_ret.mean()) * TRADING_DAYS\n",
      "/var/folders/mn/tx231v5158797chnp22wm9000000gp/T/ipykernel_61094/4004665421.py:77: FutureWarning: Calling float on a single element Series is deprecated and will raise a TypeError in the future. Use float(ser.iloc[0]) instead\n",
      "  sigma_ann = float(log_ret.std(ddof=1)) * math.sqrt(TRADING_DAYS)\n",
      "/var/folders/mn/tx231v5158797chnp22wm9000000gp/T/ipykernel_61094/4004665421.py:78: FutureWarning: Calling float on a single element Series is deprecated and will raise a TypeError in the future. Use float(ser.iloc[0]) instead\n",
      "  S0 = float(tail.iloc[-1])\n"
     ]
    },
    {
     "name": "stdout",
     "output_type": "stream",
     "text": [
      "  > BDL.NS\n"
     ]
    },
    {
     "name": "stderr",
     "output_type": "stream",
     "text": [
      "/var/folders/mn/tx231v5158797chnp22wm9000000gp/T/ipykernel_61094/4004665421.py:76: FutureWarning: Calling float on a single element Series is deprecated and will raise a TypeError in the future. Use float(ser.iloc[0]) instead\n",
      "  mu_ann = float(log_ret.mean()) * TRADING_DAYS\n",
      "/var/folders/mn/tx231v5158797chnp22wm9000000gp/T/ipykernel_61094/4004665421.py:77: FutureWarning: Calling float on a single element Series is deprecated and will raise a TypeError in the future. Use float(ser.iloc[0]) instead\n",
      "  sigma_ann = float(log_ret.std(ddof=1)) * math.sqrt(TRADING_DAYS)\n",
      "/var/folders/mn/tx231v5158797chnp22wm9000000gp/T/ipykernel_61094/4004665421.py:78: FutureWarning: Calling float on a single element Series is deprecated and will raise a TypeError in the future. Use float(ser.iloc[0]) instead\n",
      "  S0 = float(tail.iloc[-1])\n"
     ]
    },
    {
     "name": "stdout",
     "output_type": "stream",
     "text": [
      "  > BEL.NS\n"
     ]
    },
    {
     "name": "stderr",
     "output_type": "stream",
     "text": [
      "/var/folders/mn/tx231v5158797chnp22wm9000000gp/T/ipykernel_61094/4004665421.py:76: FutureWarning: Calling float on a single element Series is deprecated and will raise a TypeError in the future. Use float(ser.iloc[0]) instead\n",
      "  mu_ann = float(log_ret.mean()) * TRADING_DAYS\n",
      "/var/folders/mn/tx231v5158797chnp22wm9000000gp/T/ipykernel_61094/4004665421.py:77: FutureWarning: Calling float on a single element Series is deprecated and will raise a TypeError in the future. Use float(ser.iloc[0]) instead\n",
      "  sigma_ann = float(log_ret.std(ddof=1)) * math.sqrt(TRADING_DAYS)\n",
      "/var/folders/mn/tx231v5158797chnp22wm9000000gp/T/ipykernel_61094/4004665421.py:78: FutureWarning: Calling float on a single element Series is deprecated and will raise a TypeError in the future. Use float(ser.iloc[0]) instead\n",
      "  S0 = float(tail.iloc[-1])\n"
     ]
    },
    {
     "name": "stdout",
     "output_type": "stream",
     "text": [
      "  > BHARATFORG.NS\n"
     ]
    },
    {
     "name": "stderr",
     "output_type": "stream",
     "text": [
      "/var/folders/mn/tx231v5158797chnp22wm9000000gp/T/ipykernel_61094/4004665421.py:76: FutureWarning: Calling float on a single element Series is deprecated and will raise a TypeError in the future. Use float(ser.iloc[0]) instead\n",
      "  mu_ann = float(log_ret.mean()) * TRADING_DAYS\n",
      "/var/folders/mn/tx231v5158797chnp22wm9000000gp/T/ipykernel_61094/4004665421.py:77: FutureWarning: Calling float on a single element Series is deprecated and will raise a TypeError in the future. Use float(ser.iloc[0]) instead\n",
      "  sigma_ann = float(log_ret.std(ddof=1)) * math.sqrt(TRADING_DAYS)\n",
      "/var/folders/mn/tx231v5158797chnp22wm9000000gp/T/ipykernel_61094/4004665421.py:78: FutureWarning: Calling float on a single element Series is deprecated and will raise a TypeError in the future. Use float(ser.iloc[0]) instead\n",
      "  S0 = float(tail.iloc[-1])\n"
     ]
    },
    {
     "name": "stdout",
     "output_type": "stream",
     "text": [
      "  > BHEL.NS\n"
     ]
    },
    {
     "name": "stderr",
     "output_type": "stream",
     "text": [
      "/var/folders/mn/tx231v5158797chnp22wm9000000gp/T/ipykernel_61094/4004665421.py:76: FutureWarning: Calling float on a single element Series is deprecated and will raise a TypeError in the future. Use float(ser.iloc[0]) instead\n",
      "  mu_ann = float(log_ret.mean()) * TRADING_DAYS\n",
      "/var/folders/mn/tx231v5158797chnp22wm9000000gp/T/ipykernel_61094/4004665421.py:77: FutureWarning: Calling float on a single element Series is deprecated and will raise a TypeError in the future. Use float(ser.iloc[0]) instead\n",
      "  sigma_ann = float(log_ret.std(ddof=1)) * math.sqrt(TRADING_DAYS)\n",
      "/var/folders/mn/tx231v5158797chnp22wm9000000gp/T/ipykernel_61094/4004665421.py:78: FutureWarning: Calling float on a single element Series is deprecated and will raise a TypeError in the future. Use float(ser.iloc[0]) instead\n",
      "  S0 = float(tail.iloc[-1])\n"
     ]
    },
    {
     "name": "stdout",
     "output_type": "stream",
     "text": [
      "  > BPCL.NS\n"
     ]
    },
    {
     "name": "stderr",
     "output_type": "stream",
     "text": [
      "/var/folders/mn/tx231v5158797chnp22wm9000000gp/T/ipykernel_61094/4004665421.py:76: FutureWarning: Calling float on a single element Series is deprecated and will raise a TypeError in the future. Use float(ser.iloc[0]) instead\n",
      "  mu_ann = float(log_ret.mean()) * TRADING_DAYS\n",
      "/var/folders/mn/tx231v5158797chnp22wm9000000gp/T/ipykernel_61094/4004665421.py:77: FutureWarning: Calling float on a single element Series is deprecated and will raise a TypeError in the future. Use float(ser.iloc[0]) instead\n",
      "  sigma_ann = float(log_ret.std(ddof=1)) * math.sqrt(TRADING_DAYS)\n",
      "/var/folders/mn/tx231v5158797chnp22wm9000000gp/T/ipykernel_61094/4004665421.py:78: FutureWarning: Calling float on a single element Series is deprecated and will raise a TypeError in the future. Use float(ser.iloc[0]) instead\n",
      "  S0 = float(tail.iloc[-1])\n"
     ]
    },
    {
     "name": "stdout",
     "output_type": "stream",
     "text": [
      "  > BHARTIARTL.NS\n"
     ]
    },
    {
     "name": "stderr",
     "output_type": "stream",
     "text": [
      "/var/folders/mn/tx231v5158797chnp22wm9000000gp/T/ipykernel_61094/4004665421.py:76: FutureWarning: Calling float on a single element Series is deprecated and will raise a TypeError in the future. Use float(ser.iloc[0]) instead\n",
      "  mu_ann = float(log_ret.mean()) * TRADING_DAYS\n",
      "/var/folders/mn/tx231v5158797chnp22wm9000000gp/T/ipykernel_61094/4004665421.py:77: FutureWarning: Calling float on a single element Series is deprecated and will raise a TypeError in the future. Use float(ser.iloc[0]) instead\n",
      "  sigma_ann = float(log_ret.std(ddof=1)) * math.sqrt(TRADING_DAYS)\n",
      "/var/folders/mn/tx231v5158797chnp22wm9000000gp/T/ipykernel_61094/4004665421.py:78: FutureWarning: Calling float on a single element Series is deprecated and will raise a TypeError in the future. Use float(ser.iloc[0]) instead\n",
      "  S0 = float(tail.iloc[-1])\n"
     ]
    },
    {
     "name": "stdout",
     "output_type": "stream",
     "text": [
      "  > BHARTIHEXA.NS\n"
     ]
    },
    {
     "name": "stderr",
     "output_type": "stream",
     "text": [
      "/var/folders/mn/tx231v5158797chnp22wm9000000gp/T/ipykernel_61094/4004665421.py:76: FutureWarning: Calling float on a single element Series is deprecated and will raise a TypeError in the future. Use float(ser.iloc[0]) instead\n",
      "  mu_ann = float(log_ret.mean()) * TRADING_DAYS\n",
      "/var/folders/mn/tx231v5158797chnp22wm9000000gp/T/ipykernel_61094/4004665421.py:77: FutureWarning: Calling float on a single element Series is deprecated and will raise a TypeError in the future. Use float(ser.iloc[0]) instead\n",
      "  sigma_ann = float(log_ret.std(ddof=1)) * math.sqrt(TRADING_DAYS)\n",
      "/var/folders/mn/tx231v5158797chnp22wm9000000gp/T/ipykernel_61094/4004665421.py:78: FutureWarning: Calling float on a single element Series is deprecated and will raise a TypeError in the future. Use float(ser.iloc[0]) instead\n",
      "  S0 = float(tail.iloc[-1])\n"
     ]
    },
    {
     "name": "stdout",
     "output_type": "stream",
     "text": [
      "  > BIKAJI.NS\n"
     ]
    },
    {
     "name": "stderr",
     "output_type": "stream",
     "text": [
      "/var/folders/mn/tx231v5158797chnp22wm9000000gp/T/ipykernel_61094/4004665421.py:76: FutureWarning: Calling float on a single element Series is deprecated and will raise a TypeError in the future. Use float(ser.iloc[0]) instead\n",
      "  mu_ann = float(log_ret.mean()) * TRADING_DAYS\n",
      "/var/folders/mn/tx231v5158797chnp22wm9000000gp/T/ipykernel_61094/4004665421.py:77: FutureWarning: Calling float on a single element Series is deprecated and will raise a TypeError in the future. Use float(ser.iloc[0]) instead\n",
      "  sigma_ann = float(log_ret.std(ddof=1)) * math.sqrt(TRADING_DAYS)\n",
      "/var/folders/mn/tx231v5158797chnp22wm9000000gp/T/ipykernel_61094/4004665421.py:78: FutureWarning: Calling float on a single element Series is deprecated and will raise a TypeError in the future. Use float(ser.iloc[0]) instead\n",
      "  S0 = float(tail.iloc[-1])\n"
     ]
    },
    {
     "name": "stdout",
     "output_type": "stream",
     "text": [
      "  > BIOCON.NS\n"
     ]
    },
    {
     "name": "stderr",
     "output_type": "stream",
     "text": [
      "/var/folders/mn/tx231v5158797chnp22wm9000000gp/T/ipykernel_61094/4004665421.py:76: FutureWarning: Calling float on a single element Series is deprecated and will raise a TypeError in the future. Use float(ser.iloc[0]) instead\n",
      "  mu_ann = float(log_ret.mean()) * TRADING_DAYS\n",
      "/var/folders/mn/tx231v5158797chnp22wm9000000gp/T/ipykernel_61094/4004665421.py:77: FutureWarning: Calling float on a single element Series is deprecated and will raise a TypeError in the future. Use float(ser.iloc[0]) instead\n",
      "  sigma_ann = float(log_ret.std(ddof=1)) * math.sqrt(TRADING_DAYS)\n",
      "/var/folders/mn/tx231v5158797chnp22wm9000000gp/T/ipykernel_61094/4004665421.py:78: FutureWarning: Calling float on a single element Series is deprecated and will raise a TypeError in the future. Use float(ser.iloc[0]) instead\n",
      "  S0 = float(tail.iloc[-1])\n"
     ]
    },
    {
     "name": "stdout",
     "output_type": "stream",
     "text": [
      "  > BSOFT.NS\n"
     ]
    },
    {
     "name": "stderr",
     "output_type": "stream",
     "text": [
      "/var/folders/mn/tx231v5158797chnp22wm9000000gp/T/ipykernel_61094/4004665421.py:76: FutureWarning: Calling float on a single element Series is deprecated and will raise a TypeError in the future. Use float(ser.iloc[0]) instead\n",
      "  mu_ann = float(log_ret.mean()) * TRADING_DAYS\n",
      "/var/folders/mn/tx231v5158797chnp22wm9000000gp/T/ipykernel_61094/4004665421.py:77: FutureWarning: Calling float on a single element Series is deprecated and will raise a TypeError in the future. Use float(ser.iloc[0]) instead\n",
      "  sigma_ann = float(log_ret.std(ddof=1)) * math.sqrt(TRADING_DAYS)\n",
      "/var/folders/mn/tx231v5158797chnp22wm9000000gp/T/ipykernel_61094/4004665421.py:78: FutureWarning: Calling float on a single element Series is deprecated and will raise a TypeError in the future. Use float(ser.iloc[0]) instead\n",
      "  S0 = float(tail.iloc[-1])\n"
     ]
    },
    {
     "name": "stdout",
     "output_type": "stream",
     "text": [
      "  > BLUEDART.NS\n"
     ]
    },
    {
     "name": "stderr",
     "output_type": "stream",
     "text": [
      "/var/folders/mn/tx231v5158797chnp22wm9000000gp/T/ipykernel_61094/4004665421.py:76: FutureWarning: Calling float on a single element Series is deprecated and will raise a TypeError in the future. Use float(ser.iloc[0]) instead\n",
      "  mu_ann = float(log_ret.mean()) * TRADING_DAYS\n",
      "/var/folders/mn/tx231v5158797chnp22wm9000000gp/T/ipykernel_61094/4004665421.py:77: FutureWarning: Calling float on a single element Series is deprecated and will raise a TypeError in the future. Use float(ser.iloc[0]) instead\n",
      "  sigma_ann = float(log_ret.std(ddof=1)) * math.sqrt(TRADING_DAYS)\n",
      "/var/folders/mn/tx231v5158797chnp22wm9000000gp/T/ipykernel_61094/4004665421.py:78: FutureWarning: Calling float on a single element Series is deprecated and will raise a TypeError in the future. Use float(ser.iloc[0]) instead\n",
      "  S0 = float(tail.iloc[-1])\n"
     ]
    },
    {
     "name": "stdout",
     "output_type": "stream",
     "text": [
      "  > BLUESTARCO.NS\n"
     ]
    },
    {
     "name": "stderr",
     "output_type": "stream",
     "text": [
      "/var/folders/mn/tx231v5158797chnp22wm9000000gp/T/ipykernel_61094/4004665421.py:76: FutureWarning: Calling float on a single element Series is deprecated and will raise a TypeError in the future. Use float(ser.iloc[0]) instead\n",
      "  mu_ann = float(log_ret.mean()) * TRADING_DAYS\n",
      "/var/folders/mn/tx231v5158797chnp22wm9000000gp/T/ipykernel_61094/4004665421.py:77: FutureWarning: Calling float on a single element Series is deprecated and will raise a TypeError in the future. Use float(ser.iloc[0]) instead\n",
      "  sigma_ann = float(log_ret.std(ddof=1)) * math.sqrt(TRADING_DAYS)\n",
      "/var/folders/mn/tx231v5158797chnp22wm9000000gp/T/ipykernel_61094/4004665421.py:78: FutureWarning: Calling float on a single element Series is deprecated and will raise a TypeError in the future. Use float(ser.iloc[0]) instead\n",
      "  S0 = float(tail.iloc[-1])\n"
     ]
    },
    {
     "name": "stdout",
     "output_type": "stream",
     "text": [
      "  > BBTC.NS\n"
     ]
    },
    {
     "name": "stderr",
     "output_type": "stream",
     "text": [
      "/var/folders/mn/tx231v5158797chnp22wm9000000gp/T/ipykernel_61094/4004665421.py:76: FutureWarning: Calling float on a single element Series is deprecated and will raise a TypeError in the future. Use float(ser.iloc[0]) instead\n",
      "  mu_ann = float(log_ret.mean()) * TRADING_DAYS\n",
      "/var/folders/mn/tx231v5158797chnp22wm9000000gp/T/ipykernel_61094/4004665421.py:77: FutureWarning: Calling float on a single element Series is deprecated and will raise a TypeError in the future. Use float(ser.iloc[0]) instead\n",
      "  sigma_ann = float(log_ret.std(ddof=1)) * math.sqrt(TRADING_DAYS)\n",
      "/var/folders/mn/tx231v5158797chnp22wm9000000gp/T/ipykernel_61094/4004665421.py:78: FutureWarning: Calling float on a single element Series is deprecated and will raise a TypeError in the future. Use float(ser.iloc[0]) instead\n",
      "  S0 = float(tail.iloc[-1])\n"
     ]
    },
    {
     "name": "stdout",
     "output_type": "stream",
     "text": [
      "  > BOSCHLTD.NS\n"
     ]
    },
    {
     "name": "stderr",
     "output_type": "stream",
     "text": [
      "/var/folders/mn/tx231v5158797chnp22wm9000000gp/T/ipykernel_61094/4004665421.py:76: FutureWarning: Calling float on a single element Series is deprecated and will raise a TypeError in the future. Use float(ser.iloc[0]) instead\n",
      "  mu_ann = float(log_ret.mean()) * TRADING_DAYS\n",
      "/var/folders/mn/tx231v5158797chnp22wm9000000gp/T/ipykernel_61094/4004665421.py:77: FutureWarning: Calling float on a single element Series is deprecated and will raise a TypeError in the future. Use float(ser.iloc[0]) instead\n",
      "  sigma_ann = float(log_ret.std(ddof=1)) * math.sqrt(TRADING_DAYS)\n",
      "/var/folders/mn/tx231v5158797chnp22wm9000000gp/T/ipykernel_61094/4004665421.py:78: FutureWarning: Calling float on a single element Series is deprecated and will raise a TypeError in the future. Use float(ser.iloc[0]) instead\n",
      "  S0 = float(tail.iloc[-1])\n"
     ]
    },
    {
     "name": "stdout",
     "output_type": "stream",
     "text": [
      "  > FIRSTCRY.NS\n"
     ]
    },
    {
     "name": "stderr",
     "output_type": "stream",
     "text": [
      "/var/folders/mn/tx231v5158797chnp22wm9000000gp/T/ipykernel_61094/4004665421.py:76: FutureWarning: Calling float on a single element Series is deprecated and will raise a TypeError in the future. Use float(ser.iloc[0]) instead\n",
      "  mu_ann = float(log_ret.mean()) * TRADING_DAYS\n",
      "/var/folders/mn/tx231v5158797chnp22wm9000000gp/T/ipykernel_61094/4004665421.py:77: FutureWarning: Calling float on a single element Series is deprecated and will raise a TypeError in the future. Use float(ser.iloc[0]) instead\n",
      "  sigma_ann = float(log_ret.std(ddof=1)) * math.sqrt(TRADING_DAYS)\n",
      "/var/folders/mn/tx231v5158797chnp22wm9000000gp/T/ipykernel_61094/4004665421.py:78: FutureWarning: Calling float on a single element Series is deprecated and will raise a TypeError in the future. Use float(ser.iloc[0]) instead\n",
      "  S0 = float(tail.iloc[-1])\n"
     ]
    },
    {
     "name": "stdout",
     "output_type": "stream",
     "text": [
      "  > BRIGADE.NS\n"
     ]
    },
    {
     "name": "stderr",
     "output_type": "stream",
     "text": [
      "/var/folders/mn/tx231v5158797chnp22wm9000000gp/T/ipykernel_61094/4004665421.py:76: FutureWarning: Calling float on a single element Series is deprecated and will raise a TypeError in the future. Use float(ser.iloc[0]) instead\n",
      "  mu_ann = float(log_ret.mean()) * TRADING_DAYS\n",
      "/var/folders/mn/tx231v5158797chnp22wm9000000gp/T/ipykernel_61094/4004665421.py:77: FutureWarning: Calling float on a single element Series is deprecated and will raise a TypeError in the future. Use float(ser.iloc[0]) instead\n",
      "  sigma_ann = float(log_ret.std(ddof=1)) * math.sqrt(TRADING_DAYS)\n",
      "/var/folders/mn/tx231v5158797chnp22wm9000000gp/T/ipykernel_61094/4004665421.py:78: FutureWarning: Calling float on a single element Series is deprecated and will raise a TypeError in the future. Use float(ser.iloc[0]) instead\n",
      "  S0 = float(tail.iloc[-1])\n"
     ]
    },
    {
     "name": "stdout",
     "output_type": "stream",
     "text": [
      "  > BRITANNIA.NS\n"
     ]
    },
    {
     "name": "stderr",
     "output_type": "stream",
     "text": [
      "/var/folders/mn/tx231v5158797chnp22wm9000000gp/T/ipykernel_61094/4004665421.py:76: FutureWarning: Calling float on a single element Series is deprecated and will raise a TypeError in the future. Use float(ser.iloc[0]) instead\n",
      "  mu_ann = float(log_ret.mean()) * TRADING_DAYS\n",
      "/var/folders/mn/tx231v5158797chnp22wm9000000gp/T/ipykernel_61094/4004665421.py:77: FutureWarning: Calling float on a single element Series is deprecated and will raise a TypeError in the future. Use float(ser.iloc[0]) instead\n",
      "  sigma_ann = float(log_ret.std(ddof=1)) * math.sqrt(TRADING_DAYS)\n",
      "/var/folders/mn/tx231v5158797chnp22wm9000000gp/T/ipykernel_61094/4004665421.py:78: FutureWarning: Calling float on a single element Series is deprecated and will raise a TypeError in the future. Use float(ser.iloc[0]) instead\n",
      "  S0 = float(tail.iloc[-1])\n"
     ]
    },
    {
     "name": "stdout",
     "output_type": "stream",
     "text": [
      "  > MAPMYINDIA.NS\n"
     ]
    },
    {
     "name": "stderr",
     "output_type": "stream",
     "text": [
      "/var/folders/mn/tx231v5158797chnp22wm9000000gp/T/ipykernel_61094/4004665421.py:76: FutureWarning: Calling float on a single element Series is deprecated and will raise a TypeError in the future. Use float(ser.iloc[0]) instead\n",
      "  mu_ann = float(log_ret.mean()) * TRADING_DAYS\n",
      "/var/folders/mn/tx231v5158797chnp22wm9000000gp/T/ipykernel_61094/4004665421.py:77: FutureWarning: Calling float on a single element Series is deprecated and will raise a TypeError in the future. Use float(ser.iloc[0]) instead\n",
      "  sigma_ann = float(log_ret.std(ddof=1)) * math.sqrt(TRADING_DAYS)\n",
      "/var/folders/mn/tx231v5158797chnp22wm9000000gp/T/ipykernel_61094/4004665421.py:78: FutureWarning: Calling float on a single element Series is deprecated and will raise a TypeError in the future. Use float(ser.iloc[0]) instead\n",
      "  S0 = float(tail.iloc[-1])\n"
     ]
    },
    {
     "name": "stdout",
     "output_type": "stream",
     "text": [
      "  > CCL.NS\n"
     ]
    },
    {
     "name": "stderr",
     "output_type": "stream",
     "text": [
      "/var/folders/mn/tx231v5158797chnp22wm9000000gp/T/ipykernel_61094/4004665421.py:76: FutureWarning: Calling float on a single element Series is deprecated and will raise a TypeError in the future. Use float(ser.iloc[0]) instead\n",
      "  mu_ann = float(log_ret.mean()) * TRADING_DAYS\n",
      "/var/folders/mn/tx231v5158797chnp22wm9000000gp/T/ipykernel_61094/4004665421.py:77: FutureWarning: Calling float on a single element Series is deprecated and will raise a TypeError in the future. Use float(ser.iloc[0]) instead\n",
      "  sigma_ann = float(log_ret.std(ddof=1)) * math.sqrt(TRADING_DAYS)\n",
      "/var/folders/mn/tx231v5158797chnp22wm9000000gp/T/ipykernel_61094/4004665421.py:78: FutureWarning: Calling float on a single element Series is deprecated and will raise a TypeError in the future. Use float(ser.iloc[0]) instead\n",
      "  S0 = float(tail.iloc[-1])\n"
     ]
    },
    {
     "name": "stdout",
     "output_type": "stream",
     "text": [
      "  > CESC.NS\n"
     ]
    },
    {
     "name": "stderr",
     "output_type": "stream",
     "text": [
      "/var/folders/mn/tx231v5158797chnp22wm9000000gp/T/ipykernel_61094/4004665421.py:76: FutureWarning: Calling float on a single element Series is deprecated and will raise a TypeError in the future. Use float(ser.iloc[0]) instead\n",
      "  mu_ann = float(log_ret.mean()) * TRADING_DAYS\n",
      "/var/folders/mn/tx231v5158797chnp22wm9000000gp/T/ipykernel_61094/4004665421.py:77: FutureWarning: Calling float on a single element Series is deprecated and will raise a TypeError in the future. Use float(ser.iloc[0]) instead\n",
      "  sigma_ann = float(log_ret.std(ddof=1)) * math.sqrt(TRADING_DAYS)\n",
      "/var/folders/mn/tx231v5158797chnp22wm9000000gp/T/ipykernel_61094/4004665421.py:78: FutureWarning: Calling float on a single element Series is deprecated and will raise a TypeError in the future. Use float(ser.iloc[0]) instead\n",
      "  S0 = float(tail.iloc[-1])\n"
     ]
    },
    {
     "name": "stdout",
     "output_type": "stream",
     "text": [
      "  > CGPOWER.NS\n"
     ]
    },
    {
     "name": "stderr",
     "output_type": "stream",
     "text": [
      "/var/folders/mn/tx231v5158797chnp22wm9000000gp/T/ipykernel_61094/4004665421.py:76: FutureWarning: Calling float on a single element Series is deprecated and will raise a TypeError in the future. Use float(ser.iloc[0]) instead\n",
      "  mu_ann = float(log_ret.mean()) * TRADING_DAYS\n",
      "/var/folders/mn/tx231v5158797chnp22wm9000000gp/T/ipykernel_61094/4004665421.py:77: FutureWarning: Calling float on a single element Series is deprecated and will raise a TypeError in the future. Use float(ser.iloc[0]) instead\n",
      "  sigma_ann = float(log_ret.std(ddof=1)) * math.sqrt(TRADING_DAYS)\n",
      "/var/folders/mn/tx231v5158797chnp22wm9000000gp/T/ipykernel_61094/4004665421.py:78: FutureWarning: Calling float on a single element Series is deprecated and will raise a TypeError in the future. Use float(ser.iloc[0]) instead\n",
      "  S0 = float(tail.iloc[-1])\n"
     ]
    },
    {
     "name": "stdout",
     "output_type": "stream",
     "text": [
      "  > CRISIL.NS\n"
     ]
    },
    {
     "name": "stderr",
     "output_type": "stream",
     "text": [
      "/var/folders/mn/tx231v5158797chnp22wm9000000gp/T/ipykernel_61094/4004665421.py:76: FutureWarning: Calling float on a single element Series is deprecated and will raise a TypeError in the future. Use float(ser.iloc[0]) instead\n",
      "  mu_ann = float(log_ret.mean()) * TRADING_DAYS\n",
      "/var/folders/mn/tx231v5158797chnp22wm9000000gp/T/ipykernel_61094/4004665421.py:77: FutureWarning: Calling float on a single element Series is deprecated and will raise a TypeError in the future. Use float(ser.iloc[0]) instead\n",
      "  sigma_ann = float(log_ret.std(ddof=1)) * math.sqrt(TRADING_DAYS)\n",
      "/var/folders/mn/tx231v5158797chnp22wm9000000gp/T/ipykernel_61094/4004665421.py:78: FutureWarning: Calling float on a single element Series is deprecated and will raise a TypeError in the future. Use float(ser.iloc[0]) instead\n",
      "  S0 = float(tail.iloc[-1])\n"
     ]
    },
    {
     "name": "stdout",
     "output_type": "stream",
     "text": [
      "  > CAMPUS.NS\n"
     ]
    },
    {
     "name": "stderr",
     "output_type": "stream",
     "text": [
      "/var/folders/mn/tx231v5158797chnp22wm9000000gp/T/ipykernel_61094/4004665421.py:76: FutureWarning: Calling float on a single element Series is deprecated and will raise a TypeError in the future. Use float(ser.iloc[0]) instead\n",
      "  mu_ann = float(log_ret.mean()) * TRADING_DAYS\n",
      "/var/folders/mn/tx231v5158797chnp22wm9000000gp/T/ipykernel_61094/4004665421.py:77: FutureWarning: Calling float on a single element Series is deprecated and will raise a TypeError in the future. Use float(ser.iloc[0]) instead\n",
      "  sigma_ann = float(log_ret.std(ddof=1)) * math.sqrt(TRADING_DAYS)\n",
      "/var/folders/mn/tx231v5158797chnp22wm9000000gp/T/ipykernel_61094/4004665421.py:78: FutureWarning: Calling float on a single element Series is deprecated and will raise a TypeError in the future. Use float(ser.iloc[0]) instead\n",
      "  S0 = float(tail.iloc[-1])\n"
     ]
    },
    {
     "name": "stdout",
     "output_type": "stream",
     "text": [
      "  > CANFINHOME.NS\n"
     ]
    },
    {
     "name": "stderr",
     "output_type": "stream",
     "text": [
      "/var/folders/mn/tx231v5158797chnp22wm9000000gp/T/ipykernel_61094/4004665421.py:76: FutureWarning: Calling float on a single element Series is deprecated and will raise a TypeError in the future. Use float(ser.iloc[0]) instead\n",
      "  mu_ann = float(log_ret.mean()) * TRADING_DAYS\n",
      "/var/folders/mn/tx231v5158797chnp22wm9000000gp/T/ipykernel_61094/4004665421.py:77: FutureWarning: Calling float on a single element Series is deprecated and will raise a TypeError in the future. Use float(ser.iloc[0]) instead\n",
      "  sigma_ann = float(log_ret.std(ddof=1)) * math.sqrt(TRADING_DAYS)\n",
      "/var/folders/mn/tx231v5158797chnp22wm9000000gp/T/ipykernel_61094/4004665421.py:78: FutureWarning: Calling float on a single element Series is deprecated and will raise a TypeError in the future. Use float(ser.iloc[0]) instead\n",
      "  S0 = float(tail.iloc[-1])\n"
     ]
    },
    {
     "name": "stdout",
     "output_type": "stream",
     "text": [
      "  > CANBK.NS\n"
     ]
    },
    {
     "name": "stderr",
     "output_type": "stream",
     "text": [
      "/var/folders/mn/tx231v5158797chnp22wm9000000gp/T/ipykernel_61094/4004665421.py:76: FutureWarning: Calling float on a single element Series is deprecated and will raise a TypeError in the future. Use float(ser.iloc[0]) instead\n",
      "  mu_ann = float(log_ret.mean()) * TRADING_DAYS\n",
      "/var/folders/mn/tx231v5158797chnp22wm9000000gp/T/ipykernel_61094/4004665421.py:77: FutureWarning: Calling float on a single element Series is deprecated and will raise a TypeError in the future. Use float(ser.iloc[0]) instead\n",
      "  sigma_ann = float(log_ret.std(ddof=1)) * math.sqrt(TRADING_DAYS)\n",
      "/var/folders/mn/tx231v5158797chnp22wm9000000gp/T/ipykernel_61094/4004665421.py:78: FutureWarning: Calling float on a single element Series is deprecated and will raise a TypeError in the future. Use float(ser.iloc[0]) instead\n",
      "  S0 = float(tail.iloc[-1])\n"
     ]
    },
    {
     "name": "stdout",
     "output_type": "stream",
     "text": [
      "  > CAPLIPOINT.NS\n"
     ]
    },
    {
     "name": "stderr",
     "output_type": "stream",
     "text": [
      "/var/folders/mn/tx231v5158797chnp22wm9000000gp/T/ipykernel_61094/4004665421.py:76: FutureWarning: Calling float on a single element Series is deprecated and will raise a TypeError in the future. Use float(ser.iloc[0]) instead\n",
      "  mu_ann = float(log_ret.mean()) * TRADING_DAYS\n",
      "/var/folders/mn/tx231v5158797chnp22wm9000000gp/T/ipykernel_61094/4004665421.py:77: FutureWarning: Calling float on a single element Series is deprecated and will raise a TypeError in the future. Use float(ser.iloc[0]) instead\n",
      "  sigma_ann = float(log_ret.std(ddof=1)) * math.sqrt(TRADING_DAYS)\n",
      "/var/folders/mn/tx231v5158797chnp22wm9000000gp/T/ipykernel_61094/4004665421.py:78: FutureWarning: Calling float on a single element Series is deprecated and will raise a TypeError in the future. Use float(ser.iloc[0]) instead\n",
      "  S0 = float(tail.iloc[-1])\n"
     ]
    },
    {
     "name": "stdout",
     "output_type": "stream",
     "text": [
      "  > CGCL.NS\n"
     ]
    },
    {
     "name": "stderr",
     "output_type": "stream",
     "text": [
      "/var/folders/mn/tx231v5158797chnp22wm9000000gp/T/ipykernel_61094/4004665421.py:76: FutureWarning: Calling float on a single element Series is deprecated and will raise a TypeError in the future. Use float(ser.iloc[0]) instead\n",
      "  mu_ann = float(log_ret.mean()) * TRADING_DAYS\n",
      "/var/folders/mn/tx231v5158797chnp22wm9000000gp/T/ipykernel_61094/4004665421.py:77: FutureWarning: Calling float on a single element Series is deprecated and will raise a TypeError in the future. Use float(ser.iloc[0]) instead\n",
      "  sigma_ann = float(log_ret.std(ddof=1)) * math.sqrt(TRADING_DAYS)\n",
      "/var/folders/mn/tx231v5158797chnp22wm9000000gp/T/ipykernel_61094/4004665421.py:78: FutureWarning: Calling float on a single element Series is deprecated and will raise a TypeError in the future. Use float(ser.iloc[0]) instead\n",
      "  S0 = float(tail.iloc[-1])\n"
     ]
    },
    {
     "name": "stdout",
     "output_type": "stream",
     "text": [
      "  > CARBORUNIV.NS\n"
     ]
    },
    {
     "name": "stderr",
     "output_type": "stream",
     "text": [
      "/var/folders/mn/tx231v5158797chnp22wm9000000gp/T/ipykernel_61094/4004665421.py:76: FutureWarning: Calling float on a single element Series is deprecated and will raise a TypeError in the future. Use float(ser.iloc[0]) instead\n",
      "  mu_ann = float(log_ret.mean()) * TRADING_DAYS\n",
      "/var/folders/mn/tx231v5158797chnp22wm9000000gp/T/ipykernel_61094/4004665421.py:77: FutureWarning: Calling float on a single element Series is deprecated and will raise a TypeError in the future. Use float(ser.iloc[0]) instead\n",
      "  sigma_ann = float(log_ret.std(ddof=1)) * math.sqrt(TRADING_DAYS)\n",
      "/var/folders/mn/tx231v5158797chnp22wm9000000gp/T/ipykernel_61094/4004665421.py:78: FutureWarning: Calling float on a single element Series is deprecated and will raise a TypeError in the future. Use float(ser.iloc[0]) instead\n",
      "  S0 = float(tail.iloc[-1])\n"
     ]
    },
    {
     "name": "stdout",
     "output_type": "stream",
     "text": [
      "  > CASTROLIND.NS\n"
     ]
    },
    {
     "name": "stderr",
     "output_type": "stream",
     "text": [
      "/var/folders/mn/tx231v5158797chnp22wm9000000gp/T/ipykernel_61094/4004665421.py:76: FutureWarning: Calling float on a single element Series is deprecated and will raise a TypeError in the future. Use float(ser.iloc[0]) instead\n",
      "  mu_ann = float(log_ret.mean()) * TRADING_DAYS\n",
      "/var/folders/mn/tx231v5158797chnp22wm9000000gp/T/ipykernel_61094/4004665421.py:77: FutureWarning: Calling float on a single element Series is deprecated and will raise a TypeError in the future. Use float(ser.iloc[0]) instead\n",
      "  sigma_ann = float(log_ret.std(ddof=1)) * math.sqrt(TRADING_DAYS)\n",
      "/var/folders/mn/tx231v5158797chnp22wm9000000gp/T/ipykernel_61094/4004665421.py:78: FutureWarning: Calling float on a single element Series is deprecated and will raise a TypeError in the future. Use float(ser.iloc[0]) instead\n",
      "  S0 = float(tail.iloc[-1])\n"
     ]
    },
    {
     "name": "stdout",
     "output_type": "stream",
     "text": [
      "  > CEATLTD.NS\n"
     ]
    },
    {
     "name": "stderr",
     "output_type": "stream",
     "text": [
      "/var/folders/mn/tx231v5158797chnp22wm9000000gp/T/ipykernel_61094/4004665421.py:76: FutureWarning: Calling float on a single element Series is deprecated and will raise a TypeError in the future. Use float(ser.iloc[0]) instead\n",
      "  mu_ann = float(log_ret.mean()) * TRADING_DAYS\n",
      "/var/folders/mn/tx231v5158797chnp22wm9000000gp/T/ipykernel_61094/4004665421.py:77: FutureWarning: Calling float on a single element Series is deprecated and will raise a TypeError in the future. Use float(ser.iloc[0]) instead\n",
      "  sigma_ann = float(log_ret.std(ddof=1)) * math.sqrt(TRADING_DAYS)\n",
      "/var/folders/mn/tx231v5158797chnp22wm9000000gp/T/ipykernel_61094/4004665421.py:78: FutureWarning: Calling float on a single element Series is deprecated and will raise a TypeError in the future. Use float(ser.iloc[0]) instead\n",
      "  S0 = float(tail.iloc[-1])\n"
     ]
    },
    {
     "name": "stdout",
     "output_type": "stream",
     "text": [
      "  > CENTRALBK.NS\n"
     ]
    },
    {
     "name": "stderr",
     "output_type": "stream",
     "text": [
      "/var/folders/mn/tx231v5158797chnp22wm9000000gp/T/ipykernel_61094/4004665421.py:76: FutureWarning: Calling float on a single element Series is deprecated and will raise a TypeError in the future. Use float(ser.iloc[0]) instead\n",
      "  mu_ann = float(log_ret.mean()) * TRADING_DAYS\n",
      "/var/folders/mn/tx231v5158797chnp22wm9000000gp/T/ipykernel_61094/4004665421.py:77: FutureWarning: Calling float on a single element Series is deprecated and will raise a TypeError in the future. Use float(ser.iloc[0]) instead\n",
      "  sigma_ann = float(log_ret.std(ddof=1)) * math.sqrt(TRADING_DAYS)\n",
      "/var/folders/mn/tx231v5158797chnp22wm9000000gp/T/ipykernel_61094/4004665421.py:78: FutureWarning: Calling float on a single element Series is deprecated and will raise a TypeError in the future. Use float(ser.iloc[0]) instead\n",
      "  S0 = float(tail.iloc[-1])\n"
     ]
    },
    {
     "name": "stdout",
     "output_type": "stream",
     "text": [
      "  > CDSL.NS\n"
     ]
    },
    {
     "name": "stderr",
     "output_type": "stream",
     "text": [
      "/var/folders/mn/tx231v5158797chnp22wm9000000gp/T/ipykernel_61094/4004665421.py:76: FutureWarning: Calling float on a single element Series is deprecated and will raise a TypeError in the future. Use float(ser.iloc[0]) instead\n",
      "  mu_ann = float(log_ret.mean()) * TRADING_DAYS\n",
      "/var/folders/mn/tx231v5158797chnp22wm9000000gp/T/ipykernel_61094/4004665421.py:77: FutureWarning: Calling float on a single element Series is deprecated and will raise a TypeError in the future. Use float(ser.iloc[0]) instead\n",
      "  sigma_ann = float(log_ret.std(ddof=1)) * math.sqrt(TRADING_DAYS)\n",
      "/var/folders/mn/tx231v5158797chnp22wm9000000gp/T/ipykernel_61094/4004665421.py:78: FutureWarning: Calling float on a single element Series is deprecated and will raise a TypeError in the future. Use float(ser.iloc[0]) instead\n",
      "  S0 = float(tail.iloc[-1])\n"
     ]
    },
    {
     "name": "stdout",
     "output_type": "stream",
     "text": [
      "  > CENTURYPLY.NS\n"
     ]
    },
    {
     "name": "stderr",
     "output_type": "stream",
     "text": [
      "/var/folders/mn/tx231v5158797chnp22wm9000000gp/T/ipykernel_61094/4004665421.py:76: FutureWarning: Calling float on a single element Series is deprecated and will raise a TypeError in the future. Use float(ser.iloc[0]) instead\n",
      "  mu_ann = float(log_ret.mean()) * TRADING_DAYS\n",
      "/var/folders/mn/tx231v5158797chnp22wm9000000gp/T/ipykernel_61094/4004665421.py:77: FutureWarning: Calling float on a single element Series is deprecated and will raise a TypeError in the future. Use float(ser.iloc[0]) instead\n",
      "  sigma_ann = float(log_ret.std(ddof=1)) * math.sqrt(TRADING_DAYS)\n",
      "/var/folders/mn/tx231v5158797chnp22wm9000000gp/T/ipykernel_61094/4004665421.py:78: FutureWarning: Calling float on a single element Series is deprecated and will raise a TypeError in the future. Use float(ser.iloc[0]) instead\n",
      "  S0 = float(tail.iloc[-1])\n"
     ]
    },
    {
     "name": "stdout",
     "output_type": "stream",
     "text": [
      "  > CERA.NS\n"
     ]
    },
    {
     "name": "stderr",
     "output_type": "stream",
     "text": [
      "/var/folders/mn/tx231v5158797chnp22wm9000000gp/T/ipykernel_61094/4004665421.py:76: FutureWarning: Calling float on a single element Series is deprecated and will raise a TypeError in the future. Use float(ser.iloc[0]) instead\n",
      "  mu_ann = float(log_ret.mean()) * TRADING_DAYS\n",
      "/var/folders/mn/tx231v5158797chnp22wm9000000gp/T/ipykernel_61094/4004665421.py:77: FutureWarning: Calling float on a single element Series is deprecated and will raise a TypeError in the future. Use float(ser.iloc[0]) instead\n",
      "  sigma_ann = float(log_ret.std(ddof=1)) * math.sqrt(TRADING_DAYS)\n",
      "/var/folders/mn/tx231v5158797chnp22wm9000000gp/T/ipykernel_61094/4004665421.py:78: FutureWarning: Calling float on a single element Series is deprecated and will raise a TypeError in the future. Use float(ser.iloc[0]) instead\n",
      "  S0 = float(tail.iloc[-1])\n"
     ]
    },
    {
     "name": "stdout",
     "output_type": "stream",
     "text": [
      "  > CHALET.NS\n"
     ]
    },
    {
     "name": "stderr",
     "output_type": "stream",
     "text": [
      "/var/folders/mn/tx231v5158797chnp22wm9000000gp/T/ipykernel_61094/4004665421.py:76: FutureWarning: Calling float on a single element Series is deprecated and will raise a TypeError in the future. Use float(ser.iloc[0]) instead\n",
      "  mu_ann = float(log_ret.mean()) * TRADING_DAYS\n",
      "/var/folders/mn/tx231v5158797chnp22wm9000000gp/T/ipykernel_61094/4004665421.py:77: FutureWarning: Calling float on a single element Series is deprecated and will raise a TypeError in the future. Use float(ser.iloc[0]) instead\n",
      "  sigma_ann = float(log_ret.std(ddof=1)) * math.sqrt(TRADING_DAYS)\n",
      "/var/folders/mn/tx231v5158797chnp22wm9000000gp/T/ipykernel_61094/4004665421.py:78: FutureWarning: Calling float on a single element Series is deprecated and will raise a TypeError in the future. Use float(ser.iloc[0]) instead\n",
      "  S0 = float(tail.iloc[-1])\n"
     ]
    },
    {
     "name": "stdout",
     "output_type": "stream",
     "text": [
      "  > CHAMBLFERT.NS\n"
     ]
    },
    {
     "name": "stderr",
     "output_type": "stream",
     "text": [
      "/var/folders/mn/tx231v5158797chnp22wm9000000gp/T/ipykernel_61094/4004665421.py:76: FutureWarning: Calling float on a single element Series is deprecated and will raise a TypeError in the future. Use float(ser.iloc[0]) instead\n",
      "  mu_ann = float(log_ret.mean()) * TRADING_DAYS\n",
      "/var/folders/mn/tx231v5158797chnp22wm9000000gp/T/ipykernel_61094/4004665421.py:77: FutureWarning: Calling float on a single element Series is deprecated and will raise a TypeError in the future. Use float(ser.iloc[0]) instead\n",
      "  sigma_ann = float(log_ret.std(ddof=1)) * math.sqrt(TRADING_DAYS)\n",
      "/var/folders/mn/tx231v5158797chnp22wm9000000gp/T/ipykernel_61094/4004665421.py:78: FutureWarning: Calling float on a single element Series is deprecated and will raise a TypeError in the future. Use float(ser.iloc[0]) instead\n",
      "  S0 = float(tail.iloc[-1])\n"
     ]
    },
    {
     "name": "stdout",
     "output_type": "stream",
     "text": [
      "  > CHENNPETRO.NS\n"
     ]
    },
    {
     "name": "stderr",
     "output_type": "stream",
     "text": [
      "/var/folders/mn/tx231v5158797chnp22wm9000000gp/T/ipykernel_61094/4004665421.py:76: FutureWarning: Calling float on a single element Series is deprecated and will raise a TypeError in the future. Use float(ser.iloc[0]) instead\n",
      "  mu_ann = float(log_ret.mean()) * TRADING_DAYS\n",
      "/var/folders/mn/tx231v5158797chnp22wm9000000gp/T/ipykernel_61094/4004665421.py:77: FutureWarning: Calling float on a single element Series is deprecated and will raise a TypeError in the future. Use float(ser.iloc[0]) instead\n",
      "  sigma_ann = float(log_ret.std(ddof=1)) * math.sqrt(TRADING_DAYS)\n",
      "/var/folders/mn/tx231v5158797chnp22wm9000000gp/T/ipykernel_61094/4004665421.py:78: FutureWarning: Calling float on a single element Series is deprecated and will raise a TypeError in the future. Use float(ser.iloc[0]) instead\n",
      "  S0 = float(tail.iloc[-1])\n"
     ]
    },
    {
     "name": "stdout",
     "output_type": "stream",
     "text": [
      "  > CHOLAHLDNG.NS\n"
     ]
    },
    {
     "name": "stderr",
     "output_type": "stream",
     "text": [
      "/var/folders/mn/tx231v5158797chnp22wm9000000gp/T/ipykernel_61094/4004665421.py:76: FutureWarning: Calling float on a single element Series is deprecated and will raise a TypeError in the future. Use float(ser.iloc[0]) instead\n",
      "  mu_ann = float(log_ret.mean()) * TRADING_DAYS\n",
      "/var/folders/mn/tx231v5158797chnp22wm9000000gp/T/ipykernel_61094/4004665421.py:77: FutureWarning: Calling float on a single element Series is deprecated and will raise a TypeError in the future. Use float(ser.iloc[0]) instead\n",
      "  sigma_ann = float(log_ret.std(ddof=1)) * math.sqrt(TRADING_DAYS)\n",
      "/var/folders/mn/tx231v5158797chnp22wm9000000gp/T/ipykernel_61094/4004665421.py:78: FutureWarning: Calling float on a single element Series is deprecated and will raise a TypeError in the future. Use float(ser.iloc[0]) instead\n",
      "  S0 = float(tail.iloc[-1])\n"
     ]
    },
    {
     "name": "stdout",
     "output_type": "stream",
     "text": [
      "  > CHOLAFIN.NS\n"
     ]
    },
    {
     "name": "stderr",
     "output_type": "stream",
     "text": [
      "/var/folders/mn/tx231v5158797chnp22wm9000000gp/T/ipykernel_61094/4004665421.py:76: FutureWarning: Calling float on a single element Series is deprecated and will raise a TypeError in the future. Use float(ser.iloc[0]) instead\n",
      "  mu_ann = float(log_ret.mean()) * TRADING_DAYS\n",
      "/var/folders/mn/tx231v5158797chnp22wm9000000gp/T/ipykernel_61094/4004665421.py:77: FutureWarning: Calling float on a single element Series is deprecated and will raise a TypeError in the future. Use float(ser.iloc[0]) instead\n",
      "  sigma_ann = float(log_ret.std(ddof=1)) * math.sqrt(TRADING_DAYS)\n",
      "/var/folders/mn/tx231v5158797chnp22wm9000000gp/T/ipykernel_61094/4004665421.py:78: FutureWarning: Calling float on a single element Series is deprecated and will raise a TypeError in the future. Use float(ser.iloc[0]) instead\n",
      "  S0 = float(tail.iloc[-1])\n"
     ]
    },
    {
     "name": "stdout",
     "output_type": "stream",
     "text": [
      "  > CIPLA.NS\n"
     ]
    },
    {
     "name": "stderr",
     "output_type": "stream",
     "text": [
      "/var/folders/mn/tx231v5158797chnp22wm9000000gp/T/ipykernel_61094/4004665421.py:76: FutureWarning: Calling float on a single element Series is deprecated and will raise a TypeError in the future. Use float(ser.iloc[0]) instead\n",
      "  mu_ann = float(log_ret.mean()) * TRADING_DAYS\n",
      "/var/folders/mn/tx231v5158797chnp22wm9000000gp/T/ipykernel_61094/4004665421.py:77: FutureWarning: Calling float on a single element Series is deprecated and will raise a TypeError in the future. Use float(ser.iloc[0]) instead\n",
      "  sigma_ann = float(log_ret.std(ddof=1)) * math.sqrt(TRADING_DAYS)\n",
      "/var/folders/mn/tx231v5158797chnp22wm9000000gp/T/ipykernel_61094/4004665421.py:78: FutureWarning: Calling float on a single element Series is deprecated and will raise a TypeError in the future. Use float(ser.iloc[0]) instead\n",
      "  S0 = float(tail.iloc[-1])\n"
     ]
    },
    {
     "name": "stdout",
     "output_type": "stream",
     "text": [
      "  > CUB.NS\n"
     ]
    },
    {
     "name": "stderr",
     "output_type": "stream",
     "text": [
      "/var/folders/mn/tx231v5158797chnp22wm9000000gp/T/ipykernel_61094/4004665421.py:76: FutureWarning: Calling float on a single element Series is deprecated and will raise a TypeError in the future. Use float(ser.iloc[0]) instead\n",
      "  mu_ann = float(log_ret.mean()) * TRADING_DAYS\n",
      "/var/folders/mn/tx231v5158797chnp22wm9000000gp/T/ipykernel_61094/4004665421.py:77: FutureWarning: Calling float on a single element Series is deprecated and will raise a TypeError in the future. Use float(ser.iloc[0]) instead\n",
      "  sigma_ann = float(log_ret.std(ddof=1)) * math.sqrt(TRADING_DAYS)\n",
      "/var/folders/mn/tx231v5158797chnp22wm9000000gp/T/ipykernel_61094/4004665421.py:78: FutureWarning: Calling float on a single element Series is deprecated and will raise a TypeError in the future. Use float(ser.iloc[0]) instead\n",
      "  S0 = float(tail.iloc[-1])\n"
     ]
    },
    {
     "name": "stdout",
     "output_type": "stream",
     "text": [
      "  > CLEAN.NS\n"
     ]
    },
    {
     "name": "stderr",
     "output_type": "stream",
     "text": [
      "/var/folders/mn/tx231v5158797chnp22wm9000000gp/T/ipykernel_61094/4004665421.py:76: FutureWarning: Calling float on a single element Series is deprecated and will raise a TypeError in the future. Use float(ser.iloc[0]) instead\n",
      "  mu_ann = float(log_ret.mean()) * TRADING_DAYS\n",
      "/var/folders/mn/tx231v5158797chnp22wm9000000gp/T/ipykernel_61094/4004665421.py:77: FutureWarning: Calling float on a single element Series is deprecated and will raise a TypeError in the future. Use float(ser.iloc[0]) instead\n",
      "  sigma_ann = float(log_ret.std(ddof=1)) * math.sqrt(TRADING_DAYS)\n",
      "/var/folders/mn/tx231v5158797chnp22wm9000000gp/T/ipykernel_61094/4004665421.py:78: FutureWarning: Calling float on a single element Series is deprecated and will raise a TypeError in the future. Use float(ser.iloc[0]) instead\n",
      "  S0 = float(tail.iloc[-1])\n"
     ]
    },
    {
     "name": "stdout",
     "output_type": "stream",
     "text": [
      "  > COALINDIA.NS\n"
     ]
    },
    {
     "name": "stderr",
     "output_type": "stream",
     "text": [
      "/var/folders/mn/tx231v5158797chnp22wm9000000gp/T/ipykernel_61094/4004665421.py:76: FutureWarning: Calling float on a single element Series is deprecated and will raise a TypeError in the future. Use float(ser.iloc[0]) instead\n",
      "  mu_ann = float(log_ret.mean()) * TRADING_DAYS\n",
      "/var/folders/mn/tx231v5158797chnp22wm9000000gp/T/ipykernel_61094/4004665421.py:77: FutureWarning: Calling float on a single element Series is deprecated and will raise a TypeError in the future. Use float(ser.iloc[0]) instead\n",
      "  sigma_ann = float(log_ret.std(ddof=1)) * math.sqrt(TRADING_DAYS)\n",
      "/var/folders/mn/tx231v5158797chnp22wm9000000gp/T/ipykernel_61094/4004665421.py:78: FutureWarning: Calling float on a single element Series is deprecated and will raise a TypeError in the future. Use float(ser.iloc[0]) instead\n",
      "  S0 = float(tail.iloc[-1])\n"
     ]
    },
    {
     "name": "stdout",
     "output_type": "stream",
     "text": [
      "  > COCHINSHIP.NS\n"
     ]
    },
    {
     "name": "stderr",
     "output_type": "stream",
     "text": [
      "/var/folders/mn/tx231v5158797chnp22wm9000000gp/T/ipykernel_61094/4004665421.py:76: FutureWarning: Calling float on a single element Series is deprecated and will raise a TypeError in the future. Use float(ser.iloc[0]) instead\n",
      "  mu_ann = float(log_ret.mean()) * TRADING_DAYS\n",
      "/var/folders/mn/tx231v5158797chnp22wm9000000gp/T/ipykernel_61094/4004665421.py:77: FutureWarning: Calling float on a single element Series is deprecated and will raise a TypeError in the future. Use float(ser.iloc[0]) instead\n",
      "  sigma_ann = float(log_ret.std(ddof=1)) * math.sqrt(TRADING_DAYS)\n",
      "/var/folders/mn/tx231v5158797chnp22wm9000000gp/T/ipykernel_61094/4004665421.py:78: FutureWarning: Calling float on a single element Series is deprecated and will raise a TypeError in the future. Use float(ser.iloc[0]) instead\n",
      "  S0 = float(tail.iloc[-1])\n"
     ]
    },
    {
     "name": "stdout",
     "output_type": "stream",
     "text": [
      "  > COFORGE.NS\n"
     ]
    },
    {
     "name": "stderr",
     "output_type": "stream",
     "text": [
      "/var/folders/mn/tx231v5158797chnp22wm9000000gp/T/ipykernel_61094/4004665421.py:76: FutureWarning: Calling float on a single element Series is deprecated and will raise a TypeError in the future. Use float(ser.iloc[0]) instead\n",
      "  mu_ann = float(log_ret.mean()) * TRADING_DAYS\n",
      "/var/folders/mn/tx231v5158797chnp22wm9000000gp/T/ipykernel_61094/4004665421.py:77: FutureWarning: Calling float on a single element Series is deprecated and will raise a TypeError in the future. Use float(ser.iloc[0]) instead\n",
      "  sigma_ann = float(log_ret.std(ddof=1)) * math.sqrt(TRADING_DAYS)\n",
      "/var/folders/mn/tx231v5158797chnp22wm9000000gp/T/ipykernel_61094/4004665421.py:78: FutureWarning: Calling float on a single element Series is deprecated and will raise a TypeError in the future. Use float(ser.iloc[0]) instead\n",
      "  S0 = float(tail.iloc[-1])\n"
     ]
    },
    {
     "name": "stdout",
     "output_type": "stream",
     "text": [
      "  > COHANCE.NS\n"
     ]
    },
    {
     "name": "stderr",
     "output_type": "stream",
     "text": [
      "/var/folders/mn/tx231v5158797chnp22wm9000000gp/T/ipykernel_61094/4004665421.py:76: FutureWarning: Calling float on a single element Series is deprecated and will raise a TypeError in the future. Use float(ser.iloc[0]) instead\n",
      "  mu_ann = float(log_ret.mean()) * TRADING_DAYS\n",
      "/var/folders/mn/tx231v5158797chnp22wm9000000gp/T/ipykernel_61094/4004665421.py:77: FutureWarning: Calling float on a single element Series is deprecated and will raise a TypeError in the future. Use float(ser.iloc[0]) instead\n",
      "  sigma_ann = float(log_ret.std(ddof=1)) * math.sqrt(TRADING_DAYS)\n",
      "/var/folders/mn/tx231v5158797chnp22wm9000000gp/T/ipykernel_61094/4004665421.py:78: FutureWarning: Calling float on a single element Series is deprecated and will raise a TypeError in the future. Use float(ser.iloc[0]) instead\n",
      "  S0 = float(tail.iloc[-1])\n"
     ]
    },
    {
     "name": "stdout",
     "output_type": "stream",
     "text": [
      "  > COLPAL.NS\n"
     ]
    },
    {
     "name": "stderr",
     "output_type": "stream",
     "text": [
      "/var/folders/mn/tx231v5158797chnp22wm9000000gp/T/ipykernel_61094/4004665421.py:76: FutureWarning: Calling float on a single element Series is deprecated and will raise a TypeError in the future. Use float(ser.iloc[0]) instead\n",
      "  mu_ann = float(log_ret.mean()) * TRADING_DAYS\n",
      "/var/folders/mn/tx231v5158797chnp22wm9000000gp/T/ipykernel_61094/4004665421.py:77: FutureWarning: Calling float on a single element Series is deprecated and will raise a TypeError in the future. Use float(ser.iloc[0]) instead\n",
      "  sigma_ann = float(log_ret.std(ddof=1)) * math.sqrt(TRADING_DAYS)\n",
      "/var/folders/mn/tx231v5158797chnp22wm9000000gp/T/ipykernel_61094/4004665421.py:78: FutureWarning: Calling float on a single element Series is deprecated and will raise a TypeError in the future. Use float(ser.iloc[0]) instead\n",
      "  S0 = float(tail.iloc[-1])\n"
     ]
    },
    {
     "name": "stdout",
     "output_type": "stream",
     "text": [
      "  > CAMS.NS\n"
     ]
    },
    {
     "name": "stderr",
     "output_type": "stream",
     "text": [
      "/var/folders/mn/tx231v5158797chnp22wm9000000gp/T/ipykernel_61094/4004665421.py:76: FutureWarning: Calling float on a single element Series is deprecated and will raise a TypeError in the future. Use float(ser.iloc[0]) instead\n",
      "  mu_ann = float(log_ret.mean()) * TRADING_DAYS\n",
      "/var/folders/mn/tx231v5158797chnp22wm9000000gp/T/ipykernel_61094/4004665421.py:77: FutureWarning: Calling float on a single element Series is deprecated and will raise a TypeError in the future. Use float(ser.iloc[0]) instead\n",
      "  sigma_ann = float(log_ret.std(ddof=1)) * math.sqrt(TRADING_DAYS)\n",
      "/var/folders/mn/tx231v5158797chnp22wm9000000gp/T/ipykernel_61094/4004665421.py:78: FutureWarning: Calling float on a single element Series is deprecated and will raise a TypeError in the future. Use float(ser.iloc[0]) instead\n",
      "  S0 = float(tail.iloc[-1])\n"
     ]
    },
    {
     "name": "stdout",
     "output_type": "stream",
     "text": [
      "  > CONCORDBIO.NS\n"
     ]
    },
    {
     "name": "stderr",
     "output_type": "stream",
     "text": [
      "/var/folders/mn/tx231v5158797chnp22wm9000000gp/T/ipykernel_61094/4004665421.py:76: FutureWarning: Calling float on a single element Series is deprecated and will raise a TypeError in the future. Use float(ser.iloc[0]) instead\n",
      "  mu_ann = float(log_ret.mean()) * TRADING_DAYS\n",
      "/var/folders/mn/tx231v5158797chnp22wm9000000gp/T/ipykernel_61094/4004665421.py:77: FutureWarning: Calling float on a single element Series is deprecated and will raise a TypeError in the future. Use float(ser.iloc[0]) instead\n",
      "  sigma_ann = float(log_ret.std(ddof=1)) * math.sqrt(TRADING_DAYS)\n",
      "/var/folders/mn/tx231v5158797chnp22wm9000000gp/T/ipykernel_61094/4004665421.py:78: FutureWarning: Calling float on a single element Series is deprecated and will raise a TypeError in the future. Use float(ser.iloc[0]) instead\n",
      "  S0 = float(tail.iloc[-1])\n"
     ]
    },
    {
     "name": "stdout",
     "output_type": "stream",
     "text": [
      "  > CONCOR.NS\n"
     ]
    },
    {
     "name": "stderr",
     "output_type": "stream",
     "text": [
      "/var/folders/mn/tx231v5158797chnp22wm9000000gp/T/ipykernel_61094/4004665421.py:76: FutureWarning: Calling float on a single element Series is deprecated and will raise a TypeError in the future. Use float(ser.iloc[0]) instead\n",
      "  mu_ann = float(log_ret.mean()) * TRADING_DAYS\n",
      "/var/folders/mn/tx231v5158797chnp22wm9000000gp/T/ipykernel_61094/4004665421.py:77: FutureWarning: Calling float on a single element Series is deprecated and will raise a TypeError in the future. Use float(ser.iloc[0]) instead\n",
      "  sigma_ann = float(log_ret.std(ddof=1)) * math.sqrt(TRADING_DAYS)\n",
      "/var/folders/mn/tx231v5158797chnp22wm9000000gp/T/ipykernel_61094/4004665421.py:78: FutureWarning: Calling float on a single element Series is deprecated and will raise a TypeError in the future. Use float(ser.iloc[0]) instead\n",
      "  S0 = float(tail.iloc[-1])\n"
     ]
    },
    {
     "name": "stdout",
     "output_type": "stream",
     "text": [
      "  > COROMANDEL.NS\n"
     ]
    },
    {
     "name": "stderr",
     "output_type": "stream",
     "text": [
      "/var/folders/mn/tx231v5158797chnp22wm9000000gp/T/ipykernel_61094/4004665421.py:76: FutureWarning: Calling float on a single element Series is deprecated and will raise a TypeError in the future. Use float(ser.iloc[0]) instead\n",
      "  mu_ann = float(log_ret.mean()) * TRADING_DAYS\n",
      "/var/folders/mn/tx231v5158797chnp22wm9000000gp/T/ipykernel_61094/4004665421.py:77: FutureWarning: Calling float on a single element Series is deprecated and will raise a TypeError in the future. Use float(ser.iloc[0]) instead\n",
      "  sigma_ann = float(log_ret.std(ddof=1)) * math.sqrt(TRADING_DAYS)\n",
      "/var/folders/mn/tx231v5158797chnp22wm9000000gp/T/ipykernel_61094/4004665421.py:78: FutureWarning: Calling float on a single element Series is deprecated and will raise a TypeError in the future. Use float(ser.iloc[0]) instead\n",
      "  S0 = float(tail.iloc[-1])\n"
     ]
    },
    {
     "name": "stdout",
     "output_type": "stream",
     "text": [
      "  > CRAFTSMAN.NS\n"
     ]
    },
    {
     "name": "stderr",
     "output_type": "stream",
     "text": [
      "/var/folders/mn/tx231v5158797chnp22wm9000000gp/T/ipykernel_61094/4004665421.py:76: FutureWarning: Calling float on a single element Series is deprecated and will raise a TypeError in the future. Use float(ser.iloc[0]) instead\n",
      "  mu_ann = float(log_ret.mean()) * TRADING_DAYS\n",
      "/var/folders/mn/tx231v5158797chnp22wm9000000gp/T/ipykernel_61094/4004665421.py:77: FutureWarning: Calling float on a single element Series is deprecated and will raise a TypeError in the future. Use float(ser.iloc[0]) instead\n",
      "  sigma_ann = float(log_ret.std(ddof=1)) * math.sqrt(TRADING_DAYS)\n",
      "/var/folders/mn/tx231v5158797chnp22wm9000000gp/T/ipykernel_61094/4004665421.py:78: FutureWarning: Calling float on a single element Series is deprecated and will raise a TypeError in the future. Use float(ser.iloc[0]) instead\n",
      "  S0 = float(tail.iloc[-1])\n"
     ]
    },
    {
     "name": "stdout",
     "output_type": "stream",
     "text": [
      "  > CREDITACC.NS\n"
     ]
    },
    {
     "name": "stderr",
     "output_type": "stream",
     "text": [
      "/var/folders/mn/tx231v5158797chnp22wm9000000gp/T/ipykernel_61094/4004665421.py:76: FutureWarning: Calling float on a single element Series is deprecated and will raise a TypeError in the future. Use float(ser.iloc[0]) instead\n",
      "  mu_ann = float(log_ret.mean()) * TRADING_DAYS\n",
      "/var/folders/mn/tx231v5158797chnp22wm9000000gp/T/ipykernel_61094/4004665421.py:77: FutureWarning: Calling float on a single element Series is deprecated and will raise a TypeError in the future. Use float(ser.iloc[0]) instead\n",
      "  sigma_ann = float(log_ret.std(ddof=1)) * math.sqrt(TRADING_DAYS)\n",
      "/var/folders/mn/tx231v5158797chnp22wm9000000gp/T/ipykernel_61094/4004665421.py:78: FutureWarning: Calling float on a single element Series is deprecated and will raise a TypeError in the future. Use float(ser.iloc[0]) instead\n",
      "  S0 = float(tail.iloc[-1])\n"
     ]
    },
    {
     "name": "stdout",
     "output_type": "stream",
     "text": [
      "  > CROMPTON.NS\n"
     ]
    },
    {
     "name": "stderr",
     "output_type": "stream",
     "text": [
      "/var/folders/mn/tx231v5158797chnp22wm9000000gp/T/ipykernel_61094/4004665421.py:76: FutureWarning: Calling float on a single element Series is deprecated and will raise a TypeError in the future. Use float(ser.iloc[0]) instead\n",
      "  mu_ann = float(log_ret.mean()) * TRADING_DAYS\n",
      "/var/folders/mn/tx231v5158797chnp22wm9000000gp/T/ipykernel_61094/4004665421.py:77: FutureWarning: Calling float on a single element Series is deprecated and will raise a TypeError in the future. Use float(ser.iloc[0]) instead\n",
      "  sigma_ann = float(log_ret.std(ddof=1)) * math.sqrt(TRADING_DAYS)\n",
      "/var/folders/mn/tx231v5158797chnp22wm9000000gp/T/ipykernel_61094/4004665421.py:78: FutureWarning: Calling float on a single element Series is deprecated and will raise a TypeError in the future. Use float(ser.iloc[0]) instead\n",
      "  S0 = float(tail.iloc[-1])\n"
     ]
    },
    {
     "name": "stdout",
     "output_type": "stream",
     "text": [
      "  > CUMMINSIND.NS\n"
     ]
    },
    {
     "name": "stderr",
     "output_type": "stream",
     "text": [
      "/var/folders/mn/tx231v5158797chnp22wm9000000gp/T/ipykernel_61094/4004665421.py:76: FutureWarning: Calling float on a single element Series is deprecated and will raise a TypeError in the future. Use float(ser.iloc[0]) instead\n",
      "  mu_ann = float(log_ret.mean()) * TRADING_DAYS\n",
      "/var/folders/mn/tx231v5158797chnp22wm9000000gp/T/ipykernel_61094/4004665421.py:77: FutureWarning: Calling float on a single element Series is deprecated and will raise a TypeError in the future. Use float(ser.iloc[0]) instead\n",
      "  sigma_ann = float(log_ret.std(ddof=1)) * math.sqrt(TRADING_DAYS)\n",
      "/var/folders/mn/tx231v5158797chnp22wm9000000gp/T/ipykernel_61094/4004665421.py:78: FutureWarning: Calling float on a single element Series is deprecated and will raise a TypeError in the future. Use float(ser.iloc[0]) instead\n",
      "  S0 = float(tail.iloc[-1])\n"
     ]
    },
    {
     "name": "stdout",
     "output_type": "stream",
     "text": [
      "  > CYIENT.NS\n"
     ]
    },
    {
     "name": "stderr",
     "output_type": "stream",
     "text": [
      "/var/folders/mn/tx231v5158797chnp22wm9000000gp/T/ipykernel_61094/4004665421.py:76: FutureWarning: Calling float on a single element Series is deprecated and will raise a TypeError in the future. Use float(ser.iloc[0]) instead\n",
      "  mu_ann = float(log_ret.mean()) * TRADING_DAYS\n",
      "/var/folders/mn/tx231v5158797chnp22wm9000000gp/T/ipykernel_61094/4004665421.py:77: FutureWarning: Calling float on a single element Series is deprecated and will raise a TypeError in the future. Use float(ser.iloc[0]) instead\n",
      "  sigma_ann = float(log_ret.std(ddof=1)) * math.sqrt(TRADING_DAYS)\n",
      "/var/folders/mn/tx231v5158797chnp22wm9000000gp/T/ipykernel_61094/4004665421.py:78: FutureWarning: Calling float on a single element Series is deprecated and will raise a TypeError in the future. Use float(ser.iloc[0]) instead\n",
      "  S0 = float(tail.iloc[-1])\n"
     ]
    },
    {
     "name": "stdout",
     "output_type": "stream",
     "text": [
      "  > DCMSHRIRAM.NS\n"
     ]
    },
    {
     "name": "stderr",
     "output_type": "stream",
     "text": [
      "/var/folders/mn/tx231v5158797chnp22wm9000000gp/T/ipykernel_61094/4004665421.py:76: FutureWarning: Calling float on a single element Series is deprecated and will raise a TypeError in the future. Use float(ser.iloc[0]) instead\n",
      "  mu_ann = float(log_ret.mean()) * TRADING_DAYS\n",
      "/var/folders/mn/tx231v5158797chnp22wm9000000gp/T/ipykernel_61094/4004665421.py:77: FutureWarning: Calling float on a single element Series is deprecated and will raise a TypeError in the future. Use float(ser.iloc[0]) instead\n",
      "  sigma_ann = float(log_ret.std(ddof=1)) * math.sqrt(TRADING_DAYS)\n",
      "/var/folders/mn/tx231v5158797chnp22wm9000000gp/T/ipykernel_61094/4004665421.py:78: FutureWarning: Calling float on a single element Series is deprecated and will raise a TypeError in the future. Use float(ser.iloc[0]) instead\n",
      "  S0 = float(tail.iloc[-1])\n"
     ]
    },
    {
     "name": "stdout",
     "output_type": "stream",
     "text": [
      "  > DLF.NS\n"
     ]
    },
    {
     "name": "stderr",
     "output_type": "stream",
     "text": [
      "/var/folders/mn/tx231v5158797chnp22wm9000000gp/T/ipykernel_61094/4004665421.py:76: FutureWarning: Calling float on a single element Series is deprecated and will raise a TypeError in the future. Use float(ser.iloc[0]) instead\n",
      "  mu_ann = float(log_ret.mean()) * TRADING_DAYS\n",
      "/var/folders/mn/tx231v5158797chnp22wm9000000gp/T/ipykernel_61094/4004665421.py:77: FutureWarning: Calling float on a single element Series is deprecated and will raise a TypeError in the future. Use float(ser.iloc[0]) instead\n",
      "  sigma_ann = float(log_ret.std(ddof=1)) * math.sqrt(TRADING_DAYS)\n",
      "/var/folders/mn/tx231v5158797chnp22wm9000000gp/T/ipykernel_61094/4004665421.py:78: FutureWarning: Calling float on a single element Series is deprecated and will raise a TypeError in the future. Use float(ser.iloc[0]) instead\n",
      "  S0 = float(tail.iloc[-1])\n"
     ]
    },
    {
     "name": "stdout",
     "output_type": "stream",
     "text": [
      "  > DOMS.NS\n"
     ]
    },
    {
     "name": "stderr",
     "output_type": "stream",
     "text": [
      "/var/folders/mn/tx231v5158797chnp22wm9000000gp/T/ipykernel_61094/4004665421.py:76: FutureWarning: Calling float on a single element Series is deprecated and will raise a TypeError in the future. Use float(ser.iloc[0]) instead\n",
      "  mu_ann = float(log_ret.mean()) * TRADING_DAYS\n",
      "/var/folders/mn/tx231v5158797chnp22wm9000000gp/T/ipykernel_61094/4004665421.py:77: FutureWarning: Calling float on a single element Series is deprecated and will raise a TypeError in the future. Use float(ser.iloc[0]) instead\n",
      "  sigma_ann = float(log_ret.std(ddof=1)) * math.sqrt(TRADING_DAYS)\n",
      "/var/folders/mn/tx231v5158797chnp22wm9000000gp/T/ipykernel_61094/4004665421.py:78: FutureWarning: Calling float on a single element Series is deprecated and will raise a TypeError in the future. Use float(ser.iloc[0]) instead\n",
      "  S0 = float(tail.iloc[-1])\n"
     ]
    },
    {
     "name": "stdout",
     "output_type": "stream",
     "text": [
      "  > DABUR.NS\n"
     ]
    },
    {
     "name": "stderr",
     "output_type": "stream",
     "text": [
      "/var/folders/mn/tx231v5158797chnp22wm9000000gp/T/ipykernel_61094/4004665421.py:76: FutureWarning: Calling float on a single element Series is deprecated and will raise a TypeError in the future. Use float(ser.iloc[0]) instead\n",
      "  mu_ann = float(log_ret.mean()) * TRADING_DAYS\n",
      "/var/folders/mn/tx231v5158797chnp22wm9000000gp/T/ipykernel_61094/4004665421.py:77: FutureWarning: Calling float on a single element Series is deprecated and will raise a TypeError in the future. Use float(ser.iloc[0]) instead\n",
      "  sigma_ann = float(log_ret.std(ddof=1)) * math.sqrt(TRADING_DAYS)\n",
      "/var/folders/mn/tx231v5158797chnp22wm9000000gp/T/ipykernel_61094/4004665421.py:78: FutureWarning: Calling float on a single element Series is deprecated and will raise a TypeError in the future. Use float(ser.iloc[0]) instead\n",
      "  S0 = float(tail.iloc[-1])\n"
     ]
    },
    {
     "name": "stdout",
     "output_type": "stream",
     "text": [
      "  > DALBHARAT.NS\n"
     ]
    },
    {
     "name": "stderr",
     "output_type": "stream",
     "text": [
      "/var/folders/mn/tx231v5158797chnp22wm9000000gp/T/ipykernel_61094/4004665421.py:76: FutureWarning: Calling float on a single element Series is deprecated and will raise a TypeError in the future. Use float(ser.iloc[0]) instead\n",
      "  mu_ann = float(log_ret.mean()) * TRADING_DAYS\n",
      "/var/folders/mn/tx231v5158797chnp22wm9000000gp/T/ipykernel_61094/4004665421.py:77: FutureWarning: Calling float on a single element Series is deprecated and will raise a TypeError in the future. Use float(ser.iloc[0]) instead\n",
      "  sigma_ann = float(log_ret.std(ddof=1)) * math.sqrt(TRADING_DAYS)\n",
      "/var/folders/mn/tx231v5158797chnp22wm9000000gp/T/ipykernel_61094/4004665421.py:78: FutureWarning: Calling float on a single element Series is deprecated and will raise a TypeError in the future. Use float(ser.iloc[0]) instead\n",
      "  S0 = float(tail.iloc[-1])\n"
     ]
    },
    {
     "name": "stdout",
     "output_type": "stream",
     "text": [
      "  > DATAPATTNS.NS\n"
     ]
    },
    {
     "name": "stderr",
     "output_type": "stream",
     "text": [
      "/var/folders/mn/tx231v5158797chnp22wm9000000gp/T/ipykernel_61094/4004665421.py:76: FutureWarning: Calling float on a single element Series is deprecated and will raise a TypeError in the future. Use float(ser.iloc[0]) instead\n",
      "  mu_ann = float(log_ret.mean()) * TRADING_DAYS\n",
      "/var/folders/mn/tx231v5158797chnp22wm9000000gp/T/ipykernel_61094/4004665421.py:77: FutureWarning: Calling float on a single element Series is deprecated and will raise a TypeError in the future. Use float(ser.iloc[0]) instead\n",
      "  sigma_ann = float(log_ret.std(ddof=1)) * math.sqrt(TRADING_DAYS)\n",
      "/var/folders/mn/tx231v5158797chnp22wm9000000gp/T/ipykernel_61094/4004665421.py:78: FutureWarning: Calling float on a single element Series is deprecated and will raise a TypeError in the future. Use float(ser.iloc[0]) instead\n",
      "  S0 = float(tail.iloc[-1])\n"
     ]
    },
    {
     "name": "stdout",
     "output_type": "stream",
     "text": [
      "  > DEEPAKFERT.NS\n"
     ]
    },
    {
     "name": "stderr",
     "output_type": "stream",
     "text": [
      "/var/folders/mn/tx231v5158797chnp22wm9000000gp/T/ipykernel_61094/4004665421.py:76: FutureWarning: Calling float on a single element Series is deprecated and will raise a TypeError in the future. Use float(ser.iloc[0]) instead\n",
      "  mu_ann = float(log_ret.mean()) * TRADING_DAYS\n",
      "/var/folders/mn/tx231v5158797chnp22wm9000000gp/T/ipykernel_61094/4004665421.py:77: FutureWarning: Calling float on a single element Series is deprecated and will raise a TypeError in the future. Use float(ser.iloc[0]) instead\n",
      "  sigma_ann = float(log_ret.std(ddof=1)) * math.sqrt(TRADING_DAYS)\n",
      "/var/folders/mn/tx231v5158797chnp22wm9000000gp/T/ipykernel_61094/4004665421.py:78: FutureWarning: Calling float on a single element Series is deprecated and will raise a TypeError in the future. Use float(ser.iloc[0]) instead\n",
      "  S0 = float(tail.iloc[-1])\n"
     ]
    },
    {
     "name": "stdout",
     "output_type": "stream",
     "text": [
      "  > DEEPAKNTR.NS\n"
     ]
    },
    {
     "name": "stderr",
     "output_type": "stream",
     "text": [
      "/var/folders/mn/tx231v5158797chnp22wm9000000gp/T/ipykernel_61094/4004665421.py:76: FutureWarning: Calling float on a single element Series is deprecated and will raise a TypeError in the future. Use float(ser.iloc[0]) instead\n",
      "  mu_ann = float(log_ret.mean()) * TRADING_DAYS\n",
      "/var/folders/mn/tx231v5158797chnp22wm9000000gp/T/ipykernel_61094/4004665421.py:77: FutureWarning: Calling float on a single element Series is deprecated and will raise a TypeError in the future. Use float(ser.iloc[0]) instead\n",
      "  sigma_ann = float(log_ret.std(ddof=1)) * math.sqrt(TRADING_DAYS)\n",
      "/var/folders/mn/tx231v5158797chnp22wm9000000gp/T/ipykernel_61094/4004665421.py:78: FutureWarning: Calling float on a single element Series is deprecated and will raise a TypeError in the future. Use float(ser.iloc[0]) instead\n",
      "  S0 = float(tail.iloc[-1])\n"
     ]
    },
    {
     "name": "stdout",
     "output_type": "stream",
     "text": [
      "  > DELHIVERY.NS\n"
     ]
    },
    {
     "name": "stderr",
     "output_type": "stream",
     "text": [
      "/var/folders/mn/tx231v5158797chnp22wm9000000gp/T/ipykernel_61094/4004665421.py:76: FutureWarning: Calling float on a single element Series is deprecated and will raise a TypeError in the future. Use float(ser.iloc[0]) instead\n",
      "  mu_ann = float(log_ret.mean()) * TRADING_DAYS\n",
      "/var/folders/mn/tx231v5158797chnp22wm9000000gp/T/ipykernel_61094/4004665421.py:77: FutureWarning: Calling float on a single element Series is deprecated and will raise a TypeError in the future. Use float(ser.iloc[0]) instead\n",
      "  sigma_ann = float(log_ret.std(ddof=1)) * math.sqrt(TRADING_DAYS)\n",
      "/var/folders/mn/tx231v5158797chnp22wm9000000gp/T/ipykernel_61094/4004665421.py:78: FutureWarning: Calling float on a single element Series is deprecated and will raise a TypeError in the future. Use float(ser.iloc[0]) instead\n",
      "  S0 = float(tail.iloc[-1])\n"
     ]
    },
    {
     "name": "stdout",
     "output_type": "stream",
     "text": [
      "  > DEVYANI.NS\n"
     ]
    },
    {
     "name": "stderr",
     "output_type": "stream",
     "text": [
      "/var/folders/mn/tx231v5158797chnp22wm9000000gp/T/ipykernel_61094/4004665421.py:76: FutureWarning: Calling float on a single element Series is deprecated and will raise a TypeError in the future. Use float(ser.iloc[0]) instead\n",
      "  mu_ann = float(log_ret.mean()) * TRADING_DAYS\n",
      "/var/folders/mn/tx231v5158797chnp22wm9000000gp/T/ipykernel_61094/4004665421.py:77: FutureWarning: Calling float on a single element Series is deprecated and will raise a TypeError in the future. Use float(ser.iloc[0]) instead\n",
      "  sigma_ann = float(log_ret.std(ddof=1)) * math.sqrt(TRADING_DAYS)\n",
      "/var/folders/mn/tx231v5158797chnp22wm9000000gp/T/ipykernel_61094/4004665421.py:78: FutureWarning: Calling float on a single element Series is deprecated and will raise a TypeError in the future. Use float(ser.iloc[0]) instead\n",
      "  S0 = float(tail.iloc[-1])\n"
     ]
    },
    {
     "name": "stdout",
     "output_type": "stream",
     "text": [
      "  > DIVISLAB.NS\n"
     ]
    },
    {
     "name": "stderr",
     "output_type": "stream",
     "text": [
      "/var/folders/mn/tx231v5158797chnp22wm9000000gp/T/ipykernel_61094/4004665421.py:76: FutureWarning: Calling float on a single element Series is deprecated and will raise a TypeError in the future. Use float(ser.iloc[0]) instead\n",
      "  mu_ann = float(log_ret.mean()) * TRADING_DAYS\n",
      "/var/folders/mn/tx231v5158797chnp22wm9000000gp/T/ipykernel_61094/4004665421.py:77: FutureWarning: Calling float on a single element Series is deprecated and will raise a TypeError in the future. Use float(ser.iloc[0]) instead\n",
      "  sigma_ann = float(log_ret.std(ddof=1)) * math.sqrt(TRADING_DAYS)\n",
      "/var/folders/mn/tx231v5158797chnp22wm9000000gp/T/ipykernel_61094/4004665421.py:78: FutureWarning: Calling float on a single element Series is deprecated and will raise a TypeError in the future. Use float(ser.iloc[0]) instead\n",
      "  S0 = float(tail.iloc[-1])\n"
     ]
    },
    {
     "name": "stdout",
     "output_type": "stream",
     "text": [
      "  > DIXON.NS\n"
     ]
    },
    {
     "name": "stderr",
     "output_type": "stream",
     "text": [
      "/var/folders/mn/tx231v5158797chnp22wm9000000gp/T/ipykernel_61094/4004665421.py:76: FutureWarning: Calling float on a single element Series is deprecated and will raise a TypeError in the future. Use float(ser.iloc[0]) instead\n",
      "  mu_ann = float(log_ret.mean()) * TRADING_DAYS\n",
      "/var/folders/mn/tx231v5158797chnp22wm9000000gp/T/ipykernel_61094/4004665421.py:77: FutureWarning: Calling float on a single element Series is deprecated and will raise a TypeError in the future. Use float(ser.iloc[0]) instead\n",
      "  sigma_ann = float(log_ret.std(ddof=1)) * math.sqrt(TRADING_DAYS)\n",
      "/var/folders/mn/tx231v5158797chnp22wm9000000gp/T/ipykernel_61094/4004665421.py:78: FutureWarning: Calling float on a single element Series is deprecated and will raise a TypeError in the future. Use float(ser.iloc[0]) instead\n",
      "  S0 = float(tail.iloc[-1])\n"
     ]
    },
    {
     "name": "stdout",
     "output_type": "stream",
     "text": [
      "  > LALPATHLAB.NS\n"
     ]
    },
    {
     "name": "stderr",
     "output_type": "stream",
     "text": [
      "/var/folders/mn/tx231v5158797chnp22wm9000000gp/T/ipykernel_61094/4004665421.py:76: FutureWarning: Calling float on a single element Series is deprecated and will raise a TypeError in the future. Use float(ser.iloc[0]) instead\n",
      "  mu_ann = float(log_ret.mean()) * TRADING_DAYS\n",
      "/var/folders/mn/tx231v5158797chnp22wm9000000gp/T/ipykernel_61094/4004665421.py:77: FutureWarning: Calling float on a single element Series is deprecated and will raise a TypeError in the future. Use float(ser.iloc[0]) instead\n",
      "  sigma_ann = float(log_ret.std(ddof=1)) * math.sqrt(TRADING_DAYS)\n",
      "/var/folders/mn/tx231v5158797chnp22wm9000000gp/T/ipykernel_61094/4004665421.py:78: FutureWarning: Calling float on a single element Series is deprecated and will raise a TypeError in the future. Use float(ser.iloc[0]) instead\n",
      "  S0 = float(tail.iloc[-1])\n"
     ]
    },
    {
     "name": "stdout",
     "output_type": "stream",
     "text": [
      "  > DRREDDY.NS\n"
     ]
    },
    {
     "name": "stderr",
     "output_type": "stream",
     "text": [
      "/var/folders/mn/tx231v5158797chnp22wm9000000gp/T/ipykernel_61094/4004665421.py:76: FutureWarning: Calling float on a single element Series is deprecated and will raise a TypeError in the future. Use float(ser.iloc[0]) instead\n",
      "  mu_ann = float(log_ret.mean()) * TRADING_DAYS\n",
      "/var/folders/mn/tx231v5158797chnp22wm9000000gp/T/ipykernel_61094/4004665421.py:77: FutureWarning: Calling float on a single element Series is deprecated and will raise a TypeError in the future. Use float(ser.iloc[0]) instead\n",
      "  sigma_ann = float(log_ret.std(ddof=1)) * math.sqrt(TRADING_DAYS)\n",
      "/var/folders/mn/tx231v5158797chnp22wm9000000gp/T/ipykernel_61094/4004665421.py:78: FutureWarning: Calling float on a single element Series is deprecated and will raise a TypeError in the future. Use float(ser.iloc[0]) instead\n",
      "  S0 = float(tail.iloc[-1])\n"
     ]
    },
    {
     "name": "stdout",
     "output_type": "stream",
     "text": [
      "  > EIDPARRY.NS\n"
     ]
    },
    {
     "name": "stderr",
     "output_type": "stream",
     "text": [
      "/var/folders/mn/tx231v5158797chnp22wm9000000gp/T/ipykernel_61094/4004665421.py:76: FutureWarning: Calling float on a single element Series is deprecated and will raise a TypeError in the future. Use float(ser.iloc[0]) instead\n",
      "  mu_ann = float(log_ret.mean()) * TRADING_DAYS\n",
      "/var/folders/mn/tx231v5158797chnp22wm9000000gp/T/ipykernel_61094/4004665421.py:77: FutureWarning: Calling float on a single element Series is deprecated and will raise a TypeError in the future. Use float(ser.iloc[0]) instead\n",
      "  sigma_ann = float(log_ret.std(ddof=1)) * math.sqrt(TRADING_DAYS)\n",
      "/var/folders/mn/tx231v5158797chnp22wm9000000gp/T/ipykernel_61094/4004665421.py:78: FutureWarning: Calling float on a single element Series is deprecated and will raise a TypeError in the future. Use float(ser.iloc[0]) instead\n",
      "  S0 = float(tail.iloc[-1])\n"
     ]
    },
    {
     "name": "stdout",
     "output_type": "stream",
     "text": [
      "  > EIHOTEL.NS\n"
     ]
    },
    {
     "name": "stderr",
     "output_type": "stream",
     "text": [
      "/var/folders/mn/tx231v5158797chnp22wm9000000gp/T/ipykernel_61094/4004665421.py:76: FutureWarning: Calling float on a single element Series is deprecated and will raise a TypeError in the future. Use float(ser.iloc[0]) instead\n",
      "  mu_ann = float(log_ret.mean()) * TRADING_DAYS\n",
      "/var/folders/mn/tx231v5158797chnp22wm9000000gp/T/ipykernel_61094/4004665421.py:77: FutureWarning: Calling float on a single element Series is deprecated and will raise a TypeError in the future. Use float(ser.iloc[0]) instead\n",
      "  sigma_ann = float(log_ret.std(ddof=1)) * math.sqrt(TRADING_DAYS)\n",
      "/var/folders/mn/tx231v5158797chnp22wm9000000gp/T/ipykernel_61094/4004665421.py:78: FutureWarning: Calling float on a single element Series is deprecated and will raise a TypeError in the future. Use float(ser.iloc[0]) instead\n",
      "  S0 = float(tail.iloc[-1])\n"
     ]
    },
    {
     "name": "stdout",
     "output_type": "stream",
     "text": [
      "  > EICHERMOT.NS\n"
     ]
    },
    {
     "name": "stderr",
     "output_type": "stream",
     "text": [
      "/var/folders/mn/tx231v5158797chnp22wm9000000gp/T/ipykernel_61094/4004665421.py:76: FutureWarning: Calling float on a single element Series is deprecated and will raise a TypeError in the future. Use float(ser.iloc[0]) instead\n",
      "  mu_ann = float(log_ret.mean()) * TRADING_DAYS\n",
      "/var/folders/mn/tx231v5158797chnp22wm9000000gp/T/ipykernel_61094/4004665421.py:77: FutureWarning: Calling float on a single element Series is deprecated and will raise a TypeError in the future. Use float(ser.iloc[0]) instead\n",
      "  sigma_ann = float(log_ret.std(ddof=1)) * math.sqrt(TRADING_DAYS)\n",
      "/var/folders/mn/tx231v5158797chnp22wm9000000gp/T/ipykernel_61094/4004665421.py:78: FutureWarning: Calling float on a single element Series is deprecated and will raise a TypeError in the future. Use float(ser.iloc[0]) instead\n",
      "  S0 = float(tail.iloc[-1])\n"
     ]
    },
    {
     "name": "stdout",
     "output_type": "stream",
     "text": [
      "  > ELECON.NS\n"
     ]
    },
    {
     "name": "stderr",
     "output_type": "stream",
     "text": [
      "/var/folders/mn/tx231v5158797chnp22wm9000000gp/T/ipykernel_61094/4004665421.py:76: FutureWarning: Calling float on a single element Series is deprecated and will raise a TypeError in the future. Use float(ser.iloc[0]) instead\n",
      "  mu_ann = float(log_ret.mean()) * TRADING_DAYS\n",
      "/var/folders/mn/tx231v5158797chnp22wm9000000gp/T/ipykernel_61094/4004665421.py:77: FutureWarning: Calling float on a single element Series is deprecated and will raise a TypeError in the future. Use float(ser.iloc[0]) instead\n",
      "  sigma_ann = float(log_ret.std(ddof=1)) * math.sqrt(TRADING_DAYS)\n",
      "/var/folders/mn/tx231v5158797chnp22wm9000000gp/T/ipykernel_61094/4004665421.py:78: FutureWarning: Calling float on a single element Series is deprecated and will raise a TypeError in the future. Use float(ser.iloc[0]) instead\n",
      "  S0 = float(tail.iloc[-1])\n"
     ]
    },
    {
     "name": "stdout",
     "output_type": "stream",
     "text": [
      "  > ELGIEQUIP.NS\n"
     ]
    },
    {
     "name": "stderr",
     "output_type": "stream",
     "text": [
      "/var/folders/mn/tx231v5158797chnp22wm9000000gp/T/ipykernel_61094/4004665421.py:76: FutureWarning: Calling float on a single element Series is deprecated and will raise a TypeError in the future. Use float(ser.iloc[0]) instead\n",
      "  mu_ann = float(log_ret.mean()) * TRADING_DAYS\n",
      "/var/folders/mn/tx231v5158797chnp22wm9000000gp/T/ipykernel_61094/4004665421.py:77: FutureWarning: Calling float on a single element Series is deprecated and will raise a TypeError in the future. Use float(ser.iloc[0]) instead\n",
      "  sigma_ann = float(log_ret.std(ddof=1)) * math.sqrt(TRADING_DAYS)\n",
      "/var/folders/mn/tx231v5158797chnp22wm9000000gp/T/ipykernel_61094/4004665421.py:78: FutureWarning: Calling float on a single element Series is deprecated and will raise a TypeError in the future. Use float(ser.iloc[0]) instead\n",
      "  S0 = float(tail.iloc[-1])\n"
     ]
    },
    {
     "name": "stdout",
     "output_type": "stream",
     "text": [
      "  > EMAMILTD.NS\n"
     ]
    },
    {
     "name": "stderr",
     "output_type": "stream",
     "text": [
      "/var/folders/mn/tx231v5158797chnp22wm9000000gp/T/ipykernel_61094/4004665421.py:76: FutureWarning: Calling float on a single element Series is deprecated and will raise a TypeError in the future. Use float(ser.iloc[0]) instead\n",
      "  mu_ann = float(log_ret.mean()) * TRADING_DAYS\n",
      "/var/folders/mn/tx231v5158797chnp22wm9000000gp/T/ipykernel_61094/4004665421.py:77: FutureWarning: Calling float on a single element Series is deprecated and will raise a TypeError in the future. Use float(ser.iloc[0]) instead\n",
      "  sigma_ann = float(log_ret.std(ddof=1)) * math.sqrt(TRADING_DAYS)\n",
      "/var/folders/mn/tx231v5158797chnp22wm9000000gp/T/ipykernel_61094/4004665421.py:78: FutureWarning: Calling float on a single element Series is deprecated and will raise a TypeError in the future. Use float(ser.iloc[0]) instead\n",
      "  S0 = float(tail.iloc[-1])\n"
     ]
    },
    {
     "name": "stdout",
     "output_type": "stream",
     "text": [
      "  > EMCURE.NS\n"
     ]
    },
    {
     "name": "stderr",
     "output_type": "stream",
     "text": [
      "/var/folders/mn/tx231v5158797chnp22wm9000000gp/T/ipykernel_61094/4004665421.py:76: FutureWarning: Calling float on a single element Series is deprecated and will raise a TypeError in the future. Use float(ser.iloc[0]) instead\n",
      "  mu_ann = float(log_ret.mean()) * TRADING_DAYS\n",
      "/var/folders/mn/tx231v5158797chnp22wm9000000gp/T/ipykernel_61094/4004665421.py:77: FutureWarning: Calling float on a single element Series is deprecated and will raise a TypeError in the future. Use float(ser.iloc[0]) instead\n",
      "  sigma_ann = float(log_ret.std(ddof=1)) * math.sqrt(TRADING_DAYS)\n",
      "/var/folders/mn/tx231v5158797chnp22wm9000000gp/T/ipykernel_61094/4004665421.py:78: FutureWarning: Calling float on a single element Series is deprecated and will raise a TypeError in the future. Use float(ser.iloc[0]) instead\n",
      "  S0 = float(tail.iloc[-1])\n"
     ]
    },
    {
     "name": "stdout",
     "output_type": "stream",
     "text": [
      "  > ENDURANCE.NS\n"
     ]
    },
    {
     "name": "stderr",
     "output_type": "stream",
     "text": [
      "/var/folders/mn/tx231v5158797chnp22wm9000000gp/T/ipykernel_61094/4004665421.py:76: FutureWarning: Calling float on a single element Series is deprecated and will raise a TypeError in the future. Use float(ser.iloc[0]) instead\n",
      "  mu_ann = float(log_ret.mean()) * TRADING_DAYS\n",
      "/var/folders/mn/tx231v5158797chnp22wm9000000gp/T/ipykernel_61094/4004665421.py:77: FutureWarning: Calling float on a single element Series is deprecated and will raise a TypeError in the future. Use float(ser.iloc[0]) instead\n",
      "  sigma_ann = float(log_ret.std(ddof=1)) * math.sqrt(TRADING_DAYS)\n",
      "/var/folders/mn/tx231v5158797chnp22wm9000000gp/T/ipykernel_61094/4004665421.py:78: FutureWarning: Calling float on a single element Series is deprecated and will raise a TypeError in the future. Use float(ser.iloc[0]) instead\n",
      "  S0 = float(tail.iloc[-1])\n"
     ]
    },
    {
     "name": "stdout",
     "output_type": "stream",
     "text": [
      "  > ENGINERSIN.NS\n"
     ]
    },
    {
     "name": "stderr",
     "output_type": "stream",
     "text": [
      "/var/folders/mn/tx231v5158797chnp22wm9000000gp/T/ipykernel_61094/4004665421.py:76: FutureWarning: Calling float on a single element Series is deprecated and will raise a TypeError in the future. Use float(ser.iloc[0]) instead\n",
      "  mu_ann = float(log_ret.mean()) * TRADING_DAYS\n",
      "/var/folders/mn/tx231v5158797chnp22wm9000000gp/T/ipykernel_61094/4004665421.py:77: FutureWarning: Calling float on a single element Series is deprecated and will raise a TypeError in the future. Use float(ser.iloc[0]) instead\n",
      "  sigma_ann = float(log_ret.std(ddof=1)) * math.sqrt(TRADING_DAYS)\n",
      "/var/folders/mn/tx231v5158797chnp22wm9000000gp/T/ipykernel_61094/4004665421.py:78: FutureWarning: Calling float on a single element Series is deprecated and will raise a TypeError in the future. Use float(ser.iloc[0]) instead\n",
      "  S0 = float(tail.iloc[-1])\n"
     ]
    },
    {
     "name": "stdout",
     "output_type": "stream",
     "text": [
      "  > ERIS.NS\n"
     ]
    },
    {
     "name": "stderr",
     "output_type": "stream",
     "text": [
      "/var/folders/mn/tx231v5158797chnp22wm9000000gp/T/ipykernel_61094/4004665421.py:76: FutureWarning: Calling float on a single element Series is deprecated and will raise a TypeError in the future. Use float(ser.iloc[0]) instead\n",
      "  mu_ann = float(log_ret.mean()) * TRADING_DAYS\n",
      "/var/folders/mn/tx231v5158797chnp22wm9000000gp/T/ipykernel_61094/4004665421.py:77: FutureWarning: Calling float on a single element Series is deprecated and will raise a TypeError in the future. Use float(ser.iloc[0]) instead\n",
      "  sigma_ann = float(log_ret.std(ddof=1)) * math.sqrt(TRADING_DAYS)\n",
      "/var/folders/mn/tx231v5158797chnp22wm9000000gp/T/ipykernel_61094/4004665421.py:78: FutureWarning: Calling float on a single element Series is deprecated and will raise a TypeError in the future. Use float(ser.iloc[0]) instead\n",
      "  S0 = float(tail.iloc[-1])\n"
     ]
    },
    {
     "name": "stdout",
     "output_type": "stream",
     "text": [
      "  > ESCORTS.NS\n"
     ]
    },
    {
     "name": "stderr",
     "output_type": "stream",
     "text": [
      "/var/folders/mn/tx231v5158797chnp22wm9000000gp/T/ipykernel_61094/4004665421.py:76: FutureWarning: Calling float on a single element Series is deprecated and will raise a TypeError in the future. Use float(ser.iloc[0]) instead\n",
      "  mu_ann = float(log_ret.mean()) * TRADING_DAYS\n",
      "/var/folders/mn/tx231v5158797chnp22wm9000000gp/T/ipykernel_61094/4004665421.py:77: FutureWarning: Calling float on a single element Series is deprecated and will raise a TypeError in the future. Use float(ser.iloc[0]) instead\n",
      "  sigma_ann = float(log_ret.std(ddof=1)) * math.sqrt(TRADING_DAYS)\n",
      "/var/folders/mn/tx231v5158797chnp22wm9000000gp/T/ipykernel_61094/4004665421.py:78: FutureWarning: Calling float on a single element Series is deprecated and will raise a TypeError in the future. Use float(ser.iloc[0]) instead\n",
      "  S0 = float(tail.iloc[-1])\n",
      "/var/folders/mn/tx231v5158797chnp22wm9000000gp/T/ipykernel_61094/4004665421.py:76: FutureWarning: Calling float on a single element Series is deprecated and will raise a TypeError in the future. Use float(ser.iloc[0]) instead\n",
      "  mu_ann = float(log_ret.mean()) * TRADING_DAYS\n",
      "/var/folders/mn/tx231v5158797chnp22wm9000000gp/T/ipykernel_61094/4004665421.py:77: FutureWarning: Calling float on a single element Series is deprecated and will raise a TypeError in the future. Use float(ser.iloc[0]) instead\n",
      "  sigma_ann = float(log_ret.std(ddof=1)) * math.sqrt(TRADING_DAYS)\n",
      "/var/folders/mn/tx231v5158797chnp22wm9000000gp/T/ipykernel_61094/4004665421.py:78: FutureWarning: Calling float on a single element Series is deprecated and will raise a TypeError in the future. Use float(ser.iloc[0]) instead\n",
      "  S0 = float(tail.iloc[-1])\n"
     ]
    },
    {
     "name": "stdout",
     "output_type": "stream",
     "text": [
      "  > ETERNAL.NS\n",
      "  > EXIDEIND.NS\n"
     ]
    },
    {
     "name": "stderr",
     "output_type": "stream",
     "text": [
      "/var/folders/mn/tx231v5158797chnp22wm9000000gp/T/ipykernel_61094/4004665421.py:76: FutureWarning: Calling float on a single element Series is deprecated and will raise a TypeError in the future. Use float(ser.iloc[0]) instead\n",
      "  mu_ann = float(log_ret.mean()) * TRADING_DAYS\n",
      "/var/folders/mn/tx231v5158797chnp22wm9000000gp/T/ipykernel_61094/4004665421.py:77: FutureWarning: Calling float on a single element Series is deprecated and will raise a TypeError in the future. Use float(ser.iloc[0]) instead\n",
      "  sigma_ann = float(log_ret.std(ddof=1)) * math.sqrt(TRADING_DAYS)\n",
      "/var/folders/mn/tx231v5158797chnp22wm9000000gp/T/ipykernel_61094/4004665421.py:78: FutureWarning: Calling float on a single element Series is deprecated and will raise a TypeError in the future. Use float(ser.iloc[0]) instead\n",
      "  S0 = float(tail.iloc[-1])\n"
     ]
    },
    {
     "name": "stdout",
     "output_type": "stream",
     "text": [
      "  > NYKAA.NS\n"
     ]
    },
    {
     "name": "stderr",
     "output_type": "stream",
     "text": [
      "/var/folders/mn/tx231v5158797chnp22wm9000000gp/T/ipykernel_61094/4004665421.py:76: FutureWarning: Calling float on a single element Series is deprecated and will raise a TypeError in the future. Use float(ser.iloc[0]) instead\n",
      "  mu_ann = float(log_ret.mean()) * TRADING_DAYS\n",
      "/var/folders/mn/tx231v5158797chnp22wm9000000gp/T/ipykernel_61094/4004665421.py:77: FutureWarning: Calling float on a single element Series is deprecated and will raise a TypeError in the future. Use float(ser.iloc[0]) instead\n",
      "  sigma_ann = float(log_ret.std(ddof=1)) * math.sqrt(TRADING_DAYS)\n",
      "/var/folders/mn/tx231v5158797chnp22wm9000000gp/T/ipykernel_61094/4004665421.py:78: FutureWarning: Calling float on a single element Series is deprecated and will raise a TypeError in the future. Use float(ser.iloc[0]) instead\n",
      "  S0 = float(tail.iloc[-1])\n"
     ]
    },
    {
     "name": "stdout",
     "output_type": "stream",
     "text": [
      "  > FEDERALBNK.NS\n"
     ]
    },
    {
     "name": "stderr",
     "output_type": "stream",
     "text": [
      "/var/folders/mn/tx231v5158797chnp22wm9000000gp/T/ipykernel_61094/4004665421.py:76: FutureWarning: Calling float on a single element Series is deprecated and will raise a TypeError in the future. Use float(ser.iloc[0]) instead\n",
      "  mu_ann = float(log_ret.mean()) * TRADING_DAYS\n",
      "/var/folders/mn/tx231v5158797chnp22wm9000000gp/T/ipykernel_61094/4004665421.py:77: FutureWarning: Calling float on a single element Series is deprecated and will raise a TypeError in the future. Use float(ser.iloc[0]) instead\n",
      "  sigma_ann = float(log_ret.std(ddof=1)) * math.sqrt(TRADING_DAYS)\n",
      "/var/folders/mn/tx231v5158797chnp22wm9000000gp/T/ipykernel_61094/4004665421.py:78: FutureWarning: Calling float on a single element Series is deprecated and will raise a TypeError in the future. Use float(ser.iloc[0]) instead\n",
      "  S0 = float(tail.iloc[-1])\n"
     ]
    },
    {
     "name": "stdout",
     "output_type": "stream",
     "text": [
      "  > FACT.NS\n"
     ]
    },
    {
     "name": "stderr",
     "output_type": "stream",
     "text": [
      "/var/folders/mn/tx231v5158797chnp22wm9000000gp/T/ipykernel_61094/4004665421.py:76: FutureWarning: Calling float on a single element Series is deprecated and will raise a TypeError in the future. Use float(ser.iloc[0]) instead\n",
      "  mu_ann = float(log_ret.mean()) * TRADING_DAYS\n",
      "/var/folders/mn/tx231v5158797chnp22wm9000000gp/T/ipykernel_61094/4004665421.py:77: FutureWarning: Calling float on a single element Series is deprecated and will raise a TypeError in the future. Use float(ser.iloc[0]) instead\n",
      "  sigma_ann = float(log_ret.std(ddof=1)) * math.sqrt(TRADING_DAYS)\n",
      "/var/folders/mn/tx231v5158797chnp22wm9000000gp/T/ipykernel_61094/4004665421.py:78: FutureWarning: Calling float on a single element Series is deprecated and will raise a TypeError in the future. Use float(ser.iloc[0]) instead\n",
      "  S0 = float(tail.iloc[-1])\n"
     ]
    },
    {
     "name": "stdout",
     "output_type": "stream",
     "text": [
      "  > FINCABLES.NS\n"
     ]
    },
    {
     "name": "stderr",
     "output_type": "stream",
     "text": [
      "/var/folders/mn/tx231v5158797chnp22wm9000000gp/T/ipykernel_61094/4004665421.py:76: FutureWarning: Calling float on a single element Series is deprecated and will raise a TypeError in the future. Use float(ser.iloc[0]) instead\n",
      "  mu_ann = float(log_ret.mean()) * TRADING_DAYS\n",
      "/var/folders/mn/tx231v5158797chnp22wm9000000gp/T/ipykernel_61094/4004665421.py:77: FutureWarning: Calling float on a single element Series is deprecated and will raise a TypeError in the future. Use float(ser.iloc[0]) instead\n",
      "  sigma_ann = float(log_ret.std(ddof=1)) * math.sqrt(TRADING_DAYS)\n",
      "/var/folders/mn/tx231v5158797chnp22wm9000000gp/T/ipykernel_61094/4004665421.py:78: FutureWarning: Calling float on a single element Series is deprecated and will raise a TypeError in the future. Use float(ser.iloc[0]) instead\n",
      "  S0 = float(tail.iloc[-1])\n"
     ]
    },
    {
     "name": "stdout",
     "output_type": "stream",
     "text": [
      "  > FINPIPE.NS\n"
     ]
    },
    {
     "name": "stderr",
     "output_type": "stream",
     "text": [
      "/var/folders/mn/tx231v5158797chnp22wm9000000gp/T/ipykernel_61094/4004665421.py:76: FutureWarning: Calling float on a single element Series is deprecated and will raise a TypeError in the future. Use float(ser.iloc[0]) instead\n",
      "  mu_ann = float(log_ret.mean()) * TRADING_DAYS\n",
      "/var/folders/mn/tx231v5158797chnp22wm9000000gp/T/ipykernel_61094/4004665421.py:77: FutureWarning: Calling float on a single element Series is deprecated and will raise a TypeError in the future. Use float(ser.iloc[0]) instead\n",
      "  sigma_ann = float(log_ret.std(ddof=1)) * math.sqrt(TRADING_DAYS)\n",
      "/var/folders/mn/tx231v5158797chnp22wm9000000gp/T/ipykernel_61094/4004665421.py:78: FutureWarning: Calling float on a single element Series is deprecated and will raise a TypeError in the future. Use float(ser.iloc[0]) instead\n",
      "  S0 = float(tail.iloc[-1])\n"
     ]
    },
    {
     "name": "stdout",
     "output_type": "stream",
     "text": [
      "  > FSL.NS\n"
     ]
    },
    {
     "name": "stderr",
     "output_type": "stream",
     "text": [
      "/var/folders/mn/tx231v5158797chnp22wm9000000gp/T/ipykernel_61094/4004665421.py:76: FutureWarning: Calling float on a single element Series is deprecated and will raise a TypeError in the future. Use float(ser.iloc[0]) instead\n",
      "  mu_ann = float(log_ret.mean()) * TRADING_DAYS\n",
      "/var/folders/mn/tx231v5158797chnp22wm9000000gp/T/ipykernel_61094/4004665421.py:77: FutureWarning: Calling float on a single element Series is deprecated and will raise a TypeError in the future. Use float(ser.iloc[0]) instead\n",
      "  sigma_ann = float(log_ret.std(ddof=1)) * math.sqrt(TRADING_DAYS)\n",
      "/var/folders/mn/tx231v5158797chnp22wm9000000gp/T/ipykernel_61094/4004665421.py:78: FutureWarning: Calling float on a single element Series is deprecated and will raise a TypeError in the future. Use float(ser.iloc[0]) instead\n",
      "  S0 = float(tail.iloc[-1])\n"
     ]
    },
    {
     "name": "stdout",
     "output_type": "stream",
     "text": [
      "  > FIVESTAR.NS\n"
     ]
    },
    {
     "name": "stderr",
     "output_type": "stream",
     "text": [
      "/var/folders/mn/tx231v5158797chnp22wm9000000gp/T/ipykernel_61094/4004665421.py:76: FutureWarning: Calling float on a single element Series is deprecated and will raise a TypeError in the future. Use float(ser.iloc[0]) instead\n",
      "  mu_ann = float(log_ret.mean()) * TRADING_DAYS\n",
      "/var/folders/mn/tx231v5158797chnp22wm9000000gp/T/ipykernel_61094/4004665421.py:77: FutureWarning: Calling float on a single element Series is deprecated and will raise a TypeError in the future. Use float(ser.iloc[0]) instead\n",
      "  sigma_ann = float(log_ret.std(ddof=1)) * math.sqrt(TRADING_DAYS)\n",
      "/var/folders/mn/tx231v5158797chnp22wm9000000gp/T/ipykernel_61094/4004665421.py:78: FutureWarning: Calling float on a single element Series is deprecated and will raise a TypeError in the future. Use float(ser.iloc[0]) instead\n",
      "  S0 = float(tail.iloc[-1])\n"
     ]
    },
    {
     "name": "stdout",
     "output_type": "stream",
     "text": [
      "  > FORTIS.NS\n"
     ]
    },
    {
     "name": "stderr",
     "output_type": "stream",
     "text": [
      "/var/folders/mn/tx231v5158797chnp22wm9000000gp/T/ipykernel_61094/4004665421.py:76: FutureWarning: Calling float on a single element Series is deprecated and will raise a TypeError in the future. Use float(ser.iloc[0]) instead\n",
      "  mu_ann = float(log_ret.mean()) * TRADING_DAYS\n",
      "/var/folders/mn/tx231v5158797chnp22wm9000000gp/T/ipykernel_61094/4004665421.py:77: FutureWarning: Calling float on a single element Series is deprecated and will raise a TypeError in the future. Use float(ser.iloc[0]) instead\n",
      "  sigma_ann = float(log_ret.std(ddof=1)) * math.sqrt(TRADING_DAYS)\n",
      "/var/folders/mn/tx231v5158797chnp22wm9000000gp/T/ipykernel_61094/4004665421.py:78: FutureWarning: Calling float on a single element Series is deprecated and will raise a TypeError in the future. Use float(ser.iloc[0]) instead\n",
      "  S0 = float(tail.iloc[-1])\n"
     ]
    },
    {
     "name": "stdout",
     "output_type": "stream",
     "text": [
      "  > GAIL.NS\n"
     ]
    },
    {
     "name": "stderr",
     "output_type": "stream",
     "text": [
      "/var/folders/mn/tx231v5158797chnp22wm9000000gp/T/ipykernel_61094/4004665421.py:76: FutureWarning: Calling float on a single element Series is deprecated and will raise a TypeError in the future. Use float(ser.iloc[0]) instead\n",
      "  mu_ann = float(log_ret.mean()) * TRADING_DAYS\n",
      "/var/folders/mn/tx231v5158797chnp22wm9000000gp/T/ipykernel_61094/4004665421.py:77: FutureWarning: Calling float on a single element Series is deprecated and will raise a TypeError in the future. Use float(ser.iloc[0]) instead\n",
      "  sigma_ann = float(log_ret.std(ddof=1)) * math.sqrt(TRADING_DAYS)\n",
      "/var/folders/mn/tx231v5158797chnp22wm9000000gp/T/ipykernel_61094/4004665421.py:78: FutureWarning: Calling float on a single element Series is deprecated and will raise a TypeError in the future. Use float(ser.iloc[0]) instead\n",
      "  S0 = float(tail.iloc[-1])\n"
     ]
    },
    {
     "name": "stdout",
     "output_type": "stream",
     "text": [
      "  > GVT&D.NS\n"
     ]
    },
    {
     "name": "stderr",
     "output_type": "stream",
     "text": [
      "/var/folders/mn/tx231v5158797chnp22wm9000000gp/T/ipykernel_61094/4004665421.py:76: FutureWarning: Calling float on a single element Series is deprecated and will raise a TypeError in the future. Use float(ser.iloc[0]) instead\n",
      "  mu_ann = float(log_ret.mean()) * TRADING_DAYS\n",
      "/var/folders/mn/tx231v5158797chnp22wm9000000gp/T/ipykernel_61094/4004665421.py:77: FutureWarning: Calling float on a single element Series is deprecated and will raise a TypeError in the future. Use float(ser.iloc[0]) instead\n",
      "  sigma_ann = float(log_ret.std(ddof=1)) * math.sqrt(TRADING_DAYS)\n",
      "/var/folders/mn/tx231v5158797chnp22wm9000000gp/T/ipykernel_61094/4004665421.py:78: FutureWarning: Calling float on a single element Series is deprecated and will raise a TypeError in the future. Use float(ser.iloc[0]) instead\n",
      "  S0 = float(tail.iloc[-1])\n"
     ]
    },
    {
     "name": "stdout",
     "output_type": "stream",
     "text": [
      "  > GMRAIRPORT.NS\n"
     ]
    },
    {
     "name": "stderr",
     "output_type": "stream",
     "text": [
      "/var/folders/mn/tx231v5158797chnp22wm9000000gp/T/ipykernel_61094/4004665421.py:76: FutureWarning: Calling float on a single element Series is deprecated and will raise a TypeError in the future. Use float(ser.iloc[0]) instead\n",
      "  mu_ann = float(log_ret.mean()) * TRADING_DAYS\n",
      "/var/folders/mn/tx231v5158797chnp22wm9000000gp/T/ipykernel_61094/4004665421.py:77: FutureWarning: Calling float on a single element Series is deprecated and will raise a TypeError in the future. Use float(ser.iloc[0]) instead\n",
      "  sigma_ann = float(log_ret.std(ddof=1)) * math.sqrt(TRADING_DAYS)\n",
      "/var/folders/mn/tx231v5158797chnp22wm9000000gp/T/ipykernel_61094/4004665421.py:78: FutureWarning: Calling float on a single element Series is deprecated and will raise a TypeError in the future. Use float(ser.iloc[0]) instead\n",
      "  S0 = float(tail.iloc[-1])\n"
     ]
    },
    {
     "name": "stdout",
     "output_type": "stream",
     "text": [
      "  > GRSE.NS\n"
     ]
    },
    {
     "name": "stderr",
     "output_type": "stream",
     "text": [
      "/var/folders/mn/tx231v5158797chnp22wm9000000gp/T/ipykernel_61094/4004665421.py:76: FutureWarning: Calling float on a single element Series is deprecated and will raise a TypeError in the future. Use float(ser.iloc[0]) instead\n",
      "  mu_ann = float(log_ret.mean()) * TRADING_DAYS\n",
      "/var/folders/mn/tx231v5158797chnp22wm9000000gp/T/ipykernel_61094/4004665421.py:77: FutureWarning: Calling float on a single element Series is deprecated and will raise a TypeError in the future. Use float(ser.iloc[0]) instead\n",
      "  sigma_ann = float(log_ret.std(ddof=1)) * math.sqrt(TRADING_DAYS)\n",
      "/var/folders/mn/tx231v5158797chnp22wm9000000gp/T/ipykernel_61094/4004665421.py:78: FutureWarning: Calling float on a single element Series is deprecated and will raise a TypeError in the future. Use float(ser.iloc[0]) instead\n",
      "  S0 = float(tail.iloc[-1])\n"
     ]
    },
    {
     "name": "stdout",
     "output_type": "stream",
     "text": [
      "  > GICRE.NS\n"
     ]
    },
    {
     "name": "stderr",
     "output_type": "stream",
     "text": [
      "/var/folders/mn/tx231v5158797chnp22wm9000000gp/T/ipykernel_61094/4004665421.py:76: FutureWarning: Calling float on a single element Series is deprecated and will raise a TypeError in the future. Use float(ser.iloc[0]) instead\n",
      "  mu_ann = float(log_ret.mean()) * TRADING_DAYS\n",
      "/var/folders/mn/tx231v5158797chnp22wm9000000gp/T/ipykernel_61094/4004665421.py:77: FutureWarning: Calling float on a single element Series is deprecated and will raise a TypeError in the future. Use float(ser.iloc[0]) instead\n",
      "  sigma_ann = float(log_ret.std(ddof=1)) * math.sqrt(TRADING_DAYS)\n",
      "/var/folders/mn/tx231v5158797chnp22wm9000000gp/T/ipykernel_61094/4004665421.py:78: FutureWarning: Calling float on a single element Series is deprecated and will raise a TypeError in the future. Use float(ser.iloc[0]) instead\n",
      "  S0 = float(tail.iloc[-1])\n"
     ]
    },
    {
     "name": "stdout",
     "output_type": "stream",
     "text": [
      "  > GILLETTE.NS\n"
     ]
    },
    {
     "name": "stderr",
     "output_type": "stream",
     "text": [
      "/var/folders/mn/tx231v5158797chnp22wm9000000gp/T/ipykernel_61094/4004665421.py:76: FutureWarning: Calling float on a single element Series is deprecated and will raise a TypeError in the future. Use float(ser.iloc[0]) instead\n",
      "  mu_ann = float(log_ret.mean()) * TRADING_DAYS\n",
      "/var/folders/mn/tx231v5158797chnp22wm9000000gp/T/ipykernel_61094/4004665421.py:77: FutureWarning: Calling float on a single element Series is deprecated and will raise a TypeError in the future. Use float(ser.iloc[0]) instead\n",
      "  sigma_ann = float(log_ret.std(ddof=1)) * math.sqrt(TRADING_DAYS)\n",
      "/var/folders/mn/tx231v5158797chnp22wm9000000gp/T/ipykernel_61094/4004665421.py:78: FutureWarning: Calling float on a single element Series is deprecated and will raise a TypeError in the future. Use float(ser.iloc[0]) instead\n",
      "  S0 = float(tail.iloc[-1])\n"
     ]
    },
    {
     "name": "stdout",
     "output_type": "stream",
     "text": [
      "  > GLAND.NS\n"
     ]
    },
    {
     "name": "stderr",
     "output_type": "stream",
     "text": [
      "/var/folders/mn/tx231v5158797chnp22wm9000000gp/T/ipykernel_61094/4004665421.py:76: FutureWarning: Calling float on a single element Series is deprecated and will raise a TypeError in the future. Use float(ser.iloc[0]) instead\n",
      "  mu_ann = float(log_ret.mean()) * TRADING_DAYS\n",
      "/var/folders/mn/tx231v5158797chnp22wm9000000gp/T/ipykernel_61094/4004665421.py:77: FutureWarning: Calling float on a single element Series is deprecated and will raise a TypeError in the future. Use float(ser.iloc[0]) instead\n",
      "  sigma_ann = float(log_ret.std(ddof=1)) * math.sqrt(TRADING_DAYS)\n",
      "/var/folders/mn/tx231v5158797chnp22wm9000000gp/T/ipykernel_61094/4004665421.py:78: FutureWarning: Calling float on a single element Series is deprecated and will raise a TypeError in the future. Use float(ser.iloc[0]) instead\n",
      "  S0 = float(tail.iloc[-1])\n"
     ]
    },
    {
     "name": "stdout",
     "output_type": "stream",
     "text": [
      "  > GLAXO.NS\n"
     ]
    },
    {
     "name": "stderr",
     "output_type": "stream",
     "text": [
      "/var/folders/mn/tx231v5158797chnp22wm9000000gp/T/ipykernel_61094/4004665421.py:76: FutureWarning: Calling float on a single element Series is deprecated and will raise a TypeError in the future. Use float(ser.iloc[0]) instead\n",
      "  mu_ann = float(log_ret.mean()) * TRADING_DAYS\n",
      "/var/folders/mn/tx231v5158797chnp22wm9000000gp/T/ipykernel_61094/4004665421.py:77: FutureWarning: Calling float on a single element Series is deprecated and will raise a TypeError in the future. Use float(ser.iloc[0]) instead\n",
      "  sigma_ann = float(log_ret.std(ddof=1)) * math.sqrt(TRADING_DAYS)\n",
      "/var/folders/mn/tx231v5158797chnp22wm9000000gp/T/ipykernel_61094/4004665421.py:78: FutureWarning: Calling float on a single element Series is deprecated and will raise a TypeError in the future. Use float(ser.iloc[0]) instead\n",
      "  S0 = float(tail.iloc[-1])\n"
     ]
    },
    {
     "name": "stdout",
     "output_type": "stream",
     "text": [
      "  > GLENMARK.NS\n"
     ]
    },
    {
     "name": "stderr",
     "output_type": "stream",
     "text": [
      "/var/folders/mn/tx231v5158797chnp22wm9000000gp/T/ipykernel_61094/4004665421.py:76: FutureWarning: Calling float on a single element Series is deprecated and will raise a TypeError in the future. Use float(ser.iloc[0]) instead\n",
      "  mu_ann = float(log_ret.mean()) * TRADING_DAYS\n",
      "/var/folders/mn/tx231v5158797chnp22wm9000000gp/T/ipykernel_61094/4004665421.py:77: FutureWarning: Calling float on a single element Series is deprecated and will raise a TypeError in the future. Use float(ser.iloc[0]) instead\n",
      "  sigma_ann = float(log_ret.std(ddof=1)) * math.sqrt(TRADING_DAYS)\n",
      "/var/folders/mn/tx231v5158797chnp22wm9000000gp/T/ipykernel_61094/4004665421.py:78: FutureWarning: Calling float on a single element Series is deprecated and will raise a TypeError in the future. Use float(ser.iloc[0]) instead\n",
      "  S0 = float(tail.iloc[-1])\n"
     ]
    },
    {
     "name": "stdout",
     "output_type": "stream",
     "text": [
      "  > MEDANTA.NS\n"
     ]
    },
    {
     "name": "stderr",
     "output_type": "stream",
     "text": [
      "/var/folders/mn/tx231v5158797chnp22wm9000000gp/T/ipykernel_61094/4004665421.py:76: FutureWarning: Calling float on a single element Series is deprecated and will raise a TypeError in the future. Use float(ser.iloc[0]) instead\n",
      "  mu_ann = float(log_ret.mean()) * TRADING_DAYS\n",
      "/var/folders/mn/tx231v5158797chnp22wm9000000gp/T/ipykernel_61094/4004665421.py:77: FutureWarning: Calling float on a single element Series is deprecated and will raise a TypeError in the future. Use float(ser.iloc[0]) instead\n",
      "  sigma_ann = float(log_ret.std(ddof=1)) * math.sqrt(TRADING_DAYS)\n",
      "/var/folders/mn/tx231v5158797chnp22wm9000000gp/T/ipykernel_61094/4004665421.py:78: FutureWarning: Calling float on a single element Series is deprecated and will raise a TypeError in the future. Use float(ser.iloc[0]) instead\n",
      "  S0 = float(tail.iloc[-1])\n"
     ]
    },
    {
     "name": "stdout",
     "output_type": "stream",
     "text": [
      "  > GODIGIT.NS\n"
     ]
    },
    {
     "name": "stderr",
     "output_type": "stream",
     "text": [
      "/var/folders/mn/tx231v5158797chnp22wm9000000gp/T/ipykernel_61094/4004665421.py:76: FutureWarning: Calling float on a single element Series is deprecated and will raise a TypeError in the future. Use float(ser.iloc[0]) instead\n",
      "  mu_ann = float(log_ret.mean()) * TRADING_DAYS\n",
      "/var/folders/mn/tx231v5158797chnp22wm9000000gp/T/ipykernel_61094/4004665421.py:77: FutureWarning: Calling float on a single element Series is deprecated and will raise a TypeError in the future. Use float(ser.iloc[0]) instead\n",
      "  sigma_ann = float(log_ret.std(ddof=1)) * math.sqrt(TRADING_DAYS)\n",
      "/var/folders/mn/tx231v5158797chnp22wm9000000gp/T/ipykernel_61094/4004665421.py:78: FutureWarning: Calling float on a single element Series is deprecated and will raise a TypeError in the future. Use float(ser.iloc[0]) instead\n",
      "  S0 = float(tail.iloc[-1])\n"
     ]
    },
    {
     "name": "stdout",
     "output_type": "stream",
     "text": [
      "  > GPIL.NS\n"
     ]
    },
    {
     "name": "stderr",
     "output_type": "stream",
     "text": [
      "/var/folders/mn/tx231v5158797chnp22wm9000000gp/T/ipykernel_61094/4004665421.py:76: FutureWarning: Calling float on a single element Series is deprecated and will raise a TypeError in the future. Use float(ser.iloc[0]) instead\n",
      "  mu_ann = float(log_ret.mean()) * TRADING_DAYS\n",
      "/var/folders/mn/tx231v5158797chnp22wm9000000gp/T/ipykernel_61094/4004665421.py:77: FutureWarning: Calling float on a single element Series is deprecated and will raise a TypeError in the future. Use float(ser.iloc[0]) instead\n",
      "  sigma_ann = float(log_ret.std(ddof=1)) * math.sqrt(TRADING_DAYS)\n",
      "/var/folders/mn/tx231v5158797chnp22wm9000000gp/T/ipykernel_61094/4004665421.py:78: FutureWarning: Calling float on a single element Series is deprecated and will raise a TypeError in the future. Use float(ser.iloc[0]) instead\n",
      "  S0 = float(tail.iloc[-1])\n"
     ]
    },
    {
     "name": "stdout",
     "output_type": "stream",
     "text": [
      "  > GODFRYPHLP.NS\n"
     ]
    },
    {
     "name": "stderr",
     "output_type": "stream",
     "text": [
      "/var/folders/mn/tx231v5158797chnp22wm9000000gp/T/ipykernel_61094/4004665421.py:76: FutureWarning: Calling float on a single element Series is deprecated and will raise a TypeError in the future. Use float(ser.iloc[0]) instead\n",
      "  mu_ann = float(log_ret.mean()) * TRADING_DAYS\n",
      "/var/folders/mn/tx231v5158797chnp22wm9000000gp/T/ipykernel_61094/4004665421.py:77: FutureWarning: Calling float on a single element Series is deprecated and will raise a TypeError in the future. Use float(ser.iloc[0]) instead\n",
      "  sigma_ann = float(log_ret.std(ddof=1)) * math.sqrt(TRADING_DAYS)\n",
      "/var/folders/mn/tx231v5158797chnp22wm9000000gp/T/ipykernel_61094/4004665421.py:78: FutureWarning: Calling float on a single element Series is deprecated and will raise a TypeError in the future. Use float(ser.iloc[0]) instead\n",
      "  S0 = float(tail.iloc[-1])\n"
     ]
    },
    {
     "name": "stdout",
     "output_type": "stream",
     "text": [
      "  > GODREJAGRO.NS\n"
     ]
    },
    {
     "name": "stderr",
     "output_type": "stream",
     "text": [
      "/var/folders/mn/tx231v5158797chnp22wm9000000gp/T/ipykernel_61094/4004665421.py:76: FutureWarning: Calling float on a single element Series is deprecated and will raise a TypeError in the future. Use float(ser.iloc[0]) instead\n",
      "  mu_ann = float(log_ret.mean()) * TRADING_DAYS\n",
      "/var/folders/mn/tx231v5158797chnp22wm9000000gp/T/ipykernel_61094/4004665421.py:77: FutureWarning: Calling float on a single element Series is deprecated and will raise a TypeError in the future. Use float(ser.iloc[0]) instead\n",
      "  sigma_ann = float(log_ret.std(ddof=1)) * math.sqrt(TRADING_DAYS)\n",
      "/var/folders/mn/tx231v5158797chnp22wm9000000gp/T/ipykernel_61094/4004665421.py:78: FutureWarning: Calling float on a single element Series is deprecated and will raise a TypeError in the future. Use float(ser.iloc[0]) instead\n",
      "  S0 = float(tail.iloc[-1])\n"
     ]
    },
    {
     "name": "stdout",
     "output_type": "stream",
     "text": [
      "  > GODREJCP.NS\n"
     ]
    },
    {
     "name": "stderr",
     "output_type": "stream",
     "text": [
      "/var/folders/mn/tx231v5158797chnp22wm9000000gp/T/ipykernel_61094/4004665421.py:76: FutureWarning: Calling float on a single element Series is deprecated and will raise a TypeError in the future. Use float(ser.iloc[0]) instead\n",
      "  mu_ann = float(log_ret.mean()) * TRADING_DAYS\n",
      "/var/folders/mn/tx231v5158797chnp22wm9000000gp/T/ipykernel_61094/4004665421.py:77: FutureWarning: Calling float on a single element Series is deprecated and will raise a TypeError in the future. Use float(ser.iloc[0]) instead\n",
      "  sigma_ann = float(log_ret.std(ddof=1)) * math.sqrt(TRADING_DAYS)\n",
      "/var/folders/mn/tx231v5158797chnp22wm9000000gp/T/ipykernel_61094/4004665421.py:78: FutureWarning: Calling float on a single element Series is deprecated and will raise a TypeError in the future. Use float(ser.iloc[0]) instead\n",
      "  S0 = float(tail.iloc[-1])\n"
     ]
    },
    {
     "name": "stdout",
     "output_type": "stream",
     "text": [
      "  > GODREJIND.NS\n"
     ]
    },
    {
     "name": "stderr",
     "output_type": "stream",
     "text": [
      "/var/folders/mn/tx231v5158797chnp22wm9000000gp/T/ipykernel_61094/4004665421.py:76: FutureWarning: Calling float on a single element Series is deprecated and will raise a TypeError in the future. Use float(ser.iloc[0]) instead\n",
      "  mu_ann = float(log_ret.mean()) * TRADING_DAYS\n",
      "/var/folders/mn/tx231v5158797chnp22wm9000000gp/T/ipykernel_61094/4004665421.py:77: FutureWarning: Calling float on a single element Series is deprecated and will raise a TypeError in the future. Use float(ser.iloc[0]) instead\n",
      "  sigma_ann = float(log_ret.std(ddof=1)) * math.sqrt(TRADING_DAYS)\n",
      "/var/folders/mn/tx231v5158797chnp22wm9000000gp/T/ipykernel_61094/4004665421.py:78: FutureWarning: Calling float on a single element Series is deprecated and will raise a TypeError in the future. Use float(ser.iloc[0]) instead\n",
      "  S0 = float(tail.iloc[-1])\n"
     ]
    },
    {
     "name": "stdout",
     "output_type": "stream",
     "text": [
      "  > GODREJPROP.NS\n"
     ]
    },
    {
     "name": "stderr",
     "output_type": "stream",
     "text": [
      "/var/folders/mn/tx231v5158797chnp22wm9000000gp/T/ipykernel_61094/4004665421.py:76: FutureWarning: Calling float on a single element Series is deprecated and will raise a TypeError in the future. Use float(ser.iloc[0]) instead\n",
      "  mu_ann = float(log_ret.mean()) * TRADING_DAYS\n",
      "/var/folders/mn/tx231v5158797chnp22wm9000000gp/T/ipykernel_61094/4004665421.py:77: FutureWarning: Calling float on a single element Series is deprecated and will raise a TypeError in the future. Use float(ser.iloc[0]) instead\n",
      "  sigma_ann = float(log_ret.std(ddof=1)) * math.sqrt(TRADING_DAYS)\n",
      "/var/folders/mn/tx231v5158797chnp22wm9000000gp/T/ipykernel_61094/4004665421.py:78: FutureWarning: Calling float on a single element Series is deprecated and will raise a TypeError in the future. Use float(ser.iloc[0]) instead\n",
      "  S0 = float(tail.iloc[-1])\n"
     ]
    },
    {
     "name": "stdout",
     "output_type": "stream",
     "text": [
      "  > GRANULES.NS\n"
     ]
    },
    {
     "name": "stderr",
     "output_type": "stream",
     "text": [
      "/var/folders/mn/tx231v5158797chnp22wm9000000gp/T/ipykernel_61094/4004665421.py:76: FutureWarning: Calling float on a single element Series is deprecated and will raise a TypeError in the future. Use float(ser.iloc[0]) instead\n",
      "  mu_ann = float(log_ret.mean()) * TRADING_DAYS\n",
      "/var/folders/mn/tx231v5158797chnp22wm9000000gp/T/ipykernel_61094/4004665421.py:77: FutureWarning: Calling float on a single element Series is deprecated and will raise a TypeError in the future. Use float(ser.iloc[0]) instead\n",
      "  sigma_ann = float(log_ret.std(ddof=1)) * math.sqrt(TRADING_DAYS)\n",
      "/var/folders/mn/tx231v5158797chnp22wm9000000gp/T/ipykernel_61094/4004665421.py:78: FutureWarning: Calling float on a single element Series is deprecated and will raise a TypeError in the future. Use float(ser.iloc[0]) instead\n",
      "  S0 = float(tail.iloc[-1])\n"
     ]
    },
    {
     "name": "stdout",
     "output_type": "stream",
     "text": [
      "  > GRAPHITE.NS\n"
     ]
    },
    {
     "name": "stderr",
     "output_type": "stream",
     "text": [
      "/var/folders/mn/tx231v5158797chnp22wm9000000gp/T/ipykernel_61094/4004665421.py:76: FutureWarning: Calling float on a single element Series is deprecated and will raise a TypeError in the future. Use float(ser.iloc[0]) instead\n",
      "  mu_ann = float(log_ret.mean()) * TRADING_DAYS\n",
      "/var/folders/mn/tx231v5158797chnp22wm9000000gp/T/ipykernel_61094/4004665421.py:77: FutureWarning: Calling float on a single element Series is deprecated and will raise a TypeError in the future. Use float(ser.iloc[0]) instead\n",
      "  sigma_ann = float(log_ret.std(ddof=1)) * math.sqrt(TRADING_DAYS)\n",
      "/var/folders/mn/tx231v5158797chnp22wm9000000gp/T/ipykernel_61094/4004665421.py:78: FutureWarning: Calling float on a single element Series is deprecated and will raise a TypeError in the future. Use float(ser.iloc[0]) instead\n",
      "  S0 = float(tail.iloc[-1])\n"
     ]
    },
    {
     "name": "stdout",
     "output_type": "stream",
     "text": [
      "  > GRASIM.NS\n"
     ]
    },
    {
     "name": "stderr",
     "output_type": "stream",
     "text": [
      "/var/folders/mn/tx231v5158797chnp22wm9000000gp/T/ipykernel_61094/4004665421.py:76: FutureWarning: Calling float on a single element Series is deprecated and will raise a TypeError in the future. Use float(ser.iloc[0]) instead\n",
      "  mu_ann = float(log_ret.mean()) * TRADING_DAYS\n",
      "/var/folders/mn/tx231v5158797chnp22wm9000000gp/T/ipykernel_61094/4004665421.py:77: FutureWarning: Calling float on a single element Series is deprecated and will raise a TypeError in the future. Use float(ser.iloc[0]) instead\n",
      "  sigma_ann = float(log_ret.std(ddof=1)) * math.sqrt(TRADING_DAYS)\n",
      "/var/folders/mn/tx231v5158797chnp22wm9000000gp/T/ipykernel_61094/4004665421.py:78: FutureWarning: Calling float on a single element Series is deprecated and will raise a TypeError in the future. Use float(ser.iloc[0]) instead\n",
      "  S0 = float(tail.iloc[-1])\n"
     ]
    },
    {
     "name": "stdout",
     "output_type": "stream",
     "text": [
      "  > GRAVITA.NS\n"
     ]
    },
    {
     "name": "stderr",
     "output_type": "stream",
     "text": [
      "/var/folders/mn/tx231v5158797chnp22wm9000000gp/T/ipykernel_61094/4004665421.py:76: FutureWarning: Calling float on a single element Series is deprecated and will raise a TypeError in the future. Use float(ser.iloc[0]) instead\n",
      "  mu_ann = float(log_ret.mean()) * TRADING_DAYS\n",
      "/var/folders/mn/tx231v5158797chnp22wm9000000gp/T/ipykernel_61094/4004665421.py:77: FutureWarning: Calling float on a single element Series is deprecated and will raise a TypeError in the future. Use float(ser.iloc[0]) instead\n",
      "  sigma_ann = float(log_ret.std(ddof=1)) * math.sqrt(TRADING_DAYS)\n",
      "/var/folders/mn/tx231v5158797chnp22wm9000000gp/T/ipykernel_61094/4004665421.py:78: FutureWarning: Calling float on a single element Series is deprecated and will raise a TypeError in the future. Use float(ser.iloc[0]) instead\n",
      "  S0 = float(tail.iloc[-1])\n"
     ]
    },
    {
     "name": "stdout",
     "output_type": "stream",
     "text": [
      "  > GESHIP.NS\n"
     ]
    },
    {
     "name": "stderr",
     "output_type": "stream",
     "text": [
      "/var/folders/mn/tx231v5158797chnp22wm9000000gp/T/ipykernel_61094/4004665421.py:76: FutureWarning: Calling float on a single element Series is deprecated and will raise a TypeError in the future. Use float(ser.iloc[0]) instead\n",
      "  mu_ann = float(log_ret.mean()) * TRADING_DAYS\n",
      "/var/folders/mn/tx231v5158797chnp22wm9000000gp/T/ipykernel_61094/4004665421.py:77: FutureWarning: Calling float on a single element Series is deprecated and will raise a TypeError in the future. Use float(ser.iloc[0]) instead\n",
      "  sigma_ann = float(log_ret.std(ddof=1)) * math.sqrt(TRADING_DAYS)\n",
      "/var/folders/mn/tx231v5158797chnp22wm9000000gp/T/ipykernel_61094/4004665421.py:78: FutureWarning: Calling float on a single element Series is deprecated and will raise a TypeError in the future. Use float(ser.iloc[0]) instead\n",
      "  S0 = float(tail.iloc[-1])\n"
     ]
    },
    {
     "name": "stdout",
     "output_type": "stream",
     "text": [
      "  > FLUOROCHEM.NS\n"
     ]
    },
    {
     "name": "stderr",
     "output_type": "stream",
     "text": [
      "/var/folders/mn/tx231v5158797chnp22wm9000000gp/T/ipykernel_61094/4004665421.py:76: FutureWarning: Calling float on a single element Series is deprecated and will raise a TypeError in the future. Use float(ser.iloc[0]) instead\n",
      "  mu_ann = float(log_ret.mean()) * TRADING_DAYS\n",
      "/var/folders/mn/tx231v5158797chnp22wm9000000gp/T/ipykernel_61094/4004665421.py:77: FutureWarning: Calling float on a single element Series is deprecated and will raise a TypeError in the future. Use float(ser.iloc[0]) instead\n",
      "  sigma_ann = float(log_ret.std(ddof=1)) * math.sqrt(TRADING_DAYS)\n",
      "/var/folders/mn/tx231v5158797chnp22wm9000000gp/T/ipykernel_61094/4004665421.py:78: FutureWarning: Calling float on a single element Series is deprecated and will raise a TypeError in the future. Use float(ser.iloc[0]) instead\n",
      "  S0 = float(tail.iloc[-1])\n"
     ]
    },
    {
     "name": "stdout",
     "output_type": "stream",
     "text": [
      "  > GUJGASLTD.NS\n"
     ]
    },
    {
     "name": "stderr",
     "output_type": "stream",
     "text": [
      "/var/folders/mn/tx231v5158797chnp22wm9000000gp/T/ipykernel_61094/4004665421.py:76: FutureWarning: Calling float on a single element Series is deprecated and will raise a TypeError in the future. Use float(ser.iloc[0]) instead\n",
      "  mu_ann = float(log_ret.mean()) * TRADING_DAYS\n",
      "/var/folders/mn/tx231v5158797chnp22wm9000000gp/T/ipykernel_61094/4004665421.py:77: FutureWarning: Calling float on a single element Series is deprecated and will raise a TypeError in the future. Use float(ser.iloc[0]) instead\n",
      "  sigma_ann = float(log_ret.std(ddof=1)) * math.sqrt(TRADING_DAYS)\n",
      "/var/folders/mn/tx231v5158797chnp22wm9000000gp/T/ipykernel_61094/4004665421.py:78: FutureWarning: Calling float on a single element Series is deprecated and will raise a TypeError in the future. Use float(ser.iloc[0]) instead\n",
      "  S0 = float(tail.iloc[-1])\n"
     ]
    },
    {
     "name": "stdout",
     "output_type": "stream",
     "text": [
      "  > GMDCLTD.NS\n"
     ]
    },
    {
     "name": "stderr",
     "output_type": "stream",
     "text": [
      "/var/folders/mn/tx231v5158797chnp22wm9000000gp/T/ipykernel_61094/4004665421.py:76: FutureWarning: Calling float on a single element Series is deprecated and will raise a TypeError in the future. Use float(ser.iloc[0]) instead\n",
      "  mu_ann = float(log_ret.mean()) * TRADING_DAYS\n",
      "/var/folders/mn/tx231v5158797chnp22wm9000000gp/T/ipykernel_61094/4004665421.py:77: FutureWarning: Calling float on a single element Series is deprecated and will raise a TypeError in the future. Use float(ser.iloc[0]) instead\n",
      "  sigma_ann = float(log_ret.std(ddof=1)) * math.sqrt(TRADING_DAYS)\n",
      "/var/folders/mn/tx231v5158797chnp22wm9000000gp/T/ipykernel_61094/4004665421.py:78: FutureWarning: Calling float on a single element Series is deprecated and will raise a TypeError in the future. Use float(ser.iloc[0]) instead\n",
      "  S0 = float(tail.iloc[-1])\n"
     ]
    },
    {
     "name": "stdout",
     "output_type": "stream",
     "text": [
      "  > GNFC.NS\n"
     ]
    },
    {
     "name": "stderr",
     "output_type": "stream",
     "text": [
      "/var/folders/mn/tx231v5158797chnp22wm9000000gp/T/ipykernel_61094/4004665421.py:76: FutureWarning: Calling float on a single element Series is deprecated and will raise a TypeError in the future. Use float(ser.iloc[0]) instead\n",
      "  mu_ann = float(log_ret.mean()) * TRADING_DAYS\n",
      "/var/folders/mn/tx231v5158797chnp22wm9000000gp/T/ipykernel_61094/4004665421.py:77: FutureWarning: Calling float on a single element Series is deprecated and will raise a TypeError in the future. Use float(ser.iloc[0]) instead\n",
      "  sigma_ann = float(log_ret.std(ddof=1)) * math.sqrt(TRADING_DAYS)\n",
      "/var/folders/mn/tx231v5158797chnp22wm9000000gp/T/ipykernel_61094/4004665421.py:78: FutureWarning: Calling float on a single element Series is deprecated and will raise a TypeError in the future. Use float(ser.iloc[0]) instead\n",
      "  S0 = float(tail.iloc[-1])\n"
     ]
    },
    {
     "name": "stdout",
     "output_type": "stream",
     "text": [
      "  > GPPL.NS\n"
     ]
    },
    {
     "name": "stderr",
     "output_type": "stream",
     "text": [
      "/var/folders/mn/tx231v5158797chnp22wm9000000gp/T/ipykernel_61094/4004665421.py:76: FutureWarning: Calling float on a single element Series is deprecated and will raise a TypeError in the future. Use float(ser.iloc[0]) instead\n",
      "  mu_ann = float(log_ret.mean()) * TRADING_DAYS\n",
      "/var/folders/mn/tx231v5158797chnp22wm9000000gp/T/ipykernel_61094/4004665421.py:77: FutureWarning: Calling float on a single element Series is deprecated and will raise a TypeError in the future. Use float(ser.iloc[0]) instead\n",
      "  sigma_ann = float(log_ret.std(ddof=1)) * math.sqrt(TRADING_DAYS)\n",
      "/var/folders/mn/tx231v5158797chnp22wm9000000gp/T/ipykernel_61094/4004665421.py:78: FutureWarning: Calling float on a single element Series is deprecated and will raise a TypeError in the future. Use float(ser.iloc[0]) instead\n",
      "  S0 = float(tail.iloc[-1])\n"
     ]
    },
    {
     "name": "stdout",
     "output_type": "stream",
     "text": [
      "  > GSPL.NS\n"
     ]
    },
    {
     "name": "stderr",
     "output_type": "stream",
     "text": [
      "/var/folders/mn/tx231v5158797chnp22wm9000000gp/T/ipykernel_61094/4004665421.py:76: FutureWarning: Calling float on a single element Series is deprecated and will raise a TypeError in the future. Use float(ser.iloc[0]) instead\n",
      "  mu_ann = float(log_ret.mean()) * TRADING_DAYS\n",
      "/var/folders/mn/tx231v5158797chnp22wm9000000gp/T/ipykernel_61094/4004665421.py:77: FutureWarning: Calling float on a single element Series is deprecated and will raise a TypeError in the future. Use float(ser.iloc[0]) instead\n",
      "  sigma_ann = float(log_ret.std(ddof=1)) * math.sqrt(TRADING_DAYS)\n",
      "/var/folders/mn/tx231v5158797chnp22wm9000000gp/T/ipykernel_61094/4004665421.py:78: FutureWarning: Calling float on a single element Series is deprecated and will raise a TypeError in the future. Use float(ser.iloc[0]) instead\n",
      "  S0 = float(tail.iloc[-1])\n"
     ]
    },
    {
     "name": "stdout",
     "output_type": "stream",
     "text": [
      "  > HEG.NS\n"
     ]
    },
    {
     "name": "stderr",
     "output_type": "stream",
     "text": [
      "/var/folders/mn/tx231v5158797chnp22wm9000000gp/T/ipykernel_61094/4004665421.py:76: FutureWarning: Calling float on a single element Series is deprecated and will raise a TypeError in the future. Use float(ser.iloc[0]) instead\n",
      "  mu_ann = float(log_ret.mean()) * TRADING_DAYS\n",
      "/var/folders/mn/tx231v5158797chnp22wm9000000gp/T/ipykernel_61094/4004665421.py:77: FutureWarning: Calling float on a single element Series is deprecated and will raise a TypeError in the future. Use float(ser.iloc[0]) instead\n",
      "  sigma_ann = float(log_ret.std(ddof=1)) * math.sqrt(TRADING_DAYS)\n",
      "/var/folders/mn/tx231v5158797chnp22wm9000000gp/T/ipykernel_61094/4004665421.py:78: FutureWarning: Calling float on a single element Series is deprecated and will raise a TypeError in the future. Use float(ser.iloc[0]) instead\n",
      "  S0 = float(tail.iloc[-1])\n"
     ]
    },
    {
     "name": "stdout",
     "output_type": "stream",
     "text": [
      "  > HBLENGINE.NS\n"
     ]
    },
    {
     "name": "stderr",
     "output_type": "stream",
     "text": [
      "/var/folders/mn/tx231v5158797chnp22wm9000000gp/T/ipykernel_61094/4004665421.py:76: FutureWarning: Calling float on a single element Series is deprecated and will raise a TypeError in the future. Use float(ser.iloc[0]) instead\n",
      "  mu_ann = float(log_ret.mean()) * TRADING_DAYS\n",
      "/var/folders/mn/tx231v5158797chnp22wm9000000gp/T/ipykernel_61094/4004665421.py:77: FutureWarning: Calling float on a single element Series is deprecated and will raise a TypeError in the future. Use float(ser.iloc[0]) instead\n",
      "  sigma_ann = float(log_ret.std(ddof=1)) * math.sqrt(TRADING_DAYS)\n",
      "/var/folders/mn/tx231v5158797chnp22wm9000000gp/T/ipykernel_61094/4004665421.py:78: FutureWarning: Calling float on a single element Series is deprecated and will raise a TypeError in the future. Use float(ser.iloc[0]) instead\n",
      "  S0 = float(tail.iloc[-1])\n"
     ]
    },
    {
     "name": "stdout",
     "output_type": "stream",
     "text": [
      "  > HCLTECH.NS\n"
     ]
    },
    {
     "name": "stderr",
     "output_type": "stream",
     "text": [
      "/var/folders/mn/tx231v5158797chnp22wm9000000gp/T/ipykernel_61094/4004665421.py:76: FutureWarning: Calling float on a single element Series is deprecated and will raise a TypeError in the future. Use float(ser.iloc[0]) instead\n",
      "  mu_ann = float(log_ret.mean()) * TRADING_DAYS\n",
      "/var/folders/mn/tx231v5158797chnp22wm9000000gp/T/ipykernel_61094/4004665421.py:77: FutureWarning: Calling float on a single element Series is deprecated and will raise a TypeError in the future. Use float(ser.iloc[0]) instead\n",
      "  sigma_ann = float(log_ret.std(ddof=1)) * math.sqrt(TRADING_DAYS)\n",
      "/var/folders/mn/tx231v5158797chnp22wm9000000gp/T/ipykernel_61094/4004665421.py:78: FutureWarning: Calling float on a single element Series is deprecated and will raise a TypeError in the future. Use float(ser.iloc[0]) instead\n",
      "  S0 = float(tail.iloc[-1])\n"
     ]
    },
    {
     "name": "stdout",
     "output_type": "stream",
     "text": [
      "  > HDFCAMC.NS\n"
     ]
    },
    {
     "name": "stderr",
     "output_type": "stream",
     "text": [
      "/var/folders/mn/tx231v5158797chnp22wm9000000gp/T/ipykernel_61094/4004665421.py:76: FutureWarning: Calling float on a single element Series is deprecated and will raise a TypeError in the future. Use float(ser.iloc[0]) instead\n",
      "  mu_ann = float(log_ret.mean()) * TRADING_DAYS\n",
      "/var/folders/mn/tx231v5158797chnp22wm9000000gp/T/ipykernel_61094/4004665421.py:77: FutureWarning: Calling float on a single element Series is deprecated and will raise a TypeError in the future. Use float(ser.iloc[0]) instead\n",
      "  sigma_ann = float(log_ret.std(ddof=1)) * math.sqrt(TRADING_DAYS)\n",
      "/var/folders/mn/tx231v5158797chnp22wm9000000gp/T/ipykernel_61094/4004665421.py:78: FutureWarning: Calling float on a single element Series is deprecated and will raise a TypeError in the future. Use float(ser.iloc[0]) instead\n",
      "  S0 = float(tail.iloc[-1])\n"
     ]
    },
    {
     "name": "stdout",
     "output_type": "stream",
     "text": [
      "  > HDFCBANK.NS\n"
     ]
    },
    {
     "name": "stderr",
     "output_type": "stream",
     "text": [
      "/var/folders/mn/tx231v5158797chnp22wm9000000gp/T/ipykernel_61094/4004665421.py:76: FutureWarning: Calling float on a single element Series is deprecated and will raise a TypeError in the future. Use float(ser.iloc[0]) instead\n",
      "  mu_ann = float(log_ret.mean()) * TRADING_DAYS\n",
      "/var/folders/mn/tx231v5158797chnp22wm9000000gp/T/ipykernel_61094/4004665421.py:77: FutureWarning: Calling float on a single element Series is deprecated and will raise a TypeError in the future. Use float(ser.iloc[0]) instead\n",
      "  sigma_ann = float(log_ret.std(ddof=1)) * math.sqrt(TRADING_DAYS)\n",
      "/var/folders/mn/tx231v5158797chnp22wm9000000gp/T/ipykernel_61094/4004665421.py:78: FutureWarning: Calling float on a single element Series is deprecated and will raise a TypeError in the future. Use float(ser.iloc[0]) instead\n",
      "  S0 = float(tail.iloc[-1])\n"
     ]
    },
    {
     "name": "stdout",
     "output_type": "stream",
     "text": [
      "  > HDFCLIFE.NS\n"
     ]
    },
    {
     "name": "stderr",
     "output_type": "stream",
     "text": [
      "/var/folders/mn/tx231v5158797chnp22wm9000000gp/T/ipykernel_61094/4004665421.py:76: FutureWarning: Calling float on a single element Series is deprecated and will raise a TypeError in the future. Use float(ser.iloc[0]) instead\n",
      "  mu_ann = float(log_ret.mean()) * TRADING_DAYS\n",
      "/var/folders/mn/tx231v5158797chnp22wm9000000gp/T/ipykernel_61094/4004665421.py:77: FutureWarning: Calling float on a single element Series is deprecated and will raise a TypeError in the future. Use float(ser.iloc[0]) instead\n",
      "  sigma_ann = float(log_ret.std(ddof=1)) * math.sqrt(TRADING_DAYS)\n",
      "/var/folders/mn/tx231v5158797chnp22wm9000000gp/T/ipykernel_61094/4004665421.py:78: FutureWarning: Calling float on a single element Series is deprecated and will raise a TypeError in the future. Use float(ser.iloc[0]) instead\n",
      "  S0 = float(tail.iloc[-1])\n"
     ]
    },
    {
     "name": "stdout",
     "output_type": "stream",
     "text": [
      "  > HFCL.NS\n"
     ]
    },
    {
     "name": "stderr",
     "output_type": "stream",
     "text": [
      "/var/folders/mn/tx231v5158797chnp22wm9000000gp/T/ipykernel_61094/4004665421.py:76: FutureWarning: Calling float on a single element Series is deprecated and will raise a TypeError in the future. Use float(ser.iloc[0]) instead\n",
      "  mu_ann = float(log_ret.mean()) * TRADING_DAYS\n",
      "/var/folders/mn/tx231v5158797chnp22wm9000000gp/T/ipykernel_61094/4004665421.py:77: FutureWarning: Calling float on a single element Series is deprecated and will raise a TypeError in the future. Use float(ser.iloc[0]) instead\n",
      "  sigma_ann = float(log_ret.std(ddof=1)) * math.sqrt(TRADING_DAYS)\n",
      "/var/folders/mn/tx231v5158797chnp22wm9000000gp/T/ipykernel_61094/4004665421.py:78: FutureWarning: Calling float on a single element Series is deprecated and will raise a TypeError in the future. Use float(ser.iloc[0]) instead\n",
      "  S0 = float(tail.iloc[-1])\n"
     ]
    },
    {
     "name": "stdout",
     "output_type": "stream",
     "text": [
      "  > HAPPSTMNDS.NS\n"
     ]
    },
    {
     "name": "stderr",
     "output_type": "stream",
     "text": [
      "/var/folders/mn/tx231v5158797chnp22wm9000000gp/T/ipykernel_61094/4004665421.py:76: FutureWarning: Calling float on a single element Series is deprecated and will raise a TypeError in the future. Use float(ser.iloc[0]) instead\n",
      "  mu_ann = float(log_ret.mean()) * TRADING_DAYS\n",
      "/var/folders/mn/tx231v5158797chnp22wm9000000gp/T/ipykernel_61094/4004665421.py:77: FutureWarning: Calling float on a single element Series is deprecated and will raise a TypeError in the future. Use float(ser.iloc[0]) instead\n",
      "  sigma_ann = float(log_ret.std(ddof=1)) * math.sqrt(TRADING_DAYS)\n",
      "/var/folders/mn/tx231v5158797chnp22wm9000000gp/T/ipykernel_61094/4004665421.py:78: FutureWarning: Calling float on a single element Series is deprecated and will raise a TypeError in the future. Use float(ser.iloc[0]) instead\n",
      "  S0 = float(tail.iloc[-1])\n"
     ]
    },
    {
     "name": "stdout",
     "output_type": "stream",
     "text": [
      "  > HAVELLS.NS\n"
     ]
    },
    {
     "name": "stderr",
     "output_type": "stream",
     "text": [
      "/var/folders/mn/tx231v5158797chnp22wm9000000gp/T/ipykernel_61094/4004665421.py:76: FutureWarning: Calling float on a single element Series is deprecated and will raise a TypeError in the future. Use float(ser.iloc[0]) instead\n",
      "  mu_ann = float(log_ret.mean()) * TRADING_DAYS\n",
      "/var/folders/mn/tx231v5158797chnp22wm9000000gp/T/ipykernel_61094/4004665421.py:77: FutureWarning: Calling float on a single element Series is deprecated and will raise a TypeError in the future. Use float(ser.iloc[0]) instead\n",
      "  sigma_ann = float(log_ret.std(ddof=1)) * math.sqrt(TRADING_DAYS)\n",
      "/var/folders/mn/tx231v5158797chnp22wm9000000gp/T/ipykernel_61094/4004665421.py:78: FutureWarning: Calling float on a single element Series is deprecated and will raise a TypeError in the future. Use float(ser.iloc[0]) instead\n",
      "  S0 = float(tail.iloc[-1])\n"
     ]
    },
    {
     "name": "stdout",
     "output_type": "stream",
     "text": [
      "  > HEROMOTOCO.NS\n"
     ]
    },
    {
     "name": "stderr",
     "output_type": "stream",
     "text": [
      "/var/folders/mn/tx231v5158797chnp22wm9000000gp/T/ipykernel_61094/4004665421.py:76: FutureWarning: Calling float on a single element Series is deprecated and will raise a TypeError in the future. Use float(ser.iloc[0]) instead\n",
      "  mu_ann = float(log_ret.mean()) * TRADING_DAYS\n",
      "/var/folders/mn/tx231v5158797chnp22wm9000000gp/T/ipykernel_61094/4004665421.py:77: FutureWarning: Calling float on a single element Series is deprecated and will raise a TypeError in the future. Use float(ser.iloc[0]) instead\n",
      "  sigma_ann = float(log_ret.std(ddof=1)) * math.sqrt(TRADING_DAYS)\n",
      "/var/folders/mn/tx231v5158797chnp22wm9000000gp/T/ipykernel_61094/4004665421.py:78: FutureWarning: Calling float on a single element Series is deprecated and will raise a TypeError in the future. Use float(ser.iloc[0]) instead\n",
      "  S0 = float(tail.iloc[-1])\n"
     ]
    },
    {
     "name": "stdout",
     "output_type": "stream",
     "text": [
      "  > HSCL.NS\n"
     ]
    },
    {
     "name": "stderr",
     "output_type": "stream",
     "text": [
      "/var/folders/mn/tx231v5158797chnp22wm9000000gp/T/ipykernel_61094/4004665421.py:76: FutureWarning: Calling float on a single element Series is deprecated and will raise a TypeError in the future. Use float(ser.iloc[0]) instead\n",
      "  mu_ann = float(log_ret.mean()) * TRADING_DAYS\n",
      "/var/folders/mn/tx231v5158797chnp22wm9000000gp/T/ipykernel_61094/4004665421.py:77: FutureWarning: Calling float on a single element Series is deprecated and will raise a TypeError in the future. Use float(ser.iloc[0]) instead\n",
      "  sigma_ann = float(log_ret.std(ddof=1)) * math.sqrt(TRADING_DAYS)\n",
      "/var/folders/mn/tx231v5158797chnp22wm9000000gp/T/ipykernel_61094/4004665421.py:78: FutureWarning: Calling float on a single element Series is deprecated and will raise a TypeError in the future. Use float(ser.iloc[0]) instead\n",
      "  S0 = float(tail.iloc[-1])\n"
     ]
    },
    {
     "name": "stdout",
     "output_type": "stream",
     "text": [
      "  > HINDALCO.NS\n"
     ]
    },
    {
     "name": "stderr",
     "output_type": "stream",
     "text": [
      "/var/folders/mn/tx231v5158797chnp22wm9000000gp/T/ipykernel_61094/4004665421.py:76: FutureWarning: Calling float on a single element Series is deprecated and will raise a TypeError in the future. Use float(ser.iloc[0]) instead\n",
      "  mu_ann = float(log_ret.mean()) * TRADING_DAYS\n",
      "/var/folders/mn/tx231v5158797chnp22wm9000000gp/T/ipykernel_61094/4004665421.py:77: FutureWarning: Calling float on a single element Series is deprecated and will raise a TypeError in the future. Use float(ser.iloc[0]) instead\n",
      "  sigma_ann = float(log_ret.std(ddof=1)) * math.sqrt(TRADING_DAYS)\n",
      "/var/folders/mn/tx231v5158797chnp22wm9000000gp/T/ipykernel_61094/4004665421.py:78: FutureWarning: Calling float on a single element Series is deprecated and will raise a TypeError in the future. Use float(ser.iloc[0]) instead\n",
      "  S0 = float(tail.iloc[-1])\n"
     ]
    },
    {
     "name": "stdout",
     "output_type": "stream",
     "text": [
      "  > HAL.NS\n"
     ]
    },
    {
     "name": "stderr",
     "output_type": "stream",
     "text": [
      "/var/folders/mn/tx231v5158797chnp22wm9000000gp/T/ipykernel_61094/4004665421.py:76: FutureWarning: Calling float on a single element Series is deprecated and will raise a TypeError in the future. Use float(ser.iloc[0]) instead\n",
      "  mu_ann = float(log_ret.mean()) * TRADING_DAYS\n",
      "/var/folders/mn/tx231v5158797chnp22wm9000000gp/T/ipykernel_61094/4004665421.py:77: FutureWarning: Calling float on a single element Series is deprecated and will raise a TypeError in the future. Use float(ser.iloc[0]) instead\n",
      "  sigma_ann = float(log_ret.std(ddof=1)) * math.sqrt(TRADING_DAYS)\n",
      "/var/folders/mn/tx231v5158797chnp22wm9000000gp/T/ipykernel_61094/4004665421.py:78: FutureWarning: Calling float on a single element Series is deprecated and will raise a TypeError in the future. Use float(ser.iloc[0]) instead\n",
      "  S0 = float(tail.iloc[-1])\n"
     ]
    },
    {
     "name": "stdout",
     "output_type": "stream",
     "text": [
      "  > HINDCOPPER.NS\n"
     ]
    },
    {
     "name": "stderr",
     "output_type": "stream",
     "text": [
      "/var/folders/mn/tx231v5158797chnp22wm9000000gp/T/ipykernel_61094/4004665421.py:76: FutureWarning: Calling float on a single element Series is deprecated and will raise a TypeError in the future. Use float(ser.iloc[0]) instead\n",
      "  mu_ann = float(log_ret.mean()) * TRADING_DAYS\n",
      "/var/folders/mn/tx231v5158797chnp22wm9000000gp/T/ipykernel_61094/4004665421.py:77: FutureWarning: Calling float on a single element Series is deprecated and will raise a TypeError in the future. Use float(ser.iloc[0]) instead\n",
      "  sigma_ann = float(log_ret.std(ddof=1)) * math.sqrt(TRADING_DAYS)\n",
      "/var/folders/mn/tx231v5158797chnp22wm9000000gp/T/ipykernel_61094/4004665421.py:78: FutureWarning: Calling float on a single element Series is deprecated and will raise a TypeError in the future. Use float(ser.iloc[0]) instead\n",
      "  S0 = float(tail.iloc[-1])\n"
     ]
    },
    {
     "name": "stdout",
     "output_type": "stream",
     "text": [
      "  > HINDPETRO.NS\n"
     ]
    },
    {
     "name": "stderr",
     "output_type": "stream",
     "text": [
      "/var/folders/mn/tx231v5158797chnp22wm9000000gp/T/ipykernel_61094/4004665421.py:76: FutureWarning: Calling float on a single element Series is deprecated and will raise a TypeError in the future. Use float(ser.iloc[0]) instead\n",
      "  mu_ann = float(log_ret.mean()) * TRADING_DAYS\n",
      "/var/folders/mn/tx231v5158797chnp22wm9000000gp/T/ipykernel_61094/4004665421.py:77: FutureWarning: Calling float on a single element Series is deprecated and will raise a TypeError in the future. Use float(ser.iloc[0]) instead\n",
      "  sigma_ann = float(log_ret.std(ddof=1)) * math.sqrt(TRADING_DAYS)\n",
      "/var/folders/mn/tx231v5158797chnp22wm9000000gp/T/ipykernel_61094/4004665421.py:78: FutureWarning: Calling float on a single element Series is deprecated and will raise a TypeError in the future. Use float(ser.iloc[0]) instead\n",
      "  S0 = float(tail.iloc[-1])\n"
     ]
    },
    {
     "name": "stdout",
     "output_type": "stream",
     "text": [
      "  > HINDUNILVR.NS\n"
     ]
    },
    {
     "name": "stderr",
     "output_type": "stream",
     "text": [
      "/var/folders/mn/tx231v5158797chnp22wm9000000gp/T/ipykernel_61094/4004665421.py:76: FutureWarning: Calling float on a single element Series is deprecated and will raise a TypeError in the future. Use float(ser.iloc[0]) instead\n",
      "  mu_ann = float(log_ret.mean()) * TRADING_DAYS\n",
      "/var/folders/mn/tx231v5158797chnp22wm9000000gp/T/ipykernel_61094/4004665421.py:77: FutureWarning: Calling float on a single element Series is deprecated and will raise a TypeError in the future. Use float(ser.iloc[0]) instead\n",
      "  sigma_ann = float(log_ret.std(ddof=1)) * math.sqrt(TRADING_DAYS)\n",
      "/var/folders/mn/tx231v5158797chnp22wm9000000gp/T/ipykernel_61094/4004665421.py:78: FutureWarning: Calling float on a single element Series is deprecated and will raise a TypeError in the future. Use float(ser.iloc[0]) instead\n",
      "  S0 = float(tail.iloc[-1])\n"
     ]
    },
    {
     "name": "stdout",
     "output_type": "stream",
     "text": [
      "  > HINDZINC.NS\n"
     ]
    },
    {
     "name": "stderr",
     "output_type": "stream",
     "text": [
      "/var/folders/mn/tx231v5158797chnp22wm9000000gp/T/ipykernel_61094/4004665421.py:76: FutureWarning: Calling float on a single element Series is deprecated and will raise a TypeError in the future. Use float(ser.iloc[0]) instead\n",
      "  mu_ann = float(log_ret.mean()) * TRADING_DAYS\n",
      "/var/folders/mn/tx231v5158797chnp22wm9000000gp/T/ipykernel_61094/4004665421.py:77: FutureWarning: Calling float on a single element Series is deprecated and will raise a TypeError in the future. Use float(ser.iloc[0]) instead\n",
      "  sigma_ann = float(log_ret.std(ddof=1)) * math.sqrt(TRADING_DAYS)\n",
      "/var/folders/mn/tx231v5158797chnp22wm9000000gp/T/ipykernel_61094/4004665421.py:78: FutureWarning: Calling float on a single element Series is deprecated and will raise a TypeError in the future. Use float(ser.iloc[0]) instead\n",
      "  S0 = float(tail.iloc[-1])\n"
     ]
    },
    {
     "name": "stdout",
     "output_type": "stream",
     "text": [
      "  > POWERINDIA.NS\n"
     ]
    },
    {
     "name": "stderr",
     "output_type": "stream",
     "text": [
      "/var/folders/mn/tx231v5158797chnp22wm9000000gp/T/ipykernel_61094/4004665421.py:76: FutureWarning: Calling float on a single element Series is deprecated and will raise a TypeError in the future. Use float(ser.iloc[0]) instead\n",
      "  mu_ann = float(log_ret.mean()) * TRADING_DAYS\n",
      "/var/folders/mn/tx231v5158797chnp22wm9000000gp/T/ipykernel_61094/4004665421.py:77: FutureWarning: Calling float on a single element Series is deprecated and will raise a TypeError in the future. Use float(ser.iloc[0]) instead\n",
      "  sigma_ann = float(log_ret.std(ddof=1)) * math.sqrt(TRADING_DAYS)\n",
      "/var/folders/mn/tx231v5158797chnp22wm9000000gp/T/ipykernel_61094/4004665421.py:78: FutureWarning: Calling float on a single element Series is deprecated and will raise a TypeError in the future. Use float(ser.iloc[0]) instead\n",
      "  S0 = float(tail.iloc[-1])\n"
     ]
    },
    {
     "name": "stdout",
     "output_type": "stream",
     "text": [
      "  > HOMEFIRST.NS\n"
     ]
    },
    {
     "name": "stderr",
     "output_type": "stream",
     "text": [
      "/var/folders/mn/tx231v5158797chnp22wm9000000gp/T/ipykernel_61094/4004665421.py:76: FutureWarning: Calling float on a single element Series is deprecated and will raise a TypeError in the future. Use float(ser.iloc[0]) instead\n",
      "  mu_ann = float(log_ret.mean()) * TRADING_DAYS\n",
      "/var/folders/mn/tx231v5158797chnp22wm9000000gp/T/ipykernel_61094/4004665421.py:77: FutureWarning: Calling float on a single element Series is deprecated and will raise a TypeError in the future. Use float(ser.iloc[0]) instead\n",
      "  sigma_ann = float(log_ret.std(ddof=1)) * math.sqrt(TRADING_DAYS)\n",
      "/var/folders/mn/tx231v5158797chnp22wm9000000gp/T/ipykernel_61094/4004665421.py:78: FutureWarning: Calling float on a single element Series is deprecated and will raise a TypeError in the future. Use float(ser.iloc[0]) instead\n",
      "  S0 = float(tail.iloc[-1])\n"
     ]
    },
    {
     "name": "stdout",
     "output_type": "stream",
     "text": [
      "  > HONASA.NS\n"
     ]
    },
    {
     "name": "stderr",
     "output_type": "stream",
     "text": [
      "/var/folders/mn/tx231v5158797chnp22wm9000000gp/T/ipykernel_61094/4004665421.py:76: FutureWarning: Calling float on a single element Series is deprecated and will raise a TypeError in the future. Use float(ser.iloc[0]) instead\n",
      "  mu_ann = float(log_ret.mean()) * TRADING_DAYS\n",
      "/var/folders/mn/tx231v5158797chnp22wm9000000gp/T/ipykernel_61094/4004665421.py:77: FutureWarning: Calling float on a single element Series is deprecated and will raise a TypeError in the future. Use float(ser.iloc[0]) instead\n",
      "  sigma_ann = float(log_ret.std(ddof=1)) * math.sqrt(TRADING_DAYS)\n",
      "/var/folders/mn/tx231v5158797chnp22wm9000000gp/T/ipykernel_61094/4004665421.py:78: FutureWarning: Calling float on a single element Series is deprecated and will raise a TypeError in the future. Use float(ser.iloc[0]) instead\n",
      "  S0 = float(tail.iloc[-1])\n"
     ]
    },
    {
     "name": "stdout",
     "output_type": "stream",
     "text": [
      "  > HONAUT.NS\n"
     ]
    },
    {
     "name": "stderr",
     "output_type": "stream",
     "text": [
      "/var/folders/mn/tx231v5158797chnp22wm9000000gp/T/ipykernel_61094/4004665421.py:76: FutureWarning: Calling float on a single element Series is deprecated and will raise a TypeError in the future. Use float(ser.iloc[0]) instead\n",
      "  mu_ann = float(log_ret.mean()) * TRADING_DAYS\n",
      "/var/folders/mn/tx231v5158797chnp22wm9000000gp/T/ipykernel_61094/4004665421.py:77: FutureWarning: Calling float on a single element Series is deprecated and will raise a TypeError in the future. Use float(ser.iloc[0]) instead\n",
      "  sigma_ann = float(log_ret.std(ddof=1)) * math.sqrt(TRADING_DAYS)\n",
      "/var/folders/mn/tx231v5158797chnp22wm9000000gp/T/ipykernel_61094/4004665421.py:78: FutureWarning: Calling float on a single element Series is deprecated and will raise a TypeError in the future. Use float(ser.iloc[0]) instead\n",
      "  S0 = float(tail.iloc[-1])\n"
     ]
    },
    {
     "name": "stdout",
     "output_type": "stream",
     "text": [
      "  > HUDCO.NS\n"
     ]
    },
    {
     "name": "stderr",
     "output_type": "stream",
     "text": [
      "/var/folders/mn/tx231v5158797chnp22wm9000000gp/T/ipykernel_61094/4004665421.py:76: FutureWarning: Calling float on a single element Series is deprecated and will raise a TypeError in the future. Use float(ser.iloc[0]) instead\n",
      "  mu_ann = float(log_ret.mean()) * TRADING_DAYS\n",
      "/var/folders/mn/tx231v5158797chnp22wm9000000gp/T/ipykernel_61094/4004665421.py:77: FutureWarning: Calling float on a single element Series is deprecated and will raise a TypeError in the future. Use float(ser.iloc[0]) instead\n",
      "  sigma_ann = float(log_ret.std(ddof=1)) * math.sqrt(TRADING_DAYS)\n",
      "/var/folders/mn/tx231v5158797chnp22wm9000000gp/T/ipykernel_61094/4004665421.py:78: FutureWarning: Calling float on a single element Series is deprecated and will raise a TypeError in the future. Use float(ser.iloc[0]) instead\n",
      "  S0 = float(tail.iloc[-1])\n"
     ]
    },
    {
     "name": "stdout",
     "output_type": "stream",
     "text": [
      "  > HYUNDAI.NS\n"
     ]
    },
    {
     "name": "stderr",
     "output_type": "stream",
     "text": [
      "/var/folders/mn/tx231v5158797chnp22wm9000000gp/T/ipykernel_61094/4004665421.py:76: FutureWarning: Calling float on a single element Series is deprecated and will raise a TypeError in the future. Use float(ser.iloc[0]) instead\n",
      "  mu_ann = float(log_ret.mean()) * TRADING_DAYS\n",
      "/var/folders/mn/tx231v5158797chnp22wm9000000gp/T/ipykernel_61094/4004665421.py:77: FutureWarning: Calling float on a single element Series is deprecated and will raise a TypeError in the future. Use float(ser.iloc[0]) instead\n",
      "  sigma_ann = float(log_ret.std(ddof=1)) * math.sqrt(TRADING_DAYS)\n",
      "/var/folders/mn/tx231v5158797chnp22wm9000000gp/T/ipykernel_61094/4004665421.py:78: FutureWarning: Calling float on a single element Series is deprecated and will raise a TypeError in the future. Use float(ser.iloc[0]) instead\n",
      "  S0 = float(tail.iloc[-1])\n"
     ]
    },
    {
     "name": "stdout",
     "output_type": "stream",
     "text": [
      "  > ICICIBANK.NS\n"
     ]
    },
    {
     "name": "stderr",
     "output_type": "stream",
     "text": [
      "/var/folders/mn/tx231v5158797chnp22wm9000000gp/T/ipykernel_61094/4004665421.py:76: FutureWarning: Calling float on a single element Series is deprecated and will raise a TypeError in the future. Use float(ser.iloc[0]) instead\n",
      "  mu_ann = float(log_ret.mean()) * TRADING_DAYS\n",
      "/var/folders/mn/tx231v5158797chnp22wm9000000gp/T/ipykernel_61094/4004665421.py:77: FutureWarning: Calling float on a single element Series is deprecated and will raise a TypeError in the future. Use float(ser.iloc[0]) instead\n",
      "  sigma_ann = float(log_ret.std(ddof=1)) * math.sqrt(TRADING_DAYS)\n",
      "/var/folders/mn/tx231v5158797chnp22wm9000000gp/T/ipykernel_61094/4004665421.py:78: FutureWarning: Calling float on a single element Series is deprecated and will raise a TypeError in the future. Use float(ser.iloc[0]) instead\n",
      "  S0 = float(tail.iloc[-1])\n"
     ]
    },
    {
     "name": "stdout",
     "output_type": "stream",
     "text": [
      "  > ICICIGI.NS\n"
     ]
    },
    {
     "name": "stderr",
     "output_type": "stream",
     "text": [
      "/var/folders/mn/tx231v5158797chnp22wm9000000gp/T/ipykernel_61094/4004665421.py:76: FutureWarning: Calling float on a single element Series is deprecated and will raise a TypeError in the future. Use float(ser.iloc[0]) instead\n",
      "  mu_ann = float(log_ret.mean()) * TRADING_DAYS\n",
      "/var/folders/mn/tx231v5158797chnp22wm9000000gp/T/ipykernel_61094/4004665421.py:77: FutureWarning: Calling float on a single element Series is deprecated and will raise a TypeError in the future. Use float(ser.iloc[0]) instead\n",
      "  sigma_ann = float(log_ret.std(ddof=1)) * math.sqrt(TRADING_DAYS)\n",
      "/var/folders/mn/tx231v5158797chnp22wm9000000gp/T/ipykernel_61094/4004665421.py:78: FutureWarning: Calling float on a single element Series is deprecated and will raise a TypeError in the future. Use float(ser.iloc[0]) instead\n",
      "  S0 = float(tail.iloc[-1])\n"
     ]
    },
    {
     "name": "stdout",
     "output_type": "stream",
     "text": [
      "  > ICICIPRULI.NS\n"
     ]
    },
    {
     "name": "stderr",
     "output_type": "stream",
     "text": [
      "/var/folders/mn/tx231v5158797chnp22wm9000000gp/T/ipykernel_61094/4004665421.py:76: FutureWarning: Calling float on a single element Series is deprecated and will raise a TypeError in the future. Use float(ser.iloc[0]) instead\n",
      "  mu_ann = float(log_ret.mean()) * TRADING_DAYS\n",
      "/var/folders/mn/tx231v5158797chnp22wm9000000gp/T/ipykernel_61094/4004665421.py:77: FutureWarning: Calling float on a single element Series is deprecated and will raise a TypeError in the future. Use float(ser.iloc[0]) instead\n",
      "  sigma_ann = float(log_ret.std(ddof=1)) * math.sqrt(TRADING_DAYS)\n",
      "/var/folders/mn/tx231v5158797chnp22wm9000000gp/T/ipykernel_61094/4004665421.py:78: FutureWarning: Calling float on a single element Series is deprecated and will raise a TypeError in the future. Use float(ser.iloc[0]) instead\n",
      "  S0 = float(tail.iloc[-1])\n"
     ]
    },
    {
     "name": "stdout",
     "output_type": "stream",
     "text": [
      "  > IDBI.NS\n"
     ]
    },
    {
     "name": "stderr",
     "output_type": "stream",
     "text": [
      "/var/folders/mn/tx231v5158797chnp22wm9000000gp/T/ipykernel_61094/4004665421.py:76: FutureWarning: Calling float on a single element Series is deprecated and will raise a TypeError in the future. Use float(ser.iloc[0]) instead\n",
      "  mu_ann = float(log_ret.mean()) * TRADING_DAYS\n",
      "/var/folders/mn/tx231v5158797chnp22wm9000000gp/T/ipykernel_61094/4004665421.py:77: FutureWarning: Calling float on a single element Series is deprecated and will raise a TypeError in the future. Use float(ser.iloc[0]) instead\n",
      "  sigma_ann = float(log_ret.std(ddof=1)) * math.sqrt(TRADING_DAYS)\n",
      "/var/folders/mn/tx231v5158797chnp22wm9000000gp/T/ipykernel_61094/4004665421.py:78: FutureWarning: Calling float on a single element Series is deprecated and will raise a TypeError in the future. Use float(ser.iloc[0]) instead\n",
      "  S0 = float(tail.iloc[-1])\n"
     ]
    },
    {
     "name": "stdout",
     "output_type": "stream",
     "text": [
      "  > IDFCFIRSTB.NS\n"
     ]
    },
    {
     "name": "stderr",
     "output_type": "stream",
     "text": [
      "/var/folders/mn/tx231v5158797chnp22wm9000000gp/T/ipykernel_61094/4004665421.py:76: FutureWarning: Calling float on a single element Series is deprecated and will raise a TypeError in the future. Use float(ser.iloc[0]) instead\n",
      "  mu_ann = float(log_ret.mean()) * TRADING_DAYS\n",
      "/var/folders/mn/tx231v5158797chnp22wm9000000gp/T/ipykernel_61094/4004665421.py:77: FutureWarning: Calling float on a single element Series is deprecated and will raise a TypeError in the future. Use float(ser.iloc[0]) instead\n",
      "  sigma_ann = float(log_ret.std(ddof=1)) * math.sqrt(TRADING_DAYS)\n",
      "/var/folders/mn/tx231v5158797chnp22wm9000000gp/T/ipykernel_61094/4004665421.py:78: FutureWarning: Calling float on a single element Series is deprecated and will raise a TypeError in the future. Use float(ser.iloc[0]) instead\n",
      "  S0 = float(tail.iloc[-1])\n"
     ]
    },
    {
     "name": "stdout",
     "output_type": "stream",
     "text": [
      "  > IFCI.NS\n"
     ]
    },
    {
     "name": "stderr",
     "output_type": "stream",
     "text": [
      "/var/folders/mn/tx231v5158797chnp22wm9000000gp/T/ipykernel_61094/4004665421.py:76: FutureWarning: Calling float on a single element Series is deprecated and will raise a TypeError in the future. Use float(ser.iloc[0]) instead\n",
      "  mu_ann = float(log_ret.mean()) * TRADING_DAYS\n",
      "/var/folders/mn/tx231v5158797chnp22wm9000000gp/T/ipykernel_61094/4004665421.py:77: FutureWarning: Calling float on a single element Series is deprecated and will raise a TypeError in the future. Use float(ser.iloc[0]) instead\n",
      "  sigma_ann = float(log_ret.std(ddof=1)) * math.sqrt(TRADING_DAYS)\n",
      "/var/folders/mn/tx231v5158797chnp22wm9000000gp/T/ipykernel_61094/4004665421.py:78: FutureWarning: Calling float on a single element Series is deprecated and will raise a TypeError in the future. Use float(ser.iloc[0]) instead\n",
      "  S0 = float(tail.iloc[-1])\n"
     ]
    },
    {
     "name": "stdout",
     "output_type": "stream",
     "text": [
      "  > IIFL.NS\n"
     ]
    },
    {
     "name": "stderr",
     "output_type": "stream",
     "text": [
      "/var/folders/mn/tx231v5158797chnp22wm9000000gp/T/ipykernel_61094/4004665421.py:76: FutureWarning: Calling float on a single element Series is deprecated and will raise a TypeError in the future. Use float(ser.iloc[0]) instead\n",
      "  mu_ann = float(log_ret.mean()) * TRADING_DAYS\n",
      "/var/folders/mn/tx231v5158797chnp22wm9000000gp/T/ipykernel_61094/4004665421.py:77: FutureWarning: Calling float on a single element Series is deprecated and will raise a TypeError in the future. Use float(ser.iloc[0]) instead\n",
      "  sigma_ann = float(log_ret.std(ddof=1)) * math.sqrt(TRADING_DAYS)\n",
      "/var/folders/mn/tx231v5158797chnp22wm9000000gp/T/ipykernel_61094/4004665421.py:78: FutureWarning: Calling float on a single element Series is deprecated and will raise a TypeError in the future. Use float(ser.iloc[0]) instead\n",
      "  S0 = float(tail.iloc[-1])\n"
     ]
    },
    {
     "name": "stdout",
     "output_type": "stream",
     "text": [
      "  > INOXINDIA.NS\n"
     ]
    },
    {
     "name": "stderr",
     "output_type": "stream",
     "text": [
      "/var/folders/mn/tx231v5158797chnp22wm9000000gp/T/ipykernel_61094/4004665421.py:76: FutureWarning: Calling float on a single element Series is deprecated and will raise a TypeError in the future. Use float(ser.iloc[0]) instead\n",
      "  mu_ann = float(log_ret.mean()) * TRADING_DAYS\n",
      "/var/folders/mn/tx231v5158797chnp22wm9000000gp/T/ipykernel_61094/4004665421.py:77: FutureWarning: Calling float on a single element Series is deprecated and will raise a TypeError in the future. Use float(ser.iloc[0]) instead\n",
      "  sigma_ann = float(log_ret.std(ddof=1)) * math.sqrt(TRADING_DAYS)\n",
      "/var/folders/mn/tx231v5158797chnp22wm9000000gp/T/ipykernel_61094/4004665421.py:78: FutureWarning: Calling float on a single element Series is deprecated and will raise a TypeError in the future. Use float(ser.iloc[0]) instead\n",
      "  S0 = float(tail.iloc[-1])\n"
     ]
    },
    {
     "name": "stdout",
     "output_type": "stream",
     "text": [
      "  > IRB.NS\n"
     ]
    },
    {
     "name": "stderr",
     "output_type": "stream",
     "text": [
      "/var/folders/mn/tx231v5158797chnp22wm9000000gp/T/ipykernel_61094/4004665421.py:76: FutureWarning: Calling float on a single element Series is deprecated and will raise a TypeError in the future. Use float(ser.iloc[0]) instead\n",
      "  mu_ann = float(log_ret.mean()) * TRADING_DAYS\n",
      "/var/folders/mn/tx231v5158797chnp22wm9000000gp/T/ipykernel_61094/4004665421.py:77: FutureWarning: Calling float on a single element Series is deprecated and will raise a TypeError in the future. Use float(ser.iloc[0]) instead\n",
      "  sigma_ann = float(log_ret.std(ddof=1)) * math.sqrt(TRADING_DAYS)\n",
      "/var/folders/mn/tx231v5158797chnp22wm9000000gp/T/ipykernel_61094/4004665421.py:78: FutureWarning: Calling float on a single element Series is deprecated and will raise a TypeError in the future. Use float(ser.iloc[0]) instead\n",
      "  S0 = float(tail.iloc[-1])\n"
     ]
    },
    {
     "name": "stdout",
     "output_type": "stream",
     "text": [
      "  > IRCON.NS\n"
     ]
    },
    {
     "name": "stderr",
     "output_type": "stream",
     "text": [
      "/var/folders/mn/tx231v5158797chnp22wm9000000gp/T/ipykernel_61094/4004665421.py:76: FutureWarning: Calling float on a single element Series is deprecated and will raise a TypeError in the future. Use float(ser.iloc[0]) instead\n",
      "  mu_ann = float(log_ret.mean()) * TRADING_DAYS\n",
      "/var/folders/mn/tx231v5158797chnp22wm9000000gp/T/ipykernel_61094/4004665421.py:77: FutureWarning: Calling float on a single element Series is deprecated and will raise a TypeError in the future. Use float(ser.iloc[0]) instead\n",
      "  sigma_ann = float(log_ret.std(ddof=1)) * math.sqrt(TRADING_DAYS)\n",
      "/var/folders/mn/tx231v5158797chnp22wm9000000gp/T/ipykernel_61094/4004665421.py:78: FutureWarning: Calling float on a single element Series is deprecated and will raise a TypeError in the future. Use float(ser.iloc[0]) instead\n",
      "  S0 = float(tail.iloc[-1])\n"
     ]
    },
    {
     "name": "stdout",
     "output_type": "stream",
     "text": [
      "  > ITC.NS\n"
     ]
    },
    {
     "name": "stderr",
     "output_type": "stream",
     "text": [
      "/var/folders/mn/tx231v5158797chnp22wm9000000gp/T/ipykernel_61094/4004665421.py:76: FutureWarning: Calling float on a single element Series is deprecated and will raise a TypeError in the future. Use float(ser.iloc[0]) instead\n",
      "  mu_ann = float(log_ret.mean()) * TRADING_DAYS\n",
      "/var/folders/mn/tx231v5158797chnp22wm9000000gp/T/ipykernel_61094/4004665421.py:77: FutureWarning: Calling float on a single element Series is deprecated and will raise a TypeError in the future. Use float(ser.iloc[0]) instead\n",
      "  sigma_ann = float(log_ret.std(ddof=1)) * math.sqrt(TRADING_DAYS)\n",
      "/var/folders/mn/tx231v5158797chnp22wm9000000gp/T/ipykernel_61094/4004665421.py:78: FutureWarning: Calling float on a single element Series is deprecated and will raise a TypeError in the future. Use float(ser.iloc[0]) instead\n",
      "  S0 = float(tail.iloc[-1])\n"
     ]
    },
    {
     "name": "stdout",
     "output_type": "stream",
     "text": [
      "  > ITI.NS\n"
     ]
    },
    {
     "name": "stderr",
     "output_type": "stream",
     "text": [
      "/var/folders/mn/tx231v5158797chnp22wm9000000gp/T/ipykernel_61094/4004665421.py:76: FutureWarning: Calling float on a single element Series is deprecated and will raise a TypeError in the future. Use float(ser.iloc[0]) instead\n",
      "  mu_ann = float(log_ret.mean()) * TRADING_DAYS\n",
      "/var/folders/mn/tx231v5158797chnp22wm9000000gp/T/ipykernel_61094/4004665421.py:77: FutureWarning: Calling float on a single element Series is deprecated and will raise a TypeError in the future. Use float(ser.iloc[0]) instead\n",
      "  sigma_ann = float(log_ret.std(ddof=1)) * math.sqrt(TRADING_DAYS)\n",
      "/var/folders/mn/tx231v5158797chnp22wm9000000gp/T/ipykernel_61094/4004665421.py:78: FutureWarning: Calling float on a single element Series is deprecated and will raise a TypeError in the future. Use float(ser.iloc[0]) instead\n",
      "  S0 = float(tail.iloc[-1])\n"
     ]
    },
    {
     "name": "stdout",
     "output_type": "stream",
     "text": [
      "  > INDGN.NS\n"
     ]
    },
    {
     "name": "stderr",
     "output_type": "stream",
     "text": [
      "/var/folders/mn/tx231v5158797chnp22wm9000000gp/T/ipykernel_61094/4004665421.py:76: FutureWarning: Calling float on a single element Series is deprecated and will raise a TypeError in the future. Use float(ser.iloc[0]) instead\n",
      "  mu_ann = float(log_ret.mean()) * TRADING_DAYS\n",
      "/var/folders/mn/tx231v5158797chnp22wm9000000gp/T/ipykernel_61094/4004665421.py:77: FutureWarning: Calling float on a single element Series is deprecated and will raise a TypeError in the future. Use float(ser.iloc[0]) instead\n",
      "  sigma_ann = float(log_ret.std(ddof=1)) * math.sqrt(TRADING_DAYS)\n",
      "/var/folders/mn/tx231v5158797chnp22wm9000000gp/T/ipykernel_61094/4004665421.py:78: FutureWarning: Calling float on a single element Series is deprecated and will raise a TypeError in the future. Use float(ser.iloc[0]) instead\n",
      "  S0 = float(tail.iloc[-1])\n"
     ]
    },
    {
     "name": "stdout",
     "output_type": "stream",
     "text": [
      "  > INDIACEM.NS\n"
     ]
    },
    {
     "name": "stderr",
     "output_type": "stream",
     "text": [
      "/var/folders/mn/tx231v5158797chnp22wm9000000gp/T/ipykernel_61094/4004665421.py:76: FutureWarning: Calling float on a single element Series is deprecated and will raise a TypeError in the future. Use float(ser.iloc[0]) instead\n",
      "  mu_ann = float(log_ret.mean()) * TRADING_DAYS\n",
      "/var/folders/mn/tx231v5158797chnp22wm9000000gp/T/ipykernel_61094/4004665421.py:77: FutureWarning: Calling float on a single element Series is deprecated and will raise a TypeError in the future. Use float(ser.iloc[0]) instead\n",
      "  sigma_ann = float(log_ret.std(ddof=1)) * math.sqrt(TRADING_DAYS)\n",
      "/var/folders/mn/tx231v5158797chnp22wm9000000gp/T/ipykernel_61094/4004665421.py:78: FutureWarning: Calling float on a single element Series is deprecated and will raise a TypeError in the future. Use float(ser.iloc[0]) instead\n",
      "  S0 = float(tail.iloc[-1])\n"
     ]
    },
    {
     "name": "stdout",
     "output_type": "stream",
     "text": [
      "  > INDIAMART.NS\n"
     ]
    },
    {
     "name": "stderr",
     "output_type": "stream",
     "text": [
      "/var/folders/mn/tx231v5158797chnp22wm9000000gp/T/ipykernel_61094/4004665421.py:76: FutureWarning: Calling float on a single element Series is deprecated and will raise a TypeError in the future. Use float(ser.iloc[0]) instead\n",
      "  mu_ann = float(log_ret.mean()) * TRADING_DAYS\n",
      "/var/folders/mn/tx231v5158797chnp22wm9000000gp/T/ipykernel_61094/4004665421.py:77: FutureWarning: Calling float on a single element Series is deprecated and will raise a TypeError in the future. Use float(ser.iloc[0]) instead\n",
      "  sigma_ann = float(log_ret.std(ddof=1)) * math.sqrt(TRADING_DAYS)\n",
      "/var/folders/mn/tx231v5158797chnp22wm9000000gp/T/ipykernel_61094/4004665421.py:78: FutureWarning: Calling float on a single element Series is deprecated and will raise a TypeError in the future. Use float(ser.iloc[0]) instead\n",
      "  S0 = float(tail.iloc[-1])\n"
     ]
    },
    {
     "name": "stdout",
     "output_type": "stream",
     "text": [
      "  > INDIANB.NS\n"
     ]
    },
    {
     "name": "stderr",
     "output_type": "stream",
     "text": [
      "/var/folders/mn/tx231v5158797chnp22wm9000000gp/T/ipykernel_61094/4004665421.py:76: FutureWarning: Calling float on a single element Series is deprecated and will raise a TypeError in the future. Use float(ser.iloc[0]) instead\n",
      "  mu_ann = float(log_ret.mean()) * TRADING_DAYS\n",
      "/var/folders/mn/tx231v5158797chnp22wm9000000gp/T/ipykernel_61094/4004665421.py:77: FutureWarning: Calling float on a single element Series is deprecated and will raise a TypeError in the future. Use float(ser.iloc[0]) instead\n",
      "  sigma_ann = float(log_ret.std(ddof=1)) * math.sqrt(TRADING_DAYS)\n",
      "/var/folders/mn/tx231v5158797chnp22wm9000000gp/T/ipykernel_61094/4004665421.py:78: FutureWarning: Calling float on a single element Series is deprecated and will raise a TypeError in the future. Use float(ser.iloc[0]) instead\n",
      "  S0 = float(tail.iloc[-1])\n"
     ]
    },
    {
     "name": "stdout",
     "output_type": "stream",
     "text": [
      "  > IEX.NS\n"
     ]
    },
    {
     "name": "stderr",
     "output_type": "stream",
     "text": [
      "/var/folders/mn/tx231v5158797chnp22wm9000000gp/T/ipykernel_61094/4004665421.py:76: FutureWarning: Calling float on a single element Series is deprecated and will raise a TypeError in the future. Use float(ser.iloc[0]) instead\n",
      "  mu_ann = float(log_ret.mean()) * TRADING_DAYS\n",
      "/var/folders/mn/tx231v5158797chnp22wm9000000gp/T/ipykernel_61094/4004665421.py:77: FutureWarning: Calling float on a single element Series is deprecated and will raise a TypeError in the future. Use float(ser.iloc[0]) instead\n",
      "  sigma_ann = float(log_ret.std(ddof=1)) * math.sqrt(TRADING_DAYS)\n",
      "/var/folders/mn/tx231v5158797chnp22wm9000000gp/T/ipykernel_61094/4004665421.py:78: FutureWarning: Calling float on a single element Series is deprecated and will raise a TypeError in the future. Use float(ser.iloc[0]) instead\n",
      "  S0 = float(tail.iloc[-1])\n"
     ]
    },
    {
     "name": "stdout",
     "output_type": "stream",
     "text": [
      "  > INDHOTEL.NS\n"
     ]
    },
    {
     "name": "stderr",
     "output_type": "stream",
     "text": [
      "/var/folders/mn/tx231v5158797chnp22wm9000000gp/T/ipykernel_61094/4004665421.py:76: FutureWarning: Calling float on a single element Series is deprecated and will raise a TypeError in the future. Use float(ser.iloc[0]) instead\n",
      "  mu_ann = float(log_ret.mean()) * TRADING_DAYS\n",
      "/var/folders/mn/tx231v5158797chnp22wm9000000gp/T/ipykernel_61094/4004665421.py:77: FutureWarning: Calling float on a single element Series is deprecated and will raise a TypeError in the future. Use float(ser.iloc[0]) instead\n",
      "  sigma_ann = float(log_ret.std(ddof=1)) * math.sqrt(TRADING_DAYS)\n",
      "/var/folders/mn/tx231v5158797chnp22wm9000000gp/T/ipykernel_61094/4004665421.py:78: FutureWarning: Calling float on a single element Series is deprecated and will raise a TypeError in the future. Use float(ser.iloc[0]) instead\n",
      "  S0 = float(tail.iloc[-1])\n"
     ]
    },
    {
     "name": "stdout",
     "output_type": "stream",
     "text": [
      "  > IOC.NS\n"
     ]
    },
    {
     "name": "stderr",
     "output_type": "stream",
     "text": [
      "/var/folders/mn/tx231v5158797chnp22wm9000000gp/T/ipykernel_61094/4004665421.py:76: FutureWarning: Calling float on a single element Series is deprecated and will raise a TypeError in the future. Use float(ser.iloc[0]) instead\n",
      "  mu_ann = float(log_ret.mean()) * TRADING_DAYS\n",
      "/var/folders/mn/tx231v5158797chnp22wm9000000gp/T/ipykernel_61094/4004665421.py:77: FutureWarning: Calling float on a single element Series is deprecated and will raise a TypeError in the future. Use float(ser.iloc[0]) instead\n",
      "  sigma_ann = float(log_ret.std(ddof=1)) * math.sqrt(TRADING_DAYS)\n",
      "/var/folders/mn/tx231v5158797chnp22wm9000000gp/T/ipykernel_61094/4004665421.py:78: FutureWarning: Calling float on a single element Series is deprecated and will raise a TypeError in the future. Use float(ser.iloc[0]) instead\n",
      "  S0 = float(tail.iloc[-1])\n"
     ]
    },
    {
     "name": "stdout",
     "output_type": "stream",
     "text": [
      "  > IOB.NS\n"
     ]
    },
    {
     "name": "stderr",
     "output_type": "stream",
     "text": [
      "/var/folders/mn/tx231v5158797chnp22wm9000000gp/T/ipykernel_61094/4004665421.py:76: FutureWarning: Calling float on a single element Series is deprecated and will raise a TypeError in the future. Use float(ser.iloc[0]) instead\n",
      "  mu_ann = float(log_ret.mean()) * TRADING_DAYS\n",
      "/var/folders/mn/tx231v5158797chnp22wm9000000gp/T/ipykernel_61094/4004665421.py:77: FutureWarning: Calling float on a single element Series is deprecated and will raise a TypeError in the future. Use float(ser.iloc[0]) instead\n",
      "  sigma_ann = float(log_ret.std(ddof=1)) * math.sqrt(TRADING_DAYS)\n",
      "/var/folders/mn/tx231v5158797chnp22wm9000000gp/T/ipykernel_61094/4004665421.py:78: FutureWarning: Calling float on a single element Series is deprecated and will raise a TypeError in the future. Use float(ser.iloc[0]) instead\n",
      "  S0 = float(tail.iloc[-1])\n"
     ]
    },
    {
     "name": "stdout",
     "output_type": "stream",
     "text": [
      "  > IRCTC.NS\n"
     ]
    },
    {
     "name": "stderr",
     "output_type": "stream",
     "text": [
      "/var/folders/mn/tx231v5158797chnp22wm9000000gp/T/ipykernel_61094/4004665421.py:76: FutureWarning: Calling float on a single element Series is deprecated and will raise a TypeError in the future. Use float(ser.iloc[0]) instead\n",
      "  mu_ann = float(log_ret.mean()) * TRADING_DAYS\n",
      "/var/folders/mn/tx231v5158797chnp22wm9000000gp/T/ipykernel_61094/4004665421.py:77: FutureWarning: Calling float on a single element Series is deprecated and will raise a TypeError in the future. Use float(ser.iloc[0]) instead\n",
      "  sigma_ann = float(log_ret.std(ddof=1)) * math.sqrt(TRADING_DAYS)\n",
      "/var/folders/mn/tx231v5158797chnp22wm9000000gp/T/ipykernel_61094/4004665421.py:78: FutureWarning: Calling float on a single element Series is deprecated and will raise a TypeError in the future. Use float(ser.iloc[0]) instead\n",
      "  S0 = float(tail.iloc[-1])\n"
     ]
    },
    {
     "name": "stdout",
     "output_type": "stream",
     "text": [
      "  > IRFC.NS\n"
     ]
    },
    {
     "name": "stderr",
     "output_type": "stream",
     "text": [
      "/var/folders/mn/tx231v5158797chnp22wm9000000gp/T/ipykernel_61094/4004665421.py:76: FutureWarning: Calling float on a single element Series is deprecated and will raise a TypeError in the future. Use float(ser.iloc[0]) instead\n",
      "  mu_ann = float(log_ret.mean()) * TRADING_DAYS\n",
      "/var/folders/mn/tx231v5158797chnp22wm9000000gp/T/ipykernel_61094/4004665421.py:77: FutureWarning: Calling float on a single element Series is deprecated and will raise a TypeError in the future. Use float(ser.iloc[0]) instead\n",
      "  sigma_ann = float(log_ret.std(ddof=1)) * math.sqrt(TRADING_DAYS)\n",
      "/var/folders/mn/tx231v5158797chnp22wm9000000gp/T/ipykernel_61094/4004665421.py:78: FutureWarning: Calling float on a single element Series is deprecated and will raise a TypeError in the future. Use float(ser.iloc[0]) instead\n",
      "  S0 = float(tail.iloc[-1])\n"
     ]
    },
    {
     "name": "stdout",
     "output_type": "stream",
     "text": [
      "  > IREDA.NS\n"
     ]
    },
    {
     "name": "stderr",
     "output_type": "stream",
     "text": [
      "/var/folders/mn/tx231v5158797chnp22wm9000000gp/T/ipykernel_61094/4004665421.py:76: FutureWarning: Calling float on a single element Series is deprecated and will raise a TypeError in the future. Use float(ser.iloc[0]) instead\n",
      "  mu_ann = float(log_ret.mean()) * TRADING_DAYS\n",
      "/var/folders/mn/tx231v5158797chnp22wm9000000gp/T/ipykernel_61094/4004665421.py:77: FutureWarning: Calling float on a single element Series is deprecated and will raise a TypeError in the future. Use float(ser.iloc[0]) instead\n",
      "  sigma_ann = float(log_ret.std(ddof=1)) * math.sqrt(TRADING_DAYS)\n",
      "/var/folders/mn/tx231v5158797chnp22wm9000000gp/T/ipykernel_61094/4004665421.py:78: FutureWarning: Calling float on a single element Series is deprecated and will raise a TypeError in the future. Use float(ser.iloc[0]) instead\n",
      "  S0 = float(tail.iloc[-1])\n"
     ]
    },
    {
     "name": "stdout",
     "output_type": "stream",
     "text": [
      "  > IGL.NS\n"
     ]
    },
    {
     "name": "stderr",
     "output_type": "stream",
     "text": [
      "/var/folders/mn/tx231v5158797chnp22wm9000000gp/T/ipykernel_61094/4004665421.py:76: FutureWarning: Calling float on a single element Series is deprecated and will raise a TypeError in the future. Use float(ser.iloc[0]) instead\n",
      "  mu_ann = float(log_ret.mean()) * TRADING_DAYS\n",
      "/var/folders/mn/tx231v5158797chnp22wm9000000gp/T/ipykernel_61094/4004665421.py:77: FutureWarning: Calling float on a single element Series is deprecated and will raise a TypeError in the future. Use float(ser.iloc[0]) instead\n",
      "  sigma_ann = float(log_ret.std(ddof=1)) * math.sqrt(TRADING_DAYS)\n",
      "/var/folders/mn/tx231v5158797chnp22wm9000000gp/T/ipykernel_61094/4004665421.py:78: FutureWarning: Calling float on a single element Series is deprecated and will raise a TypeError in the future. Use float(ser.iloc[0]) instead\n",
      "  S0 = float(tail.iloc[-1])\n"
     ]
    },
    {
     "name": "stdout",
     "output_type": "stream",
     "text": [
      "  > INDUSTOWER.NS\n"
     ]
    },
    {
     "name": "stderr",
     "output_type": "stream",
     "text": [
      "/var/folders/mn/tx231v5158797chnp22wm9000000gp/T/ipykernel_61094/4004665421.py:76: FutureWarning: Calling float on a single element Series is deprecated and will raise a TypeError in the future. Use float(ser.iloc[0]) instead\n",
      "  mu_ann = float(log_ret.mean()) * TRADING_DAYS\n",
      "/var/folders/mn/tx231v5158797chnp22wm9000000gp/T/ipykernel_61094/4004665421.py:77: FutureWarning: Calling float on a single element Series is deprecated and will raise a TypeError in the future. Use float(ser.iloc[0]) instead\n",
      "  sigma_ann = float(log_ret.std(ddof=1)) * math.sqrt(TRADING_DAYS)\n",
      "/var/folders/mn/tx231v5158797chnp22wm9000000gp/T/ipykernel_61094/4004665421.py:78: FutureWarning: Calling float on a single element Series is deprecated and will raise a TypeError in the future. Use float(ser.iloc[0]) instead\n",
      "  S0 = float(tail.iloc[-1])\n"
     ]
    },
    {
     "name": "stdout",
     "output_type": "stream",
     "text": [
      "  > INDUSINDBK.NS\n"
     ]
    },
    {
     "name": "stderr",
     "output_type": "stream",
     "text": [
      "/var/folders/mn/tx231v5158797chnp22wm9000000gp/T/ipykernel_61094/4004665421.py:76: FutureWarning: Calling float on a single element Series is deprecated and will raise a TypeError in the future. Use float(ser.iloc[0]) instead\n",
      "  mu_ann = float(log_ret.mean()) * TRADING_DAYS\n",
      "/var/folders/mn/tx231v5158797chnp22wm9000000gp/T/ipykernel_61094/4004665421.py:77: FutureWarning: Calling float on a single element Series is deprecated and will raise a TypeError in the future. Use float(ser.iloc[0]) instead\n",
      "  sigma_ann = float(log_ret.std(ddof=1)) * math.sqrt(TRADING_DAYS)\n",
      "/var/folders/mn/tx231v5158797chnp22wm9000000gp/T/ipykernel_61094/4004665421.py:78: FutureWarning: Calling float on a single element Series is deprecated and will raise a TypeError in the future. Use float(ser.iloc[0]) instead\n",
      "  S0 = float(tail.iloc[-1])\n"
     ]
    },
    {
     "name": "stdout",
     "output_type": "stream",
     "text": [
      "  > NAUKRI.NS\n"
     ]
    },
    {
     "name": "stderr",
     "output_type": "stream",
     "text": [
      "/var/folders/mn/tx231v5158797chnp22wm9000000gp/T/ipykernel_61094/4004665421.py:76: FutureWarning: Calling float on a single element Series is deprecated and will raise a TypeError in the future. Use float(ser.iloc[0]) instead\n",
      "  mu_ann = float(log_ret.mean()) * TRADING_DAYS\n",
      "/var/folders/mn/tx231v5158797chnp22wm9000000gp/T/ipykernel_61094/4004665421.py:77: FutureWarning: Calling float on a single element Series is deprecated and will raise a TypeError in the future. Use float(ser.iloc[0]) instead\n",
      "  sigma_ann = float(log_ret.std(ddof=1)) * math.sqrt(TRADING_DAYS)\n",
      "/var/folders/mn/tx231v5158797chnp22wm9000000gp/T/ipykernel_61094/4004665421.py:78: FutureWarning: Calling float on a single element Series is deprecated and will raise a TypeError in the future. Use float(ser.iloc[0]) instead\n",
      "  S0 = float(tail.iloc[-1])\n"
     ]
    },
    {
     "name": "stdout",
     "output_type": "stream",
     "text": [
      "  > INFY.NS\n"
     ]
    },
    {
     "name": "stderr",
     "output_type": "stream",
     "text": [
      "/var/folders/mn/tx231v5158797chnp22wm9000000gp/T/ipykernel_61094/4004665421.py:76: FutureWarning: Calling float on a single element Series is deprecated and will raise a TypeError in the future. Use float(ser.iloc[0]) instead\n",
      "  mu_ann = float(log_ret.mean()) * TRADING_DAYS\n",
      "/var/folders/mn/tx231v5158797chnp22wm9000000gp/T/ipykernel_61094/4004665421.py:77: FutureWarning: Calling float on a single element Series is deprecated and will raise a TypeError in the future. Use float(ser.iloc[0]) instead\n",
      "  sigma_ann = float(log_ret.std(ddof=1)) * math.sqrt(TRADING_DAYS)\n",
      "/var/folders/mn/tx231v5158797chnp22wm9000000gp/T/ipykernel_61094/4004665421.py:78: FutureWarning: Calling float on a single element Series is deprecated and will raise a TypeError in the future. Use float(ser.iloc[0]) instead\n",
      "  S0 = float(tail.iloc[-1])\n"
     ]
    },
    {
     "name": "stdout",
     "output_type": "stream",
     "text": [
      "  > INOXWIND.NS\n"
     ]
    },
    {
     "name": "stderr",
     "output_type": "stream",
     "text": [
      "/var/folders/mn/tx231v5158797chnp22wm9000000gp/T/ipykernel_61094/4004665421.py:76: FutureWarning: Calling float on a single element Series is deprecated and will raise a TypeError in the future. Use float(ser.iloc[0]) instead\n",
      "  mu_ann = float(log_ret.mean()) * TRADING_DAYS\n",
      "/var/folders/mn/tx231v5158797chnp22wm9000000gp/T/ipykernel_61094/4004665421.py:77: FutureWarning: Calling float on a single element Series is deprecated and will raise a TypeError in the future. Use float(ser.iloc[0]) instead\n",
      "  sigma_ann = float(log_ret.std(ddof=1)) * math.sqrt(TRADING_DAYS)\n",
      "/var/folders/mn/tx231v5158797chnp22wm9000000gp/T/ipykernel_61094/4004665421.py:78: FutureWarning: Calling float on a single element Series is deprecated and will raise a TypeError in the future. Use float(ser.iloc[0]) instead\n",
      "  S0 = float(tail.iloc[-1])\n"
     ]
    },
    {
     "name": "stdout",
     "output_type": "stream",
     "text": [
      "  > INTELLECT.NS\n"
     ]
    },
    {
     "name": "stderr",
     "output_type": "stream",
     "text": [
      "/var/folders/mn/tx231v5158797chnp22wm9000000gp/T/ipykernel_61094/4004665421.py:76: FutureWarning: Calling float on a single element Series is deprecated and will raise a TypeError in the future. Use float(ser.iloc[0]) instead\n",
      "  mu_ann = float(log_ret.mean()) * TRADING_DAYS\n",
      "/var/folders/mn/tx231v5158797chnp22wm9000000gp/T/ipykernel_61094/4004665421.py:77: FutureWarning: Calling float on a single element Series is deprecated and will raise a TypeError in the future. Use float(ser.iloc[0]) instead\n",
      "  sigma_ann = float(log_ret.std(ddof=1)) * math.sqrt(TRADING_DAYS)\n",
      "/var/folders/mn/tx231v5158797chnp22wm9000000gp/T/ipykernel_61094/4004665421.py:78: FutureWarning: Calling float on a single element Series is deprecated and will raise a TypeError in the future. Use float(ser.iloc[0]) instead\n",
      "  S0 = float(tail.iloc[-1])\n"
     ]
    },
    {
     "name": "stdout",
     "output_type": "stream",
     "text": [
      "  > INDIGO.NS\n"
     ]
    },
    {
     "name": "stderr",
     "output_type": "stream",
     "text": [
      "/var/folders/mn/tx231v5158797chnp22wm9000000gp/T/ipykernel_61094/4004665421.py:76: FutureWarning: Calling float on a single element Series is deprecated and will raise a TypeError in the future. Use float(ser.iloc[0]) instead\n",
      "  mu_ann = float(log_ret.mean()) * TRADING_DAYS\n",
      "/var/folders/mn/tx231v5158797chnp22wm9000000gp/T/ipykernel_61094/4004665421.py:77: FutureWarning: Calling float on a single element Series is deprecated and will raise a TypeError in the future. Use float(ser.iloc[0]) instead\n",
      "  sigma_ann = float(log_ret.std(ddof=1)) * math.sqrt(TRADING_DAYS)\n",
      "/var/folders/mn/tx231v5158797chnp22wm9000000gp/T/ipykernel_61094/4004665421.py:78: FutureWarning: Calling float on a single element Series is deprecated and will raise a TypeError in the future. Use float(ser.iloc[0]) instead\n",
      "  S0 = float(tail.iloc[-1])\n"
     ]
    },
    {
     "name": "stdout",
     "output_type": "stream",
     "text": [
      "  > IGIL.NS\n"
     ]
    },
    {
     "name": "stderr",
     "output_type": "stream",
     "text": [
      "/var/folders/mn/tx231v5158797chnp22wm9000000gp/T/ipykernel_61094/4004665421.py:76: FutureWarning: Calling float on a single element Series is deprecated and will raise a TypeError in the future. Use float(ser.iloc[0]) instead\n",
      "  mu_ann = float(log_ret.mean()) * TRADING_DAYS\n",
      "/var/folders/mn/tx231v5158797chnp22wm9000000gp/T/ipykernel_61094/4004665421.py:77: FutureWarning: Calling float on a single element Series is deprecated and will raise a TypeError in the future. Use float(ser.iloc[0]) instead\n",
      "  sigma_ann = float(log_ret.std(ddof=1)) * math.sqrt(TRADING_DAYS)\n",
      "/var/folders/mn/tx231v5158797chnp22wm9000000gp/T/ipykernel_61094/4004665421.py:78: FutureWarning: Calling float on a single element Series is deprecated and will raise a TypeError in the future. Use float(ser.iloc[0]) instead\n",
      "  S0 = float(tail.iloc[-1])\n"
     ]
    },
    {
     "name": "stdout",
     "output_type": "stream",
     "text": [
      "  > IKS.NS\n"
     ]
    },
    {
     "name": "stderr",
     "output_type": "stream",
     "text": [
      "/var/folders/mn/tx231v5158797chnp22wm9000000gp/T/ipykernel_61094/4004665421.py:76: FutureWarning: Calling float on a single element Series is deprecated and will raise a TypeError in the future. Use float(ser.iloc[0]) instead\n",
      "  mu_ann = float(log_ret.mean()) * TRADING_DAYS\n",
      "/var/folders/mn/tx231v5158797chnp22wm9000000gp/T/ipykernel_61094/4004665421.py:77: FutureWarning: Calling float on a single element Series is deprecated and will raise a TypeError in the future. Use float(ser.iloc[0]) instead\n",
      "  sigma_ann = float(log_ret.std(ddof=1)) * math.sqrt(TRADING_DAYS)\n",
      "/var/folders/mn/tx231v5158797chnp22wm9000000gp/T/ipykernel_61094/4004665421.py:78: FutureWarning: Calling float on a single element Series is deprecated and will raise a TypeError in the future. Use float(ser.iloc[0]) instead\n",
      "  S0 = float(tail.iloc[-1])\n"
     ]
    },
    {
     "name": "stdout",
     "output_type": "stream",
     "text": [
      "  > IPCALAB.NS\n"
     ]
    },
    {
     "name": "stderr",
     "output_type": "stream",
     "text": [
      "/var/folders/mn/tx231v5158797chnp22wm9000000gp/T/ipykernel_61094/4004665421.py:76: FutureWarning: Calling float on a single element Series is deprecated and will raise a TypeError in the future. Use float(ser.iloc[0]) instead\n",
      "  mu_ann = float(log_ret.mean()) * TRADING_DAYS\n",
      "/var/folders/mn/tx231v5158797chnp22wm9000000gp/T/ipykernel_61094/4004665421.py:77: FutureWarning: Calling float on a single element Series is deprecated and will raise a TypeError in the future. Use float(ser.iloc[0]) instead\n",
      "  sigma_ann = float(log_ret.std(ddof=1)) * math.sqrt(TRADING_DAYS)\n",
      "/var/folders/mn/tx231v5158797chnp22wm9000000gp/T/ipykernel_61094/4004665421.py:78: FutureWarning: Calling float on a single element Series is deprecated and will raise a TypeError in the future. Use float(ser.iloc[0]) instead\n",
      "  S0 = float(tail.iloc[-1])\n"
     ]
    },
    {
     "name": "stdout",
     "output_type": "stream",
     "text": [
      "  > JBCHEPHARM.NS\n"
     ]
    },
    {
     "name": "stderr",
     "output_type": "stream",
     "text": [
      "/var/folders/mn/tx231v5158797chnp22wm9000000gp/T/ipykernel_61094/4004665421.py:76: FutureWarning: Calling float on a single element Series is deprecated and will raise a TypeError in the future. Use float(ser.iloc[0]) instead\n",
      "  mu_ann = float(log_ret.mean()) * TRADING_DAYS\n",
      "/var/folders/mn/tx231v5158797chnp22wm9000000gp/T/ipykernel_61094/4004665421.py:77: FutureWarning: Calling float on a single element Series is deprecated and will raise a TypeError in the future. Use float(ser.iloc[0]) instead\n",
      "  sigma_ann = float(log_ret.std(ddof=1)) * math.sqrt(TRADING_DAYS)\n",
      "/var/folders/mn/tx231v5158797chnp22wm9000000gp/T/ipykernel_61094/4004665421.py:78: FutureWarning: Calling float on a single element Series is deprecated and will raise a TypeError in the future. Use float(ser.iloc[0]) instead\n",
      "  S0 = float(tail.iloc[-1])\n"
     ]
    },
    {
     "name": "stdout",
     "output_type": "stream",
     "text": [
      "  > JKCEMENT.NS\n"
     ]
    },
    {
     "name": "stderr",
     "output_type": "stream",
     "text": [
      "/var/folders/mn/tx231v5158797chnp22wm9000000gp/T/ipykernel_61094/4004665421.py:76: FutureWarning: Calling float on a single element Series is deprecated and will raise a TypeError in the future. Use float(ser.iloc[0]) instead\n",
      "  mu_ann = float(log_ret.mean()) * TRADING_DAYS\n",
      "/var/folders/mn/tx231v5158797chnp22wm9000000gp/T/ipykernel_61094/4004665421.py:77: FutureWarning: Calling float on a single element Series is deprecated and will raise a TypeError in the future. Use float(ser.iloc[0]) instead\n",
      "  sigma_ann = float(log_ret.std(ddof=1)) * math.sqrt(TRADING_DAYS)\n",
      "/var/folders/mn/tx231v5158797chnp22wm9000000gp/T/ipykernel_61094/4004665421.py:78: FutureWarning: Calling float on a single element Series is deprecated and will raise a TypeError in the future. Use float(ser.iloc[0]) instead\n",
      "  S0 = float(tail.iloc[-1])\n"
     ]
    },
    {
     "name": "stdout",
     "output_type": "stream",
     "text": [
      "  > JBMA.NS\n"
     ]
    },
    {
     "name": "stderr",
     "output_type": "stream",
     "text": [
      "/var/folders/mn/tx231v5158797chnp22wm9000000gp/T/ipykernel_61094/4004665421.py:76: FutureWarning: Calling float on a single element Series is deprecated and will raise a TypeError in the future. Use float(ser.iloc[0]) instead\n",
      "  mu_ann = float(log_ret.mean()) * TRADING_DAYS\n",
      "/var/folders/mn/tx231v5158797chnp22wm9000000gp/T/ipykernel_61094/4004665421.py:77: FutureWarning: Calling float on a single element Series is deprecated and will raise a TypeError in the future. Use float(ser.iloc[0]) instead\n",
      "  sigma_ann = float(log_ret.std(ddof=1)) * math.sqrt(TRADING_DAYS)\n",
      "/var/folders/mn/tx231v5158797chnp22wm9000000gp/T/ipykernel_61094/4004665421.py:78: FutureWarning: Calling float on a single element Series is deprecated and will raise a TypeError in the future. Use float(ser.iloc[0]) instead\n",
      "  S0 = float(tail.iloc[-1])\n"
     ]
    },
    {
     "name": "stdout",
     "output_type": "stream",
     "text": [
      "  > JKTYRE.NS\n"
     ]
    },
    {
     "name": "stderr",
     "output_type": "stream",
     "text": [
      "/var/folders/mn/tx231v5158797chnp22wm9000000gp/T/ipykernel_61094/4004665421.py:76: FutureWarning: Calling float on a single element Series is deprecated and will raise a TypeError in the future. Use float(ser.iloc[0]) instead\n",
      "  mu_ann = float(log_ret.mean()) * TRADING_DAYS\n",
      "/var/folders/mn/tx231v5158797chnp22wm9000000gp/T/ipykernel_61094/4004665421.py:77: FutureWarning: Calling float on a single element Series is deprecated and will raise a TypeError in the future. Use float(ser.iloc[0]) instead\n",
      "  sigma_ann = float(log_ret.std(ddof=1)) * math.sqrt(TRADING_DAYS)\n",
      "/var/folders/mn/tx231v5158797chnp22wm9000000gp/T/ipykernel_61094/4004665421.py:78: FutureWarning: Calling float on a single element Series is deprecated and will raise a TypeError in the future. Use float(ser.iloc[0]) instead\n",
      "  S0 = float(tail.iloc[-1])\n"
     ]
    },
    {
     "name": "stdout",
     "output_type": "stream",
     "text": [
      "  > JMFINANCIL.NS\n"
     ]
    },
    {
     "name": "stderr",
     "output_type": "stream",
     "text": [
      "/var/folders/mn/tx231v5158797chnp22wm9000000gp/T/ipykernel_61094/4004665421.py:76: FutureWarning: Calling float on a single element Series is deprecated and will raise a TypeError in the future. Use float(ser.iloc[0]) instead\n",
      "  mu_ann = float(log_ret.mean()) * TRADING_DAYS\n",
      "/var/folders/mn/tx231v5158797chnp22wm9000000gp/T/ipykernel_61094/4004665421.py:77: FutureWarning: Calling float on a single element Series is deprecated and will raise a TypeError in the future. Use float(ser.iloc[0]) instead\n",
      "  sigma_ann = float(log_ret.std(ddof=1)) * math.sqrt(TRADING_DAYS)\n",
      "/var/folders/mn/tx231v5158797chnp22wm9000000gp/T/ipykernel_61094/4004665421.py:78: FutureWarning: Calling float on a single element Series is deprecated and will raise a TypeError in the future. Use float(ser.iloc[0]) instead\n",
      "  S0 = float(tail.iloc[-1])\n"
     ]
    },
    {
     "name": "stdout",
     "output_type": "stream",
     "text": [
      "  > JSWENERGY.NS\n"
     ]
    },
    {
     "name": "stderr",
     "output_type": "stream",
     "text": [
      "/var/folders/mn/tx231v5158797chnp22wm9000000gp/T/ipykernel_61094/4004665421.py:76: FutureWarning: Calling float on a single element Series is deprecated and will raise a TypeError in the future. Use float(ser.iloc[0]) instead\n",
      "  mu_ann = float(log_ret.mean()) * TRADING_DAYS\n",
      "/var/folders/mn/tx231v5158797chnp22wm9000000gp/T/ipykernel_61094/4004665421.py:77: FutureWarning: Calling float on a single element Series is deprecated and will raise a TypeError in the future. Use float(ser.iloc[0]) instead\n",
      "  sigma_ann = float(log_ret.std(ddof=1)) * math.sqrt(TRADING_DAYS)\n",
      "/var/folders/mn/tx231v5158797chnp22wm9000000gp/T/ipykernel_61094/4004665421.py:78: FutureWarning: Calling float on a single element Series is deprecated and will raise a TypeError in the future. Use float(ser.iloc[0]) instead\n",
      "  S0 = float(tail.iloc[-1])\n"
     ]
    },
    {
     "name": "stdout",
     "output_type": "stream",
     "text": [
      "  > JSWHL.NS\n"
     ]
    },
    {
     "name": "stderr",
     "output_type": "stream",
     "text": [
      "/var/folders/mn/tx231v5158797chnp22wm9000000gp/T/ipykernel_61094/4004665421.py:76: FutureWarning: Calling float on a single element Series is deprecated and will raise a TypeError in the future. Use float(ser.iloc[0]) instead\n",
      "  mu_ann = float(log_ret.mean()) * TRADING_DAYS\n",
      "/var/folders/mn/tx231v5158797chnp22wm9000000gp/T/ipykernel_61094/4004665421.py:77: FutureWarning: Calling float on a single element Series is deprecated and will raise a TypeError in the future. Use float(ser.iloc[0]) instead\n",
      "  sigma_ann = float(log_ret.std(ddof=1)) * math.sqrt(TRADING_DAYS)\n",
      "/var/folders/mn/tx231v5158797chnp22wm9000000gp/T/ipykernel_61094/4004665421.py:78: FutureWarning: Calling float on a single element Series is deprecated and will raise a TypeError in the future. Use float(ser.iloc[0]) instead\n",
      "  S0 = float(tail.iloc[-1])\n"
     ]
    },
    {
     "name": "stdout",
     "output_type": "stream",
     "text": [
      "  > JSWINFRA.NS\n"
     ]
    },
    {
     "name": "stderr",
     "output_type": "stream",
     "text": [
      "/var/folders/mn/tx231v5158797chnp22wm9000000gp/T/ipykernel_61094/4004665421.py:76: FutureWarning: Calling float on a single element Series is deprecated and will raise a TypeError in the future. Use float(ser.iloc[0]) instead\n",
      "  mu_ann = float(log_ret.mean()) * TRADING_DAYS\n",
      "/var/folders/mn/tx231v5158797chnp22wm9000000gp/T/ipykernel_61094/4004665421.py:77: FutureWarning: Calling float on a single element Series is deprecated and will raise a TypeError in the future. Use float(ser.iloc[0]) instead\n",
      "  sigma_ann = float(log_ret.std(ddof=1)) * math.sqrt(TRADING_DAYS)\n",
      "/var/folders/mn/tx231v5158797chnp22wm9000000gp/T/ipykernel_61094/4004665421.py:78: FutureWarning: Calling float on a single element Series is deprecated and will raise a TypeError in the future. Use float(ser.iloc[0]) instead\n",
      "  S0 = float(tail.iloc[-1])\n"
     ]
    },
    {
     "name": "stdout",
     "output_type": "stream",
     "text": [
      "  > JSWSTEEL.NS\n"
     ]
    },
    {
     "name": "stderr",
     "output_type": "stream",
     "text": [
      "/var/folders/mn/tx231v5158797chnp22wm9000000gp/T/ipykernel_61094/4004665421.py:76: FutureWarning: Calling float on a single element Series is deprecated and will raise a TypeError in the future. Use float(ser.iloc[0]) instead\n",
      "  mu_ann = float(log_ret.mean()) * TRADING_DAYS\n",
      "/var/folders/mn/tx231v5158797chnp22wm9000000gp/T/ipykernel_61094/4004665421.py:77: FutureWarning: Calling float on a single element Series is deprecated and will raise a TypeError in the future. Use float(ser.iloc[0]) instead\n",
      "  sigma_ann = float(log_ret.std(ddof=1)) * math.sqrt(TRADING_DAYS)\n",
      "/var/folders/mn/tx231v5158797chnp22wm9000000gp/T/ipykernel_61094/4004665421.py:78: FutureWarning: Calling float on a single element Series is deprecated and will raise a TypeError in the future. Use float(ser.iloc[0]) instead\n",
      "  S0 = float(tail.iloc[-1])\n"
     ]
    },
    {
     "name": "stdout",
     "output_type": "stream",
     "text": [
      "  > JPPOWER.NS\n"
     ]
    },
    {
     "name": "stderr",
     "output_type": "stream",
     "text": [
      "/var/folders/mn/tx231v5158797chnp22wm9000000gp/T/ipykernel_61094/4004665421.py:76: FutureWarning: Calling float on a single element Series is deprecated and will raise a TypeError in the future. Use float(ser.iloc[0]) instead\n",
      "  mu_ann = float(log_ret.mean()) * TRADING_DAYS\n",
      "/var/folders/mn/tx231v5158797chnp22wm9000000gp/T/ipykernel_61094/4004665421.py:77: FutureWarning: Calling float on a single element Series is deprecated and will raise a TypeError in the future. Use float(ser.iloc[0]) instead\n",
      "  sigma_ann = float(log_ret.std(ddof=1)) * math.sqrt(TRADING_DAYS)\n",
      "/var/folders/mn/tx231v5158797chnp22wm9000000gp/T/ipykernel_61094/4004665421.py:78: FutureWarning: Calling float on a single element Series is deprecated and will raise a TypeError in the future. Use float(ser.iloc[0]) instead\n",
      "  S0 = float(tail.iloc[-1])\n"
     ]
    },
    {
     "name": "stdout",
     "output_type": "stream",
     "text": [
      "  > J&KBANK.NS\n"
     ]
    },
    {
     "name": "stderr",
     "output_type": "stream",
     "text": [
      "/var/folders/mn/tx231v5158797chnp22wm9000000gp/T/ipykernel_61094/4004665421.py:76: FutureWarning: Calling float on a single element Series is deprecated and will raise a TypeError in the future. Use float(ser.iloc[0]) instead\n",
      "  mu_ann = float(log_ret.mean()) * TRADING_DAYS\n",
      "/var/folders/mn/tx231v5158797chnp22wm9000000gp/T/ipykernel_61094/4004665421.py:77: FutureWarning: Calling float on a single element Series is deprecated and will raise a TypeError in the future. Use float(ser.iloc[0]) instead\n",
      "  sigma_ann = float(log_ret.std(ddof=1)) * math.sqrt(TRADING_DAYS)\n",
      "/var/folders/mn/tx231v5158797chnp22wm9000000gp/T/ipykernel_61094/4004665421.py:78: FutureWarning: Calling float on a single element Series is deprecated and will raise a TypeError in the future. Use float(ser.iloc[0]) instead\n",
      "  S0 = float(tail.iloc[-1])\n"
     ]
    },
    {
     "name": "stdout",
     "output_type": "stream",
     "text": [
      "  > JINDALSAW.NS\n"
     ]
    },
    {
     "name": "stderr",
     "output_type": "stream",
     "text": [
      "/var/folders/mn/tx231v5158797chnp22wm9000000gp/T/ipykernel_61094/4004665421.py:76: FutureWarning: Calling float on a single element Series is deprecated and will raise a TypeError in the future. Use float(ser.iloc[0]) instead\n",
      "  mu_ann = float(log_ret.mean()) * TRADING_DAYS\n",
      "/var/folders/mn/tx231v5158797chnp22wm9000000gp/T/ipykernel_61094/4004665421.py:77: FutureWarning: Calling float on a single element Series is deprecated and will raise a TypeError in the future. Use float(ser.iloc[0]) instead\n",
      "  sigma_ann = float(log_ret.std(ddof=1)) * math.sqrt(TRADING_DAYS)\n",
      "/var/folders/mn/tx231v5158797chnp22wm9000000gp/T/ipykernel_61094/4004665421.py:78: FutureWarning: Calling float on a single element Series is deprecated and will raise a TypeError in the future. Use float(ser.iloc[0]) instead\n",
      "  S0 = float(tail.iloc[-1])\n"
     ]
    },
    {
     "name": "stdout",
     "output_type": "stream",
     "text": [
      "  > JSL.NS\n"
     ]
    },
    {
     "name": "stderr",
     "output_type": "stream",
     "text": [
      "/var/folders/mn/tx231v5158797chnp22wm9000000gp/T/ipykernel_61094/4004665421.py:76: FutureWarning: Calling float on a single element Series is deprecated and will raise a TypeError in the future. Use float(ser.iloc[0]) instead\n",
      "  mu_ann = float(log_ret.mean()) * TRADING_DAYS\n",
      "/var/folders/mn/tx231v5158797chnp22wm9000000gp/T/ipykernel_61094/4004665421.py:77: FutureWarning: Calling float on a single element Series is deprecated and will raise a TypeError in the future. Use float(ser.iloc[0]) instead\n",
      "  sigma_ann = float(log_ret.std(ddof=1)) * math.sqrt(TRADING_DAYS)\n",
      "/var/folders/mn/tx231v5158797chnp22wm9000000gp/T/ipykernel_61094/4004665421.py:78: FutureWarning: Calling float on a single element Series is deprecated and will raise a TypeError in the future. Use float(ser.iloc[0]) instead\n",
      "  S0 = float(tail.iloc[-1])\n"
     ]
    },
    {
     "name": "stdout",
     "output_type": "stream",
     "text": [
      "  > JINDALSTEL.NS\n"
     ]
    },
    {
     "name": "stderr",
     "output_type": "stream",
     "text": [
      "/var/folders/mn/tx231v5158797chnp22wm9000000gp/T/ipykernel_61094/4004665421.py:76: FutureWarning: Calling float on a single element Series is deprecated and will raise a TypeError in the future. Use float(ser.iloc[0]) instead\n",
      "  mu_ann = float(log_ret.mean()) * TRADING_DAYS\n",
      "/var/folders/mn/tx231v5158797chnp22wm9000000gp/T/ipykernel_61094/4004665421.py:77: FutureWarning: Calling float on a single element Series is deprecated and will raise a TypeError in the future. Use float(ser.iloc[0]) instead\n",
      "  sigma_ann = float(log_ret.std(ddof=1)) * math.sqrt(TRADING_DAYS)\n",
      "/var/folders/mn/tx231v5158797chnp22wm9000000gp/T/ipykernel_61094/4004665421.py:78: FutureWarning: Calling float on a single element Series is deprecated and will raise a TypeError in the future. Use float(ser.iloc[0]) instead\n",
      "  S0 = float(tail.iloc[-1])\n"
     ]
    },
    {
     "name": "stdout",
     "output_type": "stream",
     "text": [
      "  > JIOFIN.NS\n"
     ]
    },
    {
     "name": "stderr",
     "output_type": "stream",
     "text": [
      "/var/folders/mn/tx231v5158797chnp22wm9000000gp/T/ipykernel_61094/4004665421.py:76: FutureWarning: Calling float on a single element Series is deprecated and will raise a TypeError in the future. Use float(ser.iloc[0]) instead\n",
      "  mu_ann = float(log_ret.mean()) * TRADING_DAYS\n",
      "/var/folders/mn/tx231v5158797chnp22wm9000000gp/T/ipykernel_61094/4004665421.py:77: FutureWarning: Calling float on a single element Series is deprecated and will raise a TypeError in the future. Use float(ser.iloc[0]) instead\n",
      "  sigma_ann = float(log_ret.std(ddof=1)) * math.sqrt(TRADING_DAYS)\n",
      "/var/folders/mn/tx231v5158797chnp22wm9000000gp/T/ipykernel_61094/4004665421.py:78: FutureWarning: Calling float on a single element Series is deprecated and will raise a TypeError in the future. Use float(ser.iloc[0]) instead\n",
      "  S0 = float(tail.iloc[-1])\n"
     ]
    },
    {
     "name": "stdout",
     "output_type": "stream",
     "text": [
      "  > JUBLFOOD.NS\n"
     ]
    },
    {
     "name": "stderr",
     "output_type": "stream",
     "text": [
      "/var/folders/mn/tx231v5158797chnp22wm9000000gp/T/ipykernel_61094/4004665421.py:76: FutureWarning: Calling float on a single element Series is deprecated and will raise a TypeError in the future. Use float(ser.iloc[0]) instead\n",
      "  mu_ann = float(log_ret.mean()) * TRADING_DAYS\n",
      "/var/folders/mn/tx231v5158797chnp22wm9000000gp/T/ipykernel_61094/4004665421.py:77: FutureWarning: Calling float on a single element Series is deprecated and will raise a TypeError in the future. Use float(ser.iloc[0]) instead\n",
      "  sigma_ann = float(log_ret.std(ddof=1)) * math.sqrt(TRADING_DAYS)\n",
      "/var/folders/mn/tx231v5158797chnp22wm9000000gp/T/ipykernel_61094/4004665421.py:78: FutureWarning: Calling float on a single element Series is deprecated and will raise a TypeError in the future. Use float(ser.iloc[0]) instead\n",
      "  S0 = float(tail.iloc[-1])\n"
     ]
    },
    {
     "name": "stdout",
     "output_type": "stream",
     "text": [
      "  > JUBLINGREA.NS\n"
     ]
    },
    {
     "name": "stderr",
     "output_type": "stream",
     "text": [
      "/var/folders/mn/tx231v5158797chnp22wm9000000gp/T/ipykernel_61094/4004665421.py:76: FutureWarning: Calling float on a single element Series is deprecated and will raise a TypeError in the future. Use float(ser.iloc[0]) instead\n",
      "  mu_ann = float(log_ret.mean()) * TRADING_DAYS\n",
      "/var/folders/mn/tx231v5158797chnp22wm9000000gp/T/ipykernel_61094/4004665421.py:77: FutureWarning: Calling float on a single element Series is deprecated and will raise a TypeError in the future. Use float(ser.iloc[0]) instead\n",
      "  sigma_ann = float(log_ret.std(ddof=1)) * math.sqrt(TRADING_DAYS)\n",
      "/var/folders/mn/tx231v5158797chnp22wm9000000gp/T/ipykernel_61094/4004665421.py:78: FutureWarning: Calling float on a single element Series is deprecated and will raise a TypeError in the future. Use float(ser.iloc[0]) instead\n",
      "  S0 = float(tail.iloc[-1])\n"
     ]
    },
    {
     "name": "stdout",
     "output_type": "stream",
     "text": [
      "  > JUBLPHARMA.NS\n"
     ]
    },
    {
     "name": "stderr",
     "output_type": "stream",
     "text": [
      "/var/folders/mn/tx231v5158797chnp22wm9000000gp/T/ipykernel_61094/4004665421.py:76: FutureWarning: Calling float on a single element Series is deprecated and will raise a TypeError in the future. Use float(ser.iloc[0]) instead\n",
      "  mu_ann = float(log_ret.mean()) * TRADING_DAYS\n",
      "/var/folders/mn/tx231v5158797chnp22wm9000000gp/T/ipykernel_61094/4004665421.py:77: FutureWarning: Calling float on a single element Series is deprecated and will raise a TypeError in the future. Use float(ser.iloc[0]) instead\n",
      "  sigma_ann = float(log_ret.std(ddof=1)) * math.sqrt(TRADING_DAYS)\n",
      "/var/folders/mn/tx231v5158797chnp22wm9000000gp/T/ipykernel_61094/4004665421.py:78: FutureWarning: Calling float on a single element Series is deprecated and will raise a TypeError in the future. Use float(ser.iloc[0]) instead\n",
      "  S0 = float(tail.iloc[-1])\n"
     ]
    },
    {
     "name": "stdout",
     "output_type": "stream",
     "text": [
      "  > JWL.NS\n"
     ]
    },
    {
     "name": "stderr",
     "output_type": "stream",
     "text": [
      "/var/folders/mn/tx231v5158797chnp22wm9000000gp/T/ipykernel_61094/4004665421.py:76: FutureWarning: Calling float on a single element Series is deprecated and will raise a TypeError in the future. Use float(ser.iloc[0]) instead\n",
      "  mu_ann = float(log_ret.mean()) * TRADING_DAYS\n",
      "/var/folders/mn/tx231v5158797chnp22wm9000000gp/T/ipykernel_61094/4004665421.py:77: FutureWarning: Calling float on a single element Series is deprecated and will raise a TypeError in the future. Use float(ser.iloc[0]) instead\n",
      "  sigma_ann = float(log_ret.std(ddof=1)) * math.sqrt(TRADING_DAYS)\n",
      "/var/folders/mn/tx231v5158797chnp22wm9000000gp/T/ipykernel_61094/4004665421.py:78: FutureWarning: Calling float on a single element Series is deprecated and will raise a TypeError in the future. Use float(ser.iloc[0]) instead\n",
      "  S0 = float(tail.iloc[-1])\n"
     ]
    },
    {
     "name": "stdout",
     "output_type": "stream",
     "text": [
      "  > JUSTDIAL.NS\n"
     ]
    },
    {
     "name": "stderr",
     "output_type": "stream",
     "text": [
      "/var/folders/mn/tx231v5158797chnp22wm9000000gp/T/ipykernel_61094/4004665421.py:76: FutureWarning: Calling float on a single element Series is deprecated and will raise a TypeError in the future. Use float(ser.iloc[0]) instead\n",
      "  mu_ann = float(log_ret.mean()) * TRADING_DAYS\n",
      "/var/folders/mn/tx231v5158797chnp22wm9000000gp/T/ipykernel_61094/4004665421.py:77: FutureWarning: Calling float on a single element Series is deprecated and will raise a TypeError in the future. Use float(ser.iloc[0]) instead\n",
      "  sigma_ann = float(log_ret.std(ddof=1)) * math.sqrt(TRADING_DAYS)\n",
      "/var/folders/mn/tx231v5158797chnp22wm9000000gp/T/ipykernel_61094/4004665421.py:78: FutureWarning: Calling float on a single element Series is deprecated and will raise a TypeError in the future. Use float(ser.iloc[0]) instead\n",
      "  S0 = float(tail.iloc[-1])\n"
     ]
    },
    {
     "name": "stdout",
     "output_type": "stream",
     "text": [
      "  > JYOTHYLAB.NS\n"
     ]
    },
    {
     "name": "stderr",
     "output_type": "stream",
     "text": [
      "/var/folders/mn/tx231v5158797chnp22wm9000000gp/T/ipykernel_61094/4004665421.py:76: FutureWarning: Calling float on a single element Series is deprecated and will raise a TypeError in the future. Use float(ser.iloc[0]) instead\n",
      "  mu_ann = float(log_ret.mean()) * TRADING_DAYS\n",
      "/var/folders/mn/tx231v5158797chnp22wm9000000gp/T/ipykernel_61094/4004665421.py:77: FutureWarning: Calling float on a single element Series is deprecated and will raise a TypeError in the future. Use float(ser.iloc[0]) instead\n",
      "  sigma_ann = float(log_ret.std(ddof=1)) * math.sqrt(TRADING_DAYS)\n",
      "/var/folders/mn/tx231v5158797chnp22wm9000000gp/T/ipykernel_61094/4004665421.py:78: FutureWarning: Calling float on a single element Series is deprecated and will raise a TypeError in the future. Use float(ser.iloc[0]) instead\n",
      "  S0 = float(tail.iloc[-1])\n"
     ]
    },
    {
     "name": "stdout",
     "output_type": "stream",
     "text": [
      "  > JYOTICNC.NS\n"
     ]
    },
    {
     "name": "stderr",
     "output_type": "stream",
     "text": [
      "/var/folders/mn/tx231v5158797chnp22wm9000000gp/T/ipykernel_61094/4004665421.py:76: FutureWarning: Calling float on a single element Series is deprecated and will raise a TypeError in the future. Use float(ser.iloc[0]) instead\n",
      "  mu_ann = float(log_ret.mean()) * TRADING_DAYS\n",
      "/var/folders/mn/tx231v5158797chnp22wm9000000gp/T/ipykernel_61094/4004665421.py:77: FutureWarning: Calling float on a single element Series is deprecated and will raise a TypeError in the future. Use float(ser.iloc[0]) instead\n",
      "  sigma_ann = float(log_ret.std(ddof=1)) * math.sqrt(TRADING_DAYS)\n",
      "/var/folders/mn/tx231v5158797chnp22wm9000000gp/T/ipykernel_61094/4004665421.py:78: FutureWarning: Calling float on a single element Series is deprecated and will raise a TypeError in the future. Use float(ser.iloc[0]) instead\n",
      "  S0 = float(tail.iloc[-1])\n"
     ]
    },
    {
     "name": "stdout",
     "output_type": "stream",
     "text": [
      "  > KPRMILL.NS\n"
     ]
    },
    {
     "name": "stderr",
     "output_type": "stream",
     "text": [
      "/var/folders/mn/tx231v5158797chnp22wm9000000gp/T/ipykernel_61094/4004665421.py:76: FutureWarning: Calling float on a single element Series is deprecated and will raise a TypeError in the future. Use float(ser.iloc[0]) instead\n",
      "  mu_ann = float(log_ret.mean()) * TRADING_DAYS\n",
      "/var/folders/mn/tx231v5158797chnp22wm9000000gp/T/ipykernel_61094/4004665421.py:77: FutureWarning: Calling float on a single element Series is deprecated and will raise a TypeError in the future. Use float(ser.iloc[0]) instead\n",
      "  sigma_ann = float(log_ret.std(ddof=1)) * math.sqrt(TRADING_DAYS)\n",
      "/var/folders/mn/tx231v5158797chnp22wm9000000gp/T/ipykernel_61094/4004665421.py:78: FutureWarning: Calling float on a single element Series is deprecated and will raise a TypeError in the future. Use float(ser.iloc[0]) instead\n",
      "  S0 = float(tail.iloc[-1])\n"
     ]
    },
    {
     "name": "stdout",
     "output_type": "stream",
     "text": [
      "  > KEI.NS\n"
     ]
    },
    {
     "name": "stderr",
     "output_type": "stream",
     "text": [
      "/var/folders/mn/tx231v5158797chnp22wm9000000gp/T/ipykernel_61094/4004665421.py:76: FutureWarning: Calling float on a single element Series is deprecated and will raise a TypeError in the future. Use float(ser.iloc[0]) instead\n",
      "  mu_ann = float(log_ret.mean()) * TRADING_DAYS\n",
      "/var/folders/mn/tx231v5158797chnp22wm9000000gp/T/ipykernel_61094/4004665421.py:77: FutureWarning: Calling float on a single element Series is deprecated and will raise a TypeError in the future. Use float(ser.iloc[0]) instead\n",
      "  sigma_ann = float(log_ret.std(ddof=1)) * math.sqrt(TRADING_DAYS)\n",
      "/var/folders/mn/tx231v5158797chnp22wm9000000gp/T/ipykernel_61094/4004665421.py:78: FutureWarning: Calling float on a single element Series is deprecated and will raise a TypeError in the future. Use float(ser.iloc[0]) instead\n",
      "  S0 = float(tail.iloc[-1])\n"
     ]
    },
    {
     "name": "stdout",
     "output_type": "stream",
     "text": [
      "  > KNRCON.NS\n"
     ]
    },
    {
     "name": "stderr",
     "output_type": "stream",
     "text": [
      "/var/folders/mn/tx231v5158797chnp22wm9000000gp/T/ipykernel_61094/4004665421.py:76: FutureWarning: Calling float on a single element Series is deprecated and will raise a TypeError in the future. Use float(ser.iloc[0]) instead\n",
      "  mu_ann = float(log_ret.mean()) * TRADING_DAYS\n",
      "/var/folders/mn/tx231v5158797chnp22wm9000000gp/T/ipykernel_61094/4004665421.py:77: FutureWarning: Calling float on a single element Series is deprecated and will raise a TypeError in the future. Use float(ser.iloc[0]) instead\n",
      "  sigma_ann = float(log_ret.std(ddof=1)) * math.sqrt(TRADING_DAYS)\n",
      "/var/folders/mn/tx231v5158797chnp22wm9000000gp/T/ipykernel_61094/4004665421.py:78: FutureWarning: Calling float on a single element Series is deprecated and will raise a TypeError in the future. Use float(ser.iloc[0]) instead\n",
      "  S0 = float(tail.iloc[-1])\n"
     ]
    },
    {
     "name": "stdout",
     "output_type": "stream",
     "text": [
      "  > KPITTECH.NS\n"
     ]
    },
    {
     "name": "stderr",
     "output_type": "stream",
     "text": [
      "/var/folders/mn/tx231v5158797chnp22wm9000000gp/T/ipykernel_61094/4004665421.py:76: FutureWarning: Calling float on a single element Series is deprecated and will raise a TypeError in the future. Use float(ser.iloc[0]) instead\n",
      "  mu_ann = float(log_ret.mean()) * TRADING_DAYS\n",
      "/var/folders/mn/tx231v5158797chnp22wm9000000gp/T/ipykernel_61094/4004665421.py:77: FutureWarning: Calling float on a single element Series is deprecated and will raise a TypeError in the future. Use float(ser.iloc[0]) instead\n",
      "  sigma_ann = float(log_ret.std(ddof=1)) * math.sqrt(TRADING_DAYS)\n",
      "/var/folders/mn/tx231v5158797chnp22wm9000000gp/T/ipykernel_61094/4004665421.py:78: FutureWarning: Calling float on a single element Series is deprecated and will raise a TypeError in the future. Use float(ser.iloc[0]) instead\n",
      "  S0 = float(tail.iloc[-1])\n"
     ]
    },
    {
     "name": "stdout",
     "output_type": "stream",
     "text": [
      "  > KAJARIACER.NS\n"
     ]
    },
    {
     "name": "stderr",
     "output_type": "stream",
     "text": [
      "/var/folders/mn/tx231v5158797chnp22wm9000000gp/T/ipykernel_61094/4004665421.py:76: FutureWarning: Calling float on a single element Series is deprecated and will raise a TypeError in the future. Use float(ser.iloc[0]) instead\n",
      "  mu_ann = float(log_ret.mean()) * TRADING_DAYS\n",
      "/var/folders/mn/tx231v5158797chnp22wm9000000gp/T/ipykernel_61094/4004665421.py:77: FutureWarning: Calling float on a single element Series is deprecated and will raise a TypeError in the future. Use float(ser.iloc[0]) instead\n",
      "  sigma_ann = float(log_ret.std(ddof=1)) * math.sqrt(TRADING_DAYS)\n",
      "/var/folders/mn/tx231v5158797chnp22wm9000000gp/T/ipykernel_61094/4004665421.py:78: FutureWarning: Calling float on a single element Series is deprecated and will raise a TypeError in the future. Use float(ser.iloc[0]) instead\n",
      "  S0 = float(tail.iloc[-1])\n"
     ]
    },
    {
     "name": "stdout",
     "output_type": "stream",
     "text": [
      "  > KPIL.NS\n"
     ]
    },
    {
     "name": "stderr",
     "output_type": "stream",
     "text": [
      "/var/folders/mn/tx231v5158797chnp22wm9000000gp/T/ipykernel_61094/4004665421.py:76: FutureWarning: Calling float on a single element Series is deprecated and will raise a TypeError in the future. Use float(ser.iloc[0]) instead\n",
      "  mu_ann = float(log_ret.mean()) * TRADING_DAYS\n",
      "/var/folders/mn/tx231v5158797chnp22wm9000000gp/T/ipykernel_61094/4004665421.py:77: FutureWarning: Calling float on a single element Series is deprecated and will raise a TypeError in the future. Use float(ser.iloc[0]) instead\n",
      "  sigma_ann = float(log_ret.std(ddof=1)) * math.sqrt(TRADING_DAYS)\n",
      "/var/folders/mn/tx231v5158797chnp22wm9000000gp/T/ipykernel_61094/4004665421.py:78: FutureWarning: Calling float on a single element Series is deprecated and will raise a TypeError in the future. Use float(ser.iloc[0]) instead\n",
      "  S0 = float(tail.iloc[-1])\n"
     ]
    },
    {
     "name": "stdout",
     "output_type": "stream",
     "text": [
      "  > KALYANKJIL.NS\n"
     ]
    },
    {
     "name": "stderr",
     "output_type": "stream",
     "text": [
      "/var/folders/mn/tx231v5158797chnp22wm9000000gp/T/ipykernel_61094/4004665421.py:76: FutureWarning: Calling float on a single element Series is deprecated and will raise a TypeError in the future. Use float(ser.iloc[0]) instead\n",
      "  mu_ann = float(log_ret.mean()) * TRADING_DAYS\n",
      "/var/folders/mn/tx231v5158797chnp22wm9000000gp/T/ipykernel_61094/4004665421.py:77: FutureWarning: Calling float on a single element Series is deprecated and will raise a TypeError in the future. Use float(ser.iloc[0]) instead\n",
      "  sigma_ann = float(log_ret.std(ddof=1)) * math.sqrt(TRADING_DAYS)\n",
      "/var/folders/mn/tx231v5158797chnp22wm9000000gp/T/ipykernel_61094/4004665421.py:78: FutureWarning: Calling float on a single element Series is deprecated and will raise a TypeError in the future. Use float(ser.iloc[0]) instead\n",
      "  S0 = float(tail.iloc[-1])\n"
     ]
    },
    {
     "name": "stdout",
     "output_type": "stream",
     "text": [
      "  > KANSAINER.NS\n"
     ]
    },
    {
     "name": "stderr",
     "output_type": "stream",
     "text": [
      "/var/folders/mn/tx231v5158797chnp22wm9000000gp/T/ipykernel_61094/4004665421.py:76: FutureWarning: Calling float on a single element Series is deprecated and will raise a TypeError in the future. Use float(ser.iloc[0]) instead\n",
      "  mu_ann = float(log_ret.mean()) * TRADING_DAYS\n",
      "/var/folders/mn/tx231v5158797chnp22wm9000000gp/T/ipykernel_61094/4004665421.py:77: FutureWarning: Calling float on a single element Series is deprecated and will raise a TypeError in the future. Use float(ser.iloc[0]) instead\n",
      "  sigma_ann = float(log_ret.std(ddof=1)) * math.sqrt(TRADING_DAYS)\n",
      "/var/folders/mn/tx231v5158797chnp22wm9000000gp/T/ipykernel_61094/4004665421.py:78: FutureWarning: Calling float on a single element Series is deprecated and will raise a TypeError in the future. Use float(ser.iloc[0]) instead\n",
      "  S0 = float(tail.iloc[-1])\n"
     ]
    },
    {
     "name": "stdout",
     "output_type": "stream",
     "text": [
      "  > KARURVYSYA.NS\n"
     ]
    },
    {
     "name": "stderr",
     "output_type": "stream",
     "text": [
      "/var/folders/mn/tx231v5158797chnp22wm9000000gp/T/ipykernel_61094/4004665421.py:76: FutureWarning: Calling float on a single element Series is deprecated and will raise a TypeError in the future. Use float(ser.iloc[0]) instead\n",
      "  mu_ann = float(log_ret.mean()) * TRADING_DAYS\n",
      "/var/folders/mn/tx231v5158797chnp22wm9000000gp/T/ipykernel_61094/4004665421.py:77: FutureWarning: Calling float on a single element Series is deprecated and will raise a TypeError in the future. Use float(ser.iloc[0]) instead\n",
      "  sigma_ann = float(log_ret.std(ddof=1)) * math.sqrt(TRADING_DAYS)\n",
      "/var/folders/mn/tx231v5158797chnp22wm9000000gp/T/ipykernel_61094/4004665421.py:78: FutureWarning: Calling float on a single element Series is deprecated and will raise a TypeError in the future. Use float(ser.iloc[0]) instead\n",
      "  S0 = float(tail.iloc[-1])\n"
     ]
    },
    {
     "name": "stdout",
     "output_type": "stream",
     "text": [
      "  > KAYNES.NS\n"
     ]
    },
    {
     "name": "stderr",
     "output_type": "stream",
     "text": [
      "/var/folders/mn/tx231v5158797chnp22wm9000000gp/T/ipykernel_61094/4004665421.py:76: FutureWarning: Calling float on a single element Series is deprecated and will raise a TypeError in the future. Use float(ser.iloc[0]) instead\n",
      "  mu_ann = float(log_ret.mean()) * TRADING_DAYS\n",
      "/var/folders/mn/tx231v5158797chnp22wm9000000gp/T/ipykernel_61094/4004665421.py:77: FutureWarning: Calling float on a single element Series is deprecated and will raise a TypeError in the future. Use float(ser.iloc[0]) instead\n",
      "  sigma_ann = float(log_ret.std(ddof=1)) * math.sqrt(TRADING_DAYS)\n",
      "/var/folders/mn/tx231v5158797chnp22wm9000000gp/T/ipykernel_61094/4004665421.py:78: FutureWarning: Calling float on a single element Series is deprecated and will raise a TypeError in the future. Use float(ser.iloc[0]) instead\n",
      "  S0 = float(tail.iloc[-1])\n"
     ]
    },
    {
     "name": "stdout",
     "output_type": "stream",
     "text": [
      "  > KEC.NS\n"
     ]
    },
    {
     "name": "stderr",
     "output_type": "stream",
     "text": [
      "/var/folders/mn/tx231v5158797chnp22wm9000000gp/T/ipykernel_61094/4004665421.py:76: FutureWarning: Calling float on a single element Series is deprecated and will raise a TypeError in the future. Use float(ser.iloc[0]) instead\n",
      "  mu_ann = float(log_ret.mean()) * TRADING_DAYS\n",
      "/var/folders/mn/tx231v5158797chnp22wm9000000gp/T/ipykernel_61094/4004665421.py:77: FutureWarning: Calling float on a single element Series is deprecated and will raise a TypeError in the future. Use float(ser.iloc[0]) instead\n",
      "  sigma_ann = float(log_ret.std(ddof=1)) * math.sqrt(TRADING_DAYS)\n",
      "/var/folders/mn/tx231v5158797chnp22wm9000000gp/T/ipykernel_61094/4004665421.py:78: FutureWarning: Calling float on a single element Series is deprecated and will raise a TypeError in the future. Use float(ser.iloc[0]) instead\n",
      "  S0 = float(tail.iloc[-1])\n"
     ]
    },
    {
     "name": "stdout",
     "output_type": "stream",
     "text": [
      "  > KFINTECH.NS\n"
     ]
    },
    {
     "name": "stderr",
     "output_type": "stream",
     "text": [
      "/var/folders/mn/tx231v5158797chnp22wm9000000gp/T/ipykernel_61094/4004665421.py:76: FutureWarning: Calling float on a single element Series is deprecated and will raise a TypeError in the future. Use float(ser.iloc[0]) instead\n",
      "  mu_ann = float(log_ret.mean()) * TRADING_DAYS\n",
      "/var/folders/mn/tx231v5158797chnp22wm9000000gp/T/ipykernel_61094/4004665421.py:77: FutureWarning: Calling float on a single element Series is deprecated and will raise a TypeError in the future. Use float(ser.iloc[0]) instead\n",
      "  sigma_ann = float(log_ret.std(ddof=1)) * math.sqrt(TRADING_DAYS)\n",
      "/var/folders/mn/tx231v5158797chnp22wm9000000gp/T/ipykernel_61094/4004665421.py:78: FutureWarning: Calling float on a single element Series is deprecated and will raise a TypeError in the future. Use float(ser.iloc[0]) instead\n",
      "  S0 = float(tail.iloc[-1])\n"
     ]
    },
    {
     "name": "stdout",
     "output_type": "stream",
     "text": [
      "  > KIRLOSBROS.NS\n"
     ]
    },
    {
     "name": "stderr",
     "output_type": "stream",
     "text": [
      "/var/folders/mn/tx231v5158797chnp22wm9000000gp/T/ipykernel_61094/4004665421.py:76: FutureWarning: Calling float on a single element Series is deprecated and will raise a TypeError in the future. Use float(ser.iloc[0]) instead\n",
      "  mu_ann = float(log_ret.mean()) * TRADING_DAYS\n",
      "/var/folders/mn/tx231v5158797chnp22wm9000000gp/T/ipykernel_61094/4004665421.py:77: FutureWarning: Calling float on a single element Series is deprecated and will raise a TypeError in the future. Use float(ser.iloc[0]) instead\n",
      "  sigma_ann = float(log_ret.std(ddof=1)) * math.sqrt(TRADING_DAYS)\n",
      "/var/folders/mn/tx231v5158797chnp22wm9000000gp/T/ipykernel_61094/4004665421.py:78: FutureWarning: Calling float on a single element Series is deprecated and will raise a TypeError in the future. Use float(ser.iloc[0]) instead\n",
      "  S0 = float(tail.iloc[-1])\n"
     ]
    },
    {
     "name": "stdout",
     "output_type": "stream",
     "text": [
      "  > KIRLOSENG.NS\n"
     ]
    },
    {
     "name": "stderr",
     "output_type": "stream",
     "text": [
      "/var/folders/mn/tx231v5158797chnp22wm9000000gp/T/ipykernel_61094/4004665421.py:76: FutureWarning: Calling float on a single element Series is deprecated and will raise a TypeError in the future. Use float(ser.iloc[0]) instead\n",
      "  mu_ann = float(log_ret.mean()) * TRADING_DAYS\n",
      "/var/folders/mn/tx231v5158797chnp22wm9000000gp/T/ipykernel_61094/4004665421.py:77: FutureWarning: Calling float on a single element Series is deprecated and will raise a TypeError in the future. Use float(ser.iloc[0]) instead\n",
      "  sigma_ann = float(log_ret.std(ddof=1)) * math.sqrt(TRADING_DAYS)\n",
      "/var/folders/mn/tx231v5158797chnp22wm9000000gp/T/ipykernel_61094/4004665421.py:78: FutureWarning: Calling float on a single element Series is deprecated and will raise a TypeError in the future. Use float(ser.iloc[0]) instead\n",
      "  S0 = float(tail.iloc[-1])\n"
     ]
    },
    {
     "name": "stdout",
     "output_type": "stream",
     "text": [
      "  > KOTAKBANK.NS\n"
     ]
    },
    {
     "name": "stderr",
     "output_type": "stream",
     "text": [
      "/var/folders/mn/tx231v5158797chnp22wm9000000gp/T/ipykernel_61094/4004665421.py:76: FutureWarning: Calling float on a single element Series is deprecated and will raise a TypeError in the future. Use float(ser.iloc[0]) instead\n",
      "  mu_ann = float(log_ret.mean()) * TRADING_DAYS\n",
      "/var/folders/mn/tx231v5158797chnp22wm9000000gp/T/ipykernel_61094/4004665421.py:77: FutureWarning: Calling float on a single element Series is deprecated and will raise a TypeError in the future. Use float(ser.iloc[0]) instead\n",
      "  sigma_ann = float(log_ret.std(ddof=1)) * math.sqrt(TRADING_DAYS)\n",
      "/var/folders/mn/tx231v5158797chnp22wm9000000gp/T/ipykernel_61094/4004665421.py:78: FutureWarning: Calling float on a single element Series is deprecated and will raise a TypeError in the future. Use float(ser.iloc[0]) instead\n",
      "  S0 = float(tail.iloc[-1])\n"
     ]
    },
    {
     "name": "stdout",
     "output_type": "stream",
     "text": [
      "  > KIMS.NS\n"
     ]
    },
    {
     "name": "stderr",
     "output_type": "stream",
     "text": [
      "/var/folders/mn/tx231v5158797chnp22wm9000000gp/T/ipykernel_61094/4004665421.py:76: FutureWarning: Calling float on a single element Series is deprecated and will raise a TypeError in the future. Use float(ser.iloc[0]) instead\n",
      "  mu_ann = float(log_ret.mean()) * TRADING_DAYS\n",
      "/var/folders/mn/tx231v5158797chnp22wm9000000gp/T/ipykernel_61094/4004665421.py:77: FutureWarning: Calling float on a single element Series is deprecated and will raise a TypeError in the future. Use float(ser.iloc[0]) instead\n",
      "  sigma_ann = float(log_ret.std(ddof=1)) * math.sqrt(TRADING_DAYS)\n",
      "/var/folders/mn/tx231v5158797chnp22wm9000000gp/T/ipykernel_61094/4004665421.py:78: FutureWarning: Calling float on a single element Series is deprecated and will raise a TypeError in the future. Use float(ser.iloc[0]) instead\n",
      "  S0 = float(tail.iloc[-1])\n"
     ]
    },
    {
     "name": "stdout",
     "output_type": "stream",
     "text": [
      "  > LTF.NS\n"
     ]
    },
    {
     "name": "stderr",
     "output_type": "stream",
     "text": [
      "/var/folders/mn/tx231v5158797chnp22wm9000000gp/T/ipykernel_61094/4004665421.py:76: FutureWarning: Calling float on a single element Series is deprecated and will raise a TypeError in the future. Use float(ser.iloc[0]) instead\n",
      "  mu_ann = float(log_ret.mean()) * TRADING_DAYS\n",
      "/var/folders/mn/tx231v5158797chnp22wm9000000gp/T/ipykernel_61094/4004665421.py:77: FutureWarning: Calling float on a single element Series is deprecated and will raise a TypeError in the future. Use float(ser.iloc[0]) instead\n",
      "  sigma_ann = float(log_ret.std(ddof=1)) * math.sqrt(TRADING_DAYS)\n",
      "/var/folders/mn/tx231v5158797chnp22wm9000000gp/T/ipykernel_61094/4004665421.py:78: FutureWarning: Calling float on a single element Series is deprecated and will raise a TypeError in the future. Use float(ser.iloc[0]) instead\n",
      "  S0 = float(tail.iloc[-1])\n"
     ]
    },
    {
     "name": "stdout",
     "output_type": "stream",
     "text": [
      "  > LTTS.NS\n"
     ]
    },
    {
     "name": "stderr",
     "output_type": "stream",
     "text": [
      "/var/folders/mn/tx231v5158797chnp22wm9000000gp/T/ipykernel_61094/4004665421.py:76: FutureWarning: Calling float on a single element Series is deprecated and will raise a TypeError in the future. Use float(ser.iloc[0]) instead\n",
      "  mu_ann = float(log_ret.mean()) * TRADING_DAYS\n",
      "/var/folders/mn/tx231v5158797chnp22wm9000000gp/T/ipykernel_61094/4004665421.py:77: FutureWarning: Calling float on a single element Series is deprecated and will raise a TypeError in the future. Use float(ser.iloc[0]) instead\n",
      "  sigma_ann = float(log_ret.std(ddof=1)) * math.sqrt(TRADING_DAYS)\n",
      "/var/folders/mn/tx231v5158797chnp22wm9000000gp/T/ipykernel_61094/4004665421.py:78: FutureWarning: Calling float on a single element Series is deprecated and will raise a TypeError in the future. Use float(ser.iloc[0]) instead\n",
      "  S0 = float(tail.iloc[-1])\n"
     ]
    },
    {
     "name": "stdout",
     "output_type": "stream",
     "text": [
      "  > LICHSGFIN.NS\n"
     ]
    },
    {
     "name": "stderr",
     "output_type": "stream",
     "text": [
      "/var/folders/mn/tx231v5158797chnp22wm9000000gp/T/ipykernel_61094/4004665421.py:76: FutureWarning: Calling float on a single element Series is deprecated and will raise a TypeError in the future. Use float(ser.iloc[0]) instead\n",
      "  mu_ann = float(log_ret.mean()) * TRADING_DAYS\n",
      "/var/folders/mn/tx231v5158797chnp22wm9000000gp/T/ipykernel_61094/4004665421.py:77: FutureWarning: Calling float on a single element Series is deprecated and will raise a TypeError in the future. Use float(ser.iloc[0]) instead\n",
      "  sigma_ann = float(log_ret.std(ddof=1)) * math.sqrt(TRADING_DAYS)\n",
      "/var/folders/mn/tx231v5158797chnp22wm9000000gp/T/ipykernel_61094/4004665421.py:78: FutureWarning: Calling float on a single element Series is deprecated and will raise a TypeError in the future. Use float(ser.iloc[0]) instead\n",
      "  S0 = float(tail.iloc[-1])\n"
     ]
    },
    {
     "name": "stdout",
     "output_type": "stream",
     "text": [
      "  > LTFOODS.NS\n"
     ]
    },
    {
     "name": "stderr",
     "output_type": "stream",
     "text": [
      "/var/folders/mn/tx231v5158797chnp22wm9000000gp/T/ipykernel_61094/4004665421.py:76: FutureWarning: Calling float on a single element Series is deprecated and will raise a TypeError in the future. Use float(ser.iloc[0]) instead\n",
      "  mu_ann = float(log_ret.mean()) * TRADING_DAYS\n",
      "/var/folders/mn/tx231v5158797chnp22wm9000000gp/T/ipykernel_61094/4004665421.py:77: FutureWarning: Calling float on a single element Series is deprecated and will raise a TypeError in the future. Use float(ser.iloc[0]) instead\n",
      "  sigma_ann = float(log_ret.std(ddof=1)) * math.sqrt(TRADING_DAYS)\n",
      "/var/folders/mn/tx231v5158797chnp22wm9000000gp/T/ipykernel_61094/4004665421.py:78: FutureWarning: Calling float on a single element Series is deprecated and will raise a TypeError in the future. Use float(ser.iloc[0]) instead\n",
      "  S0 = float(tail.iloc[-1])\n"
     ]
    },
    {
     "name": "stdout",
     "output_type": "stream",
     "text": [
      "  > LTIM.NS\n"
     ]
    },
    {
     "name": "stderr",
     "output_type": "stream",
     "text": [
      "/var/folders/mn/tx231v5158797chnp22wm9000000gp/T/ipykernel_61094/4004665421.py:76: FutureWarning: Calling float on a single element Series is deprecated and will raise a TypeError in the future. Use float(ser.iloc[0]) instead\n",
      "  mu_ann = float(log_ret.mean()) * TRADING_DAYS\n",
      "/var/folders/mn/tx231v5158797chnp22wm9000000gp/T/ipykernel_61094/4004665421.py:77: FutureWarning: Calling float on a single element Series is deprecated and will raise a TypeError in the future. Use float(ser.iloc[0]) instead\n",
      "  sigma_ann = float(log_ret.std(ddof=1)) * math.sqrt(TRADING_DAYS)\n",
      "/var/folders/mn/tx231v5158797chnp22wm9000000gp/T/ipykernel_61094/4004665421.py:78: FutureWarning: Calling float on a single element Series is deprecated and will raise a TypeError in the future. Use float(ser.iloc[0]) instead\n",
      "  S0 = float(tail.iloc[-1])\n"
     ]
    },
    {
     "name": "stdout",
     "output_type": "stream",
     "text": [
      "  > LT.NS\n"
     ]
    },
    {
     "name": "stderr",
     "output_type": "stream",
     "text": [
      "/var/folders/mn/tx231v5158797chnp22wm9000000gp/T/ipykernel_61094/4004665421.py:76: FutureWarning: Calling float on a single element Series is deprecated and will raise a TypeError in the future. Use float(ser.iloc[0]) instead\n",
      "  mu_ann = float(log_ret.mean()) * TRADING_DAYS\n",
      "/var/folders/mn/tx231v5158797chnp22wm9000000gp/T/ipykernel_61094/4004665421.py:77: FutureWarning: Calling float on a single element Series is deprecated and will raise a TypeError in the future. Use float(ser.iloc[0]) instead\n",
      "  sigma_ann = float(log_ret.std(ddof=1)) * math.sqrt(TRADING_DAYS)\n",
      "/var/folders/mn/tx231v5158797chnp22wm9000000gp/T/ipykernel_61094/4004665421.py:78: FutureWarning: Calling float on a single element Series is deprecated and will raise a TypeError in the future. Use float(ser.iloc[0]) instead\n",
      "  S0 = float(tail.iloc[-1])\n"
     ]
    },
    {
     "name": "stdout",
     "output_type": "stream",
     "text": [
      "  > LATENTVIEW.NS\n"
     ]
    },
    {
     "name": "stderr",
     "output_type": "stream",
     "text": [
      "/var/folders/mn/tx231v5158797chnp22wm9000000gp/T/ipykernel_61094/4004665421.py:76: FutureWarning: Calling float on a single element Series is deprecated and will raise a TypeError in the future. Use float(ser.iloc[0]) instead\n",
      "  mu_ann = float(log_ret.mean()) * TRADING_DAYS\n",
      "/var/folders/mn/tx231v5158797chnp22wm9000000gp/T/ipykernel_61094/4004665421.py:77: FutureWarning: Calling float on a single element Series is deprecated and will raise a TypeError in the future. Use float(ser.iloc[0]) instead\n",
      "  sigma_ann = float(log_ret.std(ddof=1)) * math.sqrt(TRADING_DAYS)\n",
      "/var/folders/mn/tx231v5158797chnp22wm9000000gp/T/ipykernel_61094/4004665421.py:78: FutureWarning: Calling float on a single element Series is deprecated and will raise a TypeError in the future. Use float(ser.iloc[0]) instead\n",
      "  S0 = float(tail.iloc[-1])\n"
     ]
    },
    {
     "name": "stdout",
     "output_type": "stream",
     "text": [
      "  > LAURUSLABS.NS\n"
     ]
    },
    {
     "name": "stderr",
     "output_type": "stream",
     "text": [
      "/var/folders/mn/tx231v5158797chnp22wm9000000gp/T/ipykernel_61094/4004665421.py:76: FutureWarning: Calling float on a single element Series is deprecated and will raise a TypeError in the future. Use float(ser.iloc[0]) instead\n",
      "  mu_ann = float(log_ret.mean()) * TRADING_DAYS\n",
      "/var/folders/mn/tx231v5158797chnp22wm9000000gp/T/ipykernel_61094/4004665421.py:77: FutureWarning: Calling float on a single element Series is deprecated and will raise a TypeError in the future. Use float(ser.iloc[0]) instead\n",
      "  sigma_ann = float(log_ret.std(ddof=1)) * math.sqrt(TRADING_DAYS)\n",
      "/var/folders/mn/tx231v5158797chnp22wm9000000gp/T/ipykernel_61094/4004665421.py:78: FutureWarning: Calling float on a single element Series is deprecated and will raise a TypeError in the future. Use float(ser.iloc[0]) instead\n",
      "  S0 = float(tail.iloc[-1])\n"
     ]
    },
    {
     "name": "stdout",
     "output_type": "stream",
     "text": [
      "  > LEMONTREE.NS\n"
     ]
    },
    {
     "name": "stderr",
     "output_type": "stream",
     "text": [
      "/var/folders/mn/tx231v5158797chnp22wm9000000gp/T/ipykernel_61094/4004665421.py:76: FutureWarning: Calling float on a single element Series is deprecated and will raise a TypeError in the future. Use float(ser.iloc[0]) instead\n",
      "  mu_ann = float(log_ret.mean()) * TRADING_DAYS\n",
      "/var/folders/mn/tx231v5158797chnp22wm9000000gp/T/ipykernel_61094/4004665421.py:77: FutureWarning: Calling float on a single element Series is deprecated and will raise a TypeError in the future. Use float(ser.iloc[0]) instead\n",
      "  sigma_ann = float(log_ret.std(ddof=1)) * math.sqrt(TRADING_DAYS)\n",
      "/var/folders/mn/tx231v5158797chnp22wm9000000gp/T/ipykernel_61094/4004665421.py:78: FutureWarning: Calling float on a single element Series is deprecated and will raise a TypeError in the future. Use float(ser.iloc[0]) instead\n",
      "  S0 = float(tail.iloc[-1])\n"
     ]
    },
    {
     "name": "stdout",
     "output_type": "stream",
     "text": [
      "  > LICI.NS\n"
     ]
    },
    {
     "name": "stderr",
     "output_type": "stream",
     "text": [
      "/var/folders/mn/tx231v5158797chnp22wm9000000gp/T/ipykernel_61094/4004665421.py:76: FutureWarning: Calling float on a single element Series is deprecated and will raise a TypeError in the future. Use float(ser.iloc[0]) instead\n",
      "  mu_ann = float(log_ret.mean()) * TRADING_DAYS\n",
      "/var/folders/mn/tx231v5158797chnp22wm9000000gp/T/ipykernel_61094/4004665421.py:77: FutureWarning: Calling float on a single element Series is deprecated and will raise a TypeError in the future. Use float(ser.iloc[0]) instead\n",
      "  sigma_ann = float(log_ret.std(ddof=1)) * math.sqrt(TRADING_DAYS)\n",
      "/var/folders/mn/tx231v5158797chnp22wm9000000gp/T/ipykernel_61094/4004665421.py:78: FutureWarning: Calling float on a single element Series is deprecated and will raise a TypeError in the future. Use float(ser.iloc[0]) instead\n",
      "  S0 = float(tail.iloc[-1])\n"
     ]
    },
    {
     "name": "stdout",
     "output_type": "stream",
     "text": [
      "  > LINDEINDIA.NS\n"
     ]
    },
    {
     "name": "stderr",
     "output_type": "stream",
     "text": [
      "/var/folders/mn/tx231v5158797chnp22wm9000000gp/T/ipykernel_61094/4004665421.py:76: FutureWarning: Calling float on a single element Series is deprecated and will raise a TypeError in the future. Use float(ser.iloc[0]) instead\n",
      "  mu_ann = float(log_ret.mean()) * TRADING_DAYS\n",
      "/var/folders/mn/tx231v5158797chnp22wm9000000gp/T/ipykernel_61094/4004665421.py:77: FutureWarning: Calling float on a single element Series is deprecated and will raise a TypeError in the future. Use float(ser.iloc[0]) instead\n",
      "  sigma_ann = float(log_ret.std(ddof=1)) * math.sqrt(TRADING_DAYS)\n",
      "/var/folders/mn/tx231v5158797chnp22wm9000000gp/T/ipykernel_61094/4004665421.py:78: FutureWarning: Calling float on a single element Series is deprecated and will raise a TypeError in the future. Use float(ser.iloc[0]) instead\n",
      "  S0 = float(tail.iloc[-1])\n"
     ]
    },
    {
     "name": "stdout",
     "output_type": "stream",
     "text": [
      "  > LLOYDSME.NS\n"
     ]
    },
    {
     "name": "stderr",
     "output_type": "stream",
     "text": [
      "/var/folders/mn/tx231v5158797chnp22wm9000000gp/T/ipykernel_61094/4004665421.py:76: FutureWarning: Calling float on a single element Series is deprecated and will raise a TypeError in the future. Use float(ser.iloc[0]) instead\n",
      "  mu_ann = float(log_ret.mean()) * TRADING_DAYS\n",
      "/var/folders/mn/tx231v5158797chnp22wm9000000gp/T/ipykernel_61094/4004665421.py:77: FutureWarning: Calling float on a single element Series is deprecated and will raise a TypeError in the future. Use float(ser.iloc[0]) instead\n",
      "  sigma_ann = float(log_ret.std(ddof=1)) * math.sqrt(TRADING_DAYS)\n",
      "/var/folders/mn/tx231v5158797chnp22wm9000000gp/T/ipykernel_61094/4004665421.py:78: FutureWarning: Calling float on a single element Series is deprecated and will raise a TypeError in the future. Use float(ser.iloc[0]) instead\n",
      "  S0 = float(tail.iloc[-1])\n"
     ]
    },
    {
     "name": "stdout",
     "output_type": "stream",
     "text": [
      "  > LODHA.NS\n"
     ]
    },
    {
     "name": "stderr",
     "output_type": "stream",
     "text": [
      "/var/folders/mn/tx231v5158797chnp22wm9000000gp/T/ipykernel_61094/4004665421.py:76: FutureWarning: Calling float on a single element Series is deprecated and will raise a TypeError in the future. Use float(ser.iloc[0]) instead\n",
      "  mu_ann = float(log_ret.mean()) * TRADING_DAYS\n",
      "/var/folders/mn/tx231v5158797chnp22wm9000000gp/T/ipykernel_61094/4004665421.py:77: FutureWarning: Calling float on a single element Series is deprecated and will raise a TypeError in the future. Use float(ser.iloc[0]) instead\n",
      "  sigma_ann = float(log_ret.std(ddof=1)) * math.sqrt(TRADING_DAYS)\n",
      "/var/folders/mn/tx231v5158797chnp22wm9000000gp/T/ipykernel_61094/4004665421.py:78: FutureWarning: Calling float on a single element Series is deprecated and will raise a TypeError in the future. Use float(ser.iloc[0]) instead\n",
      "  S0 = float(tail.iloc[-1])\n"
     ]
    },
    {
     "name": "stdout",
     "output_type": "stream",
     "text": [
      "  > LUPIN.NS\n"
     ]
    },
    {
     "name": "stderr",
     "output_type": "stream",
     "text": [
      "/var/folders/mn/tx231v5158797chnp22wm9000000gp/T/ipykernel_61094/4004665421.py:76: FutureWarning: Calling float on a single element Series is deprecated and will raise a TypeError in the future. Use float(ser.iloc[0]) instead\n",
      "  mu_ann = float(log_ret.mean()) * TRADING_DAYS\n",
      "/var/folders/mn/tx231v5158797chnp22wm9000000gp/T/ipykernel_61094/4004665421.py:77: FutureWarning: Calling float on a single element Series is deprecated and will raise a TypeError in the future. Use float(ser.iloc[0]) instead\n",
      "  sigma_ann = float(log_ret.std(ddof=1)) * math.sqrt(TRADING_DAYS)\n",
      "/var/folders/mn/tx231v5158797chnp22wm9000000gp/T/ipykernel_61094/4004665421.py:78: FutureWarning: Calling float on a single element Series is deprecated and will raise a TypeError in the future. Use float(ser.iloc[0]) instead\n",
      "  S0 = float(tail.iloc[-1])\n"
     ]
    },
    {
     "name": "stdout",
     "output_type": "stream",
     "text": [
      "  > MMTC.NS\n"
     ]
    },
    {
     "name": "stderr",
     "output_type": "stream",
     "text": [
      "/var/folders/mn/tx231v5158797chnp22wm9000000gp/T/ipykernel_61094/4004665421.py:76: FutureWarning: Calling float on a single element Series is deprecated and will raise a TypeError in the future. Use float(ser.iloc[0]) instead\n",
      "  mu_ann = float(log_ret.mean()) * TRADING_DAYS\n",
      "/var/folders/mn/tx231v5158797chnp22wm9000000gp/T/ipykernel_61094/4004665421.py:77: FutureWarning: Calling float on a single element Series is deprecated and will raise a TypeError in the future. Use float(ser.iloc[0]) instead\n",
      "  sigma_ann = float(log_ret.std(ddof=1)) * math.sqrt(TRADING_DAYS)\n",
      "/var/folders/mn/tx231v5158797chnp22wm9000000gp/T/ipykernel_61094/4004665421.py:78: FutureWarning: Calling float on a single element Series is deprecated and will raise a TypeError in the future. Use float(ser.iloc[0]) instead\n",
      "  S0 = float(tail.iloc[-1])\n"
     ]
    },
    {
     "name": "stdout",
     "output_type": "stream",
     "text": [
      "  > MRF.NS\n"
     ]
    },
    {
     "name": "stderr",
     "output_type": "stream",
     "text": [
      "/var/folders/mn/tx231v5158797chnp22wm9000000gp/T/ipykernel_61094/4004665421.py:76: FutureWarning: Calling float on a single element Series is deprecated and will raise a TypeError in the future. Use float(ser.iloc[0]) instead\n",
      "  mu_ann = float(log_ret.mean()) * TRADING_DAYS\n",
      "/var/folders/mn/tx231v5158797chnp22wm9000000gp/T/ipykernel_61094/4004665421.py:77: FutureWarning: Calling float on a single element Series is deprecated and will raise a TypeError in the future. Use float(ser.iloc[0]) instead\n",
      "  sigma_ann = float(log_ret.std(ddof=1)) * math.sqrt(TRADING_DAYS)\n",
      "/var/folders/mn/tx231v5158797chnp22wm9000000gp/T/ipykernel_61094/4004665421.py:78: FutureWarning: Calling float on a single element Series is deprecated and will raise a TypeError in the future. Use float(ser.iloc[0]) instead\n",
      "  S0 = float(tail.iloc[-1])\n"
     ]
    },
    {
     "name": "stdout",
     "output_type": "stream",
     "text": [
      "  > MGL.NS\n"
     ]
    },
    {
     "name": "stderr",
     "output_type": "stream",
     "text": [
      "/var/folders/mn/tx231v5158797chnp22wm9000000gp/T/ipykernel_61094/4004665421.py:76: FutureWarning: Calling float on a single element Series is deprecated and will raise a TypeError in the future. Use float(ser.iloc[0]) instead\n",
      "  mu_ann = float(log_ret.mean()) * TRADING_DAYS\n",
      "/var/folders/mn/tx231v5158797chnp22wm9000000gp/T/ipykernel_61094/4004665421.py:77: FutureWarning: Calling float on a single element Series is deprecated and will raise a TypeError in the future. Use float(ser.iloc[0]) instead\n",
      "  sigma_ann = float(log_ret.std(ddof=1)) * math.sqrt(TRADING_DAYS)\n",
      "/var/folders/mn/tx231v5158797chnp22wm9000000gp/T/ipykernel_61094/4004665421.py:78: FutureWarning: Calling float on a single element Series is deprecated and will raise a TypeError in the future. Use float(ser.iloc[0]) instead\n",
      "  S0 = float(tail.iloc[-1])\n"
     ]
    },
    {
     "name": "stdout",
     "output_type": "stream",
     "text": [
      "  > MAHSEAMLES.NS\n"
     ]
    },
    {
     "name": "stderr",
     "output_type": "stream",
     "text": [
      "/var/folders/mn/tx231v5158797chnp22wm9000000gp/T/ipykernel_61094/4004665421.py:76: FutureWarning: Calling float on a single element Series is deprecated and will raise a TypeError in the future. Use float(ser.iloc[0]) instead\n",
      "  mu_ann = float(log_ret.mean()) * TRADING_DAYS\n",
      "/var/folders/mn/tx231v5158797chnp22wm9000000gp/T/ipykernel_61094/4004665421.py:77: FutureWarning: Calling float on a single element Series is deprecated and will raise a TypeError in the future. Use float(ser.iloc[0]) instead\n",
      "  sigma_ann = float(log_ret.std(ddof=1)) * math.sqrt(TRADING_DAYS)\n",
      "/var/folders/mn/tx231v5158797chnp22wm9000000gp/T/ipykernel_61094/4004665421.py:78: FutureWarning: Calling float on a single element Series is deprecated and will raise a TypeError in the future. Use float(ser.iloc[0]) instead\n",
      "  S0 = float(tail.iloc[-1])\n"
     ]
    },
    {
     "name": "stdout",
     "output_type": "stream",
     "text": [
      "  > M&MFIN.NS\n"
     ]
    },
    {
     "name": "stderr",
     "output_type": "stream",
     "text": [
      "/var/folders/mn/tx231v5158797chnp22wm9000000gp/T/ipykernel_61094/4004665421.py:76: FutureWarning: Calling float on a single element Series is deprecated and will raise a TypeError in the future. Use float(ser.iloc[0]) instead\n",
      "  mu_ann = float(log_ret.mean()) * TRADING_DAYS\n",
      "/var/folders/mn/tx231v5158797chnp22wm9000000gp/T/ipykernel_61094/4004665421.py:77: FutureWarning: Calling float on a single element Series is deprecated and will raise a TypeError in the future. Use float(ser.iloc[0]) instead\n",
      "  sigma_ann = float(log_ret.std(ddof=1)) * math.sqrt(TRADING_DAYS)\n",
      "/var/folders/mn/tx231v5158797chnp22wm9000000gp/T/ipykernel_61094/4004665421.py:78: FutureWarning: Calling float on a single element Series is deprecated and will raise a TypeError in the future. Use float(ser.iloc[0]) instead\n",
      "  S0 = float(tail.iloc[-1])\n"
     ]
    },
    {
     "name": "stdout",
     "output_type": "stream",
     "text": [
      "  > M&M.NS\n"
     ]
    },
    {
     "name": "stderr",
     "output_type": "stream",
     "text": [
      "/var/folders/mn/tx231v5158797chnp22wm9000000gp/T/ipykernel_61094/4004665421.py:76: FutureWarning: Calling float on a single element Series is deprecated and will raise a TypeError in the future. Use float(ser.iloc[0]) instead\n",
      "  mu_ann = float(log_ret.mean()) * TRADING_DAYS\n",
      "/var/folders/mn/tx231v5158797chnp22wm9000000gp/T/ipykernel_61094/4004665421.py:77: FutureWarning: Calling float on a single element Series is deprecated and will raise a TypeError in the future. Use float(ser.iloc[0]) instead\n",
      "  sigma_ann = float(log_ret.std(ddof=1)) * math.sqrt(TRADING_DAYS)\n",
      "/var/folders/mn/tx231v5158797chnp22wm9000000gp/T/ipykernel_61094/4004665421.py:78: FutureWarning: Calling float on a single element Series is deprecated and will raise a TypeError in the future. Use float(ser.iloc[0]) instead\n",
      "  S0 = float(tail.iloc[-1])\n"
     ]
    },
    {
     "name": "stdout",
     "output_type": "stream",
     "text": [
      "  > MANAPPURAM.NS\n"
     ]
    },
    {
     "name": "stderr",
     "output_type": "stream",
     "text": [
      "/var/folders/mn/tx231v5158797chnp22wm9000000gp/T/ipykernel_61094/4004665421.py:76: FutureWarning: Calling float on a single element Series is deprecated and will raise a TypeError in the future. Use float(ser.iloc[0]) instead\n",
      "  mu_ann = float(log_ret.mean()) * TRADING_DAYS\n",
      "/var/folders/mn/tx231v5158797chnp22wm9000000gp/T/ipykernel_61094/4004665421.py:77: FutureWarning: Calling float on a single element Series is deprecated and will raise a TypeError in the future. Use float(ser.iloc[0]) instead\n",
      "  sigma_ann = float(log_ret.std(ddof=1)) * math.sqrt(TRADING_DAYS)\n",
      "/var/folders/mn/tx231v5158797chnp22wm9000000gp/T/ipykernel_61094/4004665421.py:78: FutureWarning: Calling float on a single element Series is deprecated and will raise a TypeError in the future. Use float(ser.iloc[0]) instead\n",
      "  S0 = float(tail.iloc[-1])\n"
     ]
    },
    {
     "name": "stdout",
     "output_type": "stream",
     "text": [
      "  > MRPL.NS\n"
     ]
    },
    {
     "name": "stderr",
     "output_type": "stream",
     "text": [
      "/var/folders/mn/tx231v5158797chnp22wm9000000gp/T/ipykernel_61094/4004665421.py:76: FutureWarning: Calling float on a single element Series is deprecated and will raise a TypeError in the future. Use float(ser.iloc[0]) instead\n",
      "  mu_ann = float(log_ret.mean()) * TRADING_DAYS\n",
      "/var/folders/mn/tx231v5158797chnp22wm9000000gp/T/ipykernel_61094/4004665421.py:77: FutureWarning: Calling float on a single element Series is deprecated and will raise a TypeError in the future. Use float(ser.iloc[0]) instead\n",
      "  sigma_ann = float(log_ret.std(ddof=1)) * math.sqrt(TRADING_DAYS)\n",
      "/var/folders/mn/tx231v5158797chnp22wm9000000gp/T/ipykernel_61094/4004665421.py:78: FutureWarning: Calling float on a single element Series is deprecated and will raise a TypeError in the future. Use float(ser.iloc[0]) instead\n",
      "  S0 = float(tail.iloc[-1])\n"
     ]
    },
    {
     "name": "stdout",
     "output_type": "stream",
     "text": [
      "  > MANKIND.NS\n"
     ]
    },
    {
     "name": "stderr",
     "output_type": "stream",
     "text": [
      "/var/folders/mn/tx231v5158797chnp22wm9000000gp/T/ipykernel_61094/4004665421.py:76: FutureWarning: Calling float on a single element Series is deprecated and will raise a TypeError in the future. Use float(ser.iloc[0]) instead\n",
      "  mu_ann = float(log_ret.mean()) * TRADING_DAYS\n",
      "/var/folders/mn/tx231v5158797chnp22wm9000000gp/T/ipykernel_61094/4004665421.py:77: FutureWarning: Calling float on a single element Series is deprecated and will raise a TypeError in the future. Use float(ser.iloc[0]) instead\n",
      "  sigma_ann = float(log_ret.std(ddof=1)) * math.sqrt(TRADING_DAYS)\n",
      "/var/folders/mn/tx231v5158797chnp22wm9000000gp/T/ipykernel_61094/4004665421.py:78: FutureWarning: Calling float on a single element Series is deprecated and will raise a TypeError in the future. Use float(ser.iloc[0]) instead\n",
      "  S0 = float(tail.iloc[-1])\n"
     ]
    },
    {
     "name": "stdout",
     "output_type": "stream",
     "text": [
      "  > MARICO.NS\n"
     ]
    },
    {
     "name": "stderr",
     "output_type": "stream",
     "text": [
      "/var/folders/mn/tx231v5158797chnp22wm9000000gp/T/ipykernel_61094/4004665421.py:76: FutureWarning: Calling float on a single element Series is deprecated and will raise a TypeError in the future. Use float(ser.iloc[0]) instead\n",
      "  mu_ann = float(log_ret.mean()) * TRADING_DAYS\n",
      "/var/folders/mn/tx231v5158797chnp22wm9000000gp/T/ipykernel_61094/4004665421.py:77: FutureWarning: Calling float on a single element Series is deprecated and will raise a TypeError in the future. Use float(ser.iloc[0]) instead\n",
      "  sigma_ann = float(log_ret.std(ddof=1)) * math.sqrt(TRADING_DAYS)\n",
      "/var/folders/mn/tx231v5158797chnp22wm9000000gp/T/ipykernel_61094/4004665421.py:78: FutureWarning: Calling float on a single element Series is deprecated and will raise a TypeError in the future. Use float(ser.iloc[0]) instead\n",
      "  S0 = float(tail.iloc[-1])\n"
     ]
    },
    {
     "name": "stdout",
     "output_type": "stream",
     "text": [
      "  > MARUTI.NS\n"
     ]
    },
    {
     "name": "stderr",
     "output_type": "stream",
     "text": [
      "/var/folders/mn/tx231v5158797chnp22wm9000000gp/T/ipykernel_61094/4004665421.py:76: FutureWarning: Calling float on a single element Series is deprecated and will raise a TypeError in the future. Use float(ser.iloc[0]) instead\n",
      "  mu_ann = float(log_ret.mean()) * TRADING_DAYS\n",
      "/var/folders/mn/tx231v5158797chnp22wm9000000gp/T/ipykernel_61094/4004665421.py:77: FutureWarning: Calling float on a single element Series is deprecated and will raise a TypeError in the future. Use float(ser.iloc[0]) instead\n",
      "  sigma_ann = float(log_ret.std(ddof=1)) * math.sqrt(TRADING_DAYS)\n",
      "/var/folders/mn/tx231v5158797chnp22wm9000000gp/T/ipykernel_61094/4004665421.py:78: FutureWarning: Calling float on a single element Series is deprecated and will raise a TypeError in the future. Use float(ser.iloc[0]) instead\n",
      "  S0 = float(tail.iloc[-1])\n"
     ]
    },
    {
     "name": "stdout",
     "output_type": "stream",
     "text": [
      "  > MASTEK.NS\n"
     ]
    },
    {
     "name": "stderr",
     "output_type": "stream",
     "text": [
      "/var/folders/mn/tx231v5158797chnp22wm9000000gp/T/ipykernel_61094/4004665421.py:76: FutureWarning: Calling float on a single element Series is deprecated and will raise a TypeError in the future. Use float(ser.iloc[0]) instead\n",
      "  mu_ann = float(log_ret.mean()) * TRADING_DAYS\n",
      "/var/folders/mn/tx231v5158797chnp22wm9000000gp/T/ipykernel_61094/4004665421.py:77: FutureWarning: Calling float on a single element Series is deprecated and will raise a TypeError in the future. Use float(ser.iloc[0]) instead\n",
      "  sigma_ann = float(log_ret.std(ddof=1)) * math.sqrt(TRADING_DAYS)\n",
      "/var/folders/mn/tx231v5158797chnp22wm9000000gp/T/ipykernel_61094/4004665421.py:78: FutureWarning: Calling float on a single element Series is deprecated and will raise a TypeError in the future. Use float(ser.iloc[0]) instead\n",
      "  S0 = float(tail.iloc[-1])\n"
     ]
    },
    {
     "name": "stdout",
     "output_type": "stream",
     "text": [
      "  > MFSL.NS\n"
     ]
    },
    {
     "name": "stderr",
     "output_type": "stream",
     "text": [
      "/var/folders/mn/tx231v5158797chnp22wm9000000gp/T/ipykernel_61094/4004665421.py:76: FutureWarning: Calling float on a single element Series is deprecated and will raise a TypeError in the future. Use float(ser.iloc[0]) instead\n",
      "  mu_ann = float(log_ret.mean()) * TRADING_DAYS\n",
      "/var/folders/mn/tx231v5158797chnp22wm9000000gp/T/ipykernel_61094/4004665421.py:77: FutureWarning: Calling float on a single element Series is deprecated and will raise a TypeError in the future. Use float(ser.iloc[0]) instead\n",
      "  sigma_ann = float(log_ret.std(ddof=1)) * math.sqrt(TRADING_DAYS)\n",
      "/var/folders/mn/tx231v5158797chnp22wm9000000gp/T/ipykernel_61094/4004665421.py:78: FutureWarning: Calling float on a single element Series is deprecated and will raise a TypeError in the future. Use float(ser.iloc[0]) instead\n",
      "  S0 = float(tail.iloc[-1])\n"
     ]
    },
    {
     "name": "stdout",
     "output_type": "stream",
     "text": [
      "  > MAXHEALTH.NS\n"
     ]
    },
    {
     "name": "stderr",
     "output_type": "stream",
     "text": [
      "/var/folders/mn/tx231v5158797chnp22wm9000000gp/T/ipykernel_61094/4004665421.py:76: FutureWarning: Calling float on a single element Series is deprecated and will raise a TypeError in the future. Use float(ser.iloc[0]) instead\n",
      "  mu_ann = float(log_ret.mean()) * TRADING_DAYS\n",
      "/var/folders/mn/tx231v5158797chnp22wm9000000gp/T/ipykernel_61094/4004665421.py:77: FutureWarning: Calling float on a single element Series is deprecated and will raise a TypeError in the future. Use float(ser.iloc[0]) instead\n",
      "  sigma_ann = float(log_ret.std(ddof=1)) * math.sqrt(TRADING_DAYS)\n",
      "/var/folders/mn/tx231v5158797chnp22wm9000000gp/T/ipykernel_61094/4004665421.py:78: FutureWarning: Calling float on a single element Series is deprecated and will raise a TypeError in the future. Use float(ser.iloc[0]) instead\n",
      "  S0 = float(tail.iloc[-1])\n"
     ]
    },
    {
     "name": "stdout",
     "output_type": "stream",
     "text": [
      "  > MAZDOCK.NS\n"
     ]
    },
    {
     "name": "stderr",
     "output_type": "stream",
     "text": [
      "/var/folders/mn/tx231v5158797chnp22wm9000000gp/T/ipykernel_61094/4004665421.py:76: FutureWarning: Calling float on a single element Series is deprecated and will raise a TypeError in the future. Use float(ser.iloc[0]) instead\n",
      "  mu_ann = float(log_ret.mean()) * TRADING_DAYS\n",
      "/var/folders/mn/tx231v5158797chnp22wm9000000gp/T/ipykernel_61094/4004665421.py:77: FutureWarning: Calling float on a single element Series is deprecated and will raise a TypeError in the future. Use float(ser.iloc[0]) instead\n",
      "  sigma_ann = float(log_ret.std(ddof=1)) * math.sqrt(TRADING_DAYS)\n",
      "/var/folders/mn/tx231v5158797chnp22wm9000000gp/T/ipykernel_61094/4004665421.py:78: FutureWarning: Calling float on a single element Series is deprecated and will raise a TypeError in the future. Use float(ser.iloc[0]) instead\n",
      "  S0 = float(tail.iloc[-1])\n"
     ]
    },
    {
     "name": "stdout",
     "output_type": "stream",
     "text": [
      "  > METROPOLIS.NS\n"
     ]
    },
    {
     "name": "stderr",
     "output_type": "stream",
     "text": [
      "/var/folders/mn/tx231v5158797chnp22wm9000000gp/T/ipykernel_61094/4004665421.py:76: FutureWarning: Calling float on a single element Series is deprecated and will raise a TypeError in the future. Use float(ser.iloc[0]) instead\n",
      "  mu_ann = float(log_ret.mean()) * TRADING_DAYS\n",
      "/var/folders/mn/tx231v5158797chnp22wm9000000gp/T/ipykernel_61094/4004665421.py:77: FutureWarning: Calling float on a single element Series is deprecated and will raise a TypeError in the future. Use float(ser.iloc[0]) instead\n",
      "  sigma_ann = float(log_ret.std(ddof=1)) * math.sqrt(TRADING_DAYS)\n",
      "/var/folders/mn/tx231v5158797chnp22wm9000000gp/T/ipykernel_61094/4004665421.py:78: FutureWarning: Calling float on a single element Series is deprecated and will raise a TypeError in the future. Use float(ser.iloc[0]) instead\n",
      "  S0 = float(tail.iloc[-1])\n"
     ]
    },
    {
     "name": "stdout",
     "output_type": "stream",
     "text": [
      "  > MINDACORP.NS\n"
     ]
    },
    {
     "name": "stderr",
     "output_type": "stream",
     "text": [
      "/var/folders/mn/tx231v5158797chnp22wm9000000gp/T/ipykernel_61094/4004665421.py:76: FutureWarning: Calling float on a single element Series is deprecated and will raise a TypeError in the future. Use float(ser.iloc[0]) instead\n",
      "  mu_ann = float(log_ret.mean()) * TRADING_DAYS\n",
      "/var/folders/mn/tx231v5158797chnp22wm9000000gp/T/ipykernel_61094/4004665421.py:77: FutureWarning: Calling float on a single element Series is deprecated and will raise a TypeError in the future. Use float(ser.iloc[0]) instead\n",
      "  sigma_ann = float(log_ret.std(ddof=1)) * math.sqrt(TRADING_DAYS)\n",
      "/var/folders/mn/tx231v5158797chnp22wm9000000gp/T/ipykernel_61094/4004665421.py:78: FutureWarning: Calling float on a single element Series is deprecated and will raise a TypeError in the future. Use float(ser.iloc[0]) instead\n",
      "  S0 = float(tail.iloc[-1])\n"
     ]
    },
    {
     "name": "stdout",
     "output_type": "stream",
     "text": [
      "  > MSUMI.NS\n"
     ]
    },
    {
     "name": "stderr",
     "output_type": "stream",
     "text": [
      "/var/folders/mn/tx231v5158797chnp22wm9000000gp/T/ipykernel_61094/4004665421.py:76: FutureWarning: Calling float on a single element Series is deprecated and will raise a TypeError in the future. Use float(ser.iloc[0]) instead\n",
      "  mu_ann = float(log_ret.mean()) * TRADING_DAYS\n",
      "/var/folders/mn/tx231v5158797chnp22wm9000000gp/T/ipykernel_61094/4004665421.py:77: FutureWarning: Calling float on a single element Series is deprecated and will raise a TypeError in the future. Use float(ser.iloc[0]) instead\n",
      "  sigma_ann = float(log_ret.std(ddof=1)) * math.sqrt(TRADING_DAYS)\n",
      "/var/folders/mn/tx231v5158797chnp22wm9000000gp/T/ipykernel_61094/4004665421.py:78: FutureWarning: Calling float on a single element Series is deprecated and will raise a TypeError in the future. Use float(ser.iloc[0]) instead\n",
      "  S0 = float(tail.iloc[-1])\n"
     ]
    },
    {
     "name": "stdout",
     "output_type": "stream",
     "text": [
      "  > MOTILALOFS.NS\n"
     ]
    },
    {
     "name": "stderr",
     "output_type": "stream",
     "text": [
      "/var/folders/mn/tx231v5158797chnp22wm9000000gp/T/ipykernel_61094/4004665421.py:76: FutureWarning: Calling float on a single element Series is deprecated and will raise a TypeError in the future. Use float(ser.iloc[0]) instead\n",
      "  mu_ann = float(log_ret.mean()) * TRADING_DAYS\n",
      "/var/folders/mn/tx231v5158797chnp22wm9000000gp/T/ipykernel_61094/4004665421.py:77: FutureWarning: Calling float on a single element Series is deprecated and will raise a TypeError in the future. Use float(ser.iloc[0]) instead\n",
      "  sigma_ann = float(log_ret.std(ddof=1)) * math.sqrt(TRADING_DAYS)\n",
      "/var/folders/mn/tx231v5158797chnp22wm9000000gp/T/ipykernel_61094/4004665421.py:78: FutureWarning: Calling float on a single element Series is deprecated and will raise a TypeError in the future. Use float(ser.iloc[0]) instead\n",
      "  S0 = float(tail.iloc[-1])\n"
     ]
    },
    {
     "name": "stdout",
     "output_type": "stream",
     "text": [
      "  > MPHASIS.NS\n"
     ]
    },
    {
     "name": "stderr",
     "output_type": "stream",
     "text": [
      "/var/folders/mn/tx231v5158797chnp22wm9000000gp/T/ipykernel_61094/4004665421.py:76: FutureWarning: Calling float on a single element Series is deprecated and will raise a TypeError in the future. Use float(ser.iloc[0]) instead\n",
      "  mu_ann = float(log_ret.mean()) * TRADING_DAYS\n",
      "/var/folders/mn/tx231v5158797chnp22wm9000000gp/T/ipykernel_61094/4004665421.py:77: FutureWarning: Calling float on a single element Series is deprecated and will raise a TypeError in the future. Use float(ser.iloc[0]) instead\n",
      "  sigma_ann = float(log_ret.std(ddof=1)) * math.sqrt(TRADING_DAYS)\n",
      "/var/folders/mn/tx231v5158797chnp22wm9000000gp/T/ipykernel_61094/4004665421.py:78: FutureWarning: Calling float on a single element Series is deprecated and will raise a TypeError in the future. Use float(ser.iloc[0]) instead\n",
      "  S0 = float(tail.iloc[-1])\n"
     ]
    },
    {
     "name": "stdout",
     "output_type": "stream",
     "text": [
      "  > MCX.NS\n"
     ]
    },
    {
     "name": "stderr",
     "output_type": "stream",
     "text": [
      "/var/folders/mn/tx231v5158797chnp22wm9000000gp/T/ipykernel_61094/4004665421.py:76: FutureWarning: Calling float on a single element Series is deprecated and will raise a TypeError in the future. Use float(ser.iloc[0]) instead\n",
      "  mu_ann = float(log_ret.mean()) * TRADING_DAYS\n",
      "/var/folders/mn/tx231v5158797chnp22wm9000000gp/T/ipykernel_61094/4004665421.py:77: FutureWarning: Calling float on a single element Series is deprecated and will raise a TypeError in the future. Use float(ser.iloc[0]) instead\n",
      "  sigma_ann = float(log_ret.std(ddof=1)) * math.sqrt(TRADING_DAYS)\n",
      "/var/folders/mn/tx231v5158797chnp22wm9000000gp/T/ipykernel_61094/4004665421.py:78: FutureWarning: Calling float on a single element Series is deprecated and will raise a TypeError in the future. Use float(ser.iloc[0]) instead\n",
      "  S0 = float(tail.iloc[-1])\n"
     ]
    },
    {
     "name": "stdout",
     "output_type": "stream",
     "text": [
      "  > MUTHOOTFIN.NS\n"
     ]
    },
    {
     "name": "stderr",
     "output_type": "stream",
     "text": [
      "/var/folders/mn/tx231v5158797chnp22wm9000000gp/T/ipykernel_61094/4004665421.py:76: FutureWarning: Calling float on a single element Series is deprecated and will raise a TypeError in the future. Use float(ser.iloc[0]) instead\n",
      "  mu_ann = float(log_ret.mean()) * TRADING_DAYS\n",
      "/var/folders/mn/tx231v5158797chnp22wm9000000gp/T/ipykernel_61094/4004665421.py:77: FutureWarning: Calling float on a single element Series is deprecated and will raise a TypeError in the future. Use float(ser.iloc[0]) instead\n",
      "  sigma_ann = float(log_ret.std(ddof=1)) * math.sqrt(TRADING_DAYS)\n",
      "/var/folders/mn/tx231v5158797chnp22wm9000000gp/T/ipykernel_61094/4004665421.py:78: FutureWarning: Calling float on a single element Series is deprecated and will raise a TypeError in the future. Use float(ser.iloc[0]) instead\n",
      "  S0 = float(tail.iloc[-1])\n"
     ]
    },
    {
     "name": "stdout",
     "output_type": "stream",
     "text": [
      "  > NATCOPHARM.NS\n"
     ]
    },
    {
     "name": "stderr",
     "output_type": "stream",
     "text": [
      "/var/folders/mn/tx231v5158797chnp22wm9000000gp/T/ipykernel_61094/4004665421.py:76: FutureWarning: Calling float on a single element Series is deprecated and will raise a TypeError in the future. Use float(ser.iloc[0]) instead\n",
      "  mu_ann = float(log_ret.mean()) * TRADING_DAYS\n",
      "/var/folders/mn/tx231v5158797chnp22wm9000000gp/T/ipykernel_61094/4004665421.py:77: FutureWarning: Calling float on a single element Series is deprecated and will raise a TypeError in the future. Use float(ser.iloc[0]) instead\n",
      "  sigma_ann = float(log_ret.std(ddof=1)) * math.sqrt(TRADING_DAYS)\n",
      "/var/folders/mn/tx231v5158797chnp22wm9000000gp/T/ipykernel_61094/4004665421.py:78: FutureWarning: Calling float on a single element Series is deprecated and will raise a TypeError in the future. Use float(ser.iloc[0]) instead\n",
      "  S0 = float(tail.iloc[-1])\n"
     ]
    },
    {
     "name": "stdout",
     "output_type": "stream",
     "text": [
      "  > NBCC.NS\n"
     ]
    },
    {
     "name": "stderr",
     "output_type": "stream",
     "text": [
      "/var/folders/mn/tx231v5158797chnp22wm9000000gp/T/ipykernel_61094/4004665421.py:76: FutureWarning: Calling float on a single element Series is deprecated and will raise a TypeError in the future. Use float(ser.iloc[0]) instead\n",
      "  mu_ann = float(log_ret.mean()) * TRADING_DAYS\n",
      "/var/folders/mn/tx231v5158797chnp22wm9000000gp/T/ipykernel_61094/4004665421.py:77: FutureWarning: Calling float on a single element Series is deprecated and will raise a TypeError in the future. Use float(ser.iloc[0]) instead\n",
      "  sigma_ann = float(log_ret.std(ddof=1)) * math.sqrt(TRADING_DAYS)\n",
      "/var/folders/mn/tx231v5158797chnp22wm9000000gp/T/ipykernel_61094/4004665421.py:78: FutureWarning: Calling float on a single element Series is deprecated and will raise a TypeError in the future. Use float(ser.iloc[0]) instead\n",
      "  S0 = float(tail.iloc[-1])\n"
     ]
    },
    {
     "name": "stdout",
     "output_type": "stream",
     "text": [
      "  > NCC.NS\n"
     ]
    },
    {
     "name": "stderr",
     "output_type": "stream",
     "text": [
      "/var/folders/mn/tx231v5158797chnp22wm9000000gp/T/ipykernel_61094/4004665421.py:76: FutureWarning: Calling float on a single element Series is deprecated and will raise a TypeError in the future. Use float(ser.iloc[0]) instead\n",
      "  mu_ann = float(log_ret.mean()) * TRADING_DAYS\n",
      "/var/folders/mn/tx231v5158797chnp22wm9000000gp/T/ipykernel_61094/4004665421.py:77: FutureWarning: Calling float on a single element Series is deprecated and will raise a TypeError in the future. Use float(ser.iloc[0]) instead\n",
      "  sigma_ann = float(log_ret.std(ddof=1)) * math.sqrt(TRADING_DAYS)\n",
      "/var/folders/mn/tx231v5158797chnp22wm9000000gp/T/ipykernel_61094/4004665421.py:78: FutureWarning: Calling float on a single element Series is deprecated and will raise a TypeError in the future. Use float(ser.iloc[0]) instead\n",
      "  S0 = float(tail.iloc[-1])\n"
     ]
    },
    {
     "name": "stdout",
     "output_type": "stream",
     "text": [
      "  > NHPC.NS\n"
     ]
    },
    {
     "name": "stderr",
     "output_type": "stream",
     "text": [
      "/var/folders/mn/tx231v5158797chnp22wm9000000gp/T/ipykernel_61094/4004665421.py:76: FutureWarning: Calling float on a single element Series is deprecated and will raise a TypeError in the future. Use float(ser.iloc[0]) instead\n",
      "  mu_ann = float(log_ret.mean()) * TRADING_DAYS\n",
      "/var/folders/mn/tx231v5158797chnp22wm9000000gp/T/ipykernel_61094/4004665421.py:77: FutureWarning: Calling float on a single element Series is deprecated and will raise a TypeError in the future. Use float(ser.iloc[0]) instead\n",
      "  sigma_ann = float(log_ret.std(ddof=1)) * math.sqrt(TRADING_DAYS)\n",
      "/var/folders/mn/tx231v5158797chnp22wm9000000gp/T/ipykernel_61094/4004665421.py:78: FutureWarning: Calling float on a single element Series is deprecated and will raise a TypeError in the future. Use float(ser.iloc[0]) instead\n",
      "  S0 = float(tail.iloc[-1])\n"
     ]
    },
    {
     "name": "stdout",
     "output_type": "stream",
     "text": [
      "  > NLCINDIA.NS\n"
     ]
    },
    {
     "name": "stderr",
     "output_type": "stream",
     "text": [
      "/var/folders/mn/tx231v5158797chnp22wm9000000gp/T/ipykernel_61094/4004665421.py:76: FutureWarning: Calling float on a single element Series is deprecated and will raise a TypeError in the future. Use float(ser.iloc[0]) instead\n",
      "  mu_ann = float(log_ret.mean()) * TRADING_DAYS\n",
      "/var/folders/mn/tx231v5158797chnp22wm9000000gp/T/ipykernel_61094/4004665421.py:77: FutureWarning: Calling float on a single element Series is deprecated and will raise a TypeError in the future. Use float(ser.iloc[0]) instead\n",
      "  sigma_ann = float(log_ret.std(ddof=1)) * math.sqrt(TRADING_DAYS)\n",
      "/var/folders/mn/tx231v5158797chnp22wm9000000gp/T/ipykernel_61094/4004665421.py:78: FutureWarning: Calling float on a single element Series is deprecated and will raise a TypeError in the future. Use float(ser.iloc[0]) instead\n",
      "  S0 = float(tail.iloc[-1])\n"
     ]
    },
    {
     "name": "stdout",
     "output_type": "stream",
     "text": [
      "  > NMDC.NS\n"
     ]
    },
    {
     "name": "stderr",
     "output_type": "stream",
     "text": [
      "/var/folders/mn/tx231v5158797chnp22wm9000000gp/T/ipykernel_61094/4004665421.py:76: FutureWarning: Calling float on a single element Series is deprecated and will raise a TypeError in the future. Use float(ser.iloc[0]) instead\n",
      "  mu_ann = float(log_ret.mean()) * TRADING_DAYS\n",
      "/var/folders/mn/tx231v5158797chnp22wm9000000gp/T/ipykernel_61094/4004665421.py:77: FutureWarning: Calling float on a single element Series is deprecated and will raise a TypeError in the future. Use float(ser.iloc[0]) instead\n",
      "  sigma_ann = float(log_ret.std(ddof=1)) * math.sqrt(TRADING_DAYS)\n",
      "/var/folders/mn/tx231v5158797chnp22wm9000000gp/T/ipykernel_61094/4004665421.py:78: FutureWarning: Calling float on a single element Series is deprecated and will raise a TypeError in the future. Use float(ser.iloc[0]) instead\n",
      "  S0 = float(tail.iloc[-1])\n"
     ]
    },
    {
     "name": "stdout",
     "output_type": "stream",
     "text": [
      "  > NSLNISP.NS\n"
     ]
    },
    {
     "name": "stderr",
     "output_type": "stream",
     "text": [
      "/var/folders/mn/tx231v5158797chnp22wm9000000gp/T/ipykernel_61094/4004665421.py:76: FutureWarning: Calling float on a single element Series is deprecated and will raise a TypeError in the future. Use float(ser.iloc[0]) instead\n",
      "  mu_ann = float(log_ret.mean()) * TRADING_DAYS\n",
      "/var/folders/mn/tx231v5158797chnp22wm9000000gp/T/ipykernel_61094/4004665421.py:77: FutureWarning: Calling float on a single element Series is deprecated and will raise a TypeError in the future. Use float(ser.iloc[0]) instead\n",
      "  sigma_ann = float(log_ret.std(ddof=1)) * math.sqrt(TRADING_DAYS)\n",
      "/var/folders/mn/tx231v5158797chnp22wm9000000gp/T/ipykernel_61094/4004665421.py:78: FutureWarning: Calling float on a single element Series is deprecated and will raise a TypeError in the future. Use float(ser.iloc[0]) instead\n",
      "  S0 = float(tail.iloc[-1])\n"
     ]
    },
    {
     "name": "stdout",
     "output_type": "stream",
     "text": [
      "  > NTPCGREEN.NS\n"
     ]
    },
    {
     "name": "stderr",
     "output_type": "stream",
     "text": [
      "/var/folders/mn/tx231v5158797chnp22wm9000000gp/T/ipykernel_61094/4004665421.py:76: FutureWarning: Calling float on a single element Series is deprecated and will raise a TypeError in the future. Use float(ser.iloc[0]) instead\n",
      "  mu_ann = float(log_ret.mean()) * TRADING_DAYS\n",
      "/var/folders/mn/tx231v5158797chnp22wm9000000gp/T/ipykernel_61094/4004665421.py:77: FutureWarning: Calling float on a single element Series is deprecated and will raise a TypeError in the future. Use float(ser.iloc[0]) instead\n",
      "  sigma_ann = float(log_ret.std(ddof=1)) * math.sqrt(TRADING_DAYS)\n",
      "/var/folders/mn/tx231v5158797chnp22wm9000000gp/T/ipykernel_61094/4004665421.py:78: FutureWarning: Calling float on a single element Series is deprecated and will raise a TypeError in the future. Use float(ser.iloc[0]) instead\n",
      "  S0 = float(tail.iloc[-1])\n"
     ]
    },
    {
     "name": "stdout",
     "output_type": "stream",
     "text": [
      "  > NTPC.NS\n"
     ]
    },
    {
     "name": "stderr",
     "output_type": "stream",
     "text": [
      "/var/folders/mn/tx231v5158797chnp22wm9000000gp/T/ipykernel_61094/4004665421.py:76: FutureWarning: Calling float on a single element Series is deprecated and will raise a TypeError in the future. Use float(ser.iloc[0]) instead\n",
      "  mu_ann = float(log_ret.mean()) * TRADING_DAYS\n",
      "/var/folders/mn/tx231v5158797chnp22wm9000000gp/T/ipykernel_61094/4004665421.py:77: FutureWarning: Calling float on a single element Series is deprecated and will raise a TypeError in the future. Use float(ser.iloc[0]) instead\n",
      "  sigma_ann = float(log_ret.std(ddof=1)) * math.sqrt(TRADING_DAYS)\n",
      "/var/folders/mn/tx231v5158797chnp22wm9000000gp/T/ipykernel_61094/4004665421.py:78: FutureWarning: Calling float on a single element Series is deprecated and will raise a TypeError in the future. Use float(ser.iloc[0]) instead\n",
      "  S0 = float(tail.iloc[-1])\n"
     ]
    },
    {
     "name": "stdout",
     "output_type": "stream",
     "text": [
      "  > NH.NS\n"
     ]
    },
    {
     "name": "stderr",
     "output_type": "stream",
     "text": [
      "/var/folders/mn/tx231v5158797chnp22wm9000000gp/T/ipykernel_61094/4004665421.py:76: FutureWarning: Calling float on a single element Series is deprecated and will raise a TypeError in the future. Use float(ser.iloc[0]) instead\n",
      "  mu_ann = float(log_ret.mean()) * TRADING_DAYS\n",
      "/var/folders/mn/tx231v5158797chnp22wm9000000gp/T/ipykernel_61094/4004665421.py:77: FutureWarning: Calling float on a single element Series is deprecated and will raise a TypeError in the future. Use float(ser.iloc[0]) instead\n",
      "  sigma_ann = float(log_ret.std(ddof=1)) * math.sqrt(TRADING_DAYS)\n",
      "/var/folders/mn/tx231v5158797chnp22wm9000000gp/T/ipykernel_61094/4004665421.py:78: FutureWarning: Calling float on a single element Series is deprecated and will raise a TypeError in the future. Use float(ser.iloc[0]) instead\n",
      "  S0 = float(tail.iloc[-1])\n"
     ]
    },
    {
     "name": "stdout",
     "output_type": "stream",
     "text": [
      "  > NATIONALUM.NS\n"
     ]
    },
    {
     "name": "stderr",
     "output_type": "stream",
     "text": [
      "/var/folders/mn/tx231v5158797chnp22wm9000000gp/T/ipykernel_61094/4004665421.py:76: FutureWarning: Calling float on a single element Series is deprecated and will raise a TypeError in the future. Use float(ser.iloc[0]) instead\n",
      "  mu_ann = float(log_ret.mean()) * TRADING_DAYS\n",
      "/var/folders/mn/tx231v5158797chnp22wm9000000gp/T/ipykernel_61094/4004665421.py:77: FutureWarning: Calling float on a single element Series is deprecated and will raise a TypeError in the future. Use float(ser.iloc[0]) instead\n",
      "  sigma_ann = float(log_ret.std(ddof=1)) * math.sqrt(TRADING_DAYS)\n",
      "/var/folders/mn/tx231v5158797chnp22wm9000000gp/T/ipykernel_61094/4004665421.py:78: FutureWarning: Calling float on a single element Series is deprecated and will raise a TypeError in the future. Use float(ser.iloc[0]) instead\n",
      "  S0 = float(tail.iloc[-1])\n"
     ]
    },
    {
     "name": "stdout",
     "output_type": "stream",
     "text": [
      "  > NAVA.NS\n"
     ]
    },
    {
     "name": "stderr",
     "output_type": "stream",
     "text": [
      "/var/folders/mn/tx231v5158797chnp22wm9000000gp/T/ipykernel_61094/4004665421.py:76: FutureWarning: Calling float on a single element Series is deprecated and will raise a TypeError in the future. Use float(ser.iloc[0]) instead\n",
      "  mu_ann = float(log_ret.mean()) * TRADING_DAYS\n",
      "/var/folders/mn/tx231v5158797chnp22wm9000000gp/T/ipykernel_61094/4004665421.py:77: FutureWarning: Calling float on a single element Series is deprecated and will raise a TypeError in the future. Use float(ser.iloc[0]) instead\n",
      "  sigma_ann = float(log_ret.std(ddof=1)) * math.sqrt(TRADING_DAYS)\n",
      "/var/folders/mn/tx231v5158797chnp22wm9000000gp/T/ipykernel_61094/4004665421.py:78: FutureWarning: Calling float on a single element Series is deprecated and will raise a TypeError in the future. Use float(ser.iloc[0]) instead\n",
      "  S0 = float(tail.iloc[-1])\n"
     ]
    },
    {
     "name": "stdout",
     "output_type": "stream",
     "text": [
      "  > NAVINFLUOR.NS\n"
     ]
    },
    {
     "name": "stderr",
     "output_type": "stream",
     "text": [
      "/var/folders/mn/tx231v5158797chnp22wm9000000gp/T/ipykernel_61094/4004665421.py:76: FutureWarning: Calling float on a single element Series is deprecated and will raise a TypeError in the future. Use float(ser.iloc[0]) instead\n",
      "  mu_ann = float(log_ret.mean()) * TRADING_DAYS\n",
      "/var/folders/mn/tx231v5158797chnp22wm9000000gp/T/ipykernel_61094/4004665421.py:77: FutureWarning: Calling float on a single element Series is deprecated and will raise a TypeError in the future. Use float(ser.iloc[0]) instead\n",
      "  sigma_ann = float(log_ret.std(ddof=1)) * math.sqrt(TRADING_DAYS)\n",
      "/var/folders/mn/tx231v5158797chnp22wm9000000gp/T/ipykernel_61094/4004665421.py:78: FutureWarning: Calling float on a single element Series is deprecated and will raise a TypeError in the future. Use float(ser.iloc[0]) instead\n",
      "  S0 = float(tail.iloc[-1])\n"
     ]
    },
    {
     "name": "stdout",
     "output_type": "stream",
     "text": [
      "  > NESTLEIND.NS\n"
     ]
    },
    {
     "name": "stderr",
     "output_type": "stream",
     "text": [
      "/var/folders/mn/tx231v5158797chnp22wm9000000gp/T/ipykernel_61094/4004665421.py:76: FutureWarning: Calling float on a single element Series is deprecated and will raise a TypeError in the future. Use float(ser.iloc[0]) instead\n",
      "  mu_ann = float(log_ret.mean()) * TRADING_DAYS\n",
      "/var/folders/mn/tx231v5158797chnp22wm9000000gp/T/ipykernel_61094/4004665421.py:77: FutureWarning: Calling float on a single element Series is deprecated and will raise a TypeError in the future. Use float(ser.iloc[0]) instead\n",
      "  sigma_ann = float(log_ret.std(ddof=1)) * math.sqrt(TRADING_DAYS)\n",
      "/var/folders/mn/tx231v5158797chnp22wm9000000gp/T/ipykernel_61094/4004665421.py:78: FutureWarning: Calling float on a single element Series is deprecated and will raise a TypeError in the future. Use float(ser.iloc[0]) instead\n",
      "  S0 = float(tail.iloc[-1])\n"
     ]
    },
    {
     "name": "stdout",
     "output_type": "stream",
     "text": [
      "  > NETWEB.NS\n"
     ]
    },
    {
     "name": "stderr",
     "output_type": "stream",
     "text": [
      "/var/folders/mn/tx231v5158797chnp22wm9000000gp/T/ipykernel_61094/4004665421.py:76: FutureWarning: Calling float on a single element Series is deprecated and will raise a TypeError in the future. Use float(ser.iloc[0]) instead\n",
      "  mu_ann = float(log_ret.mean()) * TRADING_DAYS\n",
      "/var/folders/mn/tx231v5158797chnp22wm9000000gp/T/ipykernel_61094/4004665421.py:77: FutureWarning: Calling float on a single element Series is deprecated and will raise a TypeError in the future. Use float(ser.iloc[0]) instead\n",
      "  sigma_ann = float(log_ret.std(ddof=1)) * math.sqrt(TRADING_DAYS)\n",
      "/var/folders/mn/tx231v5158797chnp22wm9000000gp/T/ipykernel_61094/4004665421.py:78: FutureWarning: Calling float on a single element Series is deprecated and will raise a TypeError in the future. Use float(ser.iloc[0]) instead\n",
      "  S0 = float(tail.iloc[-1])\n"
     ]
    },
    {
     "name": "stdout",
     "output_type": "stream",
     "text": [
      "  > NETWORK18.NS\n"
     ]
    },
    {
     "name": "stderr",
     "output_type": "stream",
     "text": [
      "/var/folders/mn/tx231v5158797chnp22wm9000000gp/T/ipykernel_61094/4004665421.py:76: FutureWarning: Calling float on a single element Series is deprecated and will raise a TypeError in the future. Use float(ser.iloc[0]) instead\n",
      "  mu_ann = float(log_ret.mean()) * TRADING_DAYS\n",
      "/var/folders/mn/tx231v5158797chnp22wm9000000gp/T/ipykernel_61094/4004665421.py:77: FutureWarning: Calling float on a single element Series is deprecated and will raise a TypeError in the future. Use float(ser.iloc[0]) instead\n",
      "  sigma_ann = float(log_ret.std(ddof=1)) * math.sqrt(TRADING_DAYS)\n",
      "/var/folders/mn/tx231v5158797chnp22wm9000000gp/T/ipykernel_61094/4004665421.py:78: FutureWarning: Calling float on a single element Series is deprecated and will raise a TypeError in the future. Use float(ser.iloc[0]) instead\n",
      "  S0 = float(tail.iloc[-1])\n"
     ]
    },
    {
     "name": "stdout",
     "output_type": "stream",
     "text": [
      "  > NEULANDLAB.NS\n"
     ]
    },
    {
     "name": "stderr",
     "output_type": "stream",
     "text": [
      "/var/folders/mn/tx231v5158797chnp22wm9000000gp/T/ipykernel_61094/4004665421.py:76: FutureWarning: Calling float on a single element Series is deprecated and will raise a TypeError in the future. Use float(ser.iloc[0]) instead\n",
      "  mu_ann = float(log_ret.mean()) * TRADING_DAYS\n",
      "/var/folders/mn/tx231v5158797chnp22wm9000000gp/T/ipykernel_61094/4004665421.py:77: FutureWarning: Calling float on a single element Series is deprecated and will raise a TypeError in the future. Use float(ser.iloc[0]) instead\n",
      "  sigma_ann = float(log_ret.std(ddof=1)) * math.sqrt(TRADING_DAYS)\n",
      "/var/folders/mn/tx231v5158797chnp22wm9000000gp/T/ipykernel_61094/4004665421.py:78: FutureWarning: Calling float on a single element Series is deprecated and will raise a TypeError in the future. Use float(ser.iloc[0]) instead\n",
      "  S0 = float(tail.iloc[-1])\n"
     ]
    },
    {
     "name": "stdout",
     "output_type": "stream",
     "text": [
      "  > NEWGEN.NS\n"
     ]
    },
    {
     "name": "stderr",
     "output_type": "stream",
     "text": [
      "/var/folders/mn/tx231v5158797chnp22wm9000000gp/T/ipykernel_61094/4004665421.py:76: FutureWarning: Calling float on a single element Series is deprecated and will raise a TypeError in the future. Use float(ser.iloc[0]) instead\n",
      "  mu_ann = float(log_ret.mean()) * TRADING_DAYS\n",
      "/var/folders/mn/tx231v5158797chnp22wm9000000gp/T/ipykernel_61094/4004665421.py:77: FutureWarning: Calling float on a single element Series is deprecated and will raise a TypeError in the future. Use float(ser.iloc[0]) instead\n",
      "  sigma_ann = float(log_ret.std(ddof=1)) * math.sqrt(TRADING_DAYS)\n",
      "/var/folders/mn/tx231v5158797chnp22wm9000000gp/T/ipykernel_61094/4004665421.py:78: FutureWarning: Calling float on a single element Series is deprecated and will raise a TypeError in the future. Use float(ser.iloc[0]) instead\n",
      "  S0 = float(tail.iloc[-1])\n"
     ]
    },
    {
     "name": "stdout",
     "output_type": "stream",
     "text": [
      "  > NAM-INDIA.NS\n"
     ]
    },
    {
     "name": "stderr",
     "output_type": "stream",
     "text": [
      "/var/folders/mn/tx231v5158797chnp22wm9000000gp/T/ipykernel_61094/4004665421.py:76: FutureWarning: Calling float on a single element Series is deprecated and will raise a TypeError in the future. Use float(ser.iloc[0]) instead\n",
      "  mu_ann = float(log_ret.mean()) * TRADING_DAYS\n",
      "/var/folders/mn/tx231v5158797chnp22wm9000000gp/T/ipykernel_61094/4004665421.py:77: FutureWarning: Calling float on a single element Series is deprecated and will raise a TypeError in the future. Use float(ser.iloc[0]) instead\n",
      "  sigma_ann = float(log_ret.std(ddof=1)) * math.sqrt(TRADING_DAYS)\n",
      "/var/folders/mn/tx231v5158797chnp22wm9000000gp/T/ipykernel_61094/4004665421.py:78: FutureWarning: Calling float on a single element Series is deprecated and will raise a TypeError in the future. Use float(ser.iloc[0]) instead\n",
      "  S0 = float(tail.iloc[-1])\n"
     ]
    },
    {
     "name": "stdout",
     "output_type": "stream",
     "text": [
      "  > NIVABUPA.NS\n"
     ]
    },
    {
     "name": "stderr",
     "output_type": "stream",
     "text": [
      "/var/folders/mn/tx231v5158797chnp22wm9000000gp/T/ipykernel_61094/4004665421.py:76: FutureWarning: Calling float on a single element Series is deprecated and will raise a TypeError in the future. Use float(ser.iloc[0]) instead\n",
      "  mu_ann = float(log_ret.mean()) * TRADING_DAYS\n",
      "/var/folders/mn/tx231v5158797chnp22wm9000000gp/T/ipykernel_61094/4004665421.py:77: FutureWarning: Calling float on a single element Series is deprecated and will raise a TypeError in the future. Use float(ser.iloc[0]) instead\n",
      "  sigma_ann = float(log_ret.std(ddof=1)) * math.sqrt(TRADING_DAYS)\n",
      "/var/folders/mn/tx231v5158797chnp22wm9000000gp/T/ipykernel_61094/4004665421.py:78: FutureWarning: Calling float on a single element Series is deprecated and will raise a TypeError in the future. Use float(ser.iloc[0]) instead\n",
      "  S0 = float(tail.iloc[-1])\n"
     ]
    },
    {
     "name": "stdout",
     "output_type": "stream",
     "text": [
      "  > NUVAMA.NS\n"
     ]
    },
    {
     "name": "stderr",
     "output_type": "stream",
     "text": [
      "/var/folders/mn/tx231v5158797chnp22wm9000000gp/T/ipykernel_61094/4004665421.py:76: FutureWarning: Calling float on a single element Series is deprecated and will raise a TypeError in the future. Use float(ser.iloc[0]) instead\n",
      "  mu_ann = float(log_ret.mean()) * TRADING_DAYS\n",
      "/var/folders/mn/tx231v5158797chnp22wm9000000gp/T/ipykernel_61094/4004665421.py:77: FutureWarning: Calling float on a single element Series is deprecated and will raise a TypeError in the future. Use float(ser.iloc[0]) instead\n",
      "  sigma_ann = float(log_ret.std(ddof=1)) * math.sqrt(TRADING_DAYS)\n",
      "/var/folders/mn/tx231v5158797chnp22wm9000000gp/T/ipykernel_61094/4004665421.py:78: FutureWarning: Calling float on a single element Series is deprecated and will raise a TypeError in the future. Use float(ser.iloc[0]) instead\n",
      "  S0 = float(tail.iloc[-1])\n"
     ]
    },
    {
     "name": "stdout",
     "output_type": "stream",
     "text": [
      "  > OBEROIRLTY.NS\n"
     ]
    },
    {
     "name": "stderr",
     "output_type": "stream",
     "text": [
      "/var/folders/mn/tx231v5158797chnp22wm9000000gp/T/ipykernel_61094/4004665421.py:76: FutureWarning: Calling float on a single element Series is deprecated and will raise a TypeError in the future. Use float(ser.iloc[0]) instead\n",
      "  mu_ann = float(log_ret.mean()) * TRADING_DAYS\n",
      "/var/folders/mn/tx231v5158797chnp22wm9000000gp/T/ipykernel_61094/4004665421.py:77: FutureWarning: Calling float on a single element Series is deprecated and will raise a TypeError in the future. Use float(ser.iloc[0]) instead\n",
      "  sigma_ann = float(log_ret.std(ddof=1)) * math.sqrt(TRADING_DAYS)\n",
      "/var/folders/mn/tx231v5158797chnp22wm9000000gp/T/ipykernel_61094/4004665421.py:78: FutureWarning: Calling float on a single element Series is deprecated and will raise a TypeError in the future. Use float(ser.iloc[0]) instead\n",
      "  S0 = float(tail.iloc[-1])\n"
     ]
    },
    {
     "name": "stdout",
     "output_type": "stream",
     "text": [
      "  > ONGC.NS\n"
     ]
    },
    {
     "name": "stderr",
     "output_type": "stream",
     "text": [
      "/var/folders/mn/tx231v5158797chnp22wm9000000gp/T/ipykernel_61094/4004665421.py:76: FutureWarning: Calling float on a single element Series is deprecated and will raise a TypeError in the future. Use float(ser.iloc[0]) instead\n",
      "  mu_ann = float(log_ret.mean()) * TRADING_DAYS\n",
      "/var/folders/mn/tx231v5158797chnp22wm9000000gp/T/ipykernel_61094/4004665421.py:77: FutureWarning: Calling float on a single element Series is deprecated and will raise a TypeError in the future. Use float(ser.iloc[0]) instead\n",
      "  sigma_ann = float(log_ret.std(ddof=1)) * math.sqrt(TRADING_DAYS)\n",
      "/var/folders/mn/tx231v5158797chnp22wm9000000gp/T/ipykernel_61094/4004665421.py:78: FutureWarning: Calling float on a single element Series is deprecated and will raise a TypeError in the future. Use float(ser.iloc[0]) instead\n",
      "  S0 = float(tail.iloc[-1])\n"
     ]
    },
    {
     "name": "stdout",
     "output_type": "stream",
     "text": [
      "  > OIL.NS\n"
     ]
    },
    {
     "name": "stderr",
     "output_type": "stream",
     "text": [
      "/var/folders/mn/tx231v5158797chnp22wm9000000gp/T/ipykernel_61094/4004665421.py:76: FutureWarning: Calling float on a single element Series is deprecated and will raise a TypeError in the future. Use float(ser.iloc[0]) instead\n",
      "  mu_ann = float(log_ret.mean()) * TRADING_DAYS\n",
      "/var/folders/mn/tx231v5158797chnp22wm9000000gp/T/ipykernel_61094/4004665421.py:77: FutureWarning: Calling float on a single element Series is deprecated and will raise a TypeError in the future. Use float(ser.iloc[0]) instead\n",
      "  sigma_ann = float(log_ret.std(ddof=1)) * math.sqrt(TRADING_DAYS)\n",
      "/var/folders/mn/tx231v5158797chnp22wm9000000gp/T/ipykernel_61094/4004665421.py:78: FutureWarning: Calling float on a single element Series is deprecated and will raise a TypeError in the future. Use float(ser.iloc[0]) instead\n",
      "  S0 = float(tail.iloc[-1])\n"
     ]
    },
    {
     "name": "stdout",
     "output_type": "stream",
     "text": [
      "  > OLAELEC.NS\n"
     ]
    },
    {
     "name": "stderr",
     "output_type": "stream",
     "text": [
      "/var/folders/mn/tx231v5158797chnp22wm9000000gp/T/ipykernel_61094/4004665421.py:76: FutureWarning: Calling float on a single element Series is deprecated and will raise a TypeError in the future. Use float(ser.iloc[0]) instead\n",
      "  mu_ann = float(log_ret.mean()) * TRADING_DAYS\n",
      "/var/folders/mn/tx231v5158797chnp22wm9000000gp/T/ipykernel_61094/4004665421.py:77: FutureWarning: Calling float on a single element Series is deprecated and will raise a TypeError in the future. Use float(ser.iloc[0]) instead\n",
      "  sigma_ann = float(log_ret.std(ddof=1)) * math.sqrt(TRADING_DAYS)\n",
      "/var/folders/mn/tx231v5158797chnp22wm9000000gp/T/ipykernel_61094/4004665421.py:78: FutureWarning: Calling float on a single element Series is deprecated and will raise a TypeError in the future. Use float(ser.iloc[0]) instead\n",
      "  S0 = float(tail.iloc[-1])\n"
     ]
    },
    {
     "name": "stdout",
     "output_type": "stream",
     "text": [
      "  > OLECTRA.NS\n"
     ]
    },
    {
     "name": "stderr",
     "output_type": "stream",
     "text": [
      "/var/folders/mn/tx231v5158797chnp22wm9000000gp/T/ipykernel_61094/4004665421.py:76: FutureWarning: Calling float on a single element Series is deprecated and will raise a TypeError in the future. Use float(ser.iloc[0]) instead\n",
      "  mu_ann = float(log_ret.mean()) * TRADING_DAYS\n",
      "/var/folders/mn/tx231v5158797chnp22wm9000000gp/T/ipykernel_61094/4004665421.py:77: FutureWarning: Calling float on a single element Series is deprecated and will raise a TypeError in the future. Use float(ser.iloc[0]) instead\n",
      "  sigma_ann = float(log_ret.std(ddof=1)) * math.sqrt(TRADING_DAYS)\n",
      "/var/folders/mn/tx231v5158797chnp22wm9000000gp/T/ipykernel_61094/4004665421.py:78: FutureWarning: Calling float on a single element Series is deprecated and will raise a TypeError in the future. Use float(ser.iloc[0]) instead\n",
      "  S0 = float(tail.iloc[-1])\n"
     ]
    },
    {
     "name": "stdout",
     "output_type": "stream",
     "text": [
      "  > PAYTM.NS\n"
     ]
    },
    {
     "name": "stderr",
     "output_type": "stream",
     "text": [
      "/var/folders/mn/tx231v5158797chnp22wm9000000gp/T/ipykernel_61094/4004665421.py:76: FutureWarning: Calling float on a single element Series is deprecated and will raise a TypeError in the future. Use float(ser.iloc[0]) instead\n",
      "  mu_ann = float(log_ret.mean()) * TRADING_DAYS\n",
      "/var/folders/mn/tx231v5158797chnp22wm9000000gp/T/ipykernel_61094/4004665421.py:77: FutureWarning: Calling float on a single element Series is deprecated and will raise a TypeError in the future. Use float(ser.iloc[0]) instead\n",
      "  sigma_ann = float(log_ret.std(ddof=1)) * math.sqrt(TRADING_DAYS)\n",
      "/var/folders/mn/tx231v5158797chnp22wm9000000gp/T/ipykernel_61094/4004665421.py:78: FutureWarning: Calling float on a single element Series is deprecated and will raise a TypeError in the future. Use float(ser.iloc[0]) instead\n",
      "  S0 = float(tail.iloc[-1])\n"
     ]
    },
    {
     "name": "stdout",
     "output_type": "stream",
     "text": [
      "  > OFSS.NS\n"
     ]
    },
    {
     "name": "stderr",
     "output_type": "stream",
     "text": [
      "/var/folders/mn/tx231v5158797chnp22wm9000000gp/T/ipykernel_61094/4004665421.py:76: FutureWarning: Calling float on a single element Series is deprecated and will raise a TypeError in the future. Use float(ser.iloc[0]) instead\n",
      "  mu_ann = float(log_ret.mean()) * TRADING_DAYS\n",
      "/var/folders/mn/tx231v5158797chnp22wm9000000gp/T/ipykernel_61094/4004665421.py:77: FutureWarning: Calling float on a single element Series is deprecated and will raise a TypeError in the future. Use float(ser.iloc[0]) instead\n",
      "  sigma_ann = float(log_ret.std(ddof=1)) * math.sqrt(TRADING_DAYS)\n",
      "/var/folders/mn/tx231v5158797chnp22wm9000000gp/T/ipykernel_61094/4004665421.py:78: FutureWarning: Calling float on a single element Series is deprecated and will raise a TypeError in the future. Use float(ser.iloc[0]) instead\n",
      "  S0 = float(tail.iloc[-1])\n"
     ]
    },
    {
     "name": "stdout",
     "output_type": "stream",
     "text": [
      "  > POLICYBZR.NS\n"
     ]
    },
    {
     "name": "stderr",
     "output_type": "stream",
     "text": [
      "/var/folders/mn/tx231v5158797chnp22wm9000000gp/T/ipykernel_61094/4004665421.py:76: FutureWarning: Calling float on a single element Series is deprecated and will raise a TypeError in the future. Use float(ser.iloc[0]) instead\n",
      "  mu_ann = float(log_ret.mean()) * TRADING_DAYS\n",
      "/var/folders/mn/tx231v5158797chnp22wm9000000gp/T/ipykernel_61094/4004665421.py:77: FutureWarning: Calling float on a single element Series is deprecated and will raise a TypeError in the future. Use float(ser.iloc[0]) instead\n",
      "  sigma_ann = float(log_ret.std(ddof=1)) * math.sqrt(TRADING_DAYS)\n",
      "/var/folders/mn/tx231v5158797chnp22wm9000000gp/T/ipykernel_61094/4004665421.py:78: FutureWarning: Calling float on a single element Series is deprecated and will raise a TypeError in the future. Use float(ser.iloc[0]) instead\n",
      "  S0 = float(tail.iloc[-1])\n"
     ]
    },
    {
     "name": "stdout",
     "output_type": "stream",
     "text": [
      "  > PCBL.NS\n"
     ]
    },
    {
     "name": "stderr",
     "output_type": "stream",
     "text": [
      "/var/folders/mn/tx231v5158797chnp22wm9000000gp/T/ipykernel_61094/4004665421.py:76: FutureWarning: Calling float on a single element Series is deprecated and will raise a TypeError in the future. Use float(ser.iloc[0]) instead\n",
      "  mu_ann = float(log_ret.mean()) * TRADING_DAYS\n",
      "/var/folders/mn/tx231v5158797chnp22wm9000000gp/T/ipykernel_61094/4004665421.py:77: FutureWarning: Calling float on a single element Series is deprecated and will raise a TypeError in the future. Use float(ser.iloc[0]) instead\n",
      "  sigma_ann = float(log_ret.std(ddof=1)) * math.sqrt(TRADING_DAYS)\n",
      "/var/folders/mn/tx231v5158797chnp22wm9000000gp/T/ipykernel_61094/4004665421.py:78: FutureWarning: Calling float on a single element Series is deprecated and will raise a TypeError in the future. Use float(ser.iloc[0]) instead\n",
      "  S0 = float(tail.iloc[-1])\n"
     ]
    },
    {
     "name": "stdout",
     "output_type": "stream",
     "text": [
      "  > PGEL.NS\n"
     ]
    },
    {
     "name": "stderr",
     "output_type": "stream",
     "text": [
      "/var/folders/mn/tx231v5158797chnp22wm9000000gp/T/ipykernel_61094/4004665421.py:76: FutureWarning: Calling float on a single element Series is deprecated and will raise a TypeError in the future. Use float(ser.iloc[0]) instead\n",
      "  mu_ann = float(log_ret.mean()) * TRADING_DAYS\n",
      "/var/folders/mn/tx231v5158797chnp22wm9000000gp/T/ipykernel_61094/4004665421.py:77: FutureWarning: Calling float on a single element Series is deprecated and will raise a TypeError in the future. Use float(ser.iloc[0]) instead\n",
      "  sigma_ann = float(log_ret.std(ddof=1)) * math.sqrt(TRADING_DAYS)\n",
      "/var/folders/mn/tx231v5158797chnp22wm9000000gp/T/ipykernel_61094/4004665421.py:78: FutureWarning: Calling float on a single element Series is deprecated and will raise a TypeError in the future. Use float(ser.iloc[0]) instead\n",
      "  S0 = float(tail.iloc[-1])\n"
     ]
    },
    {
     "name": "stdout",
     "output_type": "stream",
     "text": [
      "  > PIIND.NS\n"
     ]
    },
    {
     "name": "stderr",
     "output_type": "stream",
     "text": [
      "/var/folders/mn/tx231v5158797chnp22wm9000000gp/T/ipykernel_61094/4004665421.py:76: FutureWarning: Calling float on a single element Series is deprecated and will raise a TypeError in the future. Use float(ser.iloc[0]) instead\n",
      "  mu_ann = float(log_ret.mean()) * TRADING_DAYS\n",
      "/var/folders/mn/tx231v5158797chnp22wm9000000gp/T/ipykernel_61094/4004665421.py:77: FutureWarning: Calling float on a single element Series is deprecated and will raise a TypeError in the future. Use float(ser.iloc[0]) instead\n",
      "  sigma_ann = float(log_ret.std(ddof=1)) * math.sqrt(TRADING_DAYS)\n",
      "/var/folders/mn/tx231v5158797chnp22wm9000000gp/T/ipykernel_61094/4004665421.py:78: FutureWarning: Calling float on a single element Series is deprecated and will raise a TypeError in the future. Use float(ser.iloc[0]) instead\n",
      "  S0 = float(tail.iloc[-1])\n"
     ]
    },
    {
     "name": "stdout",
     "output_type": "stream",
     "text": [
      "  > PNBHOUSING.NS\n"
     ]
    },
    {
     "name": "stderr",
     "output_type": "stream",
     "text": [
      "/var/folders/mn/tx231v5158797chnp22wm9000000gp/T/ipykernel_61094/4004665421.py:76: FutureWarning: Calling float on a single element Series is deprecated and will raise a TypeError in the future. Use float(ser.iloc[0]) instead\n",
      "  mu_ann = float(log_ret.mean()) * TRADING_DAYS\n",
      "/var/folders/mn/tx231v5158797chnp22wm9000000gp/T/ipykernel_61094/4004665421.py:77: FutureWarning: Calling float on a single element Series is deprecated and will raise a TypeError in the future. Use float(ser.iloc[0]) instead\n",
      "  sigma_ann = float(log_ret.std(ddof=1)) * math.sqrt(TRADING_DAYS)\n",
      "/var/folders/mn/tx231v5158797chnp22wm9000000gp/T/ipykernel_61094/4004665421.py:78: FutureWarning: Calling float on a single element Series is deprecated and will raise a TypeError in the future. Use float(ser.iloc[0]) instead\n",
      "  S0 = float(tail.iloc[-1])\n"
     ]
    },
    {
     "name": "stdout",
     "output_type": "stream",
     "text": [
      "  > PNCINFRA.NS\n"
     ]
    },
    {
     "name": "stderr",
     "output_type": "stream",
     "text": [
      "/var/folders/mn/tx231v5158797chnp22wm9000000gp/T/ipykernel_61094/4004665421.py:76: FutureWarning: Calling float on a single element Series is deprecated and will raise a TypeError in the future. Use float(ser.iloc[0]) instead\n",
      "  mu_ann = float(log_ret.mean()) * TRADING_DAYS\n",
      "/var/folders/mn/tx231v5158797chnp22wm9000000gp/T/ipykernel_61094/4004665421.py:77: FutureWarning: Calling float on a single element Series is deprecated and will raise a TypeError in the future. Use float(ser.iloc[0]) instead\n",
      "  sigma_ann = float(log_ret.std(ddof=1)) * math.sqrt(TRADING_DAYS)\n",
      "/var/folders/mn/tx231v5158797chnp22wm9000000gp/T/ipykernel_61094/4004665421.py:78: FutureWarning: Calling float on a single element Series is deprecated and will raise a TypeError in the future. Use float(ser.iloc[0]) instead\n",
      "  S0 = float(tail.iloc[-1])\n"
     ]
    },
    {
     "name": "stdout",
     "output_type": "stream",
     "text": [
      "  > PTCIL.NS\n"
     ]
    },
    {
     "name": "stderr",
     "output_type": "stream",
     "text": [
      "/var/folders/mn/tx231v5158797chnp22wm9000000gp/T/ipykernel_61094/4004665421.py:76: FutureWarning: Calling float on a single element Series is deprecated and will raise a TypeError in the future. Use float(ser.iloc[0]) instead\n",
      "  mu_ann = float(log_ret.mean()) * TRADING_DAYS\n",
      "/var/folders/mn/tx231v5158797chnp22wm9000000gp/T/ipykernel_61094/4004665421.py:77: FutureWarning: Calling float on a single element Series is deprecated and will raise a TypeError in the future. Use float(ser.iloc[0]) instead\n",
      "  sigma_ann = float(log_ret.std(ddof=1)) * math.sqrt(TRADING_DAYS)\n",
      "/var/folders/mn/tx231v5158797chnp22wm9000000gp/T/ipykernel_61094/4004665421.py:78: FutureWarning: Calling float on a single element Series is deprecated and will raise a TypeError in the future. Use float(ser.iloc[0]) instead\n",
      "  S0 = float(tail.iloc[-1])\n"
     ]
    },
    {
     "name": "stdout",
     "output_type": "stream",
     "text": [
      "  > PVRINOX.NS\n"
     ]
    },
    {
     "name": "stderr",
     "output_type": "stream",
     "text": [
      "/var/folders/mn/tx231v5158797chnp22wm9000000gp/T/ipykernel_61094/4004665421.py:76: FutureWarning: Calling float on a single element Series is deprecated and will raise a TypeError in the future. Use float(ser.iloc[0]) instead\n",
      "  mu_ann = float(log_ret.mean()) * TRADING_DAYS\n",
      "/var/folders/mn/tx231v5158797chnp22wm9000000gp/T/ipykernel_61094/4004665421.py:77: FutureWarning: Calling float on a single element Series is deprecated and will raise a TypeError in the future. Use float(ser.iloc[0]) instead\n",
      "  sigma_ann = float(log_ret.std(ddof=1)) * math.sqrt(TRADING_DAYS)\n",
      "/var/folders/mn/tx231v5158797chnp22wm9000000gp/T/ipykernel_61094/4004665421.py:78: FutureWarning: Calling float on a single element Series is deprecated and will raise a TypeError in the future. Use float(ser.iloc[0]) instead\n",
      "  S0 = float(tail.iloc[-1])\n"
     ]
    },
    {
     "name": "stdout",
     "output_type": "stream",
     "text": [
      "  > PAGEIND.NS\n"
     ]
    },
    {
     "name": "stderr",
     "output_type": "stream",
     "text": [
      "/var/folders/mn/tx231v5158797chnp22wm9000000gp/T/ipykernel_61094/4004665421.py:76: FutureWarning: Calling float on a single element Series is deprecated and will raise a TypeError in the future. Use float(ser.iloc[0]) instead\n",
      "  mu_ann = float(log_ret.mean()) * TRADING_DAYS\n",
      "/var/folders/mn/tx231v5158797chnp22wm9000000gp/T/ipykernel_61094/4004665421.py:77: FutureWarning: Calling float on a single element Series is deprecated and will raise a TypeError in the future. Use float(ser.iloc[0]) instead\n",
      "  sigma_ann = float(log_ret.std(ddof=1)) * math.sqrt(TRADING_DAYS)\n",
      "/var/folders/mn/tx231v5158797chnp22wm9000000gp/T/ipykernel_61094/4004665421.py:78: FutureWarning: Calling float on a single element Series is deprecated and will raise a TypeError in the future. Use float(ser.iloc[0]) instead\n",
      "  S0 = float(tail.iloc[-1])\n"
     ]
    },
    {
     "name": "stdout",
     "output_type": "stream",
     "text": [
      "  > PATANJALI.NS\n"
     ]
    },
    {
     "name": "stderr",
     "output_type": "stream",
     "text": [
      "/var/folders/mn/tx231v5158797chnp22wm9000000gp/T/ipykernel_61094/4004665421.py:76: FutureWarning: Calling float on a single element Series is deprecated and will raise a TypeError in the future. Use float(ser.iloc[0]) instead\n",
      "  mu_ann = float(log_ret.mean()) * TRADING_DAYS\n",
      "/var/folders/mn/tx231v5158797chnp22wm9000000gp/T/ipykernel_61094/4004665421.py:77: FutureWarning: Calling float on a single element Series is deprecated and will raise a TypeError in the future. Use float(ser.iloc[0]) instead\n",
      "  sigma_ann = float(log_ret.std(ddof=1)) * math.sqrt(TRADING_DAYS)\n",
      "/var/folders/mn/tx231v5158797chnp22wm9000000gp/T/ipykernel_61094/4004665421.py:78: FutureWarning: Calling float on a single element Series is deprecated and will raise a TypeError in the future. Use float(ser.iloc[0]) instead\n",
      "  S0 = float(tail.iloc[-1])\n"
     ]
    },
    {
     "name": "stdout",
     "output_type": "stream",
     "text": [
      "  > PERSISTENT.NS\n"
     ]
    },
    {
     "name": "stderr",
     "output_type": "stream",
     "text": [
      "/var/folders/mn/tx231v5158797chnp22wm9000000gp/T/ipykernel_61094/4004665421.py:76: FutureWarning: Calling float on a single element Series is deprecated and will raise a TypeError in the future. Use float(ser.iloc[0]) instead\n",
      "  mu_ann = float(log_ret.mean()) * TRADING_DAYS\n",
      "/var/folders/mn/tx231v5158797chnp22wm9000000gp/T/ipykernel_61094/4004665421.py:77: FutureWarning: Calling float on a single element Series is deprecated and will raise a TypeError in the future. Use float(ser.iloc[0]) instead\n",
      "  sigma_ann = float(log_ret.std(ddof=1)) * math.sqrt(TRADING_DAYS)\n",
      "/var/folders/mn/tx231v5158797chnp22wm9000000gp/T/ipykernel_61094/4004665421.py:78: FutureWarning: Calling float on a single element Series is deprecated and will raise a TypeError in the future. Use float(ser.iloc[0]) instead\n",
      "  S0 = float(tail.iloc[-1])\n"
     ]
    },
    {
     "name": "stdout",
     "output_type": "stream",
     "text": [
      "  > PETRONET.NS\n"
     ]
    },
    {
     "name": "stderr",
     "output_type": "stream",
     "text": [
      "/var/folders/mn/tx231v5158797chnp22wm9000000gp/T/ipykernel_61094/4004665421.py:76: FutureWarning: Calling float on a single element Series is deprecated and will raise a TypeError in the future. Use float(ser.iloc[0]) instead\n",
      "  mu_ann = float(log_ret.mean()) * TRADING_DAYS\n",
      "/var/folders/mn/tx231v5158797chnp22wm9000000gp/T/ipykernel_61094/4004665421.py:77: FutureWarning: Calling float on a single element Series is deprecated and will raise a TypeError in the future. Use float(ser.iloc[0]) instead\n",
      "  sigma_ann = float(log_ret.std(ddof=1)) * math.sqrt(TRADING_DAYS)\n",
      "/var/folders/mn/tx231v5158797chnp22wm9000000gp/T/ipykernel_61094/4004665421.py:78: FutureWarning: Calling float on a single element Series is deprecated and will raise a TypeError in the future. Use float(ser.iloc[0]) instead\n",
      "  S0 = float(tail.iloc[-1])\n"
     ]
    },
    {
     "name": "stdout",
     "output_type": "stream",
     "text": [
      "  > PFIZER.NS\n"
     ]
    },
    {
     "name": "stderr",
     "output_type": "stream",
     "text": [
      "/var/folders/mn/tx231v5158797chnp22wm9000000gp/T/ipykernel_61094/4004665421.py:76: FutureWarning: Calling float on a single element Series is deprecated and will raise a TypeError in the future. Use float(ser.iloc[0]) instead\n",
      "  mu_ann = float(log_ret.mean()) * TRADING_DAYS\n",
      "/var/folders/mn/tx231v5158797chnp22wm9000000gp/T/ipykernel_61094/4004665421.py:77: FutureWarning: Calling float on a single element Series is deprecated and will raise a TypeError in the future. Use float(ser.iloc[0]) instead\n",
      "  sigma_ann = float(log_ret.std(ddof=1)) * math.sqrt(TRADING_DAYS)\n",
      "/var/folders/mn/tx231v5158797chnp22wm9000000gp/T/ipykernel_61094/4004665421.py:78: FutureWarning: Calling float on a single element Series is deprecated and will raise a TypeError in the future. Use float(ser.iloc[0]) instead\n",
      "  S0 = float(tail.iloc[-1])\n"
     ]
    },
    {
     "name": "stdout",
     "output_type": "stream",
     "text": [
      "  > PHOENIXLTD.NS\n"
     ]
    },
    {
     "name": "stderr",
     "output_type": "stream",
     "text": [
      "/var/folders/mn/tx231v5158797chnp22wm9000000gp/T/ipykernel_61094/4004665421.py:76: FutureWarning: Calling float on a single element Series is deprecated and will raise a TypeError in the future. Use float(ser.iloc[0]) instead\n",
      "  mu_ann = float(log_ret.mean()) * TRADING_DAYS\n",
      "/var/folders/mn/tx231v5158797chnp22wm9000000gp/T/ipykernel_61094/4004665421.py:77: FutureWarning: Calling float on a single element Series is deprecated and will raise a TypeError in the future. Use float(ser.iloc[0]) instead\n",
      "  sigma_ann = float(log_ret.std(ddof=1)) * math.sqrt(TRADING_DAYS)\n",
      "/var/folders/mn/tx231v5158797chnp22wm9000000gp/T/ipykernel_61094/4004665421.py:78: FutureWarning: Calling float on a single element Series is deprecated and will raise a TypeError in the future. Use float(ser.iloc[0]) instead\n",
      "  S0 = float(tail.iloc[-1])\n"
     ]
    },
    {
     "name": "stdout",
     "output_type": "stream",
     "text": [
      "  > PIDILITIND.NS\n"
     ]
    },
    {
     "name": "stderr",
     "output_type": "stream",
     "text": [
      "/var/folders/mn/tx231v5158797chnp22wm9000000gp/T/ipykernel_61094/4004665421.py:76: FutureWarning: Calling float on a single element Series is deprecated and will raise a TypeError in the future. Use float(ser.iloc[0]) instead\n",
      "  mu_ann = float(log_ret.mean()) * TRADING_DAYS\n",
      "/var/folders/mn/tx231v5158797chnp22wm9000000gp/T/ipykernel_61094/4004665421.py:77: FutureWarning: Calling float on a single element Series is deprecated and will raise a TypeError in the future. Use float(ser.iloc[0]) instead\n",
      "  sigma_ann = float(log_ret.std(ddof=1)) * math.sqrt(TRADING_DAYS)\n",
      "/var/folders/mn/tx231v5158797chnp22wm9000000gp/T/ipykernel_61094/4004665421.py:78: FutureWarning: Calling float on a single element Series is deprecated and will raise a TypeError in the future. Use float(ser.iloc[0]) instead\n",
      "  S0 = float(tail.iloc[-1])\n"
     ]
    },
    {
     "name": "stdout",
     "output_type": "stream",
     "text": [
      "  > PEL.NS\n"
     ]
    },
    {
     "name": "stderr",
     "output_type": "stream",
     "text": [
      "/var/folders/mn/tx231v5158797chnp22wm9000000gp/T/ipykernel_61094/4004665421.py:76: FutureWarning: Calling float on a single element Series is deprecated and will raise a TypeError in the future. Use float(ser.iloc[0]) instead\n",
      "  mu_ann = float(log_ret.mean()) * TRADING_DAYS\n",
      "/var/folders/mn/tx231v5158797chnp22wm9000000gp/T/ipykernel_61094/4004665421.py:77: FutureWarning: Calling float on a single element Series is deprecated and will raise a TypeError in the future. Use float(ser.iloc[0]) instead\n",
      "  sigma_ann = float(log_ret.std(ddof=1)) * math.sqrt(TRADING_DAYS)\n",
      "/var/folders/mn/tx231v5158797chnp22wm9000000gp/T/ipykernel_61094/4004665421.py:78: FutureWarning: Calling float on a single element Series is deprecated and will raise a TypeError in the future. Use float(ser.iloc[0]) instead\n",
      "  S0 = float(tail.iloc[-1])\n"
     ]
    },
    {
     "name": "stdout",
     "output_type": "stream",
     "text": [
      "  > PPLPHARMA.NS\n"
     ]
    },
    {
     "name": "stderr",
     "output_type": "stream",
     "text": [
      "/var/folders/mn/tx231v5158797chnp22wm9000000gp/T/ipykernel_61094/4004665421.py:76: FutureWarning: Calling float on a single element Series is deprecated and will raise a TypeError in the future. Use float(ser.iloc[0]) instead\n",
      "  mu_ann = float(log_ret.mean()) * TRADING_DAYS\n",
      "/var/folders/mn/tx231v5158797chnp22wm9000000gp/T/ipykernel_61094/4004665421.py:77: FutureWarning: Calling float on a single element Series is deprecated and will raise a TypeError in the future. Use float(ser.iloc[0]) instead\n",
      "  sigma_ann = float(log_ret.std(ddof=1)) * math.sqrt(TRADING_DAYS)\n",
      "/var/folders/mn/tx231v5158797chnp22wm9000000gp/T/ipykernel_61094/4004665421.py:78: FutureWarning: Calling float on a single element Series is deprecated and will raise a TypeError in the future. Use float(ser.iloc[0]) instead\n",
      "  S0 = float(tail.iloc[-1])\n"
     ]
    },
    {
     "name": "stdout",
     "output_type": "stream",
     "text": [
      "  > POLYMED.NS\n"
     ]
    },
    {
     "name": "stderr",
     "output_type": "stream",
     "text": [
      "/var/folders/mn/tx231v5158797chnp22wm9000000gp/T/ipykernel_61094/4004665421.py:76: FutureWarning: Calling float on a single element Series is deprecated and will raise a TypeError in the future. Use float(ser.iloc[0]) instead\n",
      "  mu_ann = float(log_ret.mean()) * TRADING_DAYS\n",
      "/var/folders/mn/tx231v5158797chnp22wm9000000gp/T/ipykernel_61094/4004665421.py:77: FutureWarning: Calling float on a single element Series is deprecated and will raise a TypeError in the future. Use float(ser.iloc[0]) instead\n",
      "  sigma_ann = float(log_ret.std(ddof=1)) * math.sqrt(TRADING_DAYS)\n",
      "/var/folders/mn/tx231v5158797chnp22wm9000000gp/T/ipykernel_61094/4004665421.py:78: FutureWarning: Calling float on a single element Series is deprecated and will raise a TypeError in the future. Use float(ser.iloc[0]) instead\n",
      "  S0 = float(tail.iloc[-1])\n"
     ]
    },
    {
     "name": "stdout",
     "output_type": "stream",
     "text": [
      "  > POLYCAB.NS\n"
     ]
    },
    {
     "name": "stderr",
     "output_type": "stream",
     "text": [
      "/var/folders/mn/tx231v5158797chnp22wm9000000gp/T/ipykernel_61094/4004665421.py:76: FutureWarning: Calling float on a single element Series is deprecated and will raise a TypeError in the future. Use float(ser.iloc[0]) instead\n",
      "  mu_ann = float(log_ret.mean()) * TRADING_DAYS\n",
      "/var/folders/mn/tx231v5158797chnp22wm9000000gp/T/ipykernel_61094/4004665421.py:77: FutureWarning: Calling float on a single element Series is deprecated and will raise a TypeError in the future. Use float(ser.iloc[0]) instead\n",
      "  sigma_ann = float(log_ret.std(ddof=1)) * math.sqrt(TRADING_DAYS)\n",
      "/var/folders/mn/tx231v5158797chnp22wm9000000gp/T/ipykernel_61094/4004665421.py:78: FutureWarning: Calling float on a single element Series is deprecated and will raise a TypeError in the future. Use float(ser.iloc[0]) instead\n",
      "  S0 = float(tail.iloc[-1])\n"
     ]
    },
    {
     "name": "stdout",
     "output_type": "stream",
     "text": [
      "  > POONAWALLA.NS\n"
     ]
    },
    {
     "name": "stderr",
     "output_type": "stream",
     "text": [
      "/var/folders/mn/tx231v5158797chnp22wm9000000gp/T/ipykernel_61094/4004665421.py:76: FutureWarning: Calling float on a single element Series is deprecated and will raise a TypeError in the future. Use float(ser.iloc[0]) instead\n",
      "  mu_ann = float(log_ret.mean()) * TRADING_DAYS\n",
      "/var/folders/mn/tx231v5158797chnp22wm9000000gp/T/ipykernel_61094/4004665421.py:77: FutureWarning: Calling float on a single element Series is deprecated and will raise a TypeError in the future. Use float(ser.iloc[0]) instead\n",
      "  sigma_ann = float(log_ret.std(ddof=1)) * math.sqrt(TRADING_DAYS)\n",
      "/var/folders/mn/tx231v5158797chnp22wm9000000gp/T/ipykernel_61094/4004665421.py:78: FutureWarning: Calling float on a single element Series is deprecated and will raise a TypeError in the future. Use float(ser.iloc[0]) instead\n",
      "  S0 = float(tail.iloc[-1])\n"
     ]
    },
    {
     "name": "stdout",
     "output_type": "stream",
     "text": [
      "  > PFC.NS\n"
     ]
    },
    {
     "name": "stderr",
     "output_type": "stream",
     "text": [
      "/var/folders/mn/tx231v5158797chnp22wm9000000gp/T/ipykernel_61094/4004665421.py:76: FutureWarning: Calling float on a single element Series is deprecated and will raise a TypeError in the future. Use float(ser.iloc[0]) instead\n",
      "  mu_ann = float(log_ret.mean()) * TRADING_DAYS\n",
      "/var/folders/mn/tx231v5158797chnp22wm9000000gp/T/ipykernel_61094/4004665421.py:77: FutureWarning: Calling float on a single element Series is deprecated and will raise a TypeError in the future. Use float(ser.iloc[0]) instead\n",
      "  sigma_ann = float(log_ret.std(ddof=1)) * math.sqrt(TRADING_DAYS)\n",
      "/var/folders/mn/tx231v5158797chnp22wm9000000gp/T/ipykernel_61094/4004665421.py:78: FutureWarning: Calling float on a single element Series is deprecated and will raise a TypeError in the future. Use float(ser.iloc[0]) instead\n",
      "  S0 = float(tail.iloc[-1])\n"
     ]
    },
    {
     "name": "stdout",
     "output_type": "stream",
     "text": [
      "  > POWERGRID.NS\n"
     ]
    },
    {
     "name": "stderr",
     "output_type": "stream",
     "text": [
      "/var/folders/mn/tx231v5158797chnp22wm9000000gp/T/ipykernel_61094/4004665421.py:76: FutureWarning: Calling float on a single element Series is deprecated and will raise a TypeError in the future. Use float(ser.iloc[0]) instead\n",
      "  mu_ann = float(log_ret.mean()) * TRADING_DAYS\n",
      "/var/folders/mn/tx231v5158797chnp22wm9000000gp/T/ipykernel_61094/4004665421.py:77: FutureWarning: Calling float on a single element Series is deprecated and will raise a TypeError in the future. Use float(ser.iloc[0]) instead\n",
      "  sigma_ann = float(log_ret.std(ddof=1)) * math.sqrt(TRADING_DAYS)\n",
      "/var/folders/mn/tx231v5158797chnp22wm9000000gp/T/ipykernel_61094/4004665421.py:78: FutureWarning: Calling float on a single element Series is deprecated and will raise a TypeError in the future. Use float(ser.iloc[0]) instead\n",
      "  S0 = float(tail.iloc[-1])\n"
     ]
    },
    {
     "name": "stdout",
     "output_type": "stream",
     "text": [
      "  > PRAJIND.NS\n"
     ]
    },
    {
     "name": "stderr",
     "output_type": "stream",
     "text": [
      "/var/folders/mn/tx231v5158797chnp22wm9000000gp/T/ipykernel_61094/4004665421.py:76: FutureWarning: Calling float on a single element Series is deprecated and will raise a TypeError in the future. Use float(ser.iloc[0]) instead\n",
      "  mu_ann = float(log_ret.mean()) * TRADING_DAYS\n",
      "/var/folders/mn/tx231v5158797chnp22wm9000000gp/T/ipykernel_61094/4004665421.py:77: FutureWarning: Calling float on a single element Series is deprecated and will raise a TypeError in the future. Use float(ser.iloc[0]) instead\n",
      "  sigma_ann = float(log_ret.std(ddof=1)) * math.sqrt(TRADING_DAYS)\n",
      "/var/folders/mn/tx231v5158797chnp22wm9000000gp/T/ipykernel_61094/4004665421.py:78: FutureWarning: Calling float on a single element Series is deprecated and will raise a TypeError in the future. Use float(ser.iloc[0]) instead\n",
      "  S0 = float(tail.iloc[-1])\n"
     ]
    },
    {
     "name": "stdout",
     "output_type": "stream",
     "text": [
      "  > PREMIERENE.NS\n"
     ]
    },
    {
     "name": "stderr",
     "output_type": "stream",
     "text": [
      "/var/folders/mn/tx231v5158797chnp22wm9000000gp/T/ipykernel_61094/4004665421.py:76: FutureWarning: Calling float on a single element Series is deprecated and will raise a TypeError in the future. Use float(ser.iloc[0]) instead\n",
      "  mu_ann = float(log_ret.mean()) * TRADING_DAYS\n",
      "/var/folders/mn/tx231v5158797chnp22wm9000000gp/T/ipykernel_61094/4004665421.py:77: FutureWarning: Calling float on a single element Series is deprecated and will raise a TypeError in the future. Use float(ser.iloc[0]) instead\n",
      "  sigma_ann = float(log_ret.std(ddof=1)) * math.sqrt(TRADING_DAYS)\n",
      "/var/folders/mn/tx231v5158797chnp22wm9000000gp/T/ipykernel_61094/4004665421.py:78: FutureWarning: Calling float on a single element Series is deprecated and will raise a TypeError in the future. Use float(ser.iloc[0]) instead\n",
      "  S0 = float(tail.iloc[-1])\n"
     ]
    },
    {
     "name": "stdout",
     "output_type": "stream",
     "text": [
      "  > PRESTIGE.NS\n"
     ]
    },
    {
     "name": "stderr",
     "output_type": "stream",
     "text": [
      "/var/folders/mn/tx231v5158797chnp22wm9000000gp/T/ipykernel_61094/4004665421.py:76: FutureWarning: Calling float on a single element Series is deprecated and will raise a TypeError in the future. Use float(ser.iloc[0]) instead\n",
      "  mu_ann = float(log_ret.mean()) * TRADING_DAYS\n",
      "/var/folders/mn/tx231v5158797chnp22wm9000000gp/T/ipykernel_61094/4004665421.py:77: FutureWarning: Calling float on a single element Series is deprecated and will raise a TypeError in the future. Use float(ser.iloc[0]) instead\n",
      "  sigma_ann = float(log_ret.std(ddof=1)) * math.sqrt(TRADING_DAYS)\n",
      "/var/folders/mn/tx231v5158797chnp22wm9000000gp/T/ipykernel_61094/4004665421.py:78: FutureWarning: Calling float on a single element Series is deprecated and will raise a TypeError in the future. Use float(ser.iloc[0]) instead\n",
      "  S0 = float(tail.iloc[-1])\n"
     ]
    },
    {
     "name": "stdout",
     "output_type": "stream",
     "text": [
      "  > PNB.NS\n"
     ]
    },
    {
     "name": "stderr",
     "output_type": "stream",
     "text": [
      "/var/folders/mn/tx231v5158797chnp22wm9000000gp/T/ipykernel_61094/4004665421.py:76: FutureWarning: Calling float on a single element Series is deprecated and will raise a TypeError in the future. Use float(ser.iloc[0]) instead\n",
      "  mu_ann = float(log_ret.mean()) * TRADING_DAYS\n",
      "/var/folders/mn/tx231v5158797chnp22wm9000000gp/T/ipykernel_61094/4004665421.py:77: FutureWarning: Calling float on a single element Series is deprecated and will raise a TypeError in the future. Use float(ser.iloc[0]) instead\n",
      "  sigma_ann = float(log_ret.std(ddof=1)) * math.sqrt(TRADING_DAYS)\n",
      "/var/folders/mn/tx231v5158797chnp22wm9000000gp/T/ipykernel_61094/4004665421.py:78: FutureWarning: Calling float on a single element Series is deprecated and will raise a TypeError in the future. Use float(ser.iloc[0]) instead\n",
      "  S0 = float(tail.iloc[-1])\n"
     ]
    },
    {
     "name": "stdout",
     "output_type": "stream",
     "text": [
      "  > RRKABEL.NS\n"
     ]
    },
    {
     "name": "stderr",
     "output_type": "stream",
     "text": [
      "/var/folders/mn/tx231v5158797chnp22wm9000000gp/T/ipykernel_61094/4004665421.py:76: FutureWarning: Calling float on a single element Series is deprecated and will raise a TypeError in the future. Use float(ser.iloc[0]) instead\n",
      "  mu_ann = float(log_ret.mean()) * TRADING_DAYS\n",
      "/var/folders/mn/tx231v5158797chnp22wm9000000gp/T/ipykernel_61094/4004665421.py:77: FutureWarning: Calling float on a single element Series is deprecated and will raise a TypeError in the future. Use float(ser.iloc[0]) instead\n",
      "  sigma_ann = float(log_ret.std(ddof=1)) * math.sqrt(TRADING_DAYS)\n",
      "/var/folders/mn/tx231v5158797chnp22wm9000000gp/T/ipykernel_61094/4004665421.py:78: FutureWarning: Calling float on a single element Series is deprecated and will raise a TypeError in the future. Use float(ser.iloc[0]) instead\n",
      "  S0 = float(tail.iloc[-1])\n"
     ]
    },
    {
     "name": "stdout",
     "output_type": "stream",
     "text": [
      "  > RBLBANK.NS\n"
     ]
    },
    {
     "name": "stderr",
     "output_type": "stream",
     "text": [
      "/var/folders/mn/tx231v5158797chnp22wm9000000gp/T/ipykernel_61094/4004665421.py:76: FutureWarning: Calling float on a single element Series is deprecated and will raise a TypeError in the future. Use float(ser.iloc[0]) instead\n",
      "  mu_ann = float(log_ret.mean()) * TRADING_DAYS\n",
      "/var/folders/mn/tx231v5158797chnp22wm9000000gp/T/ipykernel_61094/4004665421.py:77: FutureWarning: Calling float on a single element Series is deprecated and will raise a TypeError in the future. Use float(ser.iloc[0]) instead\n",
      "  sigma_ann = float(log_ret.std(ddof=1)) * math.sqrt(TRADING_DAYS)\n",
      "/var/folders/mn/tx231v5158797chnp22wm9000000gp/T/ipykernel_61094/4004665421.py:78: FutureWarning: Calling float on a single element Series is deprecated and will raise a TypeError in the future. Use float(ser.iloc[0]) instead\n",
      "  S0 = float(tail.iloc[-1])\n"
     ]
    },
    {
     "name": "stdout",
     "output_type": "stream",
     "text": [
      "  > RECLTD.NS\n"
     ]
    },
    {
     "name": "stderr",
     "output_type": "stream",
     "text": [
      "/var/folders/mn/tx231v5158797chnp22wm9000000gp/T/ipykernel_61094/4004665421.py:76: FutureWarning: Calling float on a single element Series is deprecated and will raise a TypeError in the future. Use float(ser.iloc[0]) instead\n",
      "  mu_ann = float(log_ret.mean()) * TRADING_DAYS\n",
      "/var/folders/mn/tx231v5158797chnp22wm9000000gp/T/ipykernel_61094/4004665421.py:77: FutureWarning: Calling float on a single element Series is deprecated and will raise a TypeError in the future. Use float(ser.iloc[0]) instead\n",
      "  sigma_ann = float(log_ret.std(ddof=1)) * math.sqrt(TRADING_DAYS)\n",
      "/var/folders/mn/tx231v5158797chnp22wm9000000gp/T/ipykernel_61094/4004665421.py:78: FutureWarning: Calling float on a single element Series is deprecated and will raise a TypeError in the future. Use float(ser.iloc[0]) instead\n",
      "  S0 = float(tail.iloc[-1])\n"
     ]
    },
    {
     "name": "stdout",
     "output_type": "stream",
     "text": [
      "  > RHIM.NS\n"
     ]
    },
    {
     "name": "stderr",
     "output_type": "stream",
     "text": [
      "/var/folders/mn/tx231v5158797chnp22wm9000000gp/T/ipykernel_61094/4004665421.py:76: FutureWarning: Calling float on a single element Series is deprecated and will raise a TypeError in the future. Use float(ser.iloc[0]) instead\n",
      "  mu_ann = float(log_ret.mean()) * TRADING_DAYS\n",
      "/var/folders/mn/tx231v5158797chnp22wm9000000gp/T/ipykernel_61094/4004665421.py:77: FutureWarning: Calling float on a single element Series is deprecated and will raise a TypeError in the future. Use float(ser.iloc[0]) instead\n",
      "  sigma_ann = float(log_ret.std(ddof=1)) * math.sqrt(TRADING_DAYS)\n",
      "/var/folders/mn/tx231v5158797chnp22wm9000000gp/T/ipykernel_61094/4004665421.py:78: FutureWarning: Calling float on a single element Series is deprecated and will raise a TypeError in the future. Use float(ser.iloc[0]) instead\n",
      "  S0 = float(tail.iloc[-1])\n"
     ]
    },
    {
     "name": "stdout",
     "output_type": "stream",
     "text": [
      "  > RITES.NS\n"
     ]
    },
    {
     "name": "stderr",
     "output_type": "stream",
     "text": [
      "/var/folders/mn/tx231v5158797chnp22wm9000000gp/T/ipykernel_61094/4004665421.py:76: FutureWarning: Calling float on a single element Series is deprecated and will raise a TypeError in the future. Use float(ser.iloc[0]) instead\n",
      "  mu_ann = float(log_ret.mean()) * TRADING_DAYS\n",
      "/var/folders/mn/tx231v5158797chnp22wm9000000gp/T/ipykernel_61094/4004665421.py:77: FutureWarning: Calling float on a single element Series is deprecated and will raise a TypeError in the future. Use float(ser.iloc[0]) instead\n",
      "  sigma_ann = float(log_ret.std(ddof=1)) * math.sqrt(TRADING_DAYS)\n",
      "/var/folders/mn/tx231v5158797chnp22wm9000000gp/T/ipykernel_61094/4004665421.py:78: FutureWarning: Calling float on a single element Series is deprecated and will raise a TypeError in the future. Use float(ser.iloc[0]) instead\n",
      "  S0 = float(tail.iloc[-1])\n"
     ]
    },
    {
     "name": "stdout",
     "output_type": "stream",
     "text": [
      "  > RADICO.NS\n"
     ]
    },
    {
     "name": "stderr",
     "output_type": "stream",
     "text": [
      "/var/folders/mn/tx231v5158797chnp22wm9000000gp/T/ipykernel_61094/4004665421.py:76: FutureWarning: Calling float on a single element Series is deprecated and will raise a TypeError in the future. Use float(ser.iloc[0]) instead\n",
      "  mu_ann = float(log_ret.mean()) * TRADING_DAYS\n",
      "/var/folders/mn/tx231v5158797chnp22wm9000000gp/T/ipykernel_61094/4004665421.py:77: FutureWarning: Calling float on a single element Series is deprecated and will raise a TypeError in the future. Use float(ser.iloc[0]) instead\n",
      "  sigma_ann = float(log_ret.std(ddof=1)) * math.sqrt(TRADING_DAYS)\n",
      "/var/folders/mn/tx231v5158797chnp22wm9000000gp/T/ipykernel_61094/4004665421.py:78: FutureWarning: Calling float on a single element Series is deprecated and will raise a TypeError in the future. Use float(ser.iloc[0]) instead\n",
      "  S0 = float(tail.iloc[-1])\n"
     ]
    },
    {
     "name": "stdout",
     "output_type": "stream",
     "text": [
      "  > RVNL.NS\n"
     ]
    },
    {
     "name": "stderr",
     "output_type": "stream",
     "text": [
      "/var/folders/mn/tx231v5158797chnp22wm9000000gp/T/ipykernel_61094/4004665421.py:76: FutureWarning: Calling float on a single element Series is deprecated and will raise a TypeError in the future. Use float(ser.iloc[0]) instead\n",
      "  mu_ann = float(log_ret.mean()) * TRADING_DAYS\n",
      "/var/folders/mn/tx231v5158797chnp22wm9000000gp/T/ipykernel_61094/4004665421.py:77: FutureWarning: Calling float on a single element Series is deprecated and will raise a TypeError in the future. Use float(ser.iloc[0]) instead\n",
      "  sigma_ann = float(log_ret.std(ddof=1)) * math.sqrt(TRADING_DAYS)\n",
      "/var/folders/mn/tx231v5158797chnp22wm9000000gp/T/ipykernel_61094/4004665421.py:78: FutureWarning: Calling float on a single element Series is deprecated and will raise a TypeError in the future. Use float(ser.iloc[0]) instead\n",
      "  S0 = float(tail.iloc[-1])\n"
     ]
    },
    {
     "name": "stdout",
     "output_type": "stream",
     "text": [
      "  > RAILTEL.NS\n"
     ]
    },
    {
     "name": "stderr",
     "output_type": "stream",
     "text": [
      "/var/folders/mn/tx231v5158797chnp22wm9000000gp/T/ipykernel_61094/4004665421.py:76: FutureWarning: Calling float on a single element Series is deprecated and will raise a TypeError in the future. Use float(ser.iloc[0]) instead\n",
      "  mu_ann = float(log_ret.mean()) * TRADING_DAYS\n",
      "/var/folders/mn/tx231v5158797chnp22wm9000000gp/T/ipykernel_61094/4004665421.py:77: FutureWarning: Calling float on a single element Series is deprecated and will raise a TypeError in the future. Use float(ser.iloc[0]) instead\n",
      "  sigma_ann = float(log_ret.std(ddof=1)) * math.sqrt(TRADING_DAYS)\n",
      "/var/folders/mn/tx231v5158797chnp22wm9000000gp/T/ipykernel_61094/4004665421.py:78: FutureWarning: Calling float on a single element Series is deprecated and will raise a TypeError in the future. Use float(ser.iloc[0]) instead\n",
      "  S0 = float(tail.iloc[-1])\n"
     ]
    },
    {
     "name": "stdout",
     "output_type": "stream",
     "text": [
      "  > RAINBOW.NS\n"
     ]
    },
    {
     "name": "stderr",
     "output_type": "stream",
     "text": [
      "/var/folders/mn/tx231v5158797chnp22wm9000000gp/T/ipykernel_61094/4004665421.py:76: FutureWarning: Calling float on a single element Series is deprecated and will raise a TypeError in the future. Use float(ser.iloc[0]) instead\n",
      "  mu_ann = float(log_ret.mean()) * TRADING_DAYS\n",
      "/var/folders/mn/tx231v5158797chnp22wm9000000gp/T/ipykernel_61094/4004665421.py:77: FutureWarning: Calling float on a single element Series is deprecated and will raise a TypeError in the future. Use float(ser.iloc[0]) instead\n",
      "  sigma_ann = float(log_ret.std(ddof=1)) * math.sqrt(TRADING_DAYS)\n",
      "/var/folders/mn/tx231v5158797chnp22wm9000000gp/T/ipykernel_61094/4004665421.py:78: FutureWarning: Calling float on a single element Series is deprecated and will raise a TypeError in the future. Use float(ser.iloc[0]) instead\n",
      "  S0 = float(tail.iloc[-1])\n"
     ]
    },
    {
     "name": "stdout",
     "output_type": "stream",
     "text": [
      "  > RKFORGE.NS\n"
     ]
    },
    {
     "name": "stderr",
     "output_type": "stream",
     "text": [
      "/var/folders/mn/tx231v5158797chnp22wm9000000gp/T/ipykernel_61094/4004665421.py:76: FutureWarning: Calling float on a single element Series is deprecated and will raise a TypeError in the future. Use float(ser.iloc[0]) instead\n",
      "  mu_ann = float(log_ret.mean()) * TRADING_DAYS\n",
      "/var/folders/mn/tx231v5158797chnp22wm9000000gp/T/ipykernel_61094/4004665421.py:77: FutureWarning: Calling float on a single element Series is deprecated and will raise a TypeError in the future. Use float(ser.iloc[0]) instead\n",
      "  sigma_ann = float(log_ret.std(ddof=1)) * math.sqrt(TRADING_DAYS)\n",
      "/var/folders/mn/tx231v5158797chnp22wm9000000gp/T/ipykernel_61094/4004665421.py:78: FutureWarning: Calling float on a single element Series is deprecated and will raise a TypeError in the future. Use float(ser.iloc[0]) instead\n",
      "  S0 = float(tail.iloc[-1])\n"
     ]
    },
    {
     "name": "stdout",
     "output_type": "stream",
     "text": [
      "  > RCF.NS\n"
     ]
    },
    {
     "name": "stderr",
     "output_type": "stream",
     "text": [
      "/var/folders/mn/tx231v5158797chnp22wm9000000gp/T/ipykernel_61094/4004665421.py:76: FutureWarning: Calling float on a single element Series is deprecated and will raise a TypeError in the future. Use float(ser.iloc[0]) instead\n",
      "  mu_ann = float(log_ret.mean()) * TRADING_DAYS\n",
      "/var/folders/mn/tx231v5158797chnp22wm9000000gp/T/ipykernel_61094/4004665421.py:77: FutureWarning: Calling float on a single element Series is deprecated and will raise a TypeError in the future. Use float(ser.iloc[0]) instead\n",
      "  sigma_ann = float(log_ret.std(ddof=1)) * math.sqrt(TRADING_DAYS)\n",
      "/var/folders/mn/tx231v5158797chnp22wm9000000gp/T/ipykernel_61094/4004665421.py:78: FutureWarning: Calling float on a single element Series is deprecated and will raise a TypeError in the future. Use float(ser.iloc[0]) instead\n",
      "  S0 = float(tail.iloc[-1])\n"
     ]
    },
    {
     "name": "stdout",
     "output_type": "stream",
     "text": [
      "  > RTNINDIA.NS\n"
     ]
    },
    {
     "name": "stderr",
     "output_type": "stream",
     "text": [
      "/var/folders/mn/tx231v5158797chnp22wm9000000gp/T/ipykernel_61094/4004665421.py:76: FutureWarning: Calling float on a single element Series is deprecated and will raise a TypeError in the future. Use float(ser.iloc[0]) instead\n",
      "  mu_ann = float(log_ret.mean()) * TRADING_DAYS\n",
      "/var/folders/mn/tx231v5158797chnp22wm9000000gp/T/ipykernel_61094/4004665421.py:77: FutureWarning: Calling float on a single element Series is deprecated and will raise a TypeError in the future. Use float(ser.iloc[0]) instead\n",
      "  sigma_ann = float(log_ret.std(ddof=1)) * math.sqrt(TRADING_DAYS)\n",
      "/var/folders/mn/tx231v5158797chnp22wm9000000gp/T/ipykernel_61094/4004665421.py:78: FutureWarning: Calling float on a single element Series is deprecated and will raise a TypeError in the future. Use float(ser.iloc[0]) instead\n",
      "  S0 = float(tail.iloc[-1])\n"
     ]
    },
    {
     "name": "stdout",
     "output_type": "stream",
     "text": [
      "  > RAYMONDLSL.NS\n"
     ]
    },
    {
     "name": "stderr",
     "output_type": "stream",
     "text": [
      "/var/folders/mn/tx231v5158797chnp22wm9000000gp/T/ipykernel_61094/4004665421.py:76: FutureWarning: Calling float on a single element Series is deprecated and will raise a TypeError in the future. Use float(ser.iloc[0]) instead\n",
      "  mu_ann = float(log_ret.mean()) * TRADING_DAYS\n",
      "/var/folders/mn/tx231v5158797chnp22wm9000000gp/T/ipykernel_61094/4004665421.py:77: FutureWarning: Calling float on a single element Series is deprecated and will raise a TypeError in the future. Use float(ser.iloc[0]) instead\n",
      "  sigma_ann = float(log_ret.std(ddof=1)) * math.sqrt(TRADING_DAYS)\n",
      "/var/folders/mn/tx231v5158797chnp22wm9000000gp/T/ipykernel_61094/4004665421.py:78: FutureWarning: Calling float on a single element Series is deprecated and will raise a TypeError in the future. Use float(ser.iloc[0]) instead\n",
      "  S0 = float(tail.iloc[-1])\n"
     ]
    },
    {
     "name": "stdout",
     "output_type": "stream",
     "text": [
      "  > RAYMOND.NS\n"
     ]
    },
    {
     "name": "stderr",
     "output_type": "stream",
     "text": [
      "/var/folders/mn/tx231v5158797chnp22wm9000000gp/T/ipykernel_61094/4004665421.py:76: FutureWarning: Calling float on a single element Series is deprecated and will raise a TypeError in the future. Use float(ser.iloc[0]) instead\n",
      "  mu_ann = float(log_ret.mean()) * TRADING_DAYS\n",
      "/var/folders/mn/tx231v5158797chnp22wm9000000gp/T/ipykernel_61094/4004665421.py:77: FutureWarning: Calling float on a single element Series is deprecated and will raise a TypeError in the future. Use float(ser.iloc[0]) instead\n",
      "  sigma_ann = float(log_ret.std(ddof=1)) * math.sqrt(TRADING_DAYS)\n",
      "/var/folders/mn/tx231v5158797chnp22wm9000000gp/T/ipykernel_61094/4004665421.py:78: FutureWarning: Calling float on a single element Series is deprecated and will raise a TypeError in the future. Use float(ser.iloc[0]) instead\n",
      "  S0 = float(tail.iloc[-1])\n"
     ]
    },
    {
     "name": "stdout",
     "output_type": "stream",
     "text": [
      "  > REDINGTON.NS\n"
     ]
    },
    {
     "name": "stderr",
     "output_type": "stream",
     "text": [
      "/var/folders/mn/tx231v5158797chnp22wm9000000gp/T/ipykernel_61094/4004665421.py:76: FutureWarning: Calling float on a single element Series is deprecated and will raise a TypeError in the future. Use float(ser.iloc[0]) instead\n",
      "  mu_ann = float(log_ret.mean()) * TRADING_DAYS\n",
      "/var/folders/mn/tx231v5158797chnp22wm9000000gp/T/ipykernel_61094/4004665421.py:77: FutureWarning: Calling float on a single element Series is deprecated and will raise a TypeError in the future. Use float(ser.iloc[0]) instead\n",
      "  sigma_ann = float(log_ret.std(ddof=1)) * math.sqrt(TRADING_DAYS)\n",
      "/var/folders/mn/tx231v5158797chnp22wm9000000gp/T/ipykernel_61094/4004665421.py:78: FutureWarning: Calling float on a single element Series is deprecated and will raise a TypeError in the future. Use float(ser.iloc[0]) instead\n",
      "  S0 = float(tail.iloc[-1])\n"
     ]
    },
    {
     "name": "stdout",
     "output_type": "stream",
     "text": [
      "  > RELIANCE.NS\n"
     ]
    },
    {
     "name": "stderr",
     "output_type": "stream",
     "text": [
      "/var/folders/mn/tx231v5158797chnp22wm9000000gp/T/ipykernel_61094/4004665421.py:76: FutureWarning: Calling float on a single element Series is deprecated and will raise a TypeError in the future. Use float(ser.iloc[0]) instead\n",
      "  mu_ann = float(log_ret.mean()) * TRADING_DAYS\n",
      "/var/folders/mn/tx231v5158797chnp22wm9000000gp/T/ipykernel_61094/4004665421.py:77: FutureWarning: Calling float on a single element Series is deprecated and will raise a TypeError in the future. Use float(ser.iloc[0]) instead\n",
      "  sigma_ann = float(log_ret.std(ddof=1)) * math.sqrt(TRADING_DAYS)\n",
      "/var/folders/mn/tx231v5158797chnp22wm9000000gp/T/ipykernel_61094/4004665421.py:78: FutureWarning: Calling float on a single element Series is deprecated and will raise a TypeError in the future. Use float(ser.iloc[0]) instead\n",
      "  S0 = float(tail.iloc[-1])\n"
     ]
    },
    {
     "name": "stdout",
     "output_type": "stream",
     "text": [
      "  > RPOWER.NS\n"
     ]
    },
    {
     "name": "stderr",
     "output_type": "stream",
     "text": [
      "/var/folders/mn/tx231v5158797chnp22wm9000000gp/T/ipykernel_61094/4004665421.py:76: FutureWarning: Calling float on a single element Series is deprecated and will raise a TypeError in the future. Use float(ser.iloc[0]) instead\n",
      "  mu_ann = float(log_ret.mean()) * TRADING_DAYS\n",
      "/var/folders/mn/tx231v5158797chnp22wm9000000gp/T/ipykernel_61094/4004665421.py:77: FutureWarning: Calling float on a single element Series is deprecated and will raise a TypeError in the future. Use float(ser.iloc[0]) instead\n",
      "  sigma_ann = float(log_ret.std(ddof=1)) * math.sqrt(TRADING_DAYS)\n",
      "/var/folders/mn/tx231v5158797chnp22wm9000000gp/T/ipykernel_61094/4004665421.py:78: FutureWarning: Calling float on a single element Series is deprecated and will raise a TypeError in the future. Use float(ser.iloc[0]) instead\n",
      "  S0 = float(tail.iloc[-1])\n"
     ]
    },
    {
     "name": "stdout",
     "output_type": "stream",
     "text": [
      "  > ROUTE.NS\n"
     ]
    },
    {
     "name": "stderr",
     "output_type": "stream",
     "text": [
      "/var/folders/mn/tx231v5158797chnp22wm9000000gp/T/ipykernel_61094/4004665421.py:76: FutureWarning: Calling float on a single element Series is deprecated and will raise a TypeError in the future. Use float(ser.iloc[0]) instead\n",
      "  mu_ann = float(log_ret.mean()) * TRADING_DAYS\n",
      "/var/folders/mn/tx231v5158797chnp22wm9000000gp/T/ipykernel_61094/4004665421.py:77: FutureWarning: Calling float on a single element Series is deprecated and will raise a TypeError in the future. Use float(ser.iloc[0]) instead\n",
      "  sigma_ann = float(log_ret.std(ddof=1)) * math.sqrt(TRADING_DAYS)\n",
      "/var/folders/mn/tx231v5158797chnp22wm9000000gp/T/ipykernel_61094/4004665421.py:78: FutureWarning: Calling float on a single element Series is deprecated and will raise a TypeError in the future. Use float(ser.iloc[0]) instead\n",
      "  S0 = float(tail.iloc[-1])\n"
     ]
    },
    {
     "name": "stdout",
     "output_type": "stream",
     "text": [
      "  > SBFC.NS\n"
     ]
    },
    {
     "name": "stderr",
     "output_type": "stream",
     "text": [
      "/var/folders/mn/tx231v5158797chnp22wm9000000gp/T/ipykernel_61094/4004665421.py:76: FutureWarning: Calling float on a single element Series is deprecated and will raise a TypeError in the future. Use float(ser.iloc[0]) instead\n",
      "  mu_ann = float(log_ret.mean()) * TRADING_DAYS\n",
      "/var/folders/mn/tx231v5158797chnp22wm9000000gp/T/ipykernel_61094/4004665421.py:77: FutureWarning: Calling float on a single element Series is deprecated and will raise a TypeError in the future. Use float(ser.iloc[0]) instead\n",
      "  sigma_ann = float(log_ret.std(ddof=1)) * math.sqrt(TRADING_DAYS)\n",
      "/var/folders/mn/tx231v5158797chnp22wm9000000gp/T/ipykernel_61094/4004665421.py:78: FutureWarning: Calling float on a single element Series is deprecated and will raise a TypeError in the future. Use float(ser.iloc[0]) instead\n",
      "  S0 = float(tail.iloc[-1])\n"
     ]
    },
    {
     "name": "stdout",
     "output_type": "stream",
     "text": [
      "  > SBICARD.NS\n"
     ]
    },
    {
     "name": "stderr",
     "output_type": "stream",
     "text": [
      "/var/folders/mn/tx231v5158797chnp22wm9000000gp/T/ipykernel_61094/4004665421.py:76: FutureWarning: Calling float on a single element Series is deprecated and will raise a TypeError in the future. Use float(ser.iloc[0]) instead\n",
      "  mu_ann = float(log_ret.mean()) * TRADING_DAYS\n",
      "/var/folders/mn/tx231v5158797chnp22wm9000000gp/T/ipykernel_61094/4004665421.py:77: FutureWarning: Calling float on a single element Series is deprecated and will raise a TypeError in the future. Use float(ser.iloc[0]) instead\n",
      "  sigma_ann = float(log_ret.std(ddof=1)) * math.sqrt(TRADING_DAYS)\n",
      "/var/folders/mn/tx231v5158797chnp22wm9000000gp/T/ipykernel_61094/4004665421.py:78: FutureWarning: Calling float on a single element Series is deprecated and will raise a TypeError in the future. Use float(ser.iloc[0]) instead\n",
      "  S0 = float(tail.iloc[-1])\n"
     ]
    },
    {
     "name": "stdout",
     "output_type": "stream",
     "text": [
      "  > SBILIFE.NS\n"
     ]
    },
    {
     "name": "stderr",
     "output_type": "stream",
     "text": [
      "/var/folders/mn/tx231v5158797chnp22wm9000000gp/T/ipykernel_61094/4004665421.py:76: FutureWarning: Calling float on a single element Series is deprecated and will raise a TypeError in the future. Use float(ser.iloc[0]) instead\n",
      "  mu_ann = float(log_ret.mean()) * TRADING_DAYS\n",
      "/var/folders/mn/tx231v5158797chnp22wm9000000gp/T/ipykernel_61094/4004665421.py:77: FutureWarning: Calling float on a single element Series is deprecated and will raise a TypeError in the future. Use float(ser.iloc[0]) instead\n",
      "  sigma_ann = float(log_ret.std(ddof=1)) * math.sqrt(TRADING_DAYS)\n",
      "/var/folders/mn/tx231v5158797chnp22wm9000000gp/T/ipykernel_61094/4004665421.py:78: FutureWarning: Calling float on a single element Series is deprecated and will raise a TypeError in the future. Use float(ser.iloc[0]) instead\n",
      "  S0 = float(tail.iloc[-1])\n"
     ]
    },
    {
     "name": "stdout",
     "output_type": "stream",
     "text": [
      "  > SJVN.NS\n"
     ]
    },
    {
     "name": "stderr",
     "output_type": "stream",
     "text": [
      "/var/folders/mn/tx231v5158797chnp22wm9000000gp/T/ipykernel_61094/4004665421.py:76: FutureWarning: Calling float on a single element Series is deprecated and will raise a TypeError in the future. Use float(ser.iloc[0]) instead\n",
      "  mu_ann = float(log_ret.mean()) * TRADING_DAYS\n",
      "/var/folders/mn/tx231v5158797chnp22wm9000000gp/T/ipykernel_61094/4004665421.py:77: FutureWarning: Calling float on a single element Series is deprecated and will raise a TypeError in the future. Use float(ser.iloc[0]) instead\n",
      "  sigma_ann = float(log_ret.std(ddof=1)) * math.sqrt(TRADING_DAYS)\n",
      "/var/folders/mn/tx231v5158797chnp22wm9000000gp/T/ipykernel_61094/4004665421.py:78: FutureWarning: Calling float on a single element Series is deprecated and will raise a TypeError in the future. Use float(ser.iloc[0]) instead\n",
      "  S0 = float(tail.iloc[-1])\n"
     ]
    },
    {
     "name": "stdout",
     "output_type": "stream",
     "text": [
      "  > SKFINDIA.NS\n"
     ]
    },
    {
     "name": "stderr",
     "output_type": "stream",
     "text": [
      "/var/folders/mn/tx231v5158797chnp22wm9000000gp/T/ipykernel_61094/4004665421.py:76: FutureWarning: Calling float on a single element Series is deprecated and will raise a TypeError in the future. Use float(ser.iloc[0]) instead\n",
      "  mu_ann = float(log_ret.mean()) * TRADING_DAYS\n",
      "/var/folders/mn/tx231v5158797chnp22wm9000000gp/T/ipykernel_61094/4004665421.py:77: FutureWarning: Calling float on a single element Series is deprecated and will raise a TypeError in the future. Use float(ser.iloc[0]) instead\n",
      "  sigma_ann = float(log_ret.std(ddof=1)) * math.sqrt(TRADING_DAYS)\n",
      "/var/folders/mn/tx231v5158797chnp22wm9000000gp/T/ipykernel_61094/4004665421.py:78: FutureWarning: Calling float on a single element Series is deprecated and will raise a TypeError in the future. Use float(ser.iloc[0]) instead\n",
      "  S0 = float(tail.iloc[-1])\n"
     ]
    },
    {
     "name": "stdout",
     "output_type": "stream",
     "text": [
      "  > SRF.NS\n"
     ]
    },
    {
     "name": "stderr",
     "output_type": "stream",
     "text": [
      "/var/folders/mn/tx231v5158797chnp22wm9000000gp/T/ipykernel_61094/4004665421.py:76: FutureWarning: Calling float on a single element Series is deprecated and will raise a TypeError in the future. Use float(ser.iloc[0]) instead\n",
      "  mu_ann = float(log_ret.mean()) * TRADING_DAYS\n",
      "/var/folders/mn/tx231v5158797chnp22wm9000000gp/T/ipykernel_61094/4004665421.py:77: FutureWarning: Calling float on a single element Series is deprecated and will raise a TypeError in the future. Use float(ser.iloc[0]) instead\n",
      "  sigma_ann = float(log_ret.std(ddof=1)) * math.sqrt(TRADING_DAYS)\n",
      "/var/folders/mn/tx231v5158797chnp22wm9000000gp/T/ipykernel_61094/4004665421.py:78: FutureWarning: Calling float on a single element Series is deprecated and will raise a TypeError in the future. Use float(ser.iloc[0]) instead\n",
      "  S0 = float(tail.iloc[-1])\n"
     ]
    },
    {
     "name": "stdout",
     "output_type": "stream",
     "text": [
      "  > SAGILITY.NS\n"
     ]
    },
    {
     "name": "stderr",
     "output_type": "stream",
     "text": [
      "/var/folders/mn/tx231v5158797chnp22wm9000000gp/T/ipykernel_61094/4004665421.py:76: FutureWarning: Calling float on a single element Series is deprecated and will raise a TypeError in the future. Use float(ser.iloc[0]) instead\n",
      "  mu_ann = float(log_ret.mean()) * TRADING_DAYS\n",
      "/var/folders/mn/tx231v5158797chnp22wm9000000gp/T/ipykernel_61094/4004665421.py:77: FutureWarning: Calling float on a single element Series is deprecated and will raise a TypeError in the future. Use float(ser.iloc[0]) instead\n",
      "  sigma_ann = float(log_ret.std(ddof=1)) * math.sqrt(TRADING_DAYS)\n",
      "/var/folders/mn/tx231v5158797chnp22wm9000000gp/T/ipykernel_61094/4004665421.py:78: FutureWarning: Calling float on a single element Series is deprecated and will raise a TypeError in the future. Use float(ser.iloc[0]) instead\n",
      "  S0 = float(tail.iloc[-1])\n"
     ]
    },
    {
     "name": "stdout",
     "output_type": "stream",
     "text": [
      "  > SAILIFE.NS\n"
     ]
    },
    {
     "name": "stderr",
     "output_type": "stream",
     "text": [
      "/var/folders/mn/tx231v5158797chnp22wm9000000gp/T/ipykernel_61094/4004665421.py:76: FutureWarning: Calling float on a single element Series is deprecated and will raise a TypeError in the future. Use float(ser.iloc[0]) instead\n",
      "  mu_ann = float(log_ret.mean()) * TRADING_DAYS\n",
      "/var/folders/mn/tx231v5158797chnp22wm9000000gp/T/ipykernel_61094/4004665421.py:77: FutureWarning: Calling float on a single element Series is deprecated and will raise a TypeError in the future. Use float(ser.iloc[0]) instead\n",
      "  sigma_ann = float(log_ret.std(ddof=1)) * math.sqrt(TRADING_DAYS)\n",
      "/var/folders/mn/tx231v5158797chnp22wm9000000gp/T/ipykernel_61094/4004665421.py:78: FutureWarning: Calling float on a single element Series is deprecated and will raise a TypeError in the future. Use float(ser.iloc[0]) instead\n",
      "  S0 = float(tail.iloc[-1])\n"
     ]
    },
    {
     "name": "stdout",
     "output_type": "stream",
     "text": [
      "  > SAMMAANCAP.NS\n"
     ]
    },
    {
     "name": "stderr",
     "output_type": "stream",
     "text": [
      "/var/folders/mn/tx231v5158797chnp22wm9000000gp/T/ipykernel_61094/4004665421.py:76: FutureWarning: Calling float on a single element Series is deprecated and will raise a TypeError in the future. Use float(ser.iloc[0]) instead\n",
      "  mu_ann = float(log_ret.mean()) * TRADING_DAYS\n",
      "/var/folders/mn/tx231v5158797chnp22wm9000000gp/T/ipykernel_61094/4004665421.py:77: FutureWarning: Calling float on a single element Series is deprecated and will raise a TypeError in the future. Use float(ser.iloc[0]) instead\n",
      "  sigma_ann = float(log_ret.std(ddof=1)) * math.sqrt(TRADING_DAYS)\n",
      "/var/folders/mn/tx231v5158797chnp22wm9000000gp/T/ipykernel_61094/4004665421.py:78: FutureWarning: Calling float on a single element Series is deprecated and will raise a TypeError in the future. Use float(ser.iloc[0]) instead\n",
      "  S0 = float(tail.iloc[-1])\n"
     ]
    },
    {
     "name": "stdout",
     "output_type": "stream",
     "text": [
      "  > MOTHERSON.NS\n"
     ]
    },
    {
     "name": "stderr",
     "output_type": "stream",
     "text": [
      "/var/folders/mn/tx231v5158797chnp22wm9000000gp/T/ipykernel_61094/4004665421.py:76: FutureWarning: Calling float on a single element Series is deprecated and will raise a TypeError in the future. Use float(ser.iloc[0]) instead\n",
      "  mu_ann = float(log_ret.mean()) * TRADING_DAYS\n",
      "/var/folders/mn/tx231v5158797chnp22wm9000000gp/T/ipykernel_61094/4004665421.py:77: FutureWarning: Calling float on a single element Series is deprecated and will raise a TypeError in the future. Use float(ser.iloc[0]) instead\n",
      "  sigma_ann = float(log_ret.std(ddof=1)) * math.sqrt(TRADING_DAYS)\n",
      "/var/folders/mn/tx231v5158797chnp22wm9000000gp/T/ipykernel_61094/4004665421.py:78: FutureWarning: Calling float on a single element Series is deprecated and will raise a TypeError in the future. Use float(ser.iloc[0]) instead\n",
      "  S0 = float(tail.iloc[-1])\n"
     ]
    },
    {
     "name": "stdout",
     "output_type": "stream",
     "text": [
      "  > SAPPHIRE.NS\n"
     ]
    },
    {
     "name": "stderr",
     "output_type": "stream",
     "text": [
      "/var/folders/mn/tx231v5158797chnp22wm9000000gp/T/ipykernel_61094/4004665421.py:76: FutureWarning: Calling float on a single element Series is deprecated and will raise a TypeError in the future. Use float(ser.iloc[0]) instead\n",
      "  mu_ann = float(log_ret.mean()) * TRADING_DAYS\n",
      "/var/folders/mn/tx231v5158797chnp22wm9000000gp/T/ipykernel_61094/4004665421.py:77: FutureWarning: Calling float on a single element Series is deprecated and will raise a TypeError in the future. Use float(ser.iloc[0]) instead\n",
      "  sigma_ann = float(log_ret.std(ddof=1)) * math.sqrt(TRADING_DAYS)\n",
      "/var/folders/mn/tx231v5158797chnp22wm9000000gp/T/ipykernel_61094/4004665421.py:78: FutureWarning: Calling float on a single element Series is deprecated and will raise a TypeError in the future. Use float(ser.iloc[0]) instead\n",
      "  S0 = float(tail.iloc[-1])\n"
     ]
    },
    {
     "name": "stdout",
     "output_type": "stream",
     "text": [
      "  > SARDAEN.NS\n"
     ]
    },
    {
     "name": "stderr",
     "output_type": "stream",
     "text": [
      "/var/folders/mn/tx231v5158797chnp22wm9000000gp/T/ipykernel_61094/4004665421.py:76: FutureWarning: Calling float on a single element Series is deprecated and will raise a TypeError in the future. Use float(ser.iloc[0]) instead\n",
      "  mu_ann = float(log_ret.mean()) * TRADING_DAYS\n",
      "/var/folders/mn/tx231v5158797chnp22wm9000000gp/T/ipykernel_61094/4004665421.py:77: FutureWarning: Calling float on a single element Series is deprecated and will raise a TypeError in the future. Use float(ser.iloc[0]) instead\n",
      "  sigma_ann = float(log_ret.std(ddof=1)) * math.sqrt(TRADING_DAYS)\n",
      "/var/folders/mn/tx231v5158797chnp22wm9000000gp/T/ipykernel_61094/4004665421.py:78: FutureWarning: Calling float on a single element Series is deprecated and will raise a TypeError in the future. Use float(ser.iloc[0]) instead\n",
      "  S0 = float(tail.iloc[-1])\n"
     ]
    },
    {
     "name": "stdout",
     "output_type": "stream",
     "text": [
      "  > SAREGAMA.NS\n"
     ]
    },
    {
     "name": "stderr",
     "output_type": "stream",
     "text": [
      "/var/folders/mn/tx231v5158797chnp22wm9000000gp/T/ipykernel_61094/4004665421.py:76: FutureWarning: Calling float on a single element Series is deprecated and will raise a TypeError in the future. Use float(ser.iloc[0]) instead\n",
      "  mu_ann = float(log_ret.mean()) * TRADING_DAYS\n",
      "/var/folders/mn/tx231v5158797chnp22wm9000000gp/T/ipykernel_61094/4004665421.py:77: FutureWarning: Calling float on a single element Series is deprecated and will raise a TypeError in the future. Use float(ser.iloc[0]) instead\n",
      "  sigma_ann = float(log_ret.std(ddof=1)) * math.sqrt(TRADING_DAYS)\n",
      "/var/folders/mn/tx231v5158797chnp22wm9000000gp/T/ipykernel_61094/4004665421.py:78: FutureWarning: Calling float on a single element Series is deprecated and will raise a TypeError in the future. Use float(ser.iloc[0]) instead\n",
      "  S0 = float(tail.iloc[-1])\n"
     ]
    },
    {
     "name": "stdout",
     "output_type": "stream",
     "text": [
      "  > SCHAEFFLER.NS\n"
     ]
    },
    {
     "name": "stderr",
     "output_type": "stream",
     "text": [
      "/var/folders/mn/tx231v5158797chnp22wm9000000gp/T/ipykernel_61094/4004665421.py:76: FutureWarning: Calling float on a single element Series is deprecated and will raise a TypeError in the future. Use float(ser.iloc[0]) instead\n",
      "  mu_ann = float(log_ret.mean()) * TRADING_DAYS\n",
      "/var/folders/mn/tx231v5158797chnp22wm9000000gp/T/ipykernel_61094/4004665421.py:77: FutureWarning: Calling float on a single element Series is deprecated and will raise a TypeError in the future. Use float(ser.iloc[0]) instead\n",
      "  sigma_ann = float(log_ret.std(ddof=1)) * math.sqrt(TRADING_DAYS)\n",
      "/var/folders/mn/tx231v5158797chnp22wm9000000gp/T/ipykernel_61094/4004665421.py:78: FutureWarning: Calling float on a single element Series is deprecated and will raise a TypeError in the future. Use float(ser.iloc[0]) instead\n",
      "  S0 = float(tail.iloc[-1])\n"
     ]
    },
    {
     "name": "stdout",
     "output_type": "stream",
     "text": [
      "  > SCHNEIDER.NS\n"
     ]
    },
    {
     "name": "stderr",
     "output_type": "stream",
     "text": [
      "/var/folders/mn/tx231v5158797chnp22wm9000000gp/T/ipykernel_61094/4004665421.py:76: FutureWarning: Calling float on a single element Series is deprecated and will raise a TypeError in the future. Use float(ser.iloc[0]) instead\n",
      "  mu_ann = float(log_ret.mean()) * TRADING_DAYS\n",
      "/var/folders/mn/tx231v5158797chnp22wm9000000gp/T/ipykernel_61094/4004665421.py:77: FutureWarning: Calling float on a single element Series is deprecated and will raise a TypeError in the future. Use float(ser.iloc[0]) instead\n",
      "  sigma_ann = float(log_ret.std(ddof=1)) * math.sqrt(TRADING_DAYS)\n",
      "/var/folders/mn/tx231v5158797chnp22wm9000000gp/T/ipykernel_61094/4004665421.py:78: FutureWarning: Calling float on a single element Series is deprecated and will raise a TypeError in the future. Use float(ser.iloc[0]) instead\n",
      "  S0 = float(tail.iloc[-1])\n"
     ]
    },
    {
     "name": "stdout",
     "output_type": "stream",
     "text": [
      "  > SCI.NS\n"
     ]
    },
    {
     "name": "stderr",
     "output_type": "stream",
     "text": [
      "/var/folders/mn/tx231v5158797chnp22wm9000000gp/T/ipykernel_61094/4004665421.py:76: FutureWarning: Calling float on a single element Series is deprecated and will raise a TypeError in the future. Use float(ser.iloc[0]) instead\n",
      "  mu_ann = float(log_ret.mean()) * TRADING_DAYS\n",
      "/var/folders/mn/tx231v5158797chnp22wm9000000gp/T/ipykernel_61094/4004665421.py:77: FutureWarning: Calling float on a single element Series is deprecated and will raise a TypeError in the future. Use float(ser.iloc[0]) instead\n",
      "  sigma_ann = float(log_ret.std(ddof=1)) * math.sqrt(TRADING_DAYS)\n",
      "/var/folders/mn/tx231v5158797chnp22wm9000000gp/T/ipykernel_61094/4004665421.py:78: FutureWarning: Calling float on a single element Series is deprecated and will raise a TypeError in the future. Use float(ser.iloc[0]) instead\n",
      "  S0 = float(tail.iloc[-1])\n"
     ]
    },
    {
     "name": "stdout",
     "output_type": "stream",
     "text": [
      "  > SHREECEM.NS\n"
     ]
    },
    {
     "name": "stderr",
     "output_type": "stream",
     "text": [
      "/var/folders/mn/tx231v5158797chnp22wm9000000gp/T/ipykernel_61094/4004665421.py:76: FutureWarning: Calling float on a single element Series is deprecated and will raise a TypeError in the future. Use float(ser.iloc[0]) instead\n",
      "  mu_ann = float(log_ret.mean()) * TRADING_DAYS\n",
      "/var/folders/mn/tx231v5158797chnp22wm9000000gp/T/ipykernel_61094/4004665421.py:77: FutureWarning: Calling float on a single element Series is deprecated and will raise a TypeError in the future. Use float(ser.iloc[0]) instead\n",
      "  sigma_ann = float(log_ret.std(ddof=1)) * math.sqrt(TRADING_DAYS)\n",
      "/var/folders/mn/tx231v5158797chnp22wm9000000gp/T/ipykernel_61094/4004665421.py:78: FutureWarning: Calling float on a single element Series is deprecated and will raise a TypeError in the future. Use float(ser.iloc[0]) instead\n",
      "  S0 = float(tail.iloc[-1])\n"
     ]
    },
    {
     "name": "stdout",
     "output_type": "stream",
     "text": [
      "  > RENUKA.NS\n"
     ]
    },
    {
     "name": "stderr",
     "output_type": "stream",
     "text": [
      "/var/folders/mn/tx231v5158797chnp22wm9000000gp/T/ipykernel_61094/4004665421.py:76: FutureWarning: Calling float on a single element Series is deprecated and will raise a TypeError in the future. Use float(ser.iloc[0]) instead\n",
      "  mu_ann = float(log_ret.mean()) * TRADING_DAYS\n",
      "/var/folders/mn/tx231v5158797chnp22wm9000000gp/T/ipykernel_61094/4004665421.py:77: FutureWarning: Calling float on a single element Series is deprecated and will raise a TypeError in the future. Use float(ser.iloc[0]) instead\n",
      "  sigma_ann = float(log_ret.std(ddof=1)) * math.sqrt(TRADING_DAYS)\n",
      "/var/folders/mn/tx231v5158797chnp22wm9000000gp/T/ipykernel_61094/4004665421.py:78: FutureWarning: Calling float on a single element Series is deprecated and will raise a TypeError in the future. Use float(ser.iloc[0]) instead\n",
      "  S0 = float(tail.iloc[-1])\n"
     ]
    },
    {
     "name": "stdout",
     "output_type": "stream",
     "text": [
      "  > SHRIRAMFIN.NS\n"
     ]
    },
    {
     "name": "stderr",
     "output_type": "stream",
     "text": [
      "/var/folders/mn/tx231v5158797chnp22wm9000000gp/T/ipykernel_61094/4004665421.py:76: FutureWarning: Calling float on a single element Series is deprecated and will raise a TypeError in the future. Use float(ser.iloc[0]) instead\n",
      "  mu_ann = float(log_ret.mean()) * TRADING_DAYS\n",
      "/var/folders/mn/tx231v5158797chnp22wm9000000gp/T/ipykernel_61094/4004665421.py:77: FutureWarning: Calling float on a single element Series is deprecated and will raise a TypeError in the future. Use float(ser.iloc[0]) instead\n",
      "  sigma_ann = float(log_ret.std(ddof=1)) * math.sqrt(TRADING_DAYS)\n",
      "/var/folders/mn/tx231v5158797chnp22wm9000000gp/T/ipykernel_61094/4004665421.py:78: FutureWarning: Calling float on a single element Series is deprecated and will raise a TypeError in the future. Use float(ser.iloc[0]) instead\n",
      "  S0 = float(tail.iloc[-1])\n"
     ]
    },
    {
     "name": "stdout",
     "output_type": "stream",
     "text": [
      "  > SHYAMMETL.NS\n"
     ]
    },
    {
     "name": "stderr",
     "output_type": "stream",
     "text": [
      "/var/folders/mn/tx231v5158797chnp22wm9000000gp/T/ipykernel_61094/4004665421.py:76: FutureWarning: Calling float on a single element Series is deprecated and will raise a TypeError in the future. Use float(ser.iloc[0]) instead\n",
      "  mu_ann = float(log_ret.mean()) * TRADING_DAYS\n",
      "/var/folders/mn/tx231v5158797chnp22wm9000000gp/T/ipykernel_61094/4004665421.py:77: FutureWarning: Calling float on a single element Series is deprecated and will raise a TypeError in the future. Use float(ser.iloc[0]) instead\n",
      "  sigma_ann = float(log_ret.std(ddof=1)) * math.sqrt(TRADING_DAYS)\n",
      "/var/folders/mn/tx231v5158797chnp22wm9000000gp/T/ipykernel_61094/4004665421.py:78: FutureWarning: Calling float on a single element Series is deprecated and will raise a TypeError in the future. Use float(ser.iloc[0]) instead\n",
      "  S0 = float(tail.iloc[-1])\n"
     ]
    },
    {
     "name": "stdout",
     "output_type": "stream",
     "text": [
      "  > SIEMENS.NS\n"
     ]
    },
    {
     "name": "stderr",
     "output_type": "stream",
     "text": [
      "/var/folders/mn/tx231v5158797chnp22wm9000000gp/T/ipykernel_61094/4004665421.py:76: FutureWarning: Calling float on a single element Series is deprecated and will raise a TypeError in the future. Use float(ser.iloc[0]) instead\n",
      "  mu_ann = float(log_ret.mean()) * TRADING_DAYS\n",
      "/var/folders/mn/tx231v5158797chnp22wm9000000gp/T/ipykernel_61094/4004665421.py:77: FutureWarning: Calling float on a single element Series is deprecated and will raise a TypeError in the future. Use float(ser.iloc[0]) instead\n",
      "  sigma_ann = float(log_ret.std(ddof=1)) * math.sqrt(TRADING_DAYS)\n",
      "/var/folders/mn/tx231v5158797chnp22wm9000000gp/T/ipykernel_61094/4004665421.py:78: FutureWarning: Calling float on a single element Series is deprecated and will raise a TypeError in the future. Use float(ser.iloc[0]) instead\n",
      "  S0 = float(tail.iloc[-1])\n"
     ]
    },
    {
     "name": "stdout",
     "output_type": "stream",
     "text": [
      "  > SIGNATURE.NS\n"
     ]
    },
    {
     "name": "stderr",
     "output_type": "stream",
     "text": [
      "/var/folders/mn/tx231v5158797chnp22wm9000000gp/T/ipykernel_61094/4004665421.py:76: FutureWarning: Calling float on a single element Series is deprecated and will raise a TypeError in the future. Use float(ser.iloc[0]) instead\n",
      "  mu_ann = float(log_ret.mean()) * TRADING_DAYS\n",
      "/var/folders/mn/tx231v5158797chnp22wm9000000gp/T/ipykernel_61094/4004665421.py:77: FutureWarning: Calling float on a single element Series is deprecated and will raise a TypeError in the future. Use float(ser.iloc[0]) instead\n",
      "  sigma_ann = float(log_ret.std(ddof=1)) * math.sqrt(TRADING_DAYS)\n",
      "/var/folders/mn/tx231v5158797chnp22wm9000000gp/T/ipykernel_61094/4004665421.py:78: FutureWarning: Calling float on a single element Series is deprecated and will raise a TypeError in the future. Use float(ser.iloc[0]) instead\n",
      "  S0 = float(tail.iloc[-1])\n"
     ]
    },
    {
     "name": "stdout",
     "output_type": "stream",
     "text": [
      "  > SOBHA.NS\n"
     ]
    },
    {
     "name": "stderr",
     "output_type": "stream",
     "text": [
      "/var/folders/mn/tx231v5158797chnp22wm9000000gp/T/ipykernel_61094/4004665421.py:76: FutureWarning: Calling float on a single element Series is deprecated and will raise a TypeError in the future. Use float(ser.iloc[0]) instead\n",
      "  mu_ann = float(log_ret.mean()) * TRADING_DAYS\n",
      "/var/folders/mn/tx231v5158797chnp22wm9000000gp/T/ipykernel_61094/4004665421.py:77: FutureWarning: Calling float on a single element Series is deprecated and will raise a TypeError in the future. Use float(ser.iloc[0]) instead\n",
      "  sigma_ann = float(log_ret.std(ddof=1)) * math.sqrt(TRADING_DAYS)\n",
      "/var/folders/mn/tx231v5158797chnp22wm9000000gp/T/ipykernel_61094/4004665421.py:78: FutureWarning: Calling float on a single element Series is deprecated and will raise a TypeError in the future. Use float(ser.iloc[0]) instead\n",
      "  S0 = float(tail.iloc[-1])\n"
     ]
    },
    {
     "name": "stdout",
     "output_type": "stream",
     "text": [
      "  > SOLARINDS.NS\n"
     ]
    },
    {
     "name": "stderr",
     "output_type": "stream",
     "text": [
      "/var/folders/mn/tx231v5158797chnp22wm9000000gp/T/ipykernel_61094/4004665421.py:76: FutureWarning: Calling float on a single element Series is deprecated and will raise a TypeError in the future. Use float(ser.iloc[0]) instead\n",
      "  mu_ann = float(log_ret.mean()) * TRADING_DAYS\n",
      "/var/folders/mn/tx231v5158797chnp22wm9000000gp/T/ipykernel_61094/4004665421.py:77: FutureWarning: Calling float on a single element Series is deprecated and will raise a TypeError in the future. Use float(ser.iloc[0]) instead\n",
      "  sigma_ann = float(log_ret.std(ddof=1)) * math.sqrt(TRADING_DAYS)\n",
      "/var/folders/mn/tx231v5158797chnp22wm9000000gp/T/ipykernel_61094/4004665421.py:78: FutureWarning: Calling float on a single element Series is deprecated and will raise a TypeError in the future. Use float(ser.iloc[0]) instead\n",
      "  S0 = float(tail.iloc[-1])\n"
     ]
    },
    {
     "name": "stdout",
     "output_type": "stream",
     "text": [
      "  > SONACOMS.NS\n"
     ]
    },
    {
     "name": "stderr",
     "output_type": "stream",
     "text": [
      "/var/folders/mn/tx231v5158797chnp22wm9000000gp/T/ipykernel_61094/4004665421.py:76: FutureWarning: Calling float on a single element Series is deprecated and will raise a TypeError in the future. Use float(ser.iloc[0]) instead\n",
      "  mu_ann = float(log_ret.mean()) * TRADING_DAYS\n",
      "/var/folders/mn/tx231v5158797chnp22wm9000000gp/T/ipykernel_61094/4004665421.py:77: FutureWarning: Calling float on a single element Series is deprecated and will raise a TypeError in the future. Use float(ser.iloc[0]) instead\n",
      "  sigma_ann = float(log_ret.std(ddof=1)) * math.sqrt(TRADING_DAYS)\n",
      "/var/folders/mn/tx231v5158797chnp22wm9000000gp/T/ipykernel_61094/4004665421.py:78: FutureWarning: Calling float on a single element Series is deprecated and will raise a TypeError in the future. Use float(ser.iloc[0]) instead\n",
      "  S0 = float(tail.iloc[-1])\n"
     ]
    },
    {
     "name": "stdout",
     "output_type": "stream",
     "text": [
      "  > SONATSOFTW.NS\n"
     ]
    },
    {
     "name": "stderr",
     "output_type": "stream",
     "text": [
      "/var/folders/mn/tx231v5158797chnp22wm9000000gp/T/ipykernel_61094/4004665421.py:76: FutureWarning: Calling float on a single element Series is deprecated and will raise a TypeError in the future. Use float(ser.iloc[0]) instead\n",
      "  mu_ann = float(log_ret.mean()) * TRADING_DAYS\n",
      "/var/folders/mn/tx231v5158797chnp22wm9000000gp/T/ipykernel_61094/4004665421.py:77: FutureWarning: Calling float on a single element Series is deprecated and will raise a TypeError in the future. Use float(ser.iloc[0]) instead\n",
      "  sigma_ann = float(log_ret.std(ddof=1)) * math.sqrt(TRADING_DAYS)\n",
      "/var/folders/mn/tx231v5158797chnp22wm9000000gp/T/ipykernel_61094/4004665421.py:78: FutureWarning: Calling float on a single element Series is deprecated and will raise a TypeError in the future. Use float(ser.iloc[0]) instead\n",
      "  S0 = float(tail.iloc[-1])\n"
     ]
    },
    {
     "name": "stdout",
     "output_type": "stream",
     "text": [
      "  > STARHEALTH.NS\n"
     ]
    },
    {
     "name": "stderr",
     "output_type": "stream",
     "text": [
      "/var/folders/mn/tx231v5158797chnp22wm9000000gp/T/ipykernel_61094/4004665421.py:76: FutureWarning: Calling float on a single element Series is deprecated and will raise a TypeError in the future. Use float(ser.iloc[0]) instead\n",
      "  mu_ann = float(log_ret.mean()) * TRADING_DAYS\n",
      "/var/folders/mn/tx231v5158797chnp22wm9000000gp/T/ipykernel_61094/4004665421.py:77: FutureWarning: Calling float on a single element Series is deprecated and will raise a TypeError in the future. Use float(ser.iloc[0]) instead\n",
      "  sigma_ann = float(log_ret.std(ddof=1)) * math.sqrt(TRADING_DAYS)\n",
      "/var/folders/mn/tx231v5158797chnp22wm9000000gp/T/ipykernel_61094/4004665421.py:78: FutureWarning: Calling float on a single element Series is deprecated and will raise a TypeError in the future. Use float(ser.iloc[0]) instead\n",
      "  S0 = float(tail.iloc[-1])\n"
     ]
    },
    {
     "name": "stdout",
     "output_type": "stream",
     "text": [
      "  > SBIN.NS\n"
     ]
    },
    {
     "name": "stderr",
     "output_type": "stream",
     "text": [
      "/var/folders/mn/tx231v5158797chnp22wm9000000gp/T/ipykernel_61094/4004665421.py:76: FutureWarning: Calling float on a single element Series is deprecated and will raise a TypeError in the future. Use float(ser.iloc[0]) instead\n",
      "  mu_ann = float(log_ret.mean()) * TRADING_DAYS\n",
      "/var/folders/mn/tx231v5158797chnp22wm9000000gp/T/ipykernel_61094/4004665421.py:77: FutureWarning: Calling float on a single element Series is deprecated and will raise a TypeError in the future. Use float(ser.iloc[0]) instead\n",
      "  sigma_ann = float(log_ret.std(ddof=1)) * math.sqrt(TRADING_DAYS)\n",
      "/var/folders/mn/tx231v5158797chnp22wm9000000gp/T/ipykernel_61094/4004665421.py:78: FutureWarning: Calling float on a single element Series is deprecated and will raise a TypeError in the future. Use float(ser.iloc[0]) instead\n",
      "  S0 = float(tail.iloc[-1])\n"
     ]
    },
    {
     "name": "stdout",
     "output_type": "stream",
     "text": [
      "  > SAIL.NS\n"
     ]
    },
    {
     "name": "stderr",
     "output_type": "stream",
     "text": [
      "/var/folders/mn/tx231v5158797chnp22wm9000000gp/T/ipykernel_61094/4004665421.py:76: FutureWarning: Calling float on a single element Series is deprecated and will raise a TypeError in the future. Use float(ser.iloc[0]) instead\n",
      "  mu_ann = float(log_ret.mean()) * TRADING_DAYS\n",
      "/var/folders/mn/tx231v5158797chnp22wm9000000gp/T/ipykernel_61094/4004665421.py:77: FutureWarning: Calling float on a single element Series is deprecated and will raise a TypeError in the future. Use float(ser.iloc[0]) instead\n",
      "  sigma_ann = float(log_ret.std(ddof=1)) * math.sqrt(TRADING_DAYS)\n",
      "/var/folders/mn/tx231v5158797chnp22wm9000000gp/T/ipykernel_61094/4004665421.py:78: FutureWarning: Calling float on a single element Series is deprecated and will raise a TypeError in the future. Use float(ser.iloc[0]) instead\n",
      "  S0 = float(tail.iloc[-1])\n"
     ]
    },
    {
     "name": "stdout",
     "output_type": "stream",
     "text": [
      "  > SWSOLAR.NS\n"
     ]
    },
    {
     "name": "stderr",
     "output_type": "stream",
     "text": [
      "/var/folders/mn/tx231v5158797chnp22wm9000000gp/T/ipykernel_61094/4004665421.py:76: FutureWarning: Calling float on a single element Series is deprecated and will raise a TypeError in the future. Use float(ser.iloc[0]) instead\n",
      "  mu_ann = float(log_ret.mean()) * TRADING_DAYS\n",
      "/var/folders/mn/tx231v5158797chnp22wm9000000gp/T/ipykernel_61094/4004665421.py:77: FutureWarning: Calling float on a single element Series is deprecated and will raise a TypeError in the future. Use float(ser.iloc[0]) instead\n",
      "  sigma_ann = float(log_ret.std(ddof=1)) * math.sqrt(TRADING_DAYS)\n",
      "/var/folders/mn/tx231v5158797chnp22wm9000000gp/T/ipykernel_61094/4004665421.py:78: FutureWarning: Calling float on a single element Series is deprecated and will raise a TypeError in the future. Use float(ser.iloc[0]) instead\n",
      "  S0 = float(tail.iloc[-1])\n"
     ]
    },
    {
     "name": "stdout",
     "output_type": "stream",
     "text": [
      "  > SUMICHEM.NS\n"
     ]
    },
    {
     "name": "stderr",
     "output_type": "stream",
     "text": [
      "/var/folders/mn/tx231v5158797chnp22wm9000000gp/T/ipykernel_61094/4004665421.py:76: FutureWarning: Calling float on a single element Series is deprecated and will raise a TypeError in the future. Use float(ser.iloc[0]) instead\n",
      "  mu_ann = float(log_ret.mean()) * TRADING_DAYS\n",
      "/var/folders/mn/tx231v5158797chnp22wm9000000gp/T/ipykernel_61094/4004665421.py:77: FutureWarning: Calling float on a single element Series is deprecated and will raise a TypeError in the future. Use float(ser.iloc[0]) instead\n",
      "  sigma_ann = float(log_ret.std(ddof=1)) * math.sqrt(TRADING_DAYS)\n",
      "/var/folders/mn/tx231v5158797chnp22wm9000000gp/T/ipykernel_61094/4004665421.py:78: FutureWarning: Calling float on a single element Series is deprecated and will raise a TypeError in the future. Use float(ser.iloc[0]) instead\n",
      "  S0 = float(tail.iloc[-1])\n"
     ]
    },
    {
     "name": "stdout",
     "output_type": "stream",
     "text": [
      "  > SUNPHARMA.NS\n"
     ]
    },
    {
     "name": "stderr",
     "output_type": "stream",
     "text": [
      "/var/folders/mn/tx231v5158797chnp22wm9000000gp/T/ipykernel_61094/4004665421.py:76: FutureWarning: Calling float on a single element Series is deprecated and will raise a TypeError in the future. Use float(ser.iloc[0]) instead\n",
      "  mu_ann = float(log_ret.mean()) * TRADING_DAYS\n",
      "/var/folders/mn/tx231v5158797chnp22wm9000000gp/T/ipykernel_61094/4004665421.py:77: FutureWarning: Calling float on a single element Series is deprecated and will raise a TypeError in the future. Use float(ser.iloc[0]) instead\n",
      "  sigma_ann = float(log_ret.std(ddof=1)) * math.sqrt(TRADING_DAYS)\n",
      "/var/folders/mn/tx231v5158797chnp22wm9000000gp/T/ipykernel_61094/4004665421.py:78: FutureWarning: Calling float on a single element Series is deprecated and will raise a TypeError in the future. Use float(ser.iloc[0]) instead\n",
      "  S0 = float(tail.iloc[-1])\n"
     ]
    },
    {
     "name": "stdout",
     "output_type": "stream",
     "text": [
      "  > SUNTV.NS\n"
     ]
    },
    {
     "name": "stderr",
     "output_type": "stream",
     "text": [
      "/var/folders/mn/tx231v5158797chnp22wm9000000gp/T/ipykernel_61094/4004665421.py:76: FutureWarning: Calling float on a single element Series is deprecated and will raise a TypeError in the future. Use float(ser.iloc[0]) instead\n",
      "  mu_ann = float(log_ret.mean()) * TRADING_DAYS\n",
      "/var/folders/mn/tx231v5158797chnp22wm9000000gp/T/ipykernel_61094/4004665421.py:77: FutureWarning: Calling float on a single element Series is deprecated and will raise a TypeError in the future. Use float(ser.iloc[0]) instead\n",
      "  sigma_ann = float(log_ret.std(ddof=1)) * math.sqrt(TRADING_DAYS)\n",
      "/var/folders/mn/tx231v5158797chnp22wm9000000gp/T/ipykernel_61094/4004665421.py:78: FutureWarning: Calling float on a single element Series is deprecated and will raise a TypeError in the future. Use float(ser.iloc[0]) instead\n",
      "  S0 = float(tail.iloc[-1])\n"
     ]
    },
    {
     "name": "stdout",
     "output_type": "stream",
     "text": [
      "  > SUNDARMFIN.NS\n"
     ]
    },
    {
     "name": "stderr",
     "output_type": "stream",
     "text": [
      "/var/folders/mn/tx231v5158797chnp22wm9000000gp/T/ipykernel_61094/4004665421.py:76: FutureWarning: Calling float on a single element Series is deprecated and will raise a TypeError in the future. Use float(ser.iloc[0]) instead\n",
      "  mu_ann = float(log_ret.mean()) * TRADING_DAYS\n",
      "/var/folders/mn/tx231v5158797chnp22wm9000000gp/T/ipykernel_61094/4004665421.py:77: FutureWarning: Calling float on a single element Series is deprecated and will raise a TypeError in the future. Use float(ser.iloc[0]) instead\n",
      "  sigma_ann = float(log_ret.std(ddof=1)) * math.sqrt(TRADING_DAYS)\n",
      "/var/folders/mn/tx231v5158797chnp22wm9000000gp/T/ipykernel_61094/4004665421.py:78: FutureWarning: Calling float on a single element Series is deprecated and will raise a TypeError in the future. Use float(ser.iloc[0]) instead\n",
      "  S0 = float(tail.iloc[-1])\n"
     ]
    },
    {
     "name": "stdout",
     "output_type": "stream",
     "text": [
      "  > SUNDRMFAST.NS\n"
     ]
    },
    {
     "name": "stderr",
     "output_type": "stream",
     "text": [
      "/var/folders/mn/tx231v5158797chnp22wm9000000gp/T/ipykernel_61094/4004665421.py:76: FutureWarning: Calling float on a single element Series is deprecated and will raise a TypeError in the future. Use float(ser.iloc[0]) instead\n",
      "  mu_ann = float(log_ret.mean()) * TRADING_DAYS\n",
      "/var/folders/mn/tx231v5158797chnp22wm9000000gp/T/ipykernel_61094/4004665421.py:77: FutureWarning: Calling float on a single element Series is deprecated and will raise a TypeError in the future. Use float(ser.iloc[0]) instead\n",
      "  sigma_ann = float(log_ret.std(ddof=1)) * math.sqrt(TRADING_DAYS)\n",
      "/var/folders/mn/tx231v5158797chnp22wm9000000gp/T/ipykernel_61094/4004665421.py:78: FutureWarning: Calling float on a single element Series is deprecated and will raise a TypeError in the future. Use float(ser.iloc[0]) instead\n",
      "  S0 = float(tail.iloc[-1])\n"
     ]
    },
    {
     "name": "stdout",
     "output_type": "stream",
     "text": [
      "  > SUPREMEIND.NS\n"
     ]
    },
    {
     "name": "stderr",
     "output_type": "stream",
     "text": [
      "/var/folders/mn/tx231v5158797chnp22wm9000000gp/T/ipykernel_61094/4004665421.py:76: FutureWarning: Calling float on a single element Series is deprecated and will raise a TypeError in the future. Use float(ser.iloc[0]) instead\n",
      "  mu_ann = float(log_ret.mean()) * TRADING_DAYS\n",
      "/var/folders/mn/tx231v5158797chnp22wm9000000gp/T/ipykernel_61094/4004665421.py:77: FutureWarning: Calling float on a single element Series is deprecated and will raise a TypeError in the future. Use float(ser.iloc[0]) instead\n",
      "  sigma_ann = float(log_ret.std(ddof=1)) * math.sqrt(TRADING_DAYS)\n",
      "/var/folders/mn/tx231v5158797chnp22wm9000000gp/T/ipykernel_61094/4004665421.py:78: FutureWarning: Calling float on a single element Series is deprecated and will raise a TypeError in the future. Use float(ser.iloc[0]) instead\n",
      "  S0 = float(tail.iloc[-1])\n"
     ]
    },
    {
     "name": "stdout",
     "output_type": "stream",
     "text": [
      "  > SUZLON.NS\n"
     ]
    },
    {
     "name": "stderr",
     "output_type": "stream",
     "text": [
      "/var/folders/mn/tx231v5158797chnp22wm9000000gp/T/ipykernel_61094/4004665421.py:76: FutureWarning: Calling float on a single element Series is deprecated and will raise a TypeError in the future. Use float(ser.iloc[0]) instead\n",
      "  mu_ann = float(log_ret.mean()) * TRADING_DAYS\n",
      "/var/folders/mn/tx231v5158797chnp22wm9000000gp/T/ipykernel_61094/4004665421.py:77: FutureWarning: Calling float on a single element Series is deprecated and will raise a TypeError in the future. Use float(ser.iloc[0]) instead\n",
      "  sigma_ann = float(log_ret.std(ddof=1)) * math.sqrt(TRADING_DAYS)\n",
      "/var/folders/mn/tx231v5158797chnp22wm9000000gp/T/ipykernel_61094/4004665421.py:78: FutureWarning: Calling float on a single element Series is deprecated and will raise a TypeError in the future. Use float(ser.iloc[0]) instead\n",
      "  S0 = float(tail.iloc[-1])\n"
     ]
    },
    {
     "name": "stdout",
     "output_type": "stream",
     "text": [
      "  > SWANENERGY.NS\n"
     ]
    },
    {
     "name": "stderr",
     "output_type": "stream",
     "text": [
      "/var/folders/mn/tx231v5158797chnp22wm9000000gp/T/ipykernel_61094/4004665421.py:76: FutureWarning: Calling float on a single element Series is deprecated and will raise a TypeError in the future. Use float(ser.iloc[0]) instead\n",
      "  mu_ann = float(log_ret.mean()) * TRADING_DAYS\n",
      "/var/folders/mn/tx231v5158797chnp22wm9000000gp/T/ipykernel_61094/4004665421.py:77: FutureWarning: Calling float on a single element Series is deprecated and will raise a TypeError in the future. Use float(ser.iloc[0]) instead\n",
      "  sigma_ann = float(log_ret.std(ddof=1)) * math.sqrt(TRADING_DAYS)\n",
      "/var/folders/mn/tx231v5158797chnp22wm9000000gp/T/ipykernel_61094/4004665421.py:78: FutureWarning: Calling float on a single element Series is deprecated and will raise a TypeError in the future. Use float(ser.iloc[0]) instead\n",
      "  S0 = float(tail.iloc[-1])\n"
     ]
    },
    {
     "name": "stdout",
     "output_type": "stream",
     "text": [
      "  > SWIGGY.NS\n"
     ]
    },
    {
     "name": "stderr",
     "output_type": "stream",
     "text": [
      "/var/folders/mn/tx231v5158797chnp22wm9000000gp/T/ipykernel_61094/4004665421.py:76: FutureWarning: Calling float on a single element Series is deprecated and will raise a TypeError in the future. Use float(ser.iloc[0]) instead\n",
      "  mu_ann = float(log_ret.mean()) * TRADING_DAYS\n",
      "/var/folders/mn/tx231v5158797chnp22wm9000000gp/T/ipykernel_61094/4004665421.py:77: FutureWarning: Calling float on a single element Series is deprecated and will raise a TypeError in the future. Use float(ser.iloc[0]) instead\n",
      "  sigma_ann = float(log_ret.std(ddof=1)) * math.sqrt(TRADING_DAYS)\n",
      "/var/folders/mn/tx231v5158797chnp22wm9000000gp/T/ipykernel_61094/4004665421.py:78: FutureWarning: Calling float on a single element Series is deprecated and will raise a TypeError in the future. Use float(ser.iloc[0]) instead\n",
      "  S0 = float(tail.iloc[-1])\n"
     ]
    },
    {
     "name": "stdout",
     "output_type": "stream",
     "text": [
      "  > SYNGENE.NS\n"
     ]
    },
    {
     "name": "stderr",
     "output_type": "stream",
     "text": [
      "/var/folders/mn/tx231v5158797chnp22wm9000000gp/T/ipykernel_61094/4004665421.py:76: FutureWarning: Calling float on a single element Series is deprecated and will raise a TypeError in the future. Use float(ser.iloc[0]) instead\n",
      "  mu_ann = float(log_ret.mean()) * TRADING_DAYS\n",
      "/var/folders/mn/tx231v5158797chnp22wm9000000gp/T/ipykernel_61094/4004665421.py:77: FutureWarning: Calling float on a single element Series is deprecated and will raise a TypeError in the future. Use float(ser.iloc[0]) instead\n",
      "  sigma_ann = float(log_ret.std(ddof=1)) * math.sqrt(TRADING_DAYS)\n",
      "/var/folders/mn/tx231v5158797chnp22wm9000000gp/T/ipykernel_61094/4004665421.py:78: FutureWarning: Calling float on a single element Series is deprecated and will raise a TypeError in the future. Use float(ser.iloc[0]) instead\n",
      "  S0 = float(tail.iloc[-1])\n"
     ]
    },
    {
     "name": "stdout",
     "output_type": "stream",
     "text": [
      "  > SYRMA.NS\n"
     ]
    },
    {
     "name": "stderr",
     "output_type": "stream",
     "text": [
      "/var/folders/mn/tx231v5158797chnp22wm9000000gp/T/ipykernel_61094/4004665421.py:76: FutureWarning: Calling float on a single element Series is deprecated and will raise a TypeError in the future. Use float(ser.iloc[0]) instead\n",
      "  mu_ann = float(log_ret.mean()) * TRADING_DAYS\n",
      "/var/folders/mn/tx231v5158797chnp22wm9000000gp/T/ipykernel_61094/4004665421.py:77: FutureWarning: Calling float on a single element Series is deprecated and will raise a TypeError in the future. Use float(ser.iloc[0]) instead\n",
      "  sigma_ann = float(log_ret.std(ddof=1)) * math.sqrt(TRADING_DAYS)\n",
      "/var/folders/mn/tx231v5158797chnp22wm9000000gp/T/ipykernel_61094/4004665421.py:78: FutureWarning: Calling float on a single element Series is deprecated and will raise a TypeError in the future. Use float(ser.iloc[0]) instead\n",
      "  S0 = float(tail.iloc[-1])\n"
     ]
    },
    {
     "name": "stdout",
     "output_type": "stream",
     "text": [
      "  > TBOTEK.NS\n"
     ]
    },
    {
     "name": "stderr",
     "output_type": "stream",
     "text": [
      "/var/folders/mn/tx231v5158797chnp22wm9000000gp/T/ipykernel_61094/4004665421.py:76: FutureWarning: Calling float on a single element Series is deprecated and will raise a TypeError in the future. Use float(ser.iloc[0]) instead\n",
      "  mu_ann = float(log_ret.mean()) * TRADING_DAYS\n",
      "/var/folders/mn/tx231v5158797chnp22wm9000000gp/T/ipykernel_61094/4004665421.py:77: FutureWarning: Calling float on a single element Series is deprecated and will raise a TypeError in the future. Use float(ser.iloc[0]) instead\n",
      "  sigma_ann = float(log_ret.std(ddof=1)) * math.sqrt(TRADING_DAYS)\n",
      "/var/folders/mn/tx231v5158797chnp22wm9000000gp/T/ipykernel_61094/4004665421.py:78: FutureWarning: Calling float on a single element Series is deprecated and will raise a TypeError in the future. Use float(ser.iloc[0]) instead\n",
      "  S0 = float(tail.iloc[-1])\n"
     ]
    },
    {
     "name": "stdout",
     "output_type": "stream",
     "text": [
      "  > TVSMOTOR.NS\n"
     ]
    },
    {
     "name": "stderr",
     "output_type": "stream",
     "text": [
      "/var/folders/mn/tx231v5158797chnp22wm9000000gp/T/ipykernel_61094/4004665421.py:76: FutureWarning: Calling float on a single element Series is deprecated and will raise a TypeError in the future. Use float(ser.iloc[0]) instead\n",
      "  mu_ann = float(log_ret.mean()) * TRADING_DAYS\n",
      "/var/folders/mn/tx231v5158797chnp22wm9000000gp/T/ipykernel_61094/4004665421.py:77: FutureWarning: Calling float on a single element Series is deprecated and will raise a TypeError in the future. Use float(ser.iloc[0]) instead\n",
      "  sigma_ann = float(log_ret.std(ddof=1)) * math.sqrt(TRADING_DAYS)\n",
      "/var/folders/mn/tx231v5158797chnp22wm9000000gp/T/ipykernel_61094/4004665421.py:78: FutureWarning: Calling float on a single element Series is deprecated and will raise a TypeError in the future. Use float(ser.iloc[0]) instead\n",
      "  S0 = float(tail.iloc[-1])\n"
     ]
    },
    {
     "name": "stdout",
     "output_type": "stream",
     "text": [
      "  > TANLA.NS\n"
     ]
    },
    {
     "name": "stderr",
     "output_type": "stream",
     "text": [
      "/var/folders/mn/tx231v5158797chnp22wm9000000gp/T/ipykernel_61094/4004665421.py:76: FutureWarning: Calling float on a single element Series is deprecated and will raise a TypeError in the future. Use float(ser.iloc[0]) instead\n",
      "  mu_ann = float(log_ret.mean()) * TRADING_DAYS\n",
      "/var/folders/mn/tx231v5158797chnp22wm9000000gp/T/ipykernel_61094/4004665421.py:77: FutureWarning: Calling float on a single element Series is deprecated and will raise a TypeError in the future. Use float(ser.iloc[0]) instead\n",
      "  sigma_ann = float(log_ret.std(ddof=1)) * math.sqrt(TRADING_DAYS)\n",
      "/var/folders/mn/tx231v5158797chnp22wm9000000gp/T/ipykernel_61094/4004665421.py:78: FutureWarning: Calling float on a single element Series is deprecated and will raise a TypeError in the future. Use float(ser.iloc[0]) instead\n",
      "  S0 = float(tail.iloc[-1])\n"
     ]
    },
    {
     "name": "stdout",
     "output_type": "stream",
     "text": [
      "  > TATACHEM.NS\n"
     ]
    },
    {
     "name": "stderr",
     "output_type": "stream",
     "text": [
      "/var/folders/mn/tx231v5158797chnp22wm9000000gp/T/ipykernel_61094/4004665421.py:76: FutureWarning: Calling float on a single element Series is deprecated and will raise a TypeError in the future. Use float(ser.iloc[0]) instead\n",
      "  mu_ann = float(log_ret.mean()) * TRADING_DAYS\n",
      "/var/folders/mn/tx231v5158797chnp22wm9000000gp/T/ipykernel_61094/4004665421.py:77: FutureWarning: Calling float on a single element Series is deprecated and will raise a TypeError in the future. Use float(ser.iloc[0]) instead\n",
      "  sigma_ann = float(log_ret.std(ddof=1)) * math.sqrt(TRADING_DAYS)\n",
      "/var/folders/mn/tx231v5158797chnp22wm9000000gp/T/ipykernel_61094/4004665421.py:78: FutureWarning: Calling float on a single element Series is deprecated and will raise a TypeError in the future. Use float(ser.iloc[0]) instead\n",
      "  S0 = float(tail.iloc[-1])\n"
     ]
    },
    {
     "name": "stdout",
     "output_type": "stream",
     "text": [
      "  > TATACOMM.NS\n"
     ]
    },
    {
     "name": "stderr",
     "output_type": "stream",
     "text": [
      "/var/folders/mn/tx231v5158797chnp22wm9000000gp/T/ipykernel_61094/4004665421.py:76: FutureWarning: Calling float on a single element Series is deprecated and will raise a TypeError in the future. Use float(ser.iloc[0]) instead\n",
      "  mu_ann = float(log_ret.mean()) * TRADING_DAYS\n",
      "/var/folders/mn/tx231v5158797chnp22wm9000000gp/T/ipykernel_61094/4004665421.py:77: FutureWarning: Calling float on a single element Series is deprecated and will raise a TypeError in the future. Use float(ser.iloc[0]) instead\n",
      "  sigma_ann = float(log_ret.std(ddof=1)) * math.sqrt(TRADING_DAYS)\n",
      "/var/folders/mn/tx231v5158797chnp22wm9000000gp/T/ipykernel_61094/4004665421.py:78: FutureWarning: Calling float on a single element Series is deprecated and will raise a TypeError in the future. Use float(ser.iloc[0]) instead\n",
      "  S0 = float(tail.iloc[-1])\n"
     ]
    },
    {
     "name": "stdout",
     "output_type": "stream",
     "text": [
      "  > TCS.NS\n"
     ]
    },
    {
     "name": "stderr",
     "output_type": "stream",
     "text": [
      "/var/folders/mn/tx231v5158797chnp22wm9000000gp/T/ipykernel_61094/4004665421.py:76: FutureWarning: Calling float on a single element Series is deprecated and will raise a TypeError in the future. Use float(ser.iloc[0]) instead\n",
      "  mu_ann = float(log_ret.mean()) * TRADING_DAYS\n",
      "/var/folders/mn/tx231v5158797chnp22wm9000000gp/T/ipykernel_61094/4004665421.py:77: FutureWarning: Calling float on a single element Series is deprecated and will raise a TypeError in the future. Use float(ser.iloc[0]) instead\n",
      "  sigma_ann = float(log_ret.std(ddof=1)) * math.sqrt(TRADING_DAYS)\n",
      "/var/folders/mn/tx231v5158797chnp22wm9000000gp/T/ipykernel_61094/4004665421.py:78: FutureWarning: Calling float on a single element Series is deprecated and will raise a TypeError in the future. Use float(ser.iloc[0]) instead\n",
      "  S0 = float(tail.iloc[-1])\n"
     ]
    },
    {
     "name": "stdout",
     "output_type": "stream",
     "text": [
      "  > TATACONSUM.NS\n"
     ]
    },
    {
     "name": "stderr",
     "output_type": "stream",
     "text": [
      "/var/folders/mn/tx231v5158797chnp22wm9000000gp/T/ipykernel_61094/4004665421.py:76: FutureWarning: Calling float on a single element Series is deprecated and will raise a TypeError in the future. Use float(ser.iloc[0]) instead\n",
      "  mu_ann = float(log_ret.mean()) * TRADING_DAYS\n",
      "/var/folders/mn/tx231v5158797chnp22wm9000000gp/T/ipykernel_61094/4004665421.py:77: FutureWarning: Calling float on a single element Series is deprecated and will raise a TypeError in the future. Use float(ser.iloc[0]) instead\n",
      "  sigma_ann = float(log_ret.std(ddof=1)) * math.sqrt(TRADING_DAYS)\n",
      "/var/folders/mn/tx231v5158797chnp22wm9000000gp/T/ipykernel_61094/4004665421.py:78: FutureWarning: Calling float on a single element Series is deprecated and will raise a TypeError in the future. Use float(ser.iloc[0]) instead\n",
      "  S0 = float(tail.iloc[-1])\n"
     ]
    },
    {
     "name": "stdout",
     "output_type": "stream",
     "text": [
      "  > TATAELXSI.NS\n"
     ]
    },
    {
     "name": "stderr",
     "output_type": "stream",
     "text": [
      "/var/folders/mn/tx231v5158797chnp22wm9000000gp/T/ipykernel_61094/4004665421.py:76: FutureWarning: Calling float on a single element Series is deprecated and will raise a TypeError in the future. Use float(ser.iloc[0]) instead\n",
      "  mu_ann = float(log_ret.mean()) * TRADING_DAYS\n",
      "/var/folders/mn/tx231v5158797chnp22wm9000000gp/T/ipykernel_61094/4004665421.py:77: FutureWarning: Calling float on a single element Series is deprecated and will raise a TypeError in the future. Use float(ser.iloc[0]) instead\n",
      "  sigma_ann = float(log_ret.std(ddof=1)) * math.sqrt(TRADING_DAYS)\n",
      "/var/folders/mn/tx231v5158797chnp22wm9000000gp/T/ipykernel_61094/4004665421.py:78: FutureWarning: Calling float on a single element Series is deprecated and will raise a TypeError in the future. Use float(ser.iloc[0]) instead\n",
      "  S0 = float(tail.iloc[-1])\n"
     ]
    },
    {
     "name": "stdout",
     "output_type": "stream",
     "text": [
      "  > TATAINVEST.NS\n"
     ]
    },
    {
     "name": "stderr",
     "output_type": "stream",
     "text": [
      "/var/folders/mn/tx231v5158797chnp22wm9000000gp/T/ipykernel_61094/4004665421.py:76: FutureWarning: Calling float on a single element Series is deprecated and will raise a TypeError in the future. Use float(ser.iloc[0]) instead\n",
      "  mu_ann = float(log_ret.mean()) * TRADING_DAYS\n",
      "/var/folders/mn/tx231v5158797chnp22wm9000000gp/T/ipykernel_61094/4004665421.py:77: FutureWarning: Calling float on a single element Series is deprecated and will raise a TypeError in the future. Use float(ser.iloc[0]) instead\n",
      "  sigma_ann = float(log_ret.std(ddof=1)) * math.sqrt(TRADING_DAYS)\n",
      "/var/folders/mn/tx231v5158797chnp22wm9000000gp/T/ipykernel_61094/4004665421.py:78: FutureWarning: Calling float on a single element Series is deprecated and will raise a TypeError in the future. Use float(ser.iloc[0]) instead\n",
      "  S0 = float(tail.iloc[-1])\n"
     ]
    },
    {
     "name": "stdout",
     "output_type": "stream",
     "text": [
      "  > TATAMOTORS.NS\n"
     ]
    },
    {
     "name": "stderr",
     "output_type": "stream",
     "text": [
      "/var/folders/mn/tx231v5158797chnp22wm9000000gp/T/ipykernel_61094/4004665421.py:76: FutureWarning: Calling float on a single element Series is deprecated and will raise a TypeError in the future. Use float(ser.iloc[0]) instead\n",
      "  mu_ann = float(log_ret.mean()) * TRADING_DAYS\n",
      "/var/folders/mn/tx231v5158797chnp22wm9000000gp/T/ipykernel_61094/4004665421.py:77: FutureWarning: Calling float on a single element Series is deprecated and will raise a TypeError in the future. Use float(ser.iloc[0]) instead\n",
      "  sigma_ann = float(log_ret.std(ddof=1)) * math.sqrt(TRADING_DAYS)\n",
      "/var/folders/mn/tx231v5158797chnp22wm9000000gp/T/ipykernel_61094/4004665421.py:78: FutureWarning: Calling float on a single element Series is deprecated and will raise a TypeError in the future. Use float(ser.iloc[0]) instead\n",
      "  S0 = float(tail.iloc[-1])\n"
     ]
    },
    {
     "name": "stdout",
     "output_type": "stream",
     "text": [
      "  > TATAPOWER.NS\n"
     ]
    },
    {
     "name": "stderr",
     "output_type": "stream",
     "text": [
      "/var/folders/mn/tx231v5158797chnp22wm9000000gp/T/ipykernel_61094/4004665421.py:76: FutureWarning: Calling float on a single element Series is deprecated and will raise a TypeError in the future. Use float(ser.iloc[0]) instead\n",
      "  mu_ann = float(log_ret.mean()) * TRADING_DAYS\n",
      "/var/folders/mn/tx231v5158797chnp22wm9000000gp/T/ipykernel_61094/4004665421.py:77: FutureWarning: Calling float on a single element Series is deprecated and will raise a TypeError in the future. Use float(ser.iloc[0]) instead\n",
      "  sigma_ann = float(log_ret.std(ddof=1)) * math.sqrt(TRADING_DAYS)\n",
      "/var/folders/mn/tx231v5158797chnp22wm9000000gp/T/ipykernel_61094/4004665421.py:78: FutureWarning: Calling float on a single element Series is deprecated and will raise a TypeError in the future. Use float(ser.iloc[0]) instead\n",
      "  S0 = float(tail.iloc[-1])\n"
     ]
    },
    {
     "name": "stdout",
     "output_type": "stream",
     "text": [
      "  > TATASTEEL.NS\n"
     ]
    },
    {
     "name": "stderr",
     "output_type": "stream",
     "text": [
      "/var/folders/mn/tx231v5158797chnp22wm9000000gp/T/ipykernel_61094/4004665421.py:76: FutureWarning: Calling float on a single element Series is deprecated and will raise a TypeError in the future. Use float(ser.iloc[0]) instead\n",
      "  mu_ann = float(log_ret.mean()) * TRADING_DAYS\n",
      "/var/folders/mn/tx231v5158797chnp22wm9000000gp/T/ipykernel_61094/4004665421.py:77: FutureWarning: Calling float on a single element Series is deprecated and will raise a TypeError in the future. Use float(ser.iloc[0]) instead\n",
      "  sigma_ann = float(log_ret.std(ddof=1)) * math.sqrt(TRADING_DAYS)\n",
      "/var/folders/mn/tx231v5158797chnp22wm9000000gp/T/ipykernel_61094/4004665421.py:78: FutureWarning: Calling float on a single element Series is deprecated and will raise a TypeError in the future. Use float(ser.iloc[0]) instead\n",
      "  S0 = float(tail.iloc[-1])\n"
     ]
    },
    {
     "name": "stdout",
     "output_type": "stream",
     "text": [
      "  > TATATECH.NS\n"
     ]
    },
    {
     "name": "stderr",
     "output_type": "stream",
     "text": [
      "/var/folders/mn/tx231v5158797chnp22wm9000000gp/T/ipykernel_61094/4004665421.py:76: FutureWarning: Calling float on a single element Series is deprecated and will raise a TypeError in the future. Use float(ser.iloc[0]) instead\n",
      "  mu_ann = float(log_ret.mean()) * TRADING_DAYS\n",
      "/var/folders/mn/tx231v5158797chnp22wm9000000gp/T/ipykernel_61094/4004665421.py:77: FutureWarning: Calling float on a single element Series is deprecated and will raise a TypeError in the future. Use float(ser.iloc[0]) instead\n",
      "  sigma_ann = float(log_ret.std(ddof=1)) * math.sqrt(TRADING_DAYS)\n",
      "/var/folders/mn/tx231v5158797chnp22wm9000000gp/T/ipykernel_61094/4004665421.py:78: FutureWarning: Calling float on a single element Series is deprecated and will raise a TypeError in the future. Use float(ser.iloc[0]) instead\n",
      "  S0 = float(tail.iloc[-1])\n"
     ]
    },
    {
     "name": "stdout",
     "output_type": "stream",
     "text": [
      "  > TTML.NS\n"
     ]
    },
    {
     "name": "stderr",
     "output_type": "stream",
     "text": [
      "/var/folders/mn/tx231v5158797chnp22wm9000000gp/T/ipykernel_61094/4004665421.py:76: FutureWarning: Calling float on a single element Series is deprecated and will raise a TypeError in the future. Use float(ser.iloc[0]) instead\n",
      "  mu_ann = float(log_ret.mean()) * TRADING_DAYS\n",
      "/var/folders/mn/tx231v5158797chnp22wm9000000gp/T/ipykernel_61094/4004665421.py:77: FutureWarning: Calling float on a single element Series is deprecated and will raise a TypeError in the future. Use float(ser.iloc[0]) instead\n",
      "  sigma_ann = float(log_ret.std(ddof=1)) * math.sqrt(TRADING_DAYS)\n",
      "/var/folders/mn/tx231v5158797chnp22wm9000000gp/T/ipykernel_61094/4004665421.py:78: FutureWarning: Calling float on a single element Series is deprecated and will raise a TypeError in the future. Use float(ser.iloc[0]) instead\n",
      "  S0 = float(tail.iloc[-1])\n"
     ]
    },
    {
     "name": "stdout",
     "output_type": "stream",
     "text": [
      "  > TECHM.NS\n"
     ]
    },
    {
     "name": "stderr",
     "output_type": "stream",
     "text": [
      "/var/folders/mn/tx231v5158797chnp22wm9000000gp/T/ipykernel_61094/4004665421.py:76: FutureWarning: Calling float on a single element Series is deprecated and will raise a TypeError in the future. Use float(ser.iloc[0]) instead\n",
      "  mu_ann = float(log_ret.mean()) * TRADING_DAYS\n",
      "/var/folders/mn/tx231v5158797chnp22wm9000000gp/T/ipykernel_61094/4004665421.py:77: FutureWarning: Calling float on a single element Series is deprecated and will raise a TypeError in the future. Use float(ser.iloc[0]) instead\n",
      "  sigma_ann = float(log_ret.std(ddof=1)) * math.sqrt(TRADING_DAYS)\n",
      "/var/folders/mn/tx231v5158797chnp22wm9000000gp/T/ipykernel_61094/4004665421.py:78: FutureWarning: Calling float on a single element Series is deprecated and will raise a TypeError in the future. Use float(ser.iloc[0]) instead\n",
      "  S0 = float(tail.iloc[-1])\n"
     ]
    },
    {
     "name": "stdout",
     "output_type": "stream",
     "text": [
      "  > TECHNOE.NS\n"
     ]
    },
    {
     "name": "stderr",
     "output_type": "stream",
     "text": [
      "/var/folders/mn/tx231v5158797chnp22wm9000000gp/T/ipykernel_61094/4004665421.py:76: FutureWarning: Calling float on a single element Series is deprecated and will raise a TypeError in the future. Use float(ser.iloc[0]) instead\n",
      "  mu_ann = float(log_ret.mean()) * TRADING_DAYS\n",
      "/var/folders/mn/tx231v5158797chnp22wm9000000gp/T/ipykernel_61094/4004665421.py:77: FutureWarning: Calling float on a single element Series is deprecated and will raise a TypeError in the future. Use float(ser.iloc[0]) instead\n",
      "  sigma_ann = float(log_ret.std(ddof=1)) * math.sqrt(TRADING_DAYS)\n",
      "/var/folders/mn/tx231v5158797chnp22wm9000000gp/T/ipykernel_61094/4004665421.py:78: FutureWarning: Calling float on a single element Series is deprecated and will raise a TypeError in the future. Use float(ser.iloc[0]) instead\n",
      "  S0 = float(tail.iloc[-1])\n"
     ]
    },
    {
     "name": "stdout",
     "output_type": "stream",
     "text": [
      "  > TEJASNET.NS\n"
     ]
    },
    {
     "name": "stderr",
     "output_type": "stream",
     "text": [
      "/var/folders/mn/tx231v5158797chnp22wm9000000gp/T/ipykernel_61094/4004665421.py:76: FutureWarning: Calling float on a single element Series is deprecated and will raise a TypeError in the future. Use float(ser.iloc[0]) instead\n",
      "  mu_ann = float(log_ret.mean()) * TRADING_DAYS\n",
      "/var/folders/mn/tx231v5158797chnp22wm9000000gp/T/ipykernel_61094/4004665421.py:77: FutureWarning: Calling float on a single element Series is deprecated and will raise a TypeError in the future. Use float(ser.iloc[0]) instead\n",
      "  sigma_ann = float(log_ret.std(ddof=1)) * math.sqrt(TRADING_DAYS)\n",
      "/var/folders/mn/tx231v5158797chnp22wm9000000gp/T/ipykernel_61094/4004665421.py:78: FutureWarning: Calling float on a single element Series is deprecated and will raise a TypeError in the future. Use float(ser.iloc[0]) instead\n",
      "  S0 = float(tail.iloc[-1])\n"
     ]
    },
    {
     "name": "stdout",
     "output_type": "stream",
     "text": [
      "  > NIACL.NS\n"
     ]
    },
    {
     "name": "stderr",
     "output_type": "stream",
     "text": [
      "/var/folders/mn/tx231v5158797chnp22wm9000000gp/T/ipykernel_61094/4004665421.py:76: FutureWarning: Calling float on a single element Series is deprecated and will raise a TypeError in the future. Use float(ser.iloc[0]) instead\n",
      "  mu_ann = float(log_ret.mean()) * TRADING_DAYS\n",
      "/var/folders/mn/tx231v5158797chnp22wm9000000gp/T/ipykernel_61094/4004665421.py:77: FutureWarning: Calling float on a single element Series is deprecated and will raise a TypeError in the future. Use float(ser.iloc[0]) instead\n",
      "  sigma_ann = float(log_ret.std(ddof=1)) * math.sqrt(TRADING_DAYS)\n",
      "/var/folders/mn/tx231v5158797chnp22wm9000000gp/T/ipykernel_61094/4004665421.py:78: FutureWarning: Calling float on a single element Series is deprecated and will raise a TypeError in the future. Use float(ser.iloc[0]) instead\n",
      "  S0 = float(tail.iloc[-1])\n"
     ]
    },
    {
     "name": "stdout",
     "output_type": "stream",
     "text": [
      "  > RAMCOCEM.NS\n"
     ]
    },
    {
     "name": "stderr",
     "output_type": "stream",
     "text": [
      "/var/folders/mn/tx231v5158797chnp22wm9000000gp/T/ipykernel_61094/4004665421.py:76: FutureWarning: Calling float on a single element Series is deprecated and will raise a TypeError in the future. Use float(ser.iloc[0]) instead\n",
      "  mu_ann = float(log_ret.mean()) * TRADING_DAYS\n",
      "/var/folders/mn/tx231v5158797chnp22wm9000000gp/T/ipykernel_61094/4004665421.py:77: FutureWarning: Calling float on a single element Series is deprecated and will raise a TypeError in the future. Use float(ser.iloc[0]) instead\n",
      "  sigma_ann = float(log_ret.std(ddof=1)) * math.sqrt(TRADING_DAYS)\n",
      "/var/folders/mn/tx231v5158797chnp22wm9000000gp/T/ipykernel_61094/4004665421.py:78: FutureWarning: Calling float on a single element Series is deprecated and will raise a TypeError in the future. Use float(ser.iloc[0]) instead\n",
      "  S0 = float(tail.iloc[-1])\n"
     ]
    },
    {
     "name": "stdout",
     "output_type": "stream",
     "text": [
      "  > THERMAX.NS\n"
     ]
    },
    {
     "name": "stderr",
     "output_type": "stream",
     "text": [
      "/var/folders/mn/tx231v5158797chnp22wm9000000gp/T/ipykernel_61094/4004665421.py:76: FutureWarning: Calling float on a single element Series is deprecated and will raise a TypeError in the future. Use float(ser.iloc[0]) instead\n",
      "  mu_ann = float(log_ret.mean()) * TRADING_DAYS\n",
      "/var/folders/mn/tx231v5158797chnp22wm9000000gp/T/ipykernel_61094/4004665421.py:77: FutureWarning: Calling float on a single element Series is deprecated and will raise a TypeError in the future. Use float(ser.iloc[0]) instead\n",
      "  sigma_ann = float(log_ret.std(ddof=1)) * math.sqrt(TRADING_DAYS)\n",
      "/var/folders/mn/tx231v5158797chnp22wm9000000gp/T/ipykernel_61094/4004665421.py:78: FutureWarning: Calling float on a single element Series is deprecated and will raise a TypeError in the future. Use float(ser.iloc[0]) instead\n",
      "  S0 = float(tail.iloc[-1])\n"
     ]
    },
    {
     "name": "stdout",
     "output_type": "stream",
     "text": [
      "  > TIMKEN.NS\n"
     ]
    },
    {
     "name": "stderr",
     "output_type": "stream",
     "text": [
      "/var/folders/mn/tx231v5158797chnp22wm9000000gp/T/ipykernel_61094/4004665421.py:76: FutureWarning: Calling float on a single element Series is deprecated and will raise a TypeError in the future. Use float(ser.iloc[0]) instead\n",
      "  mu_ann = float(log_ret.mean()) * TRADING_DAYS\n",
      "/var/folders/mn/tx231v5158797chnp22wm9000000gp/T/ipykernel_61094/4004665421.py:77: FutureWarning: Calling float on a single element Series is deprecated and will raise a TypeError in the future. Use float(ser.iloc[0]) instead\n",
      "  sigma_ann = float(log_ret.std(ddof=1)) * math.sqrt(TRADING_DAYS)\n",
      "/var/folders/mn/tx231v5158797chnp22wm9000000gp/T/ipykernel_61094/4004665421.py:78: FutureWarning: Calling float on a single element Series is deprecated and will raise a TypeError in the future. Use float(ser.iloc[0]) instead\n",
      "  S0 = float(tail.iloc[-1])\n"
     ]
    },
    {
     "name": "stdout",
     "output_type": "stream",
     "text": [
      "  > TITAGARH.NS\n"
     ]
    },
    {
     "name": "stderr",
     "output_type": "stream",
     "text": [
      "/var/folders/mn/tx231v5158797chnp22wm9000000gp/T/ipykernel_61094/4004665421.py:76: FutureWarning: Calling float on a single element Series is deprecated and will raise a TypeError in the future. Use float(ser.iloc[0]) instead\n",
      "  mu_ann = float(log_ret.mean()) * TRADING_DAYS\n",
      "/var/folders/mn/tx231v5158797chnp22wm9000000gp/T/ipykernel_61094/4004665421.py:77: FutureWarning: Calling float on a single element Series is deprecated and will raise a TypeError in the future. Use float(ser.iloc[0]) instead\n",
      "  sigma_ann = float(log_ret.std(ddof=1)) * math.sqrt(TRADING_DAYS)\n",
      "/var/folders/mn/tx231v5158797chnp22wm9000000gp/T/ipykernel_61094/4004665421.py:78: FutureWarning: Calling float on a single element Series is deprecated and will raise a TypeError in the future. Use float(ser.iloc[0]) instead\n",
      "  S0 = float(tail.iloc[-1])\n"
     ]
    },
    {
     "name": "stdout",
     "output_type": "stream",
     "text": [
      "  > TITAN.NS\n"
     ]
    },
    {
     "name": "stderr",
     "output_type": "stream",
     "text": [
      "/var/folders/mn/tx231v5158797chnp22wm9000000gp/T/ipykernel_61094/4004665421.py:76: FutureWarning: Calling float on a single element Series is deprecated and will raise a TypeError in the future. Use float(ser.iloc[0]) instead\n",
      "  mu_ann = float(log_ret.mean()) * TRADING_DAYS\n",
      "/var/folders/mn/tx231v5158797chnp22wm9000000gp/T/ipykernel_61094/4004665421.py:77: FutureWarning: Calling float on a single element Series is deprecated and will raise a TypeError in the future. Use float(ser.iloc[0]) instead\n",
      "  sigma_ann = float(log_ret.std(ddof=1)) * math.sqrt(TRADING_DAYS)\n",
      "/var/folders/mn/tx231v5158797chnp22wm9000000gp/T/ipykernel_61094/4004665421.py:78: FutureWarning: Calling float on a single element Series is deprecated and will raise a TypeError in the future. Use float(ser.iloc[0]) instead\n",
      "  S0 = float(tail.iloc[-1])\n"
     ]
    },
    {
     "name": "stdout",
     "output_type": "stream",
     "text": [
      "  > TORNTPHARM.NS\n"
     ]
    },
    {
     "name": "stderr",
     "output_type": "stream",
     "text": [
      "/var/folders/mn/tx231v5158797chnp22wm9000000gp/T/ipykernel_61094/4004665421.py:76: FutureWarning: Calling float on a single element Series is deprecated and will raise a TypeError in the future. Use float(ser.iloc[0]) instead\n",
      "  mu_ann = float(log_ret.mean()) * TRADING_DAYS\n",
      "/var/folders/mn/tx231v5158797chnp22wm9000000gp/T/ipykernel_61094/4004665421.py:77: FutureWarning: Calling float on a single element Series is deprecated and will raise a TypeError in the future. Use float(ser.iloc[0]) instead\n",
      "  sigma_ann = float(log_ret.std(ddof=1)) * math.sqrt(TRADING_DAYS)\n",
      "/var/folders/mn/tx231v5158797chnp22wm9000000gp/T/ipykernel_61094/4004665421.py:78: FutureWarning: Calling float on a single element Series is deprecated and will raise a TypeError in the future. Use float(ser.iloc[0]) instead\n",
      "  S0 = float(tail.iloc[-1])\n"
     ]
    },
    {
     "name": "stdout",
     "output_type": "stream",
     "text": [
      "  > TORNTPOWER.NS\n"
     ]
    },
    {
     "name": "stderr",
     "output_type": "stream",
     "text": [
      "/var/folders/mn/tx231v5158797chnp22wm9000000gp/T/ipykernel_61094/4004665421.py:76: FutureWarning: Calling float on a single element Series is deprecated and will raise a TypeError in the future. Use float(ser.iloc[0]) instead\n",
      "  mu_ann = float(log_ret.mean()) * TRADING_DAYS\n",
      "/var/folders/mn/tx231v5158797chnp22wm9000000gp/T/ipykernel_61094/4004665421.py:77: FutureWarning: Calling float on a single element Series is deprecated and will raise a TypeError in the future. Use float(ser.iloc[0]) instead\n",
      "  sigma_ann = float(log_ret.std(ddof=1)) * math.sqrt(TRADING_DAYS)\n",
      "/var/folders/mn/tx231v5158797chnp22wm9000000gp/T/ipykernel_61094/4004665421.py:78: FutureWarning: Calling float on a single element Series is deprecated and will raise a TypeError in the future. Use float(ser.iloc[0]) instead\n",
      "  S0 = float(tail.iloc[-1])\n"
     ]
    },
    {
     "name": "stdout",
     "output_type": "stream",
     "text": [
      "  > TARIL.NS\n"
     ]
    },
    {
     "name": "stderr",
     "output_type": "stream",
     "text": [
      "/var/folders/mn/tx231v5158797chnp22wm9000000gp/T/ipykernel_61094/4004665421.py:76: FutureWarning: Calling float on a single element Series is deprecated and will raise a TypeError in the future. Use float(ser.iloc[0]) instead\n",
      "  mu_ann = float(log_ret.mean()) * TRADING_DAYS\n",
      "/var/folders/mn/tx231v5158797chnp22wm9000000gp/T/ipykernel_61094/4004665421.py:77: FutureWarning: Calling float on a single element Series is deprecated and will raise a TypeError in the future. Use float(ser.iloc[0]) instead\n",
      "  sigma_ann = float(log_ret.std(ddof=1)) * math.sqrt(TRADING_DAYS)\n",
      "/var/folders/mn/tx231v5158797chnp22wm9000000gp/T/ipykernel_61094/4004665421.py:78: FutureWarning: Calling float on a single element Series is deprecated and will raise a TypeError in the future. Use float(ser.iloc[0]) instead\n",
      "  S0 = float(tail.iloc[-1])\n"
     ]
    },
    {
     "name": "stdout",
     "output_type": "stream",
     "text": [
      "  > TRENT.NS\n"
     ]
    },
    {
     "name": "stderr",
     "output_type": "stream",
     "text": [
      "/var/folders/mn/tx231v5158797chnp22wm9000000gp/T/ipykernel_61094/4004665421.py:76: FutureWarning: Calling float on a single element Series is deprecated and will raise a TypeError in the future. Use float(ser.iloc[0]) instead\n",
      "  mu_ann = float(log_ret.mean()) * TRADING_DAYS\n",
      "/var/folders/mn/tx231v5158797chnp22wm9000000gp/T/ipykernel_61094/4004665421.py:77: FutureWarning: Calling float on a single element Series is deprecated and will raise a TypeError in the future. Use float(ser.iloc[0]) instead\n",
      "  sigma_ann = float(log_ret.std(ddof=1)) * math.sqrt(TRADING_DAYS)\n",
      "/var/folders/mn/tx231v5158797chnp22wm9000000gp/T/ipykernel_61094/4004665421.py:78: FutureWarning: Calling float on a single element Series is deprecated and will raise a TypeError in the future. Use float(ser.iloc[0]) instead\n",
      "  S0 = float(tail.iloc[-1])\n"
     ]
    },
    {
     "name": "stdout",
     "output_type": "stream",
     "text": [
      "  > TRIDENT.NS\n"
     ]
    },
    {
     "name": "stderr",
     "output_type": "stream",
     "text": [
      "/var/folders/mn/tx231v5158797chnp22wm9000000gp/T/ipykernel_61094/4004665421.py:76: FutureWarning: Calling float on a single element Series is deprecated and will raise a TypeError in the future. Use float(ser.iloc[0]) instead\n",
      "  mu_ann = float(log_ret.mean()) * TRADING_DAYS\n",
      "/var/folders/mn/tx231v5158797chnp22wm9000000gp/T/ipykernel_61094/4004665421.py:77: FutureWarning: Calling float on a single element Series is deprecated and will raise a TypeError in the future. Use float(ser.iloc[0]) instead\n",
      "  sigma_ann = float(log_ret.std(ddof=1)) * math.sqrt(TRADING_DAYS)\n",
      "/var/folders/mn/tx231v5158797chnp22wm9000000gp/T/ipykernel_61094/4004665421.py:78: FutureWarning: Calling float on a single element Series is deprecated and will raise a TypeError in the future. Use float(ser.iloc[0]) instead\n",
      "  S0 = float(tail.iloc[-1])\n"
     ]
    },
    {
     "name": "stdout",
     "output_type": "stream",
     "text": [
      "  > TRIVENI.NS\n"
     ]
    },
    {
     "name": "stderr",
     "output_type": "stream",
     "text": [
      "/var/folders/mn/tx231v5158797chnp22wm9000000gp/T/ipykernel_61094/4004665421.py:76: FutureWarning: Calling float on a single element Series is deprecated and will raise a TypeError in the future. Use float(ser.iloc[0]) instead\n",
      "  mu_ann = float(log_ret.mean()) * TRADING_DAYS\n",
      "/var/folders/mn/tx231v5158797chnp22wm9000000gp/T/ipykernel_61094/4004665421.py:77: FutureWarning: Calling float on a single element Series is deprecated and will raise a TypeError in the future. Use float(ser.iloc[0]) instead\n",
      "  sigma_ann = float(log_ret.std(ddof=1)) * math.sqrt(TRADING_DAYS)\n",
      "/var/folders/mn/tx231v5158797chnp22wm9000000gp/T/ipykernel_61094/4004665421.py:78: FutureWarning: Calling float on a single element Series is deprecated and will raise a TypeError in the future. Use float(ser.iloc[0]) instead\n",
      "  S0 = float(tail.iloc[-1])\n"
     ]
    },
    {
     "name": "stdout",
     "output_type": "stream",
     "text": [
      "  > TRITURBINE.NS\n"
     ]
    },
    {
     "name": "stderr",
     "output_type": "stream",
     "text": [
      "/var/folders/mn/tx231v5158797chnp22wm9000000gp/T/ipykernel_61094/4004665421.py:76: FutureWarning: Calling float on a single element Series is deprecated and will raise a TypeError in the future. Use float(ser.iloc[0]) instead\n",
      "  mu_ann = float(log_ret.mean()) * TRADING_DAYS\n",
      "/var/folders/mn/tx231v5158797chnp22wm9000000gp/T/ipykernel_61094/4004665421.py:77: FutureWarning: Calling float on a single element Series is deprecated and will raise a TypeError in the future. Use float(ser.iloc[0]) instead\n",
      "  sigma_ann = float(log_ret.std(ddof=1)) * math.sqrt(TRADING_DAYS)\n",
      "/var/folders/mn/tx231v5158797chnp22wm9000000gp/T/ipykernel_61094/4004665421.py:78: FutureWarning: Calling float on a single element Series is deprecated and will raise a TypeError in the future. Use float(ser.iloc[0]) instead\n",
      "  S0 = float(tail.iloc[-1])\n"
     ]
    },
    {
     "name": "stdout",
     "output_type": "stream",
     "text": [
      "  > TIINDIA.NS\n"
     ]
    },
    {
     "name": "stderr",
     "output_type": "stream",
     "text": [
      "/var/folders/mn/tx231v5158797chnp22wm9000000gp/T/ipykernel_61094/4004665421.py:76: FutureWarning: Calling float on a single element Series is deprecated and will raise a TypeError in the future. Use float(ser.iloc[0]) instead\n",
      "  mu_ann = float(log_ret.mean()) * TRADING_DAYS\n",
      "/var/folders/mn/tx231v5158797chnp22wm9000000gp/T/ipykernel_61094/4004665421.py:77: FutureWarning: Calling float on a single element Series is deprecated and will raise a TypeError in the future. Use float(ser.iloc[0]) instead\n",
      "  sigma_ann = float(log_ret.std(ddof=1)) * math.sqrt(TRADING_DAYS)\n",
      "/var/folders/mn/tx231v5158797chnp22wm9000000gp/T/ipykernel_61094/4004665421.py:78: FutureWarning: Calling float on a single element Series is deprecated and will raise a TypeError in the future. Use float(ser.iloc[0]) instead\n",
      "  S0 = float(tail.iloc[-1])\n"
     ]
    },
    {
     "name": "stdout",
     "output_type": "stream",
     "text": [
      "  > UCOBANK.NS\n"
     ]
    },
    {
     "name": "stderr",
     "output_type": "stream",
     "text": [
      "/var/folders/mn/tx231v5158797chnp22wm9000000gp/T/ipykernel_61094/4004665421.py:76: FutureWarning: Calling float on a single element Series is deprecated and will raise a TypeError in the future. Use float(ser.iloc[0]) instead\n",
      "  mu_ann = float(log_ret.mean()) * TRADING_DAYS\n",
      "/var/folders/mn/tx231v5158797chnp22wm9000000gp/T/ipykernel_61094/4004665421.py:77: FutureWarning: Calling float on a single element Series is deprecated and will raise a TypeError in the future. Use float(ser.iloc[0]) instead\n",
      "  sigma_ann = float(log_ret.std(ddof=1)) * math.sqrt(TRADING_DAYS)\n",
      "/var/folders/mn/tx231v5158797chnp22wm9000000gp/T/ipykernel_61094/4004665421.py:78: FutureWarning: Calling float on a single element Series is deprecated and will raise a TypeError in the future. Use float(ser.iloc[0]) instead\n",
      "  S0 = float(tail.iloc[-1])\n"
     ]
    },
    {
     "name": "stdout",
     "output_type": "stream",
     "text": [
      "  > UNOMINDA.NS\n"
     ]
    },
    {
     "name": "stderr",
     "output_type": "stream",
     "text": [
      "/var/folders/mn/tx231v5158797chnp22wm9000000gp/T/ipykernel_61094/4004665421.py:76: FutureWarning: Calling float on a single element Series is deprecated and will raise a TypeError in the future. Use float(ser.iloc[0]) instead\n",
      "  mu_ann = float(log_ret.mean()) * TRADING_DAYS\n",
      "/var/folders/mn/tx231v5158797chnp22wm9000000gp/T/ipykernel_61094/4004665421.py:77: FutureWarning: Calling float on a single element Series is deprecated and will raise a TypeError in the future. Use float(ser.iloc[0]) instead\n",
      "  sigma_ann = float(log_ret.std(ddof=1)) * math.sqrt(TRADING_DAYS)\n",
      "/var/folders/mn/tx231v5158797chnp22wm9000000gp/T/ipykernel_61094/4004665421.py:78: FutureWarning: Calling float on a single element Series is deprecated and will raise a TypeError in the future. Use float(ser.iloc[0]) instead\n",
      "  S0 = float(tail.iloc[-1])\n"
     ]
    },
    {
     "name": "stdout",
     "output_type": "stream",
     "text": [
      "  > UPL.NS\n"
     ]
    },
    {
     "name": "stderr",
     "output_type": "stream",
     "text": [
      "/var/folders/mn/tx231v5158797chnp22wm9000000gp/T/ipykernel_61094/4004665421.py:76: FutureWarning: Calling float on a single element Series is deprecated and will raise a TypeError in the future. Use float(ser.iloc[0]) instead\n",
      "  mu_ann = float(log_ret.mean()) * TRADING_DAYS\n",
      "/var/folders/mn/tx231v5158797chnp22wm9000000gp/T/ipykernel_61094/4004665421.py:77: FutureWarning: Calling float on a single element Series is deprecated and will raise a TypeError in the future. Use float(ser.iloc[0]) instead\n",
      "  sigma_ann = float(log_ret.std(ddof=1)) * math.sqrt(TRADING_DAYS)\n",
      "/var/folders/mn/tx231v5158797chnp22wm9000000gp/T/ipykernel_61094/4004665421.py:78: FutureWarning: Calling float on a single element Series is deprecated and will raise a TypeError in the future. Use float(ser.iloc[0]) instead\n",
      "  S0 = float(tail.iloc[-1])\n"
     ]
    },
    {
     "name": "stdout",
     "output_type": "stream",
     "text": [
      "  > UTIAMC.NS\n"
     ]
    },
    {
     "name": "stderr",
     "output_type": "stream",
     "text": [
      "/var/folders/mn/tx231v5158797chnp22wm9000000gp/T/ipykernel_61094/4004665421.py:76: FutureWarning: Calling float on a single element Series is deprecated and will raise a TypeError in the future. Use float(ser.iloc[0]) instead\n",
      "  mu_ann = float(log_ret.mean()) * TRADING_DAYS\n",
      "/var/folders/mn/tx231v5158797chnp22wm9000000gp/T/ipykernel_61094/4004665421.py:77: FutureWarning: Calling float on a single element Series is deprecated and will raise a TypeError in the future. Use float(ser.iloc[0]) instead\n",
      "  sigma_ann = float(log_ret.std(ddof=1)) * math.sqrt(TRADING_DAYS)\n",
      "/var/folders/mn/tx231v5158797chnp22wm9000000gp/T/ipykernel_61094/4004665421.py:78: FutureWarning: Calling float on a single element Series is deprecated and will raise a TypeError in the future. Use float(ser.iloc[0]) instead\n",
      "  S0 = float(tail.iloc[-1])\n"
     ]
    },
    {
     "name": "stdout",
     "output_type": "stream",
     "text": [
      "  > ULTRACEMCO.NS\n"
     ]
    },
    {
     "name": "stderr",
     "output_type": "stream",
     "text": [
      "/var/folders/mn/tx231v5158797chnp22wm9000000gp/T/ipykernel_61094/4004665421.py:76: FutureWarning: Calling float on a single element Series is deprecated and will raise a TypeError in the future. Use float(ser.iloc[0]) instead\n",
      "  mu_ann = float(log_ret.mean()) * TRADING_DAYS\n",
      "/var/folders/mn/tx231v5158797chnp22wm9000000gp/T/ipykernel_61094/4004665421.py:77: FutureWarning: Calling float on a single element Series is deprecated and will raise a TypeError in the future. Use float(ser.iloc[0]) instead\n",
      "  sigma_ann = float(log_ret.std(ddof=1)) * math.sqrt(TRADING_DAYS)\n",
      "/var/folders/mn/tx231v5158797chnp22wm9000000gp/T/ipykernel_61094/4004665421.py:78: FutureWarning: Calling float on a single element Series is deprecated and will raise a TypeError in the future. Use float(ser.iloc[0]) instead\n",
      "  S0 = float(tail.iloc[-1])\n"
     ]
    },
    {
     "name": "stdout",
     "output_type": "stream",
     "text": [
      "  > UNIONBANK.NS\n"
     ]
    },
    {
     "name": "stderr",
     "output_type": "stream",
     "text": [
      "/var/folders/mn/tx231v5158797chnp22wm9000000gp/T/ipykernel_61094/4004665421.py:76: FutureWarning: Calling float on a single element Series is deprecated and will raise a TypeError in the future. Use float(ser.iloc[0]) instead\n",
      "  mu_ann = float(log_ret.mean()) * TRADING_DAYS\n",
      "/var/folders/mn/tx231v5158797chnp22wm9000000gp/T/ipykernel_61094/4004665421.py:77: FutureWarning: Calling float on a single element Series is deprecated and will raise a TypeError in the future. Use float(ser.iloc[0]) instead\n",
      "  sigma_ann = float(log_ret.std(ddof=1)) * math.sqrt(TRADING_DAYS)\n",
      "/var/folders/mn/tx231v5158797chnp22wm9000000gp/T/ipykernel_61094/4004665421.py:78: FutureWarning: Calling float on a single element Series is deprecated and will raise a TypeError in the future. Use float(ser.iloc[0]) instead\n",
      "  S0 = float(tail.iloc[-1])\n"
     ]
    },
    {
     "name": "stdout",
     "output_type": "stream",
     "text": [
      "  > UBL.NS\n"
     ]
    },
    {
     "name": "stderr",
     "output_type": "stream",
     "text": [
      "/var/folders/mn/tx231v5158797chnp22wm9000000gp/T/ipykernel_61094/4004665421.py:76: FutureWarning: Calling float on a single element Series is deprecated and will raise a TypeError in the future. Use float(ser.iloc[0]) instead\n",
      "  mu_ann = float(log_ret.mean()) * TRADING_DAYS\n",
      "/var/folders/mn/tx231v5158797chnp22wm9000000gp/T/ipykernel_61094/4004665421.py:77: FutureWarning: Calling float on a single element Series is deprecated and will raise a TypeError in the future. Use float(ser.iloc[0]) instead\n",
      "  sigma_ann = float(log_ret.std(ddof=1)) * math.sqrt(TRADING_DAYS)\n",
      "/var/folders/mn/tx231v5158797chnp22wm9000000gp/T/ipykernel_61094/4004665421.py:78: FutureWarning: Calling float on a single element Series is deprecated and will raise a TypeError in the future. Use float(ser.iloc[0]) instead\n",
      "  S0 = float(tail.iloc[-1])\n"
     ]
    },
    {
     "name": "stdout",
     "output_type": "stream",
     "text": [
      "  > UNITDSPR.NS\n"
     ]
    },
    {
     "name": "stderr",
     "output_type": "stream",
     "text": [
      "/var/folders/mn/tx231v5158797chnp22wm9000000gp/T/ipykernel_61094/4004665421.py:76: FutureWarning: Calling float on a single element Series is deprecated and will raise a TypeError in the future. Use float(ser.iloc[0]) instead\n",
      "  mu_ann = float(log_ret.mean()) * TRADING_DAYS\n",
      "/var/folders/mn/tx231v5158797chnp22wm9000000gp/T/ipykernel_61094/4004665421.py:77: FutureWarning: Calling float on a single element Series is deprecated and will raise a TypeError in the future. Use float(ser.iloc[0]) instead\n",
      "  sigma_ann = float(log_ret.std(ddof=1)) * math.sqrt(TRADING_DAYS)\n",
      "/var/folders/mn/tx231v5158797chnp22wm9000000gp/T/ipykernel_61094/4004665421.py:78: FutureWarning: Calling float on a single element Series is deprecated and will raise a TypeError in the future. Use float(ser.iloc[0]) instead\n",
      "  S0 = float(tail.iloc[-1])\n"
     ]
    },
    {
     "name": "stdout",
     "output_type": "stream",
     "text": [
      "  > USHAMART.NS\n"
     ]
    },
    {
     "name": "stderr",
     "output_type": "stream",
     "text": [
      "/var/folders/mn/tx231v5158797chnp22wm9000000gp/T/ipykernel_61094/4004665421.py:76: FutureWarning: Calling float on a single element Series is deprecated and will raise a TypeError in the future. Use float(ser.iloc[0]) instead\n",
      "  mu_ann = float(log_ret.mean()) * TRADING_DAYS\n",
      "/var/folders/mn/tx231v5158797chnp22wm9000000gp/T/ipykernel_61094/4004665421.py:77: FutureWarning: Calling float on a single element Series is deprecated and will raise a TypeError in the future. Use float(ser.iloc[0]) instead\n",
      "  sigma_ann = float(log_ret.std(ddof=1)) * math.sqrt(TRADING_DAYS)\n",
      "/var/folders/mn/tx231v5158797chnp22wm9000000gp/T/ipykernel_61094/4004665421.py:78: FutureWarning: Calling float on a single element Series is deprecated and will raise a TypeError in the future. Use float(ser.iloc[0]) instead\n",
      "  S0 = float(tail.iloc[-1])\n"
     ]
    },
    {
     "name": "stdout",
     "output_type": "stream",
     "text": [
      "  > VGUARD.NS\n"
     ]
    },
    {
     "name": "stderr",
     "output_type": "stream",
     "text": [
      "/var/folders/mn/tx231v5158797chnp22wm9000000gp/T/ipykernel_61094/4004665421.py:76: FutureWarning: Calling float on a single element Series is deprecated and will raise a TypeError in the future. Use float(ser.iloc[0]) instead\n",
      "  mu_ann = float(log_ret.mean()) * TRADING_DAYS\n",
      "/var/folders/mn/tx231v5158797chnp22wm9000000gp/T/ipykernel_61094/4004665421.py:77: FutureWarning: Calling float on a single element Series is deprecated and will raise a TypeError in the future. Use float(ser.iloc[0]) instead\n",
      "  sigma_ann = float(log_ret.std(ddof=1)) * math.sqrt(TRADING_DAYS)\n",
      "/var/folders/mn/tx231v5158797chnp22wm9000000gp/T/ipykernel_61094/4004665421.py:78: FutureWarning: Calling float on a single element Series is deprecated and will raise a TypeError in the future. Use float(ser.iloc[0]) instead\n",
      "  S0 = float(tail.iloc[-1])\n"
     ]
    },
    {
     "name": "stdout",
     "output_type": "stream",
     "text": [
      "  > DBREALTY.NS\n"
     ]
    },
    {
     "name": "stderr",
     "output_type": "stream",
     "text": [
      "/var/folders/mn/tx231v5158797chnp22wm9000000gp/T/ipykernel_61094/4004665421.py:76: FutureWarning: Calling float on a single element Series is deprecated and will raise a TypeError in the future. Use float(ser.iloc[0]) instead\n",
      "  mu_ann = float(log_ret.mean()) * TRADING_DAYS\n",
      "/var/folders/mn/tx231v5158797chnp22wm9000000gp/T/ipykernel_61094/4004665421.py:77: FutureWarning: Calling float on a single element Series is deprecated and will raise a TypeError in the future. Use float(ser.iloc[0]) instead\n",
      "  sigma_ann = float(log_ret.std(ddof=1)) * math.sqrt(TRADING_DAYS)\n",
      "/var/folders/mn/tx231v5158797chnp22wm9000000gp/T/ipykernel_61094/4004665421.py:78: FutureWarning: Calling float on a single element Series is deprecated and will raise a TypeError in the future. Use float(ser.iloc[0]) instead\n",
      "  S0 = float(tail.iloc[-1])\n"
     ]
    },
    {
     "name": "stdout",
     "output_type": "stream",
     "text": [
      "  > VTL.NS\n"
     ]
    },
    {
     "name": "stderr",
     "output_type": "stream",
     "text": [
      "/var/folders/mn/tx231v5158797chnp22wm9000000gp/T/ipykernel_61094/4004665421.py:76: FutureWarning: Calling float on a single element Series is deprecated and will raise a TypeError in the future. Use float(ser.iloc[0]) instead\n",
      "  mu_ann = float(log_ret.mean()) * TRADING_DAYS\n",
      "/var/folders/mn/tx231v5158797chnp22wm9000000gp/T/ipykernel_61094/4004665421.py:77: FutureWarning: Calling float on a single element Series is deprecated and will raise a TypeError in the future. Use float(ser.iloc[0]) instead\n",
      "  sigma_ann = float(log_ret.std(ddof=1)) * math.sqrt(TRADING_DAYS)\n",
      "/var/folders/mn/tx231v5158797chnp22wm9000000gp/T/ipykernel_61094/4004665421.py:78: FutureWarning: Calling float on a single element Series is deprecated and will raise a TypeError in the future. Use float(ser.iloc[0]) instead\n",
      "  S0 = float(tail.iloc[-1])\n"
     ]
    },
    {
     "name": "stdout",
     "output_type": "stream",
     "text": [
      "  > VBL.NS\n"
     ]
    },
    {
     "name": "stderr",
     "output_type": "stream",
     "text": [
      "/var/folders/mn/tx231v5158797chnp22wm9000000gp/T/ipykernel_61094/4004665421.py:76: FutureWarning: Calling float on a single element Series is deprecated and will raise a TypeError in the future. Use float(ser.iloc[0]) instead\n",
      "  mu_ann = float(log_ret.mean()) * TRADING_DAYS\n",
      "/var/folders/mn/tx231v5158797chnp22wm9000000gp/T/ipykernel_61094/4004665421.py:77: FutureWarning: Calling float on a single element Series is deprecated and will raise a TypeError in the future. Use float(ser.iloc[0]) instead\n",
      "  sigma_ann = float(log_ret.std(ddof=1)) * math.sqrt(TRADING_DAYS)\n",
      "/var/folders/mn/tx231v5158797chnp22wm9000000gp/T/ipykernel_61094/4004665421.py:78: FutureWarning: Calling float on a single element Series is deprecated and will raise a TypeError in the future. Use float(ser.iloc[0]) instead\n",
      "  S0 = float(tail.iloc[-1])\n"
     ]
    },
    {
     "name": "stdout",
     "output_type": "stream",
     "text": [
      "  > MANYAVAR.NS\n"
     ]
    },
    {
     "name": "stderr",
     "output_type": "stream",
     "text": [
      "/var/folders/mn/tx231v5158797chnp22wm9000000gp/T/ipykernel_61094/4004665421.py:76: FutureWarning: Calling float on a single element Series is deprecated and will raise a TypeError in the future. Use float(ser.iloc[0]) instead\n",
      "  mu_ann = float(log_ret.mean()) * TRADING_DAYS\n",
      "/var/folders/mn/tx231v5158797chnp22wm9000000gp/T/ipykernel_61094/4004665421.py:77: FutureWarning: Calling float on a single element Series is deprecated and will raise a TypeError in the future. Use float(ser.iloc[0]) instead\n",
      "  sigma_ann = float(log_ret.std(ddof=1)) * math.sqrt(TRADING_DAYS)\n",
      "/var/folders/mn/tx231v5158797chnp22wm9000000gp/T/ipykernel_61094/4004665421.py:78: FutureWarning: Calling float on a single element Series is deprecated and will raise a TypeError in the future. Use float(ser.iloc[0]) instead\n",
      "  S0 = float(tail.iloc[-1])\n"
     ]
    },
    {
     "name": "stdout",
     "output_type": "stream",
     "text": [
      "  > VEDL.NS\n"
     ]
    },
    {
     "name": "stderr",
     "output_type": "stream",
     "text": [
      "/var/folders/mn/tx231v5158797chnp22wm9000000gp/T/ipykernel_61094/4004665421.py:76: FutureWarning: Calling float on a single element Series is deprecated and will raise a TypeError in the future. Use float(ser.iloc[0]) instead\n",
      "  mu_ann = float(log_ret.mean()) * TRADING_DAYS\n",
      "/var/folders/mn/tx231v5158797chnp22wm9000000gp/T/ipykernel_61094/4004665421.py:77: FutureWarning: Calling float on a single element Series is deprecated and will raise a TypeError in the future. Use float(ser.iloc[0]) instead\n",
      "  sigma_ann = float(log_ret.std(ddof=1)) * math.sqrt(TRADING_DAYS)\n",
      "/var/folders/mn/tx231v5158797chnp22wm9000000gp/T/ipykernel_61094/4004665421.py:78: FutureWarning: Calling float on a single element Series is deprecated and will raise a TypeError in the future. Use float(ser.iloc[0]) instead\n",
      "  S0 = float(tail.iloc[-1])\n"
     ]
    },
    {
     "name": "stdout",
     "output_type": "stream",
     "text": [
      "  > VIJAYA.NS\n"
     ]
    },
    {
     "name": "stderr",
     "output_type": "stream",
     "text": [
      "/var/folders/mn/tx231v5158797chnp22wm9000000gp/T/ipykernel_61094/4004665421.py:76: FutureWarning: Calling float on a single element Series is deprecated and will raise a TypeError in the future. Use float(ser.iloc[0]) instead\n",
      "  mu_ann = float(log_ret.mean()) * TRADING_DAYS\n",
      "/var/folders/mn/tx231v5158797chnp22wm9000000gp/T/ipykernel_61094/4004665421.py:77: FutureWarning: Calling float on a single element Series is deprecated and will raise a TypeError in the future. Use float(ser.iloc[0]) instead\n",
      "  sigma_ann = float(log_ret.std(ddof=1)) * math.sqrt(TRADING_DAYS)\n",
      "/var/folders/mn/tx231v5158797chnp22wm9000000gp/T/ipykernel_61094/4004665421.py:78: FutureWarning: Calling float on a single element Series is deprecated and will raise a TypeError in the future. Use float(ser.iloc[0]) instead\n",
      "  S0 = float(tail.iloc[-1])\n"
     ]
    },
    {
     "name": "stdout",
     "output_type": "stream",
     "text": [
      "  > VMM.NS\n"
     ]
    },
    {
     "name": "stderr",
     "output_type": "stream",
     "text": [
      "/var/folders/mn/tx231v5158797chnp22wm9000000gp/T/ipykernel_61094/4004665421.py:76: FutureWarning: Calling float on a single element Series is deprecated and will raise a TypeError in the future. Use float(ser.iloc[0]) instead\n",
      "  mu_ann = float(log_ret.mean()) * TRADING_DAYS\n",
      "/var/folders/mn/tx231v5158797chnp22wm9000000gp/T/ipykernel_61094/4004665421.py:77: FutureWarning: Calling float on a single element Series is deprecated and will raise a TypeError in the future. Use float(ser.iloc[0]) instead\n",
      "  sigma_ann = float(log_ret.std(ddof=1)) * math.sqrt(TRADING_DAYS)\n",
      "/var/folders/mn/tx231v5158797chnp22wm9000000gp/T/ipykernel_61094/4004665421.py:78: FutureWarning: Calling float on a single element Series is deprecated and will raise a TypeError in the future. Use float(ser.iloc[0]) instead\n",
      "  S0 = float(tail.iloc[-1])\n"
     ]
    },
    {
     "name": "stdout",
     "output_type": "stream",
     "text": [
      "  > IDEA.NS\n"
     ]
    },
    {
     "name": "stderr",
     "output_type": "stream",
     "text": [
      "/var/folders/mn/tx231v5158797chnp22wm9000000gp/T/ipykernel_61094/4004665421.py:76: FutureWarning: Calling float on a single element Series is deprecated and will raise a TypeError in the future. Use float(ser.iloc[0]) instead\n",
      "  mu_ann = float(log_ret.mean()) * TRADING_DAYS\n",
      "/var/folders/mn/tx231v5158797chnp22wm9000000gp/T/ipykernel_61094/4004665421.py:77: FutureWarning: Calling float on a single element Series is deprecated and will raise a TypeError in the future. Use float(ser.iloc[0]) instead\n",
      "  sigma_ann = float(log_ret.std(ddof=1)) * math.sqrt(TRADING_DAYS)\n",
      "/var/folders/mn/tx231v5158797chnp22wm9000000gp/T/ipykernel_61094/4004665421.py:78: FutureWarning: Calling float on a single element Series is deprecated and will raise a TypeError in the future. Use float(ser.iloc[0]) instead\n",
      "  S0 = float(tail.iloc[-1])\n"
     ]
    },
    {
     "name": "stdout",
     "output_type": "stream",
     "text": [
      "  > VOLTAS.NS\n"
     ]
    },
    {
     "name": "stderr",
     "output_type": "stream",
     "text": [
      "/var/folders/mn/tx231v5158797chnp22wm9000000gp/T/ipykernel_61094/4004665421.py:76: FutureWarning: Calling float on a single element Series is deprecated and will raise a TypeError in the future. Use float(ser.iloc[0]) instead\n",
      "  mu_ann = float(log_ret.mean()) * TRADING_DAYS\n",
      "/var/folders/mn/tx231v5158797chnp22wm9000000gp/T/ipykernel_61094/4004665421.py:77: FutureWarning: Calling float on a single element Series is deprecated and will raise a TypeError in the future. Use float(ser.iloc[0]) instead\n",
      "  sigma_ann = float(log_ret.std(ddof=1)) * math.sqrt(TRADING_DAYS)\n",
      "/var/folders/mn/tx231v5158797chnp22wm9000000gp/T/ipykernel_61094/4004665421.py:78: FutureWarning: Calling float on a single element Series is deprecated and will raise a TypeError in the future. Use float(ser.iloc[0]) instead\n",
      "  S0 = float(tail.iloc[-1])\n",
      "/var/folders/mn/tx231v5158797chnp22wm9000000gp/T/ipykernel_61094/4004665421.py:76: FutureWarning: Calling float on a single element Series is deprecated and will raise a TypeError in the future. Use float(ser.iloc[0]) instead\n",
      "  mu_ann = float(log_ret.mean()) * TRADING_DAYS\n",
      "/var/folders/mn/tx231v5158797chnp22wm9000000gp/T/ipykernel_61094/4004665421.py:77: FutureWarning: Calling float on a single element Series is deprecated and will raise a TypeError in the future. Use float(ser.iloc[0]) instead\n",
      "  sigma_ann = float(log_ret.std(ddof=1)) * math.sqrt(TRADING_DAYS)\n",
      "/var/folders/mn/tx231v5158797chnp22wm9000000gp/T/ipykernel_61094/4004665421.py:78: FutureWarning: Calling float on a single element Series is deprecated and will raise a TypeError in the future. Use float(ser.iloc[0]) instead\n",
      "  S0 = float(tail.iloc[-1])\n"
     ]
    },
    {
     "name": "stdout",
     "output_type": "stream",
     "text": [
      "  > WAAREEENER.NS\n",
      "  > WELCORP.NS\n"
     ]
    },
    {
     "name": "stderr",
     "output_type": "stream",
     "text": [
      "/var/folders/mn/tx231v5158797chnp22wm9000000gp/T/ipykernel_61094/4004665421.py:76: FutureWarning: Calling float on a single element Series is deprecated and will raise a TypeError in the future. Use float(ser.iloc[0]) instead\n",
      "  mu_ann = float(log_ret.mean()) * TRADING_DAYS\n",
      "/var/folders/mn/tx231v5158797chnp22wm9000000gp/T/ipykernel_61094/4004665421.py:77: FutureWarning: Calling float on a single element Series is deprecated and will raise a TypeError in the future. Use float(ser.iloc[0]) instead\n",
      "  sigma_ann = float(log_ret.std(ddof=1)) * math.sqrt(TRADING_DAYS)\n",
      "/var/folders/mn/tx231v5158797chnp22wm9000000gp/T/ipykernel_61094/4004665421.py:78: FutureWarning: Calling float on a single element Series is deprecated and will raise a TypeError in the future. Use float(ser.iloc[0]) instead\n",
      "  S0 = float(tail.iloc[-1])\n"
     ]
    },
    {
     "name": "stdout",
     "output_type": "stream",
     "text": [
      "  > WELSPUNLIV.NS\n"
     ]
    },
    {
     "name": "stderr",
     "output_type": "stream",
     "text": [
      "/var/folders/mn/tx231v5158797chnp22wm9000000gp/T/ipykernel_61094/4004665421.py:76: FutureWarning: Calling float on a single element Series is deprecated and will raise a TypeError in the future. Use float(ser.iloc[0]) instead\n",
      "  mu_ann = float(log_ret.mean()) * TRADING_DAYS\n",
      "/var/folders/mn/tx231v5158797chnp22wm9000000gp/T/ipykernel_61094/4004665421.py:77: FutureWarning: Calling float on a single element Series is deprecated and will raise a TypeError in the future. Use float(ser.iloc[0]) instead\n",
      "  sigma_ann = float(log_ret.std(ddof=1)) * math.sqrt(TRADING_DAYS)\n",
      "/var/folders/mn/tx231v5158797chnp22wm9000000gp/T/ipykernel_61094/4004665421.py:78: FutureWarning: Calling float on a single element Series is deprecated and will raise a TypeError in the future. Use float(ser.iloc[0]) instead\n",
      "  S0 = float(tail.iloc[-1])\n"
     ]
    },
    {
     "name": "stdout",
     "output_type": "stream",
     "text": [
      "  > WESTLIFE.NS\n"
     ]
    },
    {
     "name": "stderr",
     "output_type": "stream",
     "text": [
      "/var/folders/mn/tx231v5158797chnp22wm9000000gp/T/ipykernel_61094/4004665421.py:76: FutureWarning: Calling float on a single element Series is deprecated and will raise a TypeError in the future. Use float(ser.iloc[0]) instead\n",
      "  mu_ann = float(log_ret.mean()) * TRADING_DAYS\n",
      "/var/folders/mn/tx231v5158797chnp22wm9000000gp/T/ipykernel_61094/4004665421.py:77: FutureWarning: Calling float on a single element Series is deprecated and will raise a TypeError in the future. Use float(ser.iloc[0]) instead\n",
      "  sigma_ann = float(log_ret.std(ddof=1)) * math.sqrt(TRADING_DAYS)\n",
      "/var/folders/mn/tx231v5158797chnp22wm9000000gp/T/ipykernel_61094/4004665421.py:78: FutureWarning: Calling float on a single element Series is deprecated and will raise a TypeError in the future. Use float(ser.iloc[0]) instead\n",
      "  S0 = float(tail.iloc[-1])\n"
     ]
    },
    {
     "name": "stdout",
     "output_type": "stream",
     "text": [
      "  > WHIRLPOOL.NS\n"
     ]
    },
    {
     "name": "stderr",
     "output_type": "stream",
     "text": [
      "/var/folders/mn/tx231v5158797chnp22wm9000000gp/T/ipykernel_61094/4004665421.py:76: FutureWarning: Calling float on a single element Series is deprecated and will raise a TypeError in the future. Use float(ser.iloc[0]) instead\n",
      "  mu_ann = float(log_ret.mean()) * TRADING_DAYS\n",
      "/var/folders/mn/tx231v5158797chnp22wm9000000gp/T/ipykernel_61094/4004665421.py:77: FutureWarning: Calling float on a single element Series is deprecated and will raise a TypeError in the future. Use float(ser.iloc[0]) instead\n",
      "  sigma_ann = float(log_ret.std(ddof=1)) * math.sqrt(TRADING_DAYS)\n",
      "/var/folders/mn/tx231v5158797chnp22wm9000000gp/T/ipykernel_61094/4004665421.py:78: FutureWarning: Calling float on a single element Series is deprecated and will raise a TypeError in the future. Use float(ser.iloc[0]) instead\n",
      "  S0 = float(tail.iloc[-1])\n"
     ]
    },
    {
     "name": "stdout",
     "output_type": "stream",
     "text": [
      "  > WIPRO.NS\n"
     ]
    },
    {
     "name": "stderr",
     "output_type": "stream",
     "text": [
      "/var/folders/mn/tx231v5158797chnp22wm9000000gp/T/ipykernel_61094/4004665421.py:76: FutureWarning: Calling float on a single element Series is deprecated and will raise a TypeError in the future. Use float(ser.iloc[0]) instead\n",
      "  mu_ann = float(log_ret.mean()) * TRADING_DAYS\n",
      "/var/folders/mn/tx231v5158797chnp22wm9000000gp/T/ipykernel_61094/4004665421.py:77: FutureWarning: Calling float on a single element Series is deprecated and will raise a TypeError in the future. Use float(ser.iloc[0]) instead\n",
      "  sigma_ann = float(log_ret.std(ddof=1)) * math.sqrt(TRADING_DAYS)\n",
      "/var/folders/mn/tx231v5158797chnp22wm9000000gp/T/ipykernel_61094/4004665421.py:78: FutureWarning: Calling float on a single element Series is deprecated and will raise a TypeError in the future. Use float(ser.iloc[0]) instead\n",
      "  S0 = float(tail.iloc[-1])\n"
     ]
    },
    {
     "name": "stdout",
     "output_type": "stream",
     "text": [
      "  > WOCKPHARMA.NS\n"
     ]
    },
    {
     "name": "stderr",
     "output_type": "stream",
     "text": [
      "/var/folders/mn/tx231v5158797chnp22wm9000000gp/T/ipykernel_61094/4004665421.py:76: FutureWarning: Calling float on a single element Series is deprecated and will raise a TypeError in the future. Use float(ser.iloc[0]) instead\n",
      "  mu_ann = float(log_ret.mean()) * TRADING_DAYS\n",
      "/var/folders/mn/tx231v5158797chnp22wm9000000gp/T/ipykernel_61094/4004665421.py:77: FutureWarning: Calling float on a single element Series is deprecated and will raise a TypeError in the future. Use float(ser.iloc[0]) instead\n",
      "  sigma_ann = float(log_ret.std(ddof=1)) * math.sqrt(TRADING_DAYS)\n",
      "/var/folders/mn/tx231v5158797chnp22wm9000000gp/T/ipykernel_61094/4004665421.py:78: FutureWarning: Calling float on a single element Series is deprecated and will raise a TypeError in the future. Use float(ser.iloc[0]) instead\n",
      "  S0 = float(tail.iloc[-1])\n"
     ]
    },
    {
     "name": "stdout",
     "output_type": "stream",
     "text": [
      "  > YESBANK.NS\n"
     ]
    },
    {
     "name": "stderr",
     "output_type": "stream",
     "text": [
      "/var/folders/mn/tx231v5158797chnp22wm9000000gp/T/ipykernel_61094/4004665421.py:76: FutureWarning: Calling float on a single element Series is deprecated and will raise a TypeError in the future. Use float(ser.iloc[0]) instead\n",
      "  mu_ann = float(log_ret.mean()) * TRADING_DAYS\n",
      "/var/folders/mn/tx231v5158797chnp22wm9000000gp/T/ipykernel_61094/4004665421.py:77: FutureWarning: Calling float on a single element Series is deprecated and will raise a TypeError in the future. Use float(ser.iloc[0]) instead\n",
      "  sigma_ann = float(log_ret.std(ddof=1)) * math.sqrt(TRADING_DAYS)\n",
      "/var/folders/mn/tx231v5158797chnp22wm9000000gp/T/ipykernel_61094/4004665421.py:78: FutureWarning: Calling float on a single element Series is deprecated and will raise a TypeError in the future. Use float(ser.iloc[0]) instead\n",
      "  S0 = float(tail.iloc[-1])\n"
     ]
    },
    {
     "name": "stdout",
     "output_type": "stream",
     "text": [
      "  > ZFCVINDIA.NS\n"
     ]
    },
    {
     "name": "stderr",
     "output_type": "stream",
     "text": [
      "/var/folders/mn/tx231v5158797chnp22wm9000000gp/T/ipykernel_61094/4004665421.py:76: FutureWarning: Calling float on a single element Series is deprecated and will raise a TypeError in the future. Use float(ser.iloc[0]) instead\n",
      "  mu_ann = float(log_ret.mean()) * TRADING_DAYS\n",
      "/var/folders/mn/tx231v5158797chnp22wm9000000gp/T/ipykernel_61094/4004665421.py:77: FutureWarning: Calling float on a single element Series is deprecated and will raise a TypeError in the future. Use float(ser.iloc[0]) instead\n",
      "  sigma_ann = float(log_ret.std(ddof=1)) * math.sqrt(TRADING_DAYS)\n",
      "/var/folders/mn/tx231v5158797chnp22wm9000000gp/T/ipykernel_61094/4004665421.py:78: FutureWarning: Calling float on a single element Series is deprecated and will raise a TypeError in the future. Use float(ser.iloc[0]) instead\n",
      "  S0 = float(tail.iloc[-1])\n"
     ]
    },
    {
     "name": "stdout",
     "output_type": "stream",
     "text": [
      "  > ZEEL.NS\n"
     ]
    },
    {
     "name": "stderr",
     "output_type": "stream",
     "text": [
      "/var/folders/mn/tx231v5158797chnp22wm9000000gp/T/ipykernel_61094/4004665421.py:76: FutureWarning: Calling float on a single element Series is deprecated and will raise a TypeError in the future. Use float(ser.iloc[0]) instead\n",
      "  mu_ann = float(log_ret.mean()) * TRADING_DAYS\n",
      "/var/folders/mn/tx231v5158797chnp22wm9000000gp/T/ipykernel_61094/4004665421.py:77: FutureWarning: Calling float on a single element Series is deprecated and will raise a TypeError in the future. Use float(ser.iloc[0]) instead\n",
      "  sigma_ann = float(log_ret.std(ddof=1)) * math.sqrt(TRADING_DAYS)\n",
      "/var/folders/mn/tx231v5158797chnp22wm9000000gp/T/ipykernel_61094/4004665421.py:78: FutureWarning: Calling float on a single element Series is deprecated and will raise a TypeError in the future. Use float(ser.iloc[0]) instead\n",
      "  S0 = float(tail.iloc[-1])\n"
     ]
    },
    {
     "name": "stdout",
     "output_type": "stream",
     "text": [
      "  > ZENTEC.NS\n"
     ]
    },
    {
     "name": "stderr",
     "output_type": "stream",
     "text": [
      "/var/folders/mn/tx231v5158797chnp22wm9000000gp/T/ipykernel_61094/4004665421.py:76: FutureWarning: Calling float on a single element Series is deprecated and will raise a TypeError in the future. Use float(ser.iloc[0]) instead\n",
      "  mu_ann = float(log_ret.mean()) * TRADING_DAYS\n",
      "/var/folders/mn/tx231v5158797chnp22wm9000000gp/T/ipykernel_61094/4004665421.py:77: FutureWarning: Calling float on a single element Series is deprecated and will raise a TypeError in the future. Use float(ser.iloc[0]) instead\n",
      "  sigma_ann = float(log_ret.std(ddof=1)) * math.sqrt(TRADING_DAYS)\n",
      "/var/folders/mn/tx231v5158797chnp22wm9000000gp/T/ipykernel_61094/4004665421.py:78: FutureWarning: Calling float on a single element Series is deprecated and will raise a TypeError in the future. Use float(ser.iloc[0]) instead\n",
      "  S0 = float(tail.iloc[-1])\n"
     ]
    },
    {
     "name": "stdout",
     "output_type": "stream",
     "text": [
      "  > ZENSARTECH.NS\n"
     ]
    },
    {
     "name": "stderr",
     "output_type": "stream",
     "text": [
      "/var/folders/mn/tx231v5158797chnp22wm9000000gp/T/ipykernel_61094/4004665421.py:76: FutureWarning: Calling float on a single element Series is deprecated and will raise a TypeError in the future. Use float(ser.iloc[0]) instead\n",
      "  mu_ann = float(log_ret.mean()) * TRADING_DAYS\n",
      "/var/folders/mn/tx231v5158797chnp22wm9000000gp/T/ipykernel_61094/4004665421.py:77: FutureWarning: Calling float on a single element Series is deprecated and will raise a TypeError in the future. Use float(ser.iloc[0]) instead\n",
      "  sigma_ann = float(log_ret.std(ddof=1)) * math.sqrt(TRADING_DAYS)\n",
      "/var/folders/mn/tx231v5158797chnp22wm9000000gp/T/ipykernel_61094/4004665421.py:78: FutureWarning: Calling float on a single element Series is deprecated and will raise a TypeError in the future. Use float(ser.iloc[0]) instead\n",
      "  S0 = float(tail.iloc[-1])\n"
     ]
    },
    {
     "name": "stdout",
     "output_type": "stream",
     "text": [
      "  > ZYDUSLIFE.NS\n"
     ]
    },
    {
     "name": "stderr",
     "output_type": "stream",
     "text": [
      "/var/folders/mn/tx231v5158797chnp22wm9000000gp/T/ipykernel_61094/4004665421.py:76: FutureWarning: Calling float on a single element Series is deprecated and will raise a TypeError in the future. Use float(ser.iloc[0]) instead\n",
      "  mu_ann = float(log_ret.mean()) * TRADING_DAYS\n",
      "/var/folders/mn/tx231v5158797chnp22wm9000000gp/T/ipykernel_61094/4004665421.py:77: FutureWarning: Calling float on a single element Series is deprecated and will raise a TypeError in the future. Use float(ser.iloc[0]) instead\n",
      "  sigma_ann = float(log_ret.std(ddof=1)) * math.sqrt(TRADING_DAYS)\n",
      "/var/folders/mn/tx231v5158797chnp22wm9000000gp/T/ipykernel_61094/4004665421.py:78: FutureWarning: Calling float on a single element Series is deprecated and will raise a TypeError in the future. Use float(ser.iloc[0]) instead\n",
      "  S0 = float(tail.iloc[-1])\n"
     ]
    },
    {
     "name": "stdout",
     "output_type": "stream",
     "text": [
      "  > ECLERX.NS\n",
      "\n",
      "=== Swing MC Screen ===\n",
      "       ticker status            S0  mu_ann  sigma_ann  horizon_days  P_up  P_down  P_touch_+5%  P_touch_-5%  P(+target first)  P(-target first)  P(neither target)  E[ret]  Median[ret]  Q05[ret]  Q95[ret]\n",
      "   ETERNAL.NS     ok    322.399994  0.5424     0.3493            10 0.612   0.388        0.480        0.273             0.471             0.267              0.262  0.0222       0.0199 -0.091094  0.142479\n",
      "     GVT&D.NS     ok   2752.899902  0.5166     0.4504            10 0.578   0.422        0.538        0.388             0.507             0.363              0.130  0.0213       0.0174 -0.123057  0.177738\n",
      "ANANDRATHI.NS     ok   2936.699951  0.3633     0.3380            10 0.577   0.423        0.434        0.290             0.428             0.285              0.287  0.0149       0.0128 -0.094030  0.130377\n",
      "BHARTIARTL.NS     ok   1887.199951  0.2014     0.2157            10 0.570   0.430        0.239        0.137             0.239             0.137              0.624  0.0083       0.0075 -0.061727  0.080622\n",
      "       MCX.NS     ok   7645.500000  0.4038     0.4212            10 0.564   0.436        0.503        0.376             0.481             0.358              0.161  0.0167       0.0133 -0.118131  0.161942\n",
      "  BOSCHLTD.NS     ok  41315.000000  0.2106     0.2421            10 0.564   0.436        0.285        0.180             0.285             0.180              0.535  0.0087       0.0076 -0.069691  0.090096\n",
      "  TVSMOTOR.NS     ok   3369.600098  0.2328     0.2648            10 0.564   0.436        0.324        0.211             0.324             0.210              0.466  0.0096       0.0083 -0.075992  0.098926\n",
      "    FORTIS.NS     ok    929.750000  0.2695     0.3006            10 0.564   0.436        0.374        0.255             0.372             0.252              0.376  0.0111       0.0094 -0.085809  0.113020\n",
      "     TARIL.NS     ok    500.950012  0.5525     0.5646            10 0.560   0.440        0.591        0.473             0.528             0.418              0.054  0.0229       0.0167 -0.156032  0.221409\n",
      "     DIXON.NS     ok  17553.000000  0.3283     0.3870            10 0.557   0.443        0.468        0.352             0.454             0.340              0.206  0.0136       0.0108 -0.110336  0.146202\n",
      "  JKCEMENT.NS     ok   6994.000000  0.2072     0.2691            10 0.556   0.444        0.324        0.222             0.323             0.221              0.456  0.0086       0.0073 -0.078261  0.099292\n",
      "       BSE.NS     ok   2194.199951  0.5102     0.5687            10 0.554   0.446        0.587        0.481             0.524             0.424              0.052  0.0211       0.0149 -0.158657  0.220884\n",
      "       BEL.NS     ok    376.600006  0.2765     0.3550            10 0.553   0.447        0.432        0.325             0.423             0.318              0.259  0.0115       0.0091 -0.102390  0.132509\n",
      "    INDIGO.NS     ok   5665.500000  0.2100     0.2847            10 0.553   0.447        0.344        0.244             0.343             0.242              0.415  0.0087       0.0072 -0.083034  0.104853\n",
      "      AIIL.NS     ok   3179.699951  0.4643     0.5383            10 0.553   0.447        0.570        0.466             0.517             0.417              0.066  0.0192       0.0137 -0.151227  0.207453\n",
      "WOCKPHARMA.NS     ok   1415.099976  0.4577     0.5449            10 0.550   0.450        0.572        0.471             0.516             0.421              0.064  0.0190       0.0133 -0.153391  0.209561\n",
      " SOLARINDS.NS     ok  14018.000000  0.2935     0.3898            10 0.550   0.450        0.464        0.360             0.449             0.348              0.203  0.0122       0.0093 -0.112428  0.145632\n",
      " EICHERMOT.NS     ok   6349.000000  0.1662     0.2460            10 0.550   0.450        0.281        0.195             0.280             0.194              0.525  0.0069       0.0058 -0.072560  0.089534\n",
      "  GLENMARK.NS     ok   1918.800049  0.2311     0.3260            10 0.549   0.451        0.394        0.298             0.390             0.294              0.316  0.0096       0.0076 -0.095087  0.120252\n",
      "TORNTPHARM.NS     ok   3582.899902  0.1535     0.2318            10 0.549   0.451        0.254        0.174             0.254             0.174              0.572  0.0064       0.0054 -0.068579  0.084103\n",
      "MUTHOOTFIN.NS     ok   2698.699951  0.1985     0.2941            10 0.548   0.452        0.352        0.260             0.350             0.257              0.392  0.0083       0.0067 -0.086364  0.107619\n",
      "   HDFCAMC.NS     ok   5530.500000  0.2078     0.3066            10 0.548   0.452        0.368        0.275             0.365             0.272              0.363  0.0086       0.0069 -0.089900  0.112389\n",
      "BAJAJ-AUTO.NS     ok   9030.500000  0.1764     0.2686            10 0.548   0.452        0.315        0.228             0.314             0.227              0.459  0.0073       0.0060 -0.079237  0.097786\n",
      "HEROMOTOCO.NS     ok   5312.000000  0.1652     0.2598            10 0.546   0.454        0.300        0.216             0.300             0.215              0.485  0.0069       0.0057 -0.076907  0.094251\n",
      "       M&M.NS     ok   3234.500000  0.1877     0.2926            10 0.545   0.455        0.349        0.259             0.347             0.257              0.395  0.0078       0.0063 -0.086298  0.106626\n",
      "     JSWHL.NS     ok  17898.000000  0.3477     0.4786            10 0.544   0.456        0.528        0.436             0.491             0.403              0.105  0.0145       0.0101 -0.137365  0.180054\n",
      "      ERIS.NS     ok   1771.000000  0.2023     0.3143            10 0.544   0.456        0.375        0.287             0.372             0.283              0.345  0.0084       0.0066 -0.092509  0.114876\n",
      "POWERINDIA.NS     ok  18815.000000  0.3721     0.5060            10 0.544   0.456        0.544        0.454             0.500             0.414              0.086  0.0155       0.0106 -0.144742  0.191213\n",
      "CUMMINSIND.NS     ok   3826.399902  0.2057     0.3201            10 0.544   0.456        0.382        0.295             0.378             0.291              0.331  0.0086       0.0067 -0.094150  0.117027\n",
      "     TRENT.NS     ok   5412.000000  0.2530     0.3810            10 0.544   0.456        0.450        0.357             0.437             0.346              0.217  0.0105       0.0078 -0.111165  0.140655\n",
      "COROMANDEL.NS     ok   2305.600098  0.1947     0.3097            10 0.544   0.456        0.368        0.281             0.365             0.278              0.356  0.0081       0.0064 -0.091343  0.112906\n",
      "    ECLERX.NS     ok   4534.500000  0.2539     0.3835            10 0.543   0.457        0.452        0.361             0.439             0.349              0.212  0.0106       0.0078 -0.111901  0.141587\n",
      "    RADICO.NS     ok   2896.699951  0.2045     0.3249            10 0.543   0.457        0.386        0.301             0.382             0.297              0.321  0.0085       0.0066 -0.095692  0.118676\n",
      "  EIDPARRY.NS     ok   1104.000000  0.2235     0.3503            10 0.543   0.457        0.416        0.328             0.409             0.322              0.269  0.0093       0.0070 -0.102826  0.128462\n",
      "KARURVYSYA.NS     ok    210.009995  0.1982     0.3198            10 0.542   0.458        0.380        0.296             0.376             0.292              0.332  0.0083       0.0064 -0.094352  0.116614\n",
      "BHARTIHEXA.NS     ok   1772.500000  0.2887     0.4291            10 0.542   0.458        0.491        0.402             0.467             0.381              0.152  0.0120       0.0086 -0.124524  0.159463\n",
      "      NAVA.NS     ok    704.000000  0.3235     0.4687            10 0.542   0.458        0.519        0.432             0.485             0.401              0.114  0.0135       0.0093 -0.135233  0.175347\n",
      "      KIMS.NS     ok    736.950012  0.1620     0.2737            10 0.542   0.458        0.319        0.238             0.318             0.236              0.446  0.0068       0.0054 -0.081349  0.098921\n",
      " SIGNATURE.NS     ok   1087.500000  0.2291     0.3631            10 0.542   0.458        0.430        0.342             0.420             0.334              0.246  0.0096       0.0071 -0.106534  0.133217\n",
      "      MFSL.NS     ok   1623.900024  0.1597     0.2734            10 0.541   0.459        0.318        0.238             0.317             0.236              0.446  0.0067       0.0053 -0.081349  0.098732\n",
      "BLUESTARCO.NS     ok   1940.300049  0.2411     0.3798            10 0.541   0.459        0.447        0.358             0.435             0.347              0.219  0.0101       0.0074 -0.111222  0.139694\n",
      "    MARUTI.NS     ok  14842.000000  0.1180     0.2144            10 0.541   0.459        0.216        0.152             0.215             0.152              0.633  0.0049       0.0041 -0.064407  0.076588\n",
      "LAURUSLABS.NS     ok    860.099976  0.2048     0.3369            10 0.541   0.459        0.399        0.316             0.394             0.311              0.295  0.0086       0.0065 -0.099384  0.122914\n",
      " ICICIBANK.NS     ok   1394.199951  0.1000     0.1888            10 0.540   0.460        0.166        0.108             0.166             0.108              0.726  0.0042       0.0036 -0.056986  0.067071\n",
      "PERSISTENT.NS     ok   5402.500000  0.2035     0.3393            10 0.540   0.460        0.402        0.319             0.396             0.314              0.290  0.0085       0.0064 -0.100153  0.123687\n",
      "   HYUNDAI.NS     ok   2456.899902  0.1816     0.3104            10 0.540   0.460        0.366        0.285             0.363             0.282              0.354  0.0076       0.0058 -0.092030  0.112575\n",
      "      VEDL.NS     ok    431.600006  0.2016     0.3404            10 0.539   0.461        0.402        0.321             0.397             0.315              0.288  0.0084       0.0063 -0.100565  0.123993\n",
      "    KAYNES.NS     ok   6573.000000  0.3317     0.4975            10 0.539   0.461        0.534        0.453             0.494             0.415              0.091  0.0138       0.0091 -0.143582  0.186213\n",
      "   ABSLAMC.NS     ok    826.299988  0.1992     0.3407            10 0.539   0.461        0.402        0.321             0.396             0.316              0.288  0.0083       0.0062 -0.100733  0.123977\n",
      " COALINDIA.NS     ok    380.100006  0.1650     0.2958            10 0.538   0.462        0.348        0.268             0.346             0.265              0.389  0.0069       0.0053 -0.088109  0.106743\n",
      " NAM-INDIA.NS     ok    790.250000  0.2461     0.4039            10 0.538   0.462        0.466        0.383             0.449             0.368              0.183  0.0103       0.0072 -0.118377  0.148493\n",
      "     LUPIN.NS     ok   1889.699951  0.1457     0.2690            10 0.538   0.462        0.309        0.235             0.308             0.234              0.458  0.0061       0.0048 -0.080491  0.096594\n",
      "  INDHOTEL.NS     ok    765.599976  0.1759     0.3131            10 0.538   0.462        0.368        0.290             0.365             0.287              0.348  0.0074       0.0056 -0.093071  0.113265\n",
      "       HAL.NS     ok   4451.500000  0.2202     0.3749            10 0.538   0.462        0.438        0.356             0.427             0.345              0.227  0.0092       0.0066 -0.110477  0.137021\n",
      "APOLLOHOSP.NS     ok   7682.000000  0.1148     0.2242            10 0.538   0.462        0.233        0.169             0.232             0.169              0.599  0.0048       0.0039 -0.067622  0.079824\n",
      "  DIVISLAB.NS     ok   6120.500000  0.1318     0.2529            10 0.538   0.462        0.283        0.212             0.282             0.212              0.506  0.0055       0.0044 -0.075975  0.090424\n",
      "      BPCL.NS     ok    314.950012  0.1732     0.3153            10 0.537   0.463        0.369        0.294             0.366             0.290              0.344  0.0073       0.0054 -0.093839  0.113911\n",
      "    GRASIM.NS     ok   2779.800049  0.1130     0.2258            10 0.537   0.463        0.235        0.172             0.235             0.172              0.593  0.0048       0.0039 -0.068182  0.080288\n",
      "   LTFOODS.NS     ok    436.700012  0.2801     0.4563            10 0.536   0.464        0.506        0.427             0.476             0.399              0.125  0.0117       0.0078 -0.133015  0.168854\n",
      "ULTRACEMCO.NS     ok  12730.000000  0.1128     0.2263            10 0.536   0.464        0.236        0.173             0.236             0.173              0.592  0.0047       0.0038 -0.068334  0.080438\n",
      "      CDSL.NS     ok   1508.900024  0.2502     0.4227            10 0.536   0.464        0.480        0.402             0.458             0.383              0.159  0.0105       0.0071 -0.123932  0.155406\n",
      "    CHALET.NS     ok   1004.099976  0.1795     0.3314            10 0.536   0.464        0.387        0.314             0.383             0.309              0.308  0.0075       0.0055 -0.098572  0.119826\n",
      "    SUZLON.NS     ok     58.250000  0.2703     0.4510            10 0.536   0.464        0.501        0.424             0.472             0.397              0.131  0.0113       0.0075 -0.131768  0.166503\n",
      "   WELCORP.NS     ok    824.299988  0.2436     0.4185            10 0.536   0.464        0.475        0.399             0.454             0.381              0.165  0.0102       0.0069 -0.122898  0.153609\n",
      "GODFRYPHLP.NS     ok  10060.000000  0.3866     0.5854            10 0.535   0.465        0.578        0.504             0.513             0.440              0.047  0.0162       0.0096 -0.167686  0.221113\n",
      " HINDPETRO.NS     ok    384.600006  0.2193     0.3937            10 0.534   0.466        0.454        0.377             0.439             0.364              0.197  0.0092       0.0063 -0.116214  0.143638\n",
      "  PRESTIGE.NS     ok   1565.599976  0.2634     0.4508            10 0.534   0.466        0.500        0.425             0.471             0.398              0.131  0.0110       0.0072 -0.131935  0.166098\n",
      "      HSCL.NS     ok    461.750000  0.2555     0.4429            10 0.534   0.466        0.494        0.419             0.468             0.395              0.138  0.0107       0.0070 -0.129846  0.162903\n",
      " POLICYBZR.NS     ok   1826.300049  0.2366     0.4187            10 0.534   0.466        0.474        0.400             0.453             0.382              0.164  0.0099       0.0066 -0.123177  0.153333\n",
      "   MEDANTA.NS     ok   1390.400024  0.1780     0.3381            10 0.534   0.466        0.395        0.322             0.390             0.317              0.294  0.0075       0.0054 -0.100683  0.122115\n",
      "  GILLETTE.NS     ok  10173.000000  0.1594     0.3116            10 0.534   0.466        0.363        0.291             0.360             0.288              0.352  0.0067       0.0049 -0.093194  0.112007\n",
      "TATAINVEST.NS     ok   6826.500000  0.2526     0.4432            10 0.533   0.467        0.494        0.420             0.467             0.395              0.138  0.0106       0.0069 -0.130021  0.162863\n",
      " POWERGRID.NS     ok    286.700012  0.1342     0.2773            10 0.533   0.467        0.317        0.249             0.316             0.247              0.436  0.0057       0.0043 -0.083501  0.098978\n",
      " MAXHEALTH.NS     ok   1161.800049  0.1961     0.3721            10 0.533   0.467        0.431        0.358             0.421             0.347              0.232  0.0083       0.0057 -0.110474  0.134949\n",
      "  UNOMINDA.NS     ok   1309.000000  0.1865     0.3590            10 0.533   0.467        0.418        0.345             0.409             0.337              0.254  0.0079       0.0055 -0.106792  0.129858\n",
      "COCHINSHIP.NS     ok   1738.800049  0.3602     0.5760            10 0.532   0.468        0.572        0.502             0.509             0.440              0.050  0.0151       0.0087 -0.165790  0.216331\n",
      "BAJAJHLDNG.NS     ok  12620.000000  0.1561     0.3165            10 0.532   0.468        0.367        0.300             0.364             0.296              0.340  0.0066       0.0047 -0.094821  0.113570\n",
      " SUNPHARMA.NS     ok   1565.199951  0.0851     0.1964            10 0.532   0.468        0.176        0.125             0.176             0.125              0.699  0.0036       0.0029 -0.059959  0.069041\n",
      "   TECHNOE.NS     ok   1529.800049  0.2877     0.4954            10 0.532   0.468        0.528        0.458             0.488             0.419              0.093  0.0121       0.0074 -0.144434  0.183353\n",
      "       LTF.NS     ok    221.929993  0.1656     0.3318            10 0.532   0.468        0.385        0.317             0.381             0.312              0.307  0.0070       0.0050 -0.099209  0.119368\n",
      "       MRF.NS     ok 153885.000000  0.0930     0.2121            10 0.532   0.468        0.205        0.153             0.205             0.153              0.642  0.0039       0.0032 -0.064596  0.074721\n",
      " GODREJIND.NS     ok   1201.900024  0.2158     0.4042            10 0.532   0.468        0.460        0.389             0.443             0.374              0.183  0.0091       0.0060 -0.119539  0.147237\n",
      "       FSL.NS     ok    366.750000  0.2329     0.4276            10 0.532   0.468        0.481        0.409             0.458             0.388              0.154  0.0098       0.0063 -0.126011  0.156367\n",
      "   SARDAEN.NS     ok    576.799988  0.2686     0.4743            10 0.532   0.468        0.514        0.443             0.480             0.411              0.109  0.0113       0.0070 -0.138804  0.174829\n",
      "        NH.NS     ok   1766.300049  0.1464     0.3074            10 0.531   0.469        0.357        0.288             0.354             0.284              0.362  0.0062       0.0045 -0.092362  0.109964\n",
      "  SAGILITY.NS     ok     44.810001  0.2672     0.4775            10 0.531   0.469        0.516        0.446             0.480             0.413              0.107  0.0112       0.0069 -0.139815  0.175932\n",
      "      OFSS.NS     ok   8476.500000  0.2004     0.3903            10 0.531   0.469        0.448        0.377             0.434             0.364              0.202  0.0084       0.0056 -0.115866  0.141597\n",
      "DEEPAKFERT.NS     ok   1447.800049  0.2536     0.4646            10 0.531   0.469        0.507        0.438             0.475             0.407              0.118  0.0107       0.0066 -0.136418  0.170626\n",
      "  LLOYDSME.NS     ok   1318.000000  0.2103     0.4060            10 0.531   0.469        0.460        0.391             0.443             0.376              0.181  0.0089       0.0058 -0.120258  0.147606\n",
      "      NMDC.NS     ok     72.800003  0.1859     0.3745            10 0.530   0.470        0.431        0.362             0.420             0.352              0.228  0.0078       0.0052 -0.111553  0.135320\n",
      " ENDURANCE.NS     ok   2911.199951  0.1514     0.3251            10 0.530   0.470        0.375        0.311             0.372             0.307              0.321  0.0064       0.0045 -0.097647  0.116381\n",
      "      NBCC.NS     ok    101.580002  0.2987     0.5280            10 0.530   0.470        0.545        0.480             0.495             0.432              0.072  0.0126       0.0072 -0.153737  0.195771\n",
      "CHAMBLFERT.NS     ok    559.049988  0.2048     0.4067            10 0.530   0.470        0.460        0.393             0.442             0.378              0.180  0.0086       0.0055 -0.120668  0.147609\n",
      " ZYDUSLIFE.NS     ok    996.099976  0.1112     0.2589            10 0.530   0.470        0.286        0.226             0.286             0.225              0.489  0.0047       0.0035 -0.078587  0.091589\n",
      "      PCBL.NS     ok    379.049988  0.2339     0.4478            10 0.530   0.470        0.494        0.427             0.466             0.401              0.133  0.0099       0.0061 -0.132035  0.163641\n",
      "INDUSTOWER.NS     ok    329.450012  0.1826     0.3756            10 0.530   0.470        0.432        0.364             0.421             0.354              0.226  0.0077       0.0051 -0.112000  0.135554\n",
      " SCHNEIDER.NS     ok    876.200012  0.2438     0.4615            10 0.529   0.471        0.504        0.437             0.473             0.407              0.120  0.0103       0.0062 -0.135805  0.169031\n",
      "       VMM.NS     ok    146.330002  0.1919     0.3917            10 0.529   0.471        0.447        0.379             0.433             0.366              0.201  0.0081       0.0052 -0.116567  0.141680\n",
      "       BDL.NS     ok   1471.099976  0.2471     0.4707            10 0.528   0.472        0.509        0.444             0.476             0.412              0.112  0.0104       0.0062 -0.138469  0.172535\n",
      "      NTPC.NS     ok    336.299988  0.1222     0.2839            10 0.528   0.472        0.323        0.261             0.322             0.259              0.420  0.0052       0.0037 -0.085979  0.100738\n",
      "      CESC.NS     ok    156.809998  0.1928     0.3968            10 0.528   0.472        0.451        0.384             0.436             0.370              0.194  0.0081       0.0052 -0.118081  0.143532\n",
      "     NYKAA.NS     ok    232.520004  0.1418     0.3181            10 0.528   0.472        0.366        0.304             0.363             0.301              0.337  0.0060       0.0042 -0.095837  0.113509\n",
      "NATIONALUM.NS     ok    200.529999  0.2302     0.4507            10 0.528   0.472        0.495        0.430             0.467             0.403              0.130  0.0097       0.0059 -0.133054  0.164535\n",
      "NEULANDLAB.NS     ok  13728.000000  0.2993     0.5396            10 0.528   0.472        0.550        0.488             0.497             0.437              0.066  0.0126       0.0070 -0.157124  0.200018\n",
      "     AMBER.NS     ok   7645.000000  0.2502     0.4809            10 0.527   0.473        0.515        0.451             0.479             0.416              0.105  0.0106       0.0062 -0.141410  0.176365\n",
      " SHYAMMETL.NS     ok    902.299988  0.1696     0.3668            10 0.527   0.473        0.422        0.357             0.412             0.348              0.240  0.0072       0.0047 -0.109791  0.131880\n",
      "  KFINTECH.NS     ok   1057.000000  0.2593     0.4948            10 0.527   0.473        0.524        0.461             0.484             0.422              0.094  0.0109       0.0063 -0.145231  0.181822\n",
      "     GLAXO.NS     ok   2752.199951  0.1741     0.3761            10 0.527   0.473        0.431        0.367             0.420             0.356              0.225  0.0074       0.0047 -0.112443  0.135340\n",
      "       CUB.NS     ok    200.740005  0.1289     0.3031            10 0.527   0.473        0.349        0.285             0.346             0.282              0.372  0.0055       0.0038 -0.091671  0.107703\n",
      "TORNTPOWER.NS     ok   1304.599976  0.1891     0.4010            10 0.527   0.473        0.453        0.390             0.437             0.375              0.188  0.0080       0.0050 -0.119483  0.144862\n",
      "   SBILIFE.NS     ok   1814.500000  0.0879     0.2284            10 0.526   0.474        0.233        0.182             0.233             0.182              0.585  0.0038       0.0028 -0.069914  0.080089\n",
      "     SOBHA.NS     ok   1460.199951  0.2322     0.4634            10 0.526   0.474        0.503        0.440             0.472             0.410              0.118  0.0098       0.0057 -0.136786  0.169197\n",
      "JUBLPHARMA.NS     ok   1039.000000  0.2137     0.4379            10 0.526   0.474        0.485        0.420             0.460             0.397              0.144  0.0090       0.0054 -0.129771  0.159168\n",
      " AADHARHFC.NS     ok    507.899994  0.1683     0.3714            10 0.526   0.474        0.425        0.362             0.415             0.352              0.233  0.0071       0.0046 -0.111244  0.133453\n",
      "CHOLAHLDNG.NS     ok   1758.800049  0.1675     0.3706            10 0.526   0.474        0.424        0.361             0.414             0.352              0.234  0.0071       0.0045 -0.111018  0.133114\n",
      "     AFFLE.NS     ok   1901.000000  0.1416     0.3290            10 0.526   0.474        0.378        0.318             0.374             0.313              0.313  0.0060       0.0040 -0.099193  0.117312\n",
      "      DOMS.NS     ok   2480.399902  0.1886     0.4034            10 0.526   0.474        0.456        0.393             0.439             0.377              0.184  0.0080       0.0049 -0.120240  0.145703\n",
      "       OIL.NS     ok    402.049988  0.2033     0.4259            10 0.526   0.474        0.475        0.411             0.452             0.392              0.156  0.0086       0.0052 -0.126534  0.154409\n",
      "    UTIAMC.NS     ok   1305.800049  0.1483     0.3410            10 0.526   0.474        0.391        0.331             0.386             0.326              0.289  0.0063       0.0042 -0.102660  0.121838\n",
      "    VOLTAS.NS     ok   1440.599976  0.1417     0.3300            10 0.526   0.474        0.379        0.319             0.375             0.315              0.310  0.0060       0.0040 -0.099515  0.117685\n",
      "KALYANKJIL.NS     ok    508.700012  0.2168     0.4473            10 0.526   0.474        0.491        0.429             0.464             0.403              0.133  0.0092       0.0054 -0.132494  0.162689\n",
      "  HINDALCO.NS     ok    720.950012  0.1227     0.2988            10 0.526   0.474        0.342        0.280             0.340             0.278              0.382  0.0052       0.0036 -0.090563  0.105924\n",
      "       IOC.NS     ok    139.619995  0.1342     0.3195            10 0.526   0.474        0.366        0.308             0.363             0.304              0.333  0.0057       0.0038 -0.096543  0.113665\n",
      " BRITANNIA.NS     ok   5891.500000  0.0720     0.2010            10 0.525   0.475        0.180        0.137             0.180             0.137              0.683  0.0031       0.0024 -0.061886  0.070046\n",
      "    NUVAMA.NS     ok   6448.500000  0.2498     0.4948            10 0.525   0.475        0.523        0.462             0.483             0.423              0.094  0.0106       0.0059 -0.145550  0.181370\n",
      "ABBOTINDIA.NS     ok  32495.000000  0.0866     0.2320            10 0.525   0.475        0.240        0.188             0.239             0.188              0.573  0.0037       0.0028 -0.071093  0.081271\n",
      "    360ONE.NS     ok   1024.800049  0.1828     0.4001            10 0.525   0.475        0.452        0.390             0.436             0.375              0.189  0.0078       0.0048 -0.119433  0.144255\n",
      " TATAPOWER.NS     ok    386.049988  0.1322     0.3187            10 0.525   0.475        0.365        0.307             0.361             0.303              0.335  0.0056       0.0038 -0.096371  0.113303\n",
      "   COFORGE.NS     ok   1754.599976  0.1508     0.3507            10 0.525   0.475        0.402        0.342             0.396             0.335              0.269  0.0064       0.0041 -0.105543  0.125360\n",
      "      SBIN.NS     ok    803.900024  0.0940     0.2498            10 0.525   0.475        0.267        0.215             0.266             0.215              0.519  0.0040       0.0029 -0.076394  0.087720\n",
      "      PGEL.NS     ok    560.299988  0.3096     0.5763            10 0.525   0.475        0.566        0.509             0.504             0.446              0.050  0.0131       0.0067 -0.167564  0.214021\n",
      "  ASTRAZEN.NS     ok   8926.000000  0.1938     0.4216            10 0.525   0.475        0.469        0.409             0.448             0.390              0.161  0.0082       0.0049 -0.125549  0.152416\n",
      "     HUDCO.NS     ok    216.309998  0.2899     0.5528            10 0.525   0.475        0.554        0.496             0.498             0.441              0.061  0.0122       0.0064 -0.161338  0.204434\n",
      "FEDERALBNK.NS     ok    193.559998  0.0948     0.2531            10 0.525   0.475        0.272        0.220             0.272             0.219              0.509  0.0041       0.0029 -0.077388  0.088888\n",
      "  INOXWIND.NS     ok    143.339996  0.2765     0.5365            10 0.524   0.476        0.546        0.489             0.495             0.438              0.068  0.0117       0.0062 -0.156982  0.197816\n",
      "    VIJAYA.NS     ok   1030.699951  0.1991     0.4310            10 0.524   0.476        0.478        0.416             0.454             0.395              0.151  0.0084       0.0049 -0.128190  0.156018\n",
      "   ASTERDM.NS     ok    632.049988  0.1748     0.3952            10 0.524   0.476        0.447        0.386             0.432             0.372              0.196  0.0074       0.0045 -0.118232  0.142153\n",
      "      IRFC.NS     ok    122.989998  0.2484     0.5035            10 0.524   0.476        0.527        0.468             0.485             0.427              0.088  0.0105       0.0057 -0.148175  0.184457\n",
      "  JSWINFRA.NS     ok    302.700012  0.1774     0.4008            10 0.524   0.476        0.451        0.392             0.435             0.377              0.188  0.0075       0.0045 -0.119846  0.144271\n",
      "     CANBK.NS     ok    106.160004  0.1359     0.3328            10 0.524   0.476        0.381        0.323             0.376             0.318              0.305  0.0058       0.0038 -0.100568  0.118393\n",
      "    NETWEB.NS     ok   2266.600098  0.2567     0.5170            10 0.524   0.476        0.534        0.477             0.488             0.433              0.079  0.0109       0.0058 -0.151899  0.189768\n",
      "  ANANTRAJ.NS     ok    538.200012  0.2526     0.5130            10 0.524   0.476        0.532        0.474             0.488             0.431              0.082  0.0107       0.0057 -0.150840  0.188100\n",
      "MANAPPURAM.NS     ok    281.000000  0.1711     0.3959            10 0.524   0.476        0.447        0.387             0.432             0.373              0.195  0.0073       0.0044 -0.118562  0.142225\n",
      "METROPOLIS.NS     ok   2176.500000  0.1192     0.3063            10 0.524   0.476        0.351        0.292             0.348             0.289              0.363  0.0051       0.0034 -0.093021  0.108400\n",
      "    NAUKRI.NS     ok   1364.500000  0.1241     0.3169            10 0.523   0.477        0.362        0.306             0.358             0.302              0.340  0.0053       0.0035 -0.096097  0.112302\n",
      "   ICICIGI.NS     ok   1822.699951  0.0828     0.2370            10 0.523   0.477        0.246        0.197             0.246             0.197              0.558  0.0036       0.0026 -0.072810  0.082844\n",
      "      KPIL.NS     ok   1223.500000  0.1641     0.3881            10 0.523   0.477        0.439        0.380             0.426             0.367              0.206  0.0070       0.0042 -0.116463  0.139161\n",
      "   IPCALAB.NS     ok   1367.599976  0.1126     0.2989            10 0.522   0.478        0.340        0.282             0.338             0.280              0.382  0.0048       0.0032 -0.090954  0.105514\n",
      "    MARICO.NS     ok    741.900024  0.0795     0.2330            10 0.522   0.478        0.239        0.190             0.239             0.190              0.570  0.0034       0.0025 -0.071659  0.081308\n",
      "      GRSE.NS     ok   2543.800049  0.3108     0.6014            10 0.521   0.479        0.576        0.522             0.507             0.452              0.040  0.0131       0.0062 -0.174835  0.223352\n",
      "LALPATHLAB.NS     ok   3228.300049  0.0956     0.2717            10 0.521   0.479        0.300        0.248             0.300             0.247              0.453  0.0041       0.0028 -0.083156  0.095348\n",
      "   MAZDOCK.NS     ok   2731.000000  0.2734     0.5553            10 0.521   0.479        0.553        0.500             0.497             0.443              0.060  0.0116       0.0057 -0.162608  0.204552\n",
      "       PNB.NS     ok    102.860001  0.1337     0.3464            10 0.521   0.479        0.394        0.340             0.387             0.333              0.279  0.0057       0.0035 -0.104826  0.123079\n",
      "GODREJAGRO.NS     ok    747.299988  0.1214     0.3246            10 0.521   0.479        0.369        0.317             0.365             0.312              0.323  0.0052       0.0033 -0.098586  0.114897\n",
      "     ALKEM.NS     ok   5246.500000  0.0850     0.2526            10 0.521   0.479        0.269        0.221             0.269             0.221              0.511  0.0037       0.0025 -0.077609  0.088308\n",
      "      BHEL.NS     ok    215.070007  0.1976     0.4547            10 0.521   0.479        0.493        0.438             0.464             0.410              0.126  0.0084       0.0045 -0.135354  0.164446\n",
      "       JSL.NS     ok    761.250000  0.1528     0.3830            10 0.521   0.479        0.433        0.377             0.421             0.365              0.214  0.0065       0.0038 -0.115313  0.136851\n",
      "CAPLIPOINT.NS     ok   2127.399902  0.1788     0.4275            10 0.520   0.480        0.472        0.417             0.449             0.396              0.155  0.0076       0.0042 -0.127857  0.153858\n",
      "PIDILITIND.NS     ok   3127.000000  0.0621     0.2030            10 0.520   0.480        0.182        0.143             0.181             0.143              0.675  0.0027       0.0020 -0.062905  0.070326\n",
      "      IFCI.NS     ok     53.110001  0.3394     0.6452            10 0.520   0.480        0.594        0.542             0.513             0.458              0.029  0.0143       0.0063 -0.186559  0.241038\n",
      "   INDIANB.NS     ok    664.150024  0.1345     0.3538            10 0.520   0.480        0.402        0.349             0.395             0.341              0.264  0.0058       0.0035 -0.107041  0.125695\n",
      "      GAIL.NS     ok    179.289993  0.1350     0.3557            10 0.520   0.480        0.404        0.351             0.396             0.343              0.261  0.0058       0.0034 -0.107621  0.126403\n",
      "       DLF.NS     ok    754.799988  0.1198     0.3279            10 0.520   0.480        0.372        0.321             0.368             0.316              0.316  0.0052       0.0032 -0.099648  0.115970\n",
      "JMFINANCIL.NS     ok    183.250000  0.2140     0.4840            10 0.520   0.480        0.512        0.459             0.475             0.423              0.102  0.0091       0.0047 -0.143561  0.175790\n",
      "BAJAJFINSV.NS     ok   1955.900024  0.0735     0.2335            10 0.520   0.480        0.239        0.193             0.238             0.192              0.569  0.0032       0.0022 -0.072054  0.081238\n",
      "SHRIRAMFIN.NS     ok    584.599976  0.1275     0.3475            10 0.519   0.481        0.394        0.342             0.387             0.336              0.277  0.0055       0.0032 -0.105379  0.123188\n",
      " PPLPHARMA.NS     ok    186.710007  0.1598     0.4050            10 0.519   0.481        0.452        0.399             0.435             0.383              0.182  0.0068       0.0038 -0.121728  0.144963\n",
      "ASAHIINDIA.NS     ok    843.650024  0.1310     0.3546            10 0.519   0.481        0.402        0.350             0.395             0.343              0.263  0.0056       0.0033 -0.107414  0.125829\n",
      "JINDALSTEL.NS     ok    975.150024  0.1061     0.3090            10 0.519   0.481        0.351        0.299             0.348             0.295              0.356  0.0046       0.0028 -0.094330  0.108773\n",
      "TATACONSUM.NS     ok   1100.800049  0.0705     0.2307            10 0.519   0.481        0.232        0.189             0.232             0.189              0.579  0.0031       0.0021 -0.071272  0.080135\n",
      "  GRANULES.NS     ok    507.799988  0.1415     0.3776            10 0.519   0.481        0.425        0.374             0.415             0.362              0.223  0.0061       0.0034 -0.114064  0.134419\n",
      "    BIKAJI.NS     ok    789.200012  0.1272     0.3519            10 0.519   0.481        0.399        0.348             0.392             0.340              0.268  0.0055       0.0032 -0.106739  0.124722\n",
      "   HCLTECH.NS     ok   1465.699951  0.0734     0.2422            10 0.519   0.481        0.251        0.207             0.250             0.207              0.542  0.0032       0.0022 -0.074771  0.084209\n",
      "        LT.NS     ok   3574.899902  0.0800     0.2580            10 0.518   0.482        0.277        0.231             0.277             0.230              0.493  0.0035       0.0023 -0.079469  0.089952\n",
      "   JPPOWER.NS     ok     18.379999  0.2383     0.5337            10 0.518   0.482        0.540        0.491             0.489             0.441              0.070  0.0101       0.0047 -0.157430  0.194966\n",
      "      BASF.NS     ok   4664.100098  0.1550     0.4055            10 0.518   0.482        0.451        0.400             0.434             0.384              0.182  0.0067       0.0036 -0.122047  0.144928\n",
      "  HDFCBANK.NS     ok    944.500000  0.0554     0.1989            10 0.518   0.482        0.174        0.136             0.174             0.136              0.690  0.0024       0.0017 -0.061862  0.068644\n",
      "   EIHOTEL.NS     ok    398.049988  0.1455     0.3930            10 0.518   0.482        0.440        0.389             0.426             0.375              0.199  0.0063       0.0034 -0.118606  0.140065\n",
      "      RVNL.NS     ok    331.850006  0.2517     0.5577            10 0.518   0.482        0.552        0.504             0.495             0.446              0.059  0.0107       0.0048 -0.164033  0.204398\n",
      " TATASTEEL.NS     ok    158.389999  0.0892     0.2857            10 0.518   0.482        0.318        0.268             0.317             0.266              0.417  0.0039       0.0024 -0.087740  0.099934\n",
      "     PTCIL.NS     ok  13807.000000  0.2148     0.5085            10 0.518   0.482        0.525        0.477             0.482             0.434              0.084  0.0092       0.0043 -0.150785  0.184688\n",
      "  EXIDEIND.NS     ok    416.200012  0.1127     0.3361            10 0.517   0.483        0.379        0.331             0.374             0.326              0.299  0.0049       0.0028 -0.102411  0.118525\n",
      "  JSWSTEEL.NS     ok   1044.000000  0.0734     0.2507            10 0.517   0.483        0.263        0.221             0.262             0.220              0.517  0.0032       0.0021 -0.077439  0.087151\n",
      "SUNDARMFIN.NS     ok   4305.299805  0.1314     0.3722            10 0.517   0.483        0.419        0.370             0.409             0.360              0.232  0.0057       0.0031 -0.112786  0.132073\n",
      "    RPOWER.NS     ok     46.240002  0.2597     0.5737            10 0.517   0.483        0.559        0.513             0.498             0.450              0.052  0.0110       0.0047 -0.168447  0.210653\n",
      "   GMDCLTD.NS     ok    440.049988  0.2383     0.5449            10 0.517   0.483        0.545        0.498             0.491             0.444              0.065  0.0102       0.0045 -0.160718  0.199058\n",
      "   CGPOWER.NS     ok    739.650024  0.1373     0.3847            10 0.517   0.483        0.432        0.381             0.420             0.369              0.212  0.0059       0.0032 -0.116368  0.136746\n",
      "      ONGC.NS     ok    239.490005  0.1021     0.3178            10 0.517   0.483        0.359        0.312             0.355             0.308              0.337  0.0044       0.0026 -0.097158  0.111641\n",
      "PHOENIXLTD.NS     ok   1565.699951  0.1469     0.4049            10 0.517   0.483        0.450        0.401             0.433             0.385              0.182  0.0063       0.0033 -0.122137  0.144333\n",
      "     IREDA.NS     ok    144.139999  0.2539     0.5702            10 0.517   0.483        0.557        0.511             0.497             0.450              0.053  0.0108       0.0046 -0.167629  0.209103\n",
      " MINDACORP.NS     ok    507.600006  0.1267     0.3693            10 0.517   0.483        0.415        0.367             0.406             0.358              0.236  0.0055       0.0029 -0.112045  0.130807\n",
      "  SHREECEM.NS     ok  29995.000000  0.0599     0.2242            10 0.516   0.484        0.218        0.181             0.218             0.181              0.601  0.0026       0.0018 -0.069638  0.077465\n",
      "     CIPLA.NS     ok   1569.199951  0.0640     0.2355            10 0.516   0.484        0.239        0.198             0.239             0.198              0.563  0.0028       0.0018 -0.073014  0.081498\n",
      "KIRLOSBROS.NS     ok   2008.000000  0.2224     0.5329            10 0.516   0.484        0.538        0.492             0.488             0.442              0.070  0.0095       0.0041 -0.157719  0.193919\n",
      " MOTHERSON.NS     ok     96.470001  0.1086     0.3388            10 0.516   0.484        0.381        0.336             0.376             0.331              0.294  0.0047       0.0026 -0.103398  0.119307\n",
      "  JYOTICNC.NS     ok    895.049988  0.2267     0.5399            10 0.516   0.484        0.541        0.496             0.489             0.443              0.068  0.0097       0.0041 -0.159660  0.196710\n",
      "OBEROIRLTY.NS     ok   1651.800049  0.1100     0.3421            10 0.516   0.484        0.384        0.339             0.379             0.333              0.288  0.0048       0.0026 -0.104335  0.120492\n",
      "    PFIZER.NS     ok   5107.500000  0.0740     0.2630            10 0.516   0.484        0.283        0.240             0.283             0.239              0.478  0.0032       0.0020 -0.081227  0.091394\n",
      "     TECHM.NS     ok   1512.800049  0.0698     0.2526            10 0.516   0.484        0.265        0.225             0.264             0.224              0.511  0.0031       0.0019 -0.078151  0.087642\n",
      "  ASHOKLEY.NS     ok    130.389999  0.0885     0.2971            10 0.516   0.484        0.332        0.285             0.330             0.282              0.388  0.0039       0.0023 -0.091268  0.103833\n",
      "ADANIPOWER.NS     ok    608.349976  0.1733     0.4582            10 0.515   0.485        0.491        0.445             0.462             0.415              0.123  0.0074       0.0035 -0.137259  0.164607\n",
      "       PFC.NS     ok    392.649994  0.1712     0.4548            10 0.515   0.485        0.489        0.443             0.460             0.414              0.126  0.0074       0.0035 -0.136309  0.163284\n",
      " LEMONTREE.NS     ok    165.270004  0.1205     0.3647            10 0.515   0.485        0.410        0.363             0.401             0.354              0.245  0.0052       0.0028 -0.110877  0.128928\n",
      "     ARE&M.NS     ok   1018.500000  0.1333     0.3907            10 0.515   0.485        0.436        0.389             0.423             0.375              0.202  0.0058       0.0029 -0.118312  0.138672\n",
      "  HDFCLIFE.NS     ok    782.750000  0.0575     0.2251            10 0.515   0.485        0.219        0.183             0.219             0.183              0.598  0.0025       0.0017 -0.070002  0.077665\n",
      "      NHPC.NS     ok     79.559998  0.1307     0.3889            10 0.515   0.485        0.434        0.387             0.421             0.374              0.205  0.0057       0.0028 -0.117867  0.137933\n",
      "GMRAIRPORT.NS     ok     87.040001  0.1229     0.3745            10 0.515   0.485        0.419        0.373             0.409             0.363              0.228  0.0053       0.0027 -0.113784  0.132497\n",
      " KIRLOSENG.NS     ok    916.400024  0.1456     0.4190            10 0.514   0.486        0.459        0.414             0.439             0.395              0.166  0.0063       0.0030 -0.126450  0.149304\n",
      "BAJFINANCE.NS     ok    890.099976  0.0676     0.2559            10 0.514   0.486        0.269        0.230             0.269             0.230              0.501  0.0030       0.0018 -0.079270  0.088694\n",
      "ADANIPORTS.NS     ok   1336.199951  0.1198     0.3727            10 0.514   0.486        0.417        0.372             0.407             0.362              0.231  0.0052       0.0026 -0.113330  0.131707\n",
      "   CEATLTD.NS     ok   3376.000000  0.1022     0.3387            10 0.514   0.486        0.380        0.337             0.374             0.331              0.294  0.0045       0.0023 -0.103596  0.118981\n",
      "   GRAVITA.NS     ok   1688.900024  0.2141     0.5363            10 0.514   0.486        0.539        0.495             0.488             0.444              0.069  0.0092       0.0037 -0.159009  0.194780\n",
      " ABCAPITAL.NS     ok    274.850006  0.1040     0.3468            10 0.514   0.486        0.388        0.346             0.382             0.339              0.279  0.0045       0.0023 -0.105986  0.121879\n",
      "       CCL.NS     ok    923.599976  0.1047     0.3515            10 0.513   0.487        0.394        0.351             0.387             0.344              0.269  0.0046       0.0023 -0.107407  0.123570\n",
      "  GODREJCP.NS     ok   1283.800049  0.0644     0.2574            10 0.513   0.487        0.272        0.234             0.271             0.233              0.496  0.0029       0.0017 -0.079836  0.089053\n",
      "     GICRE.NS     ok    370.950012  0.1662     0.4693            10 0.513   0.487        0.497        0.454             0.465             0.421              0.114  0.0072       0.0030 -0.140799  0.168253\n",
      "     DMART.NS     ok   4680.000000  0.0699     0.2744            10 0.513   0.487        0.298        0.258             0.297             0.256              0.446  0.0031       0.0017 -0.084922  0.095158\n",
      " REDINGTON.NS     ok    240.809998  0.1241     0.3952            10 0.513   0.487        0.438        0.394             0.423             0.380              0.197  0.0054       0.0025 -0.120021  0.139878\n",
      "   KPRMILL.NS     ok    997.000000  0.1072     0.3620            10 0.512   0.488        0.404        0.363             0.396             0.354              0.250  0.0047       0.0023 -0.110535  0.127392\n",
      "    COLPAL.NS     ok   2413.699951  0.0572     0.2426            10 0.512   0.488        0.248        0.211             0.248             0.211              0.541  0.0026       0.0015 -0.075484  0.083650\n",
      "CONCORDBIO.NS     ok   1688.599976  0.1477     0.4423            10 0.512   0.488        0.477        0.435             0.452             0.410              0.138  0.0064       0.0027 -0.133358  0.157700\n",
      "  RAMCOCEM.NS     ok   1080.599976  0.0639     0.2622            10 0.512   0.488        0.280        0.240             0.279             0.240              0.481  0.0028       0.0016 -0.081362  0.090703\n",
      "   BRIGADE.NS     ok    925.849976  0.1166     0.3839            10 0.512   0.488        0.427        0.384             0.415             0.372              0.213  0.0051       0.0023 -0.116838  0.135516\n",
      " PATANJALI.NS     ok   1804.800049  0.0869     0.3197            10 0.512   0.488        0.358        0.317             0.354             0.313              0.332  0.0038       0.0020 -0.098293  0.111640\n",
      "  UNITDSPR.NS     ok   1334.000000  0.0580     0.2500            10 0.511   0.488        0.258        0.223             0.258             0.223              0.520  0.0026       0.0015 -0.077788  0.086252\n",
      "     LODHA.NS     ok   1194.599976  0.1369     0.4277            10 0.511   0.489        0.465        0.422             0.443             0.402              0.156  0.0060       0.0025 -0.129345  0.151986\n",
      "ZENSARTECH.NS     ok    793.049988  0.1200     0.3952            10 0.511   0.489        0.437        0.395             0.423             0.381              0.196  0.0052       0.0023 -0.120138  0.139663\n",
      "BALRAMCHIN.NS     ok    566.849976  0.1001     0.3545            10 0.511   0.489        0.396        0.355             0.388             0.348              0.264  0.0044       0.0021 -0.108482  0.124416\n",
      "AJANTPHARM.NS     ok   2480.000000  0.0897     0.3314            10 0.511   0.489        0.370        0.330             0.365             0.325              0.310  0.0040       0.0019 -0.101787  0.115851\n",
      "  CHOLAFIN.NS     ok   1431.400024  0.0864     0.3253            10 0.511   0.489        0.363        0.323             0.359             0.319              0.322  0.0038       0.0019 -0.100027  0.113566\n",
      "CHENNPETRO.NS     ok    699.599976  0.1836     0.5121            10 0.511   0.489        0.522        0.483             0.478             0.439              0.083  0.0079       0.0029 -0.152917  0.184551\n",
      "      BBTC.NS     ok   1824.000000  0.1555     0.4646            10 0.511   0.489        0.492        0.452             0.462             0.420              0.118  0.0067       0.0027 -0.139756  0.166059\n",
      "   MANKIND.NS     ok   2543.300049  0.0801     0.3111            10 0.511   0.489        0.348        0.307             0.345             0.304              0.351  0.0035       0.0018 -0.095914  0.108364\n",
      "  NLCINDIA.NS     ok    233.460007  0.1683     0.4900            10 0.511   0.489        0.509        0.470             0.472             0.431              0.097  0.0073       0.0027 -0.146889  0.175828\n",
      " LICHSGFIN.NS     ok    556.450012  0.0819     0.3180            10 0.511   0.489        0.356        0.316             0.352             0.312              0.335  0.0036       0.0018 -0.097958  0.110837\n",
      "       SRF.NS     ok   2903.000000  0.0621     0.2682            10 0.511   0.489        0.288        0.250             0.288             0.250              0.463  0.0028       0.0015 -0.083284  0.092686\n",
      "  JUBLFOOD.NS     ok    635.599976  0.0706     0.2907            10 0.511   0.489        0.321        0.279             0.319             0.277              0.404  0.0031       0.0016 -0.089966  0.100859\n",
      "  PETRONET.NS     ok    277.450012  0.0777     0.3113            10 0.510   0.490        0.348        0.308             0.345             0.304              0.351  0.0035       0.0017 -0.096032  0.108299\n",
      "     TITAN.NS     ok   3620.600098  0.0445     0.2198            10 0.510   0.490        0.207        0.176             0.206             0.176              0.617  0.0020       0.0012 -0.068832  0.075306\n",
      "     ABREL.NS     ok   1821.300049  0.1464     0.4566            10 0.510   0.490        0.486        0.447             0.458             0.418              0.124  0.0064       0.0024 -0.137693  0.162778\n",
      "  INDIACEM.NS     ok    385.100006  0.1217     0.4106            10 0.510   0.490        0.449        0.411             0.431             0.393              0.176  0.0053       0.0022 -0.124742  0.145218\n",
      "       VBL.NS     ok    499.200012  0.0832     0.3279            10 0.510   0.490        0.365        0.327             0.361             0.322              0.317  0.0037       0.0017 -0.100962  0.114363\n",
      "       UBL.NS     ok   1840.400024  0.0506     0.2393            10 0.510   0.490        0.242        0.208             0.242             0.207              0.550  0.0023       0.0013 -0.074711  0.082243\n",
      "       KEI.NS     ok   3963.300049  0.1246     0.4201            10 0.510   0.490        0.457        0.419             0.436             0.399              0.164  0.0055       0.0021 -0.127512  0.148743\n",
      "     WIPRO.NS     ok    250.929993  0.0599     0.2703            10 0.510   0.490        0.291        0.254             0.290             0.253              0.457  0.0027       0.0014 -0.084027  0.093328\n",
      "   HAVELLS.NS     ok   1582.800049  0.0530     0.2510            10 0.510   0.490        0.258        0.226             0.258             0.225              0.516  0.0024       0.0013 -0.078275  0.086372\n",
      " DALBHARAT.NS     ok   2402.199951  0.0613     0.2752            10 0.510   0.490        0.298        0.260             0.297             0.259              0.444  0.0028       0.0014 -0.085484  0.095066\n",
      "      CAMS.NS     ok   3802.000000  0.1087     0.3929            10 0.510   0.490        0.434        0.394             0.420             0.381              0.199  0.0048       0.0019 -0.119863  0.138369\n",
      "JUBLINGREA.NS     ok    731.450012  0.1244     0.4259            10 0.509   0.490        0.461        0.423             0.439             0.403              0.158  0.0055       0.0020 -0.129257  0.150796\n",
      "   POLYCAB.NS     ok   7178.500000  0.1045     0.3847            10 0.509   0.490        0.425        0.388             0.413             0.375              0.211  0.0046       0.0019 -0.117515  0.135268\n",
      "JBCHEPHARM.NS     ok   1715.400024  0.0669     0.2957            10 0.509   0.491        0.326        0.287             0.324             0.285              0.391  0.0030       0.0014 -0.091642  0.102432\n",
      "      FACT.NS     ok    989.349976  0.1967     0.5558            10 0.509   0.491        0.545        0.509             0.489             0.451              0.060  0.0085       0.0026 -0.165311  0.201081\n",
      "  SUMICHEM.NS     ok    570.950012  0.0874     0.3486            10 0.509   0.491        0.387        0.351             0.380             0.344              0.276  0.0039       0.0016 -0.107133  0.121781\n",
      "   ESCORTS.NS     ok   3650.399902  0.0652     0.2945            10 0.509   0.491        0.324        0.286             0.322             0.283              0.395  0.0029       0.0014 -0.091332  0.101938\n",
      "      LICI.NS     ok    864.150024  0.0766     0.3258            10 0.509   0.491        0.362        0.326             0.358             0.321              0.321  0.0034       0.0015 -0.100535  0.113319\n",
      "APOLLOTYRE.NS     ok    487.799988  0.0605     0.2835            10 0.509   0.491        0.308        0.271             0.307             0.269              0.424  0.0027       0.0013 -0.088073  0.097891\n",
      " NESTLEIND.NS     ok   1200.900024  0.0324     0.1950            10 0.509   0.491        0.161        0.134             0.161             0.134              0.705  0.0015       0.0009 -0.061485  0.066335\n",
      " HBLENGINE.NS     ok    854.450012  0.1703     0.5202            10 0.509   0.491        0.525        0.491             0.478             0.444              0.078  0.0074       0.0023 -0.155739  0.186853\n",
      "    CRISIL.NS     ok   5051.299805  0.0727     0.3209            10 0.508   0.492        0.357        0.321             0.353             0.317              0.330  0.0033       0.0014 -0.099169  0.111428\n",
      "   MPHASIS.NS     ok   2902.600098  0.0696     0.3149            10 0.508   0.492        0.350        0.314             0.347             0.311              0.342  0.0031       0.0013 -0.097435  0.109199\n",
      "       ITI.NS     ok    301.899994  0.2437     0.6385            10 0.508   0.492        0.582        0.549             0.504             0.466              0.030  0.0105       0.0027 -0.187714  0.233836\n",
      "   RAINBOW.NS     ok   1506.199951  0.0835     0.3521            10 0.508   0.492        0.389        0.356             0.382             0.349              0.269  0.0037       0.0014 -0.108349  0.122850\n",
      "    BIOCON.NS     ok    356.100006  0.0812     0.3470            10 0.508   0.492        0.384        0.350             0.378             0.343              0.279  0.0036       0.0014 -0.106871  0.120952\n",
      "   POLYMED.NS     ok   2077.600098  0.1029     0.3990            10 0.508   0.492        0.437        0.402             0.422             0.387              0.191  0.0046       0.0016 -0.121888  0.140245\n",
      "      BEML.NS     ok   4077.500000  0.1785     0.5423            10 0.508   0.492        0.537        0.503             0.484             0.450              0.066  0.0078       0.0022 -0.161950  0.195274\n",
      "  HINDZINC.NS     ok    440.899994  0.1078     0.4126            10 0.508   0.492        0.448        0.415             0.430             0.397              0.174  0.0048       0.0016 -0.125819  0.145291\n",
      " CRAFTSMAN.NS     ok   6967.000000  0.0890     0.3714            10 0.508   0.492        0.410        0.376             0.401             0.366              0.233  0.0040       0.0014 -0.114009  0.129861\n",
      "   RAILTEL.NS     ok    352.250000  0.1899     0.5663            10 0.508   0.492        0.549        0.516             0.490             0.455              0.055  0.0082       0.0021 -0.168581  0.204580\n",
      "    RECLTD.NS     ok    364.750000  0.1309     0.4633            10 0.507   0.493        0.489        0.454             0.459             0.423              0.118  0.0058       0.0017 -0.140222  0.164468\n",
      "SCHAEFFLER.NS     ok   3857.100098  0.0670     0.3193            10 0.507   0.493        0.355        0.320             0.351             0.316              0.333  0.0030       0.0012 -0.098899  0.110642\n",
      "    NEWGEN.NS     ok    891.400024  0.1704     0.5381            10 0.507   0.493        0.534        0.502             0.483             0.449              0.068  0.0074       0.0019 -0.161005  0.193377\n",
      "  APARINDS.NS     ok   7875.500000  0.1238     0.4515            10 0.507   0.493        0.480        0.447             0.452             0.419              0.129  0.0055       0.0016 -0.136956  0.159926\n",
      "BANKBARODA.NS     ok    236.669998  0.0682     0.3242            10 0.507   0.493        0.359        0.325             0.355             0.321              0.324  0.0031       0.0012 -0.100367  0.112409\n",
      "       IRB.NS     ok     42.799999  0.1295     0.4649            10 0.507   0.493        0.489        0.456             0.459             0.424              0.117  0.0057       0.0016 -0.140747  0.164984\n",
      "WAAREEENER.NS     ok   3199.100098  0.1870     0.5697            10 0.507   0.493        0.550        0.519             0.490             0.457              0.053  0.0081       0.0019 -0.169684  0.205711\n",
      "CASTROLIND.NS     ok    200.500000  0.0975     0.4024            10 0.507   0.493        0.439        0.406             0.423             0.390              0.187  0.0044       0.0013 -0.123105  0.141208\n",
      "       UPL.NS     ok    710.650024  0.0543     0.2905            10 0.507   0.493        0.317        0.282             0.315             0.280              0.405  0.0025       0.0010 -0.090473  0.100055\n",
      "    ZENTEC.NS     ok   1502.900024  0.1473     0.5062            10 0.506   0.494        0.515        0.484             0.473             0.441              0.086  0.0065       0.0016 -0.152395  0.180706\n",
      " UNIONBANK.NS     ok    127.660004  0.0902     0.3896            10 0.506   0.494        0.427        0.394             0.414             0.381              0.205  0.0040       0.0012 -0.119489  0.136344\n",
      "       SCI.NS     ok    220.020004  0.1588     0.5315            10 0.506   0.494        0.529        0.499             0.480             0.449              0.072  0.0070       0.0016 -0.159459  0.190429\n",
      " HOMEFIRST.NS     ok   1246.699951  0.0926     0.3996            10 0.506   0.494        0.436        0.405             0.421             0.389              0.190  0.0042       0.0012 -0.122437  0.139999\n",
      "HINDCOPPER.NS     ok    237.800003  0.1336     0.4872            10 0.506   0.494        0.503        0.472             0.467             0.434              0.099  0.0059       0.0014 -0.147230  0.173192\n",
      "DCMSHRIRAM.NS     ok   1241.199951  0.0832     0.3792            10 0.506   0.494        0.416        0.386             0.405             0.374              0.221  0.0038       0.0011 -0.116595  0.132365\n",
      "  MAHABANK.NS     ok     52.459999  0.0910     0.3991            10 0.506   0.494        0.435        0.404             0.420             0.389              0.191  0.0041       0.0011 -0.122350  0.139759\n",
      "      IDBI.NS     ok     89.190002  0.1050     0.4341            10 0.506   0.494        0.464        0.435             0.441             0.412              0.146  0.0047       0.0012 -0.132393  0.152842\n",
      " AMBUJACEM.NS     ok    567.250000  0.0580     0.3163            10 0.506   0.494        0.349        0.318             0.346             0.314              0.339  0.0027       0.0008 -0.098281  0.109176\n",
      "CENTURYPLY.NS     ok    774.250000  0.0576     0.3145            10 0.506   0.494        0.347        0.317             0.344             0.313              0.343  0.0027       0.0009 -0.097738  0.108533\n",
      "MAHSEAMLES.NS     ok    656.099976  0.0885     0.3978            10 0.506   0.494        0.434        0.404             0.419             0.388              0.193  0.0040       0.0010 -0.122024  0.139167\n",
      "      INFY.NS     ok   1498.699951  0.0322     0.2343            10 0.506   0.494        0.229        0.204             0.228             0.204              0.568  0.0016       0.0006 -0.073813  0.079727\n",
      "      GPPL.NS     ok    152.339996  0.0843     0.3916            10 0.505   0.494        0.427        0.397             0.414             0.383              0.202  0.0038       0.0010 -0.120295  0.136775\n",
      "      SAIL.NS     ok    123.089996  0.0999     0.4332            10 0.505   0.495        0.463        0.435             0.440             0.412              0.148  0.0045       0.0010 -0.132276  0.152257\n",
      "AUROPHARMA.NS     ok   1022.200012  0.0460     0.2895            10 0.505   0.495        0.313        0.282             0.312             0.280              0.408  0.0022       0.0006 -0.090474  0.099358\n",
      "HINDUNILVR.NS     ok   2677.000000  0.0205     0.1923            10 0.505   0.495        0.154        0.131             0.154             0.131              0.715  0.0010       0.0004 -0.061073  0.064911\n",
      "    GESHIP.NS     ok    960.599976  0.0675     0.3598            10 0.504   0.496        0.394        0.367             0.386             0.359              0.254  0.0031       0.0007 -0.111243  0.124817\n",
      "   PAGEIND.NS     ok  45160.000000  0.0310     0.2403            10 0.504   0.496        0.239        0.213             0.239             0.213              0.548  0.0015       0.0005 -0.075728  0.081734\n",
      "  AXISBANK.NS     ok   1056.199951  0.0288     0.2327            10 0.504   0.496        0.225        0.202             0.225             0.202              0.573  0.0014       0.0005 -0.073446  0.079043\n",
      "       MGL.NS     ok   1276.300049  0.0748     0.3809            10 0.504   0.496        0.416        0.389             0.405             0.377              0.218  0.0034       0.0007 -0.117399  0.132584\n",
      "    JKTYRE.NS     ok    351.950012  0.0745     0.3814            10 0.504   0.496        0.416        0.389             0.405             0.377              0.218  0.0034       0.0007 -0.117552  0.132736\n",
      "     GLAND.NS     ok   1867.000000  0.0485     0.3068            10 0.504   0.496        0.336        0.308             0.333             0.304              0.363  0.0023       0.0006 -0.095716  0.105472\n",
      "      SJVN.NS     ok     93.889999  0.1371     0.5233            10 0.504   0.496        0.522        0.497             0.475             0.449              0.076  0.0061       0.0009 -0.157752  0.186403\n",
      "       KEC.NS     ok    862.049988  0.0835     0.4086            10 0.504   0.496        0.442        0.415             0.424             0.398              0.178  0.0038       0.0007 -0.125465  0.142781\n",
      " KOTAKBANK.NS     ok   1942.500000  0.0266     0.2292            10 0.504   0.496        0.219        0.196             0.219             0.196              0.586  0.0013       0.0004 -0.072427  0.077746\n",
      "ICICIPRULI.NS     ok    610.650024  0.0326     0.2553            10 0.504   0.496        0.260        0.237             0.260             0.236              0.504  0.0016       0.0004 -0.080362  0.086971\n",
      "     SYRMA.NS     ok    760.299988  0.1220     0.4964            10 0.504   0.496        0.507        0.481             0.468             0.440              0.093  0.0054       0.0008 -0.150329  0.175952\n",
      " BANKINDIA.NS     ok    112.919998  0.0679     0.3716            10 0.504   0.496        0.406        0.380             0.397             0.370              0.233  0.0031       0.0006 -0.114832  0.129009\n",
      " INTELLECT.NS     ok    985.849976  0.0953     0.4415            10 0.504   0.496        0.468        0.443             0.444             0.418              0.138  0.0043       0.0006 -0.134926  0.155015\n",
      "    APLLTD.NS     ok    943.950012  0.0643     0.3630            10 0.504   0.496        0.397        0.371             0.389             0.362              0.248  0.0030       0.0005 -0.112330  0.125797\n",
      "  SAPPHIRE.NS     ok    320.299988  0.0474     0.3123            10 0.504   0.496        0.342        0.316             0.339             0.312              0.349  0.0022       0.0005 -0.097430  0.107316\n",
      "  CROMPTON.NS     ok    333.700012  0.0385     0.2856            10 0.503   0.497        0.307        0.278             0.305             0.276              0.418  0.0019       0.0004 -0.089524  0.097661\n",
      "   DRREDDY.NS     ok   1253.699951  0.0193     0.2067            10 0.503   0.497        0.178        0.159             0.178             0.159              0.663  0.0010       0.0003 -0.065660  0.069774\n",
      "     IRCON.NS     ok    175.380005  0.1483     0.5550            10 0.503   0.497        0.539        0.514             0.484             0.456              0.060  0.0066       0.0007 -0.166667  0.198475\n",
      "SWANENERGY.NS     ok    457.450012  0.1349     0.5297            10 0.503   0.497        0.525        0.501             0.477             0.451              0.072  0.0060       0.0007 -0.159712  0.188625\n",
      " JSWENERGY.NS     ok    511.299988  0.0881     0.4311            10 0.503   0.497        0.459        0.435             0.437             0.413              0.150  0.0040       0.0005 -0.132080  0.151001\n",
      "     APTUS.NS     ok    324.149994  0.0461     0.3152            10 0.503   0.497        0.345        0.319             0.342             0.315              0.343  0.0022       0.0004 -0.098369  0.108272\n",
      "    VGUARD.NS     ok    356.149994  0.0346     0.2759            10 0.503   0.497        0.292        0.266             0.292             0.265              0.444  0.0017       0.0003 -0.086669  0.094146\n",
      "  RELIANCE.NS     ok   1366.500000  0.0194     0.2112            10 0.503   0.497        0.186        0.166             0.186             0.166              0.648  0.0010       0.0002 -0.067047  0.071287\n",
      " INOXINDIA.NS     ok   1151.800049  0.0616     0.3696            10 0.503   0.497        0.403        0.379             0.394             0.369              0.237  0.0029       0.0004 -0.114438  0.128012\n",
      "    JIOFIN.NS     ok    311.750000  0.0575     0.3557            10 0.503   0.497        0.388        0.365             0.381             0.357              0.262  0.0027       0.0004 -0.110348  0.122930\n",
      "       BLS.NS     ok    369.299988  0.0894     0.4463            10 0.502   0.498        0.471        0.448             0.445             0.421              0.133  0.0041       0.0003 -0.136563  0.156462\n",
      "GODREJPROP.NS     ok   1978.199951  0.0650     0.3866            10 0.502   0.498        0.419        0.395             0.407             0.382              0.211  0.0030       0.0003 -0.119470  0.134156\n",
      "BHARATFORG.NS     ok   1134.599976  0.0461     0.3333            10 0.502   0.498        0.364        0.341             0.360             0.336              0.305  0.0022       0.0002 -0.103923  0.114593\n",
      "     MSUMI.NS     ok     43.000000  0.0267     0.2642            10 0.501   0.499        0.273        0.252             0.272             0.251              0.477  0.0014       0.0001 -0.083329  0.089772\n",
      "       ABB.NS     ok   5148.200195  0.0495     0.3481            10 0.501   0.499        0.379        0.358             0.373             0.351              0.276  0.0024       0.0001 -0.108336  0.119937\n",
      " BAYERCROP.NS     ok   5202.500000  0.0351     0.2984            10 0.501   0.499        0.322        0.298             0.320             0.295              0.385  0.0017       0.0001 -0.093620  0.101975\n",
      "       RCF.NS     ok    157.139999  0.0994     0.4815            10 0.501   0.499        0.495        0.473             0.460             0.436              0.104  0.0045       0.0001 -0.146704  0.169559\n",
      "       HEG.NS     ok    478.250000  0.0923     0.4648            10 0.501   0.499        0.484        0.462             0.453             0.430              0.117  0.0042       0.0002 -0.141990  0.163233\n",
      "    MASTEK.NS     ok   2607.300049  0.0575     0.3752            10 0.501   0.499        0.407        0.386             0.397             0.375              0.228  0.0027       0.0001 -0.116294  0.129811\n",
      "LINDEINDIA.NS     ok   6380.000000  0.0613     0.3889            10 0.501   0.499        0.420        0.399             0.408             0.385              0.207  0.0029       0.0001 -0.120287  0.134793\n",
      "       NCC.NS     ok    211.130005  0.0899     0.4657            10 0.500   0.500        0.484        0.463             0.453             0.430              0.116  0.0041       0.0000 -0.142327  0.163435\n",
      "      MRPL.NS     ok    126.750000  0.1018     0.4974            10 0.500   0.500        0.504        0.484             0.466             0.442              0.092  0.0046      -0.0000 -0.151319  0.175387\n",
      "   THERMAX.NS     ok   3282.199951  0.0600     0.3928            10 0.500   0.500        0.424        0.403             0.410             0.389              0.201  0.0028      -0.0000 -0.121513  0.136113\n",
      "TATAMOTORS.NS     ok    684.400024  0.0294     0.2904            10 0.500   0.500        0.311        0.287             0.309             0.285              0.406  0.0015      -0.0000 -0.091340  0.098933\n",
      "FLUOROCHEM.NS     ok   3410.399902  0.0439     0.3441            10 0.500   0.500        0.375        0.353             0.369             0.347              0.284  0.0021      -0.0000 -0.107289  0.118260\n",
      "  SAREGAMA.NS     ok    491.899994  0.0655     0.4161            10 0.499   0.501        0.444        0.424             0.425             0.405              0.170  0.0031      -0.0001 -0.128356  0.144631\n",
      "     IRCTC.NS     ok    712.000000  0.0300     0.3023            10 0.499   0.501        0.326        0.305             0.324             0.302              0.374  0.0015      -0.0001 -0.095003  0.103107\n",
      "   RRKABEL.NS     ok   1192.099976  0.0652     0.4186            10 0.499   0.501        0.446        0.426             0.427             0.407              0.167  0.0031      -0.0002 -0.129105  0.145498\n",
      "     NIACL.NS     ok    192.869995  0.1148     0.5370            10 0.499   0.501        0.526        0.507             0.476             0.454              0.070  0.0052      -0.0003 -0.162513  0.190325\n",
      "   GODIGIT.NS     ok    351.100006  0.0543     0.3905            10 0.499   0.501        0.421        0.401             0.408             0.388              0.205  0.0026      -0.0002 -0.121019  0.135047\n",
      "   TRIVENI.NS     ok    360.450012  0.0591     0.4094            10 0.499   0.501        0.438        0.419             0.421             0.401              0.178  0.0028      -0.0003 -0.126539  0.141941\n",
      "   OLECTRA.NS     ok   1572.300049  0.0693     0.4399            10 0.498   0.502        0.463        0.445             0.438             0.421              0.141  0.0033      -0.0004 -0.135348  0.153270\n",
      "  EMAMILTD.NS     ok    595.700012  0.0381     0.3470            10 0.498   0.502        0.376        0.358             0.370             0.352              0.278  0.0019      -0.0003 -0.108401  0.119041\n",
      "TRITURBINE.NS     ok    530.250000  0.0864     0.4848            10 0.498   0.502        0.495        0.477             0.460             0.439              0.101  0.0040      -0.0004 -0.148126  0.170144\n",
      "   RBLBANK.NS     ok    269.299988  0.0571     0.4084            10 0.498   0.502        0.437        0.419             0.420             0.401              0.179  0.0028      -0.0004 -0.126319  0.141509\n",
      "       ACE.NS     ok   1082.300049  0.0794     0.4719            10 0.498   0.502        0.487        0.469             0.455             0.434              0.111  0.0037      -0.0005 -0.144513  0.165158\n",
      "  GRAPHITE.NS     ok    518.849976  0.0561     0.4119            10 0.498   0.502        0.440        0.422             0.422             0.404              0.175  0.0027      -0.0005 -0.127397  0.142696\n",
      "     SUNTV.NS     ok    567.400024  0.0211     0.2869            10 0.498   0.502        0.305        0.284             0.303             0.282              0.415  0.0012      -0.0003 -0.090560  0.097360\n",
      "      MMTC.NS     ok     62.869999  0.1271     0.5828            10 0.498   0.502        0.549        0.533             0.486             0.465              0.049  0.0058      -0.0007 -0.175455  0.207644\n",
      "   3MINDIA.NS     ok  31090.000000  0.0182     0.2802            10 0.497   0.503        0.295        0.275             0.294             0.274              0.432  0.0011      -0.0004 -0.088596  0.094924\n",
      "    ELECON.NS     ok    558.900024  0.0760     0.4755            10 0.497   0.503        0.488        0.472             0.455             0.436              0.108  0.0036      -0.0007 -0.145723  0.166322\n",
      "PNBHOUSING.NS     ok    785.450012  0.0544     0.4232            10 0.497   0.503        0.447        0.434             0.427             0.414              0.159  0.0027      -0.0007 -0.130867  0.146648\n",
      "PREMIERENE.NS     ok   1020.250000  0.0991     0.5365            10 0.497   0.503        0.524        0.508             0.474             0.456              0.070  0.0046      -0.0009 -0.162896  0.189407\n",
      "  NIVABUPA.NS     ok     82.830002  0.0719     0.4758            10 0.497   0.503        0.488        0.473             0.455             0.437              0.108  0.0034      -0.0008 -0.145927  0.166214\n",
      "      LTIM.NS     ok   5243.500000  0.0140     0.2739            10 0.497   0.503        0.285        0.267             0.284             0.266              0.450  0.0009      -0.0005 -0.086786  0.092549\n",
      "ENGINERSIN.NS     ok    203.429993  0.0820     0.5030            10 0.496   0.504        0.505        0.491             0.465             0.447              0.088  0.0039      -0.0009 -0.153646  0.176497\n",
      "   J&KBANK.NS     ok    102.690002  0.0532     0.4292            10 0.496   0.504        0.452        0.439             0.430             0.418              0.152  0.0026      -0.0008 -0.132684  0.148697\n",
      " DELHIVERY.NS     ok    472.049988  0.0273     0.3454            10 0.496   0.504        0.373        0.358             0.367             0.352              0.281  0.0015      -0.0007 -0.108284  0.117985\n",
      "      GSPL.NS     ok    297.549988  0.0270     0.3442            10 0.496   0.504        0.371        0.357             0.366             0.351              0.284  0.0015      -0.0007 -0.107920  0.117541\n",
      "NAVINFLUOR.NS     ok   4755.299805  0.0184     0.3090            10 0.496   0.504        0.332        0.317             0.329             0.314              0.357  0.0011      -0.0006 -0.097468  0.104915\n",
      "      SBFC.NS     ok    104.050003  0.0305     0.3605            10 0.496   0.504        0.388        0.375             0.380             0.366              0.254  0.0016      -0.0008 -0.112785  0.123439\n",
      "       VTL.NS     ok    412.200012  0.0340     0.3781            10 0.496   0.504        0.406        0.392             0.395             0.381              0.224  0.0018      -0.0009 -0.117984  0.129768\n",
      " APLAPOLLO.NS     ok   1653.699951  0.0173     0.3120            10 0.495   0.505        0.335        0.321             0.332             0.317              0.351  0.0011      -0.0007 -0.098417  0.105896\n",
      "   SAILIFE.NS     ok    825.400024  0.0547     0.4478            10 0.495   0.505        0.467        0.453             0.441             0.426              0.133  0.0027      -0.0011 -0.138187  0.155396\n",
      " JINDALSAW.NS     ok    205.259995  0.0667     0.4817            10 0.495   0.505        0.491        0.478             0.457             0.440              0.103  0.0032      -0.0012 -0.147851  0.168087\n",
      "CANFINHOME.NS     ok    755.150024  0.0151     0.3054            10 0.495   0.505        0.327        0.313             0.324             0.310              0.366  0.0010      -0.0007 -0.096482  0.103524\n",
      "   YESBANK.NS     ok     19.549999  0.0365     0.3986            10 0.495   0.505        0.424        0.413             0.410             0.398              0.193  0.0019      -0.0010 -0.124096  0.137121\n",
      "     PAYTM.NS     ok   1257.900024  0.0953     0.5639            10 0.495   0.505        0.536        0.527             0.479             0.464              0.056  0.0045      -0.0016 -0.171020  0.199218\n",
      "      GNFC.NS     ok    519.900024  0.0162     0.3251            10 0.495   0.505        0.351        0.337             0.347             0.332              0.321  0.0010      -0.0009 -0.102496  0.110427\n",
      "  TITAGARH.NS     ok    848.599976  0.0725     0.5110            10 0.494   0.505        0.508        0.497             0.465             0.452              0.083  0.0035      -0.0015 -0.156315  0.178937\n",
      "       ITC.NS     ok    406.750000 -0.0041     0.1821            10 0.494   0.505        0.129        0.118             0.129             0.118              0.753  0.0000      -0.0005 -0.058783  0.060429\n",
      "  ANGELONE.NS     ok   2276.399902  0.0712     0.5098            10 0.494   0.506        0.507        0.496             0.465             0.452              0.083  0.0034      -0.0015 -0.156005  0.178438\n",
      " ACMESOLAR.NS     ok    287.200012  0.0809     0.5366            10 0.494   0.506        0.522        0.511             0.472             0.459              0.069  0.0039      -0.0016 -0.163544  0.188607\n",
      "     DABUR.NS     ok    544.599976 -0.0033     0.2122            10 0.494   0.506        0.183        0.174             0.183             0.174              0.644  0.0001      -0.0007 -0.068206  0.070668\n",
      "  USHAMART.NS     ok    382.750000  0.0333     0.4103            10 0.494   0.506        0.435        0.425             0.418             0.406              0.176  0.0018      -0.0013 -0.127726  0.141118\n",
      "       IEX.NS     ok    141.190002  0.0410     0.4389            10 0.494   0.506        0.458        0.449             0.434             0.424              0.142  0.0021      -0.0015 -0.136013  0.151603\n",
      "       IOB.NS     ok     40.000000  0.0594     0.4939            10 0.494   0.506        0.496        0.488             0.459             0.447              0.094  0.0029      -0.0017 -0.151712  0.172153\n",
      "BALKRISIND.NS     ok   2360.600098  0.0037     0.2849            10 0.493   0.507        0.298        0.285             0.297             0.283              0.420  0.0005      -0.0010 -0.090578  0.095926\n",
      "     RITES.NS     ok    264.179993  0.0532     0.4856            10 0.493   0.507        0.491        0.483             0.456             0.444              0.100  0.0027      -0.0018 -0.149459  0.168865\n",
      "      LTTS.NS     ok   4206.899902  0.0020     0.2807            10 0.493   0.507        0.292        0.279             0.291             0.277              0.432  0.0004      -0.0010 -0.089326  0.094381\n",
      "   TIINDIA.NS     ok   3047.500000  0.0230     0.3931            10 0.492   0.508        0.417        0.410             0.404             0.395              0.201  0.0014      -0.0015 -0.122894  0.134556\n",
      "     PIIND.NS     ok   3753.199951 -0.0031     0.2513            10 0.492   0.508        0.248        0.239             0.247             0.238              0.515  0.0002      -0.0010 -0.080428  0.084066\n",
      " ZFCVINDIA.NS     ok  14190.000000  0.0124     0.3614            10 0.492   0.508        0.386        0.379             0.378             0.371              0.251  0.0009      -0.0015 -0.113670  0.122923\n",
      "SUPREMEIND.NS     ok   4591.299805  0.0166     0.3848            10 0.491   0.509        0.409        0.402             0.398             0.389              0.214  0.0011      -0.0016 -0.120628  0.131355\n",
      "  KPITTECH.NS     ok   1206.099976  0.0140     0.3736            10 0.491   0.509        0.398        0.391             0.388             0.381              0.231  0.0010      -0.0016 -0.117331  0.127299\n",
      "    AUBANK.NS     ok    708.299988 -0.0003     0.3044            10 0.491   0.509        0.322        0.315             0.320             0.312              0.369  0.0003      -0.0013 -0.096733  0.102508\n",
      "  JUSTDIAL.NS     ok    819.450012  0.0176     0.3970            10 0.491   0.509        0.420        0.414             0.406             0.399              0.195  0.0012      -0.0018 -0.124257  0.135686\n",
      "       IGL.NS     ok    216.869995  0.0107     0.3708            10 0.491   0.509        0.395        0.389             0.386             0.379              0.235  0.0009      -0.0017 -0.116588  0.126158\n",
      " GUJGASLTD.NS     ok    437.049988 -0.0030     0.2924            10 0.491   0.509        0.306        0.298             0.304             0.295              0.400  0.0002      -0.0013 -0.093115  0.098207\n",
      "  RTNINDIA.NS     ok     61.320000  0.0506     0.5146            10 0.490   0.510        0.507        0.501             0.464             0.455              0.081  0.0026      -0.0024 -0.158085  0.179188\n",
      "   FINPIPE.NS     ok    217.009995  0.0131     0.3860            10 0.490   0.510        0.410        0.404             0.398             0.391              0.211  0.0010      -0.0018 -0.121108  0.131621\n",
      "    M&MFIN.NS     ok    260.700012 -0.0022     0.3034            10 0.490   0.510        0.321        0.314             0.319             0.310              0.371  0.0003      -0.0014 -0.096483  0.102068\n",
      "       TCS.NS     ok   3111.500000 -0.0119     0.2040            10 0.490   0.510        0.167        0.161             0.167             0.161              0.672 -0.0002      -0.0010 -0.065952  0.067513\n",
      "       PEL.NS     ok   1080.900024  0.0092     0.3706            10 0.490   0.510        0.395        0.389             0.385             0.379              0.236  0.0008      -0.0017 -0.116582  0.126024\n",
      " JYOTHYLAB.NS     ok    337.100006  0.0052     0.3635            10 0.490   0.510        0.386        0.383             0.378             0.374              0.248  0.0006      -0.0018 -0.114570  0.123349\n",
      "     AAVAS.NS     ok   1528.300049 -0.0067     0.2961            10 0.490   0.510        0.310        0.304             0.309             0.301              0.390  0.0001      -0.0015 -0.094408  0.099352\n",
      "       JWL.NS     ok    330.200012  0.0501     0.5333            10 0.489   0.511        0.516        0.513             0.468             0.461              0.071  0.0026      -0.0028 -0.163592  0.185941\n",
      "POONAWALLA.NS     ok    425.750000  0.0040     0.3721            10 0.489   0.511        0.395        0.392             0.386             0.381              0.233  0.0006      -0.0020 -0.117218  0.126318\n",
      "   SBICARD.NS     ok    793.400024 -0.0134     0.2364            10 0.489   0.511        0.221        0.217             0.221             0.217              0.562 -0.0003      -0.0012 -0.076138  0.078493\n",
      "NATCOPHARM.NS     ok    865.650024  0.0047     0.3800            10 0.489   0.511        0.402        0.399             0.391             0.387              0.222  0.0006      -0.0020 -0.119584  0.129125\n",
      "DATAPATTNS.NS     ok   2545.500000  0.0426     0.5204            10 0.489   0.511        0.508        0.506             0.464             0.458              0.078  0.0023      -0.0028 -0.160053  0.180904\n",
      "  SKFINDIA.NS     ok   4570.100098 -0.0133     0.2680            10 0.489   0.511        0.269        0.265             0.269             0.264              0.468 -0.0002      -0.0015 -0.085957  0.089346\n",
      " ELGIEQUIP.NS     ok    494.700012  0.0066     0.4043            10 0.489   0.511        0.424        0.425             0.408             0.407              0.185  0.0007      -0.0023 -0.126844  0.137782\n",
      "    EMCURE.NS     ok   1365.099976  0.0029     0.3845            10 0.489   0.511        0.407        0.404             0.395             0.391              0.213  0.0006      -0.0022 -0.121015  0.130635\n",
      "  DBREALTY.NS     ok    170.309998  0.0556     0.5703            10 0.489   0.511        0.535        0.535             0.476             0.470              0.054  0.0029      -0.0033 -0.174177  0.199661\n",
      "      ATUL.NS     ok   6372.000000 -0.0135     0.2811            10 0.489   0.511        0.289        0.283             0.288             0.282              0.431 -0.0002      -0.0016 -0.090008  0.093847\n",
      "       ACC.NS     ok   1822.000000 -0.0132     0.2879            10 0.489   0.511        0.298        0.293             0.297             0.291              0.412 -0.0002      -0.0017 -0.092110  0.096220\n",
      "LATENTVIEW.NS     ok    414.200012 -0.0067     0.3463            10 0.488   0.512        0.368        0.366             0.362             0.359              0.279  0.0001      -0.0021 -0.109753  0.116785\n",
      "BERGEPAINT.NS     ok    543.799988 -0.0162     0.2613            10 0.488   0.512        0.258        0.256             0.258             0.255              0.487 -0.0003      -0.0016 -0.083989  0.086920\n",
      " CREDITACC.NS     ok   1391.900024  0.0062     0.4153            10 0.488   0.512        0.434        0.434             0.416             0.415              0.169  0.0007      -0.0025 -0.130149  0.141646\n",
      "  TATACHEM.NS     ok    931.450012 -0.0111     0.3175            10 0.488   0.512        0.336        0.332             0.333             0.328              0.339 -0.0001      -0.0019 -0.101118  0.106556\n",
      "    HONAUT.NS     ok  37660.000000 -0.0165     0.2614            10 0.488   0.512        0.258        0.256             0.258             0.256              0.487 -0.0003      -0.0016 -0.084026  0.086936\n",
      "MAPMYINDIA.NS     ok   1648.900024  0.0000     0.3921            10 0.488   0.512        0.412        0.413             0.399             0.398              0.203  0.0005      -0.0024 -0.123384  0.133157\n",
      "  TATACOMM.NS     ok   1551.500000 -0.0160     0.2754            10 0.488   0.512        0.280        0.275             0.279             0.274              0.447 -0.0003      -0.0017 -0.088339  0.091768\n",
      "  ALOKINDS.NS     ok     18.260000  0.0186     0.5025            10 0.487   0.513        0.496        0.498             0.456             0.455              0.089  0.0013      -0.0034 -0.155614  0.173349\n",
      "    TIMKEN.NS     ok   2931.300049 -0.0201     0.3255            10 0.486   0.514        0.343        0.345             0.340             0.340              0.321 -0.0004      -0.0024 -0.103906  0.108967\n",
      "      HFCL.NS     ok     70.279999  0.0120     0.5032            10 0.486   0.514        0.495        0.499             0.456             0.455              0.089  0.0011      -0.0037 -0.156045  0.173297\n",
      " CENTRALBK.NS     ok     35.369999  0.0044     0.4728            10 0.486   0.514        0.476        0.480             0.445             0.445              0.110  0.0007      -0.0035 -0.147339  0.162039\n",
      "    TBOTEK.NS     ok   1382.500000 -0.0066     0.4204            10 0.486   0.514        0.436        0.441             0.417             0.421              0.162  0.0002      -0.0031 -0.132132  0.142883\n",
      "   RKFORGE.NS     ok    578.200012 -0.0093     0.4080            10 0.486   0.514        0.424        0.430             0.408             0.412              0.180  0.0001      -0.0030 -0.128499  0.138364\n",
      "SAMMAANCAP.NS     ok    139.360001  0.0046     0.4808            10 0.485   0.515        0.482        0.486             0.448             0.448              0.104  0.0008      -0.0036 -0.149685  0.164892\n",
      "WELSPUNLIV.NS     ok    112.570000 -0.0010     0.4569            10 0.485   0.515        0.464        0.469             0.437             0.439              0.124  0.0005      -0.0034 -0.142815  0.156112\n",
      "  BLUEDART.NS     ok   5755.000000 -0.0238     0.3053            10 0.485   0.515        0.318        0.320             0.316             0.317              0.367 -0.0006      -0.0023 -0.097855  0.101792\n",
      "     INDGN.NS     ok    546.000000 -0.0159     0.4035            10 0.484   0.516        0.419        0.427             0.404             0.410              0.186 -0.0002      -0.0032 -0.127379  0.136475\n",
      "    CAMPUS.NS     ok    266.250000 -0.0238     0.3446            10 0.484   0.516        0.363        0.367             0.357             0.360              0.283 -0.0005      -0.0027 -0.109865  0.115460\n",
      "    AIAENG.NS     ok   3113.899902 -0.0298     0.2494            10 0.484   0.516        0.240        0.242             0.239             0.241              0.520 -0.0009      -0.0020 -0.080799  0.082256\n",
      "  PNCINFRA.NS     ok    303.899994 -0.0154     0.4275            10 0.483   0.517        0.440        0.448             0.420             0.426              0.155 -0.0001      -0.0035 -0.134539  0.144978\n",
      "CARBORUNIV.NS     ok    939.750000 -0.0293     0.3252            10 0.483   0.517        0.342        0.346             0.338             0.341              0.321 -0.0008      -0.0027 -0.104128  0.108438\n",
      " DEEPAKNTR.NS     ok   1758.800049 -0.0299     0.3163            10 0.483   0.517        0.331        0.335             0.328             0.330              0.342 -0.0008      -0.0026 -0.101417  0.105313\n",
      "  AEGISLOG.NS     ok    691.500000 -0.0002     0.5066            10 0.483   0.517        0.496        0.503             0.455             0.458              0.087  0.0006      -0.0042 -0.157447  0.173942\n",
      "ALKYLAMINE.NS     ok   2061.800049 -0.0301     0.3336            10 0.483   0.517        0.351        0.356             0.346             0.350              0.304 -0.0008      -0.0028 -0.106733  0.111346\n",
      "   TRIDENT.NS     ok     28.410000 -0.0267     0.3822            10 0.482   0.518        0.398        0.407             0.388             0.395              0.218 -0.0006      -0.0033 -0.121344  0.128491\n",
      "   DEVYANI.NS     ok    174.889999 -0.0309     0.3410            10 0.482   0.518        0.358        0.364             0.353             0.358              0.290 -0.0008      -0.0030 -0.108996  0.113866\n",
      "   UCOBANK.NS     ok     28.860001 -0.0149     0.4726            10 0.482   0.518        0.473        0.483             0.442             0.448              0.110 -0.0000      -0.0042 -0.147935  0.161074\n",
      "   PRAJIND.NS     ok    418.399994 -0.0281     0.4102            10 0.482   0.518        0.423        0.436             0.407             0.417              0.176 -0.0006      -0.0038 -0.129811  0.138299\n",
      "  ADANIENT.NS     ok   2274.199951 -0.0311     0.4205            10 0.481   0.519        0.431        0.445             0.413             0.424              0.163 -0.0007      -0.0040 -0.133010  0.141814\n",
      "     CLEAN.NS     ok   1166.500000 -0.0400     0.3117            10 0.481   0.519        0.323        0.331             0.321             0.327              0.352 -0.0012      -0.0030 -0.100392  0.103297\n",
      "     BSOFT.NS     ok    376.899994 -0.0398     0.3356            10 0.481   0.519        0.351        0.359             0.346             0.353              0.301 -0.0012      -0.0032 -0.107679  0.111606\n",
      "ADANIGREEN.NS     ok    933.849976 -0.0158     0.5178            10 0.480   0.520        0.500        0.512             0.457             0.464              0.079 -0.0000      -0.0051 -0.161261  0.177265\n",
      "  AARTIIND.NS     ok    383.049988 -0.0390     0.3755            10 0.480   0.520        0.391        0.403             0.381             0.391              0.228 -0.0011      -0.0037 -0.119760  0.125600\n",
      "      ATGL.NS     ok    595.849976 -0.0234     0.4913            10 0.480   0.520        0.484        0.496             0.448             0.455              0.097 -0.0003      -0.0049 -0.153739  0.167387\n",
      " WHIRLPOOL.NS     ok   1333.699951 -0.0408     0.3659            10 0.480   0.520        0.381        0.393             0.372             0.384              0.244 -0.0012      -0.0037 -0.116909  0.122141\n",
      "ADANIENSOL.NS     ok    763.049988 -0.0176     0.5285            10 0.480   0.520        0.504        0.520             0.458             0.469              0.073 -0.0001      -0.0053 -0.164437  0.181034\n",
      "      JBMA.NS     ok    611.450012 -0.0310     0.4650            10 0.480   0.520        0.466        0.480             0.437             0.447              0.116 -0.0007      -0.0047 -0.146221  0.157606\n",
      "    CONCOR.NS     ok    544.799988 -0.0425     0.3787            10 0.480   0.520        0.392        0.406             0.382             0.395              0.223 -0.0012      -0.0039 -0.120826  0.126541\n",
      "SUNDRMFAST.NS     ok   1024.300049 -0.0447     0.2515            10 0.479   0.521        0.239        0.249             0.239             0.248              0.512 -0.0015      -0.0026 -0.082003  0.082344\n",
      " INDIAMART.NS     ok   2548.000000 -0.0463     0.3193            10 0.479   0.521        0.331        0.342             0.328             0.338              0.335 -0.0015      -0.0033 -0.102945  0.105664\n",
      "KAJARIACER.NS     ok   1209.800049 -0.0471     0.2916            10 0.479   0.521        0.296        0.307             0.295             0.304              0.401 -0.0015      -0.0031 -0.094459  0.096018\n",
      "    ALIVUS.NS     ok    934.750000 -0.0406     0.4230            10 0.479   0.521        0.431        0.448             0.413             0.427              0.161 -0.0011      -0.0044 -0.134061  0.142244\n",
      "   SIEMENS.NS     ok   3190.300049 -0.0296     0.5158            10 0.478   0.522        0.497        0.512             0.454             0.465              0.081 -0.0006      -0.0056 -0.161114  0.175877\n",
      "   NSLNISP.NS     ok     39.230000 -0.0423     0.4454            10 0.478   0.522        0.450        0.466             0.426             0.439              0.135 -0.0012      -0.0049 -0.140806  0.150125\n",
      "    HONASA.NS     ok    297.250000 -0.0353     0.5170            10 0.477   0.523        0.497        0.514             0.454             0.466              0.080 -0.0008      -0.0058 -0.161654  0.176041\n",
      " FINCABLES.NS     ok    859.299988 -0.0507     0.4035            10 0.477   0.523        0.414        0.433             0.398             0.416              0.185 -0.0015      -0.0046 -0.128590  0.134917\n",
      "    CYIENT.NS     ok   1203.099976 -0.0535     0.3923            10 0.477   0.523        0.403        0.423             0.391             0.408              0.201 -0.0017      -0.0045 -0.125304  0.130825\n",
      "    KNRCON.NS     ok    196.190002 -0.0538     0.3930            10 0.477   0.523        0.404        0.424             0.391             0.409              0.200 -0.0017      -0.0045 -0.125532  0.131070\n",
      " NETWORK18.NS     ok     53.770000 -0.0417     0.5095            10 0.477   0.523        0.492        0.510             0.452             0.464              0.084 -0.0010      -0.0059 -0.159684  0.173060\n",
      "  WESTLIFE.NS     ok    739.200012 -0.0565     0.3215            10 0.477   0.523        0.332        0.348             0.328             0.343              0.329 -0.0019      -0.0037 -0.103964  0.105963\n",
      "  SONACOMS.NS     ok    444.950012 -0.0578     0.3474            10 0.476   0.524        0.360        0.378             0.354             0.370              0.276 -0.0019      -0.0041 -0.111906  0.114922\n",
      "    SWIGGY.NS     ok    425.950012 -0.0432     0.5241            10 0.476   0.524        0.499        0.520             0.455             0.470              0.075 -0.0011      -0.0063 -0.164009  0.178256\n",
      " TATAELXSI.NS     ok   5425.500000 -0.0589     0.2961            10 0.476   0.524        0.299        0.315             0.298             0.313              0.390 -0.0020      -0.0036 -0.096265  0.097057\n",
      "   SYNGENE.NS     ok    635.650024 -0.0577     0.2731            10 0.476   0.524        0.267        0.281             0.267             0.280              0.453 -0.0020      -0.0033 -0.089144  0.089183\n",
      "ASIANPAINT.NS     ok   2540.000000 -0.0494     0.1977            10 0.475   0.525        0.148        0.158             0.148             0.158              0.694 -0.0017      -0.0024 -0.065358  0.063779\n",
      "    AFCONS.NS     ok    425.950012 -0.0620     0.3778            10 0.475   0.525        0.388        0.409             0.379             0.397              0.224 -0.0020      -0.0046 -0.121238  0.125360\n",
      "IDFCFIRSTB.NS     ok     69.489998 -0.0610     0.2759            10 0.474   0.526        0.270        0.286             0.269             0.284              0.447 -0.0021      -0.0035 -0.090131  0.090006\n",
      "      IDEA.NS     ok      6.510000 -0.0388     0.5961            10 0.474   0.526        0.536        0.559             0.471             0.484              0.045 -0.0008      -0.0076 -0.184678  0.204559\n",
      "      CERA.NS     ok   6333.000000 -0.0681     0.3218            10 0.474   0.526        0.330        0.350             0.327             0.344              0.329 -0.0023      -0.0042 -0.104472  0.105564\n",
      "      TTML.NS     ok     58.750000 -0.0661     0.4845            10 0.473   0.527        0.474        0.498             0.441             0.458              0.101 -0.0020      -0.0065 -0.153168  0.162966\n",
      "      IIFL.NS     ok    438.200012 -0.0666     0.4946            10 0.473   0.527        0.480        0.504             0.444             0.462              0.094 -0.0021      -0.0066 -0.156155  0.166567\n",
      " KANSAINER.NS     ok    241.990005 -0.0667     0.2374            10 0.472   0.528        0.211        0.230             0.211             0.230              0.559 -0.0024      -0.0034 -0.078405  0.076558\n",
      "    RENUKA.NS     ok     32.439999 -0.0800     0.4032            10 0.472   0.528        0.409        0.438             0.394             0.421              0.185 -0.0027      -0.0057 -0.129512  0.133491\n",
      "SONATSOFTW.NS     ok    356.299988 -0.0794     0.4545            10 0.472   0.528        0.451        0.480             0.425             0.450              0.125 -0.0026      -0.0065 -0.144750  0.151645\n",
      "BANDHANBNK.NS     ok    162.039993 -0.0829     0.3654            10 0.471   0.529        0.373        0.400             0.365             0.391              0.244 -0.0029      -0.0053 -0.118225  0.120079\n",
      "   SWSOLAR.NS     ok    269.049988 -0.0813     0.4897            10 0.471   0.529        0.476        0.502             0.441             0.461              0.098 -0.0026      -0.0071 -0.155197  0.164114\n",
      "    ASTRAL.NS     ok   1417.900024 -0.0774     0.2782            10 0.470   0.530        0.270        0.293             0.269             0.291              0.440 -0.0027      -0.0041 -0.091445  0.090106\n",
      "       AWL.NS     ok    257.399994 -0.0896     0.3806            10 0.470   0.530        0.387        0.418             0.376             0.406              0.219 -0.0031      -0.0058 -0.123043  0.125104\n",
      " NTPCGREEN.NS     ok    105.970001 -0.0910     0.3861            10 0.470   0.530        0.391        0.424             0.379             0.411              0.210 -0.0032      -0.0059 -0.124769  0.126995\n",
      "  TEJASNET.NS     ok    585.799988 -0.0905     0.4925            10 0.470   0.530        0.476        0.505             0.441             0.463              0.096 -0.0030      -0.0076 -0.156341  0.164704\n",
      "  FIVESTAR.NS     ok    526.950012 -0.1005     0.3794            10 0.468   0.532        0.384        0.419             0.373             0.407              0.220 -0.0035      -0.0062 -0.123066  0.124206\n",
      "      RHIM.NS     ok    479.549988 -0.0969     0.3312            10 0.468   0.532        0.335        0.366             0.331             0.360              0.309 -0.0035      -0.0055 -0.108343  0.107544\n",
      "   PVRINOX.NS     ok   1119.400024 -0.0943     0.2936            10 0.467   0.533        0.288        0.319             0.286             0.317              0.397 -0.0034      -0.0050 -0.096772  0.094656\n",
      "STARHEALTH.NS     ok    439.750000 -0.0865     0.2521            10 0.467   0.533        0.230        0.258             0.230             0.257              0.513 -0.0031      -0.0043 -0.083706  0.080752\n",
      "     TANLA.NS     ok    630.200012 -0.1295     0.4277            10 0.463   0.537        0.421        0.466             0.402             0.443              0.155 -0.0046      -0.0080 -0.138508  0.139875\n",
      " BATAINDIA.NS     ok   1157.400024 -0.0941     0.2262            10 0.462   0.538        0.187        0.218             0.187             0.218              0.596 -0.0035      -0.0044 -0.075930  0.071581\n",
      "HAPPSTMNDS.NS     ok    570.400024 -0.1080     0.2765            10 0.462   0.538        0.261        0.298             0.260             0.296              0.443 -0.0040      -0.0053 -0.092013  0.088189\n",
      "MOTILALOFS.NS     ok    875.099976 -0.0022     1.0978            10 0.460   0.540        0.654        0.699             0.490             0.509              0.001  0.0013      -0.0219 -0.319001  0.397347\n",
      "  MANYAVAR.NS     ok    743.849976 -0.1263     0.3188            10 0.460   0.540        0.315        0.357             0.312             0.352              0.336 -0.0046      -0.0065 -0.105623  0.101975\n",
      "INDUSINDBK.NS     ok    751.200012 -0.1481     0.3816            10 0.458   0.542        0.378        0.430             0.368             0.416              0.216 -0.0054      -0.0081 -0.125388  0.122862\n",
      "   OLAELEC.NS     ok     61.959999 -0.1838     0.6596            10 0.456   0.544        0.548        0.601             0.468             0.504              0.029 -0.0065      -0.0147 -0.207316  0.220799\n",
      "     ROUTE.NS     ok    855.000000 -0.1419     0.2923            10 0.454   0.546        0.276        0.328             0.275             0.325              0.400 -0.0053      -0.0068 -0.098070  0.092134\n",
      "       IKS.NS     ok   1496.800049 -0.1944     0.4728            10 0.453   0.547        0.447        0.507             0.418             0.470              0.112 -0.0071      -0.0113 -0.154023  0.152881\n",
      "      ZEEL.NS     ok    115.320000 -0.2093     0.5466            10 0.452   0.548        0.491        0.553             0.442             0.494              0.064 -0.0076      -0.0132 -0.175987  0.178562\n",
      "      IGIL.NS     ok    343.750000 -0.2197     0.5117            10 0.450   0.550        0.470        0.536             0.431             0.486              0.082 -0.0081      -0.0130 -0.166242  0.165591\n",
      "     ABFRL.NS     ok     83.320000 -0.2373     0.8581            10 0.448   0.552        0.601        0.665             0.479             0.515              0.006 -0.0083      -0.0223 -0.263289  0.292066\n",
      "  BAJAJHFL.NS     ok    113.279999 -0.1974     0.3553            10 0.447   0.553        0.343        0.414             0.337             0.405              0.259 -0.0074      -0.0097 -0.119197  0.111506\n",
      "     AKUMS.NS     ok    472.700012 -0.2489     0.4610            10 0.444   0.556        0.429        0.507             0.403             0.474              0.123 -0.0093      -0.0132 -0.152414  0.146249\n",
      "   RAYMOND.NS     ok    610.000000 -0.2898     0.9174            10 0.443   0.557        0.610        0.681             0.478             0.517              0.004 -0.0103      -0.0263 -0.280508  0.311871\n",
      "      GPIL.NS     ok    240.360001 -0.2236     1.1915            10 0.443   0.557        0.654        0.723             0.480             0.519              0.000 -0.0074      -0.0344 -0.348172  0.422100\n",
      "  TATATECH.NS     ok    681.099976 -0.1854     0.2689            10 0.440   0.560        0.234        0.306             0.234             0.304              0.462 -0.0070      -0.0083 -0.092452  0.082237\n",
      "  FIRSTCRY.NS     ok    360.899994 -0.3029     0.5308            10 0.439   0.561        0.470        0.557             0.427             0.501              0.072 -0.0113      -0.0166 -0.174508  0.168561\n",
      "      CGCL.NS     ok    188.380005 -0.3447     1.0928            10 0.437   0.563        0.636        0.715             0.476             0.522              0.001 -0.0123      -0.0349 -0.326936  0.376518\n",
      "   COHANCE.NS     ok    909.599976 -0.2383     0.3226            10 0.434   0.566        0.296        0.385             0.293             0.379              0.327 -0.0090      -0.0109 -0.110741  0.098391\n",
      "RAYMONDLSL.NS     ok   1190.599976 -0.4542     0.5070            10 0.413   0.587        0.436        0.565             0.401             0.514              0.084 -0.0173      -0.0220 -0.172598  0.153120\n",
      "\n",
      "Saved: swing_mc_screen.csv\n"
     ]
    },
    {
     "name": "stderr",
     "output_type": "stream",
     "text": [
      "/var/folders/mn/tx231v5158797chnp22wm9000000gp/T/ipykernel_61094/4004665421.py:76: FutureWarning: Calling float on a single element Series is deprecated and will raise a TypeError in the future. Use float(ser.iloc[0]) instead\n",
      "  mu_ann = float(log_ret.mean()) * TRADING_DAYS\n",
      "/var/folders/mn/tx231v5158797chnp22wm9000000gp/T/ipykernel_61094/4004665421.py:77: FutureWarning: Calling float on a single element Series is deprecated and will raise a TypeError in the future. Use float(ser.iloc[0]) instead\n",
      "  sigma_ann = float(log_ret.std(ddof=1)) * math.sqrt(TRADING_DAYS)\n",
      "/var/folders/mn/tx231v5158797chnp22wm9000000gp/T/ipykernel_61094/4004665421.py:78: FutureWarning: Calling float on a single element Series is deprecated and will raise a TypeError in the future. Use float(ser.iloc[0]) instead\n",
      "  S0 = float(tail.iloc[-1])\n"
     ]
    }
   ],
   "source": [
    "#!/usr/bin/env python3\n",
    "\"\"\"\n",
    "Swing Monte Carlo Stock Screener (Yahoo Finance)\n",
    "\n",
    "What it does:\n",
    "- Downloads daily adjusted close for a list of tickers\n",
    "- Estimates annualized drift (mu) and volatility (sigma) from lookback window\n",
    "- Runs GBM Monte Carlo for a swing horizon (e.g., 10 trading days)\n",
    "- Computes probability stock ends higher vs lower (P_up / P_down)\n",
    "- Computes probability to TOUCH +Target% or -Target% within horizon\n",
    "- Computes FIRST-PASSAGE odds: P(hit +Target before -Target) and vice versa\n",
    "- Outputs a ranked CSV\n",
    "\n",
    "Dependencies:\n",
    "    pip install yfinance pandas numpy\n",
    "\n",
    "Notes:\n",
    "- This assumes a GBM model. Real returns may have fat tails/regime changes.\n",
    "- Consider shrinking drift to reduce overfit (DRIFT_SHRINK in config).\n",
    "- For NSE symbols use \".NS\" suffix (e.g., INFY.NS).\n",
    "\n",
    "Here’s what each column in your Monte Carlo swing screen means (all probabilities are 0–1, all returns are decimals—e.g., 0.022 = +2.2%):\n",
    "\n",
    "ticker – The symbol you screened.\n",
    "\n",
    "status – Whether the run succeeded (ok) or had an issue (no_data, param_error: …).\n",
    "\n",
    "S0 – The latest price used as the simulation start (your “entry” reference).\n",
    "\n",
    "mu_ann – Annualized drift estimate from recent daily log-returns (after shrinkage). Rough trend signal used inside the model (can be negative).\n",
    "\n",
    "sigma_ann – Annualized volatility (std dev) from recent daily log-returns. Higher → wider price distribution. Approx daily vol ≈ sigma_ann / √252.\n",
    "\n",
    "horizon_days – Number of trading days simulated (your swing horizon).\n",
    "\n",
    "P_up – Probability terminal price after horizon_days ends above S0.\n",
    "\n",
    "P_down – Probability terminal price ends below S0. (Rounding means P_up + P_down might not equal 1 exactly.)\n",
    "\n",
    "P_touch_+5% – Probability price touches +5% (from S0) at any time during the horizon (intraperiod “barrier touch”, not necessarily the close).\n",
    "\n",
    "P_touch_-5% – Probability price touches −5% sometime during the horizon.\n",
    "\n",
    "P(+target first) – First-passage probability of hitting +5% before −5%. (Pathwise ordering; very useful for target/stop asymmetry.)\n",
    "\n",
    "P(-target first) – First-passage probability of hitting −5% before +5%.\n",
    "\n",
    "P(neither target) – Probability neither +5% nor −5% is touched before the horizon ends.\n",
    "\n",
    "E[ret] – Expected terminal return (mean of S_T / S0 − 1) after horizon_days.\n",
    "\n",
    "Median[ret] – Median terminal return (50th percentile).\n",
    "\n",
    "Q05[ret] – 5th percentile terminal return (a “bad-case” tail; ~1-in-20 worse).\n",
    "\n",
    "Q95[ret] – 95th percentile terminal return (a “good-case” tail; ~1-in-20 better).\n",
    "\n",
    "How to read one line (example)\n",
    "\n",
    "ETERNAL.NS\n",
    "\n",
    "P_up = 0.612 → ~61.2% chance the stock finishes higher than 322.40 after 10 trading days.\n",
    "\n",
    "P_touch_+5% = 0.48, P_touch_-5% = 0.273 → ~48% odds to tag +5% sometime vs ~27.3% to tag −5%.\n",
    "\n",
    "P(+target first) = 0.471 vs P(-target first) = 0.267 → More likely to hit +5% before −5% than the opposite.\n",
    "\n",
    "E[ret] = 0.0222 and Median[ret] = 0.0199 → Expected/median terminal gain ≈ +2.2% / +2.0% over 10 days.\n",
    "\n",
    "Q05 = −0.0911, Q95 = +0.1425 → Middle 90% of outcomes roughly −9.1% to +14.2%.\n",
    "\"\"\"\n",
    "\n",
    "import math\n",
    "import sys\n",
    "from typing import Dict, Tuple\n",
    "from datetime import datetime\n",
    "\n",
    "import numpy as np\n",
    "import pandas as pd\n",
    "import yfinance as yf\n",
    "\n",
    "# ==============================\n",
    "# CONFIG — EDIT ME\n",
    "# ==============================\n",
    "TICKERS = ['360ONE.NS', '3MINDIA.NS', 'ABB.NS', 'ACC.NS', 'ACMESOLAR.NS', 'AIAENG.NS', 'APLAPOLLO.NS', 'AUBANK.NS', 'AWL.NS', 'AADHARHFC.NS', 'AARTIIND.NS', 'AAVAS.NS', 'ABBOTINDIA.NS', 'ACE.NS', 'ADANIENSOL.NS', 'ADANIENT.NS', 'ADANIGREEN.NS', 'ADANIPORTS.NS', 'ADANIPOWER.NS', 'ATGL.NS', 'ABCAPITAL.NS', 'ABFRL.NS', 'ABREL.NS', 'ABSLAMC.NS', 'AEGISLOG.NS', 'AFCONS.NS', 'AFFLE.NS', 'AJANTPHARM.NS', 'AKUMS.NS', 'APLLTD.NS', 'ALIVUS.NS', 'ALKEM.NS', 'ALKYLAMINE.NS', 'ALOKINDS.NS', 'ARE&M.NS', 'AMBER.NS', 'AMBUJACEM.NS', 'ANANDRATHI.NS', 'ANANTRAJ.NS', 'ANGELONE.NS', 'APARINDS.NS', 'APOLLOHOSP.NS', 'APOLLOTYRE.NS', 'APTUS.NS', 'ASAHIINDIA.NS', 'ASHOKLEY.NS', 'ASIANPAINT.NS', 'ASTERDM.NS', 'ASTRAZEN.NS', 'ASTRAL.NS', 'ATUL.NS', 'AUROPHARMA.NS', 'AIIL.NS', 'DMART.NS', 'AXISBANK.NS', 'BASF.NS', 'BEML.NS', 'BLS.NS', 'BSE.NS', 'BAJAJ-AUTO.NS', 'BAJFINANCE.NS', 'BAJAJFINSV.NS', 'BAJAJHLDNG.NS', 'BAJAJHFL.NS', 'BALKRISIND.NS', 'BALRAMCHIN.NS', 'BANDHANBNK.NS', 'BANKBARODA.NS', 'BANKINDIA.NS', 'MAHABANK.NS', 'BATAINDIA.NS', 'BAYERCROP.NS', 'BERGEPAINT.NS', 'BDL.NS', 'BEL.NS', 'BHARATFORG.NS', 'BHEL.NS', 'BPCL.NS', 'BHARTIARTL.NS', 'BHARTIHEXA.NS', 'BIKAJI.NS', 'BIOCON.NS', 'BSOFT.NS', 'BLUEDART.NS', 'BLUESTARCO.NS', 'BBTC.NS', 'BOSCHLTD.NS', 'FIRSTCRY.NS', 'BRIGADE.NS', 'BRITANNIA.NS', 'MAPMYINDIA.NS', 'CCL.NS', 'CESC.NS', 'CGPOWER.NS', 'CRISIL.NS', 'CAMPUS.NS', 'CANFINHOME.NS', 'CANBK.NS', 'CAPLIPOINT.NS', 'CGCL.NS', 'CARBORUNIV.NS', 'CASTROLIND.NS', 'CEATLTD.NS', 'CENTRALBK.NS', 'CDSL.NS', 'CENTURYPLY.NS', 'CERA.NS', 'CHALET.NS', 'CHAMBLFERT.NS', 'CHENNPETRO.NS', 'CHOLAHLDNG.NS', 'CHOLAFIN.NS', 'CIPLA.NS', 'CUB.NS', 'CLEAN.NS', 'COALINDIA.NS', 'COCHINSHIP.NS', 'COFORGE.NS', 'COHANCE.NS', 'COLPAL.NS', 'CAMS.NS', 'CONCORDBIO.NS', 'CONCOR.NS', 'COROMANDEL.NS', 'CRAFTSMAN.NS', 'CREDITACC.NS', 'CROMPTON.NS', 'CUMMINSIND.NS', 'CYIENT.NS', 'DCMSHRIRAM.NS', 'DLF.NS', 'DOMS.NS', 'DABUR.NS', 'DALBHARAT.NS', 'DATAPATTNS.NS', 'DEEPAKFERT.NS', 'DEEPAKNTR.NS', 'DELHIVERY.NS', 'DEVYANI.NS', 'DIVISLAB.NS', 'DIXON.NS', 'LALPATHLAB.NS', 'DRREDDY.NS', 'EIDPARRY.NS', 'EIHOTEL.NS', 'EICHERMOT.NS', 'ELECON.NS', 'ELGIEQUIP.NS', 'EMAMILTD.NS', 'EMCURE.NS', 'ENDURANCE.NS', 'ENGINERSIN.NS', 'ERIS.NS', 'ESCORTS.NS', 'ETERNAL.NS', 'EXIDEIND.NS', 'NYKAA.NS', 'FEDERALBNK.NS', 'FACT.NS', 'FINCABLES.NS', 'FINPIPE.NS', 'FSL.NS', 'FIVESTAR.NS', 'FORTIS.NS', 'GAIL.NS', 'GVT&D.NS', 'GMRAIRPORT.NS', 'GRSE.NS', 'GICRE.NS', 'GILLETTE.NS', 'GLAND.NS', 'GLAXO.NS', 'GLENMARK.NS', 'MEDANTA.NS', 'GODIGIT.NS', 'GPIL.NS', 'GODFRYPHLP.NS', 'GODREJAGRO.NS', 'GODREJCP.NS', 'GODREJIND.NS', 'GODREJPROP.NS', 'GRANULES.NS', 'GRAPHITE.NS', 'GRASIM.NS', 'GRAVITA.NS', 'GESHIP.NS', 'FLUOROCHEM.NS', 'GUJGASLTD.NS', 'GMDCLTD.NS', 'GNFC.NS', 'GPPL.NS', 'GSPL.NS', 'HEG.NS', 'HBLENGINE.NS', 'HCLTECH.NS', 'HDFCAMC.NS', 'HDFCBANK.NS', 'HDFCLIFE.NS', 'HFCL.NS', 'HAPPSTMNDS.NS', 'HAVELLS.NS', 'HEROMOTOCO.NS', 'HSCL.NS', 'HINDALCO.NS', 'HAL.NS', 'HINDCOPPER.NS', 'HINDPETRO.NS', 'HINDUNILVR.NS', 'HINDZINC.NS', 'POWERINDIA.NS', 'HOMEFIRST.NS', 'HONASA.NS', 'HONAUT.NS', 'HUDCO.NS', 'HYUNDAI.NS', 'ICICIBANK.NS', 'ICICIGI.NS', 'ICICIPRULI.NS', 'IDBI.NS', 'IDFCFIRSTB.NS', 'IFCI.NS', 'IIFL.NS', 'INOXINDIA.NS', 'IRB.NS', 'IRCON.NS', 'ITC.NS', 'ITI.NS', 'INDGN.NS', 'INDIACEM.NS', 'INDIAMART.NS', 'INDIANB.NS', 'IEX.NS', 'INDHOTEL.NS', 'IOC.NS', 'IOB.NS', 'IRCTC.NS', 'IRFC.NS', 'IREDA.NS', 'IGL.NS', 'INDUSTOWER.NS', 'INDUSINDBK.NS', 'NAUKRI.NS', 'INFY.NS', 'INOXWIND.NS', 'INTELLECT.NS', 'INDIGO.NS', 'IGIL.NS', 'IKS.NS', 'IPCALAB.NS', 'JBCHEPHARM.NS', 'JKCEMENT.NS', 'JBMA.NS', 'JKTYRE.NS', 'JMFINANCIL.NS', 'JSWENERGY.NS', 'JSWHL.NS', 'JSWINFRA.NS', 'JSWSTEEL.NS', 'JPPOWER.NS', 'J&KBANK.NS', 'JINDALSAW.NS', 'JSL.NS', 'JINDALSTEL.NS', 'JIOFIN.NS', 'JUBLFOOD.NS', 'JUBLINGREA.NS', 'JUBLPHARMA.NS', 'JWL.NS', 'JUSTDIAL.NS', 'JYOTHYLAB.NS', 'JYOTICNC.NS', 'KPRMILL.NS', 'KEI.NS', 'KNRCON.NS', 'KPITTECH.NS', 'KAJARIACER.NS', 'KPIL.NS', 'KALYANKJIL.NS', 'KANSAINER.NS', 'KARURVYSYA.NS', 'KAYNES.NS', 'KEC.NS', 'KFINTECH.NS', 'KIRLOSBROS.NS', 'KIRLOSENG.NS', 'KOTAKBANK.NS', 'KIMS.NS', 'LTF.NS', 'LTTS.NS', 'LICHSGFIN.NS', 'LTFOODS.NS', 'LTIM.NS', 'LT.NS', 'LATENTVIEW.NS', 'LAURUSLABS.NS', 'LEMONTREE.NS', 'LICI.NS', 'LINDEINDIA.NS', 'LLOYDSME.NS', 'LODHA.NS', 'LUPIN.NS', 'MMTC.NS', 'MRF.NS', 'MGL.NS', 'MAHSEAMLES.NS', 'M&MFIN.NS', 'M&M.NS', 'MANAPPURAM.NS', 'MRPL.NS', 'MANKIND.NS', 'MARICO.NS', 'MARUTI.NS', 'MASTEK.NS', 'MFSL.NS', 'MAXHEALTH.NS', 'MAZDOCK.NS', 'METROPOLIS.NS', 'MINDACORP.NS', 'MSUMI.NS', 'MOTILALOFS.NS', 'MPHASIS.NS', 'MCX.NS', 'MUTHOOTFIN.NS', 'NATCOPHARM.NS', 'NBCC.NS', 'NCC.NS', 'NHPC.NS', 'NLCINDIA.NS', 'NMDC.NS', 'NSLNISP.NS', 'NTPCGREEN.NS', 'NTPC.NS', 'NH.NS', 'NATIONALUM.NS', 'NAVA.NS', 'NAVINFLUOR.NS', 'NESTLEIND.NS', 'NETWEB.NS', 'NETWORK18.NS', 'NEULANDLAB.NS', 'NEWGEN.NS', 'NAM-INDIA.NS', 'NIVABUPA.NS', 'NUVAMA.NS', 'OBEROIRLTY.NS', 'ONGC.NS', 'OIL.NS', 'OLAELEC.NS', 'OLECTRA.NS', 'PAYTM.NS', 'OFSS.NS', 'POLICYBZR.NS', 'PCBL.NS', 'PGEL.NS', 'PIIND.NS', 'PNBHOUSING.NS', 'PNCINFRA.NS', 'PTCIL.NS', 'PVRINOX.NS', 'PAGEIND.NS', 'PATANJALI.NS', 'PERSISTENT.NS', 'PETRONET.NS', 'PFIZER.NS', 'PHOENIXLTD.NS', 'PIDILITIND.NS', 'PEL.NS', 'PPLPHARMA.NS', 'POLYMED.NS', 'POLYCAB.NS', 'POONAWALLA.NS', 'PFC.NS', 'POWERGRID.NS', 'PRAJIND.NS', 'PREMIERENE.NS', 'PRESTIGE.NS', 'PNB.NS', 'RRKABEL.NS', 'RBLBANK.NS', 'RECLTD.NS', 'RHIM.NS', 'RITES.NS', 'RADICO.NS', 'RVNL.NS', 'RAILTEL.NS', 'RAINBOW.NS', 'RKFORGE.NS', 'RCF.NS', 'RTNINDIA.NS', 'RAYMONDLSL.NS', 'RAYMOND.NS', 'REDINGTON.NS', 'RELIANCE.NS', 'RPOWER.NS', 'ROUTE.NS', 'SBFC.NS', 'SBICARD.NS', 'SBILIFE.NS', 'SJVN.NS', 'SKFINDIA.NS', 'SRF.NS', 'SAGILITY.NS', 'SAILIFE.NS', 'SAMMAANCAP.NS', 'MOTHERSON.NS', 'SAPPHIRE.NS', 'SARDAEN.NS', 'SAREGAMA.NS', 'SCHAEFFLER.NS', 'SCHNEIDER.NS', 'SCI.NS', 'SHREECEM.NS', 'RENUKA.NS', 'SHRIRAMFIN.NS', 'SHYAMMETL.NS', 'SIEMENS.NS', 'SIGNATURE.NS', 'SOBHA.NS', 'SOLARINDS.NS', 'SONACOMS.NS', 'SONATSOFTW.NS', 'STARHEALTH.NS', 'SBIN.NS', 'SAIL.NS', 'SWSOLAR.NS', 'SUMICHEM.NS', 'SUNPHARMA.NS', 'SUNTV.NS', 'SUNDARMFIN.NS', 'SUNDRMFAST.NS', 'SUPREMEIND.NS', 'SUZLON.NS', 'SWANENERGY.NS', 'SWIGGY.NS', 'SYNGENE.NS', 'SYRMA.NS', 'TBOTEK.NS', 'TVSMOTOR.NS', 'TANLA.NS', 'TATACHEM.NS', 'TATACOMM.NS', 'TCS.NS', 'TATACONSUM.NS', 'TATAELXSI.NS', 'TATAINVEST.NS', 'TATAMOTORS.NS', 'TATAPOWER.NS', 'TATASTEEL.NS', 'TATATECH.NS', 'TTML.NS', 'TECHM.NS', 'TECHNOE.NS', 'TEJASNET.NS', 'NIACL.NS', 'RAMCOCEM.NS', 'THERMAX.NS', 'TIMKEN.NS', 'TITAGARH.NS', 'TITAN.NS', 'TORNTPHARM.NS', 'TORNTPOWER.NS', 'TARIL.NS', 'TRENT.NS', 'TRIDENT.NS', 'TRIVENI.NS', 'TRITURBINE.NS', 'TIINDIA.NS', 'UCOBANK.NS', 'UNOMINDA.NS', 'UPL.NS', 'UTIAMC.NS', 'ULTRACEMCO.NS', 'UNIONBANK.NS', 'UBL.NS', 'UNITDSPR.NS', 'USHAMART.NS', 'VGUARD.NS', 'DBREALTY.NS', 'VTL.NS', 'VBL.NS', 'MANYAVAR.NS', 'VEDL.NS', 'VIJAYA.NS', 'VMM.NS', 'IDEA.NS', 'VOLTAS.NS', 'WAAREEENER.NS', 'WELCORP.NS', 'WELSPUNLIV.NS', 'WESTLIFE.NS', 'WHIRLPOOL.NS', 'WIPRO.NS', 'WOCKPHARMA.NS', 'YESBANK.NS', 'ZFCVINDIA.NS', 'ZEEL.NS', 'ZENTEC.NS', 'ZENSARTECH.NS', 'ZYDUSLIFE.NS', 'ECLERX.NS']\n",
    "\n",
    "\n",
    "START_DATE     = \"2010-01-01\"\n",
    "END_DATE       = None      # until today\n",
    "LOOKBACK_DAYS  = 252 * 2   # use last ~2 years for parameter estimation\n",
    "HORIZON_DAYS   = 10        # swing horizon in trading days\n",
    "PATHS          = 20000     # MC paths per ticker\n",
    "SEED           = 12345\n",
    "DRIFT_SHRINK   = 0.5       # 0..1 (0 = ignore drift, 1 = full estimated drift)\n",
    "TARGET_UP_PCT  = 0.05      # +5% target (touch probability & first-passage)\n",
    "TARGET_DN_PCT  = 0.05      # -5% target\n",
    "\n",
    "SAVE_CSV       = \"swing_mc_screen.csv\"\n",
    "# ==============================\n",
    "\n",
    "TRADING_DAYS = 252\n",
    "\n",
    "def download_daily_adj_close(ticker: str, start: str, end: str):\n",
    "    df = yf.download(\n",
    "        ticker,\n",
    "        start=start,\n",
    "        end=end,\n",
    "        auto_adjust=True,\n",
    "        progress=False,\n",
    "        threads=False\n",
    "    )\n",
    "    if isinstance(df, pd.DataFrame) and not df.empty:\n",
    "        df = df.dropna()\n",
    "        return df\n",
    "    return pd.DataFrame()\n",
    "\n",
    "def estimate_mu_sigma(prices: pd.Series, lookback_days: int) -> Tuple[float, float, float]:\n",
    "    \"\"\"\n",
    "    Estimate annualized (mu, sigma) from the last lookback_days.\n",
    "    Returns (S0, mu_ann, sigma_ann)\n",
    "    \"\"\"\n",
    "    if len(prices) < 60:\n",
    "        raise ValueError(\"Not enough price history (need >= 60 daily rows).\")\n",
    "    tail = prices.iloc[-lookback_days:] if len(prices) >= lookback_days else prices\n",
    "    log_ret = np.log(tail).diff().dropna()\n",
    "    mu_ann = float(log_ret.mean()) * TRADING_DAYS\n",
    "    sigma_ann = float(log_ret.std(ddof=1)) * math.sqrt(TRADING_DAYS)\n",
    "    S0 = float(tail.iloc[-1])\n",
    "    # shrink drift to reduce noise\n",
    "    mu_ann = DRIFT_SHRINK * mu_ann\n",
    "    return S0, mu_ann, sigma_ann\n",
    "\n",
    "def simulate_gbm(S0: float, mu_ann: float, sigma_ann: float, horizon_days: int, paths: int, seed: int) -> np.ndarray:\n",
    "    \"\"\"\n",
    "    Simulate GBM paths at daily steps. Returns S with shape (steps+1, paths).\n",
    "    \"\"\"\n",
    "    rng = np.random.default_rng(seed)\n",
    "    dt = 1.0 / TRADING_DAYS\n",
    "    steps = int(horizon_days)\n",
    "    Z = rng.standard_normal((steps, paths))\n",
    "    increments = (mu_ann - 0.5 * sigma_ann**2) * dt + sigma_ann * math.sqrt(dt) * Z\n",
    "    log_cum = np.vstack([np.zeros(paths), np.cumsum(increments, axis=0)])\n",
    "    S = S0 * np.exp(log_cum)\n",
    "    return S\n",
    "\n",
    "def first_cross_idx(S: np.ndarray, level: float, direction: str) -> np.ndarray:\n",
    "    \"\"\"\n",
    "    Return the first index where S crosses 'level' in 'up' or 'down' direction.\n",
    "    If never, returns steps+1 sentinel.\n",
    "    \"\"\"\n",
    "    cond = (S >= level) if direction == \"up\" else (S <= level)\n",
    "    cond[0, :] = False  # ignore t=0\n",
    "    idx = cond.argmax(axis=0)\n",
    "    never = ~cond.any(axis=0)\n",
    "    idx[never] = S.shape[0]\n",
    "    return idx\n",
    "\n",
    "def evaluate_ticker(ticker: str) -> Dict[str, float]:\n",
    "    df = download_daily_adj_close(ticker, START_DATE, END_DATE)\n",
    "    if df.empty or \"Close\" not in df.columns:\n",
    "        return {\"ticker\": ticker, \"status\": \"no_data\"}\n",
    "\n",
    "    prices = df[\"Close\"].astype(float)\n",
    "    try:\n",
    "        S0, mu_ann, sigma_ann = estimate_mu_sigma(prices, LOOKBACK_DAYS)\n",
    "    except Exception as e:\n",
    "        return {\"ticker\": ticker, \"status\": f\"param_error: {e}\"}\n",
    "\n",
    "    S = simulate_gbm(S0, mu_ann, sigma_ann, HORIZON_DAYS, PATHS, SEED)\n",
    "\n",
    "    S_T = S[-1, :]\n",
    "    ret_T = S_T / S0 - 1.0\n",
    "\n",
    "    # Up/Down probabilities at horizon\n",
    "    p_up = float(np.mean(S_T > S0))\n",
    "    p_down = float(np.mean(S_T < S0))\n",
    "\n",
    "    # Touch probabilities (ever touch within horizon)\n",
    "    up_level = S0 * (1.0 + TARGET_UP_PCT)\n",
    "    dn_level = S0 * (1.0 - TARGET_DN_PCT)\n",
    "\n",
    "    touch_up = (S >= up_level).any(axis=0)\n",
    "    touch_dn = (S <= dn_level).any(axis=0)\n",
    "    p_touch_up = float(np.mean(touch_up))\n",
    "    p_touch_dn = float(np.mean(touch_dn))\n",
    "\n",
    "    # First-passage odds\n",
    "    idx_up = first_cross_idx(S, up_level, \"up\")\n",
    "    idx_dn = first_cross_idx(S, dn_level, \"down\")\n",
    "    steps = S.shape[0] - 1\n",
    "    up_first = idx_up < idx_dn\n",
    "    dn_first = idx_dn < idx_up\n",
    "    none_first = (idx_up > steps) & (idx_dn > steps)\n",
    "    p_up_before_dn = float(np.mean(up_first))\n",
    "    p_dn_before_up = float(np.mean(dn_first))\n",
    "    p_neither = float(np.mean(none_first))\n",
    "\n",
    "    # Summary stats of return distribution\n",
    "    exp_ret = float(np.mean(ret_T))\n",
    "    median_ret = float(np.median(ret_T))\n",
    "    q05 = float(np.percentile(ret_T, 5))\n",
    "    q95 = float(np.percentile(ret_T, 95))\n",
    "\n",
    "    out = {\n",
    "        \"ticker\": ticker,\n",
    "        \"status\": \"ok\",\n",
    "        \"S0\": S0,\n",
    "        \"mu_ann\": mu_ann,\n",
    "        \"sigma_ann\": sigma_ann,\n",
    "        \"horizon_days\": HORIZON_DAYS,\n",
    "        \"P_up\": p_up,\n",
    "        \"P_down\": p_down,\n",
    "        \"P_touch_+{:.0f}%\".format(TARGET_UP_PCT*100): p_touch_up,\n",
    "        \"P_touch_-{:.0f}%\".format(TARGET_DN_PCT*100): p_touch_dn,\n",
    "        \"P(+target first)\": p_up_before_dn,\n",
    "        \"P(-target first)\": p_dn_before_up,\n",
    "        \"P(neither target)\": p_neither,\n",
    "        \"E[ret]\": exp_ret,\n",
    "        \"Median[ret]\": median_ret,\n",
    "        \"Q05[ret]\": q05,\n",
    "        \"Q95[ret]\": q95,\n",
    "    }\n",
    "    return out\n",
    "\n",
    "def main():\n",
    "    rows = []\n",
    "    print(f\"Running swing MC screen on {len(TICKERS)} tickers | horizon={HORIZON_DAYS}d paths={PATHS}\")\n",
    "    for t in TICKERS:\n",
    "        print(f\"  > {t}\")\n",
    "        res = evaluate_ticker(t)\n",
    "        rows.append(res)\n",
    "\n",
    "    df = pd.DataFrame(rows)\n",
    "    if df.empty:\n",
    "        print(\"No results.\")\n",
    "        return\n",
    "\n",
    "    # Order good-to-bad (higher P_up, then higher E[ret], then lower sigma)\n",
    "    by_cols = [\"P_up\", \"E[ret]\", \"sigma_ann\"]\n",
    "    for c in [c for c in by_cols if c not in df.columns]:\n",
    "        df[c] = np.nan\n",
    "\n",
    "    df = df.sort_values(by=[\"status\"] + by_cols, ascending=[True, False, False, True])\n",
    "\n",
    "    # Round pretty\n",
    "    prob_cols = [c for c in df.columns if c.startswith(\"P\")]\n",
    "    df[prob_cols] = df[prob_cols].astype(float).round(3)\n",
    "    df[\"E[ret]\"] = df[\"E[ret]\"].astype(float).round(4)\n",
    "    df[\"Median[ret]\"] = df[\"Median[ret]\"].astype(float).round(4)\n",
    "    for col in [\"mu_ann\", \"sigma_ann\"]:\n",
    "        df[col] = df[col].astype(float).round(4)\n",
    "\n",
    "    print(\"\\n=== Swing MC Screen ===\")\n",
    "    print(df.to_string(index=False))\n",
    "\n",
    "    if SAVE_CSV:\n",
    "        df.to_csv(SAVE_CSV, index=False)\n",
    "        print(f\"\\nSaved: {SAVE_CSV}\")\n",
    "\n",
    "if __name__ == \"__main__\":\n",
    "    main()\n"
   ]
  }
 ],
 "metadata": {
  "kernelspec": {
   "display_name": ".talib",
   "language": "python",
   "name": "python3"
  },
  "language_info": {
   "codemirror_mode": {
    "name": "ipython",
    "version": 3
   },
   "file_extension": ".py",
   "mimetype": "text/x-python",
   "name": "python",
   "nbconvert_exporter": "python",
   "pygments_lexer": "ipython3",
   "version": "3.12.8"
  }
 },
 "nbformat": 4,
 "nbformat_minor": 5
}
