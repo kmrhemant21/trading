{
 "cells": [
  {
   "cell_type": "code",
   "execution_count": 1,
   "id": "b1dd6b3e",
   "metadata": {},
   "outputs": [
    {
     "data": {
      "text/plain": [
       "'stock_bot_data.jsonl'"
      ]
     },
     "execution_count": 1,
     "metadata": {},
     "output_type": "execute_result"
    }
   ],
   "source": [
    "import random\n",
    "import json\n",
    "\n",
    "# Define some sample tickers and patterns\n",
    "tickers = ['AAPL', 'TSLA', 'MSFT', 'GOOG', 'AMZN', 'NFLX', 'META', 'IBM', 'JPM', 'BAC']\n",
    "timeframes = ['daily', 'weekly', 'monthly']\n",
    "indicators = ['14-period RSI', '5×20 EMA crossover', '20-period Bollinger Bands', 'MACD (12,26,9)', '50-day SMA']\n",
    "strategies = ['momentum', 'mean-reversion', 'breakout', 'trend-following']\n",
    "\n",
    "def generate_prompt_completion():\n",
    "    choice = random.choice(['indicator', 'trend', 'signal', 'portfolio'])\n",
    "    ticker = random.choice(tickers)\n",
    "    if choice == 'indicator':\n",
    "        ind = random.choice(indicators)\n",
    "        tf = random.choice(timeframes)\n",
    "        prompt = f\"Analyze the {ind} for {ticker} on the {tf} timeframe and suggest an action.\"\n",
    "        # Generate synthetic indicator values\n",
    "        if 'RSI' in ind:\n",
    "            val = round(random.uniform(10, 90), 1)\n",
    "            comp = f\"The {ind} for {ticker} on the {tf} timeframe is {val}. \"\n",
    "            if val > 70:\n",
    "                comp += \"This indicates overbought conditions; consider taking profits or waiting for a pullback.\"\n",
    "            elif val < 30:\n",
    "                comp += \"This indicates oversold conditions; consider a buying opportunity.\"\n",
    "            else:\n",
    "                comp += \"This is in a neutral zone; hold current positions.\"\n",
    "        elif 'EMA' in ind:\n",
    "            short = round(random.uniform(50, 150), 2)\n",
    "            long = round(short - random.uniform(-5, 5), 2)\n",
    "            comp = (f\"The short-term EMA is {short} and the long-term EMA is {long}. \"\n",
    "                    + (\"Bullish crossover detected; consider entering a long position.\"\n",
    "                       if short > long else \"Bearish crossover detected; consider exiting long positions or shorting.\"))\n",
    "        elif 'Bollinger' in ind:\n",
    "            mid = round(random.uniform(100, 200), 2)\n",
    "            upper = round(mid + random.uniform(1, 5), 2)\n",
    "            lower = round(mid - random.uniform(1, 5), 2)\n",
    "            comp = (f\"{ticker}'s price is near the bands: upper={upper}, middle={mid}, lower={lower}. \"\n",
    "                    + \"A breakout above upper band suggests momentum; a move below lower band suggests mean reversion.\")\n",
    "        elif 'MACD' in ind:\n",
    "            macd = round(random.uniform(-5, 5), 2)\n",
    "            signal = round(macd + random.uniform(-1, 1), 2)\n",
    "            comp = (f\"MACD line is {macd} and signal line is {signal}. \"\n",
    "                    + (\"MACD above signal line; bullish bias.\" if macd > signal else \"MACD below signal line; bearish bias.\"))\n",
    "        else:  # SMA\n",
    "            sma = round(random.uniform(100, 300), 2)\n",
    "            price = round(sma + random.uniform(-10, 10), 2)\n",
    "            comp = (f\"The current price is {price} and the 50-day SMA is {sma}. \"\n",
    "                    + (\"Positive trend; price above SMA.\" if price > sma else \"Negative trend; price below SMA.\"))\n",
    "    elif choice == 'trend':\n",
    "        strat = random.choice(strategies)\n",
    "        prompt = f\"Describe the current {strat} trend for {ticker} using multiple indicators.\"\n",
    "        comp = f\"{ticker} is showing a {strat} trend: price above SMA and EMAs, RSI at {round(random.uniform(40, 60),1)}, volume trending upward.\"\n",
    "    elif choice == 'signal':\n",
    "        strat = random.choice(strategies)\n",
    "        prompt = f\"Generate a {strat} trade signal for {ticker} with entry and exit criteria.\"\n",
    "        entry = round(random.uniform(100, 200), 2)\n",
    "        exit_p = entry + random.uniform(2, 10)\n",
    "        stop = entry - random.uniform(2, 10)\n",
    "        comp = (f\"Enter long at {entry}, set take-profit at {round(exit_p,2)}, stop-loss at {round(stop,2)} \"\n",
    "                + \"based on strategy and risk management.\")\n",
    "    else:  # portfolio\n",
    "        holdings = random.sample(tickers, k=3)\n",
    "        prompt = f\"Summarize the portfolio performance for {', '.join(holdings)} over the past month.\"\n",
    "        returns = [round(random.uniform(-5, 15), 1) for _ in holdings]\n",
    "        comp = \" | \".join(f\"{t}: {r}%\" for t, r in zip(holdings, returns))\n",
    "        comp = f\"Over the past month, \" + comp + \". Overall volatility moderate; consider rebalancing.\"\n",
    "    return {\"prompt\": prompt, \"completion\": comp}\n",
    "\n",
    "# Generate 2000 entries\n",
    "entries = [generate_prompt_completion() for _ in range(2000)]\n",
    "\n",
    "# Save to JSONL\n",
    "file_path = 'stock_bot_data.jsonl'\n",
    "with open(file_path, 'w') as f:\n",
    "    for entry in entries:\n",
    "        f.write(json.dumps(entry) + '\\n')\n",
    "\n",
    "file_path\n"
   ]
  }
 ],
 "metadata": {
  "kernelspec": {
   "display_name": ".venv",
   "language": "python",
   "name": "python3"
  },
  "language_info": {
   "codemirror_mode": {
    "name": "ipython",
    "version": 3
   },
   "file_extension": ".py",
   "mimetype": "text/x-python",
   "name": "python",
   "nbconvert_exporter": "python",
   "pygments_lexer": "ipython3",
   "version": "3.11.4"
  }
 },
 "nbformat": 4,
 "nbformat_minor": 5
}
